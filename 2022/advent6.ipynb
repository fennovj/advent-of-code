{
 "cells": [
  {
   "cell_type": "code",
   "execution_count": 10,
   "metadata": {},
   "outputs": [],
   "source": [
    "import advent\n",
    "data = advent.get_lines(6)[0]\n"
   ]
  },
  {
   "cell_type": "code",
   "execution_count": 11,
   "metadata": {},
   "outputs": [
    {
     "name": "stdout",
     "output_type": "stream",
     "text": [
      "1080\n",
      "dcmv\n"
     ]
    }
   ],
   "source": [
    "for i in range(len(data)-4):\n",
    "    if data[i] != data[i+1] and \\\n",
    "        data[i] != data[i+2] and \\\n",
    "        data[i] != data[i+3] and \\\n",
    "        data[i+1] != data[i+2] and \\\n",
    "        data[i+1] != data[i+3] and \\\n",
    "        data[i+2] != data[i+3]:\n",
    "        print(i+4)\n",
    "        break\n",
    "\n",
    "print(data[i:(i+4)])"
   ]
  },
  {
   "cell_type": "code",
   "execution_count": 12,
   "metadata": {},
   "outputs": [
    {
     "name": "stdout",
     "output_type": "stream",
     "text": [
      "3645\n"
     ]
    }
   ],
   "source": [
    "# wrong guess for part 1 lol\n",
    "# let's just brute force it with sets\n",
    "for i in range(len(data)-14):\n",
    "    chars = set(data[i] for i in range(i, i+14))\n",
    "    if len(chars) == 14:\n",
    "        print(i+14)\n",
    "        break"
   ]
  },
  {
   "cell_type": "code",
   "execution_count": null,
   "metadata": {},
   "outputs": [],
   "source": []
  }
 ],
 "metadata": {
  "kernelspec": {
   "display_name": "Python 3.8.10 ('env': venv)",
   "language": "python",
   "name": "python3"
  },
  "language_info": {
   "codemirror_mode": {
    "name": "ipython",
    "version": 3
   },
   "file_extension": ".py",
   "mimetype": "text/x-python",
   "name": "python",
   "nbconvert_exporter": "python",
   "pygments_lexer": "ipython3",
   "version": "3.8.10"
  },
  "orig_nbformat": 4,
  "vscode": {
   "interpreter": {
    "hash": "5d7396d72a031e084ca8a7a10bc9e074a727d6785ddc3f255c136fb1ccc8ec02"
   }
  }
 },
 "nbformat": 4,
 "nbformat_minor": 2
}
