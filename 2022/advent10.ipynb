{
 "cells": [
  {
   "cell_type": "code",
   "execution_count": 1,
   "metadata": {},
   "outputs": [],
   "source": [
    "import advent\n",
    "\n",
    "code = advent.get_lines(10)"
   ]
  },
  {
   "cell_type": "code",
   "execution_count": 2,
   "metadata": {},
   "outputs": [
    {
     "name": "stdout",
     "output_type": "stream",
     "text": [
      "14420\n"
     ]
    }
   ],
   "source": [
    "x, cycle, result = 1, 1, 0\n",
    "\n",
    "for line in code:\n",
    "    if cycle % 40 == 20: result += (x * cycle)\n",
    "    if line.startswith('noop'):\n",
    "        cycle += 1\n",
    "        continue\n",
    "    add = int(line.split(' ')[-1])\n",
    "    if (cycle + 1) % 40 == 20: result += (x * (cycle+1))\n",
    "    x += add\n",
    "    cycle += 2\n",
    "\n",
    "print(result)\n",
    "    "
   ]
  },
  {
   "cell_type": "code",
   "execution_count": 3,
   "metadata": {},
   "outputs": [
    {
     "name": "stdout",
     "output_type": "stream",
     "text": [
      "240\n",
      "###...##..#....###..###..####..##..#..#.\n",
      "#..#.#..#.#....#..#.#..#....#.#..#.#..#.\n",
      "#..#.#....#....#..#.###....#..#..#.#..#.\n",
      "###..#.##.#....###..#..#..#...####.#..#.\n",
      "#.#..#..#.#....#.#..#..#.#....#..#.#..#.\n",
      "#..#..###.####.#..#.###..####.#..#..##..\n"
     ]
    }
   ],
   "source": [
    "x, cycle, pixels = 1, 1, []\n",
    "\n",
    "def pixel(x, cycle):\n",
    "    cycle = (cycle - 1) % 40 # horizontal position\n",
    "    return '#' if cycle in (x-1, x, x+1) else '.'\n",
    "\n",
    "\n",
    "for line in code:\n",
    "    pixels.append(pixel(x, cycle))\n",
    "    if line.startswith('noop'):\n",
    "        cycle += 1\n",
    "        continue\n",
    "    add = int(line.split(' ')[-1])\n",
    "    pixels.append(pixel(x, cycle+1))\n",
    "    x += add\n",
    "    cycle += 2\n",
    "\n",
    "\n",
    "print(len(pixels))\n",
    "viz = [''.join(pixels[i:(i+40)]) for i in [0,40, 80, 120, 160, 200]]\n",
    "print('\\n'.join(viz))\n",
    "    "
   ]
  },
  {
   "cell_type": "code",
   "execution_count": null,
   "metadata": {},
   "outputs": [],
   "source": []
  }
 ],
 "metadata": {
  "kernelspec": {
   "display_name": "Python 3.8.10 ('env': venv)",
   "language": "python",
   "name": "python3"
  },
  "language_info": {
   "codemirror_mode": {
    "name": "ipython",
    "version": 3
   },
   "file_extension": ".py",
   "mimetype": "text/x-python",
   "name": "python",
   "nbconvert_exporter": "python",
   "pygments_lexer": "ipython3",
   "version": "3.8.10"
  },
  "orig_nbformat": 4,
  "vscode": {
   "interpreter": {
    "hash": "5d7396d72a031e084ca8a7a10bc9e074a727d6785ddc3f255c136fb1ccc8ec02"
   }
  }
 },
 "nbformat": 4,
 "nbformat_minor": 2
}
