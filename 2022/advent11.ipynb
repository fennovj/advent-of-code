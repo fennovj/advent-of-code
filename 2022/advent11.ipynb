{
 "cells": [
  {
   "cell_type": "code",
   "execution_count": 5,
   "metadata": {},
   "outputs": [],
   "source": [
    "import advent\n",
    "\n",
    "def parse_monkey(monkey):\n",
    "    starting_items = monkey[1].split(': ')[-1].split(', ')\n",
    "    starting_items = list(map(int, starting_items))\n",
    "    operation = monkey[2].split(' = ')[-1]\n",
    "    test = int(monkey[3].split(' ')[-1])\n",
    "    true_throw = int(monkey[4].split(' ')[-1])\n",
    "    false_throw = int(monkey[5].split(' ')[-1])\n",
    "    return {\n",
    "        'items': starting_items,\n",
    "        'operation': operation,\n",
    "        'test': test,\n",
    "        'true_throw': true_throw,\n",
    "        'false_throw': false_throw\n",
    "    }"
   ]
  },
  {
   "cell_type": "code",
   "execution_count": 8,
   "metadata": {},
   "outputs": [
    {
     "name": "stdout",
     "output_type": "stream",
     "text": [
      "78678\n"
     ]
    }
   ],
   "source": [
    "def apply_operation(op, old):\n",
    "    l, o, r = op.split(' ')\n",
    "    l = old if l == 'old' else int(l)\n",
    "    r = old if r == 'old' else int(r)\n",
    "    return l + r if o == '+' else l * r\n",
    "\n",
    "\n",
    "monkeys = list(map(parse_monkey, advent.get_lines_doublenewline(11)))\n",
    "items_thrown = dict((i, 0) for i in range(len(monkeys)))\n",
    "    \n",
    "for round in range(20):\n",
    "    for m in range(len(monkeys)):\n",
    "        for item in monkeys[m]['items']:\n",
    "            worry = apply_operation(monkeys[m]['operation'], item) // 3\n",
    "            if worry % monkeys[m]['test'] == 0:\n",
    "                monkeys[monkeys[m]['true_throw']]['items'].append(worry)\n",
    "            else:\n",
    "                monkeys[monkeys[m]['false_throw']]['items'].append(worry)\n",
    "        \n",
    "        # remove the items from the monkey itself\n",
    "        items_thrown[m] += len(monkeys[m]['items'])\n",
    "        monkeys[m]['items'] = []\n",
    "\n",
    "highest = sorted(items_thrown.values())[-2:]\n",
    "print(highest[0] * highest[1])"
   ]
  },
  {
   "cell_type": "code",
   "execution_count": 9,
   "metadata": {},
   "outputs": [
    {
     "name": "stdout",
     "output_type": "stream",
     "text": [
      "15333249714\n"
     ]
    }
   ],
   "source": [
    "from math import prod\n",
    "\n",
    "monkeys = list(map(parse_monkey, advent.get_lines_doublenewline(11)))\n",
    "W = prod([monkeys[m]['test'] for m in range(len(monkeys))])\n",
    "items_thrown = dict((i, 0) for i in range(len(monkeys)))\n",
    "    \n",
    "for round in range(10000):\n",
    "    for m in range(len(monkeys)):\n",
    "        for item in monkeys[m]['items']:\n",
    "            worry = apply_operation(monkeys[m]['operation'], item) % W\n",
    "            if worry % monkeys[m]['test'] == 0:\n",
    "                monkeys[monkeys[m]['true_throw']]['items'].append(worry)\n",
    "            else:\n",
    "                monkeys[monkeys[m]['false_throw']]['items'].append(worry)\n",
    "        \n",
    "        # remove the items from the monkey itself\n",
    "        items_thrown[m] += len(monkeys[m]['items'])\n",
    "        monkeys[m]['items'] = []\n",
    "\n",
    "highest = sorted(items_thrown.values())[-2:]\n",
    "print(highest[0] * highest[1])"
   ]
  }
 ],
 "metadata": {
  "kernelspec": {
   "display_name": "env",
   "language": "python",
   "name": "python3"
  },
  "language_info": {
   "codemirror_mode": {
    "name": "ipython",
    "version": 3
   },
   "file_extension": ".py",
   "mimetype": "text/x-python",
   "name": "python",
   "nbconvert_exporter": "python",
   "pygments_lexer": "ipython3",
   "version": "3.8.10 (default, Nov 14 2022, 12:59:47) \n[GCC 9.4.0]"
  },
  "orig_nbformat": 4,
  "vscode": {
   "interpreter": {
    "hash": "5d7396d72a031e084ca8a7a10bc9e074a727d6785ddc3f255c136fb1ccc8ec02"
   }
  }
 },
 "nbformat": 4,
 "nbformat_minor": 2
}
