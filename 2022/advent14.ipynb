{
 "cells": [
  {
   "cell_type": "code",
   "execution_count": 138,
   "metadata": {},
   "outputs": [
    {
     "name": "stdout",
     "output_type": "stream",
     "text": [
      "493 567 15 172\n"
     ]
    }
   ],
   "source": [
    "import advent\n",
    "import itertools\n",
    "import numpy as np\n",
    "import matplotlib.pyplot as plt\n",
    "\n",
    "data = advent.get_lines('14')\n",
    "\n",
    "coords = [line.split(' -> ') for line in data]\n",
    "#np.flatten(coords)\n",
    "coords_flat = list(itertools.chain(*coords))\n",
    "\n",
    "\n",
    "x = [int(i.split(',')[0]) for i in coords_flat]\n",
    "y = [int(i.split(',')[1]) for i in coords_flat]\n",
    "print(min(x), max(x), min(y), max(y))"
   ]
  },
  {
   "cell_type": "code",
   "execution_count": 139,
   "metadata": {},
   "outputs": [],
   "source": [
    "board = np.zeros((600, 200))\n",
    "#board = np.zeros((510, 20)) # for small\n",
    "\n",
    "for line in data:\n",
    "    coords = line.split(' -> ')\n",
    "    for i in range(len(coords)-1):\n",
    "        a = list(map(int, coords[i].split(',')))\n",
    "        b = list(map(int, coords[i+1].split(',')))\n",
    "\n",
    "        if a[0] == b[0] and a[1] < b[1]: board[a[0], a[1]:(b[1]+1)] = 1\n",
    "        if a[0] == b[0] and a[1] > b[1]: board[a[0], b[1]:(a[1]+1)] = 1\n",
    "        elif a[1] == b[1] and a[0] < b[0]: board[a[0]:(b[0]+1), a[1]] = 1\n",
    "        elif a[1] == b[1] and a[0] > b[0]: board[b[0]:(a[0]+1), a[1]] = 1\n"
   ]
  },
  {
   "cell_type": "code",
   "execution_count": 161,
   "metadata": {},
   "outputs": [],
   "source": [
    "tadd = lambda a, b: (a[0] + b[0], a[1] + b[1])\n",
    "\n",
    "def fall_sand(board, sand=(0,20), floor=None):\n",
    "    #print(f\"Sand now at {sand}\")\n",
    "    \n",
    "    if board[sand] == 1: return None # should only happen if the start is covered\n",
    "    # if there is a floor and we hit it, done\n",
    "    if (sand[0]+1) == floor: return sand\n",
    "    # assume the left/down/right edges of the board are entirely clear of rocks\n",
    "    # return None if sand will go into abyss\n",
    "    if (sand[0]+1) >= board.shape[0]: return None\n",
    "    if sand[1] < 1 or (sand[1]+1) >= board.shape[1]: return None\n",
    "    if board[tadd(sand, (1, 0))] == 0:\n",
    "        return fall_sand(board, tadd(sand, (1, 0)), floor)\n",
    "    if board[tadd(sand, (1, -1))] == 0:\n",
    "        return fall_sand(board, tadd(sand, (1, -1)), floor)\n",
    "    if board[tadd(sand, (1, 1))] == 0:\n",
    "        return fall_sand(board, tadd(sand, (1, 1)), floor)\n",
    "    return sand\n",
    "    "
   ]
  },
  {
   "cell_type": "code",
   "execution_count": 162,
   "metadata": {},
   "outputs": [
    {
     "name": "stdout",
     "output_type": "stream",
     "text": [
      "698\n"
     ]
    }
   ],
   "source": [
    "board_t = board.copy()[480:,:].transpose()\n",
    "sand_counter = 0\n",
    "\n",
    "while True:\n",
    "    sand_counter += 1\n",
    "    new_sand = fall_sand(board_t)\n",
    "    if new_sand is None: break\n",
    "    board_t[new_sand] = 1\n",
    "\n",
    "print(sand_counter - 1) # The last sand failed so didn't count\n",
    "    "
   ]
  },
  {
   "cell_type": "code",
   "execution_count": 163,
   "metadata": {},
   "outputs": [
    {
     "data": {
      "text/plain": [
       "<matplotlib.image.AxesImage at 0x117fa1070>"
      ]
     },
     "execution_count": 163,
     "metadata": {},
     "output_type": "execute_result"
    },
    {
     "data": {
      "image/png": "[encoded data removed]",
      "text/plain": [
       "<Figure size 400x666.667 with 1 Axes>"
      ]
     },
     "metadata": {},
     "output_type": "display_data"
    }
   ],
   "source": [
    "board_t[(0, 20)] = 0.5\n",
    "plt.matshow(board_t)"
   ]
  },
  {
   "cell_type": "code",
   "execution_count": 166,
   "metadata": {},
   "outputs": [
    {
     "name": "stdout",
     "output_type": "stream",
     "text": [
      "28594\n"
     ]
    }
   ],
   "source": [
    "# for part 2, I changed the 'fall_sand' function to accept a floor parameter\n",
    "# also, the board must contain all the sand, so I gave it a 200 buffer on each side\n",
    "\n",
    "floor = max(y) + 2 # from the first cell\n",
    "\n",
    "board_t = board.copy()[480:,:].transpose()\n",
    "large_board = np.zeros((200, 500))\n",
    "large_board[:, 200:300] = board_t[:, 0:100]\n",
    "\n",
    "large_start = (0, 220)\n",
    "\n",
    "sand_counter = 0\n",
    "\n",
    "while True:\n",
    "    sand_counter += 1\n",
    "    new_sand = fall_sand(large_board, large_start, floor)\n",
    "    if new_sand is None: break\n",
    "    #print(f\"Placing sand at {new_sand}\")\n",
    "    large_board[new_sand] = 1\n",
    "\n",
    "print(sand_counter - 1) # The last sand failed so didn't count\n"
   ]
  },
  {
   "cell_type": "code",
   "execution_count": 167,
   "metadata": {},
   "outputs": [
    {
     "data": {
      "text/plain": [
       "<matplotlib.image.AxesImage at 0x124005730>"
      ]
     },
     "execution_count": 167,
     "metadata": {},
     "output_type": "execute_result"
    },
    {
     "data": {
      "image/png": "[encoded data removed]",
      "text/plain": [
       "<Figure size 1200x480 with 1 Axes>"
      ]
     },
     "metadata": {},
     "output_type": "display_data"
    }
   ],
   "source": [
    "plt.matshow(large_board)"
   ]
  }
 ],
 "metadata": {
  "kernelspec": {
   "display_name": "Python 3.8.10 ('env': venv)",
   "language": "python",
   "name": "python3"
  },
  "language_info": {
   "codemirror_mode": {
    "name": "ipython",
    "version": 3
   },
   "file_extension": ".py",
   "mimetype": "text/x-python",
   "name": "python",
   "nbconvert_exporter": "python",
   "pygments_lexer": "ipython3",
   "version": "3.8.10"
  },
  "orig_nbformat": 4,
  "vscode": {
   "interpreter": {
    "hash": "a6e0e7a52ff25650311410ec676cb128052cdfc3b848542c415d170f51f09b78"
   }
  }
 },
 "nbformat": 4,
 "nbformat_minor": 2
}
