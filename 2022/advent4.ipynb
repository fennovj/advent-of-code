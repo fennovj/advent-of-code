{
 "cells": [
  {
   "cell_type": "code",
   "execution_count": 7,
   "metadata": {},
   "outputs": [
    {
     "name": "stdout",
     "output_type": "stream",
     "text": [
      "588\n"
     ]
    },
    {
     "name": "stderr",
     "output_type": "stream",
     "text": [
      "/tmp/ipykernel_296245/795296964.py:3: ParserWarning: Falling back to the 'python' engine because the 'c' engine does not support regex separators (separators > 1 char and different from '\\s+' are interpreted as regex); you can avoid this warning by specifying engine='python'.\n",
      "  data = pd.read_csv('data/advent4.csv', sep=',|-', header=None)\n"
     ]
    }
   ],
   "source": [
    "import pandas as pd\n",
    "\n",
    "data = pd.read_csv('data/advent4.csv', sep=',|-', header=None)\n",
    "\n",
    "c = 0\n",
    "for i in range(data.shape[0]):\n",
    "    if data.iloc[i, 0] >= data.iloc[i, 2] and data.iloc[i, 1] <= data.iloc[i, 3]:\n",
    "        c += 1\n",
    "    elif data.iloc[i, 0] <= data.iloc[i, 2] and data.iloc[i, 1] >= data.iloc[i, 3]:\n",
    "        c += 1\n",
    "\n",
    "print(c)\n"
   ]
  },
  {
   "cell_type": "code",
   "execution_count": 9,
   "metadata": {},
   "outputs": [
    {
     "name": "stdout",
     "output_type": "stream",
     "text": [
      "911\n"
     ]
    }
   ],
   "source": [
    "c = 0\n",
    "for i in range(data.shape[0]):\n",
    "    if data.iloc[i, 0] > data.iloc[i, 2] and data.iloc[i, 0] > data.iloc[i, 3]:\n",
    "        c += 1\n",
    "    elif data.iloc[i, 1] < data.iloc[i, 2] and data.iloc[i, 1] < data.iloc[i, 3]:\n",
    "        c += 1\n",
    "\n",
    "print(data.shape[0] - c)"
   ]
  },
  {
   "cell_type": "code",
   "execution_count": null,
   "metadata": {},
   "outputs": [],
   "source": []
  }
 ],
 "metadata": {
  "kernelspec": {
   "display_name": "Python 3.8.10 ('env': venv)",
   "language": "python",
   "name": "python3"
  },
  "language_info": {
   "codemirror_mode": {
    "name": "ipython",
    "version": 3
   },
   "file_extension": ".py",
   "mimetype": "text/x-python",
   "name": "python",
   "nbconvert_exporter": "python",
   "pygments_lexer": "ipython3",
   "version": "3.8.10"
  },
  "orig_nbformat": 4,
  "vscode": {
   "interpreter": {
    "hash": "5d7396d72a031e084ca8a7a10bc9e074a727d6785ddc3f255c136fb1ccc8ec02"
   }
  }
 },
 "nbformat": 4,
 "nbformat_minor": 2
}
