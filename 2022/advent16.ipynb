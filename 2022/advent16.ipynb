{
 "cells": [
  {
   "cell_type": "code",
   "execution_count": 8,
   "metadata": {},
   "outputs": [],
   "source": [
    "import advent\n",
    "import re\n",
    "\n",
    "def parse_line(line):\n",
    "    words = line.split(' ')\n",
    "    valve = words[1]\n",
    "    flow = int(words[4].split('=')[1][:-1])\n",
    "    outs = re.split('valves? ', line)[1].split(', ')\n",
    "    return (valve, flow, outs)\n",
    "\n",
    "data = advent.get_lines(16, map_fn=parse_line)\n",
    "\n",
    "data_dict = dict((line[0], (line[1], line[2])) for line in data)"
   ]
  },
  {
   "cell_type": "code",
   "execution_count": 9,
   "metadata": {},
   "outputs": [
    {
     "data": {
      "text/plain": [
       "'CU-FF-GG-IZ-JH-OI-PA-QZ-SZ-TR-TU-UZ-XF-YL-ZL'"
      ]
     },
     "execution_count": 9,
     "metadata": {},
     "output_type": "execute_result"
    }
   ],
   "source": [
    "all_open_valves = '-'.join(sorted([v for v in data_dict if data_dict[v][0] > 0]))\n",
    "all_open_valves"
   ]
  },
  {
   "cell_type": "code",
   "execution_count": 10,
   "metadata": {},
   "outputs": [
    {
     "data": {
      "text/plain": [
       "1641"
      ]
     },
     "execution_count": 10,
     "metadata": {},
     "output_type": "execute_result"
    }
   ],
   "source": [
    "# Approach: recurse on state being: (current_valve, opened_valves, minute)\n",
    "from functools import lru_cache\n",
    "\n",
    "pressure = lambda valves: sum(map(lambda x: data_dict[x][0], filter(None, valves.split('-'))))\n",
    "full_pressure = pressure(all_open_valves)\n",
    "\n",
    "@lru_cache(maxsize=None)\n",
    "def maximum_pressure(current_valve='AA', opened_valves=\"\", minute=1):\n",
    "    if minute == 30: return pressure(opened_valves)\n",
    "    if opened_valves == all_open_valves: return (30 + 1 - minute) * full_pressure\n",
    "\n",
    "    values = []\n",
    "    # possible actions: open if current valve is not open\n",
    "    if current_valve not in opened_valves and current_valve in all_open_valves:\n",
    "        opened_valves_arr = opened_valves.split('-')\n",
    "        new_opened_valves = '-'.join(sorted(opened_valves_arr + [current_valve]))\n",
    "        values.append(maximum_pressure(current_valve, new_opened_valves, minute+1))\n",
    "    # possible action: move\n",
    "    # !!! This is dumb. to reduce runtime, only allow moves 'towards' an open valve\n",
    "    for adj in data_dict[current_valve][1]:\n",
    "        #print(current_valve, adj, len(opened_valves))\n",
    "        values.append(maximum_pressure(adj, opened_valves, minute+1))\n",
    "    \n",
    "    return pressure(opened_valves) + max(values)\n",
    "\n",
    "maximum_pressure('AA', \"\", 1)"
   ]
  },
  {
   "cell_type": "code",
   "execution_count": 28,
   "metadata": {},
   "outputs": [
    {
     "data": {
      "text/plain": [
       "2261"
      ]
     },
     "execution_count": 28,
     "metadata": {},
     "output_type": "execute_result"
    }
   ],
   "source": [
    "# (valve, elephant, openened) -> (minute, max_pressure)\n",
    "# We override the value if we find a result with a lower minute/higher max_pressure\n",
    "# becauase with a lower minute, max_pressure will ALWAYS be higher\n",
    "cache = {}\n",
    "\n",
    "#@lru_cache(maxsize=None)\n",
    "def maximum_pressure_elephant(current_valve='AA', current_elephant='AA', opened_valves=\"\", minute=1):\n",
    "    if minute == 26: return pressure(opened_valves)\n",
    "    if opened_valves == '-' + all_open_valves: return (26 + 1 - minute) * full_pressure\n",
    "\n",
    "    # Since human and elephant are symmetric, order then such that human<= elephant\n",
    "    if current_valve > current_elephant:\n",
    "        current_valve, current_elephant = current_elephant, current_valve\n",
    "\n",
    "    # First, lookup in cache:\n",
    "    # TODO: also look up if there is an entry with a strictly larger opened_valves\n",
    "    if (current_valve, current_elephant, opened_valves) in cache:\n",
    "        value = cache[(current_valve, current_elephant, opened_valves)]\n",
    "        if value[0] < minute: return -999 # This path is not optimal, prune it\n",
    "        elif value[0] == minute: return value[1] # Cache\n",
    "        # Otherwise, this path is 'maybe optimal', so continue and store the result in cache\n",
    "\n",
    "    # Possible actions: open/move. move/open. open/open. or move/move.\n",
    "\n",
    "    values = []\n",
    "    # possible actions: open if current valve is not open\n",
    "    if current_valve not in opened_valves and current_valve in all_open_valves:\n",
    "        opened_valves_arr = opened_valves.split('-')\n",
    "        new_opened_valves = '-'.join(sorted(opened_valves_arr + [current_valve]))\n",
    "\n",
    "        # now check the elephant:\n",
    "        if current_elephant not in new_opened_valves and current_elephant in all_open_valves:\n",
    "            opened_valves_arr = new_opened_valves.split('-')\n",
    "            both_opened_valves = '-'.join(sorted(opened_valves_arr + [current_elephant]))\n",
    "            values.append(maximum_pressure_elephant(current_valve, current_elephant, both_opened_valves, minute+1))\n",
    "        # elephant moves\n",
    "        for adj in data_dict[current_elephant][1]:\n",
    "            values.append(maximum_pressure_elephant(current_valve, adj, new_opened_valves, minute+1))\n",
    "\n",
    "    # possible action: move\n",
    "    for adj in data_dict[current_valve][1]:\n",
    "        # now check the elephant:\n",
    "        if current_elephant not in opened_valves and current_elephant in all_open_valves:\n",
    "            opened_valves_arr = opened_valves.split('-')\n",
    "            new_opened_valves = '-'.join(sorted(opened_valves_arr + [current_elephant]))\n",
    "            values.append(maximum_pressure_elephant(adj, current_elephant, new_opened_valves, minute+1))\n",
    "        # elephant moves\n",
    "        for adj_elephant in data_dict[current_elephant][1]:\n",
    "            values.append(maximum_pressure_elephant(adj, adj_elephant, opened_valves, minute+1))\n",
    "\n",
    "    # Store in cache. We know because of the check earlier, that we can safely override the current value\n",
    "    best_value = pressure(opened_valves) + max(values)\n",
    "    cache[(current_valve, current_elephant, opened_valves)] = (minute, best_value)\n",
    "\n",
    "    return best_value\n",
    "\n",
    "maximum_pressure_elephant(\"AA\", \"AA\", \"\", 1)"
   ]
  },
  {
   "cell_type": "code",
   "execution_count": 24,
   "metadata": {},
   "outputs": [],
   "source": [
    "# input timestamp: 11  ->10  ->9   ->8  ->7->6  ->5\n",
    "# seconds taken:   17->41.1->70.6->127->140->205->290\n",
    "# Projected for timestamp=1: 20 minutes?"
   ]
  }
 ],
 "metadata": {
  "kernelspec": {
   "display_name": "env",
   "language": "python",
   "name": "python3"
  },
  "language_info": {
   "codemirror_mode": {
    "name": "ipython",
    "version": 3
   },
   "file_extension": ".py",
   "mimetype": "text/x-python",
   "name": "python",
   "nbconvert_exporter": "python",
   "pygments_lexer": "ipython3",
   "version": "3.8.10"
  },
  "orig_nbformat": 4,
  "vscode": {
   "interpreter": {
    "hash": "a6e0e7a52ff25650311410ec676cb128052cdfc3b848542c415d170f51f09b78"
   }
  }
 },
 "nbformat": 4,
 "nbformat_minor": 2
}
