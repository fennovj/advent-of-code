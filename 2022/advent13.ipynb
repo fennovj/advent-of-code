{
 "cells": [
  {
   "cell_type": "code",
   "execution_count": 5,
   "metadata": {},
   "outputs": [],
   "source": [
    "import advent\n",
    "\n",
    "data = advent.get_lines_doublenewline(13)\n",
    "data = [[eval(d) for d in l] for l in data]"
   ]
  },
  {
   "cell_type": "code",
   "execution_count": 18,
   "metadata": {},
   "outputs": [],
   "source": [
    "def compare(left, right):\n",
    "    # returns negative if left < right, 0 if a tie, positive if right > left\n",
    "    if isinstance(left, int) and isinstance(right, int):\n",
    "        return left - right\n",
    "    if isinstance(left, int) and isinstance(right, list):\n",
    "        return compare([left], right)\n",
    "    if isinstance(left, list) and isinstance(right, int):\n",
    "        return compare(left, [right])\n",
    "    # They are both list\n",
    "    l = min(len(left), len(right))\n",
    "    for i in range(l):\n",
    "        subresult = compare(left[i], right[i])\n",
    "        if subresult != 0: return subresult\n",
    "    # We ran out of elements, so compare who ran out first\n",
    "    return len(left) - len(right)\n"
   ]
  },
  {
   "cell_type": "code",
   "execution_count": 20,
   "metadata": {},
   "outputs": [
    {
     "name": "stdout",
     "output_type": "stream",
     "text": [
      "5330\n"
     ]
    }
   ],
   "source": [
    "result = 0\n",
    "\n",
    "for i in range(len(data)):\n",
    "    if compare(data[i][0], data[i][1]) < 0:\n",
    "        result += (i+1)\n",
    "\n",
    "print(result)\n"
   ]
  },
  {
   "cell_type": "code",
   "execution_count": 31,
   "metadata": {},
   "outputs": [
    {
     "name": "stdout",
     "output_type": "stream",
     "text": [
      "27648\n"
     ]
    }
   ],
   "source": [
    "from functools import cmp_to_key\n",
    "\n",
    "data = advent.get_lines(13)\n",
    "data = [eval(l) for l in data if l != ''] + [[[2]], [[6]]]\n",
    "\n",
    "data = sorted(data, key=cmp_to_key(compare))\n",
    "\n",
    "\n",
    "result = 1\n",
    "for i in range(len(data)):\n",
    "    line = data[i]\n",
    "    if line == [[2]] or line == [[6]]:\n",
    "        result *= (i+1)\n",
    "\n",
    "print(result)"
   ]
  }
 ],
 "metadata": {
  "kernelspec": {
   "display_name": "Python 3.8.10 ('env': venv)",
   "language": "python",
   "name": "python3"
  },
  "language_info": {
   "codemirror_mode": {
    "name": "ipython",
    "version": 3
   },
   "file_extension": ".py",
   "mimetype": "text/x-python",
   "name": "python",
   "nbconvert_exporter": "python",
   "pygments_lexer": "ipython3",
   "version": "3.8.10"
  },
  "orig_nbformat": 4,
  "vscode": {
   "interpreter": {
    "hash": "a6e0e7a52ff25650311410ec676cb128052cdfc3b848542c415d170f51f09b78"
   }
  }
 },
 "nbformat": 4,
 "nbformat_minor": 2
}
