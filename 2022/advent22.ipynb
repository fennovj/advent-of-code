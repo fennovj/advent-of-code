{
 "cells": [
  {
   "cell_type": "code",
   "execution_count": 32,
   "metadata": {},
   "outputs": [
    {
     "name": "stdout",
     "output_type": "stream",
     "text": [
      "150 (200, 150)\n"
     ]
    }
   ],
   "source": [
    "import advent\n",
    "import numpy as np\n",
    "\n",
    "maze = advent.get_lines(22)[:-2]\n",
    "directions = advent.get_lines(22)[-1]\n",
    "\n",
    "#maze = advent.get_lines('22small')[:-2]\n",
    "#directions = advent.get_lines('22small')[-1]\n",
    "\n",
    "max_len = max(len(line) for line in maze)\n",
    "maze = np.array([[c for c in line.ljust(max_len)] for line in maze])\n",
    "\n",
    "# Offset in the numpy array to move 1 step\n",
    "compass = {'N': (-1, 0), 'S': (1, 0), 'W': (0, -1), 'E': (0, 1)}\n",
    "print(max_len, maze.shape)\n"
   ]
  },
  {
   "cell_type": "code",
   "execution_count": 33,
   "metadata": {},
   "outputs": [
    {
     "data": {
      "text/plain": [
       "False"
      ]
     },
     "execution_count": 33,
     "metadata": {},
     "output_type": "execute_result"
    }
   ],
   "source": [
    "tadd = lambda a, b: (a[0] + b[0], a[1] + b[1])\n",
    "\n",
    "def step(maze, position, direction):\n",
    "    y, x = tadd(position, compass[direction])\n",
    "    y, x = y % maze.shape[0], x % maze.shape[1]\n",
    "    if maze[(y, x)] == '.': return (y, x)\n",
    "    if maze[(y, x)] == '#': return False\n",
    "    # We hit a whitespace, just keep going\n",
    "    return step(maze, (y, x), direction)\n",
    "\n",
    "def full_step(maze, position, direction, n=1):\n",
    "    while n > 0:\n",
    "        new_position = step(maze, position, direction)\n",
    "        if not new_position: return position # we hit a wall\n",
    "        position, n = new_position, n-1\n",
    "    return position\n",
    "    \n",
    "step(maze, (25, 40), 'W')"
   ]
  },
  {
   "cell_type": "code",
   "execution_count": 34,
   "metadata": {},
   "outputs": [
    {
     "name": "stdout",
     "output_type": "stream",
     "text": [
      "(75, 82) E\n",
      "76332\n"
     ]
    }
   ],
   "source": [
    "import re\n",
    "\n",
    "steps = re.split('(?=L|R)', directions)\n",
    "\n",
    "position, direction = (0, 50), 'E'\n",
    "#position, direction = (0, 8), 'E' # for test example\n",
    "\n",
    "lturn = {'N': 'W', 'W': 'S', 'S': 'E', 'E': 'N'}\n",
    "rturn = {'N': 'E', 'E': 'S', 'S': 'W', 'W': 'N'}\n",
    "\n",
    "# First step doesn't have a turn\n",
    "#print(position, direction)\n",
    "position = full_step(maze, position, direction, n=int(steps[0]))\n",
    "\n",
    "for stepl in steps[1:]:\n",
    "    turn = stepl[0]\n",
    "    if turn == 'L': direction = lturn[direction]\n",
    "    elif turn == 'R': direction = rturn[direction]\n",
    "    else: raise ValueError(f\"{stepl} doesnt start with L or R\")\n",
    "    #print(position, direction)\n",
    "    position = full_step(maze, position, direction, n=int(stepl[1:]))\n",
    "\n",
    "\n",
    "points = {'E': 0, 'S': 1, 'W': 2, 'N': 3}\n",
    "print(position, direction)\n",
    "print(1000 * (position[0]+1) + 4 * (position[1]+1) + points[direction])"
   ]
  },
  {
   "cell_type": "code",
   "execution_count": 35,
   "metadata": {},
   "outputs": [],
   "source": [
    "MAXL = 49\n",
    "\n",
    "def getside(maze, side):\n",
    "    if side == 1: return maze[150:200, 0:50]\n",
    "    if side == 2: return maze[100:150, 0:50]\n",
    "    if side == 3: return maze[100:150, 50:100]\n",
    "    if side == 4: return maze[50:100, 50:100]\n",
    "    if side == 5: return maze[0:50, 50:100]\n",
    "    if side == 6: return maze[0:50, 100:150]\n",
    "    raise ValueError(f\"{side} is not a side!\")\n",
    "\n",
    "def left(side, y, x):\n",
    "    # Returns side, (y, x), direction when you step one step left off side=side\n",
    "    if x > 0: return side, (y, x-1), 'W'\n",
    "    if side == 1: return 5, (0, y), 'S'\n",
    "    if side == 2: return 5, (MAXL-y, 0), 'E'\n",
    "    if side == 3: return 2, (y, MAXL), 'W'\n",
    "    if side == 4: return 2, (0, y), 'S'\n",
    "    if side == 5: return 2, (MAXL-y, 0), 'E'\n",
    "    if side == 6: return 5, (y, MAXL), 'W'\n",
    "\n",
    "def right(side, y, x):\n",
    "    if x < MAXL: return side, (y, x+1), 'E'\n",
    "    if side == 1: return 3, (MAXL, y), 'N'\n",
    "    if side == 2: return 3, (y, 0), 'E'\n",
    "    if side == 3: return 6, (MAXL-y, MAXL), 'W'\n",
    "    if side == 4: return 6, (MAXL, y), 'N'\n",
    "    if side == 5: return 6, (y, 0), 'E'\n",
    "    if side == 6: return 3, (MAXL-y, MAXL), 'W'\n",
    "\n",
    "def up(side, y, x):\n",
    "    if y > 0: return side, (y-1, x), 'N'\n",
    "    if side == 1: return 2, (MAXL, x), 'N'\n",
    "    if side == 2: return 4, (x, 0), 'E'\n",
    "    if side == 3: return 4, (MAXL, x), 'N'\n",
    "    if side == 4: return 5, (MAXL, x), 'N'\n",
    "    if side == 5: return 1, (x, 0), 'E'\n",
    "    if side == 6: return 1, (MAXL, x), 'N'\n",
    "\n",
    "def down(side, y, x):\n",
    "    if y < MAXL: return side, (y+1, x), 'S'\n",
    "    if side == 1: return 6, (0, x), 'S'\n",
    "    if side == 2: return 1, (0, x), 'S'\n",
    "    if side == 3: return 1, (x, MAXL), 'W'\n",
    "    if side == 4: return 3, (0, x), 'S'\n",
    "    if side == 5: return 4, (0, x), 'S'\n",
    "    if side == 6: return 4, (x, MAXL), 'W'\n"
   ]
  },
  {
   "cell_type": "code",
   "execution_count": 38,
   "metadata": {},
   "outputs": [],
   "source": [
    "\n",
    "# For part 2, position is a tuple (side, (y, x))\n",
    "fn_dict = {'N': up, 'E': right, 'W': left, 'S': down}\n",
    "\n",
    "def step_2(maze, position, direction):\n",
    "    side, position = position\n",
    "    y, x = position\n",
    "    new_side, new_pos, new_dir = fn_dict[direction](side, y, x)\n",
    "    #print(side, position, direction, new_side, new_pos, new_dir)\n",
    "\n",
    "    maze_side = getside(maze, new_side)\n",
    "\n",
    "    if maze_side[new_pos] == '.': return (new_side, new_pos), new_dir\n",
    "    if maze_side[new_pos] == '#': return False, False\n",
    "\n",
    "def full_step_2(maze, position, direction, n=1):\n",
    "    while n > 0:\n",
    "        new_position, new_direction = step_2(maze, position, direction)\n",
    "        if not new_position: return position, direction # we hit a wall\n",
    "        position, n, direction = new_position, n-1, new_direction\n",
    "    return position, direction"
   ]
  },
  {
   "cell_type": "code",
   "execution_count": 42,
   "metadata": {},
   "outputs": [
    {
     "name": "stdout",
     "output_type": "stream",
     "text": [
      "(2, (43, 2)) E\n",
      "144012\n"
     ]
    }
   ],
   "source": [
    "import re\n",
    "\n",
    "steps = re.split('(?=L|R)', directions)\n",
    "\n",
    "position, direction = (5, (0, 0)), 'E'\n",
    "\n",
    "lturn = {'N': 'W', 'W': 'S', 'S': 'E', 'E': 'N'}\n",
    "rturn = {'N': 'E', 'E': 'S', 'S': 'W', 'W': 'N'}\n",
    "\n",
    "# First step doesn't have a turn\n",
    "#print(position, direction)\n",
    "position, direction = full_step_2(maze, position, direction, n=int(steps[0]))\n",
    "\n",
    "for stepl in steps[1:]:\n",
    "    turn = stepl[0]\n",
    "    if turn == 'L': direction = lturn[direction]\n",
    "    elif turn == 'R': direction = rturn[direction]\n",
    "    else: raise ValueError(f\"{stepl} doesnt start with L or R\")\n",
    "    #print(position, direction)\n",
    "    position, direction = full_step_2(maze, position, direction, n=int(stepl[1:]))\n",
    "\n",
    "\n",
    "points = {'E': 0, 'S': 1, 'W': 2, 'N': 3}\n",
    "print(position, direction)\n",
    "# Output is 2, (43, 2)\n",
    "# I didn't feel like writing a function so manually:\n",
    "position = (143, 2)\n",
    "print(1000 * (position[0]+1) + 4 * (position[1]+1) + points[direction])"
   ]
  },
  {
   "cell_type": "code",
   "execution_count": null,
   "metadata": {},
   "outputs": [],
   "source": []
  }
 ],
 "metadata": {
  "kernelspec": {
   "display_name": "env",
   "language": "python",
   "name": "python3"
  },
  "language_info": {
   "codemirror_mode": {
    "name": "ipython",
    "version": 3
   },
   "file_extension": ".py",
   "mimetype": "text/x-python",
   "name": "python",
   "nbconvert_exporter": "python",
   "pygments_lexer": "ipython3",
   "version": "3.8.10"
  },
  "orig_nbformat": 4,
  "vscode": {
   "interpreter": {
    "hash": "a6e0e7a52ff25650311410ec676cb128052cdfc3b848542c415d170f51f09b78"
   }
  }
 },
 "nbformat": 4,
 "nbformat_minor": 2
}
