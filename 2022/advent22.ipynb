{
 "cells": [
  {
   "cell_type": "code",
   "execution_count": 51,
   "metadata": {},
   "outputs": [
    {
     "name": "stdout",
     "output_type": "stream",
     "text": [
      "150 (200, 150)\n"
     ]
    }
   ],
   "source": [
    "import advent\n",
    "import numpy as np\n",
    "\n",
    "maze = advent.get_lines(22)[:-2]\n",
    "directions = advent.get_lines(22)[-1]\n",
    "\n",
    "#maze = advent.get_lines('22small')[:-2]\n",
    "#directions = advent.get_lines('22small')[-1]\n",
    "\n",
    "max_len = max(len(line) for line in maze)\n",
    "maze = np.array([[c for c in line.ljust(max_len)] for line in maze])\n",
    "\n",
    "# Offset in the numpy array to move 1 step\n",
    "compass = {'N': (-1, 0), 'S': (1, 0), 'W': (0, -1), 'E': (0, 1)}\n",
    "print(max_len, maze.shape)\n"
   ]
  },
  {
   "cell_type": "code",
   "execution_count": 52,
   "metadata": {},
   "outputs": [
    {
     "data": {
      "text/plain": [
       "False"
      ]
     },
     "execution_count": 52,
     "metadata": {},
     "output_type": "execute_result"
    }
   ],
   "source": [
    "tadd = lambda a, b: (a[0] + b[0], a[1] + b[1])\n",
    "\n",
    "def step(maze, position, direction):\n",
    "    y, x = tadd(position, compass[direction])\n",
    "    y, x = y % maze.shape[0], x % maze.shape[1]\n",
    "    if maze[(y, x)] == '.': return (y, x)\n",
    "    if maze[(y, x)] == '#': return False\n",
    "    # We hit a whitespace, just keep going\n",
    "    return step(maze, (y, x), direction)\n",
    "\n",
    "def full_step(maze, position, direction, n=1):\n",
    "    while n > 0:\n",
    "        new_position = step(maze, position, direction)\n",
    "        if not new_position: return position # we hit a wall\n",
    "        position, n = new_position, n-1\n",
    "    return position\n",
    "    \n",
    "step(maze, (25, 40), 'W')"
   ]
  },
  {
   "cell_type": "code",
   "execution_count": 54,
   "metadata": {},
   "outputs": [
    {
     "name": "stdout",
     "output_type": "stream",
     "text": [
      "(75, 82) E\n",
      "76332\n"
     ]
    }
   ],
   "source": [
    "import re\n",
    "\n",
    "steps = re.split('(?=L|R)', directions)\n",
    "\n",
    "position, direction = (0, 50), 'E'\n",
    "#position, direction = (0, 8), 'E' # for test example\n",
    "\n",
    "lturn = {'N': 'W', 'W': 'S', 'S': 'E', 'E': 'N'}\n",
    "rturn = {'N': 'E', 'E': 'S', 'S': 'W', 'W': 'N'}\n",
    "\n",
    "# First step doesn't have a turn\n",
    "#print(position, direction)\n",
    "position = full_step(maze, position, direction, n=int(steps[0]))\n",
    "\n",
    "for stepl in steps[1:]:\n",
    "    turn = stepl[0]\n",
    "    if turn == 'L': direction = lturn[direction]\n",
    "    elif turn == 'R': direction = rturn[direction]\n",
    "    else: raise ValueError(f\"{stepl} doesnt start with L or R\")\n",
    "    #print(position, direction)\n",
    "    position = full_step(maze, position, direction, n=int(stepl[1:]))\n",
    "\n",
    "\n",
    "points = {'E': 0, 'S': 1, 'W': 2, 'N': 3}\n",
    "print(position, direction)\n",
    "print(1000 * (position[0]+1) + 4 * (position[1]+1) + points[direction])\n",
    "# 17460 too low\n",
    "# 114064 too high"
   ]
  },
  {
   "cell_type": "code",
   "execution_count": null,
   "metadata": {},
   "outputs": [],
   "source": []
  }
 ],
 "metadata": {
  "kernelspec": {
   "display_name": "env",
   "language": "python",
   "name": "python3"
  },
  "language_info": {
   "codemirror_mode": {
    "name": "ipython",
    "version": 3
   },
   "file_extension": ".py",
   "mimetype": "text/x-python",
   "name": "python",
   "nbconvert_exporter": "python",
   "pygments_lexer": "ipython3",
   "version": "3.8.10"
  },
  "orig_nbformat": 4,
  "vscode": {
   "interpreter": {
    "hash": "a6e0e7a52ff25650311410ec676cb128052cdfc3b848542c415d170f51f09b78"
   }
  }
 },
 "nbformat": 4,
 "nbformat_minor": 2
}
