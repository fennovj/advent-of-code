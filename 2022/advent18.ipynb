{
 "cells": [
  {
   "cell_type": "code",
   "execution_count": 21,
   "metadata": {},
   "outputs": [],
   "source": [
    "import advent\n",
    "\n",
    "data = advent.get_lines(18, map_fn = lambda x: tuple([int(i) for i in x.split(',')]))\n",
    "data_set = set(data)"
   ]
  },
  {
   "cell_type": "code",
   "execution_count": 22,
   "metadata": {},
   "outputs": [
    {
     "name": "stdout",
     "output_type": "stream",
     "text": [
      "3586\n"
     ]
    }
   ],
   "source": [
    "# My approach: the 'default' number of edges would be 6*cubes\n",
    "# Subtract the number of adjacent cubes, which I am just going to brute force.\n",
    "\n",
    "manhattan = lambda l, r: abs(l[0] - r[0]) + abs(l[1] - r[1]) + abs(l[2] - r[2]) \n",
    "\n",
    "is_adjacent = lambda l, r: manhattan(l, r) == 1\n",
    "\n",
    "adjacent_count = 0\n",
    "\n",
    "for i in range(len(data)):\n",
    "    for j in range(i, len(data)):\n",
    "        if is_adjacent(data[i], data[j]): adjacent_count += 1\n",
    "\n",
    "print(6*len(data) - 2*adjacent_count)"
   ]
  },
  {
   "cell_type": "code",
   "execution_count": 23,
   "metadata": {},
   "outputs": [],
   "source": [
    "from advent.maze import solve_maze_no_tqdm\n",
    "\n",
    "def adjacent(node):\n",
    "    nodes = [\n",
    "        (node[0] + 1, node[1], node[2]),\n",
    "        (node[0] - 1, node[1], node[2]),\n",
    "        (node[0], node[1] + 1, node[2]),\n",
    "        (node[0], node[1] - 1, node[2]),\n",
    "        (node[0], node[1], node[2] + 1),\n",
    "        (node[0], node[1], node[2] - 1)\n",
    "    ]\n",
    "    return [(node, 1) for node in nodes if node not in data_set]\n",
    "\n",
    "is_target = lambda node: node == (0, 0, 0)\n",
    "h = lambda node: manhattan(node, (0, 0, 0))\n",
    "\n",
    "def in_interior(node):\n",
    "    shortest_path, _, possible = solve_maze_no_tqdm(node, is_target, adjacent, h)\n",
    "    return not possible"
   ]
  },
  {
   "cell_type": "code",
   "execution_count": 25,
   "metadata": {},
   "outputs": [
    {
     "data": {
      "application/vnd.jupyter.widget-view+json": {
       "model_id": "a0ef81a67ef546ebae7de543ae2870bd",
       "version_major": 2,
       "version_minor": 0
      },
      "text/plain": [
       "  0%|          | 0/20 [00:00<?, ?it/s]"
      ]
     },
     "metadata": {},
     "output_type": "display_data"
    },
    {
     "name": "stdout",
     "output_type": "stream",
     "text": [
      "1134\n"
     ]
    }
   ],
   "source": [
    "# Strategy: brute force!\n",
    "# We try all nodes from (0, 0, 0) to (20, 20, 20) to see if they are:\n",
    "# - in data: ignore them\n",
    "# - not in_interior: ignore them, they are exterior\n",
    "# - in_interior: fill them up with lava.\n",
    "\n",
    "# After filling the entire interior, recaucluate the surface same as in part 1!\n",
    "from tqdm.notebook import tqdm\n",
    "\n",
    "interior = []\n",
    "\n",
    "for i in tqdm(range(20)):\n",
    "    for j in range(20):\n",
    "        for k in range(20):\n",
    "            if (i, j, k) in data_set: continue\n",
    "            if in_interior((i, j, k)): interior.append((i, j, k))\n",
    "\n",
    "print(len(interior))"
   ]
  },
  {
   "cell_type": "code",
   "execution_count": 26,
   "metadata": {},
   "outputs": [
    {
     "name": "stdout",
     "output_type": "stream",
     "text": [
      "2072\n"
     ]
    }
   ],
   "source": [
    "new_data = data+interior\n",
    "\n",
    "adjacent_count = 0\n",
    "\n",
    "for i in range(len(new_data)):\n",
    "    for j in range(i, len(new_data)):\n",
    "        if is_adjacent(new_data[i], new_data[j]): adjacent_count += 1\n",
    "\n",
    "print(6*len(new_data) - 2*adjacent_count)"
   ]
  }
 ],
 "metadata": {
  "kernelspec": {
   "display_name": "env",
   "language": "python",
   "name": "python3"
  },
  "language_info": {
   "codemirror_mode": {
    "name": "ipython",
    "version": 3
   },
   "file_extension": ".py",
   "mimetype": "text/x-python",
   "name": "python",
   "nbconvert_exporter": "python",
   "pygments_lexer": "ipython3",
   "version": "3.8.10"
  },
  "orig_nbformat": 4,
  "vscode": {
   "interpreter": {
    "hash": "5d7396d72a031e084ca8a7a10bc9e074a727d6785ddc3f255c136fb1ccc8ec02"
   }
  }
 },
 "nbformat": 4,
 "nbformat_minor": 2
}
