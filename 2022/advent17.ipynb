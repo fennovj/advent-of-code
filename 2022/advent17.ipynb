{
 "cells": [
  {
   "cell_type": "code",
   "execution_count": 24,
   "metadata": {},
   "outputs": [],
   "source": [
    "import advent\n",
    "import numpy as np"
   ]
  },
  {
   "cell_type": "code",
   "execution_count": 25,
   "metadata": {},
   "outputs": [],
   "source": [
    "# Basically my dumb version of an enum\n",
    "pieces = ['D', 'T', 'J', 'I', 'O']\n",
    "\n",
    "# convenience function for moving x/y coord:\n",
    "tadd = lambda l, r: (l[0] + r[0], l[1] + r[1])\n",
    "\n",
    "def highest_rock(board):\n",
    "    # New rocks should spawn at y = highest_rock + 4\n",
    "    if np.sum(board) == 0: return -1\n",
    "    last_occurence = np.argmax((board.sum(axis=0)>0)[::-1])\n",
    "    return board.shape[1] - last_occurence - 1\n",
    "\n",
    "def start_position(piece, board):\n",
    "    # The 'start' and the 'anchor' position is defined as the BOTTOM-LEFT piece\n",
    "    # in case of the T-piece, this anchor will be empty! (but still the anchor)\n",
    "    return (2, highest_rock(board) + 4)\n",
    "\n",
    "def get_coordinates(piece, anchor):\n",
    "    if piece == 'D': return [tadd(anchor, (0, 0)), tadd(anchor, (1, 0)), tadd(anchor, (2, 0)), tadd(anchor, (3, 0))]\n",
    "    if piece == 'T': return [tadd(anchor, (1, 0)), tadd(anchor, (1, 1)), tadd(anchor, (1, 2)), tadd(anchor, (0, 1)), tadd(anchor, (2, 1))]\n",
    "    if piece == 'J': return [tadd(anchor, (0, 0)), tadd(anchor, (1, 0)), tadd(anchor, (2, 0)), tadd(anchor, (2, 1)), tadd(anchor, (2, 2))]\n",
    "    if piece == 'I': return [tadd(anchor, (0, 0)), tadd(anchor, (0, 1)), tadd(anchor, (0, 2)), tadd(anchor, (0, 3))]\n",
    "    if piece == 'O': return [tadd(anchor, (0, 0)), tadd(anchor, (0, 1)), tadd(anchor, (1, 0)), tadd(anchor, (1, 1))]\n",
    "\n",
    "def oob(coord):\n",
    "    return coord[0] < 0 or coord[0] >= 7 or coord[1] < 0\n",
    "\n",
    "def clear(board, piece, anchor):\n",
    "    coordinates = get_coordinates(piece, anchor)\n",
    "    if any(oob(coord) for coord in coordinates): return False\n",
    "    if any(board[pixel] for pixel in coordinates): return False\n",
    "    return True\n",
    "\n",
    "def fall(board, piece, anchor):\n",
    "    # Return boolean: if the fall was succesful\n",
    "    # does not check if the piece was already clear, only if the new spaces are clear\n",
    "    new_anchor = (anchor[0], anchor[1] - 1)\n",
    "    if clear(board, piece, new_anchor): return new_anchor\n",
    "    return None\n",
    "\n",
    "def gust(board, direction, piece, anchor):\n",
    "    # Returns true if gust is 'succesfull'/unblocked. direction = True if right, False if left\n",
    "    if direction == '>': new_anchor = (anchor[0] + 1, anchor[1])\n",
    "    elif direction == '<': new_anchor = (anchor[0] - 1, anchor[1])\n",
    "\n",
    "    if clear(board, piece, new_anchor): return new_anchor\n",
    "    return None\n",
    "    \n",
    "def save(board, piece, anchor):\n",
    "    # saves in place!!!!\n",
    "    coordinates = get_coordinates(piece, anchor)\n",
    "    for pixel in coordinates:\n",
    "        #print(f\"saving {pixel}\")\n",
    "        board[pixel] = 1\n",
    "    return board\n",
    "    "
   ]
  },
  {
   "cell_type": "code",
   "execution_count": 26,
   "metadata": {},
   "outputs": [],
   "source": [
    "def full_fall(board, piece, gust_data, gust_position):\n",
    "\n",
    "    anchor = start_position(piece, board)\n",
    "    # First gust, then fall, until the fall returns False\n",
    "    while True:\n",
    "        direction = gust_data[gust_position]\n",
    "        new_anchor = gust(board, direction, piece, anchor)\n",
    "        if new_anchor: anchor = new_anchor\n",
    "        gust_position = (gust_position + 1) % len(gust_data)\n",
    "\n",
    "        new_anchor = fall(board, piece, anchor)\n",
    "        if new_anchor: anchor = new_anchor\n",
    "        else: break\n",
    "\n",
    "    save(board, piece, anchor)\n",
    "    return (board, gust_position)\n"
   ]
  },
  {
   "cell_type": "code",
   "execution_count": 27,
   "metadata": {},
   "outputs": [
    {
     "name": "stdout",
     "output_type": "stream",
     "text": [
      "3135 J\n"
     ]
    }
   ],
   "source": [
    "next_piece = {'D': 'T', 'T': 'J', 'J': 'I', 'I': 'O', 'O': 'D'}\n",
    "\n",
    "def full_fall_n_times(board, gust_data, n=2022, piece='D', gust_position=0):\n",
    "    for _ in range(n):\n",
    "        board, gust_position = full_fall(board, piece, gust_data, gust_position)\n",
    "        piece = next_piece[piece]\n",
    "    return board, piece, gust_position\n",
    "\n",
    "data = advent.get_lines('17')[0]\n",
    "data = [c for c in data]\n",
    "\n",
    "board = np.zeros((7, 5000))\n",
    "\n",
    "board, p, _ = full_fall_n_times(board, data, n=2022)\n",
    "\n",
    "print(highest_rock(board) + 1, p)\n",
    "# 3194 is too high? but it works on the example input :(\n"
   ]
  },
  {
   "cell_type": "code",
   "execution_count": 28,
   "metadata": {},
   "outputs": [
    {
     "name": "stdout",
     "output_type": "stream",
     "text": [
      "10091\n"
     ]
    }
   ],
   "source": [
    "# Part 2: 1_000_000_000_000 turns\n",
    "\n",
    "print(len(data))"
   ]
  },
  {
   "cell_type": "code",
   "execution_count": null,
   "metadata": {},
   "outputs": [],
   "source": []
  }
 ],
 "metadata": {
  "kernelspec": {
   "display_name": "env",
   "language": "python",
   "name": "python3"
  },
  "language_info": {
   "codemirror_mode": {
    "name": "ipython",
    "version": 3
   },
   "file_extension": ".py",
   "mimetype": "text/x-python",
   "name": "python",
   "nbconvert_exporter": "python",
   "pygments_lexer": "ipython3",
   "version": "3.8.10"
  },
  "orig_nbformat": 4,
  "vscode": {
   "interpreter": {
    "hash": "5d7396d72a031e084ca8a7a10bc9e074a727d6785ddc3f255c136fb1ccc8ec02"
   }
  }
 },
 "nbformat": 4,
 "nbformat_minor": 2
}
