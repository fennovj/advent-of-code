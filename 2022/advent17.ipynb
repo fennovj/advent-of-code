{
 "cells": [
  {
   "cell_type": "code",
   "execution_count": 69,
   "metadata": {},
   "outputs": [],
   "source": [
    "import advent\n",
    "import numpy as np\n",
    "data = advent.get_lines(17)[0]\n",
    "data = [{'>': True, '<': False}[c] for c in data]"
   ]
  },
  {
   "cell_type": "code",
   "execution_count": 70,
   "metadata": {},
   "outputs": [],
   "source": [
    "# Basically my dumb version of an enum\n",
    "pieces = ['D', 'T', 'J', 'I', 'O']\n",
    "\n",
    "# convenience function for moving x/y coord:\n",
    "d = lambda t: (t[0], t[1]-1)\n",
    "r = lambda t: (t[0]+1, t[1])\n",
    "l = lambda t: (t[0]-1, t[1])\n",
    "u = lambda t: (t[0], t[1]+1)\n",
    "tadd = lambda l, r: (l[0] + r[0], l[1] + r[1])\n",
    "\n",
    "def highest_rock(board):\n",
    "    # New rocks should spawn at y = highest_rock + 4\n",
    "    if np.sum(board) == 0: return -1\n",
    "    last_occurence = np.argmax((board.sum(axis=0)>0)[::-1])\n",
    "    return board.shape[1] - last_occurence - 1\n",
    "\n",
    "def start_position(piece, board):\n",
    "    # The 'start' and the 'anchor' position is defined as the BOTTOM-LEFT piece\n",
    "    # in case of the T-piece, this anchor will be empty! (but still the anchor)\n",
    "    return (2, highest_rock(board) + 4)\n",
    "\n",
    "def fall(board, piece, anchor):\n",
    "    # Return boolean: if the fall was succesful\n",
    "    # does not check if the piece was already clear, only if the new spaces are clear\n",
    "    # new_anchor = (anchor[0], anchor[1] - 1) # only if this function returns True\n",
    "    if anchor[1] == 0: return False # reached the floor\n",
    "    if piece == 'D': return not (board[d(anchor)] or board[tadd(anchor, (1, -1))] or board[tadd(anchor, (2, -1))] or board[tadd(anchor, (3, -1))])\n",
    "    if piece == 'T': return not (board[anchor] or board[d(r(anchor))] or board[r(r(anchor))])\n",
    "    if piece == 'J': return not (board[d(anchor)] or board[d(r(anchor))] or board[d(r(r(anchor)))])\n",
    "    if piece == 'I': return not board[d(anchor)]\n",
    "    if piece == 'O': return not (board[d(anchor)] or board[d(r(anchor))])\n",
    "\n",
    "def gust(board, direction, piece, anchor):\n",
    "    # Returns true if gust is 'succesfull'/unblocked. direction = True if right, False if left\n",
    "    if not direction and anchor[0] == 0: return False\n",
    "    if direction and anchor[0] == {'D': 3, 'T': 4, 'J': 4, 'I': 6, 'O': 5}[piece]: return False\n",
    "    if piece == 'D':\n",
    "        if direction: return not board[tadd(anchor, (0, 4))]\n",
    "        return not board[l(anchor)]\n",
    "    if piece == 'T':\n",
    "        if direction: return not (board[tadd(anchor, (2, 0))] or board[tadd(anchor, (3, 1))] or board[tadd(anchor, (2, 2))])\n",
    "        return not (board[anchor] or board[tadd(anchor, (-1, 1))] or board[tadd(anchor, (0, 2))])\n",
    "    if piece == 'J':\n",
    "        if direction: return not (board[tadd(anchor, (3, 0))] or board[tadd(anchor, (3, 1))] or board[tadd(anchor, (3, 2))])\n",
    "        return not (board[tadd(anchor, (-1, 0))] or board[tadd(anchor, (1, 1))] or board[tadd(anchor, (1, 2))])\n",
    "    if piece == 'I':\n",
    "        if direction: return not (board[tadd(anchor, (1, 0))] or board[tadd(anchor, (1, 1))] or board[tadd(anchor, (1, 2))] or board[tadd(anchor, (1, 3))])\n",
    "        return not (board[tadd(anchor, (-1, 0))] or board[tadd(anchor, (-1, 1))] or board[tadd(anchor, (-1, 2))] or board[tadd(anchor, (-1, 3))])\n",
    "    if piece == 'O':\n",
    "        if direction: return not (board[tadd(anchor, (2, 0))] or board[tadd(anchor, (2, 1))])\n",
    "        return not (board[tadd(anchor, (-1, 0))] or board[tadd(anchor, (-1, 1))])\n",
    "    \n",
    "def save(board, piece, anchor):\n",
    "    # saves in place!!!!\n",
    "    if piece == 'D': board[anchor[0] : (anchor[0] + 4), anchor[1]] = 1\n",
    "    if piece == 'T':\n",
    "        board[anchor[0] : (anchor[0] + 3), anchor[1] + 1] = 1\n",
    "        board[anchor[0] + 1, anchor[1] : (anchor[1] + 3)] = 1\n",
    "    if piece == 'J':\n",
    "        board[anchor[0] : (anchor[0] + 3), anchor[1]] = 1\n",
    "        board[anchor[0] + 2, anchor[1] : (anchor[1] + 3)] = 1\n",
    "    if piece == 'I': board[anchor[0], anchor[1] : (anchor[1] + 4)] = 1\n",
    "    if piece == 'O':\n",
    "        board[anchor[0] : (anchor[0] + 2), anchor[1]] = 1\n",
    "        board[anchor[0] : (anchor[0] + 2), anchor[1] + 1] = 1\n",
    "    return board\n",
    "    "
   ]
  },
  {
   "cell_type": "code",
   "execution_count": 71,
   "metadata": {},
   "outputs": [],
   "source": [
    "def full_fall(board, piece, gust_position):\n",
    "\n",
    "    anchor = start_position(piece, board)\n",
    "    # First gust, then fall, until the fall returns False\n",
    "    while True:\n",
    "        direction = data[gust_position]\n",
    "        if gust(board, direction, piece, anchor): anchor = r(anchor) if direction else l(anchor)\n",
    "        gust_position = (gust_position + 1) % len(data)\n",
    "\n",
    "        if fall(board, piece, anchor): anchor = d(anchor)\n",
    "        else: break\n",
    "\n",
    "    save(board, piece, anchor)\n",
    "    return (board, gust_position)\n"
   ]
  },
  {
   "cell_type": "code",
   "execution_count": 73,
   "metadata": {},
   "outputs": [
    {
     "name": "stdout",
     "output_type": "stream",
     "text": [
      "3194\n"
     ]
    }
   ],
   "source": [
    "next_piece = {'D': 'T', 'T': 'J', 'J': 'I', 'I': 'O', 'O': 'D'}\n",
    "\n",
    "def full_fall_n_times(board, n=2022, piece='D', gust_position=0):\n",
    "    for _ in range(n):\n",
    "        board, gust_position = full_fall(board, piece, gust_position)\n",
    "        piece = next_piece[piece]\n",
    "    return board, piece, gust_position\n",
    "\n",
    "\n",
    "board = np.zeros((7, 5000))\n",
    "\n",
    "board, _, _ = full_fall_n_times(board)\n",
    "\n",
    "print(highest_rock(board) + 1)\n",
    "# 3194 is wrong? but it works on the example input :(\n"
   ]
  },
  {
   "cell_type": "code",
   "execution_count": null,
   "metadata": {},
   "outputs": [],
   "source": []
  }
 ],
 "metadata": {
  "kernelspec": {
   "display_name": "env",
   "language": "python",
   "name": "python3"
  },
  "language_info": {
   "codemirror_mode": {
    "name": "ipython",
    "version": 3
   },
   "file_extension": ".py",
   "mimetype": "text/x-python",
   "name": "python",
   "nbconvert_exporter": "python",
   "pygments_lexer": "ipython3",
   "version": "3.8.10"
  },
  "orig_nbformat": 4,
  "vscode": {
   "interpreter": {
    "hash": "5d7396d72a031e084ca8a7a10bc9e074a727d6785ddc3f255c136fb1ccc8ec02"
   }
  }
 },
 "nbformat": 4,
 "nbformat_minor": 2
}
