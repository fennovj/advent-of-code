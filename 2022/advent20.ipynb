{
 "cells": [
  {
   "cell_type": "code",
   "execution_count": 90,
   "metadata": {},
   "outputs": [],
   "source": [
    "import pandas as pd\n",
    "import numpy as np"
   ]
  },
  {
   "cell_type": "code",
   "execution_count": 91,
   "metadata": {},
   "outputs": [],
   "source": [
    "def mix_i(data, i):\n",
    "    # replaces in-place!\n",
    "    col = np.where(data[1, :] == i)[0][0]\n",
    "    shift = data[0, col]\n",
    "    new_col = (col + shift) % (data.shape[1] - 1)\n",
    "    #print(f\"i {i}, col {col}, shift {shift}, new_col {new_col}\")\n",
    "    if new_col > col: # Shift a number of elements left\n",
    "        data[:, col:new_col] = data[:, (col+1):(new_col+1)]\n",
    "        data[:, new_col] = [shift, i]\n",
    "    elif new_col < col: # Shift a number of elements right\n",
    "        data[:, (new_col+1):(col+1)] = data[:, new_col:col]\n",
    "        data[:, new_col] = [shift, i]\n",
    "    return data\n",
    "\n",
    "def number_after(data, val=0, n=1000):\n",
    "    col = np.where(data[0, :] == val)[0][0]\n",
    "    new_col = (col + n) % data.shape[1]\n",
    "    return data[0, new_col]\n"
   ]
  },
  {
   "cell_type": "code",
   "execution_count": 92,
   "metadata": {},
   "outputs": [
    {
     "data": {
      "text/plain": [
       "1087"
      ]
     },
     "execution_count": 92,
     "metadata": {},
     "output_type": "execute_result"
    }
   ],
   "source": [
    "\n",
    "data = pd.read_csv('data/advent20.csv', header=None)[0].to_numpy()\n",
    "#data = np.array([1, 2, -3, 3, -2, 0, 4])\n",
    "data = np.array((data, range(len(data))))\n",
    "\n",
    "for i in range(data.shape[1]):\n",
    "    data = mix_i(data, i)\n",
    "\n",
    "number_after(data, 0, 1000) + number_after(data, 0, 2000) + number_after(data, 0, 3000)"
   ]
  },
  {
   "cell_type": "code",
   "execution_count": 95,
   "metadata": {},
   "outputs": [
    {
     "data": {
      "text/plain": [
       "13084440324666"
      ]
     },
     "execution_count": 95,
     "metadata": {},
     "output_type": "execute_result"
    }
   ],
   "source": [
    "decryption_key = 811589153\n",
    "data = pd.read_csv('data/advent20.csv', header=None)[0].to_numpy() * decryption_key\n",
    "data = np.array((data, range(len(data))))\n",
    "\n",
    "for _ in range(10):\n",
    "    for i in range(data.shape[1]):\n",
    "        data = mix_i(data, i)\n",
    "\n",
    "number_after(data, 0, 1000) + number_after(data, 0, 2000) + number_after(data, 0, 3000)"
   ]
  }
 ],
 "metadata": {
  "kernelspec": {
   "display_name": "env",
   "language": "python",
   "name": "python3"
  },
  "language_info": {
   "codemirror_mode": {
    "name": "ipython",
    "version": 3
   },
   "file_extension": ".py",
   "mimetype": "text/x-python",
   "name": "python",
   "nbconvert_exporter": "python",
   "pygments_lexer": "ipython3",
   "version": "3.8.10"
  },
  "orig_nbformat": 4,
  "vscode": {
   "interpreter": {
    "hash": "a6e0e7a52ff25650311410ec676cb128052cdfc3b848542c415d170f51f09b78"
   }
  }
 },
 "nbformat": 4,
 "nbformat_minor": 2
}
