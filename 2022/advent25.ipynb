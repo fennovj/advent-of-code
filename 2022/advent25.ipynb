{
 "cells": [
  {
   "cell_type": "code",
   "execution_count": 42,
   "metadata": {},
   "outputs": [],
   "source": [
    "import advent\n",
    "\n",
    "data = advent.get_lines(25)\n",
    "base = {'=': -2, '-': -1, '0': 0, '1': 1, '2': 2}\n",
    "inv = {-2: '=', -1: '-', 0: '0', 1: '1', 2: '2'}\n",
    "# move a space to the left: 5 * value"
   ]
  },
  {
   "cell_type": "code",
   "execution_count": 50,
   "metadata": {},
   "outputs": [],
   "source": [
    "def decode(value, place=0):\n",
    "    if value == \"\": return 0\n",
    "    return (5**place * base[value[-1]]) + decode(value[:-1], place+1)\n",
    "\n",
    "def encode(value, place=1):\n",
    "    if value == 0: return \"\"\n",
    "    # Dunno why this works, I just changed random stuff until it worked lol\n",
    "    digit = (value + (2 * 5**(place-1))) % (5 ** place) - (2 * 5**(place-1))\n",
    "    new_value = value - digit\n",
    "    digit_char = digit // (5**(place-1))\n",
    "    return encode(new_value, place+1) + inv[digit_char]"
   ]
  },
  {
   "cell_type": "code",
   "execution_count": 51,
   "metadata": {},
   "outputs": [
    {
     "data": {
      "text/plain": [
       "'2-=12=2-2-2-=0012==2'"
      ]
     },
     "execution_count": 51,
     "metadata": {},
     "output_type": "execute_result"
    }
   ],
   "source": [
    "fuel = sum(decode(line) for line in data)\n",
    "encode(fuel)"
   ]
  }
 ],
 "metadata": {
  "kernelspec": {
   "display_name": "env",
   "language": "python",
   "name": "python3"
  },
  "language_info": {
   "codemirror_mode": {
    "name": "ipython",
    "version": 3
   },
   "file_extension": ".py",
   "mimetype": "text/x-python",
   "name": "python",
   "nbconvert_exporter": "python",
   "pygments_lexer": "ipython3",
   "version": "3.8.10 (default, Oct 28 2022, 11:22:12) \n[Clang 14.0.0 (clang-1400.0.29.102)]"
  },
  "orig_nbformat": 4,
  "vscode": {
   "interpreter": {
    "hash": "a6e0e7a52ff25650311410ec676cb128052cdfc3b848542c415d170f51f09b78"
   }
  }
 },
 "nbformat": 4,
 "nbformat_minor": 2
}
