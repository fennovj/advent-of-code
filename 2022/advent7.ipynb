{
 "cells": [
  {
   "cell_type": "code",
   "execution_count": 1,
   "metadata": {},
   "outputs": [],
   "source": [
    "import advent\n",
    "\n",
    "data = advent.get_lines(7)"
   ]
  },
  {
   "cell_type": "code",
   "execution_count": 2,
   "metadata": {},
   "outputs": [],
   "source": [
    "files = {}\n",
    "dirs = {}\n",
    "current_dir = [] # list of subfolders\n",
    "verbose = False\n",
    "\n",
    "def safe_add(dic, key, values_list):\n",
    "    if key not in dic:\n",
    "        dic[key] = set(values_list)\n",
    "    dic[key].update(values_list)\n",
    "\n",
    "for ix in range(len(data)):\n",
    "    file_or_dir = data[ix].split(' ')[-1]\n",
    "    current_dir_str = '/'.join(current_dir)[1:] # remove the superfluous '/' at the start\n",
    "    file_str =  f\"{current_dir_str}/{file_or_dir}\"\n",
    "    if verbose: print(f\"Now parsing: '{data[ix]}' in {current_dir_str}. Looking at {file_str} | {file_or_dir}\")\n",
    "\n",
    "    if data[ix].startswith('$ cd'):\n",
    "        if file_or_dir == '..':\n",
    "            current_dir = current_dir[:-1]\n",
    "            if verbose: print(f\"  -> going from {current_dir_str} to {'/'.join(current_dir)}\")\n",
    "        else:\n",
    "            current_dir.append(file_or_dir)\n",
    "            safe_add(dirs, file_str, [])  # add the dir to the new known dirs\n",
    "            if verbose: print(f\"  -> going from {current_dir_str} to {'/'.join(current_dir)}, and new directory: {file_str}\")\n",
    "        continue # done with cd command\n",
    "    elif data[ix].startswith('$ ls'):\n",
    "        if verbose: print(f\"  -> no action needed because ls in {current_dir_str}\")\n",
    "        # no parsing needed\n",
    "        continue\n",
    "    # Only other possibility is the result of an ls command\n",
    "    #if file_str.startswith('/'):\n",
    "        # Stupid bug, only happens in root folder\n",
    "    #    file_str = file_str[1:]\n",
    "    if data[ix].startswith('dir'):\n",
    "        if verbose: print(f\"  -> Found dir {file_or_dir} in {current_dir_str}\")\n",
    "        if verbose: safe_add(dirs, current_dir_str, [file_or_dir])\n",
    "    else:\n",
    "        if verbose: print(f\"  -> Found file {file_str} with size {int(data[ix].split(' ')[0])}\")\n",
    "        files[file_str] = int(data[ix].split(' ')[0])\n"
   ]
  },
  {
   "cell_type": "code",
   "execution_count": 8,
   "metadata": {},
   "outputs": [
    {
     "data": {
      "text/plain": [
       "1206825"
      ]
     },
     "execution_count": 8,
     "metadata": {},
     "output_type": "execute_result"
    }
   ],
   "source": [
    "def total_dir_size(dir_name, files):\n",
    "    return sum([files[f] for f in files if f.startswith(dir_name + '/')])\n",
    "\n",
    "sum([s for s in map(lambda d: total_dir_size(d, files), dirs) if s <= 100_000])\n",
    "\n",
    "#print(total)"
   ]
  },
  {
   "cell_type": "code",
   "execution_count": 10,
   "metadata": {},
   "outputs": [
    {
     "data": {
      "text/plain": [
       "9608311"
      ]
     },
     "execution_count": 10,
     "metadata": {},
     "output_type": "execute_result"
    }
   ],
   "source": [
    "size_required = total_dir_size('', files) - (70_000_000 - 30_000_000)\n",
    "\n",
    "min([s for s in map(lambda d: total_dir_size(d, files), dirs) if s >= size_required])"
   ]
  }
 ],
 "metadata": {
  "kernelspec": {
   "display_name": "Python 3.8.10 ('env': venv)",
   "language": "python",
   "name": "python3"
  },
  "language_info": {
   "codemirror_mode": {
    "name": "ipython",
    "version": 3
   },
   "file_extension": ".py",
   "mimetype": "text/x-python",
   "name": "python",
   "nbconvert_exporter": "python",
   "pygments_lexer": "ipython3",
   "version": "3.8.10"
  },
  "orig_nbformat": 4,
  "vscode": {
   "interpreter": {
    "hash": "a6e0e7a52ff25650311410ec676cb128052cdfc3b848542c415d170f51f09b78"
   }
  }
 },
 "nbformat": 4,
 "nbformat_minor": 2
}
