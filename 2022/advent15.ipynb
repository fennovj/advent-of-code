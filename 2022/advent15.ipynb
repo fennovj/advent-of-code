{
 "cells": [
  {
   "cell_type": "code",
   "execution_count": 29,
   "metadata": {},
   "outputs": [
    {
     "data": {
      "text/plain": [
       "((3889276, 3176133), (3738780, 3090050))"
      ]
     },
     "execution_count": 29,
     "metadata": {},
     "output_type": "execute_result"
    }
   ],
   "source": [
    "import advent\n",
    "\n",
    "def parse_line(line):\n",
    "    line = line.split(' ')\n",
    "    x1 = int(line[2][2:-1])\n",
    "    y1 = int(line[3][2:-1])\n",
    "    \n",
    "    x2 = int(line[8][2:-1])\n",
    "    y2 = int(line[9][2:])\n",
    "    return ((x1, y1), (x2, y2))\n",
    "\n",
    "data = advent.get_lines(15, map_fn=parse_line)\n",
    "data[0]"
   ]
  },
  {
   "cell_type": "code",
   "execution_count": 30,
   "metadata": {},
   "outputs": [
    {
     "data": {
      "text/plain": [
       "range(2, 15)"
      ]
     },
     "execution_count": 30,
     "metadata": {},
     "output_type": "execute_result"
    }
   ],
   "source": [
    "def y_covered(scanner, beacon, y):\n",
    "    radius = abs(scanner[0] - beacon[0]) + abs(scanner[1] - beacon[1])\n",
    "    min_y, max_y = scanner[1] - radius, scanner[1] + radius\n",
    "    if min_y > y or max_y < y: return []\n",
    "    if y <= scanner[1]: side_radius = radius - (scanner[1] - y)\n",
    "    if y > scanner[1]: side_radius = radius - (y - scanner[1])\n",
    "    return range(scanner[0] - side_radius, scanner[0] + side_radius + 1)\n",
    "\n",
    "y_covered((8, 10), (2, 10), 10)\n"
   ]
  },
  {
   "cell_type": "code",
   "execution_count": 31,
   "metadata": {},
   "outputs": [
    {
     "name": "stdout",
     "output_type": "stream",
     "text": [
      "4873353\n"
     ]
    }
   ],
   "source": [
    "part1_covered = set([])\n",
    "y = 2_000_000\n",
    "\n",
    "for line in data:\n",
    "    result = y_covered(line[0], line[1], y)\n",
    "    #print(f\"Now adding {result}\")\n",
    "    part1_covered.update(result)\n",
    "\n",
    "# The -1 is because there is one beacon at that y-level\n",
    "print(len(part1_covered) - 1)"
   ]
  },
  {
   "cell_type": "code",
   "execution_count": 32,
   "metadata": {},
   "outputs": [
    {
     "data": {
      "text/plain": [
       "(0, 61)"
      ]
     },
     "execution_count": 32,
     "metadata": {},
     "output_type": "execute_result"
    }
   ],
   "source": [
    "def y_covered_patch(scanner, beacon, y):\n",
    "    radius = abs(scanner[0] - beacon[0]) + abs(scanner[1] - beacon[1])\n",
    "    min_y, max_y = scanner[1] - radius, scanner[1] + radius\n",
    "    if min_y > y or max_y < y: return None\n",
    "    if y <= scanner[1]: side_radius = radius - (scanner[1] - y)\n",
    "    if y > scanner[1]: side_radius = radius - (y - scanner[1])\n",
    "    return (max(0, scanner[0] - side_radius), min(4_000_000, scanner[0] + side_radius + 1))\n",
    "\n",
    "y_covered_patch((10, 100), (50, 50), 60)"
   ]
  },
  {
   "cell_type": "code",
   "execution_count": 33,
   "metadata": {},
   "outputs": [
    {
     "data": {
      "application/vnd.jupyter.widget-view+json": {
       "model_id": "58b0881503454eff898ed469090a3fb0",
       "version_major": 2,
       "version_minor": 0
      },
      "text/plain": [
       "  0%|          | 0/4000000 [00:00<?, ?it/s]"
      ]
     },
     "metadata": {},
     "output_type": "display_data"
    },
    {
     "ename": "RuntimeError",
     "evalue": "(0, 2900205) and (2900206, 3525023) do not overlap!",
     "output_type": "error",
     "traceback": [
      "\u001b[0;31m---------------------------------------------------------------------------\u001b[0m",
      "\u001b[0;31mRuntimeError\u001b[0m                              Traceback (most recent call last)",
      "Cell \u001b[0;32mIn[33], line 14\u001b[0m\n\u001b[1;32m     12\u001b[0m \u001b[39mfor\u001b[39;00m y \u001b[39min\u001b[39;00m tqdm(\u001b[39mrange\u001b[39m(\u001b[39m0\u001b[39m, \u001b[39m4_000_000\u001b[39m)):\n\u001b[1;32m     13\u001b[0m     patches \u001b[39m=\u001b[39m \u001b[39msorted\u001b[39m(\u001b[39mfilter\u001b[39m(\u001b[39mNone\u001b[39;00m, [y_covered_patch(scanner, beacon, y) \u001b[39mfor\u001b[39;00m scanner, beacon \u001b[39min\u001b[39;00m data]))\n\u001b[0;32m---> 14\u001b[0m     result \u001b[39m=\u001b[39m reduce(merge_patches, patches)\n\u001b[1;32m     15\u001b[0m     \u001b[39mif\u001b[39;00m result \u001b[39m!=\u001b[39m (\u001b[39m0\u001b[39m, \u001b[39m4_000_000\u001b[39m): \u001b[39mraise\u001b[39;00m \u001b[39mValueError\u001b[39;00m(\u001b[39m\"\u001b[39m\u001b[39mNot the full range!\u001b[39m\u001b[39m\"\u001b[39m)\n",
      "Cell \u001b[0;32mIn[33], line 8\u001b[0m, in \u001b[0;36mmerge_patches\u001b[0;34m(patch1, patch2)\u001b[0m\n\u001b[1;32m      4\u001b[0m \u001b[39mdef\u001b[39;00m \u001b[39mmerge_patches\u001b[39m(patch1, patch2):\n\u001b[1;32m      5\u001b[0m     \u001b[39m# Assume patch1[0] <= patch2[0]\u001b[39;00m\n\u001b[1;32m      6\u001b[0m     \u001b[39m# Also assume these are 'sorted' - aka the overlap must be the entire row\u001b[39;00m\n\u001b[1;32m      7\u001b[0m     \u001b[39m# if a spot is missed, that means we found the solution!\u001b[39;00m\n\u001b[0;32m----> 8\u001b[0m     \u001b[39mif\u001b[39;00m (patch2[\u001b[39m0\u001b[39m] \u001b[39m-\u001b[39m patch1[\u001b[39m1\u001b[39m]) \u001b[39m>\u001b[39m \u001b[39m0\u001b[39m: \u001b[39mraise\u001b[39;00m \u001b[39mRuntimeError\u001b[39;00m(\u001b[39mf\u001b[39m\u001b[39m\"\u001b[39m\u001b[39m{\u001b[39;00mpatch1\u001b[39m}\u001b[39;00m\u001b[39m and \u001b[39m\u001b[39m{\u001b[39;00mpatch2\u001b[39m}\u001b[39;00m\u001b[39m do not overlap!\u001b[39m\u001b[39m\"\u001b[39m)\n\u001b[1;32m      9\u001b[0m     \u001b[39mreturn\u001b[39;00m (patch1[\u001b[39m0\u001b[39m], \u001b[39mmax\u001b[39m(patch1[\u001b[39m1\u001b[39m], patch2[\u001b[39m1\u001b[39m]))\n",
      "\u001b[0;31mRuntimeError\u001b[0m: (0, 2900205) and (2900206, 3525023) do not overlap!"
     ]
    }
   ],
   "source": [
    "from functools import reduce\n",
    "from tqdm.notebook import tqdm\n",
    "\n",
    "def merge_patches(patch1, patch2):\n",
    "    # Assume patch1[0] <= patch2[0]\n",
    "    # Also assume these are 'sorted' - aka the overlap must be the entire row\n",
    "    # if a spot is missed, that means we found the solution!\n",
    "    if (patch2[0] - patch1[1]) > 0: raise RuntimeError(f\"{patch1} and {patch2} do not overlap!\")\n",
    "    return (patch1[0], max(patch1[1], patch2[1]))\n",
    "\n",
    "\n",
    "for y in tqdm(range(0, 4_000_000)):\n",
    "    patches = sorted(filter(None, [y_covered_patch(scanner, beacon, y) for scanner, beacon in data]))\n",
    "    result = reduce(merge_patches, patches)\n",
    "    if result != (0, 4_000_000): raise ValueError(\"Not the full range!\")\n",
    "\n"
   ]
  },
  {
   "cell_type": "code",
   "execution_count": 34,
   "metadata": {},
   "outputs": [
    {
     "data": {
      "text/plain": [
       "3139120"
      ]
     },
     "execution_count": 34,
     "metadata": {},
     "output_type": "execute_result"
    }
   ],
   "source": [
    "y"
   ]
  },
  {
   "cell_type": "code",
   "execution_count": 35,
   "metadata": {},
   "outputs": [
    {
     "data": {
      "text/plain": [
       "11600823139120"
      ]
     },
     "execution_count": 35,
     "metadata": {},
     "output_type": "execute_result"
    }
   ],
   "source": [
    "# Just manually calculate the solution as x * 4M + y\n",
    "2900205 * 4000000 + 3139120"
   ]
  },
  {
   "cell_type": "code",
   "execution_count": null,
   "metadata": {},
   "outputs": [],
   "source": []
  }
 ],
 "metadata": {
  "kernelspec": {
   "display_name": "env",
   "language": "python",
   "name": "python3"
  },
  "language_info": {
   "codemirror_mode": {
    "name": "ipython",
    "version": 3
   },
   "file_extension": ".py",
   "mimetype": "text/x-python",
   "name": "python",
   "nbconvert_exporter": "python",
   "pygments_lexer": "ipython3",
   "version": "3.8.10"
  },
  "orig_nbformat": 4,
  "vscode": {
   "interpreter": {
    "hash": "a6e0e7a52ff25650311410ec676cb128052cdfc3b848542c415d170f51f09b78"
   }
  }
 },
 "nbformat": 4,
 "nbformat_minor": 2
}
