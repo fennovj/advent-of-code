{
 "cells": [
  {
   "cell_type": "code",
   "execution_count": 37,
   "metadata": {},
   "outputs": [
    {
     "data": {
      "text/plain": [
       "((3889276, 3176133), (3738780, 3090050))"
      ]
     },
     "execution_count": 37,
     "metadata": {},
     "output_type": "execute_result"
    }
   ],
   "source": [
    "import advent\n",
    "\n",
    "def parse_line(line):\n",
    "    line = line.split(' ')\n",
    "    x1 = int(line[2][2:-1])\n",
    "    y1 = int(line[3][2:-1])\n",
    "    \n",
    "    x2 = int(line[8][2:-1])\n",
    "    y2 = int(line[9][2:])\n",
    "    return ((x1, y1), (x2, y2))\n",
    "\n",
    "data = advent.get_lines(15, map_fn=parse_line)\n",
    "data[0]"
   ]
  },
  {
   "cell_type": "code",
   "execution_count": 40,
   "metadata": {},
   "outputs": [
    {
     "data": {
      "text/plain": [
       "range(2, 15)"
      ]
     },
     "execution_count": 40,
     "metadata": {},
     "output_type": "execute_result"
    }
   ],
   "source": [
    "def y_covered(scanner, beacon, y):\n",
    "    radius = abs(scanner[0] - beacon[0]) + abs(scanner[1] - beacon[1])\n",
    "    min_y, max_y = scanner[1] - radius, scanner[1] + radius\n",
    "    if min_y > y or max_y < y: return []\n",
    "    if y <= scanner[1]: side_radius = radius - (scanner[1] - y)\n",
    "    if y > scanner[1]: side_radius = radius - (y - scanner[1])\n",
    "    return range(scanner[0] - side_radius, scanner[0] + side_radius + 1)\n",
    "\n",
    "y_covered((8, 10), (2, 10), 10)\n"
   ]
  },
  {
   "cell_type": "code",
   "execution_count": 41,
   "metadata": {},
   "outputs": [
    {
     "name": "stdout",
     "output_type": "stream",
     "text": [
      "4873353\n"
     ]
    }
   ],
   "source": [
    "part1_covered = set([])\n",
    "y = 2_000_000\n",
    "\n",
    "for line in data:\n",
    "    result = y_covered(line[0], line[1], y)\n",
    "    #print(f\"Now adding {result}\")\n",
    "    part1_covered.update(result)\n",
    "\n",
    "# The -1 is because there is one beacon at that y-level\n",
    "print(len(part1_covered) - 1)"
   ]
  },
  {
   "cell_type": "code",
   "execution_count": 46,
   "metadata": {},
   "outputs": [],
   "source": [
    "def y_covered_patch(scanner, beacon, y):\n",
    "    radius = abs(scanner[0] - beacon[0]) + abs(scanner[1] - beacon[1])\n",
    "    min_y, max_y = scanner[1] - radius, scanner[1] + radius\n",
    "    if min_y > y or max_y < y: return None\n",
    "    if y <= scanner[1]: side_radius = radius - (scanner[1] - y)\n",
    "    if y > scanner[1]: side_radius = radius - (y - scanner[1])\n",
    "    return (max(0, scanner[0] - side_radius), min(4_000_000, scanner[0] + side_radius + 1))\n",
    "\n"
   ]
  },
  {
   "cell_type": "code",
   "execution_count": 49,
   "metadata": {},
   "outputs": [],
   "source": [
    "def combine_patches(patches):\n",
    "    # patches are inclusive!\n",
    "    result, ix = [], 0\n",
    "    while ix < len(patches):\n",
    "        \n",
    "\n",
    "combine_patches([(1, 10), (12, 15), (13, 20)])"
   ]
  },
  {
   "cell_type": "code",
   "execution_count": null,
   "metadata": {},
   "outputs": [],
   "source": []
  }
 ],
 "metadata": {
  "kernelspec": {
   "display_name": "env",
   "language": "python",
   "name": "python3"
  },
  "language_info": {
   "codemirror_mode": {
    "name": "ipython",
    "version": 3
   },
   "file_extension": ".py",
   "mimetype": "text/x-python",
   "name": "python",
   "nbconvert_exporter": "python",
   "pygments_lexer": "ipython3",
   "version": "3.8.10"
  },
  "orig_nbformat": 4,
  "vscode": {
   "interpreter": {
    "hash": "5d7396d72a031e084ca8a7a10bc9e074a727d6785ddc3f255c136fb1ccc8ec02"
   }
  }
 },
 "nbformat": 4,
 "nbformat_minor": 2
}
