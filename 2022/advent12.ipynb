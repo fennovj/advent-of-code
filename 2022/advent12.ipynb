{
 "cells": [
  {
   "cell_type": "code",
   "execution_count": 9,
   "metadata": {},
   "outputs": [
    {
     "data": {
      "text/plain": [
       "[((21, 0), 1), ((19, 0), 1), ((20, 1), 1)]"
      ]
     },
     "execution_count": 9,
     "metadata": {},
     "output_type": "execute_result"
    }
   ],
   "source": [
    "import advent\n",
    "import numpy as np\n",
    "\n",
    "# Data preprocessing\n",
    "data = advent.get_char_grid(12)\n",
    "size = (data.shape[0], data.shape[1])\n",
    "\n",
    "start = np.where(data == 'S')\n",
    "start = (start[0][0], start[1][0])\n",
    "\n",
    "end = np.where(data == 'E')\n",
    "end = (end[0][0], end[1][0])\n",
    "\n",
    "data[start] = 'a'\n",
    "data[end] = 'z'\n",
    "\n",
    "# Maze definition\n",
    "\n",
    "def cost(l, r, uphill=True):\n",
    "    if l[0] < 0 or l[0] >= size[0] or r[0] < 0 or r[0] >= size[0]: return None\n",
    "    if l[1] < 0 or l[1] >= size[1] or r[1] < 0 or r[1] >= size[1]: return None\n",
    "    lval, rval = data[l], data[r]\n",
    "    if uphill: return None if ord(rval) - ord(lval) > 1 else 1\n",
    "    else: return None if ord(lval) - ord(rval) > 1 else 1\n",
    "\n",
    "def adjacent(node, uphill=True):\n",
    "    x, y = node\n",
    "    return [(new, cost(node, new, uphill)) for new in [(x+1, y), (x-1, y), (x, y+1), (x, y-1)] if cost(node, new, uphill) is not None]\n",
    "\n",
    "h = lambda node: abs(node[0] - end[0]) + abs(node[1] - end[1]) # manhattan\n",
    "\n",
    "is_target = lambda node: node[0] == end[0] and node[1] == end[1]\n",
    "\n",
    "adjacent(start)\n"
   ]
  },
  {
   "cell_type": "code",
   "execution_count": 10,
   "metadata": {},
   "outputs": [
    {
     "data": {
      "application/vnd.jupyter.widget-view+json": {
       "model_id": "8e3375bc0a1a42d8a2b885cbb51e7fac",
       "version_major": 2,
       "version_minor": 0
      },
      "text/plain": [
       "  0%|          | 0/1 [00:00<?, ?it/s]"
      ]
     },
     "metadata": {},
     "output_type": "display_data"
    },
    {
     "name": "stdout",
     "output_type": "stream",
     "text": [
      "Final path length: 447\n",
      "447 6423\n"
     ]
    }
   ],
   "source": [
    "from advent.maze import solve_maze\n",
    "\n",
    "c, parents = solve_maze(start, is_target, adjacent, h, size[0] * size[1])\n",
    "print(c, len(parents))"
   ]
  },
  {
   "cell_type": "code",
   "execution_count": 11,
   "metadata": {},
   "outputs": [
    {
     "data": {
      "application/vnd.jupyter.widget-view+json": {
       "model_id": "c82f1887f5b44132b7152a3853274b4d",
       "version_major": 2,
       "version_minor": 0
      },
      "text/plain": [
       "  0%|          | 0/1 [00:00<?, ?it/s]"
      ]
     },
     "metadata": {},
     "output_type": "display_data"
    },
    {
     "name": "stdout",
     "output_type": "stream",
     "text": [
      "Final path length: 446\n",
      "446 4265\n"
     ]
    }
   ],
   "source": [
    "is_target_part2 = lambda node: data[node] == 'a'\n",
    "\n",
    "c, parents = solve_maze(end, is_target_part2, lambda node: adjacent(node, False), lambda _: 0, size[0] * size[1])\n",
    "print(c, len(parents))"
   ]
  }
 ],
 "metadata": {
  "kernelspec": {
   "display_name": "Python 3.8.10 ('env': venv)",
   "language": "python",
   "name": "python3"
  },
  "language_info": {
   "codemirror_mode": {
    "name": "ipython",
    "version": 3
   },
   "file_extension": ".py",
   "mimetype": "text/x-python",
   "name": "python",
   "nbconvert_exporter": "python",
   "pygments_lexer": "ipython3",
   "version": "3.8.10"
  },
  "orig_nbformat": 4,
  "vscode": {
   "interpreter": {
    "hash": "a6e0e7a52ff25650311410ec676cb128052cdfc3b848542c415d170f51f09b78"
   }
  }
 },
 "nbformat": 4,
 "nbformat_minor": 2
}
