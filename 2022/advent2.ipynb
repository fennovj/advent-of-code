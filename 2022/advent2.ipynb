{
 "cells": [
  {
   "cell_type": "code",
   "execution_count": null,
   "metadata": {},
   "outputs": [],
   "source": [
    "import advent\n",
    "\n",
    "data = advent.get_lines(2)\n",
    "\n",
    "score = {\n",
    "    'A X': 4,\n",
    "    'B X': 1,\n",
    "    'C X': 7,\n",
    "    'A Y': 8,\n",
    "    'B Y': 5,\n",
    "    'C Y': 2,\n",
    "    'A Z': 3,\n",
    "    'B Z': 9,\n",
    "    'C Z': 6\n",
    "}\n",
    "score2 = {\n",
    "    'A X': 3,\n",
    "    'B X': 1,\n",
    "    'C X': 2,\n",
    "    'A Y': 4,\n",
    "    'B Y': 5,\n",
    "    'C Y': 6,\n",
    "    'A Z': 8,\n",
    "    'B Z': 9,\n",
    "    'C Z': 7\n",
    "}\n",
    "\n",
    "print(sum(score[l] for l in data))\n",
    "print(sum(score2[l] for l in data))"
   ]
  }
 ],
 "metadata": {
  "kernelspec": {
   "display_name": "Python 3.8.10 ('env': venv)",
   "language": "python",
   "name": "python3"
  },
  "language_info": {
   "codemirror_mode": {
    "name": "ipython",
    "version": 3
   },
   "file_extension": ".py",
   "mimetype": "text/x-python",
   "name": "python",
   "nbconvert_exporter": "python",
   "pygments_lexer": "ipython3",
   "version": "3.8.10"
  },
  "orig_nbformat": 4,
  "vscode": {
   "interpreter": {
    "hash": "a6e0e7a52ff25650311410ec676cb128052cdfc3b848542c415d170f51f09b78"
   }
  }
 },
 "nbformat": 4,
 "nbformat_minor": 2
}
