{
 "cells": [
  {
   "cell_type": "code",
   "execution_count": 40,
   "metadata": {},
   "outputs": [],
   "source": [
    "import advent\n",
    "\n",
    "data = advent.get_char_grid(8, map_fn=int)"
   ]
  },
  {
   "cell_type": "code",
   "execution_count": 41,
   "metadata": {},
   "outputs": [
    {
     "name": "stdout",
     "output_type": "stream",
     "text": [
      "1805\n"
     ]
    }
   ],
   "source": [
    "x, y= 0, 0\n",
    "\n",
    "count = 0\n",
    "visible_over = lambda tree, vector: all([tree > v for v in vector])\n",
    "\n",
    "for x in range(data.shape[0]):\n",
    "    for y in range(data.shape[1]):\n",
    "        tree = data[x, y]\n",
    "        if (visible_over(tree, data[:x, y]) or\n",
    "            visible_over(tree, data[(x+1):, y]) or \n",
    "            visible_over(tree, data[x, :y]) or \n",
    "            visible_over(tree, data[x, (y+1):])\n",
    "            ):\n",
    "            count + 1\n",
    "\n",
    "visible = set([])\n",
    "\n",
    "for x in range(data.shape[0]):\n",
    "    for y in range(data.shape[1]):\n",
    "        tree = data[x, y]\n",
    "        \n",
    "            visible.update([(x, y)])\n",
    "\n",
    "print(len(visible))"
   ]
  },
  {
   "cell_type": "code",
   "execution_count": 42,
   "metadata": {},
   "outputs": [
    {
     "name": "stdout",
     "output_type": "stream",
     "text": [
      "444528\n"
     ]
    }
   ],
   "source": [
    "def viewing_distance(tree, vector):\n",
    "    for i in range(len(vector)):\n",
    "        if vector[i] >= tree: return i+1\n",
    "    return len(vector)\n",
    "\n",
    "max_scenic = 0\n",
    "\n",
    "for x in range(data.shape[0]):\n",
    "    for y in range(data.shape[1]):\n",
    "        tree = data[x, y]\n",
    "        scenic_score = (\n",
    "            viewing_distance(tree, data[:x, y][::-1]) * # left\n",
    "            viewing_distance(tree, data[(x+1):, y]) * # right\n",
    "            viewing_distance(tree, data[x, :y][::-1]) * # up\n",
    "            viewing_distance(tree, data[x, (y+1):]) # down\n",
    "        )\n",
    "        if scenic_score > max_scenic:\n",
    "            max_scenic = scenic_score\n",
    "    \n",
    "print(max_scenic)"
   ]
  },
  {
   "cell_type": "code",
   "execution_count": null,
   "metadata": {},
   "outputs": [],
   "source": []
  }
 ],
 "metadata": {
  "kernelspec": {
   "display_name": "Python 3.8.10 ('env': venv)",
   "language": "python",
   "name": "python3"
  },
  "language_info": {
   "codemirror_mode": {
    "name": "ipython",
    "version": 3
   },
   "file_extension": ".py",
   "mimetype": "text/x-python",
   "name": "python",
   "nbconvert_exporter": "python",
   "pygments_lexer": "ipython3",
   "version": "3.8.10"
  },
  "orig_nbformat": 4,
  "vscode": {
   "interpreter": {
    "hash": "a6e0e7a52ff25650311410ec676cb128052cdfc3b848542c415d170f51f09b78"
   }
  }
 },
 "nbformat": 4,
 "nbformat_minor": 2
}
