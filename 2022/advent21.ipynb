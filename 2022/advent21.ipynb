{
 "cells": [
  {
   "cell_type": "code",
   "execution_count": 1,
   "metadata": {},
   "outputs": [],
   "source": [
    "import advent\n",
    "\n",
    "def parse_line(line):\n",
    "    line = line.split(' ', maxsplit=1)\n",
    "    return line[0][:-1], line[1]\n",
    "\n",
    "data = advent.get_lines(21, map_fn = parse_line)\n"
   ]
  },
  {
   "cell_type": "code",
   "execution_count": 2,
   "metadata": {},
   "outputs": [
    {
     "data": {
      "text/plain": [
       "84244467642604.0"
      ]
     },
     "execution_count": 2,
     "metadata": {},
     "output_type": "execute_result"
    }
   ],
   "source": [
    "monkeys = {}\n",
    "\n",
    "while 'root' not in monkeys:\n",
    "    for line in data:\n",
    "        if line[0] in monkeys: continue # we already parsed it\n",
    "        if line[1].isdigit(): \n",
    "            monkeys[line[0]] = int(line[1])\n",
    "            continue\n",
    "\n",
    "        foo = line[1].split(' ')\n",
    "        #print(foo, line)\n",
    "        if foo[0] not in monkeys or foo[2] not in monkeys: continue\n",
    "        elif foo[1] == '+': monkeys[line[0]] = monkeys[foo[0]] + monkeys[foo[2]]\n",
    "        elif foo[1] == '-': monkeys[line[0]] = monkeys[foo[0]] - monkeys[foo[2]]\n",
    "        elif foo[1] == '*': monkeys[line[0]] = monkeys[foo[0]] * monkeys[foo[2]]\n",
    "        elif foo[1] == '/': monkeys[line[0]] = monkeys[foo[0]] / monkeys[foo[2]]\n",
    "\n",
    "monkeys['root']"
   ]
  },
  {
   "cell_type": "code",
   "execution_count": 7,
   "metadata": {},
   "outputs": [],
   "source": [
    "def arit(monkeys, left, op, right):\n",
    "    if not isinstance(monkeys[left], str) and not isinstance(monkeys[right], str):\n",
    "        if op == '+': return monkeys[left] + monkeys[right]\n",
    "        if op == '-': return monkeys[left] - monkeys[right]\n",
    "        if op == '*': return monkeys[left] * monkeys[right]\n",
    "        if op == '/': return monkeys[left] / monkeys[right]\n",
    "    else: return f\"({monkeys[left]} {op} {monkeys[right]})\"\n",
    "    return monkeys\n",
    "\n",
    "monkeys = {'humn': 'x'}\n",
    "done = False\n",
    "\n",
    "while not done:\n",
    "    for line in data:\n",
    "        if line[0] in monkeys: continue # we already parsed it\n",
    "        if line[1].isdigit(): \n",
    "            monkeys[line[0]] = int(line[1])\n",
    "            continue\n",
    "\n",
    "        foo = line[1].split(' ')\n",
    "        if foo[0] not in monkeys or foo[2] not in monkeys: continue\n",
    "        elif line[0] == 'root':\n",
    "            keys = foo[0], foo[2]\n",
    "            done=True\n",
    "        monkeys[line[0]] = arit(monkeys, foo[0], foo[1], foo[2])"
   ]
  },
  {
   "cell_type": "code",
   "execution_count": 41,
   "metadata": {},
   "outputs": [
    {
     "name": "stdout",
     "output_type": "stream",
     "text": [
      "Left simplified is 68634163976949.17 - 14.1037037037037*x\n",
      "Right simplified is 15610303684582.0\n",
      "3759569926192.000\n"
     ]
    }
   ],
   "source": [
    "from sympy import parse_expr, symbols\n",
    "expr = parse_expr(monkeys[keys[0]])\n",
    "coeff = expr.as_coefficients_dict()\n",
    "\n",
    "print(\"Left simplified is\", expr)\n",
    "print(\"Right simplified is\", monkeys[keys[1]])\n",
    "\n",
    "# I just wrote the rest manually. based on what the equation looked like\n",
    "# you could probably use a more general sympy\n",
    "# solving method, but I don't know how to\n",
    "# To solve a + bx = c:\n",
    "# x = (c-a) / b\n",
    "print((monkeys[keys[1]] - coeff[1]) / coeff[symbols('x')])"
   ]
  },
  {
   "cell_type": "code",
   "execution_count": null,
   "metadata": {},
   "outputs": [],
   "source": []
  }
 ],
 "metadata": {
  "kernelspec": {
   "display_name": "env",
   "language": "python",
   "name": "python3"
  },
  "language_info": {
   "codemirror_mode": {
    "name": "ipython",
    "version": 3
   },
   "file_extension": ".py",
   "mimetype": "text/x-python",
   "name": "python",
   "nbconvert_exporter": "python",
   "pygments_lexer": "ipython3",
   "version": "3.8.10"
  },
  "orig_nbformat": 4,
  "vscode": {
   "interpreter": {
    "hash": "a6e0e7a52ff25650311410ec676cb128052cdfc3b848542c415d170f51f09b78"
   }
  }
 },
 "nbformat": 4,
 "nbformat_minor": 2
}
