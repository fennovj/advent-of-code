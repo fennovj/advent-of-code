{
 "cells": [
  {
   "cell_type": "code",
   "execution_count": 44,
   "metadata": {},
   "outputs": [],
   "source": [
    "import advent\n",
    "\n",
    "data = advent.get_lines(9, map_fn = lambda x: (x.split(' ')[0], int(x.split(' ')[1])))"
   ]
  },
  {
   "cell_type": "code",
   "execution_count": 45,
   "metadata": {},
   "outputs": [],
   "source": [
    "# Utility functions\n",
    "# other than the 'direction' function, these are pretty multifunctional\n",
    "# for working with tuples/coordinates\n",
    "\n",
    "l_infinity = lambda a, b: max(abs(a[0] - b[0]), abs(a[1] - b[1])) # 'distance' as l_∞, 1 if adjacent\n",
    "cmp = lambda a, b: (a > b) - (a < b) # return -1 if a < b, 0 if a == b, 1 if a > b\n",
    "tadd = lambda a, b: (a[0] + b[0], a[1] + b[1]) # adds tuples\n",
    "offset_letter = {'L': (-1, 0), 'R': (1, 0), 'U': (0, 1), 'D': (0, -1)} # convert letter to offset\n",
    "# The direction the tail will move in. The output will be e,g, (1, 0)\n",
    "direction = lambda head, tail: (cmp(head[0], tail[0]), cmp(head[1], tail[1])) if l_infinity(head, tail) > 1 else (0, 0)"
   ]
  },
  {
   "cell_type": "code",
   "execution_count": 46,
   "metadata": {},
   "outputs": [
    {
     "name": "stdout",
     "output_type": "stream",
     "text": [
      "6470\n"
     ]
    }
   ],
   "source": [
    "head, tail = (0, 0), (0, 0)\n",
    "visited = set()\n",
    "\n",
    "for letter, number in data:\n",
    "    offset = offset_letter[letter]\n",
    "    for _ in range(number):\n",
    "        head = tadd(head, offset)\n",
    "        tail = tadd(tail, direction(head, tail))\n",
    "        #print(f\"Head: {head}, tail: {tail}\")\n",
    "        visited.update([tail])\n",
    "\n",
    "print(len(visited))\n",
    "\n"
   ]
  },
  {
   "cell_type": "code",
   "execution_count": 47,
   "metadata": {},
   "outputs": [
    {
     "name": "stdout",
     "output_type": "stream",
     "text": [
      "2658\n"
     ]
    }
   ],
   "source": [
    "length = 10\n",
    "snake = [(0, 0) for _ in range(length)]\n",
    "visited = set()\n",
    "\n",
    "for letter, number in data:\n",
    "    offset = offset_letter[letter]\n",
    "    for _ in range(number):\n",
    "        snake[0] = tadd(snake[0], offset)\n",
    "\n",
    "        # Now move the rest of the tail\n",
    "        for i in range(1, length):\n",
    "            d = direction(snake[i-1], snake[i])\n",
    "            snake[i] = tadd(snake[i], d)\n",
    "        visited.update([snake[-1]])\n",
    "\n",
    "print(len(visited))\n",
    "\n"
   ]
  }
 ],
 "metadata": {
  "kernelspec": {
   "display_name": "Python 3.8.10 ('env': venv)",
   "language": "python",
   "name": "python3"
  },
  "language_info": {
   "codemirror_mode": {
    "name": "ipython",
    "version": 3
   },
   "file_extension": ".py",
   "mimetype": "text/x-python",
   "name": "python",
   "nbconvert_exporter": "python",
   "pygments_lexer": "ipython3",
   "version": "3.8.10"
  },
  "orig_nbformat": 4,
  "vscode": {
   "interpreter": {
    "hash": "5d7396d72a031e084ca8a7a10bc9e074a727d6785ddc3f255c136fb1ccc8ec02"
   }
  }
 },
 "nbformat": 4,
 "nbformat_minor": 2
}
