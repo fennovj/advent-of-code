{
 "cells": [
  {
   "cell_type": "code",
   "execution_count": 40,
   "metadata": {},
   "outputs": [],
   "source": [
    "import advent\n",
    "\n",
    "data = advent.get_lines(24)\n",
    "size = len(data)-2, len(data[0])-2 # not including the borders\n",
    "\n",
    "# Coordinate system: y, x: vertical, then horizontal. (0, 0) is top left\n",
    "# This does not include borders: (0, 0) is within the walls\n",
    "def get_blizzards(data):\n",
    "    result = []\n",
    "    for i, line in enumerate(data):\n",
    "        for j, char in enumerate(line):\n",
    "            if char in ['>', '<', '^', 'v']: result.append(((i-1, j-1), char))\n",
    "    return result"
   ]
  },
  {
   "cell_type": "code",
   "execution_count": 41,
   "metadata": {},
   "outputs": [],
   "source": [
    "def move_blizzards(blizz):\n",
    "    new_blizz = []\n",
    "    for coord, char in  blizz:\n",
    "        y, x = coord\n",
    "        if char == '>': new_blizz.append(((y, (x+1) % size[1]), '>'))\n",
    "        elif char == '<': new_blizz.append(((y, (x-1) % size[1]), '<'))\n",
    "        elif char == '^': new_blizz.append((((y-1) % size[0], x), '^'))\n",
    "        elif char == 'v': new_blizz.append((((y+1) % size[0], x), 'v'))\n",
    "        else: raise ValueError(\"Unknown blizzard\")\n",
    "    return new_blizz\n",
    "\n",
    "def adjacent(blizzards, position):\n",
    "    # Todo double check that this set is not created multiple times per step\n",
    "    blizz_set = set([blizz[0] for blizz in blizzards])\n",
    "    adjacent = []\n",
    "    y, x = position\n",
    "    for adj in [(y, x), (y-1, x), (y+1, x), (y, x-1), (y, x+1)]:\n",
    "        if adj == (-1, 0) or adj == (size[0], size[1]-1):\n",
    "            # special case. there are never blizzards here\n",
    "            adjacent.append(adj)\n",
    "            continue\n",
    "        if adj[0] < 0 or adj[0] >= size[0] or adj[1] < 0 or adj[1] >= size[1]: continue\n",
    "        if adj in blizz_set: continue\n",
    "        adjacent.append(adj)\n",
    "    return adjacent"
   ]
  },
  {
   "cell_type": "code",
   "execution_count": 42,
   "metadata": {},
   "outputs": [
    {
     "name": "stdout",
     "output_type": "stream",
     "text": [
      "0 1\n",
      "100 293\n",
      "200 726\n",
      "262\n"
     ]
    }
   ],
   "source": [
    "# The strategy is to do a breath first search\n",
    "# so basically, we store ((y, x), step_nr), and exhaust all (y, x)\n",
    "# for a given step_nr before moving on to the next one\n",
    "# We don't store paths or anything since it's not needed for part 1\n",
    "\n",
    "def minimum_steps(blizzards, start, target, step_nr=0):\n",
    "\n",
    "    positions = set([start])\n",
    "    while True:\n",
    "        if step_nr % 100 == 0:\n",
    "            print(step_nr, len(positions))\n",
    "        #print(len(positions), step_nr)\n",
    "        assert len(positions) > 0 # We got stuck?\n",
    "        blizzards = move_blizzards(blizzards)\n",
    "        step_nr += 1\n",
    "        new_positions = set([])\n",
    "        for position in positions:\n",
    "            new_positions.update(adjacent(blizzards, position))\n",
    "            #print(new_positions, adjacent(blizzards, position), position)\n",
    "        if target in new_positions: break\n",
    "        positions = new_positions\n",
    "    \n",
    "    return blizzards, step_nr\n",
    "\n",
    "\n",
    "blizzards = get_blizzards(data)\n",
    "start = (-1, 0)\n",
    "target = size[0], size[1] - 1\n",
    "\n",
    "blizzards, step_nr = minimum_steps(blizzards, start, target, 0)\n",
    "print(step_nr)"
   ]
  },
  {
   "cell_type": "code",
   "execution_count": 43,
   "metadata": {},
   "outputs": [
    {
     "name": "stdout",
     "output_type": "stream",
     "text": [
      "300 21\n",
      "400 431\n",
      "500 891\n",
      "600 175\n",
      "700 182\n",
      "785\n"
     ]
    }
   ],
   "source": [
    "# Now we are going to go back, then forth again\n",
    "blizzards, step_nr = minimum_steps(blizzards, target, start, step_nr)\n",
    "blizzards, step_nr = minimum_steps(blizzards, start, target, step_nr)\n",
    "print(step_nr)"
   ]
  }
 ],
 "metadata": {
  "kernelspec": {
   "display_name": "env",
   "language": "python",
   "name": "python3"
  },
  "language_info": {
   "codemirror_mode": {
    "name": "ipython",
    "version": 3
   },
   "file_extension": ".py",
   "mimetype": "text/x-python",
   "name": "python",
   "nbconvert_exporter": "python",
   "pygments_lexer": "ipython3",
   "version": "3.8.10"
  },
  "orig_nbformat": 4,
  "vscode": {
   "interpreter": {
    "hash": "a6e0e7a52ff25650311410ec676cb128052cdfc3b848542c415d170f51f09b78"
   }
  }
 },
 "nbformat": 4,
 "nbformat_minor": 2
}
