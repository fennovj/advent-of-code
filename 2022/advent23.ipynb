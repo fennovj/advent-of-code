{
 "cells": [
  {
   "cell_type": "code",
   "execution_count": 1,
   "metadata": {},
   "outputs": [],
   "source": [
    "import advent\n",
    "\n",
    "data = (advent.get_char_grid(23) == '#')\n",
    "dataset = set([])\n",
    "\n",
    "for i in range(data.shape[0]):\n",
    "    for j in range(data.shape[0]):\n",
    "        if data[i, j]:\n",
    "            dataset.update([(i, j)])\n",
    "\n",
    "# N: -1, 0\n",
    "# S: 1, 0\n",
    "# W: 0, -1\n",
    "# E: 0, 1"
   ]
  },
  {
   "cell_type": "code",
   "execution_count": 2,
   "metadata": {},
   "outputs": [],
   "source": [
    "elf = lambda pos, dy, dx: (pos[0] + dy, pos[1] + dx) in dataset\n",
    "tadd = lambda a, b: (a[0] + b[0], a[1] + b[1])\n",
    "\n",
    "def propose(dataset, pos, direction):\n",
    "    y, x = pos\n",
    "    tl, t, tr = elf(pos, -1, -1), elf(pos, -1, 0), elf(pos, -1, 1)\n",
    "    l, r = elf(pos, 0, -1), elf(pos, 0, 1)\n",
    "    bl, b, br = elf(pos, 1, -1), elf(pos, 1, 0), elf(pos, 1, 1)\n",
    "    if not (tl or t or tr or l or r or bl or b or br): return pos\n",
    "    \n",
    "    next_dir = {'N': 'S', 'S': 'W', 'W': 'E', 'E': 'N'}\n",
    "    for _ in range(4):\n",
    "        if direction == 'N' and not (tl or t or tr): return tadd(pos, (-1, 0))\n",
    "        if direction == 'S' and not (bl or b or br): return tadd(pos, (1, 0))\n",
    "        if direction == 'W' and not (tl or l or bl): return tadd(pos, (0, -1))\n",
    "        if direction == 'E' and not (tr or r or br): return tadd(pos, (0, 1))\n",
    "        direction = next_dir[direction]\n",
    "    # all 4 directions were occupied\n",
    "    return pos"
   ]
  },
  {
   "cell_type": "code",
   "execution_count": 3,
   "metadata": {},
   "outputs": [
    {
     "name": "stdout",
     "output_type": "stream",
     "text": [
      "3788\n"
     ]
    }
   ],
   "source": [
    "from collections import Counter\n",
    "\n",
    "def entire_step(dataset, direction='N'):\n",
    "    proposals = dict([(elf, propose(dataset, elf, direction)) for elf in dataset])\n",
    "    proposal_count = Counter(proposals.values())\n",
    "\n",
    "    new_locations = set([])\n",
    "    for key in proposals:\n",
    "        if proposal_count[proposals[key]] > 1:\n",
    "            new_locations.update([key]) # don't move\n",
    "        else:\n",
    "            new_locations.update([proposals[key]]) # move\n",
    "\n",
    "    return new_locations\n",
    "\n",
    "next_dir = {'N': 'S', 'S': 'W', 'W': 'E', 'E': 'N'}\n",
    "direction = 'N'\n",
    "for _ in range(10):\n",
    "    dataset = entire_step(dataset, direction)\n",
    "    direction = next_dir[direction]\n",
    "\n",
    "# Now find min_x, min_y, max_x, max_y\n",
    "min_y, max_y = min([x[0] for x in dataset]), max([x[0] for x in dataset])\n",
    "min_x, max_x = min([x[1] for x in dataset]), max([x[1] for x in dataset])\n",
    "rectangle_size = (max_y - min_y + 1) * (max_x - min_x + 1)\n",
    "print(rectangle_size - len(dataset))"
   ]
  },
  {
   "cell_type": "code",
   "execution_count": 4,
   "metadata": {},
   "outputs": [
    {
     "name": "stdout",
     "output_type": "stream",
     "text": [
      "921\n"
     ]
    }
   ],
   "source": [
    "round_nr = 10 # This is continues from the previous cell.\n",
    "# means this only works if you run previous cell first\n",
    "\n",
    "\n",
    "while True:\n",
    "    round_nr += 1\n",
    "    old_dataset = dataset.copy()\n",
    "    dataset = entire_step(dataset, direction)\n",
    "    direction = next_dir[direction]\n",
    "    if old_dataset == dataset: # jay for python i guess\n",
    "        break\n",
    "\n",
    "print(round_nr)"
   ]
  },
  {
   "cell_type": "code",
   "execution_count": null,
   "metadata": {},
   "outputs": [],
   "source": []
  }
 ],
 "metadata": {
  "kernelspec": {
   "display_name": "env",
   "language": "python",
   "name": "python3"
  },
  "language_info": {
   "codemirror_mode": {
    "name": "ipython",
    "version": 3
   },
   "file_extension": ".py",
   "mimetype": "text/x-python",
   "name": "python",
   "nbconvert_exporter": "python",
   "pygments_lexer": "ipython3",
   "version": "3.8.10 (default, Oct 28 2022, 11:22:12) \n[Clang 14.0.0 (clang-1400.0.29.102)]"
  },
  "orig_nbformat": 4,
  "vscode": {
   "interpreter": {
    "hash": "a6e0e7a52ff25650311410ec676cb128052cdfc3b848542c415d170f51f09b78"
   }
  }
 },
 "nbformat": 4,
 "nbformat_minor": 2
}
