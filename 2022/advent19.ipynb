{
 "cells": [
  {
   "cell_type": "code",
   "execution_count": 58,
   "metadata": {},
   "outputs": [],
   "source": [
    "import advent\n",
    "\n",
    "def parse_line(line):\n",
    "    words = line.split(' ')\n",
    "    return tuple([int(words[ix]) for ix in [6, 12, 18, 21, 27, 30]])\n",
    "\n",
    "lines = advent.get_lines(19, map_fn=parse_line)"
   ]
  },
  {
   "cell_type": "code",
   "execution_count": 59,
   "metadata": {},
   "outputs": [],
   "source": [
    "tadd3 = lambda a, b: (a[0] + b[0], a[1] + b[1], a[2] + b[2])\n",
    "tadd4 = lambda a, b: (a[0] + b[0], a[1] + b[1], a[2] + b[2], a[3] + b[3])\n",
    "tmul = lambda c, a: (c * a[0], c*a[1], c*a[2], c*a[3])\n",
    "\n",
    "def build_and_mine(blueprint, resources, miners, current_miners):\n",
    "    # Checks if a suggested number of miners is possible to build with the given resources\n",
    "    # and if so, return tuple with resources left after building\n",
    "    ore_needed = (miners[0] * blueprint[0]) + (miners[1] * blueprint[1]) + (miners[2] * blueprint[2]) + (miners[3] * blueprint[4])\n",
    "    clay_needed = (miners[2] * blueprint[3])\n",
    "    obsidian_needed = (miners[3] * blueprint[5])\n",
    "    if ore_needed > resources[0] or clay_needed > resources[1] or obsidian_needed > resources[2]:\n",
    "        return False, False\n",
    "    new_miners = tadd4(miners, current_miners)\n",
    "    new_resources = tadd4(resources, tmul(-1, (ore_needed, clay_needed, obsidian_needed, 0)))\n",
    "    new_resources = tadd4(new_resources, current_miners)\n",
    "    return new_resources, new_miners"
   ]
  },
  {
   "cell_type": "code",
   "execution_count": 62,
   "metadata": {},
   "outputs": [
    {
     "data": {
      "text/plain": [
       "9"
      ]
     },
     "execution_count": 62,
     "metadata": {},
     "output_type": "execute_result"
    }
   ],
   "source": [
    "# Attempt 2: choose the next robot to build, from the list of 4. Then build that next robot ASAP, before generating another robot\n",
    "# hopefully, we will build maximum like 6 robots, so this will generate 4^6 = 4096 paths, which seems managable\n",
    "# and many of those paths will be cut off early, such as any path that starts with 'geode' (because you don't have obsidian yet)\n",
    "# unfortunately in practice we build way more robots than just 6\n",
    "\n",
    "def amax(*args):\n",
    "    return max(args, key=lambda x: x[0])\n",
    "\n",
    "def maximum_geodes_2(blueprint, resources=(0,0,0,0), miners=(1,0,0,0), minute=1, next_build=None, max_minute=24):\n",
    "    # max_build = 0: ore, 1: clay, 2: obsidian, 3: geode\n",
    "    if minute == max_minute: return miners[3] + resources[3], []\n",
    "    if next_build == 2 and miners[1] == 0: return 0, []\n",
    "    if next_build == 3 and miners[2] == 0: return 0, []\n",
    "    if miners[0] > 15: return -1, [] # maximum 10 ore miners allowed\n",
    "    if miners[1] > 15: return -1, [] # maximum 10 clay miners allowed\n",
    "\n",
    "    if next_build is None:\n",
    "        return amax(\n",
    "            maximum_geodes_2(blueprint, resources, miners, minute, 0, max_minute),\n",
    "            maximum_geodes_2(blueprint, resources, miners, minute, 1, max_minute)\n",
    "        )\n",
    "\n",
    "    to_build_tmp = (int(next_build==0), int(next_build==1), int(next_build==2), int(next_build==3))\n",
    "    new_resources, new_miners = build_and_mine(blueprint, resources, to_build_tmp, miners)\n",
    "    #print(resources, miners, minute, resources_left, to_build)\n",
    "    if new_resources:\n",
    "        next_build_options = {0: [0, 1], 1:[0, 1, 2], 2: [1, 2, 3], 3: [2, 3]}[next_build]\n",
    "        res = max([maximum_geodes_2(blueprint, new_resources, new_miners, minute+1, i, max_minute) for i in next_build_options], key=lambda x: x[0])\n",
    "        return res[0], [(new_miners, new_resources, minute+1)] + res[1]\n",
    "    else:\n",
    "        # pass the tim\n",
    "        new_resources = tadd4(resources, miners)\n",
    "        max_geodes, subresult = maximum_geodes_2(blueprint, new_resources, miners, minute + 1, next_build, max_minute)\n",
    "        return max_geodes, [(miners, new_resources, minute+1)] + subresult\n",
    "\n",
    "blueprint1 = (4, 2, 3, 14, 2, 7)\n",
    "blueprint2 = (2, 3, 3, 8, 3, 12)\n",
    "m, p = maximum_geodes_2(blueprint1, next_build=None, max_minute=24)\n",
    "\n",
    "m"
   ]
  },
  {
   "cell_type": "code",
   "execution_count": 63,
   "metadata": {},
   "outputs": [
    {
     "data": {
      "application/vnd.jupyter.widget-view+json": {
       "model_id": "1a5448e0411543d381452fbca1351866",
       "version_major": 2,
       "version_minor": 0
      },
      "text/plain": [
       "  0%|          | 0/30 [00:00<?, ?it/s]"
      ]
     },
     "metadata": {},
     "output_type": "display_data"
    },
    {
     "name": "stdout",
     "output_type": "stream",
     "text": [
      "1264\n"
     ]
    }
   ],
   "source": [
    "from tqdm.notebook import tqdm\n",
    "result = 0\n",
    "\n",
    "for i, line in tqdm(list(enumerate(lines))):\n",
    "    result += maximum_geodes_2(line, next_build=None, max_minute=24)[0] * (i+1)\n",
    "\n",
    "print(result)"
   ]
  },
  {
   "cell_type": "code",
   "execution_count": 64,
   "metadata": {},
   "outputs": [
    {
     "data": {
      "text/plain": [
       "(11,\n",
       " [((1, 0, 0, 0), (1, 0, 0, 0), 2),\n",
       "  ((1, 0, 0, 0), (2, 0, 0, 0), 3),\n",
       "  ((1, 0, 0, 0), (3, 0, 0, 0), 4),\n",
       "  ((1, 0, 0, 0), (4, 0, 0, 0), 5),\n",
       "  ((2, 0, 0, 0), (1, 0, 0, 0), 6),\n",
       "  ((2, 0, 0, 0), (3, 0, 0, 0), 7),\n",
       "  ((2, 0, 0, 0), (5, 0, 0, 0), 8),\n",
       "  ((3, 0, 0, 0), (3, 0, 0, 0), 9),\n",
       "  ((3, 0, 0, 0), (6, 0, 0, 0), 10),\n",
       "  ((3, 1, 0, 0), (5, 0, 0, 0), 11),\n",
       "  ((4, 1, 0, 0), (4, 1, 0, 0), 12),\n",
       "  ((4, 2, 0, 0), (4, 2, 0, 0), 13),\n",
       "  ((4, 3, 0, 0), (4, 4, 0, 0), 14),\n",
       "  ((4, 4, 0, 0), (4, 7, 0, 0), 15),\n",
       "  ((4, 5, 0, 0), (4, 11, 0, 0), 16),\n",
       "  ((4, 6, 0, 0), (4, 16, 0, 0), 17),\n",
       "  ((4, 6, 1, 0), (4, 8, 0, 0), 18),\n",
       "  ((4, 7, 1, 0), (4, 14, 1, 0), 19),\n",
       "  ((4, 7, 2, 0), (4, 7, 2, 0), 20),\n",
       "  ((4, 8, 2, 0), (4, 14, 4, 0), 21),\n",
       "  ((4, 8, 3, 0), (4, 8, 6, 0), 22),\n",
       "  ((4, 9, 3, 0), (4, 16, 9, 0), 23),\n",
       "  ((4, 9, 4, 0), (4, 11, 12, 0), 24),\n",
       "  ((4, 9, 4, 0), (8, 20, 16, 0), 25),\n",
       "  ((4, 9, 4, 1), (9, 29, 4, 0), 26),\n",
       "  ((4, 9, 5, 1), (9, 24, 8, 1), 27),\n",
       "  ((4, 9, 6, 1), (9, 19, 13, 2), 28),\n",
       "  ((4, 9, 7, 1), (9, 14, 19, 3), 29),\n",
       "  ((4, 9, 7, 2), (10, 23, 10, 4), 30),\n",
       "  ((4, 9, 8, 2), (10, 18, 17, 6), 31),\n",
       "  ((4, 9, 8, 3), (11, 27, 9, 8), 32)])"
      ]
     },
     "execution_count": 64,
     "metadata": {},
     "output_type": "execute_result"
    }
   ],
   "source": [
    "maximum_geodes_2(lines[0], next_build=None, max_minute=32)"
   ]
  },
  {
   "cell_type": "code",
   "execution_count": 65,
   "metadata": {},
   "outputs": [
    {
     "data": {
      "text/plain": [
       "(47,\n",
       " [((1, 0, 0, 0), (1, 0, 0, 0), 2),\n",
       "  ((1, 0, 0, 0), (2, 0, 0, 0), 3),\n",
       "  ((1, 0, 0, 0), (3, 0, 0, 0), 4),\n",
       "  ((1, 0, 0, 0), (4, 0, 0, 0), 5),\n",
       "  ((2, 0, 0, 0), (1, 0, 0, 0), 6),\n",
       "  ((2, 0, 0, 0), (3, 0, 0, 0), 7),\n",
       "  ((2, 0, 0, 0), (5, 0, 0, 0), 8),\n",
       "  ((3, 0, 0, 0), (3, 0, 0, 0), 9),\n",
       "  ((3, 1, 0, 0), (3, 0, 0, 0), 10),\n",
       "  ((3, 2, 0, 0), (3, 1, 0, 0), 11),\n",
       "  ((3, 3, 0, 0), (3, 3, 0, 0), 12),\n",
       "  ((3, 4, 0, 0), (3, 6, 0, 0), 13),\n",
       "  ((3, 5, 0, 0), (3, 10, 0, 0), 14),\n",
       "  ((3, 6, 0, 0), (3, 15, 0, 0), 15),\n",
       "  ((3, 6, 1, 0), (3, 10, 0, 0), 16),\n",
       "  ((3, 7, 1, 0), (3, 16, 1, 0), 17),\n",
       "  ((3, 7, 2, 0), (3, 12, 2, 0), 18),\n",
       "  ((3, 7, 3, 0), (3, 8, 4, 0), 19),\n",
       "  ((3, 7, 3, 0), (6, 15, 7, 0), 20),\n",
       "  ((3, 7, 4, 0), (6, 11, 10, 0), 21),\n",
       "  ((3, 7, 4, 1), (5, 18, 7, 0), 22),\n",
       "  ((3, 7, 4, 2), (4, 25, 4, 1), 23),\n",
       "  ((3, 7, 5, 2), (4, 21, 8, 3), 24),\n",
       "  ((3, 7, 5, 3), (3, 28, 6, 5), 25),\n",
       "  ((3, 7, 5, 3), (6, 35, 11, 8), 26),\n",
       "  ((3, 7, 5, 4), (5, 42, 9, 11), 27),\n",
       "  ((3, 7, 5, 5), (4, 49, 7, 15), 28),\n",
       "  ((3, 7, 5, 6), (3, 56, 5, 20), 29),\n",
       "  ((3, 7, 5, 6), (6, 63, 10, 26), 30),\n",
       "  ((3, 7, 5, 7), (5, 70, 8, 32), 31),\n",
       "  ((3, 7, 5, 8), (4, 77, 6, 39), 32)])"
      ]
     },
     "execution_count": 65,
     "metadata": {},
     "output_type": "execute_result"
    }
   ],
   "source": [
    "maximum_geodes_2(lines[1], next_build=None, max_minute=32)"
   ]
  },
  {
   "cell_type": "code",
   "execution_count": 66,
   "metadata": {},
   "outputs": [
    {
     "data": {
      "text/plain": [
       "(25,\n",
       " [((1, 0, 0, 0), (1, 0, 0, 0), 2),\n",
       "  ((1, 0, 0, 0), (2, 0, 0, 0), 3),\n",
       "  ((1, 0, 0, 0), (3, 0, 0, 0), 4),\n",
       "  ((1, 0, 0, 0), (4, 0, 0, 0), 5),\n",
       "  ((2, 0, 0, 0), (1, 0, 0, 0), 6),\n",
       "  ((2, 0, 0, 0), (3, 0, 0, 0), 7),\n",
       "  ((2, 0, 0, 0), (5, 0, 0, 0), 8),\n",
       "  ((3, 0, 0, 0), (3, 0, 0, 0), 9),\n",
       "  ((3, 0, 0, 0), (6, 0, 0, 0), 10),\n",
       "  ((3, 1, 0, 0), (5, 0, 0, 0), 11),\n",
       "  ((4, 1, 0, 0), (4, 1, 0, 0), 12),\n",
       "  ((4, 2, 0, 0), (4, 2, 0, 0), 13),\n",
       "  ((4, 3, 0, 0), (4, 4, 0, 0), 14),\n",
       "  ((4, 4, 0, 0), (4, 7, 0, 0), 15),\n",
       "  ((4, 5, 0, 0), (4, 11, 0, 0), 16),\n",
       "  ((4, 6, 0, 0), (4, 16, 0, 0), 17),\n",
       "  ((4, 6, 1, 0), (5, 8, 0, 0), 18),\n",
       "  ((4, 7, 1, 0), (5, 14, 1, 0), 19),\n",
       "  ((4, 7, 2, 0), (6, 7, 2, 0), 20),\n",
       "  ((4, 8, 2, 0), (6, 14, 4, 0), 21),\n",
       "  ((4, 8, 3, 0), (7, 8, 6, 0), 22),\n",
       "  ((4, 9, 3, 0), (7, 16, 9, 0), 23),\n",
       "  ((4, 9, 4, 0), (8, 11, 12, 0), 24),\n",
       "  ((4, 9, 4, 1), (9, 20, 8, 0), 25),\n",
       "  ((4, 9, 4, 2), (10, 29, 4, 1), 26),\n",
       "  ((4, 9, 5, 2), (11, 24, 8, 3), 27),\n",
       "  ((4, 9, 5, 3), (12, 33, 5, 5), 28),\n",
       "  ((4, 9, 6, 3), (13, 28, 10, 8), 29),\n",
       "  ((4, 9, 6, 4), (14, 37, 8, 11), 30),\n",
       "  ((4, 9, 6, 5), (15, 46, 6, 15), 31),\n",
       "  ((4, 9, 7, 5), (16, 41, 12, 20), 32)])"
      ]
     },
     "execution_count": 66,
     "metadata": {},
     "output_type": "execute_result"
    }
   ],
   "source": [
    "maximum_geodes_2(lines[2], next_build=None, max_minute=32)"
   ]
  },
  {
   "cell_type": "code",
   "execution_count": 55,
   "metadata": {},
   "outputs": [
    {
     "data": {
      "text/plain": [
       "11750"
      ]
     },
     "execution_count": 55,
     "metadata": {},
     "output_type": "execute_result"
    }
   ],
   "source": [
    "(\n",
    "    maximum_geodes_2(lines[0], next_build=None, max_minute=32)[0] * \n",
    "    maximum_geodes_2(lines[1], next_build=None, max_minute=32)[0] * \n",
    "    maximum_geodes_2(lines[2], next_build=None, max_minute=32)[0]\n",
    ")"
   ]
  },
  {
   "cell_type": "code",
   "execution_count": 1,
   "metadata": {},
   "outputs": [
    {
     "data": {
      "text/plain": [
       "12925"
      ]
     },
     "execution_count": 1,
     "metadata": {},
     "output_type": "execute_result"
    }
   ],
   "source": [
    "11*47*25"
   ]
  },
  {
   "cell_type": "code",
   "execution_count": null,
   "metadata": {},
   "outputs": [],
   "source": []
  }
 ],
 "metadata": {
  "kernelspec": {
   "display_name": "env",
   "language": "python",
   "name": "python3"
  },
  "language_info": {
   "codemirror_mode": {
    "name": "ipython",
    "version": 3
   },
   "file_extension": ".py",
   "mimetype": "text/x-python",
   "name": "python",
   "nbconvert_exporter": "python",
   "pygments_lexer": "ipython3",
   "version": "3.8.10 (default, Oct 28 2022, 11:22:12) \n[Clang 14.0.0 (clang-1400.0.29.102)]"
  },
  "orig_nbformat": 4,
  "vscode": {
   "interpreter": {
    "hash": "a6e0e7a52ff25650311410ec676cb128052cdfc3b848542c415d170f51f09b78"
   }
  }
 },
 "nbformat": 4,
 "nbformat_minor": 2
}
