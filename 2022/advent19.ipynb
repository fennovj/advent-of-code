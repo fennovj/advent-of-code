{
 "cells": [
  {
   "cell_type": "code",
   "execution_count": 1,
   "metadata": {},
   "outputs": [],
   "source": [
    "import advent\n",
    "\n",
    "def parse_line(line):\n",
    "    words = line.split(' ')\n",
    "    return tuple([int(words[ix]) for ix in [6, 12, 18, 21, 27, 30]])\n",
    "\n",
    "lines = advent.get_lines(19, map_fn=parse_line)"
   ]
  },
  {
   "cell_type": "code",
   "execution_count": 2,
   "metadata": {},
   "outputs": [],
   "source": [
    "tadd3 = lambda a, b: (a[0] + b[0], a[1] + b[1], a[2] + b[2])\n",
    "tadd4 = lambda a, b: (a[0] + b[0], a[1] + b[1], a[2] + b[2], a[3] + b[3])\n",
    "tmul = lambda c, a: (c * a[0], c*a[1], c*a[2], c*a[3])\n",
    "\n",
    "def build_and_mine(blueprint, resources, miners, current_miners):\n",
    "    # Checks if a suggested number of miners is possible to build with the given resources\n",
    "    # and if so, return tuple with resources left after building\n",
    "\n",
    "    # First, check if we already have enough miners, and if so, return false\n",
    "    if miners[0] and current_miners[0] >= max(blueprint[0], blueprint[1], blueprint[2], blueprint[4]): return False, False\n",
    "    if miners[1] and current_miners[1] >= blueprint[3]: False, False\n",
    "    if miners[2] and current_miners[2] >= blueprint[5]: return False, False\n",
    "\n",
    "    ore_needed = (miners[0] * blueprint[0]) + (miners[1] * blueprint[1]) + (miners[2] * blueprint[2]) + (miners[3] * blueprint[4])\n",
    "    clay_needed = (miners[2] * blueprint[3])\n",
    "    obsidian_needed = (miners[3] * blueprint[5])\n",
    "    if ore_needed > resources[0] or clay_needed > resources[1] or obsidian_needed > resources[2]:\n",
    "        return False, False\n",
    "    new_miners = tadd4(miners, current_miners)\n",
    "    new_resources = tadd4(resources, tmul(-1, (ore_needed, clay_needed, obsidian_needed, 0)))\n",
    "    new_resources = tadd4(new_resources, current_miners)\n",
    "    return new_resources, new_miners"
   ]
  },
  {
   "cell_type": "code",
   "execution_count": null,
   "metadata": {},
   "outputs": [],
   "source": [
    "# Attempt 2: choose the next robot to build, from the list of 4. Then build that next robot ASAP, before generating another robot\n",
    "# hopefully, we will build maximum like 6 robots, so this will generate 4^6 = 4096 paths, which seems managable\n",
    "# and many of those paths will be cut off early, such as any path that starts with 'geode' (because you don't have obsidian yet)\n",
    "# unfortunately in practice we build way more robots than just 6\n",
    "\n",
    "def amax(*args):\n",
    "    return max(args, key=lambda x: x[0])\n",
    "\n",
    "def maximum_geodes_2(blueprint, resources=(0,0,0,0), miners=(1,0,0,0), minute=1, next_build=None, max_minute=24):\n",
    "    # max_build = 0: ore, 1: clay, 2: obsidian, 3: geode\n",
    "    if minute == max_minute: return miners[3] + resources[3], []\n",
    "    if next_build == 2 and miners[1] == 0: return 0, []\n",
    "    if next_build == 3 and miners[2] == 0: return 0, []\n",
    "\n",
    "    if next_build is None:\n",
    "        r1 = maximum_geodes_2(blueprint, resources, miners, minute, 1, max_minute)\n",
    "        r0 = maximum_geodes_2(blueprint, resources, miners, minute, 0, max_minute)\n",
    "        if r0[0] > r1[0]: return r0\n",
    "        return r1\n",
    "\n",
    "\n",
    "    to_build_tmp = (int(next_build==0), int(next_build==1), int(next_build==2), int(next_build==3))\n",
    "    new_resources, new_miners = build_and_mine(blueprint, resources, to_build_tmp, miners)\n",
    "    #print(resources, miners, minute, resources_left, to_build)\n",
    "    if new_resources:\n",
    "        # This restriction works for part 1, not for part 2\n",
    "        # next_build_options = {0: [0, 1], 1:[0, 1, 2], 2: [1, 2, 3], 3: [2, 3]}[next_build]\n",
    "        next_build_options = [0, 1, 2, 3]\n",
    "        res = max([maximum_geodes_2(blueprint, new_resources, new_miners, minute+1, i, max_minute) for i in next_build_options], key=lambda x: x[0])\n",
    "        return res[0], [(new_miners, new_resources, minute+1)] + res[1]\n",
    "    else:\n",
    "        # pass the tim\n",
    "        new_resources = tadd4(resources, miners)\n",
    "        max_geodes, subresult = maximum_geodes_2(blueprint, new_resources, miners, minute + 1, next_build, max_minute)\n",
    "        return max_geodes, [(miners, new_resources, minute+1)] + subresult\n",
    "\n",
    "blueprint1 = (4, 2, 3, 14, 2, 7)\n",
    "blueprint2 = (2, 3, 3, 8, 3, 12)\n",
    "m, p = maximum_geodes_2(blueprint1, next_build=None, max_minute=24)\n"
   ]
  },
  {
   "cell_type": "code",
   "execution_count": null,
   "metadata": {},
   "outputs": [],
   "source": [
    "from tqdm.notebook import tqdm\n",
    "result = 0\n",
    "\n",
    "for i, line in tqdm(list(enumerate(lines))):\n",
    "    result += maximum_geodes_2(line, next_build=None, max_minute=24)[0] * (i+1)\n",
    "\n",
    "print(result)"
   ]
  },
  {
   "cell_type": "code",
   "execution_count": null,
   "metadata": {},
   "outputs": [],
   "source": [
    "maximum_geodes_2(lines[0], next_build=None, max_minute=32)"
   ]
  },
  {
   "cell_type": "code",
   "execution_count": null,
   "metadata": {},
   "outputs": [],
   "source": [
    "maximum_geodes_2(lines[1], next_build=None, max_minute=32)\n",
    "# This took like 35 minutes..."
   ]
  },
  {
   "cell_type": "code",
   "execution_count": null,
   "metadata": {},
   "outputs": [],
   "source": [
    "maximum_geodes_2(lines[2], next_build=None, max_minute=32)"
   ]
  },
  {
   "cell_type": "code",
   "execution_count": 14,
   "metadata": {},
   "outputs": [
    {
     "data": {
      "text/plain": [
       "13475"
      ]
     },
     "execution_count": 14,
     "metadata": {},
     "output_type": "execute_result"
    }
   ],
   "source": [
    "# manually copy from previous cells, would of course be easy to do in code\n",
    "# but it takes so long it's nice to do it piecewise\n",
    "11*49*25"
   ]
  },
  {
   "cell_type": "code",
   "execution_count": null,
   "metadata": {},
   "outputs": [],
   "source": []
  }
 ],
 "metadata": {
  "kernelspec": {
   "display_name": "env",
   "language": "python",
   "name": "python3"
  },
  "language_info": {
   "codemirror_mode": {
    "name": "ipython",
    "version": 3
   },
   "file_extension": ".py",
   "mimetype": "text/x-python",
   "name": "python",
   "nbconvert_exporter": "python",
   "pygments_lexer": "ipython3",
   "version": "3.8.10"
  },
  "orig_nbformat": 4,
  "vscode": {
   "interpreter": {
    "hash": "a6e0e7a52ff25650311410ec676cb128052cdfc3b848542c415d170f51f09b78"
   }
  }
 },
 "nbformat": 4,
 "nbformat_minor": 2
}
