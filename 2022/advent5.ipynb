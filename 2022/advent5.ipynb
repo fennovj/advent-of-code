{
 "cells": [
  {
   "cell_type": "code",
   "execution_count": 40,
   "metadata": {},
   "outputs": [],
   "source": [
    "import advent\n",
    "\n",
    "data = advent.get_lines_doublenewline(5)\n",
    "\n",
    "def parse_stack(data, col):\n",
    "    return [line[col] for line in data[:-1] if line[col] != ' ']\n",
    "\n",
    "stacks = [parse_stack(data[0], col) for col in range(1, 35, 4)]"
   ]
  },
  {
   "cell_type": "code",
   "execution_count": 41,
   "metadata": {},
   "outputs": [
    {
     "data": {
      "text/plain": [
       "'PWPWHGFZS'"
      ]
     },
     "execution_count": 41,
     "metadata": {},
     "output_type": "execute_result"
    }
   ],
   "source": [
    "def move_between_stacks(from_, to, num, part2=False):\n",
    "    if part2:\n",
    "        if num > len(from_): return [], from_ + to\n",
    "        return from_[num:], from_[:num] + to\n",
    "    else:\n",
    "        if num > len(from_): return [], from_[::-1] + to\n",
    "        return from_[num:], from_[:num][::-1] + to\n",
    "\n",
    "part2 = True\n",
    "\n",
    "for instruction in data[1]:\n",
    "    c = instruction.split(' ')\n",
    "    from_, to, num = int(c[3]) - 1, int(c[5]) - 1, int(c[1])\n",
    "    stacks[from_], stacks[to] = move_between_stacks(stacks[from_], stacks[to], num, part2)\n",
    "\n",
    "''.join([stack[0] for stack in stacks if len(stack) > 0])"
   ]
  },
  {
   "cell_type": "code",
   "execution_count": null,
   "metadata": {},
   "outputs": [],
   "source": []
  }
 ],
 "metadata": {
  "kernelspec": {
   "display_name": "Python 3.8.10 ('env': venv)",
   "language": "python",
   "name": "python3"
  },
  "language_info": {
   "codemirror_mode": {
    "name": "ipython",
    "version": 3
   },
   "file_extension": ".py",
   "mimetype": "text/x-python",
   "name": "python",
   "nbconvert_exporter": "python",
   "pygments_lexer": "ipython3",
   "version": "3.8.10"
  },
  "orig_nbformat": 4,
  "vscode": {
   "interpreter": {
    "hash": "5d7396d72a031e084ca8a7a10bc9e074a727d6785ddc3f255c136fb1ccc8ec02"
   }
  }
 },
 "nbformat": 4,
 "nbformat_minor": 2
}
