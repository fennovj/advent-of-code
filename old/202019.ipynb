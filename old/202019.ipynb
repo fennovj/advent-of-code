{
 "cells": [
  {
   "cell_type": "code",
   "execution_count": 83,
   "metadata": {},
   "outputs": [],
   "source": [
    "import re\n",
    "with open('202019_small.csv', 'r') as f:\n",
    "    x = f.read().replace(\"\\\"\", \"\").split('\\n')\n",
    "x = list(map(lambda e: e.split(': '), x))\n",
    "part2 = True\n",
    "\n",
    "known = {}\n",
    "while \"0\" not in known:\n",
    "    for i, c in enumerate(x):\n",
    "\n",
    "        if part2:\n",
    "            if c[0] == '8' and '42' in known:\n",
    "                known['8'] = \"(\" + known['42'] + \")+\"\n",
    "                continue\n",
    "            if c[0] == '11' and '42' in known and '31' in known:\n",
    "                known ['11'] = '|'.join(\"(\" + (known['42'] * i) + (known['31'] * i) + \")\" for i in range(1, 10))\n",
    "                continue\n",
    "\n",
    "        if not any(char.isdigit() for char in c[1]):\n",
    "            known[c[0]] = c[1]\n",
    "        nums = c[1].split(' ')\n",
    "        for num in nums:\n",
    "            if num in known:\n",
    "                repl = \"(\" + known[num] + \")\" if \"|\" in known[num] else known[num]\n",
    "                x[i][1] = re.sub(r\"\\b{}\\b\".format(num), repl, c[1])\n",
    "\n"
   ]
  },
  {
   "cell_type": "code",
   "execution_count": 84,
   "metadata": {},
   "outputs": [
    {
     "name": "stdout",
     "output_type": "stream",
     "text": [
      "None\n",
      "<re.Match object; span=(0, 15), match='bbabbbbaabaabba'>\n",
      "None\n",
      "None\n",
      "<re.Match object; span=(0, 25), match='bbbbbbbaaaabbbbaaabbabaaa'>\n",
      "None\n",
      "<re.Match object; span=(0, 15), match='ababaaaaaabaaab'>\n",
      "None\n",
      "None\n",
      "<re.Match object; span=(0, 30), match='abbbbabbbbaaaababbbbbbaaaababb'>\n",
      "<re.Match object; span=(0, 20), match='aaaaabbaabaaaaababaa'>\n",
      "None\n",
      "None\n",
      "None\n",
      "None\n"
     ]
    },
    {
     "data": {
      "text/plain": [
       "5"
      ]
     },
     "execution_count": 84,
     "metadata": {},
     "output_type": "execute_result"
    }
   ],
   "source": [
    "with open('202019_2_small.csv', 'r') as f:\n",
    "    lines = f.read().split(\"\\n\")\n",
    "\n",
    "result = 0\n",
    "for line in lines:\n",
    "    m = re.match(r\"^{}$\".format(known['0'].replace(\" \", \"\")), line)\n",
    "    #m = re.match(r'^{}$'.format(\"(\" + known['8'].replace(\" \", \"\") + \")(\" + known['11'].replace(\" \", \"\") + \")\"), line)\n",
    "    print(m)\n",
    "    if m is not None:\n",
    "        result += 1\n",
    "result"
   ]
  },
  {
   "cell_type": "code",
   "execution_count": 69,
   "metadata": {},
   "outputs": [
    {
     "data": {
      "text/plain": [
       "<re.Match object; span=(0, 25), match='babbbbaabbbbbabbbbbbaabaa'>"
      ]
     },
     "execution_count": 69,
     "metadata": {},
     "output_type": "execute_result"
    }
   ],
   "source": [
    "x = re.match(r'^{}$'.format(known['8'].replace(\" \", \"\") + known['11'].replace(\" \", \"\")), \"babbbbaabbbbbabbbbbbaabaaabaaa\")\n",
    "x"
   ]
  },
  {
   "cell_type": "code",
   "execution_count": 75,
   "metadata": {},
   "outputs": [
    {
     "data": {
      "text/plain": [
       "False"
      ]
     },
     "execution_count": 75,
     "metadata": {},
     "output_type": "execute_result"
    }
   ],
   "source": [
    "m.end() == len(line)"
   ]
  },
  {
   "cell_type": "code",
   "execution_count": 76,
   "metadata": {},
   "outputs": [
    {
     "data": {
      "text/plain": [
       "40"
      ]
     },
     "execution_count": 76,
     "metadata": {},
     "output_type": "execute_result"
    }
   ],
   "source": [
    "len(line)"
   ]
  },
  {
   "cell_type": "code",
   "execution_count": 78,
   "metadata": {},
   "outputs": [
    {
     "ename": "SyntaxError",
     "evalue": "unexpected EOF while parsing (3035041240.py, line 1)",
     "output_type": "error",
     "traceback": [
      "\u001b[0;36m  File \u001b[0;32m\"/var/folders/zs/fgq0pzv53zj9c5b3rk201znc0000gn/T/ipykernel_40544/3035041240.py\"\u001b[0;36m, line \u001b[0;32m1\u001b[0m\n\u001b[0;31m    r'^{}$'.format(known['8'].replace(\" \", \"\") + known['11'].replace(\" \", \"\")\u001b[0m\n\u001b[0m                                                                             ^\u001b[0m\n\u001b[0;31mSyntaxError\u001b[0m\u001b[0;31m:\u001b[0m unexpected EOF while parsing\n"
     ]
    }
   ],
   "source": [
    "r'^{}$'.format(known['8'].replace(\" \", \"\") + known['11'].replace(\" \", \"\")"
   ]
  },
  {
   "cell_type": "code",
   "execution_count": null,
   "metadata": {},
   "outputs": [],
   "source": []
  }
 ],
 "metadata": {
  "interpreter": {
   "hash": "1ba485997a1541442dfd44644569850fb24d8f183b3d63720c2396ab2df01f7f"
  },
  "kernelspec": {
   "display_name": "Python 3.9.7 64-bit ('env': venv)",
   "language": "python",
   "name": "python3"
  },
  "language_info": {
   "codemirror_mode": {
    "name": "ipython",
    "version": 3
   },
   "file_extension": ".py",
   "mimetype": "text/x-python",
   "name": "python",
   "nbconvert_exporter": "python",
   "pygments_lexer": "ipython3",
   "version": "3.9.7"
  },
  "orig_nbformat": 4
 },
 "nbformat": 4,
 "nbformat_minor": 2
}
