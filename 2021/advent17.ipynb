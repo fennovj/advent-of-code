{
 "cells": [
  {
   "cell_type": "code",
   "execution_count": 44,
   "metadata": {},
   "outputs": [],
   "source": [
    "data = \"target area: x=287..309, y=-76..-48\"\n",
    "\n",
    "# data = \"target area: x=20..30, y=-10..-5\"  # test\n",
    "# Target is 0-indexed and inclusive\n",
    "\n",
    "data = data[15:].split(\", y=\")\n",
    "target_x = [int(i) for i in data[0].split(\"..\")]\n",
    "target_y = [int(i) for i in data[1].split(\"..\")]\n"
   ]
  },
  {
   "cell_type": "code",
   "execution_count": 45,
   "metadata": {},
   "outputs": [
    {
     "data": {
      "text/plain": [
       "-1"
      ]
     },
     "execution_count": 45,
     "metadata": {},
     "output_type": "execute_result"
    }
   ],
   "source": [
    "def in_target(x, y):\n",
    "    return (target_x[0] <= x <= target_x[1]) and (target_y[0] <= y <= target_y[1])\n",
    "\n",
    "def sign(x):\n",
    "    return 0 if x == 0 else (1 if x > 0 else -1)\n",
    "\n",
    "def shoot(x_vel, y_vel):\n",
    "    x, y = 0, 0\n",
    "    max_height = 0\n",
    "    while y > target_y[0]:\n",
    "        x += x_vel\n",
    "        y += y_vel\n",
    "        #print(x, y, x_vel)\n",
    "        x_vel -= sign(x_vel)\n",
    "        y_vel -= 1\n",
    "    \n",
    "        max_height = max(max_height, y)\n",
    "        if in_target(x, y): return max_height\n",
    "    \n",
    "    return -1\n",
    "\n",
    "shoot(6, 9)"
   ]
  },
  {
   "cell_type": "code",
   "execution_count": 46,
   "metadata": {},
   "outputs": [
    {
     "data": {
      "text/plain": [
       "2850"
      ]
     },
     "execution_count": 46,
     "metadata": {},
     "output_type": "execute_result"
    }
   ],
   "source": [
    "max_height = 0\n",
    "# Of course the 100 is arbitrary here, but it seems liek a good idea to brute force\n",
    "for i in range(100):\n",
    "    for j in range(100):\n",
    "        max_height = max(max_height, shoot(i, j))\n",
    "max_height\n"
   ]
  },
  {
   "cell_type": "code",
   "execution_count": 50,
   "metadata": {},
   "outputs": [
    {
     "data": {
      "application/vnd.jupyter.widget-view+json": {
       "model_id": "9f26e6560804412f8238237cac351031",
       "version_major": 2,
       "version_minor": 0
      },
      "text/plain": [
       "  0%|          | 0/500 [00:00<?, ?it/s]"
      ]
     },
     "metadata": {},
     "output_type": "display_data"
    },
    {
     "data": {
      "text/plain": [
       "1117"
      ]
     },
     "execution_count": 50,
     "metadata": {},
     "output_type": "execute_result"
    }
   ],
   "source": [
    "from tqdm.notebook import trange\n",
    "\n",
    "num_matches = 0\n",
    "# We massively expand the range to get everything\n",
    "# y only goes down to -78: more than that just causes you to overshoot in one turn\n",
    "for i in trange(500):\n",
    "    for j in range(-100, 500):\n",
    "        if shoot(i, j) > -1:\n",
    "            num_matches += 1\n",
    "num_matches"
   ]
  }
 ],
 "metadata": {
  "interpreter": {
   "hash": "ad9d0ce513bca00a85b95c5d2b5b8485296f8206ad7c0d55e8d58ee9b0dfce4e"
  },
  "kernelspec": {
   "display_name": "Python 3.9.7 64-bit ('env': venv)",
   "language": "python",
   "name": "python3"
  },
  "language_info": {
   "codemirror_mode": {
    "name": "ipython",
    "version": 3
   },
   "file_extension": ".py",
   "mimetype": "text/x-python",
   "name": "python",
   "nbconvert_exporter": "python",
   "pygments_lexer": "ipython3",
   "version": "3.8.10"
  },
  "orig_nbformat": 4
 },
 "nbformat": 4,
 "nbformat_minor": 2
}
