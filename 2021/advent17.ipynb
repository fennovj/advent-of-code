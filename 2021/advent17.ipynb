{
 "cells": [
  {
   "cell_type": "code",
   "execution_count": 4,
   "metadata": {},
   "outputs": [],
   "source": [
    "data = \"target area: x=287..309, y=-76..-48\"\n",
    "\n",
    "data = \"target area: x=20..30, y=-10..-5\"\n",
    "# Target is 0-indexed and inclusive\n",
    "\n",
    "data = data[15:].split(\", y=\")\n",
    "target_x = [int(i) for i in data[0].split(\"..\")]\n",
    "target_y = [int(i) for i in data[1].split(\"..\")]\n",
    "\n",
    "def in_target(x, y):\n",
    "    return (target_x[0] <= x <= target_x[1]) and (target_y[0] <= y <= target_y[1])"
   ]
  },
  {
   "cell_type": "code",
   "execution_count": 6,
   "metadata": {},
   "outputs": [
    {
     "data": {
      "text/plain": [
       "[287, 309]"
      ]
     },
     "execution_count": 6,
     "metadata": {},
     "output_type": "execute_result"
    }
   ],
   "source": [
    "def shoot(x_vel, y_vel):\n",
    "    x, y = 0, 0\n",
    "    while True:\n",
    "        x += x_vel\n",
    "        y += y_vel\n",
    "        y_vel -= 1"
   ]
  },
  {
   "cell_type": "code",
   "execution_count": null,
   "metadata": {},
   "outputs": [],
   "source": []
  }
 ],
 "metadata": {
  "interpreter": {
   "hash": "ad9d0ce513bca00a85b95c5d2b5b8485296f8206ad7c0d55e8d58ee9b0dfce4e"
  },
  "kernelspec": {
   "display_name": "Python 3.9.7 64-bit ('env': venv)",
   "language": "python",
   "name": "python3"
  },
  "language_info": {
   "codemirror_mode": {
    "name": "ipython",
    "version": 3
   },
   "file_extension": ".py",
   "mimetype": "text/x-python",
   "name": "python",
   "nbconvert_exporter": "python",
   "pygments_lexer": "ipython3",
   "version": "3.9.7"
  },
  "orig_nbformat": 4
 },
 "nbformat": 4,
 "nbformat_minor": 2
}
