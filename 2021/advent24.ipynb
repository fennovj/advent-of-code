{
 "cells": [
  {
   "cell_type": "code",
   "execution_count": 21,
   "metadata": {},
   "outputs": [],
   "source": [
    "from advent import get_lines\n",
    "\n",
    "data = get_lines(24)"
   ]
  },
  {
   "cell_type": "code",
   "execution_count": 22,
   "metadata": {},
   "outputs": [
    {
     "data": {
      "text/plain": [
       "[9, 1, 23, 5520630905]"
      ]
     },
     "execution_count": 22,
     "metadata": {},
     "output_type": "execute_result"
    }
   ],
   "source": [
    "# I will represent state as a list of 4 integers, since there are only 4 vars\n",
    "# this is just the MONAD reengineered, but not really crucial to the actual solution, which starts next cell\n",
    "\n",
    "state_ix = {'w': 0, 'x': 1, 'y': 2, 'z': 3}\n",
    "\n",
    "def is_const(val):\n",
    "    if isinstance(val, int): return True\n",
    "    return all(v in '0123456789-' for v in val)\n",
    "\n",
    "def get_value(state, var):\n",
    "    if is_const(var):\n",
    "        return int(var)\n",
    "    val = state[state_ix[var]]\n",
    "    return int(val) if is_const(val) else val\n",
    "\n",
    "def set_value(state, var, value):\n",
    "    # immutable. example: set_value([1, 0, 0, 1], 'y', 2) -> [1, 0, 2, 1]\n",
    "    state_ = state.copy()\n",
    "    state_[state_ix[var]] = value\n",
    "    return state_\n",
    "\n",
    "def apply_aritmetic(instr, a, b):\n",
    "    # a and b must be integers. instr cannot be 'inp'\n",
    "    if instr == 'add': return a + b\n",
    "    if instr == 'mul': return a * b\n",
    "    if instr == 'div': return int(a / b)\n",
    "    if instr == 'mod': return a % b\n",
    "    if instr == 'eql': return 1 if a == b else 0\n",
    "    raise ValueError(f\"{instr} is not a correct aritmetic operation\")\n",
    "\n",
    "# given an instruction, apply it to the state (and possibly the model number) and return a new state/modelnumber\n",
    "def apply_instruction(instruction, state, model_number):\n",
    "    if instruction.startswith('inp'):\n",
    "        return set_value(state, instruction[-1], model_number[0]), model_number[1:]\n",
    "    instr, var_a, var_b = instruction.split(' ')\n",
    "    const_a, const_b = get_value(state, var_a), get_value(state, var_b)\n",
    "    state = set_value(state, var_a, apply_aritmetic(instr, const_a, const_b))\n",
    "    return state, model_number\n",
    "\n",
    "def apply_instructions_list(instructions_list, model_number = [9]*14, state=[0, 0, 0, 0]):\n",
    "    for instruction in instructions_list:\n",
    "        state, model_number = apply_instruction(instruction, state, model_number)\n",
    "    return state\n",
    "\n",
    "apply_instructions_list(data)"
   ]
  },
  {
   "cell_type": "code",
   "execution_count": 23,
   "metadata": {},
   "outputs": [
    {
     "name": "stdout",
     "output_type": "stream",
     "text": [
      "['m0', '0', '0', '0']\n",
      "['m0', '0', '0', '0']\n",
      "['m0', '0', '0', '0']\n",
      "['m0', '0', '0', '0']\n",
      "['m0', '0', '0', '0']\n",
      "['m0', '11', '0', '0']\n",
      "['m0', '(11=m0)', '0', '0']\n",
      "['m0', '((11=m0)=0)', '0', '0']\n",
      "['m0', '((11=m0)=0)', '0', '0']\n",
      "['m0', '((11=m0)=0)', '25', '0']\n",
      "['m0', '((11=m0)=0)', '(25*((11=m0)=0))', '0']\n",
      "['m0', '((11=m0)=0)', '((25*((11=m0)=0))+1)', '0']\n",
      "['m0', '((11=m0)=0)', '((25*((11=m0)=0))+1)', '0']\n",
      "['m0', '((11=m0)=0)', '0', '0']\n",
      "['m0', '((11=m0)=0)', 'm0', '0']\n",
      "['m0', '((11=m0)=0)', '(m0+8)', '0']\n",
      "['m0', '((11=m0)=0)', '((m0+8)*((11=m0)=0))', '0']\n",
      "['m0', '((11=m0)=0)', '((m0+8)*((11=m0)=0))', '((m0+8)*((11=m0)=0))']\n",
      "['m1', '((11=m0)=0)', '((m0+8)*((11=m0)=0))', '((m0+8)*((11=m0)=0))']\n",
      "['m1', '0', '((m0+8)*((11=m0)=0))', '((m0+8)*((11=m0)=0))']\n"
     ]
    }
   ],
   "source": [
    "# Plan: create some function symbolic(var, step) that creates a symbolic representation of variable at step n\n",
    "# for example: since the first instruction is `inp w`, f(w, 1) will be i_0\n",
    "# since the second instruction is `mul x 0`, f(x, 2) will be 0.\n",
    "# the third expression is `add x z`, so f(x, 3) will be 0, etcetera\n",
    "\n",
    "def apply_aritmetic_symbolic(instr, a, b):\n",
    "    # a and b are strings\n",
    "    if is_const(a) and is_const(b): return str(apply_aritmetic(instr, int(a), int(b)))\n",
    "    if instr == 'add' and a == 0: return b\n",
    "    if instr == 'add' and b == 0: return a\n",
    "    if instr == 'add': return f\"({a}+{b})\"\n",
    "    if instr == 'mul' and b == 0: return '0'\n",
    "    if instr == 'mul' and a == 0: return '0'\n",
    "    if instr == 'mul': return f\"({a}*{b})\"\n",
    "    if instr == 'div' and b == 1: return a\n",
    "    if instr == 'div': return f\"({a}/{b})\"\n",
    "    if instr == 'mod': return f\"({a}%{b})\"\n",
    "    if instr == 'eql': return f\"({a}={b})\"\n",
    "    raise ValueError(f\"{instr} is not a correct aritmetic operation\")\n",
    "\n",
    "\n",
    "def apply_instruction_symbolic(instruction, state, model_number):\n",
    "    if instruction.startswith('inp'):\n",
    "        return set_value(state, instruction[-1], model_number[0]), model_number[1:]\n",
    "    instr, var_a, var_b = instruction.split(' ')\n",
    "    const_a, const_b = get_value(state, var_a), get_value(state, var_b)\n",
    "    #print(state)\n",
    "    state = set_value(state, var_a, apply_aritmetic_symbolic(instr, const_a, const_b))\n",
    "    return state, model_number\n",
    "\n",
    "stepn = 1\n",
    "state_library = {0: ['0'] * 4}\n",
    "model_number = [f'm{i}' for i in range(14)]\n",
    "\n",
    "for stepn in range(20):# range(len(data)):\n",
    "    instr = data[stepn]\n",
    "    state_library[stepn+1], model_number = apply_instruction_symbolic(instr, state_library[stepn], model_number)\n",
    "    print(state_library[stepn+1])\n",
    "\n",
    "#with open('24.tmp', 'w') as f:\n",
    "#    f.write(str(state_library[252][3]))\n",
    "# The output is state_library[252][3], which is about 80MB written to disk... damn\n"
   ]
  },
  {
   "cell_type": "code",
   "execution_count": 24,
   "metadata": {},
   "outputs": [
    {
     "data": {
      "text/plain": [
       "14"
      ]
     },
     "execution_count": 24,
     "metadata": {},
     "output_type": "execute_result"
    }
   ],
   "source": [
    "# That ... didn't really work...\n",
    "# Next approach: getting a tip on reddit.\n",
    "# I found advice: see if there is something common done to all/most input digits, and if you can use that to constrain those digits\n",
    "# The rest I all figured out without help\n",
    "\n",
    "# The common factor in a lot of the input is:\n",
    "# imp w\n",
    "# mul x 0\n",
    "# add x z\n",
    "# mod x 26\n",
    "# div z V1 (26 or 1)\n",
    "# add x V2\n",
    "# eql x w\n",
    "# eql x 0\n",
    "# mul y 0\n",
    "# add y 25\n",
    "# mul y x\n",
    "# add y 1\n",
    "# mul z y\n",
    "# mul y 0\n",
    "# add y w\n",
    "# add y V3\n",
    "# mul y x\n",
    "# add z y\n",
    "\n",
    "# So let's detect this and reduce it!\n",
    "\n",
    "def pattern_detector(instructions, start):\n",
    "    if all([i.startswith(j) for (i, j) in zip(\n",
    "        instructions[start:(start+18)],\n",
    "        ['inp', 'mul', 'add', 'mod', 'div', 'add', 'eql', 'eql', 'mul', 'add', 'mul', 'add', 'mul', 'mul', 'add', 'add', 'mul', 'add']\n",
    "        )]):\n",
    "        return 1\n",
    "    return 0\n",
    "\n",
    "sum(pattern_detector(data, i) for i in range(250))\n",
    "# Looks like this pattern happens to all 14 digits. also the input size is 14 * 18 = 252 so it matches up"
   ]
  },
  {
   "cell_type": "code",
   "execution_count": 25,
   "metadata": {},
   "outputs": [
    {
     "name": "stdout",
     "output_type": "stream",
     "text": [
      "OPERATION(1, 11, 8)\n",
      "OPERATION(1, 14, 13)\n",
      "OPERATION(1, 10, 2)\n",
      "OPERATION(26, 0, 7)\n",
      "OPERATION(1, 12, 11)\n",
      "OPERATION(1, 12, 4)\n",
      "OPERATION(1, 12, 13)\n",
      "OPERATION(26, -8, 13)\n",
      "OPERATION(26, -9, 10)\n",
      "OPERATION(1, 11, 1)\n",
      "OPERATION(26, 0, 2)\n",
      "OPERATION(26, -5, 14)\n",
      "OPERATION(26, -6, 6)\n",
      "OPERATION(26, -12, 14)\n"
     ]
    }
   ],
   "source": [
    "for i in range(14):\n",
    "    var1 = data[18*i + 4].split(' ')[2]\n",
    "    var2 = data[18*i + 5].split(' ')[2]\n",
    "    var3 = data[18*i + 15].split(' ')[2]\n",
    "    print(f\"OPERATION({var1}, {var2}, {var3})\")"
   ]
  },
  {
   "cell_type": "code",
   "execution_count": 28,
   "metadata": {},
   "outputs": [
    {
     "data": {
      "text/plain": [
       "['w',\n",
       " '((((z%26)+11)=w)=0)',\n",
       " '((w+8)*((((z%26)+11)=w)=0))',\n",
       " '((z*((25*((((z%26)+11)=w)=0))+1))+((w+8)*((((z%26)+11)=w)=0)))']"
      ]
     },
     "execution_count": 28,
     "metadata": {},
     "output_type": "execute_result"
    }
   ],
   "source": [
    "stepn = 1\n",
    "state_library = {0: ['w', 'x', 'y', 'z']}\n",
    "model_number = ['w']\n",
    "\n",
    "for stepn in range(18):# range(len(data)):\n",
    "    instr = data[stepn]\n",
    "    state_library[stepn+1], model_number = apply_instruction_symbolic(instr, state_library[stepn], model_number)\n",
    "\n",
    "# Also let's check out what the operation actually does:\n",
    "state_library[18]\n",
    "\n",
    "# It looks like it sets:\n",
    "# w = (input variable)\n",
    "# x_new = ((((z%26)+V2)=w)=0) ==> simplify ==> (z%26 + V2) != w\n",
    "# y_new = ((w+8)*((((z%26)+V2)=w)=0)) ==> simplify ==> (w+V3) * x_new\n",
    "# z_new = (((z/V1)*((25*((((z%26)+V2)=w)=0))+1))+((w+V3)*((((z%26)+V2)=w)=0))) ==> simplify ==> (z/V1)*(25*x_new + 1) + y_new\n",
    "\n",
    "# Importantly, x_new is always 0 or 1, which means that we can split up on: (x_new is 0 when it equals, 1 when it not equals)\n",
    "# x_new is 0 -> z = z/V1\n",
    "# x_new is 1 -> z = (z/V1)*26 + (w + V3)\n",
    "\n",
    "# Also, V3 is always less than 15, so w+V3 will never exceed 25.\n",
    "# I also noticed that V1 is 1 7 times, 26 7 times.\n",
    "# if x_new is always 0, then we should trivially end up with 0 as the output, since z_new = 0/V1, will stay at 0\n",
    "# however, that is impossible, e.g, at first: 0 % 26 + 11 will never be equal to w\n",
    "# This leads me to suspect that x_new should be 0 if V1 == 26, and 1 if V1 == 1, so let's work with that"
   ]
  },
  {
   "cell_type": "code",
   "execution_count": 29,
   "metadata": {},
   "outputs": [
    {
     "data": {
      "text/plain": [
       "[1, 0, 0, 0]"
      ]
     },
     "execution_count": 29,
     "metadata": {},
     "output_type": "execute_result"
    }
   ],
   "source": [
    "# This assumption implies the restraints: if we can simply ensure x_new is 0 for those steps where V1 == 26, we are done\n",
    "# Let's look at a much simpler test example:\n",
    "\n",
    "# OPERATION(1, 10, 2)\n",
    "# OPERATION(26, 0, 7)\n",
    "\n",
    "# After the first step, z will be w_0 + 2\n",
    "# to ensure x_new is 0: w_1 == (w_0 + 2) + 0\n",
    "\n",
    "# It seems the conditions will 'match' up on 'bit'(26wise) location, so we can match up the constraints:\n",
    "\n",
    "# OPERATION(1, 11, 8)  - w0, 0\n",
    "# OPERATION(1, 14, 13) - w1, 1\n",
    "# OPERATION(1, 10, 2)  - w2, 2\n",
    "# OPERATION(26, 0, 7)  - w3, 2\n",
    "# OPERATION(1, 12, 11) - w4, 3\n",
    "# OPERATION(1, 12, 4)  - w5, 4\n",
    "# OPERATION(1, 12, 13) - w6, 5\n",
    "# OPERATION(26, -8, 13)- w7, 5\n",
    "# OPERATION(26, -9, 10)- w8, 4\n",
    "# OPERATION(1, 11, 1)  - w9, 6\n",
    "# OPERATION(26, 0, 2)  - 10, 6\n",
    "# OPERATION(26, -5, 14)- 11, 3\n",
    "# OPERATION(26, -6, 6) - 12, 1\n",
    "# OPERATION(26, -12, 14)-13, 0\n",
    "\n",
    "# The constraints that result:\n",
    "# 0 - w13 == w0 + 8 - 12 = w0 - 4\n",
    "# 1 - w12 == w1 + 13 - 6 = w1 + 7\n",
    "# 2 - w3 == w2 + 2 - 0 = w2 + 2\n",
    "# 3 - w11 == w4 + 11 - 5 = w4 + 6\n",
    "# 4 - w8 == w5 + 4 - 9   = w5 - 5\n",
    "# 5 - w7 == w6 + 13 - 8  = w6 + 5\n",
    "# 6 - w10 == w9 + 1 + 0  = w9 + 1\n",
    "\n",
    "# An example would be:\n",
    "apply_instructions_list(data, [5, 1, 1, 3, 1, 6, 1, 6, 1, 1, 2, 7, 8, 1])\n",
    "# Success!"
   ]
  },
  {
   "cell_type": "code",
   "execution_count": 32,
   "metadata": {},
   "outputs": [
    {
     "data": {
      "text/plain": [
       "[5, 0, 0, 0]"
      ]
     },
     "execution_count": 32,
     "metadata": {},
     "output_type": "execute_result"
    }
   ],
   "source": [
    "# Highest possible values (simply because out of every pair, the highest one must be 9)\n",
    "# w0 = 9, w13 = 5\n",
    "# w1 = 2, w12 = 9\n",
    "# w2 = 7, w3 = 9\n",
    "# w4 = 3, w11 = 9\n",
    "# w5 = 9, w8 = 4\n",
    "# w6 = 4, w7 = 9\n",
    "# w9 = 8, w10 = 9\n",
    "\n",
    "# gives us\n",
    "# 92793949489995\n",
    "apply_instructions_list(data, [9, 2, 7, 9, 3, 9, 4, 9, 4, 8, 9, 9, 9, 5])"
   ]
  },
  {
   "cell_type": "code",
   "execution_count": 33,
   "metadata": {},
   "outputs": [
    {
     "data": {
      "text/plain": [
       "[1, 0, 0, 0]"
      ]
     },
     "execution_count": 33,
     "metadata": {},
     "output_type": "execute_result"
    }
   ],
   "source": [
    "# lowest possible values (simply because out of every pair, the lowest one must be 1)\n",
    "# w0 = 5, w13 = 1\n",
    "# w1 = 1, w12 = 8\n",
    "# w2 = 1, w3 = 3\n",
    "# w4 = 1, w11 = 7\n",
    "# w5 = 6, w8 = 1\n",
    "# w6 = 1, w7 = 6\n",
    "# w9 = 1, w10 = 2\n",
    "\n",
    "# gives us\n",
    "# 51131616112781\n",
    "apply_instructions_list(data, [5, 1, 1, 3, 1, 6, 1, 6, 1, 1, 2, 7, 8, 1])"
   ]
  },
  {
   "cell_type": "code",
   "execution_count": null,
   "metadata": {},
   "outputs": [],
   "source": []
  }
 ],
 "metadata": {
  "kernelspec": {
   "display_name": "Python 3.8.10 ('env': venv)",
   "language": "python",
   "name": "python3"
  },
  "language_info": {
   "codemirror_mode": {
    "name": "ipython",
    "version": 3
   },
   "file_extension": ".py",
   "mimetype": "text/x-python",
   "name": "python",
   "nbconvert_exporter": "python",
   "pygments_lexer": "ipython3",
   "version": "3.8.10"
  },
  "orig_nbformat": 4,
  "vscode": {
   "interpreter": {
    "hash": "a6e0e7a52ff25650311410ec676cb128052cdfc3b848542c415d170f51f09b78"
   }
  }
 },
 "nbformat": 4,
 "nbformat_minor": 2
}
