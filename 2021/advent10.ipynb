{
 "cells": [
  {
   "cell_type": "code",
   "execution_count": 6,
   "metadata": {},
   "outputs": [
    {
     "data": {
      "text/plain": [
       "(True, ['[', '(', '{', '(', '[', '[', '{', '{'])"
      ]
     },
     "execution_count": 6,
     "metadata": {},
     "output_type": "execute_result"
    }
   ],
   "source": [
    "test = \"[({(<(())[]>[[{[]{<()<>>\"\n",
    "\n",
    "def match(a, b):\n",
    "    return a+b in ['()', '{}', '[]', '<>']\n",
    "\n",
    "def parse(line):\n",
    "    stack = []\n",
    "    for c in line:\n",
    "        if c in '{<[(':\n",
    "            stack.append(c)\n",
    "        else:\n",
    "            last = stack.pop()\n",
    "            if not match(last, c):\n",
    "                return False, c\n",
    "    return True, stack\n",
    "\n",
    "parse(test)"
   ]
  },
  {
   "cell_type": "code",
   "execution_count": 10,
   "metadata": {},
   "outputs": [
    {
     "data": {
      "text/plain": [
       "464991"
      ]
     },
     "execution_count": 10,
     "metadata": {},
     "output_type": "execute_result"
    }
   ],
   "source": [
    "score = {')': 3, ']': 57, '}': 1197, '>': 25137}\n",
    "\n",
    "with open('data/advent10.txt', 'r') as f:\n",
    "    data = f.read().splitlines()\n",
    "\n",
    "total_score = 0\n",
    "incomplete = []\n",
    "for line in data:\n",
    "    parsed, output = parse(line)\n",
    "    if not parsed:\n",
    "        total_score += score[output]\n",
    "    else:\n",
    "        incomplete.append(output)\n",
    "total_score"
   ]
  },
  {
   "cell_type": "code",
   "execution_count": 27,
   "metadata": {},
   "outputs": [
    {
     "data": {
      "text/plain": [
       "3662008566"
      ]
     },
     "execution_count": 27,
     "metadata": {},
     "output_type": "execute_result"
    }
   ],
   "source": [
    "closer_score = {'(': 1, '[': 2, '{': 3, '<': 4}\n",
    "\n",
    "def score_closer(closers):\n",
    "    score = 0\n",
    "    for c in closers:\n",
    "        score = (5*score) + closer_score[c]\n",
    "    return score\n",
    "\n",
    "scores = []\n",
    "for cs in incomplete:\n",
    "    scores.append(score_closer(cs[::-1]))\n",
    "sorted(scores)[len(scores) // 2]\n"
   ]
  }
 ],
 "metadata": {
  "interpreter": {
   "hash": "ad9d0ce513bca00a85b95c5d2b5b8485296f8206ad7c0d55e8d58ee9b0dfce4e"
  },
  "kernelspec": {
   "display_name": "Python 3.9.7 64-bit ('env': venv)",
   "language": "python",
   "name": "python3"
  },
  "language_info": {
   "codemirror_mode": {
    "name": "ipython",
    "version": 3
   },
   "file_extension": ".py",
   "mimetype": "text/x-python",
   "name": "python",
   "nbconvert_exporter": "python",
   "pygments_lexer": "ipython3",
   "version": "3.9.7"
  },
  "orig_nbformat": 4
 },
 "nbformat": 4,
 "nbformat_minor": 2
}
