{
 "cells": [
  {
   "cell_type": "code",
   "execution_count": null,
   "metadata": {},
   "outputs": [],
   "source": [
    "import advent\n",
    "\n",
    "maze = advent.get_char_grid(15).astype(int)\n",
    "#maze = advent.get_char_grid('15small').astype(int)\n",
    "#maze = advent.get_char_grid('15maze').astype(int) + 5\n",
    "print(maze.shape)"
   ]
  },
  {
   "cell_type": "code",
   "execution_count": null,
   "metadata": {},
   "outputs": [],
   "source": [
    "import numpy as np\n",
    "def duplicate_maze(maze, x_times=5, y_times=5):\n",
    "    out = np.zeros((maze.shape[0] * x_times, maze.shape[1] * y_times))\n",
    "    for i in range(x_times):\n",
    "        for j in range(y_times):\n",
    "            out[(i*maze.shape[0]):((i+1)*maze.shape[0]),\n",
    "                (j*maze.shape[1]):((j+1)*maze.shape[1])] = \\\n",
    "                    maze + i + j\n",
    "    out = np.mod(out-1, 9) + 1\n",
    "    return out\n",
    "\n",
    "if True: # part 2\n",
    "    maze = duplicate_maze(maze)"
   ]
  },
  {
   "cell_type": "code",
   "execution_count": null,
   "metadata": {},
   "outputs": [],
   "source": [
    "def cost(node, maze): # Safe-accessor\n",
    "    return maze[node[0], node[1]] if walkable(node, maze) else 999999\n",
    "\n",
    "def walkable(node, maze):\n",
    "    return (0 <= node[0] < maze.shape[0]) and (0 <= node[1] < maze.shape[1])\n",
    "\n",
    "def adjacent(node, maze):\n",
    "    # Returns list like [(adj_i, g_i)] where g_i is cost of going from node to adj_i\n",
    "    x, y = node\n",
    "    return [((x+a, y+b), cost((x+a, y+b), maze)) for a in range(-1, 2) for b in range(-1, 2) if (a != 0) != (b != 0)]\n",
    "\n",
    "grid_size = (1, 1)"
   ]
  },
  {
   "cell_type": "code",
   "execution_count": null,
   "metadata": {},
   "outputs": [],
   "source": [
    "# IMPORTANT! I tried this, didn't work somehow\n",
    "# If I am bored I might compare the paths and see why this failed\n",
    "# Essentially, I now create all the costs first instead of this approach,\n",
    "# where I calculate the costs on the fly\n",
    "\n",
    "mod9 = lambda n: (n-1) % 9 + 1\n",
    "\n",
    "def cost(node, maze): # Safe-accessor\n",
    "    return mod9(maze[node[0] % maze.shape[0], node[1] % maze.shape[1]] + node[0] // 10 + node[1] // 10) # if walkable(node, maze) else 999_999_999\n",
    "\n",
    "def walkable(node, maze):\n",
    "    return (0 <= node[0] < 5*maze.shape[0]) and (0 <= node[1] < 5*maze.shape[1])\n",
    "\n",
    "def adjacent(node, maze):\n",
    "    # Returns list like [(adj_i, g_i)] where g_i is cost of going from node to adj_i\n",
    "    x, y = node\n",
    "    nodes = [((x+a, y+b), cost((x+a, y+b), maze)) for a in range(-1, 2) for b in range(-1, 2) if (a != 0) != (b != 0)]\n",
    "    return nodes\n",
    "\n",
    "grid_size = (5, 5)"
   ]
  },
  {
   "cell_type": "code",
   "execution_count": null,
   "metadata": {},
   "outputs": [],
   "source": [
    "# Copied from 2016, 13, and performance massively improved\n",
    "# by using a dictionary for f instead of a list\n",
    "# Todo potentially move this to a library if possible\n",
    "from tqdm.notebook import tqdm\n",
    "\n",
    "start = (0, 0)\n",
    "\n",
    "grid_size = grid_size  # (1, 1) for part 1. (5, 5) for part 2\n",
    "target = (grid_size[0]*maze.shape[0] - 1, grid_size[1]*maze.shape[1] - 1)\n",
    "\n",
    "# Use manhattan since cost is always >= 1\n",
    "# Kinda a gross underestimation so it will end up visiting almost (>99%) of the nodes anyway\n",
    "h = lambda node: abs(node[0] - target[0]) + abs(node[1] - target[1])\n",
    "\n",
    "closed = set([])\n",
    "f = {start: (start, (0, h(start)))} # n: (n, (g, h))\n",
    "open_parents, closed_parents = {start: None}, {}\n",
    "\n",
    "progress=0  # out o\n",
    "\n",
    "with tqdm(total=1) as pbar:\n",
    "\n",
    "    while len(f) > 0:\n",
    "        current_node, current_f = min(f.values(), key=lambda n: sum(n[1]))\n",
    "        del f[current_node]\n",
    "        closed.add(current_node)\n",
    "        closed_parents[current_node] = open_parents[current_node]\n",
    "\n",
    "        if current_node == target:\n",
    "            print(f\"Final path length: {sum(current_f)}\")\n",
    "            break\n",
    "\n",
    "        # Here are our two day-specific functions, edit their signature if neccecary\n",
    "        for adj, adj_g in adjacent(current_node, maze):\n",
    "            if not walkable(adj, maze) or adj in closed:\n",
    "                continue\n",
    "            new_f = (current_f[0] + adj_g, h(adj))\n",
    "            if (adj not in f) or (sum(new_f) < sum(f[adj][1])):\n",
    "                f[adj] = (adj, new_f)\n",
    "                open_parents[adj] = current_node\n",
    "        \n",
    "        # Update progress bar\n",
    "        progress_tmp = len(closed) / ((target[0]+1) * (target[1]+1))\n",
    "        if progress_tmp > progress:\n",
    "            pbar.update(progress_tmp - progress)\n",
    "            progress = progress_tmp"
   ]
  },
  {
   "cell_type": "code",
   "execution_count": null,
   "metadata": {},
   "outputs": [],
   "source": [
    "# Calculate the path through the maze. Not needed for the solution, only for debugging\n",
    "\n",
    "nodes = [target]\n",
    "d = []\n",
    "c = target\n",
    "while True:\n",
    "    c = closed_parents[c]\n",
    "    if c is None: break\n",
    "    d.append((c[0] - nodes[-1][0], c[1] - nodes[-1][1]))\n",
    "    nodes.append(c)\n",
    "\n",
    "import numpy as np\n",
    "viz = np.array([['.'] * 50] * 50)\n",
    "viz[:, :] = '.'\n",
    "for n in nodes:\n",
    "    viz[n] = 'x'\n"
   ]
  },
  {
   "cell_type": "code",
   "execution_count": null,
   "metadata": {},
   "outputs": [],
   "source": [
    "# Show the maze\n",
    "[''.join(v) for v in viz]"
   ]
  },
  {
   "cell_type": "code",
   "execution_count": null,
   "metadata": {},
   "outputs": [],
   "source": [
    "# Let's check our answer with some half-assed dynamic programming\n",
    "# again assuming you can only go down and right, then we can calculate the cost of a tile as cost(tile) + min(cost(left), cost(up))\n",
    "# Therefore, this answer will be wrong, since that assumption is in general incorrect\n",
    "import numpy as np\n",
    "\n",
    "costs = np.zeros((maze.shape[0] * 5, maze.shape[1] * 5))\n",
    "cost((0, 45), maze)\n",
    "\n",
    "def get_cost_safe(node, costs):\n",
    "    y, x = node\n",
    "    if walkable((y, x), costs): return costs[y, x]\n",
    "    return 999_999_999\n",
    "\n",
    "for x in range(maze.shape[1] * 5):\n",
    "    for y in range(maze.shape[0] * 5):\n",
    "        if x == 0 and y == 0:\n",
    "            # To avoid the otherwise high cost for this node\n",
    "            costs[0, 0] = 0\n",
    "            continue\n",
    "        costs[x, y] = cost((x, y), maze) + min(get_cost_safe((x-1, y), costs), get_cost_safe((x, y-1), costs))\n",
    "\n",
    "print(costs[-1, -1])"
   ]
  },
  {
   "cell_type": "code",
   "execution_count": null,
   "metadata": {},
   "outputs": [],
   "source": []
  }
 ],
 "metadata": {
  "kernelspec": {
   "display_name": "Python 3.8.10 ('env': venv)",
   "language": "python",
   "name": "python3"
  },
  "language_info": {
   "codemirror_mode": {
    "name": "ipython",
    "version": 3
   },
   "file_extension": ".py",
   "mimetype": "text/x-python",
   "name": "python",
   "nbconvert_exporter": "python",
   "pygments_lexer": "ipython3",
   "version": "3.8.10"
  },
  "orig_nbformat": 4,
  "vscode": {
   "interpreter": {
    "hash": "a6e0e7a52ff25650311410ec676cb128052cdfc3b848542c415d170f51f09b78"
   }
  }
 },
 "nbformat": 4,
 "nbformat_minor": 2
}
