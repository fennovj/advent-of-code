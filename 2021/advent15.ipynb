{
 "cells": [
  {
   "cell_type": "code",
   "execution_count": 1,
   "metadata": {},
   "outputs": [],
   "source": [
    "import advent\n",
    "\n",
    "maze = advent.get_char_grid(15).astype(int)"
   ]
  },
  {
   "cell_type": "code",
   "execution_count": 21,
   "metadata": {},
   "outputs": [],
   "source": [
    "def cost(node, maze): # Safe-accessor\n",
    "    return maze[node[0], node[1]] if walkable(node, maze) else 999999\n",
    "\n",
    "def walkable(node, maze):\n",
    "    return (0 <= node[0] < maze.shape[0]) and (0 <= node[1] < maze.shape[1])\n",
    "\n",
    "def adjacent(node, maze):\n",
    "    # Returns list like [(adj_i, g_i)] where g_i is cost of going from node to adj_i\n",
    "    x, y = node\n",
    "    return [((x+a, y+b), cost((x+a, y+b), maze)) for a in range(-1, 2) for b in range(-1, 2) if (a != 0) != (b != 0)]\n",
    "\n",
    "grid_size = (1, 1)"
   ]
  },
  {
   "cell_type": "code",
   "execution_count": 2,
   "metadata": {},
   "outputs": [],
   "source": [
    "def mod9(n):\n",
    "    return 9 if n % 9 == 0 else n % 9\n",
    "\n",
    "def cost(node, maze): # Safe-accessor\n",
    "    return mod9(maze[node[0] % maze.shape[0], node[1] % maze.shape[1]] + node[0] // 10 + node[1] // 10) if walkable(node, maze) else 999999\n",
    "\n",
    "def walkable(node, maze):\n",
    "    return (0 <= node[0] < 5*maze.shape[0]) and (0 <= node[1] < 5*maze.shape[1])\n",
    "\n",
    "def adjacent(node, maze):\n",
    "    # Returns list like [(adj_i, g_i)] where g_i is cost of going from node to adj_i\n",
    "    x, y = node\n",
    "    return [((x+a, y+b), cost((x+a, y+b), maze)) for a in range(-1, 2) for b in range(-1, 2) if (a != 0) != (b != 0)]\n",
    "\n",
    "grid_size = (5, 5)"
   ]
  },
  {
   "cell_type": "code",
   "execution_count": 3,
   "metadata": {},
   "outputs": [
    {
     "data": {
      "application/vnd.jupyter.widget-view+json": {
       "model_id": "60f0cb423f7c43a5b57f811ef56a7c2a",
       "version_major": 2,
       "version_minor": 0
      },
      "text/plain": [
       "  0%|          | 0/1 [00:00<?, ?it/s]"
      ]
     },
     "metadata": {},
     "output_type": "display_data"
    },
    {
     "name": "stdout",
     "output_type": "stream",
     "text": [
      "Final path length: 2815\n"
     ]
    }
   ],
   "source": [
    "# Copied from 2016, 13.\n",
    "# Todo potentially move this to a library if possible\n",
    "from tqdm.notebook import tqdm\n",
    "\n",
    "start = (0, 0)\n",
    "\n",
    "grid_size = grid_size  # (1, 1) for part 1. (5, 5) for part 2\n",
    "target = (grid_size[0]*maze.shape[0] - 1, grid_size[1]*maze.shape[1] - 1)\n",
    "\n",
    "# Use manhattan since cost is always >= 1\n",
    "h = lambda node: abs(node[0] - target[0]) + abs(node[1] - target[1])\n",
    "\n",
    "open = [start]\n",
    "closed = []\n",
    "open_parents, closed_parents = [None], []\n",
    "f = [(0, h(start))] # (g, h)\n",
    "\n",
    "log_record = 0\n",
    "progress=0  # out o\n",
    "\n",
    "\n",
    "with tqdm(total=1) as pbar:\n",
    "\n",
    "    while len(open) > 0:\n",
    "        current_ix = f.index(min(f, key=sum))\n",
    "        current_node, current_f = open[current_ix], f.pop(current_ix)\n",
    "        closed.append(open.pop(current_ix))\n",
    "        closed_parents.append(open_parents.pop(current_ix))\n",
    "\n",
    "        if current_node == target:\n",
    "            print(f\"Final path length: {sum(current_f)}\")\n",
    "            break\n",
    "        #if (current_node[0] + current_node[1]) > (log_record + 10):\n",
    "        #    print(\"Considering:\", len(open), \"Current:\", current_node, \"Target:\", target)\n",
    "        #    log_record = current_node[0] + current_node[1]\n",
    "\n",
    "        # Here are our two day-specific functions, edit their signature if neccecary\n",
    "        for adj, adj_g in adjacent(current_node, maze):\n",
    "            if not walkable(adj, maze) or adj in closed:\n",
    "                continue\n",
    "            if adj not in open:\n",
    "                new_f = (current_f[0] + adj_g, h(adj))\n",
    "                open.append(adj)\n",
    "                f.append(new_f)\n",
    "                open_parents.append(current_node)\n",
    "            else:\n",
    "                ix = open.index(adj)\n",
    "                new_f = (current_f[0] + adj_g, h(adj))\n",
    "                if sum(new_f) < sum(f[ix]):\n",
    "                    open_parents[ix] = current_node\n",
    "                    f[ix] = new_f\n",
    "        \n",
    "        # Update progress bar\n",
    "        progress_tmp = len(closed) / ((target[0]+1) * (target[1]+1))\n",
    "        if progress_tmp > progress:\n",
    "            pbar.update(progress_tmp - progress)\n",
    "            progress = progress_tmp"
   ]
  },
  {
   "cell_type": "code",
   "execution_count": null,
   "metadata": {},
   "outputs": [],
   "source": []
  }
 ],
 "metadata": {
  "interpreter": {
   "hash": "ad9d0ce513bca00a85b95c5d2b5b8485296f8206ad7c0d55e8d58ee9b0dfce4e"
  },
  "kernelspec": {
   "display_name": "Python 3.9.7 64-bit ('env': venv)",
   "language": "python",
   "name": "python3"
  },
  "language_info": {
   "codemirror_mode": {
    "name": "ipython",
    "version": 3
   },
   "file_extension": ".py",
   "mimetype": "text/x-python",
   "name": "python",
   "nbconvert_exporter": "python",
   "pygments_lexer": "ipython3",
   "version": "3.8.10"
  },
  "orig_nbformat": 4
 },
 "nbformat": 4,
 "nbformat_minor": 2
}
