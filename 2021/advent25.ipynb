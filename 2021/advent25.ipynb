{
 "cells": [
  {
   "cell_type": "code",
   "execution_count": 80,
   "metadata": {},
   "outputs": [
    {
     "data": {
      "text/plain": [
       "array([['.', '.', '.', ..., 'v', '>', '>'],\n",
       "       ['.', '.', '.', ..., '>', '>', 'v'],\n",
       "       ['>', '.', '>', ..., 'v', '.', 'v'],\n",
       "       ...,\n",
       "       ['>', '.', '.', ..., 'v', '.', '.'],\n",
       "       ['>', '.', 'v', ..., '.', '.', '.'],\n",
       "       ['v', '.', '.', ..., 'v', '>', '>']], dtype='<U1')"
      ]
     },
     "execution_count": 80,
     "metadata": {},
     "output_type": "execute_result"
    }
   ],
   "source": [
    "import advent\n",
    "import numpy as np\n",
    "\n",
    "data = advent.get_char_grid(25)\n",
    "data"
   ]
  },
  {
   "cell_type": "code",
   "execution_count": 81,
   "metadata": {},
   "outputs": [
    {
     "data": {
      "text/plain": [
       "(array([['v', 'v', 'v', ..., 'v', 'v', 'v'],\n",
       "        ['v', 'v', 'v', ..., 'v', 'v', 'v'],\n",
       "        ['v', 'v', 'v', ..., 'v', 'v', 'v'],\n",
       "        ...,\n",
       "        ['v', 'v', 'v', ..., 'v', 'v', 'v'],\n",
       "        ['v', 'v', 'v', ..., 'v', 'v', 'v'],\n",
       "        ['v', 'v', 'v', ..., 'v', 'v', 'v']], dtype='<U1'),\n",
       " 426)"
      ]
     },
     "execution_count": 81,
     "metadata": {},
     "output_type": "execute_result"
    }
   ],
   "source": [
    "def lshift(array, default='.'):\n",
    "    return np.append(array[1:], default)\n",
    "\n",
    "def rshift(array, default='.'):\n",
    "    return np.insert(array[:-1], 0, default)\n",
    "\n",
    "def move(row, symbol='>'):\n",
    "    free_to_move = np.logical_and(np.roll(row, -1) == '.', row == symbol)\n",
    "    # a spot always goes from  . to > or from > to ., or from . to ., but never from > to >\n",
    "    # This means we can update simultaneously\n",
    "    row[free_to_move] = '.'\n",
    "    row[np.roll(free_to_move, 1)] = symbol\n",
    "    return row\n",
    "\n",
    "def turn(grid):\n",
    "    n_cols, n_rows = grid.shape\n",
    "    new_grid = np.zeros_like(grid)\n",
    "    # 'first move east\n",
    "    for i in range(n_cols):\n",
    "        new_grid[i, :] = move(grid[i, :], '>')\n",
    "    newer_grid = np.zeros_like(grid)\n",
    "    for j in range(n_rows):\n",
    "        newer_grid[:, j] = move(new_grid[:, j], 'v')\n",
    "    return newer_grid\n",
    "\n",
    "def do_turns(grid, maxn = 99999):\n",
    "    n_turns = 0\n",
    "    new_grid = turn(grid.copy())\n",
    "    while not np.all(grid == new_grid) and n_turns < maxn:\n",
    "        n_turns += 1\n",
    "        new_grid, grid = turn(new_grid.copy()), new_grid.copy()\n",
    "    return grid, n_turns+1\n",
    "\n",
    "do_turns(data.copy())"
   ]
  }
 ],
 "metadata": {
  "kernelspec": {
   "display_name": "Python 3.8.10 ('env': venv)",
   "language": "python",
   "name": "python3"
  },
  "language_info": {
   "codemirror_mode": {
    "name": "ipython",
    "version": 3
   },
   "file_extension": ".py",
   "mimetype": "text/x-python",
   "name": "python",
   "nbconvert_exporter": "python",
   "pygments_lexer": "ipython3",
   "version": "3.8.10"
  },
  "orig_nbformat": 4,
  "vscode": {
   "interpreter": {
    "hash": "a6e0e7a52ff25650311410ec676cb128052cdfc3b848542c415d170f51f09b78"
   }
  }
 },
 "nbformat": 4,
 "nbformat_minor": 2
}
