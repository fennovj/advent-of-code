{
 "cells": [
  {
   "cell_type": "code",
   "execution_count": 88,
   "metadata": {},
   "outputs": [],
   "source": [
    "import advent\n",
    "import numpy as np\n",
    "from scipy.ndimage.filters import generic_filter\n",
    "\n",
    "data = advent.get_lines_doublenewline(20)\n",
    "\n",
    "rule = data[0][0]\n",
    "picture = np.array([[0 if c == '.' else 1 for c in line] for line in data[1]])"
   ]
  },
  {
   "cell_type": "code",
   "execution_count": 89,
   "metadata": {},
   "outputs": [],
   "source": [
    "def apply(patch):\n",
    "    patch = patch.astype(str)\n",
    "    number = ''.join(patch)\n",
    "    # Ok this is some really messy stuff with types (string/double/int)\n",
    "    # But the assert statement makes sure it works\n",
    "    number = number.replace('.0', '')\n",
    "    assert len(number) == 9\n",
    "    number = int(number, 2)\n",
    "    return 0 if rule[number] == '.' else 1\n",
    "\n",
    "def apply_rule(picture, n_iter=1, cval=0):\n",
    "    # cval is the value of the 'infinite wasteland', which we need for padding\n",
    "    # This changes every iteration because of rule[0] == 1 and rule[512] == 0\n",
    "    # If that is not true for your input, this solution won't work!\n",
    "    picture = np.pad(picture, 1, mode='constant', constant_values=cval)\n",
    "    picture = generic_filter(picture, apply, size=3, mode='constant', cval=cval)\n",
    "    return picture if n_iter == 1 else apply_rule(picture, n_iter-1, cval = 1-cval)"
   ]
  },
  {
   "cell_type": "code",
   "execution_count": 90,
   "metadata": {},
   "outputs": [
    {
     "data": {
      "text/plain": [
       "5884"
      ]
     },
     "execution_count": 90,
     "metadata": {},
     "output_type": "execute_result"
    }
   ],
   "source": [
    "init_cval = 0\n",
    "part1 = apply_rule(picture, n_iter=2, cval=init_cval)\n",
    "np.sum(part1)"
   ]
  },
  {
   "cell_type": "code",
   "execution_count": 92,
   "metadata": {},
   "outputs": [
    {
     "data": {
      "text/plain": [
       "19043"
      ]
     },
     "execution_count": 92,
     "metadata": {},
     "output_type": "execute_result"
    }
   ],
   "source": [
    "init_cval = 0\n",
    "part2 = apply_rule(picture, n_iter=50, cval=init_cval)\n",
    "np.sum(part2)"
   ]
  }
 ],
 "metadata": {
  "interpreter": {
   "hash": "ad9d0ce513bca00a85b95c5d2b5b8485296f8206ad7c0d55e8d58ee9b0dfce4e"
  },
  "kernelspec": {
   "display_name": "Python 3.9.7 64-bit ('env': venv)",
   "language": "python",
   "name": "python3"
  },
  "language_info": {
   "codemirror_mode": {
    "name": "ipython",
    "version": 3
   },
   "file_extension": ".py",
   "mimetype": "text/x-python",
   "name": "python",
   "nbconvert_exporter": "python",
   "pygments_lexer": "ipython3",
   "version": "3.9.7"
  },
  "orig_nbformat": 4
 },
 "nbformat": 4,
 "nbformat_minor": 2
}
