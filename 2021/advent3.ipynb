{
 "cells": [
  {
   "cell_type": "code",
   "execution_count": 1,
   "metadata": {},
   "outputs": [
    {
     "name": "stdout",
     "output_type": "stream",
     "text": [
      "011100101100\n"
     ]
    },
    {
     "data": {
      "text/plain": [
       "4147524"
      ]
     },
     "execution_count": 1,
     "metadata": {},
     "output_type": "execute_result"
    }
   ],
   "source": [
    "import pandas as pd\n",
    "num = pd.read_csv('data/advent3.csv', dtype=object, header=None, names=['code'])['code'].str.split('', expand=True).mode()[[1,2,3,4,5,6,7,8,9,10,11,12]].agg(''.join, axis=1)[0]\n",
    "print(num)\n",
    "num2 = '100011010011' # Handmatig getyped\n",
    "int(num, 2) * int(num2, 2)"
   ]
  },
  {
   "cell_type": "code",
   "execution_count": 2,
   "metadata": {},
   "outputs": [
    {
     "name": "stdout",
     "output_type": "stream",
     "text": [
      "1427\n",
      "2502\n"
     ]
    }
   ],
   "source": [
    "data = pd.read_csv('data/advent3.csv', dtype=object, header=None, names=['code'])['code'].str.split('', expand=True)[[1,2,3,4,5,6,7,8,9,10,11,12]]\n",
    "data2 = data.copy()\n",
    "\n",
    "def do_filter(data, col, oxygen=True):\n",
    "    if (data[col].iat[0] == data[col]).all():\n",
    "        return data\n",
    "    most_common = data[col].mode().iat[-1]\n",
    "    if not oxygen:\n",
    "        most_common = str(1 - int(most_common))\n",
    "    return data[data[col] == most_common]\n",
    "\n",
    "for col in data.columns:\n",
    "    data = do_filter(data, col, True) \n",
    "print(int(data.agg(''.join, axis=1).iat[0], 2))\n",
    "\n",
    "for col in data2.columns:\n",
    "    data2 = do_filter(data2, col, False)\n",
    "print(int(data2.agg(''.join, axis=1).iat[0], 2))"
   ]
  },
  {
   "cell_type": "code",
   "execution_count": 64,
   "metadata": {},
   "outputs": [
    {
     "data": {
      "text/plain": [
       "3570354"
      ]
     },
     "execution_count": 64,
     "metadata": {},
     "output_type": "execute_result"
    }
   ],
   "source": [
    "1427*2502"
   ]
  }
 ],
 "metadata": {
  "interpreter": {
   "hash": "15547e8f3cc55c70e78ac021e6717cae880b7003aced283bb5c09dc6e0c76fa4"
  },
  "kernelspec": {
   "display_name": "Python 3.8.10 64-bit ('env': venv)",
   "language": "python",
   "name": "python3"
  },
  "language_info": {
   "codemirror_mode": {
    "name": "ipython",
    "version": 3
   },
   "file_extension": ".py",
   "mimetype": "text/x-python",
   "name": "python",
   "nbconvert_exporter": "python",
   "pygments_lexer": "ipython3",
   "version": "3.8.10"
  },
  "orig_nbformat": 4
 },
 "nbformat": 4,
 "nbformat_minor": 2
}
