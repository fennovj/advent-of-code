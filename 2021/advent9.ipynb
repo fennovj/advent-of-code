{
 "cells": [
  {
   "cell_type": "code",
   "execution_count": 81,
   "metadata": {},
   "outputs": [],
   "source": [
    "import pandas as pd\n",
    "board_size = 100  # Doesn't work for the test input :(, set it to 10 then\n",
    "data = pd.read_csv('data/advent9.csv', header=None, dtype=str)[0].str.split(\"\", expand=True).loc[:, 1:board_size].astype(int).to_numpy()"
   ]
  },
  {
   "cell_type": "code",
   "execution_count": 82,
   "metadata": {},
   "outputs": [
    {
     "name": "stdout",
     "output_type": "stream",
     "text": [
      "458\n"
     ]
    }
   ],
   "source": [
    "def get(data, i, j, default=9):\n",
    "    if i < 0: return default\n",
    "    if j < 0: return default\n",
    "    if i >= data.shape[0]: return default\n",
    "    if j >= data.shape[1]: return default\n",
    "    return data[i, j]\n",
    "\n",
    "def is_low_point(data, i, j):\n",
    "    return data[i, j] < get(data, i+1, j) and \\\n",
    "           data[i, j] < get(data, i-1, j) and \\\n",
    "           data[i, j] < get(data, i, j+1) and \\\n",
    "           data[i, j] < get(data, i, j-1)\n",
    "\n",
    "total_risk = 0\n",
    "lowest_points = []\n",
    "for i in range(data.shape[0]):\n",
    "    for j in range(data.shape[1]):\n",
    "        if is_low_point(data, i, j):\n",
    "            lowest_points.append((i, j))\n",
    "            total_risk += (1 + data[i, j])\n",
    "\n",
    "print(total_risk)"
   ]
  },
  {
   "cell_type": "code",
   "execution_count": 92,
   "metadata": {},
   "outputs": [
    {
     "name": "stdout",
     "output_type": "stream",
     "text": [
      "[2, 2, 2, 2, 2, 3, 3, 3, 3, 3, 3, 4, 4, 4, 4, 4, 4, 5, 5, 5, 5, 6, 6, 6, 6, 7, 7, 7, 7, 7, 7, 7, 7, 8, 8, 8, 8, 8, 8, 8, 9, 9, 9, 9, 9, 9, 10, 10, 10, 10, 11, 11, 11, 12, 12, 12, 12, 12, 13, 14, 14, 14, 14, 14, 15, 15, 15, 16, 16, 16, 17, 17, 18, 19, 19, 20, 20, 20, 21, 21, 21, 21, 22, 22, 22, 23, 23, 24, 25, 27, 27, 27, 27, 28, 28, 29, 29, 31, 31, 31, 31, 32, 32, 32, 33, 33, 33, 34, 35, 35, 36, 37, 38, 38, 38, 38, 39, 40, 40, 41, 42, 42, 42, 43, 43, 43, 44, 46, 47, 47, 48, 48, 48, 50, 51, 52, 52, 52, 53, 53, 53, 53, 53, 54, 55, 55, 55, 56, 56, 57, 57, 58, 58, 59, 59, 59, 61, 62, 63, 63, 65, 66, 66, 66, 66, 66, 67, 68, 68, 68, 68, 69, 69, 69, 72, 72, 73, 75, 76, 77, 78, 79, 79, 80, 82, 82, 83, 83, 86, 87, 88, 88, 89, 89, 93, 99, 102, 103, 109, 110, 111, 114]\n",
      "1391940\n"
     ]
    }
   ],
   "source": [
    "def expand_basin(data, i, j, basin=None):\n",
    "    # Our approach: find neighbors, don't care about increasing/decreasing,\n",
    "    # we just care if if it's a 9 or an edge, if so, recursively call expand_basin again\n",
    "    # also if neighbor is already part of the basin, don't recurse (to prevent exponential blowup)\n",
    "    basin = set([]) if basin is None else basin  # Cannot call functions as default parameter\n",
    "\n",
    "    if i < 0 or i >= data.shape[0] or j < 0 or j >= data.shape[1] or data[i, j] == 9:\n",
    "        return basin  # Basin stays unchanged\n",
    "    \n",
    "    basin.add((i, j)) # The current point is definitely in the basin\n",
    "    for move in ((-1, 0), (1, 0), (0, 1), (0, -1)):\n",
    "        new_i, new_j = i + move[0], j+move[1]\n",
    "        if (new_i, new_j) in basin:\n",
    "            continue  # We already did this one, don't recurse again\n",
    "        basin = expand_basin(data, new_i, new_j, basin)\n",
    "    return basin\n",
    "\n",
    "result = {}\n",
    "for lowest_point in lowest_points:\n",
    "    basin = expand_basin(data, lowest_point[0], lowest_point[1])\n",
    "    result[lowest_point] = len(basin)\n",
    "\n",
    "basin_sizes = sorted(result.values())\n",
    "print(basin_sizes)\n",
    "print(basin_sizes[-3] * basin_sizes[-2] * basin_sizes[-1])\n"
   ]
  }
 ],
 "metadata": {
  "interpreter": {
   "hash": "1ba485997a1541442dfd44644569850fb24d8f183b3d63720c2396ab2df01f7f"
  },
  "kernelspec": {
   "display_name": "Python 3.9.7 64-bit ('env': venv)",
   "language": "python",
   "name": "python3"
  },
  "language_info": {
   "codemirror_mode": {
    "name": "ipython",
    "version": 3
   },
   "file_extension": ".py",
   "mimetype": "text/x-python",
   "name": "python",
   "nbconvert_exporter": "python",
   "pygments_lexer": "ipython3",
   "version": "3.9.7"
  },
  "orig_nbformat": 4
 },
 "nbformat": 4,
 "nbformat_minor": 2
}
