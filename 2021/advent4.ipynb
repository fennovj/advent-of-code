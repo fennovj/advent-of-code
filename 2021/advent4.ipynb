{
 "cells": [
  {
   "cell_type": "code",
   "execution_count": 2,
   "metadata": {},
   "outputs": [
    {
     "name": "stdout",
     "output_type": "stream",
     "text": [
      "22\n",
      "[[70 57 62 20 18]\n",
      " [86 45 41 76 32]\n",
      " [87 35 52  5  2]\n",
      " [16 77 25 39 22]\n",
      " [38 10  6 29 98]]\n",
      "[[ 0 57 62  0  0]\n",
      " [ 0 45  0  0  0]\n",
      " [ 0 35  0  5  0]\n",
      " [ 0 77  0  0  0]\n",
      " [38  0  0  0  0]]\n",
      "7018\n"
     ]
    },
    {
     "ename": "ValueError",
     "evalue": "",
     "output_type": "error",
     "traceback": [
      "\u001b[0;31m---------------------------------------------------------------------------\u001b[0m",
      "\u001b[0;31mValueError\u001b[0m                                Traceback (most recent call last)",
      "\u001b[0;32m/tmp/ipykernel_2388/1272879678.py\u001b[0m in \u001b[0;36m<module>\u001b[0;34m\u001b[0m\n\u001b[1;32m     26\u001b[0m                 \u001b[0mprint\u001b[0m\u001b[0;34m(\u001b[0m\u001b[0;34m(\u001b[0m\u001b[0;36m1\u001b[0m \u001b[0;34m-\u001b[0m \u001b[0mmatches\u001b[0m\u001b[0;34m[\u001b[0m\u001b[0mi\u001b[0m\u001b[0;34m]\u001b[0m\u001b[0;34m)\u001b[0m \u001b[0;34m*\u001b[0m \u001b[0mboard\u001b[0m\u001b[0;34m)\u001b[0m \u001b[0;31m# The still-active squares\u001b[0m\u001b[0;34m\u001b[0m\u001b[0;34m\u001b[0m\u001b[0m\n\u001b[1;32m     27\u001b[0m                 \u001b[0mprint\u001b[0m\u001b[0;34m(\u001b[0m\u001b[0mnp\u001b[0m\u001b[0;34m.\u001b[0m\u001b[0msum\u001b[0m\u001b[0;34m(\u001b[0m\u001b[0;34m(\u001b[0m\u001b[0;36m1\u001b[0m \u001b[0;34m-\u001b[0m \u001b[0mmatches\u001b[0m\u001b[0;34m[\u001b[0m\u001b[0mi\u001b[0m\u001b[0;34m]\u001b[0m\u001b[0;34m)\u001b[0m \u001b[0;34m*\u001b[0m \u001b[0mboard\u001b[0m\u001b[0;34m)\u001b[0m \u001b[0;34m*\u001b[0m \u001b[0mnumber\u001b[0m\u001b[0;34m)\u001b[0m \u001b[0;31m# The answer\u001b[0m\u001b[0;34m\u001b[0m\u001b[0;34m\u001b[0m\u001b[0m\n\u001b[0;32m---> 28\u001b[0;31m                 \u001b[0;32mraise\u001b[0m \u001b[0mValueError\u001b[0m \u001b[0;31m# double break\u001b[0m\u001b[0;34m\u001b[0m\u001b[0;34m\u001b[0m\u001b[0m\n\u001b[0m\u001b[1;32m     29\u001b[0m \u001b[0;34m\u001b[0m\u001b[0m\n",
      "\u001b[0;31mValueError\u001b[0m: "
     ]
    }
   ],
   "source": [
    "import pandas as pd\n",
    "import numpy as np\n",
    "boards = pd.read_csv('data/advent4.csv', header=None)[0].str.strip().str.split(' +', expand=True).to_numpy()\n",
    "numbers = [72,99,88,8,59,61,96,92,2,70,1,32,18,10,95,33,20,31,66,43,26,24,91,44,11,15,48,90,27,29,14,68,3,50,69,74,54,4,16,55,64,12,73,80,58,83,6,87,30,41,25,39,93,60,9,81,63,75,46,19,78,51,21,28,94,7,17,42,53,13,97,98,34,76,89,23,86,52,79,85,67,84,47,22,37,65,71,49,82,40,77,36,62,0,56,45,57,38,35,5]\n",
    "num_boards = int(boards.shape[0] / boards.shape[1])  # Assuming boards are square\n",
    "\n",
    "matches = np.vsplit(np.full(boards.shape, False, dtype=bool), num_boards)\n",
    "boards = np.vsplit(boards.astype(int), num_boards)\n",
    "\n",
    "def check_bingo(board):\n",
    "    return np.any(np.all(board, axis=0)) or np.any(np.all(board, axis=1)) or np.all(np.diag(board)) or np.all(np.diag(np.rot90(board)))\n",
    "\n",
    "active_boards = set(range(num_boards))\n",
    "\n",
    "for number in numbers:\n",
    "    for i in range(num_boards):\n",
    "        board = boards[i]\n",
    "        matches[i] = np.logical_or(board == number, matches[i])\n",
    "        if check_bingo(matches[i]):\n",
    "            try: active_boards.remove(i)\n",
    "            except: _\n",
    "\n",
    "            if len(active_boards) == 1: # Set to 99 for part 1 of the question, 1 for part 2 of the question\n",
    "                print(number)\n",
    "                print(board)\n",
    "                print((1 - matches[i]) * board) # The still-active squares\n",
    "                print(np.sum((1 - matches[i]) * board) * number) # The answer\n",
    "                raise ValueError # double break\n",
    "\n"
   ]
  },
  {
   "cell_type": "code",
   "execution_count": 12,
   "metadata": {},
   "outputs": [
    {
     "data": {
      "text/plain": [
       "100.0"
      ]
     },
     "execution_count": 12,
     "metadata": {},
     "output_type": "execute_result"
    }
   ],
   "source": [
    "num_boards"
   ]
  },
  {
   "cell_type": "code",
   "execution_count": null,
   "metadata": {},
   "outputs": [],
   "source": []
  }
 ],
 "metadata": {
  "interpreter": {
   "hash": "15547e8f3cc55c70e78ac021e6717cae880b7003aced283bb5c09dc6e0c76fa4"
  },
  "kernelspec": {
   "display_name": "Python 3.8.10 64-bit ('env': venv)",
   "language": "python",
   "name": "python3"
  },
  "language_info": {
   "codemirror_mode": {
    "name": "ipython",
    "version": 3
   },
   "file_extension": ".py",
   "mimetype": "text/x-python",
   "name": "python",
   "nbconvert_exporter": "python",
   "pygments_lexer": "ipython3",
   "version": "3.8.10"
  },
  "orig_nbformat": 4
 },
 "nbformat": 4,
 "nbformat_minor": 2
}
