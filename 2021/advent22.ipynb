{
 "cells": [
  {
   "cell_type": "code",
   "execution_count": 35,
   "metadata": {},
   "outputs": [],
   "source": [
    "import advent\n",
    "import pandas as pd\n",
    "import numpy as np\n",
    "\n",
    "def parse_line(line):\n",
    "    line = line.split(' ')\n",
    "    on = 1 if line[0] == 'on' else 0\n",
    "    coords = line[1].split(',')\n",
    "    coords = [int(c)  for coord in coords for c in coord[2:].split('..')]\n",
    "    return [on] + coords\n",
    "\n",
    "data = pd.DataFrame(advent.get_lines(22, map_fn = parse_line))\n"
   ]
  },
  {
   "cell_type": "code",
   "execution_count": 36,
   "metadata": {},
   "outputs": [
    {
     "data": {
      "text/plain": [
       "642125.0"
      ]
     },
     "execution_count": 36,
     "metadata": {},
     "output_type": "execute_result"
    }
   ],
   "source": [
    "cube = np.zeros((101, 101, 101))\n",
    "\n",
    "def trim(a, b):\n",
    "    a[0], a[2], a[4] = max(a[0], b[0]), max(a[2], b[0]), max(a[4], b[0])\n",
    "    a[1], a[3], a[5] = min(a[1]+1, b[1]), min(a[3]+1, b[1]), min(a[5]+1, b[1])\n",
    "    return a\n",
    "\n",
    "def assign_to_cube(cube, coords, value, xmin=-50):\n",
    "    # c is a tuple of xmin,xmax,ymin,ymax,zmin,zmax\n",
    "    # cube MUST be a cube, e.g. cube.shape[0] == cube.shape[1] == cube.shape[2]\n",
    "    coords = trim([c-xmin for c in coords], (0, cube.shape[0]))\n",
    "    cube[coords[0]:coords[1], coords[2]:coords[3], coords[4]:coords[5]] = value\n",
    "    return cube\n",
    "\n",
    "for coords in list(data.itertuples()):\n",
    "    cube = assign_to_cube(cube, coords[2:], coords[1])\n",
    "\n",
    "cube.sum()"
   ]
  }
 ],
 "metadata": {
  "interpreter": {
   "hash": "ad9d0ce513bca00a85b95c5d2b5b8485296f8206ad7c0d55e8d58ee9b0dfce4e"
  },
  "kernelspec": {
   "display_name": "Python 3.9.7 64-bit ('env': venv)",
   "language": "python",
   "name": "python3"
  },
  "language_info": {
   "codemirror_mode": {
    "name": "ipython",
    "version": 3
   },
   "file_extension": ".py",
   "mimetype": "text/x-python",
   "name": "python",
   "nbconvert_exporter": "python",
   "pygments_lexer": "ipython3",
   "version": "3.9.7"
  },
  "orig_nbformat": 4
 },
 "nbformat": 4,
 "nbformat_minor": 2
}
