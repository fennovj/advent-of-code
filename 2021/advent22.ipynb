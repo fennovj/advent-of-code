{
 "cells": [
  {
   "cell_type": "code",
   "execution_count": 70,
   "metadata": {},
   "outputs": [],
   "source": [
    "import advent\n",
    "import pandas as pd\n",
    "import numpy as np\n",
    "\n",
    "def parse_line(line):\n",
    "    line = line.split(' ')\n",
    "    on = 1 if line[0] == 'on' else 0\n",
    "    coords = line[1].split(',')\n",
    "    coords = [int(c)  for coord in coords for c in coord[2:].split('..')]\n",
    "    return [on] + coords\n",
    "\n",
    "data = pd.DataFrame(advent.get_lines(22, map_fn = parse_line))\n"
   ]
  },
  {
   "cell_type": "code",
   "execution_count": 71,
   "metadata": {},
   "outputs": [
    {
     "data": {
      "text/plain": [
       "642125.0"
      ]
     },
     "execution_count": 71,
     "metadata": {},
     "output_type": "execute_result"
    }
   ],
   "source": [
    "cube = np.zeros((101, 101, 101))\n",
    "\n",
    "def trim(a, b):\n",
    "    a[0], a[2], a[4] = max(a[0], b[0]), max(a[2], b[0]), max(a[4], b[0])\n",
    "    a[1], a[3], a[5] = min(a[1]+1, b[1]), min(a[3]+1, b[1]), min(a[5]+1, b[1])\n",
    "    return a\n",
    "\n",
    "def assign_to_cube(cube, coords, value, xmin=-50):\n",
    "    # c is a tuple of xmin,xmax,ymin,ymax,zmin,zmax\n",
    "    # cube MUST be a cube, e.g. cube.shape[0] == cube.shape[1] == cube.shape[2]\n",
    "    coords = trim([c-xmin for c in coords], (0, cube.shape[0]))\n",
    "    cube[coords[0]:coords[1], coords[2]:coords[3], coords[4]:coords[5]] = value\n",
    "    return cube\n",
    "\n",
    "for coords in list(data.itertuples()):\n",
    "    cube = assign_to_cube(cube, coords[2:], coords[1])\n",
    "\n",
    "cube.sum()"
   ]
  },
  {
   "cell_type": "code",
   "execution_count": null,
   "metadata": {},
   "outputs": [
    {
     "name": "stdout",
     "output_type": "stream",
     "text": [
      "(1.5, 1.5, 5.5)\n",
      "[cuboid(x=(0, 0), y=(2, 2), z=(4, 5)), cuboid(x=(0, 0), y=(3, 3), z=(4, 5)), cuboid(x=(1, 1), y=(2, 2), z=(4, 5)), cuboid(x=(1, 1), y=(3, 3), z=(4, 5))]\n",
      "(-0.5, 1.5, 3.5)\n"
     ]
    }
   ],
   "source": [
    "# Part 2\n",
    "\n",
    "# The obvious idea here is to not keep track of every cuboid in a giant 100kx100kx100k\n",
    "# 3d matrix, but just to keep track of the corners only.\n",
    "# Problem being, cuboids overlapping creates all kind of weird not-square like objects with many corners\n",
    "# There are several complicated ways I can think of dealing with this, but the idea I ended up trying was:\n",
    "# Keep track of a list of turned-on cuboids\n",
    "# When two cuboids overlap, split one of them up into 8 cuboids, where 1 of the 8 covers the overlap\n",
    "# And replace the 1 with the 8. Then overlap becomes much easier to compute: just remove the 1 overlap cuboid,\n",
    "# and treat the 2nd cuboid as if the overlap doesn't exist (after all we just threw it away)\n",
    "\n",
    "# The goal is that in our list of turned-on cuboids, after every step, none of them should overlap anywhere\n",
    "\n",
    "from typing import NamedTuple, Optional\n",
    "import itertools\n",
    "import math\n",
    "\n",
    "def clamp(x: tuple[int, int], c: float) -> list[tuple[int, int]]:\n",
    "    # return (xmin, d), (d+1, xmax) such that d<c<d+1\n",
    "    # However, if c < xmin or c > xmax, just return (xmin, xmax)\n",
    "    xmin, xmax = x\n",
    "    assert xmin <= xmax\n",
    "    if c < xmin or c > xmax: return [(xmin, xmax)]\n",
    "    return [(xmin, math.floor(c)), (math.ceil(c), xmax)]\n",
    "\n",
    "def pick_point_in_interior(this, other):\n",
    "    # Picks a point out of either otherxmin, otherxmax\n",
    "    # By preferring one that is thisxmin < _ < thisxmax\n",
    "    # if neither matches that, prefer one that is thisxmin <= _ <= thisxmax\n",
    "    # If neither matches that, just return otherxmax\n",
    "    thisxmin, thisxmax = this\n",
    "    otherxmin, otherxmax = other\n",
    "    if thisxmin < otherxmin < thisxmax: return otherxmin\n",
    "    elif thisxmin < otherxmax < thisxmax: return otherxmax\n",
    "    elif thisxmin <= otherxmin <= thisxmax: return otherxmin\n",
    "    return otherxmax\n",
    "\n",
    "\n",
    "# We are using a class just because there is going to be so much index messing around. any structure will help\n",
    "coordinate = tuple[int|float, int|float, int|float]\n",
    "\n",
    "class cuboid(NamedTuple):\n",
    "    # Corners of the cuboid, inclusive\n",
    "    x: tuple[int, int]\n",
    "    y: tuple[int, int]\n",
    "    z: tuple[int, int]\n",
    "\n",
    "    def has_area(self) -> bool:\n",
    "        return self.x[0] <= self.x[1] and self.y[0] <= self.y[1] and self.z[0] <= self.z[1]\n",
    "\n",
    "    def size(self) -> int:\n",
    "        return (self.x[1] - self.x[0] + 1) * (self.y[1] - self.y[0] + 1) * (self.z[1] - self.z[0] + 1)\n",
    "\n",
    "    def contains(self, coord: coordinate) -> bool:\n",
    "        return (self.x[0] <= coord[0] <= self.x[1]) and \\\n",
    "               (self.y[0] <= coord[1] <= self.y[1]) and \\\n",
    "               (self.z[0] <= coord[2] <= self.z[1])\n",
    "    \n",
    "    def contains_cuboid(self, other: 'cuboid') -> bool:\n",
    "        # Returns true if other is completely contained in self\n",
    "        return self.x[0] <= other.x[0] and other.x[1] <= self.x[1] and \\\n",
    "                self.y[0] <= other.y[0] and other.y[1] <= self.y[1] and \\\n",
    "                self.z[0] <= other.z[0] and other.z[1] <= self.z[1]\n",
    "\n",
    "    def nudge_corner_towards_outside(self, coord: coordinate) -> coordinate:\n",
    "        # yeah kinda weird but I need this to call split later\n",
    "        # Does what it says: takes a corner and nudges by adding or subtracting 0.5\n",
    "        # So that the resulting coordinate is not in the cuboid\n",
    "        return (\n",
    "            coord[0] - 0.5 if coord[0] == self.x[0] else coord[0] + 0.5,\n",
    "            coord[1] - 0.5 if coord[1] == self.y[0] else coord[1] + 0.5,\n",
    "            coord[2] - 0.5 if coord[2] == self.z[0] else coord[2] + 0.5\n",
    "        )\n",
    "    \n",
    "    #def corners(self) -> list[coordinate]:\n",
    "    #    return list(itertools.product(self.x, self.y, self.z))\n",
    "\n",
    "    def split(self, middle: coordinate) -> list['cuboid']:\n",
    "        # middle here should be something like (4.5, 3.5, 2.5), aka NOT INTEGERS\n",
    "        # Returns 8 cuboids: the 8 cuboids on each x/y/z direction of the middle\n",
    "        # if middle is not inside self, this may return less than 8 cuboids...\n",
    "        # (as if this problem wasn't hard enough :) )\n",
    "        xclamp = clamp(self.x, middle[0])\n",
    "        yclamp = clamp(self.y, middle[1])\n",
    "        zclamp = clamp(self.z, middle[2])\n",
    "        result = []\n",
    "        for xyz in itertools.product(xclamp, yclamp, zclamp):\n",
    "            result.append(cuboid(xyz[0], xyz[1], xyz[2]))\n",
    "        return result\n",
    "    \n",
    "    def has_overlap(self, other: 'cuboid') -> bool:\n",
    "        xoverlap = other.x[1] >= self.x[0] and self.x[1] >= other.x[0]\n",
    "        yoverlap = other.y[1] >= self.y[0] and self.y[1] >= other.y[0]\n",
    "        zoverlap = other.z[1] >= self.z[0] and self.z[1] >= other.z[0]\n",
    "        return xoverlap and yoverlap and zoverlap\n",
    "    \n",
    "    def split_point(self, other: 'cuboid') -> coordinate:\n",
    "        # The idea of this function: we want to split this cube somewhere\n",
    "        # Such that 7 of the 8 resulting cuboids do not overlap with other.\n",
    "        # That way, we can keep reducing the overlapping volume with other\n",
    "\n",
    "        # if other has a corner that is inside self, return it\n",
    "        # If there are multiple, just return any (hopefully doesn't matter?)\n",
    "        # If there is no corner of other that is inside self, return None\n",
    "        \n",
    "        # However! We want the corner of other that is most 'inside' self.\n",
    "        # aka: for x-dim, if other.x[0] is xmin, take other.x[1]. etcetera\n",
    "        # if self.x and other.x are equal, any corner will work\n",
    "        proposed_x = pick_point_in_interior(self.x, other.x)\n",
    "        proposed_y = pick_point_in_interior(self.y, other.y)\n",
    "        proposed_z = pick_point_in_interior(self.z, other.z)\n",
    "        proposed = (proposed_x, proposed_y, proposed_z)\n",
    "        return other.nudge_corner_towards_outside(proposed)\n",
    "\n",
    "cube = cuboid(x=(0,1), y=(2,3), z=(4,5))\n",
    "#corners = cube.corners()\n",
    "n = cube.nudge_corner_towards_outside((1, 2, 5))\n",
    "print(n)\n",
    "print(cube.split((0.5, 2.5, 5.5)))\n",
    "print(cube.split_point(cuboid((0,2),(2,4),(4,6))))"
   ]
  },
  {
   "cell_type": "code",
   "execution_count": null,
   "metadata": {},
   "outputs": [
    {
     "name": "stderr",
     "output_type": "stream",
     "text": [
      "100%|██████████| 420/420 [00:08<00:00, 48.17it/s]  "
     ]
    },
    {
     "name": "stdout",
     "output_type": "stream",
     "text": [
      "1235164413198198\n"
     ]
    },
    {
     "name": "stderr",
     "output_type": "stream",
     "text": [
      "\n"
     ]
    }
   ],
   "source": [
    "on_cubes: list[cuboid] = []\n",
    "import tqdm\n",
    "\n",
    "for coords in tqdm.tqdm(list(data.itertuples())):\n",
    "    turn_on = coords[1] == 1 # this only determines whether we add the cube to the list at the end\n",
    "    # Otherwise the goal is the same: remove all overlap between on_cubes and cube\n",
    "    cube = cuboid((coords[2], coords[3]), (coords[4], coords[5]), (coords[6], coords[7]))\n",
    "    assert cube.has_area()\n",
    "    #print(cube)\n",
    "    overlap_found = True\n",
    "    while overlap_found:\n",
    "        overlap_found = False\n",
    "        for to_split in on_cubes:\n",
    "            if not to_split.has_overlap(cube): continue # there is no overlap\n",
    "            overlap_found = True\n",
    "            middle = to_split.split_point(cube)\n",
    "            #print(f\"Overlap found! {cube} with {c}, {middle}\")\n",
    "            #print(to_split, cube, middle)\n",
    "            new_cubes = to_split.split(middle)\n",
    "            on_cubes.remove(to_split)\n",
    "            for new_cube in new_cubes:\n",
    "                if not cube.contains_cuboid(new_cube) and new_cube.has_area():\n",
    "                    on_cubes.append(new_cube)\n",
    "            break # try again :D\n",
    "    if turn_on: on_cubes.append(cube)\n",
    "    #print(on_cubes)\n",
    "    #print('-----------------')\n",
    "    #print(sum([cube.size() for cube in on_cubes]))\n",
    "    #print('-----------------')\n",
    "\n",
    "print(sum([cube.size() for cube in on_cubes]))\n",
    "# 1993810700040032 too high\n",
    "# "
   ]
  }
 ],
 "metadata": {
  "kernelspec": {
   "display_name": ".venv",
   "language": "python",
   "name": "python3"
  },
  "language_info": {
   "codemirror_mode": {
    "name": "ipython",
    "version": 3
   },
   "file_extension": ".py",
   "mimetype": "text/x-python",
   "name": "python",
   "nbconvert_exporter": "python",
   "pygments_lexer": "ipython3",
   "version": "3.10.13"
  },
  "orig_nbformat": 4
 },
 "nbformat": 4,
 "nbformat_minor": 2
}
