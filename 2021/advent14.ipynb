{
 "cells": [
  {
   "cell_type": "code",
   "execution_count": 56,
   "metadata": {},
   "outputs": [],
   "source": [
    "import advent\n",
    "\n",
    "data = advent.get_lines(14)\n",
    "text = data[0]\n",
    "rules = [line.split(' -> ') for line in data[2:]]\n",
    "rules = dict([(x[0], x[1]) for x in rules])"
   ]
  },
  {
   "cell_type": "code",
   "execution_count": 57,
   "metadata": {},
   "outputs": [],
   "source": [
    "def apply_rules(text, rules):\n",
    "    # Build the string by character\n",
    "    result = text[0]\n",
    "    for i in range(1, len(text)):\n",
    "        rule = text[i-1:i+1]\n",
    "        if rule in rules:\n",
    "            result += rules[rule]\n",
    "        result += text[i]\n",
    "    return result"
   ]
  },
  {
   "cell_type": "code",
   "execution_count": 58,
   "metadata": {},
   "outputs": [
    {
     "data": {
      "text/plain": [
       "2899"
      ]
     },
     "execution_count": 58,
     "metadata": {},
     "output_type": "execute_result"
    }
   ],
   "source": [
    "from collections import Counter\n",
    "t = text\n",
    "\n",
    "for _ in range(10):\n",
    "    t = apply_rules(t, rules)\n",
    "\n",
    "coll = Counter(t)\n",
    "occurences = sorted(list(coll.values()))\n",
    "occurences[-1] - occurences[0]"
   ]
  },
  {
   "cell_type": "code",
   "execution_count": 59,
   "metadata": {},
   "outputs": [],
   "source": [
    "def inc(dictionary, key, num=1):\n",
    "    if key in dictionary:\n",
    "        dictionary[key] += num\n",
    "    else:\n",
    "        dictionary[key] = num\n",
    "    return dictionary\n",
    "\n",
    "def bigram_text(text):\n",
    "    result = {}\n",
    "    for i in range(1, len(text)):\n",
    "        inc(result, text[i-1:i+1])\n",
    "    return result\n",
    "\n",
    "def apply_rules_fast(text, rules):\n",
    "    # Build the string per bigram\n",
    "    result = {}\n",
    "    for bigram in text:\n",
    "\n",
    "        if bigram in rules:\n",
    "            letter = rules[bigram]\n",
    "            inc(result, bigram[0] + letter, text[bigram])\n",
    "            inc(result, letter + bigram[1], text[bigram])\n",
    "        else:# Just copy it as-is\n",
    "            inc(result, bigram, text[bigram])\n",
    "    return result"
   ]
  },
  {
   "cell_type": "code",
   "execution_count": 61,
   "metadata": {},
   "outputs": [
    {
     "data": {
      "text/plain": [
       "3528317079545.0"
      ]
     },
     "execution_count": 61,
     "metadata": {},
     "output_type": "execute_result"
    }
   ],
   "source": [
    "# Pad the text, because we want the first/last letter to be properly double counted\n",
    "# So we can fairly divide the result by 2\n",
    "t = bigram_text('_' + text + '_')\n",
    "\n",
    "for _ in range(40):\n",
    "    t = apply_rules_fast(t, rules)\n",
    "\n",
    "result = {}\n",
    "for letter in 'ABCDEFGHIJKLMNOPQRSTUVWXYZ':\n",
    "    result[letter] = 0\n",
    "    for bigram in t:\n",
    "        if bigram == letter + letter:\n",
    "            inc(result, letter, t[bigram] * 2)\n",
    "        elif letter in bigram:\n",
    "            inc(result, letter, t[bigram])\n",
    "\n",
    "occurences = sorted(list(filter(lambda x: x>0, result.values())))\n",
    "(occurences[-1] - occurences[0]) / 2  # Divide by two to reverse double counting"
   ]
  }
 ],
 "metadata": {
  "interpreter": {
   "hash": "5d7396d72a031e084ca8a7a10bc9e074a727d6785ddc3f255c136fb1ccc8ec02"
  },
  "kernelspec": {
   "display_name": "Python 3.8.10 64-bit ('env': venv)",
   "language": "python",
   "name": "python3"
  },
  "language_info": {
   "codemirror_mode": {
    "name": "ipython",
    "version": 3
   },
   "file_extension": ".py",
   "mimetype": "text/x-python",
   "name": "python",
   "nbconvert_exporter": "python",
   "pygments_lexer": "ipython3",
   "version": "3.9.7"
  },
  "orig_nbformat": 4
 },
 "nbformat": 4,
 "nbformat_minor": 2
}
