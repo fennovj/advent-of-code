{
 "cells": [
  {
   "cell_type": "code",
   "execution_count": 37,
   "metadata": {},
   "outputs": [],
   "source": [
    "import advent\n",
    "\n",
    "data = advent.get_lines(14)\n",
    "text = data[0]\n",
    "rules = [line.split(' -> ') for line in data[2:]]\n",
    "rules = dict([(x[0], x[1]) for x in rules])"
   ]
  },
  {
   "cell_type": "code",
   "execution_count": 38,
   "metadata": {},
   "outputs": [],
   "source": [
    "def apply_rules(text, rules):\n",
    "    # Build the string by character\n",
    "    result = text[0]\n",
    "    for i in range(1, len(text)):\n",
    "        rule = text[i-1:i+1]\n",
    "        if rule in rules:\n",
    "            result += rules[rule]\n",
    "        result += text[i]\n",
    "    return result"
   ]
  },
  {
   "cell_type": "code",
   "execution_count": 39,
   "metadata": {},
   "outputs": [
    {
     "data": {
      "text/plain": [
       "2899"
      ]
     },
     "execution_count": 39,
     "metadata": {},
     "output_type": "execute_result"
    }
   ],
   "source": [
    "from collections import Counter\n",
    "t = text\n",
    "\n",
    "for _ in range(10):\n",
    "    t = apply_rules(t, rules)\n",
    "\n",
    "coll = Counter(t)\n",
    "occurences = sorted(list(coll.values()))\n",
    "occurences[-1] - occurences[0]"
   ]
  }
 ],
 "metadata": {
  "interpreter": {
   "hash": "5d7396d72a031e084ca8a7a10bc9e074a727d6785ddc3f255c136fb1ccc8ec02"
  },
  "kernelspec": {
   "display_name": "Python 3.8.10 64-bit ('env': venv)",
   "language": "python",
   "name": "python3"
  },
  "language_info": {
   "codemirror_mode": {
    "name": "ipython",
    "version": 3
   },
   "file_extension": ".py",
   "mimetype": "text/x-python",
   "name": "python",
   "nbconvert_exporter": "python",
   "pygments_lexer": "ipython3",
   "version": "3.8.10"
  },
  "orig_nbformat": 4
 },
 "nbformat": 4,
 "nbformat_minor": 2
}
