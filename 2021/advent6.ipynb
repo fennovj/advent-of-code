{
 "cells": [
  {
   "cell_type": "code",
   "execution_count": 2,
   "metadata": {},
   "outputs": [],
   "source": [
    "with open('data/advent6.num', 'r') as f:\n",
    "    ages = f.read()\n",
    "ages = [int(x) for x in ages.split(',')]\n",
    "#ages = [3,4,3,1,2]"
   ]
  },
  {
   "cell_type": "code",
   "execution_count": 3,
   "metadata": {},
   "outputs": [
    {
     "name": "stdout",
     "output_type": "stream",
     "text": [
      "389726\n"
     ]
    }
   ],
   "source": [
    "def simulate_day(ages):\n",
    "    new_ages, new_repr = [], []\n",
    "    ages = [age - 1 for age in ages]\n",
    "    for i, a in enumerate(ages):\n",
    "        if a == -1: # Reproduce\n",
    "            ages[i] = 6\n",
    "            new_ages += [8]\n",
    "            new_repr += [6]\n",
    "    ages += new_ages\n",
    "    return (ages)\n",
    "\n",
    "iterations = 80\n",
    "for i in range(iterations):\n",
    "    ages = simulate_day(ages)\n",
    "    #print(i+1, \"days: \", len(ages))\n",
    "\n",
    "print(len(ages))"
   ]
  },
  {
   "cell_type": "code",
   "execution_count": 4,
   "metadata": {},
   "outputs": [
    {
     "name": "stdout",
     "output_type": "stream",
     "text": [
      "1849066218384004\n"
     ]
    }
   ],
   "source": [
    "# Second try\n",
    "def to_fish_count(ages):\n",
    "    result = [0] * 9\n",
    "    for i in range(9):\n",
    "        result[i] = ages.count(i)\n",
    "    return result\n",
    "\n",
    "def simulate_day(fish_count):\n",
    "    new_count = fish_count[0]\n",
    "    fish_count.pop(0)\n",
    "    fish_count += [new_count] # number of new fish\n",
    "    fish_count[6] += new_count # old fish on cooldown\n",
    "    return fish_count\n",
    "\n",
    "#def simulate_day(fish):\n",
    "#    return [fish[1], fish[2], fish[3], fish[4], fish[5], fish[6], fish[7] + fish[0], fish[8], fish[0]]\n",
    "\n",
    "def get_fish(iterations=256):\n",
    "    fish_count = to_fish_count(ages)\n",
    "    num_fish = [sum(fish_count)]\n",
    "\n",
    "    for i in range(iterations):\n",
    "        fish_count = simulate_day(fish_count)\n",
    "        num_fish += [sum(fish_count)]\n",
    "        #print(i+1, \"days: \", fish_count)\n",
    "\n",
    "    return sum(fish_count), num_fish\n",
    "\n",
    "result, num_fish = get_fish(256)\n",
    "print(result)\n"
   ]
  },
  {
   "cell_type": "code",
   "execution_count": 5,
   "metadata": {},
   "outputs": [
    {
     "data": {
      "text/plain": [
       "<AxesSubplot:>"
      ]
     },
     "execution_count": 5,
     "metadata": {},
     "output_type": "execute_result"
    },
    {
     "data": {
      "image/png": "[encoded data removed]",
      "text/plain": [
       "<Figure size 432x288 with 1 Axes>"
      ]
     },
     "metadata": {
      "needs_background": "light"
     },
     "output_type": "display_data"
    }
   ],
   "source": [
    "import pandas as pd\n",
    "pd.Series(num_fish).plot()"
   ]
  },
  {
   "cell_type": "code",
   "execution_count": 8,
   "metadata": {},
   "outputs": [
    {
     "data": {
      "application/vnd.jupyter.widget-view+json": {
       "model_id": "d0b709117dfe48e8a707cbffdce40ba8",
       "version_major": 2,
       "version_minor": 0
      },
      "text/plain": [
       "interactive(children=(IntSlider(value=256, description='iterations', max=768, min=-256), Output()), _dom_class…"
      ]
     },
     "metadata": {},
     "output_type": "display_data"
    },
    {
     "data": {
      "text/plain": [
       "<function __main__.<lambda>(iterations)>"
      ]
     },
     "execution_count": 8,
     "metadata": {},
     "output_type": "execute_result"
    }
   ],
   "source": [
    "from ipywidgets import interact\n",
    "interact(lambda iterations: get_fish(iterations)[0], iterations=256)"
   ]
  },
  {
   "cell_type": "code",
   "execution_count": null,
   "metadata": {},
   "outputs": [],
   "source": []
  }
 ],
 "metadata": {
  "interpreter": {
   "hash": "4bc9b96dfd043465748790bc2ab3033e0b2195d674677b32642a5a9507ff1bd4"
  },
  "kernelspec": {
   "display_name": "Python 3.9.7 64-bit ('env': venv)",
   "language": "python",
   "name": "python3"
  },
  "language_info": {
   "codemirror_mode": {
    "name": "ipython",
    "version": 3
   },
   "file_extension": ".py",
   "mimetype": "text/x-python",
   "name": "python",
   "nbconvert_exporter": "python",
   "pygments_lexer": "ipython3",
   "version": "3.8.10"
  },
  "orig_nbformat": 4
 },
 "nbformat": 4,
 "nbformat_minor": 2
}
