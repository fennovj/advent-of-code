{
 "cells": [
  {
   "cell_type": "code",
   "execution_count": 102,
   "metadata": {},
   "outputs": [],
   "source": [
    "import advent\n",
    "\n",
    "data = advent.get_lines(18)"
   ]
  },
  {
   "cell_type": "code",
   "execution_count": 103,
   "metadata": {},
   "outputs": [
    {
     "data": {
      "text/plain": [
       "4140"
      ]
     },
     "execution_count": 103,
     "metadata": {},
     "output_type": "execute_result"
    }
   ],
   "source": [
    "def magnitude(pair):\n",
    "    if type(pair) == int:\n",
    "        return pair\n",
    "    else:\n",
    "        return 3*magnitude(pair[0]) + 2*magnitude(pair[1])\n",
    "\n",
    "def parse(pair):\n",
    "    if len(pair) <= 2:\n",
    "        return int(pair)\n",
    "    # Looks like [xxx, yyy] where xxx/yyy may contain commas and braces\n",
    "    level = 0\n",
    "    for i, c in enumerate([c for c in pair[1:-1]]):\n",
    "        if c == '[': level += 1\n",
    "        elif c == ']': level -= 1\n",
    "        elif c == ',':\n",
    "            if level == 0:\n",
    "                return (parse(pair[1:(i+1)]), parse(pair[(i+2):-1]))\n",
    "    raise ValueError(f\"{pair} could not be parsed\")\n",
    "\n",
    "test = \"[[[[6,6],[7,6]],[[7,7],[7,0]]],[[[7,7],[7,7]],[[7,8],[9,9]]]]\"\n",
    "magnitude(parse(test))  # should be 4140\n"
   ]
  },
  {
   "cell_type": "code",
   "execution_count": 104,
   "metadata": {},
   "outputs": [
    {
     "data": {
      "text/plain": [
       "((((0, 7), 4), ((7, 8), (6, 0))), (8, 1))"
      ]
     },
     "execution_count": 104,
     "metadata": {},
     "output_type": "execute_result"
    }
   ],
   "source": [
    "def split(pair):\n",
    "    # recurses over pair and splits when neccecary\n",
    "    # Returns (pair, b) where b is boolean if we split or not\n",
    "\n",
    "    if type(pair) == int and pair > 9:\n",
    "        return (pair // 2, (pair+1) // 2), True\n",
    "    elif type(pair) == int and pair <= 9:\n",
    "        return pair, False\n",
    "    \n",
    "    left, b = split(pair[0])\n",
    "    if b:\n",
    "        return (left, pair[1]), b\n",
    "    else:\n",
    "        right, b = split(pair[1])\n",
    "        return (left, right), b\n",
    "\n",
    "def add_right(pair, num):\n",
    "    if num == 0: return pair\n",
    "    if type(pair) == int:\n",
    "        return pair+num\n",
    "    else:\n",
    "        return (pair[0], add_right(pair[1], num))\n",
    "\n",
    "def add_left(pair, num):\n",
    "    if num == 0: return pair\n",
    "    if type(pair) == int:\n",
    "        return pair+num\n",
    "    else:\n",
    "        return (add_left(pair[0], num), pair[1])\n",
    "\n",
    "def explode(pair, depth=0):\n",
    "    # returns (exploded, l, r, b) where l, r still need to be added upward, b is is we split or not\n",
    "    # l or r of 0 means nothing needs to be added, wether that be the inner pair was (0,0) or just no explosion\n",
    "    # example: [1, 1], depth=4 returns 0, 1, 1, True\n",
    "    if type(pair) == int:\n",
    "        return pair, 0, 0, False\n",
    "    if depth == 4:\n",
    "        # Because we aggresively split, depth 5 should never be possible, so this must be some [int, int]\n",
    "        assert type(pair[0]) == int and type(pair[1]) == int, \"Depth higher than 4?\"\n",
    "        return 0, pair[0], pair[1], True\n",
    "\n",
    "    left, l, r, b = explode(pair[0], depth+1)\n",
    "    if b:\n",
    "        #print(left, l, r, b, pair[1])\n",
    "        # Don't explode right side. l is useless to us since this was on the left\n",
    "        return (left, add_left(pair[1], r)), l, 0, b\n",
    "    if not b:\n",
    "        # l, r must have been 0 since there was no explosion\n",
    "        right, l, r, b = explode(pair[1], depth+1)\n",
    "        return (add_right(left, l), right), 0, r, b\n",
    "\n",
    "def preduce(pair):\n",
    "    exploded, splitted = True, True\n",
    "    while exploded or splitted:\n",
    "        pair, _, _, exploded = explode(pair)\n",
    "        if exploded: continue\n",
    "        pair, splitted = split(pair)\n",
    "    return pair\n",
    "\n",
    "def add(left, right):\n",
    "    return preduce((left, right))\n",
    "\n",
    "add(parse(\"[[[[4,3],4],4],[7,[[8,4],9]]]\"), parse(\"[1, 1]\"))\n",
    "\n",
    "\n",
    "\n"
   ]
  },
  {
   "cell_type": "code",
   "execution_count": 108,
   "metadata": {},
   "outputs": [
    {
     "data": {
      "text/plain": [
       "4132"
      ]
     },
     "execution_count": 108,
     "metadata": {},
     "output_type": "execute_result"
    }
   ],
   "source": [
    "from functools import reduce\n",
    "\n",
    "magnitude(reduce(add, map(parse, data)))"
   ]
  },
  {
   "cell_type": "code",
   "execution_count": 116,
   "metadata": {},
   "outputs": [
    {
     "data": {
      "text/plain": [
       "4685"
      ]
     },
     "execution_count": 116,
     "metadata": {},
     "output_type": "execute_result"
    }
   ],
   "source": [
    "max_score = 0\n",
    "try:\n",
    "    for i in data:\n",
    "        for j in data:\n",
    "            max_score = max(max_score, magnitude(add(parse(i), parse(j))))\n",
    "except AssertionError:\n",
    "    print(i, j)\n",
    "max_score"
   ]
  }
 ],
 "metadata": {
  "interpreter": {
   "hash": "5d7396d72a031e084ca8a7a10bc9e074a727d6785ddc3f255c136fb1ccc8ec02"
  },
  "kernelspec": {
   "display_name": "Python 3.8.10 64-bit ('env': venv)",
   "language": "python",
   "name": "python3"
  },
  "language_info": {
   "codemirror_mode": {
    "name": "ipython",
    "version": 3
   },
   "file_extension": ".py",
   "mimetype": "text/x-python",
   "name": "python",
   "nbconvert_exporter": "python",
   "pygments_lexer": "ipython3",
   "version": "3.8.10"
  },
  "orig_nbformat": 4
 },
 "nbformat": 4,
 "nbformat_minor": 2
}
