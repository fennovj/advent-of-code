{
 "cells": [
  {
   "cell_type": "code",
   "execution_count": 20,
   "metadata": {},
   "outputs": [],
   "source": [
    "import advent\n",
    "\n",
    "paths = advent.get_lines(12, map_fn = lambda x: x.split('-'))\n",
    "\n",
    "def neighbors(node, paths):\n",
    "    result = []\n",
    "    for p in paths:\n",
    "        if p[0] == node:\n",
    "            result.append(p[1])\n",
    "        elif p[1] == node:\n",
    "            result.append(p[0])\n",
    "    return result\n",
    "\n",
    "def is_small_cave(node):\n",
    "    return node.islower()"
   ]
  },
  {
   "cell_type": "code",
   "execution_count": 21,
   "metadata": {},
   "outputs": [
    {
     "data": {
      "text/plain": [
       "4691"
      ]
     },
     "execution_count": 21,
     "metadata": {},
     "output_type": "execute_result"
    }
   ],
   "source": [
    "def count_paths(paths, start_node='start', end_node='end', visited=['start']):\n",
    "    if start_node == end_node:\n",
    "        #print(visited)\n",
    "        return 1  # The empty path\n",
    "    result = 0\n",
    "    for n in neighbors(start_node, paths):\n",
    "        if is_small_cave(n) and n in visited:\n",
    "            continue  # Not available\n",
    "        else:\n",
    "            result += count_paths(paths, n, end_node, visited + [n])\n",
    "    return result\n",
    "\n",
    "count_paths(paths)\n",
    "\n",
    "    "
   ]
  },
  {
   "cell_type": "code",
   "execution_count": 23,
   "metadata": {},
   "outputs": [
    {
     "data": {
      "text/plain": [
       "140718"
      ]
     },
     "execution_count": 23,
     "metadata": {},
     "output_type": "execute_result"
    }
   ],
   "source": [
    "# visited_twice is :\n",
    "# 0 -> no double visit decided yet.\n",
    "# string -> that cave has been visited once, but has been decided it can be visited another time.\n",
    "# -1 -> Double visit already made, not available anymore\n",
    "def count_paths(paths, start_node='start', end_node='end', visited=['start'], visited_twice=0):\n",
    "    if start_node == end_node:\n",
    "        # If you didn't visit the decided cave a second time, this is invalid (to prevent double counting)\n",
    "        return 1 if visited_twice in [0, -1] else 0\n",
    "    result = 0\n",
    "    for n in neighbors(start_node, paths):\n",
    "        if visited_twice == n:\n",
    "            # Has been visited, but can be visited twice\n",
    "            result += count_paths(paths, n, end_node, visited, -1)\n",
    "        elif is_small_cave(n) and n in visited:\n",
    "            continue  # Not available\n",
    "        elif is_small_cave(n) and visited_twice == 0:\n",
    "            # There are two possibilities: with and without double visit\n",
    "            result += count_paths(paths, n, end_node, visited + [n], 0)\n",
    "            result += count_paths(paths, n, end_node, visited + [n], n)\n",
    "        else:\n",
    "            result += count_paths(paths, n, end_node, visited + [n], visited_twice)\n",
    "    return result\n",
    "\n",
    "count_paths(paths)\n",
    "\n",
    "    "
   ]
  }
 ],
 "metadata": {
  "interpreter": {
   "hash": "5d7396d72a031e084ca8a7a10bc9e074a727d6785ddc3f255c136fb1ccc8ec02"
  },
  "kernelspec": {
   "display_name": "Python 3.8.10 64-bit ('env': venv)",
   "language": "python",
   "name": "python3"
  },
  "language_info": {
   "codemirror_mode": {
    "name": "ipython",
    "version": 3
   },
   "file_extension": ".py",
   "mimetype": "text/x-python",
   "name": "python",
   "nbconvert_exporter": "python",
   "pygments_lexer": "ipython3",
   "version": "3.8.10"
  },
  "orig_nbformat": 4
 },
 "nbformat": 4,
 "nbformat_minor": 2
}
