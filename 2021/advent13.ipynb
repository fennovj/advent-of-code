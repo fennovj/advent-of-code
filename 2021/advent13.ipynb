{
 "cells": [
  {
   "cell_type": "code",
   "execution_count": 97,
   "metadata": {},
   "outputs": [],
   "source": [
    "import numpy as np\n",
    "\n",
    "with open(\"data/advent13.txt\", \"r\") as f:\n",
    "    data = f.read().split(\"\\n\\n\")\n",
    "\n",
    "coords, folds = data[0], data[1]\n",
    "coords = [[int(i) for i in row.split(\",\")] for row in coords.split(\"\\n\")]\n",
    "folds = [(row[11], int(row[13:])) for row in folds.split(\"\\n\")]"
   ]
  },
  {
   "cell_type": "code",
   "execution_count": 98,
   "metadata": {},
   "outputs": [],
   "source": [
    "def create_paper(coords):\n",
    "    x = [i[0] for i in coords]\n",
    "    y = [i[1] for i in coords]\n",
    "    # max_x, max_y must be odd\n",
    "    max_x = max(x)+1 if max(x) % 2 == 0 else max(x)+2\n",
    "    max_y = max(y)+1 if max(y) % 2 == 0 else max(y)+2\n",
    "    paper = np.zeros((max_x, max_y))\n",
    "    paper[(x, y)] = 1\n",
    "    return paper\n",
    "\n",
    "paper = create_paper(coords)"
   ]
  },
  {
   "cell_type": "code",
   "execution_count": 106,
   "metadata": {},
   "outputs": [
    {
     "data": {
      "text/plain": [
       "827.0"
      ]
     },
     "execution_count": 106,
     "metadata": {},
     "output_type": "execute_result"
    }
   ],
   "source": [
    "def fold_up(board, mid):\n",
    "    size = np.shape(board)[0]\n",
    "    assert size//2 == mid, \"Must fold in half\"\n",
    "    return np.maximum(board[:mid, :], board[size:mid:-1, :])\n",
    "\n",
    "def fold_left(board, mid):\n",
    "    size = np.shape(board)[1]\n",
    "    assert size//2 == mid, \"Must fold in half\"\n",
    "    return np.maximum(board[:, :mid], board[:, size:mid:-1])\n",
    "\n",
    "part1_board = fold_up(paper, folds[0][1]) if folds[0][0] == 'x' else fold_left(paper, folds[0][1])\n",
    "part1_board.sum()\n"
   ]
  },
  {
   "cell_type": "code",
   "execution_count": 107,
   "metadata": {},
   "outputs": [],
   "source": [
    "part2 = paper.copy()\n",
    "for fold in folds:\n",
    "    part2 = fold_up(part2, fold[1]) if fold[0] == 'x' else fold_left(part2, fold[1])"
   ]
  },
  {
   "cell_type": "code",
   "execution_count": 112,
   "metadata": {},
   "outputs": [
    {
     "data": {
      "text/plain": [
       "['####  ##  #  # #  # ###  ####  ##  ###  ',\n",
       " '#    #  # #  # # #  #  # #    #  # #  # ',\n",
       " '###  #  # #### ##   #  # ###  #    #  # ',\n",
       " '#    #### #  # # #  ###  #    #    ###  ',\n",
       " '#    #  # #  # # #  # #  #    #  # #    ',\n",
       " '#### #  # #  # #  # #  # ####  ##  #    ']"
      ]
     },
     "execution_count": 112,
     "metadata": {},
     "output_type": "execute_result"
    }
   ],
   "source": [
    "[''.join([' ' if x == 0 else '#' for x in row]) for row in part2.transpose()]\n",
    "# Looks like EAHKRECP\n",
    "\n",
    "# I thought about making some OCR script, but it would undoubtely be a lot of spaghetti code\n",
    "# and/or definitions/specifications for all 26 characters\n",
    "# Also, it doesn't seem intended by the puzzle creator, considering it's so easy to just read them and so hard to OCR them"
   ]
  }
 ],
 "metadata": {
  "interpreter": {
   "hash": "ad9d0ce513bca00a85b95c5d2b5b8485296f8206ad7c0d55e8d58ee9b0dfce4e"
  },
  "kernelspec": {
   "display_name": "Python 3.9.7 64-bit ('env': venv)",
   "language": "python",
   "name": "python3"
  },
  "language_info": {
   "codemirror_mode": {
    "name": "ipython",
    "version": 3
   },
   "file_extension": ".py",
   "mimetype": "text/x-python",
   "name": "python",
   "nbconvert_exporter": "python",
   "pygments_lexer": "ipython3",
   "version": "3.9.7"
  },
  "orig_nbformat": 4
 },
 "nbformat": 4,
 "nbformat_minor": 2
}
