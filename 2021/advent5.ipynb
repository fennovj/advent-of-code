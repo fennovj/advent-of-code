{
 "cells": [
  {
   "cell_type": "code",
   "execution_count": 1,
   "metadata": {},
   "outputs": [
    {
     "name": "stderr",
     "output_type": "stream",
     "text": [
      "<ipython-input-1-e616fad7b699>:3: ParserWarning: Falling back to the 'python' engine because the 'c' engine does not support regex separators (separators > 1 char and different from '\\s+' are interpreted as regex); you can avoid this warning by specifying engine='python'.\n",
      "  data = pd.read_csv('advent5.csv', sep = r',| -> ', header=None, dtype=int, names=['from_x', 'from_y', 'to_x', 'to_y'])\n"
     ]
    }
   ],
   "source": [
    "import pandas as pd\n",
    "import numpy as np\n",
    "data = pd.read_csv('data/advent5.csv', sep = r',| -> ', header=None, dtype=int, names=['from_x', 'from_y', 'to_x', 'to_y'])"
   ]
  },
  {
   "cell_type": "code",
   "execution_count": 2,
   "metadata": {},
   "outputs": [
    {
     "data": {
      "text/plain": [
       "17787"
      ]
     },
     "execution_count": 2,
     "metadata": {},
     "output_type": "execute_result"
    }
   ],
   "source": [
    "map = np.zeros([1000, 1000])\n",
    "assert 1000 > data.max().max()  # Map size must be big enough\n",
    "use_diagonals = True\n",
    "\n",
    "for _, row in data.iterrows():\n",
    "\n",
    "    if row['from_x'] == row['to_x']:\n",
    "        from_y, to_y = min(row['from_y'], row['to_y']), max(row['from_y'], row['to_y']) + 1, \n",
    "        map[row['from_x'], from_y:to_y] = map[row['from_x'], from_y:to_y] + 1\n",
    "\n",
    "    elif row['from_y'] == row['to_y']:\n",
    "        from_x, to_x = min(row['from_x'], row['to_x']), max(row['from_x'], row['to_x']) + 1, \n",
    "        map[from_x:to_x, row['from_y']] = map[from_x:to_x, row['from_y']] + 1\n",
    "\n",
    "    elif use_diagonals: # diagonal\n",
    "        x_asc, y_asc = row['from_x'] < row['to_x'], row['from_y'] < row['to_y']\n",
    "        x_asc, y_asc = (x_asc - 0.5) * 2, (y_asc - 0.5) * 2 # convert to -1, 1\n",
    "        path_length = abs(row['from_x'] - row['to_x'])\n",
    "\n",
    "        for i in range(0, path_length+1):\n",
    "            x, y = int(row['from_x'] + (x_asc * i)), int(row['from_y'] + (y_asc * i))\n",
    "            map[x, y] = map[x, y] + 1\n",
    "            #print(path_length, x, y, map[x, y], x_asc, y_asc)   \n",
    "\n",
    "np.count_nonzero((map >= 2).flatten())"
   ]
  },
  {
   "cell_type": "code",
   "execution_count": null,
   "metadata": {},
   "outputs": [],
   "source": []
  }
 ],
 "metadata": {
  "interpreter": {
   "hash": "15547e8f3cc55c70e78ac021e6717cae880b7003aced283bb5c09dc6e0c76fa4"
  },
  "kernelspec": {
   "display_name": "Python 3.8.10 64-bit ('env': venv)",
   "language": "python",
   "name": "python3"
  },
  "language_info": {
   "codemirror_mode": {
    "name": "ipython",
    "version": 3
   },
   "file_extension": ".py",
   "mimetype": "text/x-python",
   "name": "python",
   "nbconvert_exporter": "python",
   "pygments_lexer": "ipython3",
   "version": "3.8.10"
  },
  "orig_nbformat": 4
 },
 "nbformat": 4,
 "nbformat_minor": 2
}
