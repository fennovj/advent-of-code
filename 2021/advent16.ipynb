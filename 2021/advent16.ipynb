{
 "cells": [
  {
   "cell_type": "code",
   "execution_count": 53,
   "metadata": {},
   "outputs": [],
   "source": [
    "import advent\n",
    "from functools import reduce\n",
    "\n",
    "data = advent.get_lines(16)[0]\n",
    "\n",
    "#data = '8A004A801A8002F478'\n",
    "\n",
    "data = [c for c in bin(int(data, 16))[2:]] # Convert to binary list"
   ]
  },
  {
   "cell_type": "code",
   "execution_count": 61,
   "metadata": {},
   "outputs": [
    {
     "data": {
      "text/plain": [
       "(539051801941, 879)"
      ]
     },
     "execution_count": 61,
     "metadata": {},
     "output_type": "execute_result"
    }
   ],
   "source": [
    "def to_str(packet):\n",
    "    version = bitstr_to_int(packet[:3])\n",
    "    type = bitstr_to_int(packet[3:6])\n",
    "    length = packet[6]\n",
    "    return f\"v {version}, t {type}, l {length}\"\n",
    "\n",
    "def bitstr_to_int(packet):\n",
    "    return int(''.join(packet), 2)\n",
    "\n",
    "def apply(type, result):\n",
    "    # result is a list of ints\n",
    "    # type is an integer. Return integer result\n",
    "    if type == 0:\n",
    "        return sum(result)\n",
    "    elif type == 1:\n",
    "        return reduce(lambda x, y: x*y, result, 1)\n",
    "    elif type == 2:\n",
    "        return min(result)\n",
    "    elif type == 3:\n",
    "        return max(result)\n",
    "    elif type == 4:\n",
    "        raise ValueError(f\"Type should not be 4: {result}\")\n",
    "    elif type == 5:\n",
    "        return result[0] > result[1]\n",
    "    elif type == 6:\n",
    "        return result[0] < result[1]\n",
    "    elif type == 7:\n",
    "        return result[0] == result[1]\n",
    "    else:\n",
    "        raise ValueError(f\"{type}, {result} is invalid!\")\n",
    "\n",
    "def parse_packet(packet):\n",
    "    # Parse packet. Return (r, p, v)\n",
    "    type = bitstr_to_int(packet[3:6])\n",
    "    if type == 4:\n",
    "        return parse_literal(packet)\n",
    "    elif packet[6] == '0':\n",
    "        return parse_bitlength(packet)\n",
    "    elif packet[6] == '1':\n",
    "        return parse_packlength(packet)\n",
    "\n",
    "def parse_literal(packet):\n",
    "    # Given a packet that MUST start with literal\n",
    "    # Parses it and returns (l, p, v) where l is the result (int)\n",
    "    # and p is the leftover packet and v is the version\n",
    "    c, r1, r2 = 6, 7, 11\n",
    "    result, cont = packet[r1:r2], packet[c]\n",
    "    while cont == '1':\n",
    "        c, r1, r2 = c+5, r1+5, r2+5\n",
    "        result += packet[r1:r2]\n",
    "        cont = packet[c]\n",
    "    return bitstr_to_int(result), packet[r2:], bitstr_to_int(packet[:3])\n",
    "\n",
    "def parse_bitlength(packet):\n",
    "    # Given a packet that MUST have length type 0\n",
    "    # Parses it and returns (l, p, v) where l is the result (list)\n",
    "    # and p is the leftover packet, and v is the sum of versions\n",
    "    v_total = bitstr_to_int(packet[:3])\n",
    "    r_total = []\n",
    "    length = bitstr_to_int(packet[7:22])\n",
    "    old_packet, packet = packet, packet[22:]\n",
    "    while True:\n",
    "        \n",
    "        r, packet, v = parse_packet(packet)\n",
    "        v_total += v\n",
    "        r_total.append(r)\n",
    "        if len(old_packet) - 22 - len(packet) == length:\n",
    "            break\n",
    "    r_total = apply(bitstr_to_int(old_packet[3:6]), r_total)\n",
    "    return r_total, packet, v_total\n",
    "\n",
    "\n",
    "def parse_packlength(packet):\n",
    "    length = bitstr_to_int(packet[7:18])\n",
    "    v_total = bitstr_to_int(packet[:3])\n",
    "    r_total = []\n",
    "    length = bitstr_to_int(packet[7:18])\n",
    "    old_packet, packet = packet, packet[18:]\n",
    "    for _ in range(length):\n",
    "        r, packet, v = parse_packet(packet)\n",
    "        v_total += v\n",
    "        r_total.append(r)\n",
    "    r_total = apply(bitstr_to_int(old_packet[3:6]), r_total)\n",
    "    return r_total, packet, v_total\n",
    "\n",
    "result, packet, version = parse_packet(data)\n",
    "result, version\n"
   ]
  }
 ],
 "metadata": {
  "interpreter": {
   "hash": "ad9d0ce513bca00a85b95c5d2b5b8485296f8206ad7c0d55e8d58ee9b0dfce4e"
  },
  "kernelspec": {
   "display_name": "Python 3.9.7 64-bit ('env': venv)",
   "language": "python",
   "name": "python3"
  },
  "language_info": {
   "codemirror_mode": {
    "name": "ipython",
    "version": 3
   },
   "file_extension": ".py",
   "mimetype": "text/x-python",
   "name": "python",
   "nbconvert_exporter": "python",
   "pygments_lexer": "ipython3",
   "version": "3.9.7"
  },
  "orig_nbformat": 4
 },
 "nbformat": 4,
 "nbformat_minor": 2
}
