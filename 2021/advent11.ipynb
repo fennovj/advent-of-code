{
 "cells": [
  {
   "cell_type": "code",
   "execution_count": 96,
   "metadata": {},
   "outputs": [],
   "source": [
    "import advent\n",
    "import numpy as np\n",
    "\n",
    "data = advent.get_lines(11)\n",
    "data = np.array([[int(c) for c in line] for line in data])"
   ]
  },
  {
   "cell_type": "code",
   "execution_count": 97,
   "metadata": {},
   "outputs": [
    {
     "data": {
      "text/plain": [
       "1640"
      ]
     },
     "execution_count": 97,
     "metadata": {},
     "output_type": "execute_result"
    }
   ],
   "source": [
    "def increment_patch(data, i, j):\n",
    "    # Problems only occur when index is negative, not when it's too high\n",
    "    i_l, i_h = max(i-1, 0), i+2\n",
    "    j_l, j_h = max(j-1, 0), j+2\n",
    "    data[i_l:i_h, j_l:j_h] += 1\n",
    "    return data\n",
    "\n",
    "def step(board, flash_count):\n",
    "    board_size = board.shape[0] * board.shape[1]\n",
    "    board += 1\n",
    "\n",
    "    has_flashed = set([])\n",
    "    flashes = np.where(board > 9)\n",
    "    flash_ix = 0\n",
    "    while flash_ix < len(flashes[0]) and len(flashes[0]) > 0:\n",
    "        flash = (flashes[0][flash_ix], flashes[1][flash_ix])\n",
    "        if flash in has_flashed:\n",
    "            flash_ix += 1\n",
    "        else:\n",
    "            increment_patch(board, flash[0], flash[1])\n",
    "            flash_count += 1\n",
    "            has_flashed.add(flash)\n",
    "            # Now the flashers could have changed, so start over\n",
    "            flashes = np.where(board > 9)\n",
    "            flash_ix = 0\n",
    "    board[board > 9] = 0\n",
    "    if len(has_flashed) == board_size:\n",
    "        # Everyone flashed!\n",
    "        return board, -1\n",
    "    return board, flash_count\n",
    "\n",
    "board = data.copy()\n",
    "flash_count = 0\n",
    "for _ in range(100):\n",
    "    board, flash_count = step(board, flash_count)\n",
    "flash_count"
   ]
  },
  {
   "cell_type": "code",
   "execution_count": 98,
   "metadata": {},
   "outputs": [
    {
     "name": "stdout",
     "output_type": "stream",
     "text": [
      "312\n"
     ]
    }
   ],
   "source": [
    "# For part 2, check if the step function outputs -1\n",
    "# -1 is success, >= 0 is failure\n",
    "# Yeah it's not boolean, but... it's easy\n",
    "everyone_flashed = 0\n",
    "step_count = 0\n",
    "\n",
    "board = data.copy()\n",
    "while everyone_flashed >= 0:\n",
    "    board, everyone_flashed = step(board, 0)\n",
    "    step_count += 1\n",
    "print(step_count)\n"
   ]
  }
 ],
 "metadata": {
  "interpreter": {
   "hash": "5d7396d72a031e084ca8a7a10bc9e074a727d6785ddc3f255c136fb1ccc8ec02"
  },
  "kernelspec": {
   "display_name": "Python 3.8.10 64-bit ('env': venv)",
   "language": "python",
   "name": "python3"
  },
  "language_info": {
   "codemirror_mode": {
    "name": "ipython",
    "version": 3
   },
   "file_extension": ".py",
   "mimetype": "text/x-python",
   "name": "python",
   "nbconvert_exporter": "python",
   "pygments_lexer": "ipython3",
   "version": "3.8.10"
  },
  "orig_nbformat": 4
 },
 "nbformat": 4,
 "nbformat_minor": 2
}
