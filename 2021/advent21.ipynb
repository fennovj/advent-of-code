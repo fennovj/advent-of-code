{
 "cells": [
  {
   "cell_type": "code",
   "execution_count": 49,
   "metadata": {},
   "outputs": [],
   "source": [
    "p1 = 4  # test\n",
    "p2 = 8  # test\n",
    "\n",
    "p1 = 6\n",
    "p2 = 7"
   ]
  },
  {
   "cell_type": "code",
   "execution_count": 50,
   "metadata": {},
   "outputs": [],
   "source": [
    "# Modulo but from 1 to m.\n",
    "# I did this in previous assignments with an if-statement, but I recently learned this version is better\n",
    "# From stackoverflow\n",
    "nmod = lambda x, m: (x-1) % m + 1\n",
    "\n",
    "def triang(n, m):\n",
    "    if n+m > 101:\n",
    "        # e.g. triang(98, 5) = triang(98, 3) + triang(1, 2)\n",
    "        return triang(n, 101-n) + triang(1, m-101+n)\n",
    "\n",
    "    # Calculates m triangular numbers starting from n\n",
    "    # e.g. triang(22, 3) = 22+23+24 = 69. Nice\n",
    "    # if t(n) is triangular numbers, this is equal to\n",
    "    # t(n+m-1) - t(n-1) = (n+m-1)(n+m)/2 - (n-1)(n)/2 = (n+m-1)(n+m)-(n-1)(n) / 2\n",
    "    # which simplifies to:\n",
    "    return (m*m + 2*m*n - m) / 2\n"
   ]
  },
  {
   "cell_type": "code",
   "execution_count": 51,
   "metadata": {},
   "outputs": [
    {
     "data": {
      "text/plain": [
       "921585"
      ]
     },
     "execution_count": 51,
     "metadata": {},
     "output_type": "execute_result"
    }
   ],
   "source": [
    "def roll(position, dice):\n",
    "    # Rolls 3 times, then returns new position, dice\n",
    "    return nmod(position+triang(dice, 3), 10), dice+3\n",
    "\n",
    "def play(p1, p2, dice=1):\n",
    "    # returns p1_score, p2_score, turns\n",
    "    # Where turns is the amount of times the dice had been thrown when the game is over\n",
    "    p1_score, p2_score, turns = 0, 0, 0\n",
    "    while p1_score < 1000 and p2_score < 1000:\n",
    "        # Player 1\n",
    "        p1, dice = roll(p1, dice)\n",
    "        p1_score += p1\n",
    "        turns += 3\n",
    "        if p1_score >= 1000: break\n",
    "        # Player 2\n",
    "        p2, dice = roll(p2, dice)\n",
    "        p2_score += p2\n",
    "        turns += 3\n",
    "    return p1_score, p2_score, turns\n",
    "\n",
    "p1_score, p2_score, turns = play(p1, p2)\n",
    "int(min(p1_score, p2_score) * turns)\n"
   ]
  },
  {
   "cell_type": "code",
   "execution_count": 116,
   "metadata": {},
   "outputs": [],
   "source": [
    "# Naive (exponential) implementation: we will almost certainly need to make some lookup table\n",
    "# To store known results in. Buit first make it naively\n",
    "\n",
    "tadd = lambda x, y, z: (x[0] + y[0] + z[0], x[1] + y[1] + z[1])\n",
    "\n",
    "def dirac_play(p1, p2, p1_score=0, p2_score=0, p1_turn=True, subrolls=0, subresult=0, m=21):\n",
    "    # print(f\"p1{p1}, p2{p2}, s1{p1_score}, s2{p2_score}, t{p1_turn}, r{subrolls}, s{subresult}\")\n",
    "    # returns p1_wins, p2_wins, which is the sum of games either players wins from this position\n",
    "    if subrolls == 0 and p1_score >= m: return 1, 0\n",
    "    if subrolls == 0 and p2_score >= m: return 0, 1\n",
    "    if (p1, p2, p1_score, p2_score, p1_turn, subrolls, subresult) in known_positions:\n",
    "        return known_positions[(p1, p2, p1_score, p2_score, p1_turn, subrolls, subresult)]\n",
    "    \n",
    "    if subrolls == 3:\n",
    "        # Switch turn\n",
    "        if p1_turn:\n",
    "            return dirac_play(nmod(p1+subresult, 10), p2, p1_score+nmod(p1+subresult, 10), p2_score, False, 0, 0, m)\n",
    "        else:\n",
    "            return dirac_play(p1, nmod(p2+subresult, 10), p1_score, p2_score+nmod(p2+subresult, 10), True, 0, 0, m)\n",
    "\n",
    "    if p1_turn:\n",
    "        result = tadd(\n",
    "            dirac_play(p1, p2, p1_score, p2_score, p1_turn, subrolls+1, subresult+1, m),\n",
    "            dirac_play(p1, p2, p1_score, p2_score, p1_turn, subrolls+1, subresult+2, m),\n",
    "            dirac_play(p1, p2, p1_score, p2_score, p1_turn, subrolls+1, subresult+3, m)\n",
    "        )\n",
    "    else:\n",
    "        result = tadd(\n",
    "            dirac_play(p1, p2, p1_score, p2_score, p1_turn, subrolls+1, subresult+1, m),\n",
    "            dirac_play(p1, p2, p1_score, p2_score, p1_turn, subrolls+1, subresult+2, m),\n",
    "            dirac_play(p1, p2, p1_score, p2_score, p1_turn, subrolls+1, subresult+3, m)\n",
    "        )\n",
    "    known_positions[(p1, p2, p1_score, p2_score, p1_turn, subrolls, subresult)] = result\n",
    "    return result\n",
    "        \n"
   ]
  },
  {
   "cell_type": "code",
   "execution_count": 119,
   "metadata": {},
   "outputs": [
    {
     "data": {
      "text/plain": [
       "911090395997650"
      ]
     },
     "execution_count": 119,
     "metadata": {},
     "output_type": "execute_result"
    }
   ],
   "source": [
    "known_positions = {}  # Global variable. Reset it everytime before running calculation\n",
    "\n",
    "max(dirac_play(p1, p2))"
   ]
  }
 ],
 "metadata": {
  "interpreter": {
   "hash": "ad9d0ce513bca00a85b95c5d2b5b8485296f8206ad7c0d55e8d58ee9b0dfce4e"
  },
  "kernelspec": {
   "display_name": "Python 3.9.7 64-bit ('env': venv)",
   "language": "python",
   "name": "python3"
  },
  "language_info": {
   "codemirror_mode": {
    "name": "ipython",
    "version": 3
   },
   "file_extension": ".py",
   "mimetype": "text/x-python",
   "name": "python",
   "nbconvert_exporter": "python",
   "pygments_lexer": "ipython3",
   "version": "3.9.7"
  },
  "orig_nbformat": 4
 },
 "nbformat": 4,
 "nbformat_minor": 2
}
