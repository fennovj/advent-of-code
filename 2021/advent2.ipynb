{
 "cells": [
  {
   "cell_type": "code",
   "execution_count": 1,
   "metadata": {},
   "outputs": [
    {
     "name": "stdout",
     "output_type": "stream",
     "text": [
      "(2105, 807) 1698735\n"
     ]
    }
   ],
   "source": [
    "import pandas as pd\n",
    "data = pd.read_csv('data/advent2.csv', header=None, sep=' ', names = ['direction', 'number'])\n",
    "\n",
    "def apply(row, pos):\n",
    "    if row['direction'] == 'forward': return (pos[0] + row['number'], pos[1])\n",
    "    if row['direction'] == 'down': return (pos[0], pos[1] + row['number'])\n",
    "    if row['direction'] == 'up': return (pos[0], pos[1] - row['number'])\n",
    "    raise ValueError\n",
    "\n",
    "pos = (0, 0)\n",
    "for _, row in data.iterrows():\n",
    "    pos = apply(row, pos)\n",
    "\n",
    "print(pos, pos[0] * pos[1])"
   ]
  },
  {
   "cell_type": "code",
   "execution_count": 2,
   "metadata": {},
   "outputs": [
    {
     "name": "stdout",
     "output_type": "stream",
     "text": [
      "(2105, 757618, 807) 1594785890\n"
     ]
    }
   ],
   "source": [
    "import pandas as pd\n",
    "data = pd.read_csv('data/advent2.csv', header=None, sep=' ', names = ['direction', 'number'])\n",
    "\n",
    "def apply(row, pos):\n",
    "    if row['direction'] == 'forward': return (pos[0] + row['number'], pos[1] + (row['number'] * pos[2]), pos[2])\n",
    "    if row['direction'] == 'down': return (pos[0], pos[1], pos[2] + row['number'])\n",
    "    if row['direction'] == 'up': return (pos[0], pos[1], pos[2] - row['number'])\n",
    "    raise ValueError\n",
    "\n",
    "pos = (0, 0, 0)\n",
    "for _, row in data.iterrows():\n",
    "    pos = apply(row, pos)\n",
    "\n",
    "print(pos, pos[0] * pos[1])"
   ]
  },
  {
   "cell_type": "code",
   "execution_count": null,
   "metadata": {},
   "outputs": [],
   "source": []
  }
 ],
 "metadata": {
  "interpreter": {
   "hash": "15547e8f3cc55c70e78ac021e6717cae880b7003aced283bb5c09dc6e0c76fa4"
  },
  "kernelspec": {
   "display_name": "Python 3.8.10 64-bit ('env': venv)",
   "language": "python",
   "name": "python3"
  },
  "language_info": {
   "codemirror_mode": {
    "name": "ipython",
    "version": 3
   },
   "file_extension": ".py",
   "mimetype": "text/x-python",
   "name": "python",
   "nbconvert_exporter": "python",
   "pygments_lexer": "ipython3",
   "version": "3.8.10"
  },
  "orig_nbformat": 4
 },
 "nbformat": 4,
 "nbformat_minor": 2
}
