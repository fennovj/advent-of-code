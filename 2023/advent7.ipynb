{
 "cells": [
  {
   "cell_type": "code",
   "execution_count": 15,
   "metadata": {},
   "outputs": [],
   "source": [
    "import advent\n",
    "\n",
    "data = advent.get_lines(7)"
   ]
  },
  {
   "cell_type": "code",
   "execution_count": 16,
   "metadata": {},
   "outputs": [],
   "source": [
    "def hand_to_dict(hand: str):\n",
    "    result: dict[str, int] = {}\n",
    "    for h in hand:\n",
    "        if h not in result:\n",
    "            result[h] = 1\n",
    "        else:\n",
    "            result[h] += 1\n",
    "    return result\n",
    "\n",
    "    \n",
    "def hand_type(hand: str):\n",
    "    hand_d = hand_to_dict(hand)\n",
    "    hand_values = sorted(hand_d.values())[::-1]\n",
    "    if hand_values[0] == 5: return 7\n",
    "    elif hand_values[0] == 4: return 6\n",
    "    elif hand_values[0] == 3 and hand_values[1] == 2: return 5\n",
    "    elif hand_values[0] == 3: return 4\n",
    "    elif hand_values[0] == 2 and hand_values[1] == 2: return 3\n",
    "    elif hand_values[0] == 2: return 2\n",
    "    else: return 1\n",
    "\n",
    "def compare_card(card1: str, card2: str, part1:bool=True):\n",
    "    if part1:\n",
    "        cards = '23456789TJQKA'\n",
    "    else:\n",
    "        cards = 'J23456789TQKA'\n",
    "    return cards.index(card1) - cards.index(card2)\n",
    "\n",
    "compare_card_2 = lambda card1, card2: compare_card(card1, card2, False)\n",
    "\n",
    "def compare(hand1: str, hand2: str):\n",
    "    # positive: hand1 is better\n",
    "    # negative: hand2 is better\n",
    "    ht1, ht2 = hand_type(hand1), hand_type(hand2)\n",
    "    if ht1 > ht2: return 1\n",
    "    if ht1 < ht2: return -1\n",
    "    for ix in range(len(hand2)):\n",
    "        cmp = compare_card(hand1[ix], hand2[ix])\n",
    "        if cmp != 0: return cmp\n",
    "    raise ValueError(\"Two hands are the same!\")\n",
    "\n",
    "assert compare('33222', '22334') > 0\n",
    "assert compare('34422', '24444') < 0\n",
    "assert compare('54433', '2AAKK') > 0\n",
    "assert compare('AA2QQ', 'AA5KK') < 0\n"
   ]
  },
  {
   "cell_type": "code",
   "execution_count": 17,
   "metadata": {},
   "outputs": [
    {
     "data": {
      "text/plain": [
       "249390788"
      ]
     },
     "execution_count": 17,
     "metadata": {},
     "output_type": "execute_result"
    }
   ],
   "source": [
    "def compare_lines(line1: str, line2: str):\n",
    "    hand1, hand2 = line1.split(\" \")[0], line2.split(\" \")[0]\n",
    "    return compare(hand1, hand2)\n",
    "\n",
    "from functools import cmp_to_key\n",
    "hands_sorted = sorted(data, key=cmp_to_key(compare_lines))\n",
    "\n",
    "# add 1 because the first (worst) hand gets 1 point, not 0\n",
    "sum([(ix+1) * int(line.split(\" \")[1]) for ix, line in enumerate(hands_sorted)])"
   ]
  },
  {
   "cell_type": "code",
   "execution_count": 18,
   "metadata": {},
   "outputs": [
    {
     "data": {
      "text/plain": [
       "'AAATTA'"
      ]
     },
     "execution_count": 18,
     "metadata": {},
     "output_type": "execute_result"
    }
   ],
   "source": [
    "# hopefully this works: joker feels like it can 'simply' be assigned as follows:\n",
    "# take the 'hand dictionary', get the most common card (in case of ties, pick the highest)\n",
    "# it doesnt seem like you would want to do something more complicated (e.g. have jokers take different values)\n",
    "\n",
    "def apply_joker(hand: str):\n",
    "    if 'J' not in hand: return hand\n",
    "    hand_dict = hand_to_dict(hand)\n",
    "    del hand_dict['J']\n",
    "    if hand_dict == {}: return 'AAAAA' # special case\n",
    "    most_common = sorted(hand_dict.values())[-1]\n",
    "    most_common_cards = [h for h in hand_dict if hand_dict[h] == most_common]\n",
    "    to_replace = sorted(most_common_cards, key=cmp_to_key(compare_card_2))[-1]\n",
    "    return hand.replace('J', to_replace)\n",
    "\n",
    "apply_joker('JAATTJ')\n"
   ]
  },
  {
   "cell_type": "code",
   "execution_count": 21,
   "metadata": {},
   "outputs": [
    {
     "data": {
      "text/plain": [
       "248750248"
      ]
     },
     "execution_count": 21,
     "metadata": {},
     "output_type": "execute_result"
    }
   ],
   "source": [
    "# compare_part2 is 95% the same as compare. but I didn't know how to cleanly refactor compare\n",
    "# without making that funciton quite ugly, so I decided to just copy it\n",
    "\n",
    "# only real difference is that the input is now a tuple\n",
    "\n",
    "def compare_part2(hand1, hand2):\n",
    "    hand1, orig_hand1 = hand1\n",
    "    hand2, orig_hand2 = hand2\n",
    "\n",
    "    ht1, ht2 = hand_type(hand1), hand_type(hand2)\n",
    "    if ht1 > ht2: return 1\n",
    "    if ht1 < ht2: return -1\n",
    "    for ix in range(len(orig_hand2)):\n",
    "        cmp = compare_card(orig_hand1[ix], orig_hand2[ix], part1=False)\n",
    "        if cmp != 0: return cmp\n",
    "    raise ValueError(\"Two hands are the same!\")\n",
    "\n",
    "def compare_lines_part2(line1, line2):\n",
    "    orig_hand1, orig_hand2 = line1.split(\" \")[0], line2.split(\" \")[0]\n",
    "    hand1 = apply_joker(orig_hand1)\n",
    "    hand2 = apply_joker(orig_hand2)\n",
    "    return compare_part2((hand1, orig_hand1), (hand2, orig_hand2))\n",
    "\n",
    "hands_sorted = sorted(data, key=cmp_to_key(compare_lines_part2))\n",
    "\n",
    "# add 1 because the first (worst) hand gets 1 point, not 0\n",
    "sum([(ix+1) * int(line.split(\" \")[1]) for ix, line in enumerate(hands_sorted)])"
   ]
  }
 ],
 "metadata": {
  "kernelspec": {
   "display_name": ".venv",
   "language": "python",
   "name": "python3"
  },
  "language_info": {
   "codemirror_mode": {
    "name": "ipython",
    "version": 3
   },
   "file_extension": ".py",
   "mimetype": "text/x-python",
   "name": "python",
   "nbconvert_exporter": "python",
   "pygments_lexer": "ipython3",
   "version": "3.10.11"
  }
 },
 "nbformat": 4,
 "nbformat_minor": 2
}
