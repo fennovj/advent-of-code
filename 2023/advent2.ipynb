{
 "cells": [
  {
   "cell_type": "code",
   "execution_count": 2,
   "metadata": {},
   "outputs": [
    {
     "data": {
      "text/plain": [
       "'Game 1: 4 red, 3 blue; 6 blue, 16 green; 9 blue, 13 green, 1 red; 10 green, 4 red, 6 blue'"
      ]
     },
     "execution_count": 2,
     "metadata": {},
     "output_type": "execute_result"
    }
   ],
   "source": [
    "import advent\n",
    "\n",
    "data = advent.get_lines(2)\n",
    "data[0]"
   ]
  },
  {
   "cell_type": "code",
   "execution_count": 14,
   "metadata": {},
   "outputs": [
    {
     "data": {
      "text/plain": [
       "2105"
      ]
     },
     "execution_count": 14,
     "metadata": {},
     "output_type": "execute_result"
    }
   ],
   "source": [
    "import re\n",
    "def calculate_shows(line):\n",
    "    return re.split(r', |; |: ', line)[1:]\n",
    "\n",
    "def part_1_possible(shows):\n",
    "    for show in shows:\n",
    "        num, color = show.split(' ')\n",
    "        num = int(num)\n",
    "        if color == 'red' and num > 12: return False\n",
    "        if color == 'blue' and num > 14: return False\n",
    "        if color == 'green' and num > 13: return False\n",
    "    return True\n",
    "\n",
    "def part_1(data):\n",
    "    result = 0\n",
    "    for id, line in enumerate(data):\n",
    "        shows = calculate_shows(line)\n",
    "        if part_1_possible(shows):\n",
    "            result += id + 1\n",
    "    return result\n",
    "\n",
    "part_1(data)"
   ]
  },
  {
   "cell_type": "code",
   "execution_count": 15,
   "metadata": {},
   "outputs": [
    {
     "data": {
      "text/plain": [
       "72422"
      ]
     },
     "execution_count": 15,
     "metadata": {},
     "output_type": "execute_result"
    }
   ],
   "source": [
    "def calculate_power(shows):\n",
    "    red, blue, green = 0, 0, 0\n",
    "    for show in shows:\n",
    "        num, color = show.split(' ')\n",
    "        num = int(num)\n",
    "        if color == 'red': red = max(red, num)\n",
    "        if color == 'blue': blue = max(blue, num)\n",
    "        if color == 'green': green = max(green, num)\n",
    "    return red * blue * green\n",
    "\n",
    "def part_2(data):\n",
    "    result = 0\n",
    "    for line in data:\n",
    "        shows = calculate_shows(line)\n",
    "        result += calculate_power(shows)\n",
    "    return result\n",
    "\n",
    "part_2(data)"
   ]
  },
  {
   "cell_type": "code",
   "execution_count": null,
   "metadata": {},
   "outputs": [],
   "source": []
  }
 ],
 "metadata": {
  "kernelspec": {
   "display_name": ".venv",
   "language": "python",
   "name": "python3"
  },
  "language_info": {
   "codemirror_mode": {
    "name": "ipython",
    "version": 3
   },
   "file_extension": ".py",
   "mimetype": "text/x-python",
   "name": "python",
   "nbconvert_exporter": "python",
   "pygments_lexer": "ipython3",
   "version": "3.10.13"
  }
 },
 "nbformat": 4,
 "nbformat_minor": 2
}
