{
 "cells": [
  {
   "cell_type": "code",
   "execution_count": 28,
   "metadata": {},
   "outputs": [],
   "source": [
    "import advent\n",
    "rules, data = advent.get_lines_doublenewline(19)"
   ]
  },
  {
   "cell_type": "code",
   "execution_count": 31,
   "metadata": {},
   "outputs": [],
   "source": [
    "from typing import NamedTuple\n",
    "class Item(NamedTuple):\n",
    "    x: int\n",
    "    m: int\n",
    "    a: int\n",
    "    s: int\n",
    "\n",
    "    def sum(self):\n",
    "        return self.x + self.m + self.a + self.s\n",
    "\n",
    "def parse_item(line: str) -> Item:\n",
    "    # line looks like {x=787,m=2655,a=1222,s=2876}\n",
    "    p = [int(l.split('=')[1]) for l in line[1:-1].split(',')]\n",
    "    return Item(x=p[0], m=p[1], a=p[2], s=p[3])\n",
    "\n",
    "def parse_rule(rule: str) -> tuple[str, list[str]]:\n",
    "    name, rest = rule.split('{')\n",
    "    rest = rest[:-1].split(',')\n",
    "    return name, rest\n",
    "\n",
    "\n",
    "def apply_rule(item: Item, rules: list[str]) -> str:\n",
    "    # Returns 'A', 'R', or a name like 'qkq'\n",
    "    for rule in rules:\n",
    "        if ':' not in rule: return rule\n",
    "        cond, result = rule.split(':')\n",
    "        l, c, r = cond[0], cond[1], int(cond[2:])\n",
    "        if c == '>' and getattr(item, l) > r: return result\n",
    "        elif c == '<' and getattr(item, l) < r: return result\n",
    "    assert False, \"None of the rules match\"\n",
    "\n",
    "\n",
    "assert parse_rule('px{a<2006:qkq,m>2090:A,rfg}') == ('px', ['a<2006:qkq', 'm>2090:A', 'rfg'])\n",
    "assert apply_rule(Item(1, 2, 3, 4), ['a>2000:q', 's<2000:v', 'z']) == 'v'"
   ]
  },
  {
   "cell_type": "code",
   "execution_count": 30,
   "metadata": {},
   "outputs": [
    {
     "name": "stdout",
     "output_type": "stream",
     "text": [
      "446517\n"
     ]
    }
   ],
   "source": [
    "# Solve part 1\n",
    "\n",
    "def solve_item(item: Item, rules: dict[str, list[str]]):\n",
    "    rule = apply_rule(item, rules['in'])\n",
    "    while rule not in ['A', 'R']:\n",
    "        rule = apply_rule(item, rules[rule])\n",
    "    return rule\n",
    "\n",
    "parsed_rules = dict(parse_rule(rule) for rule in rules)\n",
    "parsed_items = [parse_item(i) for i in data]\n",
    "\n",
    "result = 0\n",
    "for item in parsed_items:\n",
    "    if solve_item(item, parsed_rules) == 'A':\n",
    "        result += item.sum()\n",
    "print(result)"
   ]
  }
 ],
 "metadata": {
  "kernelspec": {
   "display_name": ".venv",
   "language": "python",
   "name": "python3"
  },
  "language_info": {
   "codemirror_mode": {
    "name": "ipython",
    "version": 3
   },
   "file_extension": ".py",
   "mimetype": "text/x-python",
   "name": "python",
   "nbconvert_exporter": "python",
   "pygments_lexer": "ipython3",
   "version": "3.10.11"
  }
 },
 "nbformat": 4,
 "nbformat_minor": 2
}
