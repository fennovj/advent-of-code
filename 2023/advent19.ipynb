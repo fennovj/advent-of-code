{
 "cells": [
  {
   "cell_type": "code",
   "execution_count": 105,
   "metadata": {},
   "outputs": [],
   "source": [
    "import advent\n",
    "rules, data = advent.get_lines_doublenewline(19)"
   ]
  },
  {
   "cell_type": "code",
   "execution_count": 106,
   "metadata": {},
   "outputs": [],
   "source": [
    "from typing import NamedTuple\n",
    "class Item(NamedTuple):\n",
    "    x: int\n",
    "    m: int\n",
    "    a: int\n",
    "    s: int\n",
    "\n",
    "    def sum(self):\n",
    "        return self.x + self.m + self.a + self.s\n",
    "\n",
    "def parse_item(line: str) -> Item:\n",
    "    # line looks like {x=787,m=2655,a=1222,s=2876}\n",
    "    p = [int(l.split('=')[1]) for l in line[1:-1].split(',')]\n",
    "    return Item(x=p[0], m=p[1], a=p[2], s=p[3])\n",
    "\n",
    "def parse_rule(rule: str) -> tuple[str, list[str]]:\n",
    "    name, rest = rule.split('{')\n",
    "    rest = rest[:-1].split(',')\n",
    "    return name, rest\n",
    "\n",
    "\n",
    "def apply_rule(item: Item, rules: list[str]) -> str:\n",
    "    # Returns 'A', 'R', or a name like 'qkq'\n",
    "    for rule in rules:\n",
    "        if ':' not in rule: return rule\n",
    "        cond, result = rule.split(':')\n",
    "        l, c, r = cond[0], cond[1], int(cond[2:])\n",
    "        if c == '>' and getattr(item, l) > r: return result\n",
    "        elif c == '<' and getattr(item, l) < r: return result\n",
    "    assert False, \"None of the rules match\"\n",
    "\n",
    "\n",
    "assert parse_rule('px{a<2006:qkq,m>2090:A,rfg}') == ('px', ['a<2006:qkq', 'm>2090:A', 'rfg'])\n",
    "assert apply_rule(Item(1, 2, 3, 4), ['a>2000:q', 's<2000:v', 'z']) == 'v'"
   ]
  },
  {
   "cell_type": "code",
   "execution_count": 107,
   "metadata": {},
   "outputs": [
    {
     "name": "stdout",
     "output_type": "stream",
     "text": [
      "446517\n"
     ]
    }
   ],
   "source": [
    "# Solve part 1\n",
    "\n",
    "def solve_item(item: Item, rules: dict[str, list[str]]):\n",
    "    rule = apply_rule(item, rules['in'])\n",
    "    while rule not in ['A', 'R']:\n",
    "        rule = apply_rule(item, rules[rule])\n",
    "    return rule\n",
    "\n",
    "parsed_rules = dict(parse_rule(rule) for rule in rules)\n",
    "parsed_items = [parse_item(i) for i in data]\n",
    "\n",
    "result = 0\n",
    "for item in parsed_items:\n",
    "    if solve_item(item, parsed_rules) == 'A':\n",
    "        result += item.sum()\n",
    "print(result)"
   ]
  },
  {
   "cell_type": "code",
   "execution_count": 108,
   "metadata": {},
   "outputs": [],
   "source": [
    "class ItemRange(NamedTuple):\n",
    "    # List of ranges of min, max. ranges are INCLUSIVE\n",
    "    x: list[tuple[int, int]]\n",
    "    m: list[tuple[int, int]]\n",
    "    a: list[tuple[int, int]]\n",
    "    s: list[tuple[int, int]]\n",
    "\n",
    "    @staticmethod\n",
    "    def all():\n",
    "        return ItemRange([], [], [], [])\n",
    "\n",
    "    def add(self: 'ItemRange', other: 'ItemRange'):\n",
    "        # Takes the intersection\n",
    "        return ItemRange(self.x + other.x, self.m + other.m, self.a + other.a, self.s + other.s)\n",
    "    \n",
    "    def size(self):\n",
    "        # Calculates size of this itemrange by brute force\n",
    "        result = 1\n",
    "        for attr in ['x', 'm', 'a', 's']:\n",
    "            ranges = getattr(self, attr)\n",
    "            result *= sum(all(i >= r[0] and i <= r[1] for r in ranges) for i in range(1, 4001))\n",
    "        return result\n",
    "    \n",
    "    @staticmethod\n",
    "    def from_dict(d: dict[str, list[tuple[int, int]]]):\n",
    "        result = ItemRange.all()\n",
    "        return ItemRange(\n",
    "            x = result.x + (d['x'] if 'x' in d else []),\n",
    "            m = result.m + (d['m'] if 'm' in d else []),\n",
    "            a = result.a + (d['a'] if 'a' in d else []),\n",
    "            s = result.s + (d['s'] if 's' in d else [])\n",
    "        )\n",
    "    \n",
    "foo = ItemRange([(1, 5)], [(1000, 2000)], [], []).add(ItemRange.all())\n",
    "assert foo.size() == 5 * 1001 * 4000 * 4000"
   ]
  },
  {
   "cell_type": "code",
   "execution_count": 112,
   "metadata": {},
   "outputs": [
    {
     "data": {
      "text/plain": [
       "130090458884662"
      ]
     },
     "execution_count": 112,
     "metadata": {},
     "output_type": "execute_result"
    }
   ],
   "source": [
    "parsed_rules: dict[str, list[str]] = dict(parse_rule(rule) for rule in rules)\n",
    "# Kinda hacky ad-hoc rules, but this is easier than refactoring my code :)\n",
    "parsed_rules['A'] = ['A']\n",
    "parsed_rules['R'] = ['R']\n",
    "\n",
    "def find_all_accepting_ranges(rules: list[str], currange: ItemRange = ItemRange.all()) -> list[ItemRange]:\n",
    "    global parsed_rules\n",
    "    result: list[ItemRange] = []\n",
    "    for rule in rules:\n",
    "        # currange is the range you must meet to encounter this rule in the first place\n",
    "        if rule == 'A':\n",
    "            result += [currange]\n",
    "            break\n",
    "        if rule == 'R':\n",
    "            break\n",
    "        if ':' not in rule:\n",
    "            result += find_all_accepting_ranges(parsed_rules[rule], currange)\n",
    "            break\n",
    "\n",
    "        cond, state = rule.split(':')\n",
    "        l, c, r = cond[0], cond[1], int(cond[2:])\n",
    "\n",
    "        if c == '<':\n",
    "            condrange = ItemRange.from_dict({l: [(0, r-1)]})\n",
    "            oppositerange = ItemRange.from_dict({l: [(r, 4000)]})\n",
    "        else:\n",
    "            condrange = ItemRange.from_dict({l: [(r+1, 4000)]})\n",
    "            oppositerange = ItemRange.from_dict({l: [(0, r)]})\n",
    "        \n",
    "        # Two branches: either we take condrange, or we continue the loop with oppositerange\n",
    "        result += find_all_accepting_ranges(parsed_rules[state], currange.add(condrange))\n",
    "        currange = currange.add(oppositerange)\n",
    "        \n",
    "    return result\n",
    "\n",
    "accepting = find_all_accepting_ranges(parsed_rules['in'])\n",
    "\n",
    "sum(acc.size() for acc in accepting)\n",
    "# find_all_accepting_ranges function is instant, the sum(acc.size()) takes ~3 seconds"
   ]
  }
 ],
 "metadata": {
  "kernelspec": {
   "display_name": ".venv",
   "language": "python",
   "name": "python3"
  },
  "language_info": {
   "codemirror_mode": {
    "name": "ipython",
    "version": 3
   },
   "file_extension": ".py",
   "mimetype": "text/x-python",
   "name": "python",
   "nbconvert_exporter": "python",
   "pygments_lexer": "ipython3",
   "version": "3.10.11"
  }
 },
 "nbformat": 4,
 "nbformat_minor": 2
}
