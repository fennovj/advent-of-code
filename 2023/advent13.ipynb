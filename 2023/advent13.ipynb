{
 "cells": [
  {
   "cell_type": "code",
   "execution_count": 1,
   "metadata": {},
   "outputs": [],
   "source": [
    "import advent\n",
    "import numpy as np\n",
    "import numpy.typing as npt\n",
    "\n",
    "data = advent.get_lines_doublenewline(13)"
   ]
  },
  {
   "cell_type": "code",
   "execution_count": 2,
   "metadata": {},
   "outputs": [],
   "source": [
    "def is_mirror(grid, ix, row=True):\n",
    "    if row:\n",
    "        left = grid[:ix, :]\n",
    "        right = np.flip(grid[ix:, :], 0)\n",
    "        minsize = min(left.shape[0], right.shape[0])\n",
    "        left, right = left[left.shape[0]-minsize:, ], right[right.shape[0]-minsize:, ]\n",
    "    else:\n",
    "        left = grid[:, :ix]\n",
    "        right = np.flip(grid[:, ix:], 1)\n",
    "        minsize = min(left.shape[1], right.shape[1])\n",
    "        left, right = left[:, left.shape[1]-minsize:], right[:, right.shape[1]-minsize:]\n",
    "    assert left.shape == right.shape\n",
    "    return np.all(left == right)\n",
    "\n",
    "def brute_force_mirror(grid, ignore_mirror=(None, None)) -> tuple[int, int]:\n",
    "    # ignore_mirror is added for part 2: this mirror should never be returned\n",
    "    # (because in part 2, we are trying to find a different mirror)\n",
    "    for i in range(1, grid.shape[0]):\n",
    "        if is_mirror(grid, i, True) and ignore_mirror != (i, 1):\n",
    "            return i, 1\n",
    "    for j in range(1, grid.shape[1]):\n",
    "        if is_mirror(grid, j, False) and ignore_mirror != (j, 0):\n",
    "            return j, 0\n",
    "    return 0, 0"
   ]
  },
  {
   "cell_type": "code",
   "execution_count": 3,
   "metadata": {},
   "outputs": [
    {
     "data": {
      "text/plain": [
       "33780"
      ]
     },
     "execution_count": 3,
     "metadata": {},
     "output_type": "execute_result"
    }
   ],
   "source": [
    "result = 0\n",
    "for grid in data:\n",
    "    grid = np.array([[c for c in line] for line in grid])\n",
    "    ix, row = brute_force_mirror(grid)\n",
    "    result += (ix * 100 if row else ix)\n",
    "result"
   ]
  },
  {
   "cell_type": "code",
   "execution_count": 4,
   "metadata": {},
   "outputs": [
    {
     "data": {
      "text/plain": [
       "23479"
      ]
     },
     "execution_count": 4,
     "metadata": {},
     "output_type": "execute_result"
    }
   ],
   "source": [
    "def flip(grid, i: int, j: int):\n",
    "    new_grid = grid.copy()\n",
    "    new_grid[i, j] = ('#' if grid[i, j] == '.' else '.')\n",
    "    return new_grid\n",
    "    \n",
    "def double_bruteforce(grid):\n",
    "    mirror = brute_force_mirror(grid)\n",
    "    for i in range(grid.shape[0]):\n",
    "        for j in range(grid.shape[1]):\n",
    "            new_grid = flip(grid, i, j)\n",
    "            new_mirror = brute_force_mirror(new_grid, mirror)\n",
    "            if new_mirror[0] and new_mirror != mirror:\n",
    "                return new_mirror\n",
    "    print(grid, mirror)\n",
    "    raise ValueError(\"No new mirror found\")\n",
    "\n",
    "result = 0\n",
    "for grid in data:\n",
    "    grid = np.array([[c for c in line] for line in grid])\n",
    "    ix, row = double_bruteforce(grid)\n",
    "    result += (ix * 100 if row else ix)\n",
    "result"
   ]
  },
  {
   "cell_type": "code",
   "execution_count": null,
   "metadata": {},
   "outputs": [],
   "source": []
  }
 ],
 "metadata": {
  "kernelspec": {
   "display_name": ".venv",
   "language": "python",
   "name": "python3"
  },
  "language_info": {
   "codemirror_mode": {
    "name": "ipython",
    "version": 3
   },
   "file_extension": ".py",
   "mimetype": "text/x-python",
   "name": "python",
   "nbconvert_exporter": "python",
   "pygments_lexer": "ipython3",
   "version": "3.10.13"
  }
 },
 "nbformat": 4,
 "nbformat_minor": 2
}
