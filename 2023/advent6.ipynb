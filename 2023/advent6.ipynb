{
 "cells": [
  {
   "cell_type": "code",
   "execution_count": 32,
   "metadata": {},
   "outputs": [
    {
     "data": {
      "text/plain": [
       "([41, 96, 88, 94], [214, 1789, 1127, 1055])"
      ]
     },
     "execution_count": 32,
     "metadata": {},
     "output_type": "execute_result"
    }
   ],
   "source": [
    "data = \"\"\"\n",
    "Time:        41     96     88     94\n",
    "Distance:   214   1789   1127   1055\n",
    "\"\"\"\n",
    "\n",
    "time = [int(x) for x in data.split(\"\\n\")[1].split(\" \") if x.isnumeric()]\n",
    "distance = [int(x) for x in data.split(\"\\n\")[2].split(\" \") if x.isnumeric()]\n",
    "\n",
    "time, distance"
   ]
  },
  {
   "cell_type": "code",
   "execution_count": 33,
   "metadata": {},
   "outputs": [],
   "source": [
    "def calculate_distance(total_time, time_charging):\n",
    "    if time_charging >= total_time: return 0\n",
    "    return (total_time - time_charging) * time_charging\n",
    "\n",
    "# e.g. if you have 7 seconds, spend 5 charging, you will go 10 meters\n",
    "assert calculate_distance(7, 5) == 10"
   ]
  },
  {
   "cell_type": "code",
   "execution_count": 34,
   "metadata": {},
   "outputs": [],
   "source": [
    "def count_ways_to_win(total_time, record):\n",
    "    result = 0\n",
    "    for i in range(total_time):\n",
    "        if calculate_distance(total_time, i) > record: result += 1\n",
    "    return result\n",
    "\n",
    "assert count_ways_to_win(7, 9) == 4 # example from website"
   ]
  },
  {
   "cell_type": "code",
   "execution_count": 35,
   "metadata": {},
   "outputs": [
    {
     "name": "stdout",
     "output_type": "stream",
     "text": [
      "4811940\n"
     ]
    }
   ],
   "source": [
    "result = 1\n",
    "for ix in range(len(time)):\n",
    "    result *= count_ways_to_win(time[ix], distance[ix])\n",
    "print(result)"
   ]
  },
  {
   "cell_type": "code",
   "execution_count": 36,
   "metadata": {},
   "outputs": [
    {
     "data": {
      "text/plain": [
       "(41968894, 214178911271055)"
      ]
     },
     "execution_count": 36,
     "metadata": {},
     "output_type": "execute_result"
    }
   ],
   "source": [
    "time = int(''.join([x for x in data.split(\"\\n\")[1] if x.isdigit()]))\n",
    "distance = int(''.join([x for x in data.split(\"\\n\")[2] if x.isdigit()]))\n",
    "\n",
    "time, distance"
   ]
  },
  {
   "cell_type": "code",
   "execution_count": 37,
   "metadata": {},
   "outputs": [
    {
     "data": {
      "text/plain": [
       "30077773"
      ]
     },
     "execution_count": 37,
     "metadata": {},
     "output_type": "execute_result"
    }
   ],
   "source": [
    "count_ways_to_win(time, distance)\n",
    "# Only took 5 seconds, worth brute forcing imo"
   ]
  },
  {
   "cell_type": "code",
   "execution_count": 39,
   "metadata": {},
   "outputs": [
    {
     "name": "stdout",
     "output_type": "stream",
     "text": [
      "30077773\n"
     ]
    }
   ],
   "source": [
    "# i was bored, so 'smarter' approach:\n",
    "# try to find closed form formula for distance, and 'solve' it\n",
    "# looking at 'calculate_distance', we can see the function is\n",
    "# distance(t, c) = (t - c) * c = -c^2 + tc, where 0 <= c <= t\n",
    "# so that will be an upside down parabola, looking like a 'hill'\n",
    "# so we just need to solve the two crossover points\n",
    "\n",
    "# at -c^2 + tc = d, or -c^2 + tc - d = 0, or c^2 - tc + d = 0\n",
    "# Now we get the useful formula: https://nl.wikipedia.org/wiki/Wortelformule\n",
    "\n",
    "import math\n",
    "\n",
    "def solve_polynomial(t, d):\n",
    "    D = math.sqrt(t**2 - 4*d)\n",
    "    return 0.5 * (t - D), 0.5 * (t + D)\n",
    "\n",
    "low, high = solve_polynomial(time, distance)\n",
    "print(math.ceil(high) - math.ceil(low))\n",
    "\n",
    "# Should be the same as the output from the previous cell, and it is!"
   ]
  }
 ],
 "metadata": {
  "kernelspec": {
   "display_name": ".venv",
   "language": "python",
   "name": "python3"
  },
  "language_info": {
   "codemirror_mode": {
    "name": "ipython",
    "version": 3
   },
   "file_extension": ".py",
   "mimetype": "text/x-python",
   "name": "python",
   "nbconvert_exporter": "python",
   "pygments_lexer": "ipython3",
   "version": "3.10.13"
  }
 },
 "nbformat": 4,
 "nbformat_minor": 2
}
