{
 "cells": [
  {
   "cell_type": "code",
   "execution_count": 101,
   "metadata": {},
   "outputs": [],
   "source": [
    "import advent\n",
    "data: list[tuple[str, str, str]] = advent.get_lines(18, 'txt', lambda s: s.split(\" \"))\n",
    "\n",
    "def tadd(a: tuple[int, int], b: tuple[int, int]):\n",
    "    return a[0] + b[0], a[1] + b[1]"
   ]
  },
  {
   "cell_type": "code",
   "execution_count": 102,
   "metadata": {},
   "outputs": [
    {
     "name": "stdout",
     "output_type": "stream",
     "text": [
      "45159\n"
     ]
    }
   ],
   "source": [
    "dirmap = {'R': (0, 1), 'L': (0, -1), 'U': (-1, 0), 'D': (1, 0)}\n",
    "\n",
    "def get_visited(data: list[tuple[str, str, str]]):\n",
    "    visited: set[tuple[int, int]] = set([(0, 0)])\n",
    "    current = (0, 0)\n",
    "    for line in data:\n",
    "        dir, size, _ = line\n",
    "        size = int(size)\n",
    "        while size > 0:\n",
    "            size -= 1\n",
    "            current = tadd(current, dirmap[dir])\n",
    "            visited.add(current)\n",
    "    return visited\n",
    "\n",
    "def is_inside(row: int, col: int, visited: set[tuple[int, int]], minrow: int):\n",
    "    # Approach: travel up (until row=-1), if intersections is even, its out\n",
    "    # if intersections is odd, its inside\n",
    "    # Intersection is defined as: (row-n, col) and (row-n, col+1) are visited\n",
    "    if (row, col) in visited: return True\n",
    "    inside = False\n",
    "    while row >= minrow:\n",
    "        row -= 1\n",
    "        if (row, col) in visited and (row, col+1) in visited:\n",
    "            inside = not inside\n",
    "    return inside\n",
    "\n",
    "visited = get_visited(data)\n",
    "maxrow, maxcol = max(s[0] for s in visited), max(s[1] for s in visited)\n",
    "minrow, mincol = min(s[0] for s in visited), min(s[1] for s in visited)\n",
    "result = 0\n",
    "for row in range(minrow, maxrow+1):\n",
    "    for col in range(mincol, maxcol+1):\n",
    "        if is_inside(row, col, visited, minrow): result += 1\n",
    "print(result)"
   ]
  },
  {
   "cell_type": "code",
   "execution_count": 103,
   "metadata": {},
   "outputs": [],
   "source": [
    "# Part 2.\n",
    "# I I knew (from day 10) that I could treat the vertices\n",
    "# as a polygon and calculate the interior. But I decided not to use shapely\n",
    "# and instead learn how area calculation works\n",
    "# So I found: https://stackoverflow.com/a/451482/1615209\n",
    "\n",
    "# logic for determining the 'interior points': (done without help)\n",
    "# let's say area is 100, meaning we have 100 1x1 blocks,\n",
    "# meaning we have 400 corners. \n",
    "# That does not mean our interior points are 100, since the outside points\n",
    "# got undercounted: e.g. a corner point only adds 1 to the 400, an edge only 2\n",
    "# So to make all interior points count as 4 (so we can divide by 4 later)\n",
    "# We add 3 for every corner edge, and 2 for every non-corner edge.\n",
    "# But its easier to just add 2 for every edge, then another 1 for every corner\n",
    "\n",
    "def interior(area: int, perimeter: int, corners: int) -> float:\n",
    "    # NOTE: I later found out this only works for convex polygons\n",
    "    return ((area*4) + (perimeter*2) + (corners)) / 4\n",
    "\n",
    "assert interior(9, 12, 4) == 16\n",
    "\n",
    "def decode(line: str) -> tuple[int, str]:\n",
    "    # The reason why return type is weird to keep it the same type as input data\n",
    "    edge_length, dir = line[2:7], line[7]\n",
    "    dirmap = ['R', 'D', 'L', 'U']\n",
    "    return int(f\"0x{edge_length}\", 16), dirmap[int(dir)]\n",
    "\n",
    "assert decode(\"(#000012)\") == (1, 'L')\n",
    "\n",
    "def get_visited_corners(data: list[tuple[int, str]]):\n",
    "    visited: list[tuple[int, int]] = list([(0, 0)])\n",
    "    current = (0, 0)\n",
    "    for line in data:\n",
    "        size, dir = line\n",
    "        current = tadd(current, (size * dirmap[dir][0], size * dirmap[dir][1]))\n",
    "        visited.append(current)\n",
    "    return visited\n"
   ]
  },
  {
   "cell_type": "code",
   "execution_count": 104,
   "metadata": {},
   "outputs": [
    {
     "name": "stdout",
     "output_type": "stream",
     "text": [
      "664 173561416 134549208019004.0\n",
      "134549294799878.0\n"
     ]
    }
   ],
   "source": [
    "# Now all that's left is to calculate corners, perimeter, area\n",
    "# corners is easy: assuming that the data doesnt contain 'tricks' like\n",
    "# R followed by another R, then corners is simply len(data)\n",
    "corners = len(data)\n",
    "\n",
    "# perimeter is sum of length of edges\n",
    "perimeter = sum(int(decode(line[2])[0]) for line in data)\n",
    "\n",
    "# Calculate vertices as in part 1\n",
    "visited = get_visited_corners([decode(line[2]) for line in data])\n",
    "\n",
    "# From stackoverflow\n",
    "def get_area(p: list[tuple[int, int]]):\n",
    "    segments = zip(p[:-1], p[1:])\n",
    "    return 0.5 * abs(sum(x0*y1 - x1*y0\n",
    "                         for ((x0, y0), (x1, y1)) in segments))\n",
    "\n",
    "area = get_area(visited)\n",
    "\n",
    "print(corners, perimeter, area)\n",
    "print(interior(int(area), perimeter, corners))\n",
    "\n",
    "# It doesnt work because I made a logical error:\n",
    "# The corners dont always add 1 point. The convex corners do\n",
    "# The concave corners actually add 3..."
   ]
  },
  {
   "cell_type": "code",
   "execution_count": 106,
   "metadata": {},
   "outputs": [
    {
     "name": "stdout",
     "output_type": "stream",
     "text": [
      "134549294799713\n"
     ]
    }
   ],
   "source": [
    "def count_convex(turns: list[str]):\n",
    "    # input: list like ['R', 'D', 'L'], etc.\n",
    "    # L must always be followed by D or U, etcetera.\n",
    "    # Returns: number of convex corners\n",
    "\n",
    "    # This works when clockwise. When anticlockwise, the opposite is true\n",
    "    # The polygon being clockwise is essentialy an assumption, boiling down to:\n",
    "    # The 'inside' is on our right side as we walk the edges\n",
    "    convex = {'R': 'D', 'L': 'U', 'U': 'R', 'D': 'L'}\n",
    "    return sum(convex[a] == b for a, b in zip(turns, turns[1:] + [turns[0]]))\n",
    "\n",
    "def interior_fixed(area: float, perimeter: int, corners: int, convex: int) -> float:\n",
    "    concave = corners - convex\n",
    "    return ((area*4) + (perimeter*2) + (corners) - (concave*2)) / 4\n",
    "\n",
    "convex = count_convex([decode(line[2])[1] for line in data])\n",
    "print(int(interior_fixed(area, perimeter, corners, convex)))"
   ]
  }
 ],
 "metadata": {
  "kernelspec": {
   "display_name": ".venv",
   "language": "python",
   "name": "python3"
  },
  "language_info": {
   "codemirror_mode": {
    "name": "ipython",
    "version": 3
   },
   "file_extension": ".py",
   "mimetype": "text/x-python",
   "name": "python",
   "nbconvert_exporter": "python",
   "pygments_lexer": "ipython3",
   "version": "3.10.11"
  }
 },
 "nbformat": 4,
 "nbformat_minor": 2
}
