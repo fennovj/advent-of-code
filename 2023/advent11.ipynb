{
 "cells": [
  {
   "cell_type": "code",
   "execution_count": 68,
   "metadata": {},
   "outputs": [],
   "source": [
    "import advent\n",
    "import numpy as np\n",
    "\n",
    "data = advent.get_char_grid(11, 'txt')"
   ]
  },
  {
   "cell_type": "code",
   "execution_count": 69,
   "metadata": {},
   "outputs": [
    {
     "data": {
      "text/plain": [
       "10494813"
      ]
     },
     "execution_count": 69,
     "metadata": {},
     "output_type": "execute_result"
    }
   ],
   "source": [
    "def expand(data):\n",
    "    # Expand horizontally, then vertically\n",
    "    ix = 0\n",
    "    while ix < data.shape[0]:\n",
    "        if np.all(data[ix, :] == '.'):\n",
    "            data = np.insert(data, ix, '.', axis=0)\n",
    "            ix += 1\n",
    "        ix += 1\n",
    "\n",
    "    ix = 0\n",
    "    while ix < data.shape[1]:\n",
    "        if np.all(data[:, ix] == '.'):\n",
    "            data = np.insert(data, ix, '.', axis=1)\n",
    "            ix += 1\n",
    "        ix += 1\n",
    "    return data\n",
    "\n",
    "def sum_manhattan(points: list[tuple[int, int]]):\n",
    "    result = 0\n",
    "    for i in range(len(points)):\n",
    "        for j in range(i+1, len(points)):\n",
    "            result += abs(points[i][0] - points[j][0]) + \\\n",
    "                abs(points[i][1] - points[j][1])\n",
    "    return result\n",
    "\n",
    "galaxies = np.where(expand(data.copy()) == '#')\n",
    "galaxies = [(galaxies[0][i], galaxies[1][i]) for i in range(len(galaxies[0]))]\n",
    "\n",
    "sum_manhattan(galaxies)"
   ]
  },
  {
   "cell_type": "code",
   "execution_count": 71,
   "metadata": {},
   "outputs": [
    {
     "data": {
      "text/plain": [
       "840988812853"
      ]
     },
     "execution_count": 71,
     "metadata": {},
     "output_type": "execute_result"
    }
   ],
   "source": [
    "def expanded_manhattan(a: tuple[int, int], b: tuple[int, int], rows: list[int], cols: list[int], singularity: int=1000000):\n",
    "    result = abs(a[0] - b[0]) + abs(a[1] - b[1])\n",
    "    for row in rows:\n",
    "        if (row > a[0] and row < b[0]) or (row < a[0] and row > b[0]): result += singularity\n",
    "    for col in cols:\n",
    "        if (col > a[1] and col < b[1]) or (col < a[1] and col > b[1]): result += singularity\n",
    "    return result\n",
    "\n",
    "def sum_manhattan_part2(points: list[tuple[int, int]], rows: list[int], cols: list[int], singularity: int):\n",
    "    singularity = singularity - 1 # classic off-by-one error\n",
    "    result = 0\n",
    "    for i in range(len(points)):\n",
    "        for j in range(i+1, len(points)):\n",
    "            result += expanded_manhattan(points[i], points[j], rows, cols, singularity)\n",
    "    return result\n",
    "\n",
    "rows = [i for i in range(data.shape[0]) if np.all(data[i, :] == '.')]\n",
    "cols = [i for i in range(data.shape[1]) if np.all(data[:, i] == '.')]\n",
    "galaxies = np.where(data == '#')\n",
    "galaxies = [(galaxies[0][i], galaxies[1][i]) for i in range(len(galaxies[0]))]\n",
    "\n",
    "sum_manhattan_part2(galaxies, rows, cols, 1_000_000)\n"
   ]
  }
 ],
 "metadata": {
  "kernelspec": {
   "display_name": ".venv",
   "language": "python",
   "name": "python3"
  },
  "language_info": {
   "codemirror_mode": {
    "name": "ipython",
    "version": 3
   },
   "file_extension": ".py",
   "mimetype": "text/x-python",
   "name": "python",
   "nbconvert_exporter": "python",
   "pygments_lexer": "ipython3",
   "version": "3.10.11"
  }
 },
 "nbformat": 4,
 "nbformat_minor": 2
}
