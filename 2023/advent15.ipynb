{
 "cells": [
  {
   "cell_type": "code",
   "execution_count": 44,
   "metadata": {},
   "outputs": [],
   "source": [
    "import advent\n",
    "data: list[str] = advent.get_lines(15)[0].split(',')"
   ]
  },
  {
   "cell_type": "code",
   "execution_count": 45,
   "metadata": {},
   "outputs": [
    {
     "data": {
      "text/plain": [
       "505427"
      ]
     },
     "execution_count": 45,
     "metadata": {},
     "output_type": "execute_result"
    }
   ],
   "source": [
    "def decode(hash: str):\n",
    "    result = 0\n",
    "    for c in hash:\n",
    "        result = ((result + ord(c)) * 17) % 256\n",
    "    return result\n",
    "\n",
    "sum([decode(line) for line in data])"
   ]
  },
  {
   "cell_type": "code",
   "execution_count": 46,
   "metadata": {},
   "outputs": [
    {
     "name": "stdout",
     "output_type": "stream",
     "text": [
      "[['gmhzz=6'], [], [], ['nphm=8'], [], ['ng=3'], [], ['svhv=8'], ['mjq=1', 'dtxx=2'], ['qqg=3', 'ncfzvr=6'], ['nfv=3', 'pbx=4', 'xr=8'], ['fjkhx=6'], ['hd=1'], ['fgxx=9', 'vg=1'], [], ['kxcgb=2'], ['cgv=7'], ['cn=9', 'kfp=2'], [], ['ps=8'], [], ['krh=8'], ['xfx=5', 'nh=2'], ['hgh=1'], ['vxj=3'], ['kn=2'], ['jp=1', 'jfdf=9'], [], ['ht=9'], ['lmlh=2'], ['jddl=5'], [], ['rjd=4'], [], ['dtj=6'], ['qr=4', 'qxj=2'], ['glq=2'], [], ['nx=2'], [], ['mk=2'], [], [], [], ['gzhkh=1'], [], ['tmcz=2'], [], [], ['tm=8', 'tfg=6', 'dqjb=6'], ['dn=5', 'rxnz=9'], [], ['br=1', 'qs=2'], ['bc=4', 'nmz=9'], ['tpr=8', 'pf=1'], ['sbr=5', 'btq=5'], ['flf=4', 'btb=9'], [], ['njb=4'], ['zq=4'], ['zb=4', 'pskvh=4'], ['jc=1', 'hsb=3'], [], [], ['vj=4', 'thd=5', 'rzt=8'], ['qbkqr=6'], [], ['jxq=9'], ['hzxj=1'], [], [], ['lqj=6'], ['qfnhmn=3', 'bplj=5', 'nz=1', 'xhh=2'], [], ['spg=4'], [], ['kq=3'], ['zc=5'], ['xcc=1', 'jd=6', 'bhvn=8'], ['vfc=3'], ['hh=8'], ['vk=3'], ['zrnvb=2', 'fl=3'], [], [], ['srjhn=5', 'cr=9'], ['rd=9'], ['jgf=8', 'vmt=2', 'qf=9'], [], [], ['sqtr=2', 'xgk=3', 'jxnmm=7'], ['mn=8'], ['qsh=6', 'mrmsm=4'], [], ['kc=3', 'jt=6'], [], ['hbv=7'], ['mvn=3'], ['gbbg=3', 'blt=6'], [], [], ['lclz=7', 'ssnnc=5', 'qhjpfl=4'], ['cs=8', 'ldv=7'], ['cd=4'], ['pjn=1'], [], [], ['jsn=1'], [], ['zqzvr=3', 'xlnk=8'], [], ['kd=9', 'gvb=3'], ['jf=2', 'fsds=2'], [], ['xpj=1'], ['rlghv=7'], [], ['dnpc=4', 'pjcx=9'], ['ss=1', 'hmq=8'], ['mrh=3'], ['ddp=6'], ['ppcv=1'], [], ['nrdg=3'], [], ['jrmt=6'], ['qsj=1'], [], [], [], ['xj=4'], ['sstfc=4'], ['gm=7'], [], ['cfsmm=3', 'bjvfkc=7'], [], [], ['gnd=8', 'rg=6', 'lgrt=8'], ['bh=6', 'pz=5', 'gbkv=7'], ['bnvhql=6', 'bfs=4'], [], ['kppb=6'], ['vjn=3', 'mq=1'], [], [], [], ['prp=6'], ['jnk=5', 'bbrm=5'], ['gxtq=3'], ['gn=4'], ['grjlg=7'], ['nbjm=7'], [], [], ['mql=3', 'cg=7', 'bx=4'], [], [], [], [], ['lcvj=9', 'mr=3'], ['lt=6'], ['qrn=5'], ['drppl=3', 'jx=2'], ['cms=7'], ['vfh=4'], ['qzbx=4'], [], ['fq=4', 'qhskfz=2'], ['tt=9'], [], ['qpcf=7', 'trtp=6', 'nhzz=2', 'rjlb=3'], ['qxr=2', 'dst=3'], ['pxcq=5', 'cfc=6', 'bj=6'], [], [], ['nkv=2', 'nq=2'], [], [], ['dmq=3', 'zx=9'], ['kh=3'], [], ['tgbh=9'], [], ['sjln=3', 'mvd=4', 'ddgh=6', 'hclp=9'], ['zbknc=7'], ['fc=3'], ['dv=5'], ['xkx=8', 'zkpv=2'], ['vhck=3'], ['trg=3'], [], ['kcq=4'], ['zrt=9'], ['qprvjn=7'], ['njpz=9'], ['kx=7', 'lg=7'], ['dlt=3'], [], ['xn=4', 'tjh=4'], [], ['pph=6'], ['tshlkc=2', 'mclm=3', 'ncx=1'], ['fd=1', 'ddtn=8'], [], ['rz=5'], ['rk=5', 'lsn=5'], ['dtpf=3', 'pbpl=4'], [], ['fbvbp=4', 'jbsgz=9'], ['ttsvp=3'], ['sgxp=8'], ['jrg=1', 'mf=3'], ['zpj=1', 'pltfhv=5'], ['xcz=6', 'kj=5'], [], ['hcl=4'], ['mgt=3'], [], ['mpql=9', 'vd=6'], [], [], ['sj=2', 'gnx=6', 'cz=6', 'dtbs=7'], ['xnph=3'], [], [], [], ['zrv=8', 'kqv=4'], ['nnjm=9', 'mv=8'], ['mg=1'], ['hfg=9', 'qdmmzl=9'], [], ['bhgv=9'], ['pbv=4'], ['klb=9'], [], ['gd=2'], ['zjh=7', 'ff=6'], ['fpts=2'], ['fdlx=9', 'rht=1'], ['mgpk=4'], [], [], ['dzfbl=7'], [], ['zbx=4'], [], ['dmxm=9', 'lj=1'], ['zczxrf=7'], [], ['xdnls=1'], ['xb=7', 'zmc=8'], ['zdbkp=3'], [], ['tzgh=7'], ['vxdl=4'], ['kvn=1']]\n"
     ]
    }
   ],
   "source": [
    "# Part 2\n",
    "\n",
    "def remove(bin: list[str], prefix: str):\n",
    "    # removes first occurence that starts with prefix\n",
    "    for lens in bin:\n",
    "        if lens.startswith(prefix):\n",
    "            bin.remove(lens)\n",
    "    return bin\n",
    "\n",
    "def update(bin: list[str], prefix: str, value: str):\n",
    "    # updates first occurence that starts with prefix\n",
    "    for i, lens in enumerate(bin):\n",
    "        if lens.startswith(prefix):\n",
    "            bin[i] = value\n",
    "            break\n",
    "    else:\n",
    "        bin.append(value)\n",
    "    return bin\n",
    "\n",
    "import re\n",
    "def do_op(bins: list[list[str]], op: str):\n",
    "    # op can be: ab=1 or ab-\n",
    "    num, op = re.split('-|=', op)\n",
    "    bin = decode(num)\n",
    "    if op == '': # op was -\n",
    "        bins[bin] = remove(bins[bin], num)\n",
    "    else: # op was =\n",
    "        bins[bin] = update(bins[bin], num, f\"{num}={op}\")\n",
    "    return bins\n",
    "\n",
    "bins: list[list[str]] = [[] for _ in range(256)]\n",
    "for op in data:\n",
    "    bins = do_op(bins, op)\n",
    "\n",
    "print(bins)\n",
    "\n"
   ]
  },
  {
   "cell_type": "code",
   "execution_count": 47,
   "metadata": {},
   "outputs": [
    {
     "data": {
      "text/plain": [
       "243747"
      ]
     },
     "execution_count": 47,
     "metadata": {},
     "output_type": "execute_result"
    }
   ],
   "source": [
    "def score(bins: list[list[str]]) -> int:\n",
    "    result = 0\n",
    "    for i, bin in enumerate(bins):\n",
    "        for j, lens in enumerate(bin):\n",
    "            result += (i+1) * (j+1) * int(lens.split('=')[1])\n",
    "    return result\n",
    "\n",
    "score(bins)\n",
    "\n"
   ]
  }
 ],
 "metadata": {
  "kernelspec": {
   "display_name": ".venv",
   "language": "python",
   "name": "python3"
  },
  "language_info": {
   "codemirror_mode": {
    "name": "ipython",
    "version": 3
   },
   "file_extension": ".py",
   "mimetype": "text/x-python",
   "name": "python",
   "nbconvert_exporter": "python",
   "pygments_lexer": "ipython3",
   "version": "3.10.11"
  }
 },
 "nbformat": 4,
 "nbformat_minor": 2
}
