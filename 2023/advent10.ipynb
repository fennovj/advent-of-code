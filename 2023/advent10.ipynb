{
 "cells": [
  {
   "cell_type": "code",
   "execution_count": 93,
   "metadata": {},
   "outputs": [
    {
     "data": {
      "text/plain": [
       "(43, 26)"
      ]
     },
     "execution_count": 93,
     "metadata": {},
     "output_type": "execute_result"
    }
   ],
   "source": [
    "import advent\n",
    "import numpy as np\n",
    "\n",
    "data = advent.get_char_grid(10, 'txt')\n",
    "# Pad the array so we don't have to keep checking if indexes are out of bounds\n",
    "data = np.pad(data, 1, 'constant', constant_values='.')\n",
    "\n",
    "start = np.where(data == 'S')\n",
    "start = start[0][0], start[1][0]\n",
    "start"
   ]
  },
  {
   "cell_type": "code",
   "execution_count": 94,
   "metadata": {},
   "outputs": [
    {
     "name": "stdout",
     "output_type": "stream",
     "text": [
      "7173\n"
     ]
    }
   ],
   "source": [
    "offsets = [(0, 1), (0, -1), (1, 0), (-1, 0)]\n",
    "tadd = lambda a, b: (a[0] + b[0], a[1] + b[1])\n",
    "\n",
    "def step(data, pos, excluded_pos):\n",
    "    # Return next position in the pipe. Never return excl_pos (so you don't go back in the pipe)\n",
    "    for offset in offsets:\n",
    "        new_pos = tadd(pos, offset)\n",
    "        if new_pos == excluded_pos: continue\n",
    "        o, c = data[pos], data[new_pos]\n",
    "        if offset == (1, 0) and o in 'F7|S' and c in 'LJ|S': return new_pos\n",
    "        if offset == (-1, 0) and o in 'LJ|S' and c in 'F7|S': return new_pos\n",
    "        if offset == (0, 1) and o in 'FL-S' and c in '7J-S': return new_pos\n",
    "        if offset == (0, -1) and o in '7J-S' and c in 'FL-S': return new_pos\n",
    "    raise ValueError(f\"This position does not connect in any direction: {pos}. ({excluded_pos})\")\n",
    "\n",
    "pipe_length = 0\n",
    "position, previous = start, (0, 0)\n",
    "path = []\n",
    "while True:\n",
    "    path += [position]\n",
    "    pipe_length += 1\n",
    "    position, previous = step(data, position, previous), position\n",
    "    if data[position] == 'S': break\n",
    "\n",
    "print(pipe_length // 2)\n"
   ]
  },
  {
   "cell_type": "code",
   "execution_count": 95,
   "metadata": {},
   "outputs": [],
   "source": [
    "# There is a clever way to calculate whether a tile is in the loop. Then we just brute force that method for each tile\n",
    "# The method: start at the tile, start going up (or any direction, but lets just do up to keep it easy)\n",
    "# If we cross an EVEN number of pipes, we are OUTSIDE. if we cross an ODD number of pipes, we are INSIDE\n",
    "\n",
    "# Unfortunately, a cross is a bit tough, because both 'J -> 7' and 'L -> F' count as 2 crosses\n",
    "# Whereas '-', or 'J -> F' or 'L -> '7' count as 1 cross\n",
    "# I could have done this easier with regexes, but I only figured that out when I was nearly done with the for loop\n",
    "\n",
    "# Final unfortunately: the 'S' does need to be filled in actually (yeah this exercise turned out to be harder than expected :( )\n",
    "\n",
    "def fill_s(data, path):\n",
    "    # SUPER HACKY !!!!\n",
    "    # But this function would essentially just be 6 'if' statements (one each for -|7FJL)\n",
    "    # so not very interesting, and it's easy to find the value of S by eye\n",
    "    return '7'\n",
    "\n",
    "\n",
    "def step_off(start, end):\n",
    "    if end == '-': return 1\n",
    "    if (start == 'J' and end == 'F') or (start == 'L' and end == '7'): return 1\n",
    "    if (start == 'J' and end == '7') or (start == 'L' and end == 'F'): return 2\n",
    "    raise ValueError(f\"{start}, {end}, unknown\")\n",
    "\n",
    "def is_inside(data, path: list[tuple[int, int]], position: tuple[int, int]) -> bool:\n",
    "    if position in path: return False # edge case\n",
    "    crosses = 0\n",
    "    on_pipe = None # Where we started our pipe\n",
    "    while position[0] > 0:\n",
    "        position = tadd(position, (-1, 0))\n",
    "        if data[position] in '7F' and position in path: # stepping off the pipe\n",
    "            crosses += step_off(on_pipe, data[position])\n",
    "            on_pipe = None\n",
    "        elif data[position] in 'JL' and position in path: # stepping on the pipe\n",
    "            on_pipe = data[position]\n",
    "        elif data[position] in '-' and position in path: # simple cross\n",
    "            crosses += 1\n",
    "    return crosses % 2 == 1"
   ]
  },
  {
   "cell_type": "code",
   "execution_count": 97,
   "metadata": {},
   "outputs": [
    {
     "data": {
      "application/vnd.jupyter.widget-view+json": {
       "model_id": "a5726f3b256b449480e6300eaacdb807",
       "version_major": 2,
       "version_minor": 0
      },
      "text/plain": [
       "  0%|          | 0/142 [00:00<?, ?it/s]"
      ]
     },
     "metadata": {},
     "output_type": "display_data"
    },
    {
     "name": "stdout",
     "output_type": "stream",
     "text": [
      "291\n"
     ]
    }
   ],
   "source": [
    "from tqdm.notebook import trange\n",
    "\n",
    "data[path[0]] = fill_s(data, path)\n",
    "\n",
    "insiders = 0\n",
    "for j in trange(data.shape[1]):\n",
    "    for i in range(data.shape[0]):\n",
    "        #if is_inside(data, path, (i, j)): print(i, j, data[(i, j)])\n",
    "        if is_inside(data, path, (i, j)): insiders +=1\n",
    "\n",
    "print(insiders) # Took like 100 seconds"
   ]
  },
  {
   "cell_type": "code",
   "execution_count": null,
   "metadata": {},
   "outputs": [],
   "source": [
    "# Optional: A way to visualize the map without the unneccesary pipe pieces\n",
    "for i in range(data.shape[0]):\n",
    "    for j in range(data.shape[1]):\n",
    "        if (i, j) not in path:\n",
    "            data[(i, j)] = '.'\n",
    "[print(''.join(row)) for row in data]"
   ]
  }
 ],
 "metadata": {
  "kernelspec": {
   "display_name": ".venv",
   "language": "python",
   "name": "python3"
  },
  "language_info": {
   "codemirror_mode": {
    "name": "ipython",
    "version": 3
   },
   "file_extension": ".py",
   "mimetype": "text/x-python",
   "name": "python",
   "nbconvert_exporter": "python",
   "pygments_lexer": "ipython3",
   "version": "3.10.13"
  }
 },
 "nbformat": 4,
 "nbformat_minor": 2
}
