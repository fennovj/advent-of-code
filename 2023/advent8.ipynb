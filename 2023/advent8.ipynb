{
 "cells": [
  {
   "cell_type": "code",
   "execution_count": 14,
   "metadata": {},
   "outputs": [],
   "source": [
    "import advent\n",
    "\n",
    "data = advent.get_lines(8)\n",
    "directions = data[0]\n",
    "mappings = data[2:]\n",
    "\n",
    "map: dict[str, tuple[str, str]] = {}\n",
    "for line in mappings:\n",
    "    origin = line.split(\" \")[0]\n",
    "    dest = line.split(\"(\")[1][:-1]\n",
    "    dest_l, dest_r = dest.split(\", \")\n",
    "    map[origin] = (dest_l, dest_r)\n"
   ]
  },
  {
   "cell_type": "code",
   "execution_count": 20,
   "metadata": {},
   "outputs": [
    {
     "data": {
      "text/plain": [
       "[16271]"
      ]
     },
     "execution_count": 20,
     "metadata": {},
     "output_type": "execute_result"
    }
   ],
   "source": [
    "def is_starting_point(node: str):\n",
    "    return node.endswith('A')\n",
    "\n",
    "def is_ending_point(node: str, ix: int = 0):\n",
    "    return node.endswith('Z')\n",
    "\n",
    "# Refactored a bit for part 2, now accepts arbitrary start/end locations\n",
    "# And it can get multiple results instead of just 1\n",
    "# HOWEVER THESE REFACTORS ALL TURNED OUT TO BE USELESS SINCE THE LCM JUST WORKED...\n",
    "def count_steps(location='AAA', end_fn=None, num_results=1):\n",
    "    if not end_fn: end_fn = is_ending_point\n",
    "    ix, steps = 0, 0\n",
    "    result = []\n",
    "    while True:\n",
    "        steps += 1\n",
    "        if directions[ix] == 'L': location = map[location][0]\n",
    "        else: location = map[location][1]\n",
    "        ix = (ix + 1) % len(directions)\n",
    "        if end_fn(location, ix): result.append(steps)\n",
    "        if len(result) >= num_results: break\n",
    "    return result\n",
    "\n",
    "count_steps()"
   ]
  },
  {
   "cell_type": "code",
   "execution_count": 27,
   "metadata": {},
   "outputs": [
    {
     "data": {
      "text/plain": [
       "['VCA', 'FRA', 'SNA', 'HNA', 'AAA', 'RPA']"
      ]
     },
     "execution_count": 27,
     "metadata": {},
     "output_type": "execute_result"
    }
   ],
   "source": [
    "# Step 2: exploration \n",
    "# first we need to compute path length for all starting points\n",
    "# to end up at the beginning\n",
    "\n",
    "\"\"\"\n",
    "def make_end_fn(node: str):\n",
    "    return lambda n, ix: (ix == 0) and n == node\n",
    "\n",
    "# However, this ended up running a long time without cycling\n",
    "count_steps('AAA', make_end_fn('AAA'), 1)\n",
    "\"\"\""
   ]
  },
  {
   "cell_type": "code",
   "execution_count": 35,
   "metadata": {},
   "outputs": [],
   "source": [
    "# Next attempt, try to brute force it:\n",
    "# this also failed\n",
    "starting_points = [node for node in map if is_starting_point(node)]\n",
    "\n",
    "\"\"\"\n",
    "from functools import reduce\n",
    "def intersection(d: list[list[int]]) -> list[int]:\n",
    "    return list(reduce(set.intersection, [set(item) for item in d ]))\n",
    "\n",
    "all_results = {}\n",
    "for point in starting_points:\n",
    "    all_results[point] = count_steps(point, None, 1000)\n",
    "\n",
    "intersection([all_results[key] for key in all_results])\n",
    "# Returns empty list :(\n",
    "\"\"\"\n"
   ]
  },
  {
   "cell_type": "code",
   "execution_count": 45,
   "metadata": {},
   "outputs": [
    {
     "data": {
      "text/plain": [
       "14265111103729"
      ]
     },
     "execution_count": 45,
     "metadata": {},
     "output_type": "execute_result"
    }
   ],
   "source": [
    "# THIRD ATTEMPT this is also the most basic one which I thought of first but thought wouldn't work.\n",
    "# I thought the number of steps wouldn't repeat because there were multiple ending points.\n",
    "# e.g. you might hit a 'Z' node at 5, 12, 19 -> 25, 32, 39\n",
    "# which would repeat eventually, but just taking the LCM of 5 wouldn't be enough\n",
    "# However, in attempt 2 in the cell above, I got 1000 results for each starting node,\n",
    "# and it was clear they just followed a simple pattern. So we can just do Classic LCM\n",
    "\n",
    "steps = [count_steps(point, None, 1)[0] for point in starting_points]\n",
    "\n",
    "import math\n",
    "math.lcm(*steps)"
   ]
  },
  {
   "cell_type": "code",
   "execution_count": null,
   "metadata": {},
   "outputs": [],
   "source": []
  }
 ],
 "metadata": {
  "kernelspec": {
   "display_name": ".venv",
   "language": "python",
   "name": "python3"
  },
  "language_info": {
   "codemirror_mode": {
    "name": "ipython",
    "version": 3
   },
   "file_extension": ".py",
   "mimetype": "text/x-python",
   "name": "python",
   "nbconvert_exporter": "python",
   "pygments_lexer": "ipython3",
   "version": "3.10.11"
  }
 },
 "nbformat": 4,
 "nbformat_minor": 2
}
