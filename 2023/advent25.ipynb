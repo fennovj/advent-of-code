{
 "cells": [
  {
   "cell_type": "code",
   "execution_count": 54,
   "metadata": {},
   "outputs": [],
   "source": [
    "import advent\n",
    "data: list[str] = advent.get_lines(25)\n",
    "\n",
    "vertices: set[str] = set([])\n",
    "edges: set[tuple[str, str]] = set([])\n",
    "\n",
    "for line in data:\n",
    "    left, rights = line.split(': ')\n",
    "    rights = rights.split(' ')\n",
    "    vertices.add(left)\n",
    "    for right in rights:\n",
    "        vertices.add(right)\n",
    "        edges.add((left, right))\n",
    "        edges.add((right, left))"
   ]
  },
  {
   "cell_type": "code",
   "execution_count": 55,
   "metadata": {},
   "outputs": [
    {
     "name": "stdout",
     "output_type": "stream",
     "text": [
      "Requirement already satisfied: networkx in /Users/fenno/advent-of-code/.venv/lib/python3.10/site-packages (3.2.1)\n",
      "\n",
      "\u001b[1m[\u001b[0m\u001b[34;49mnotice\u001b[0m\u001b[1;39;49m]\u001b[0m\u001b[39;49m A new release of pip is available: \u001b[0m\u001b[31;49m23.3.1\u001b[0m\u001b[39;49m -> \u001b[0m\u001b[32;49m23.3.2\u001b[0m\n",
      "\u001b[1m[\u001b[0m\u001b[34;49mnotice\u001b[0m\u001b[1;39;49m]\u001b[0m\u001b[39;49m To update, run: \u001b[0m\u001b[32;49mpip install --upgrade pip\u001b[0m\n"
     ]
    }
   ],
   "source": [
    "!pip install networkx"
   ]
  },
  {
   "cell_type": "code",
   "execution_count": 56,
   "metadata": {},
   "outputs": [],
   "source": [
    "import networkx as nx\n",
    "graph = nx.Graph()\n",
    "for v in vertices: graph.add_node(v)\n",
    "for e in edges: graph.add_edge(e[0], e[1], capacity=1)"
   ]
  },
  {
   "cell_type": "code",
   "execution_count": 57,
   "metadata": {},
   "outputs": [
    {
     "data": {
      "application/vnd.jupyter.widget-view+json": {
       "model_id": "5a2caa266ee847629c1148826018c785",
       "version_major": 2,
       "version_minor": 0
      },
      "text/plain": [
       "0it [00:00, ?it/s]"
      ]
     },
     "metadata": {},
     "output_type": "display_data"
    }
   ],
   "source": [
    "# With a little bit of trial and error, find two nodes with maximum flow 3\n",
    "from tqdm.notebook import tqdm\n",
    "node_left, node_right = 'brj', 'kfz'\n",
    "assert nx.maximum_flow(graph, node_left, node_right)[0] == 3\n",
    "\n",
    "vertex_list = list(vertices)\n",
    "\n",
    "connectors: list[tuple[str, str]] = []\n",
    "# Now remove all edges and \n",
    "for i, n in tqdm(enumerate(vertex_list)):\n",
    "    for m in vertex_list[(i+1):]:\n",
    "        if (n, m) not in edges: continue\n",
    "        graph.remove_edge(n, m)\n",
    "        if nx.maximum_flow(graph, node_left, node_right)[0] == 2:\n",
    "            connectors.append((n, m))\n",
    "        graph.add_edge(n, m, capacity=1)"
   ]
  },
  {
   "cell_type": "code",
   "execution_count": 60,
   "metadata": {},
   "outputs": [
    {
     "name": "stdout",
     "output_type": "stream",
     "text": [
      "547410\n"
     ]
    }
   ],
   "source": [
    "for c in connectors:\n",
    "    graph.remove_edge(c[0], c[1])\n",
    "\n",
    "answer = 1\n",
    "for subgraph in nx.connected_components(graph):\n",
    "    answer *= len(subgraph)\n",
    "print(answer)"
   ]
  }
 ],
 "metadata": {
  "kernelspec": {
   "display_name": ".venv",
   "language": "python",
   "name": "python3"
  },
  "language_info": {
   "codemirror_mode": {
    "name": "ipython",
    "version": 3
   },
   "file_extension": ".py",
   "mimetype": "text/x-python",
   "name": "python",
   "nbconvert_exporter": "python",
   "pygments_lexer": "ipython3",
   "version": "3.10.11"
  }
 },
 "nbformat": 4,
 "nbformat_minor": 2
}
