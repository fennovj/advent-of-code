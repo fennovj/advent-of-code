{
 "cells": [
  {
   "cell_type": "code",
   "execution_count": 37,
   "metadata": {},
   "outputs": [
    {
     "data": {
      "text/plain": [
       "(140, 140)"
      ]
     },
     "execution_count": 37,
     "metadata": {},
     "output_type": "execute_result"
    }
   ],
   "source": [
    "import advent\n",
    "\n",
    "grid = advent.get_char_grid(3)\n",
    "grid.shape"
   ]
  },
  {
   "cell_type": "code",
   "execution_count": 38,
   "metadata": {},
   "outputs": [
    {
     "data": {
      "text/plain": [
       "True"
      ]
     },
     "execution_count": 38,
     "metadata": {},
     "output_type": "execute_result"
    }
   ],
   "source": [
    "EMP = '.0123456789' # anything that doesn't count as a symbol\n",
    "DIGITS = '0123456789'\n",
    "assert grid.shape[0] == grid.shape[1]\n",
    "GRID_SIZE = grid.shape[0]\n",
    "\n",
    "def borders_symbol(grid, num_digits: int, i: int, j: int):\n",
    "    # Checks if number borders symbol.\n",
    "    # assumption is that at i, j, there is a number of num_digits\n",
    "    # i is the row (top to bottom), j is the column (left to right)\n",
    "    # Horizontals\n",
    "    if j > 0 and grid[i, j-1] not in EMP: return True\n",
    "    if j < (GRID_SIZE-num_digits) and grid[i, j+num_digits] not in EMP: return True\n",
    "\n",
    "    if i > 0 and grid[i-1, j] not in EMP: return True\n",
    "    if i > 0 and num_digits >= 2 and grid[i-1, j+1] not in EMP: return True\n",
    "    if i > 0 and num_digits >= 3 and grid[i-1, j+2] not in EMP: return True\n",
    "\n",
    "    if i < (GRID_SIZE-1) and grid[i+1, j] not in EMP: return True\n",
    "    if i < (GRID_SIZE-1) and num_digits >= 2 and grid[i+1, j+1] not in EMP: return True\n",
    "    if i < (GRID_SIZE-1) and num_digits >= 3 and grid[i+1, j+2] not in EMP: return True\n",
    "    # diagonals\n",
    "    if i > 0 and j > 0 and grid[i-1, j-1] not in EMP: return True\n",
    "    if i < (GRID_SIZE-1) and j > 0 and grid[i+1, j-1] not in EMP: return True\n",
    "    if i > 0 and j < (GRID_SIZE-num_digits) and grid[i-1, j+num_digits] not in EMP: return True\n",
    "    if i < (GRID_SIZE-1) and j < (GRID_SIZE-num_digits) and grid[i+1, j+num_digits] not in EMP: return True\n",
    "    return False\n",
    "borders_symbol(grid, 3, 2, 6)\n"
   ]
  },
  {
   "cell_type": "code",
   "execution_count": 39,
   "metadata": {},
   "outputs": [
    {
     "name": "stdout",
     "output_type": "stream",
     "text": [
      "543867\n"
     ]
    }
   ],
   "source": [
    "def make_digit(arr):\n",
    "    return int(''.join(arr))\n",
    "\n",
    "result = 0\n",
    "for i, line in enumerate(grid):\n",
    "    for j, c in enumerate(line):\n",
    "        if j > 0 and grid[i, j-1] in DIGITS: continue # we already did this num\n",
    "        if grid[i, j] in DIGITS:\n",
    "            if j < GRID_SIZE-2 and grid[i, j+1] in DIGITS and grid[i, j+2] in DIGITS: num_digits=3\n",
    "            elif j < GRID_SIZE-1 and grid[i, j+1] in DIGITS: num_digits=2\n",
    "            else: num_digits=1\n",
    "            num = make_digit(grid[i,j:(j+num_digits)])\n",
    "            if borders_symbol(grid, num_digits, i, j): result += num\n",
    "\n",
    "print(result)\n"
   ]
  },
  {
   "cell_type": "code",
   "execution_count": 41,
   "metadata": {},
   "outputs": [],
   "source": [
    "def digit(grid, i, j):\n",
    "    # Checks if number is digit\n",
    "    if i < 0 or j < 0 or i >= grid.shape[0] or j >= grid.shape[1]: return False\n",
    "    return grid[i, j] in DIGITS\n",
    "\n",
    "def gear_borders(grid, i, j):\n",
    "    # The ways a number can border a gear are:\n",
    "    # top 1/2: in this case 3 does not need to be checked, its 1 number either way\n",
    "        # but for number have to check both 0 and 3\n",
    "    # top 2/3: in this case we only have to check 4 since we already checked 1/2/3 earlier\n",
    "    # top 1, with 2 empty: in this case 3 does need to be checked\n",
    "        # 1 goes left, 3 goes right\n",
    "    # (same as above but for bottom)\n",
    "    # left (goes left)\n",
    "    # right (goes right)\n",
    "    bordering_numbers = []\n",
    "    # top 1/2:\n",
    "    if digit(grid, i-1, j-1):\n",
    "        if digit(grid, i-1, j): # top 1/2\n",
    "            if digit(grid, i-1, j+1): bordering_numbers.append(make_digit(grid[i-1, (j-1):(j+2)]))\n",
    "            elif digit(grid, i-1, j-2): bordering_numbers.append(make_digit(grid[i-1, (j-2):(j+1)]))\n",
    "            else: bordering_numbers.append(make_digit(grid[i-1, (j-1):(j+1)]))\n",
    "        elif digit(grid, i, j-2): # top 1 but not 2\n",
    "            pass"
   ]
  },
  {
   "cell_type": "code",
   "execution_count": null,
   "metadata": {},
   "outputs": [],
   "source": []
  }
 ],
 "metadata": {
  "kernelspec": {
   "display_name": ".venv",
   "language": "python",
   "name": "python3"
  },
  "language_info": {
   "codemirror_mode": {
    "name": "ipython",
    "version": 3
   },
   "file_extension": ".py",
   "mimetype": "text/x-python",
   "name": "python",
   "nbconvert_exporter": "python",
   "pygments_lexer": "ipython3",
   "version": "3.10.11"
  }
 },
 "nbformat": 4,
 "nbformat_minor": 2
}
