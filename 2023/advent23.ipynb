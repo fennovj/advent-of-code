{
 "cells": [
  {
   "cell_type": "code",
   "execution_count": 191,
   "metadata": {},
   "outputs": [],
   "source": [
    "import advent\n",
    "\n",
    "data = advent.get_char_grid(23, 'txt')"
   ]
  },
  {
   "cell_type": "code",
   "execution_count": 192,
   "metadata": {},
   "outputs": [],
   "source": [
    "def walkable(node: tuple[int, int]) -> bool:\n",
    "    return node[0] >= 0 and node[0] < data.shape[0] and node[1] >= 0 and node[1] < data.shape[1] and data[node] != '#'\n",
    "\n",
    "def adjacent(node: tuple[int, int, int, int]) -> list[tuple[tuple[int, int, int, int], int]]:\n",
    "    # To prevent stepping back and forth, a node is 4 numbers: current and last\n",
    "    px, py, x, y = node\n",
    "    result: list[tuple[tuple[int, int, int, int], int]] = []\n",
    "    if walkable((x-1, y)) and data[x-1, y] != 'v' and (x-1, y) != (px, py): result.append(((x, y, x-1, y), -1))\n",
    "    if walkable((x+1, y)) and data[x+1, y] != '^' and (x+1, y) != (px, py): result.append(((x, y, x+1, y), -1))\n",
    "    if walkable((x, y-1)) and data[x, y-1] != '>' and (x, y-1) != (px, py): result.append(((x, y, x, y-1), -1))\n",
    "    if walkable((x, y+1)) and data[x, y+1] != '<' and (x, y+1) != (px, py): result.append(((x, y, x, y+1), -1))\n",
    "    return result"
   ]
  },
  {
   "cell_type": "code",
   "execution_count": 193,
   "metadata": {},
   "outputs": [],
   "source": [
    "# Unfortunately, cannot do this with dijkstra/heapq\n",
    "# It can be done similarly to dijkstra, by just brute forcing it\n",
    "# that is, remove all the optimizations and reasons why dijkstra is fast\n",
    "from typing import Any, Callable\n",
    "from tqdm.notebook import tqdm\n",
    "\n",
    "Node = Any\n",
    "\n",
    "def solve_maze(start: Node, adjacent: Callable[[Node], list[tuple[Node, int]]]):\n",
    "    global longest\n",
    "    longest = 0\n",
    "    f: list[tuple[int, Node]]= [(0, start)] # [(g, n)]\n",
    "    open: dict[Node, int] = {} # track longest routes so far\n",
    "    # We have no closed because we are not doing dijkstra\n",
    "    while f:\n",
    "        current_g, current_n = f.pop(0)\n",
    "        for adj, adj_g in adjacent(current_n):\n",
    "            new_g = current_g + adj_g\n",
    "            # Only add the adjacent node if we don't already have a longer path found\n",
    "            if adj not in open or open[adj] > new_g:\n",
    "                # We found a new longest route\n",
    "                f.append((new_g, adj))\n",
    "                open[adj] = new_g\n",
    "    return open"
   ]
  },
  {
   "cell_type": "code",
   "execution_count": 194,
   "metadata": {},
   "outputs": [
    {
     "name": "stdout",
     "output_type": "stream",
     "text": [
      "2386\n"
     ]
    }
   ],
   "source": [
    "# Part 1. we just brute force it, keep track of the previous node\n",
    "# to prevent stepping back-and-forth in place\n",
    "\n",
    "start = (0, 0, 0, 1)\n",
    "open = solve_maze(start, adjacent)\n",
    "for x in open:\n",
    "    if x[2] == data.shape[0]-1: # The ending node\n",
    "        print(open[x] * -1)"
   ]
  },
  {
   "cell_type": "code",
   "execution_count": 144,
   "metadata": {},
   "outputs": [],
   "source": [
    "# Part 2, attempt 1\n",
    "# Again brute force, but instead of only the previous,\n",
    "# We also keep a list of intersections we've visited\n",
    "# unfortunately, doesn't work fast enough\n",
    "\n",
    "# Path is the previous, as well as a list of intersections\n",
    "Point = tuple[int, int]\n",
    "Path = tuple[Point, Point, frozenset[Point]]\n",
    "\n",
    "# The problem with doing a 'naive approach' where you just store the entire\n",
    "# path and check if the node is in the path: its too slow :(\n",
    "# Instead, let's only store the intersections\n",
    "\n",
    "def is_intersection(x: int, y:int):\n",
    "    if x == 0 or x == data.shape[0] - 1: return True\n",
    "    return ((data[x-1, y] == '#') + \\\n",
    "            (data[x+1, y] == '#') + \\\n",
    "            (data[x, y-1] == '#') + \\\n",
    "            (data[x, y+1] == '#')) < 2\n",
    "\n",
    "# Add x, y to node to create a new Node. Assume x, y is walkable\n",
    "# If x, y is an already visited intersection, return None\n",
    "def create_new_node(node: Path, x: int, y: int, prev: Point) -> Path|None:\n",
    "    if is_intersection(x, y):\n",
    "        if (x, y) in node[2]: return None\n",
    "        new_set = node[2].union([(x, y)])\n",
    "        return (prev, (x, y), new_set)\n",
    "    else: return (prev, (x, y), node[2])\n",
    "\n",
    "def adjacent_path(node: Path) -> list[tuple[Path, int]]:\n",
    "    x, y = node[1]\n",
    "    result: list[tuple[Path, int]] = []\n",
    "    if walkable((x-1, y)) and (x-1, y) != node[0]:\n",
    "        newnode = create_new_node(node, x-1, y, (x, y))\n",
    "        if newnode: result.append((newnode, -1))\n",
    "    if walkable((x+1, y)) and (x+1, y) != node[0]:\n",
    "        newnode = create_new_node(node, x+1, y, (x, y))\n",
    "        if newnode: result.append((newnode, -1))\n",
    "    if walkable((x, y-1)) and (x, y-1) != node[0]:\n",
    "        newnode = create_new_node(node, x, y-1, (x, y))\n",
    "        if newnode: result.append((newnode, -1))\n",
    "    if walkable((x, y+1)) and (x, y+1) != node[0]:\n",
    "        newnode = create_new_node(node, x, y+1, (x, y))\n",
    "        if newnode: result.append((newnode, -1))\n",
    "    return result\n",
    "\n",
    "start: Path = ((0, 1), (0, 1), frozenset([(0, 1)]))\n",
    "open = solve_maze(start, adjacent_path)"
   ]
  },
  {
   "cell_type": "code",
   "execution_count": 145,
   "metadata": {},
   "outputs": [
    {
     "data": {
      "text/plain": [
       "[(((5, 7), frozenset({(5, 7)})), -19)]"
      ]
     },
     "execution_count": 145,
     "metadata": {},
     "output_type": "execute_result"
    }
   ],
   "source": [
    "# Part 2, attempt 2\n",
    "# Try to 'speed up' by immediately following the path until the next intersection\n",
    "# to prevent redundantly walking the path over and over again\n",
    "# still too slow\n",
    "\n",
    "def tadd(a: tuple[int, int], b: tuple[int, int]):\n",
    "    return a[0] + b[0], a[1] + b[1]\n",
    "\n",
    "def follow_path(point: Point, prev: Point) -> tuple[Point, int]:\n",
    "    # Returns the next intersection and the length of the path\n",
    "    length = 1\n",
    "    while not is_intersection(point[0], point[1]):\n",
    "        length += 1\n",
    "        for dir in [(0, 1), (0, -1), (1, 0), (-1, 0)]:\n",
    "            new = tadd(point, dir)\n",
    "            if new != prev and walkable(new):\n",
    "                prev, point = point, new\n",
    "                break\n",
    "    return point, length\n",
    "\n",
    "# NewPath is just our current location and a set of locations we've visited before\n",
    "# every point we visit is an intersection, to save processing time\n",
    "NewPath = tuple[Point, frozenset[Point]]\n",
    "\n",
    "def adjacent_follow(node: NewPath):\n",
    "    result: list[tuple[NewPath, int]] = []\n",
    "    for dir in [(0, 1), (0, -1), (1, 0), (-1, 0)]:\n",
    "        point = tadd(node[0], dir)\n",
    "        if walkable(point):\n",
    "            newpoint, cost = follow_path(point, node[0])\n",
    "            if newpoint not in node[1]:\n",
    "                newnode = (newpoint, node[1].union([newpoint]))\n",
    "                result.append((newnode, -1 * cost))\n",
    "    return result\n",
    "\n",
    "start: NewPath = ((0, 1), frozenset([(0, 1)]))\n",
    "# too slow\n",
    "#open = solve_maze(start, adjacent_follow)"
   ]
  },
  {
   "cell_type": "code",
   "execution_count": 184,
   "metadata": {},
   "outputs": [],
   "source": [
    "# Part 2, attempt 3\n",
    "\n",
    "# I counted there were about 34 intersections, so I try to form a graph with 34 elements\n",
    "# This is basically the same maze algo as attempt 1 and 2 but with even more precomputation\n",
    "\n",
    "nodes: list[Point] = [(0, 1)]\n",
    "f: list[Point] = [(0, 1)]\n",
    "adjacents: dict[Point, list[tuple[Point, int]]] = {}\n",
    "edges: dict[tuple[Point, Point], int] = {}\n",
    "\n",
    "while len(f) > 0:\n",
    "    node = f.pop()\n",
    "    new_adjacents: list[tuple[Point, int]] = []\n",
    "    for dir in [(0, 1), (0, -1), (1, 0), (-1, 0)]:\n",
    "        point = tadd(node, dir)\n",
    "        if walkable(point):\n",
    "            newpoint, cost = follow_path(point, node)\n",
    "            if newpoint not in nodes: # We dont have it yet, add it\n",
    "                nodes.append(newpoint)\n",
    "                f.append(newpoint)\n",
    "            new_adjacents.append((newpoint, -1 * cost))\n",
    "            edges[(node, newpoint)] = -1 * cost\n",
    "    adjacents[node] = new_adjacents\n",
    "\n",
    "def adjacent_graph(node: NewPath) -> list[tuple[NewPath, int]]:\n",
    "    next =  adjacents[node[0]]\n",
    "    result: list[tuple[NewPath, int]] = []\n",
    "    for n, score in next:\n",
    "        if n in node[1]: continue\n",
    "        result.append(((n, node[1].union([n])), score))\n",
    "    return result\n",
    "\n",
    "start: NewPath = ((0, 1), frozenset([(0, 1)]))\n",
    "# But still too slow\n",
    "#open = solve_maze(start, adjacent_graph)"
   ]
  },
  {
   "cell_type": "code",
   "execution_count": 204,
   "metadata": {},
   "outputs": [
    {
     "data": {
      "text/plain": [
       "-6246"
      ]
     },
     "execution_count": 204,
     "metadata": {},
     "output_type": "execute_result"
    }
   ],
   "source": [
    "# Part 2, attempt 4\n",
    "# Try dynamic programming\n",
    "from functools import cache\n",
    "\n",
    "# name is dumb, we are actually finding the shortest since weights are negative\n",
    "@cache\n",
    "def find_longest_path(start: Point=(0, 1), end: Point=(140, 139), visited: frozenset[Point] = frozenset([])):\n",
    "    if start == end: return 0\n",
    "    subresults: list[int] = []\n",
    "    for adj, cost in adjacents[start]:\n",
    "        if adj in visited: continue\n",
    "        new_visited = visited.union([adj])\n",
    "        subresults.append(cost + find_longest_path(adj, end, new_visited))\n",
    "    if len(subresults) == 0: return 1_000_000_000 # large number so it will never be longest\n",
    "    return min(subresults)\n",
    "\n",
    "find_longest_path()\n",
    "# Didn't think that would work (since there's no progress bar) but it just finished after 75 seconds!"
   ]
  }
 ],
 "metadata": {
  "kernelspec": {
   "display_name": ".venv",
   "language": "python",
   "name": "python3"
  },
  "language_info": {
   "codemirror_mode": {
    "name": "ipython",
    "version": 3
   },
   "file_extension": ".py",
   "mimetype": "text/x-python",
   "name": "python",
   "nbconvert_exporter": "python",
   "pygments_lexer": "ipython3",
   "version": "3.10.11"
  }
 },
 "nbformat": 4,
 "nbformat_minor": 2
}
