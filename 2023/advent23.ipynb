{
 "cells": [
  {
   "cell_type": "code",
   "execution_count": 76,
   "metadata": {},
   "outputs": [],
   "source": [
    "import advent\n",
    "\n",
    "data = advent.get_char_grid(23, 'txt')"
   ]
  },
  {
   "cell_type": "code",
   "execution_count": 77,
   "metadata": {},
   "outputs": [],
   "source": [
    "def walkable(node: tuple[int, int]) -> bool:\n",
    "    return node[0] >= 0 and node[0] < data.shape[0] and node[1] >= 0 and node[1] < data.shape[1] and data[node] != '#'\n",
    "\n",
    "def adjacent(node: tuple[int, int, int, int]) -> list[tuple[tuple[int, int, int, int], int]]:\n",
    "    # To prevent stepping back and forth, a node is 4 numbers: current and last\n",
    "    px, py, x, y = node\n",
    "    result: list[tuple[tuple[int, int, int, int], int]] = []\n",
    "    if walkable((x-1, y)) and data[x-1, y] != 'v' and (x-1, y) != (px, py): result.append(((x, y, x-1, y), -1))\n",
    "    if walkable((x+1, y)) and data[x+1, y] != '^' and (x+1, y) != (px, py): result.append(((x, y, x+1, y), -1))\n",
    "    if walkable((x, y-1)) and data[x, y-1] != '>' and (x, y-1) != (px, py): result.append(((x, y, x, y-1), -1))\n",
    "    if walkable((x, y+1)) and data[x, y+1] != '<' and (x, y+1) != (px, py): result.append(((x, y, x, y+1), -1))\n",
    "    return result"
   ]
  },
  {
   "cell_type": "code",
   "execution_count": 78,
   "metadata": {},
   "outputs": [],
   "source": [
    "# Unfortunately, cannot do this with dijkstra/heapq\n",
    "# It can be done similarly to dijkstra, by just brute forcing it\n",
    "# that is, remove all the optimizations and reasons why dijkstra is fast\n",
    "from typing import Any, Callable\n",
    "from tqdm.notebook import tqdm\n",
    "\n",
    "Node = Any\n",
    "\n",
    "def solve_maze(start: Node, adjacent: Callable[[Node], list[tuple[Node, int]]]):\n",
    "    f: list[tuple[int, Node]]= [(0, start)] # [(g, n)]\n",
    "    open: dict[Node, int] = {} # track longest routes so far\n",
    "    open_parents: dict[Node, Node] = {start: start}\n",
    "    # We have no closed because we are not doing dijkstra\n",
    "\n",
    "    progress = 0\n",
    "    with tqdm(total=data.shape[0] ** 2) as pbar:\n",
    "        while f:\n",
    "            current_g, current_n = f.pop(0)\n",
    "            for adj, adj_g in adjacent(current_n):\n",
    "                new_g = current_g + adj_g\n",
    "                if adj not in open or open[adj] > new_g:\n",
    "                    # We found a new longest route\n",
    "                    f.append((new_g, adj))\n",
    "                    open[adj] = new_g\n",
    "                    open_parents[adj] = current_n\n",
    "\n",
    "            progress_tmp = len(open)\n",
    "            #print(progress_tmp)\n",
    "            if progress_tmp > progress: \n",
    "                pbar.update(progress_tmp - progress)  # noqa\n",
    "                progress = progress_tmp\n",
    "        \n",
    "    return open, open_parents\n",
    "\n"
   ]
  },
  {
   "cell_type": "code",
   "execution_count": 79,
   "metadata": {},
   "outputs": [
    {
     "data": {
      "application/vnd.jupyter.widget-view+json": {
       "model_id": "c1c9c76b017c402e9b92e040286ce828",
       "version_major": 2,
       "version_minor": 0
      },
      "text/plain": [
       "  0%|          | 0/19881 [00:00<?, ?it/s]"
      ]
     },
     "metadata": {},
     "output_type": "display_data"
    },
    {
     "name": "stdout",
     "output_type": "stream",
     "text": [
      "2386\n"
     ]
    }
   ],
   "source": [
    "\n",
    "start = (0, 0, 0, 1)\n",
    "open, open_parents = solve_maze(start, adjacent)\n",
    "for x in open:\n",
    "    if x[2] == data.shape[0]-1: # The ending node\n",
    "        print(open[x] * -1)"
   ]
  },
  {
   "cell_type": "code",
   "execution_count": 80,
   "metadata": {},
   "outputs": [],
   "source": [
    "# Path is the previous, as well as a list of intersections\n",
    "Point = tuple[int, int]\n",
    "Path = tuple[Point, Point, tuple[Point, ...]]\n",
    "\n",
    "# The problem with doing a 'naive approach' where you just store the entire\n",
    "# path and check if the node is in the path: its too slow :(\n",
    "# Instead, let's only store the intersections\n",
    "\n",
    "def is_intersection(x: int, y:int):\n",
    "    if x == 0 or x == data.shape[0] - 1: return True\n",
    "    return ((data[x-1, y] == '#') + \\\n",
    "            (data[x+1, y] == '#') + \\\n",
    "            (data[x, y-1] == '#') + \\\n",
    "            (data[x, y+1] == '#')) < 2\n",
    "\n",
    "# Add x, y to node to create a new Node. Assume x, y is walkable\n",
    "# If x, y is an already visited intersection, return None\n",
    "def create_new_node(node: Path, x: int, y: int, prev: Point) -> Path|None:\n",
    "    if is_intersection(x, y):\n",
    "        if (x, y) in node[2]: return None\n",
    "        return (prev, (x, y), (*node[2], (x, y)))\n",
    "    else: return (prev, (x, y), node[2])\n",
    "\n",
    "def adjacent_path(node: Path) -> list[tuple[Path, int]]:\n",
    "    x, y = node[1]\n",
    "    result: list[tuple[Path, int]] = []\n",
    "    if walkable((x-1, y)) and (x-1, y) != node[0]:\n",
    "        newnode = create_new_node(node, x-1, y, (x, y))\n",
    "        if newnode: result.append((newnode, -1))\n",
    "    if walkable((x+1, y)) and (x+1, y) != node[0]:\n",
    "        newnode = create_new_node(node, x+1, y, (x, y))\n",
    "        if newnode: result.append((newnode, -1))\n",
    "    if walkable((x, y-1)) and (x, y-1) != node[0]:\n",
    "        newnode = create_new_node(node, x, y-1, (x, y))\n",
    "        if newnode: result.append((newnode, -1))\n",
    "    if walkable((x, y+1)) and (x, y+1) != node[0]:\n",
    "        newnode = create_new_node(node, x, y+1, (x, y))\n",
    "        if newnode: result.append((newnode, -1))\n",
    "    return result"
   ]
  },
  {
   "cell_type": "code",
   "execution_count": 81,
   "metadata": {},
   "outputs": [
    {
     "data": {
      "application/vnd.jupyter.widget-view+json": {
       "model_id": "25534e74c20a4169880f9c9bd8e69c7b",
       "version_major": 2,
       "version_minor": 0
      },
      "text/plain": [
       "  0%|          | 0/19881 [00:00<?, ?it/s]"
      ]
     },
     "metadata": {},
     "output_type": "display_data"
    },
    {
     "ename": "KeyboardInterrupt",
     "evalue": "",
     "output_type": "error",
     "traceback": [
      "\u001b[0;31m---------------------------------------------------------------------------\u001b[0m",
      "\u001b[0;31mKeyboardInterrupt\u001b[0m                         Traceback (most recent call last)",
      "Cell \u001b[0;32mIn[81], line 2\u001b[0m\n\u001b[1;32m      1\u001b[0m start \u001b[38;5;241m=\u001b[39m ((\u001b[38;5;241m0\u001b[39m, \u001b[38;5;241m1\u001b[39m), (\u001b[38;5;241m0\u001b[39m, \u001b[38;5;241m1\u001b[39m), ((\u001b[38;5;241m0\u001b[39m, \u001b[38;5;241m1\u001b[39m),))\n\u001b[0;32m----> 2\u001b[0m \u001b[38;5;28mopen\u001b[39m, _ \u001b[38;5;241m=\u001b[39m \u001b[43msolve_maze\u001b[49m\u001b[43m(\u001b[49m\u001b[43mstart\u001b[49m\u001b[43m,\u001b[49m\u001b[43m \u001b[49m\u001b[43madjacent_path\u001b[49m\u001b[43m)\u001b[49m\n\u001b[1;32m      3\u001b[0m longest \u001b[38;5;241m=\u001b[39m \u001b[38;5;241m0\u001b[39m\n\u001b[1;32m      4\u001b[0m \u001b[38;5;28;01mfor\u001b[39;00m x \u001b[38;5;129;01min\u001b[39;00m \u001b[38;5;28mopen\u001b[39m:\n",
      "Cell \u001b[0;32mIn[78], line 18\u001b[0m, in \u001b[0;36msolve_maze\u001b[0;34m(start, adjacent)\u001b[0m\n\u001b[1;32m     16\u001b[0m \u001b[38;5;28;01mwith\u001b[39;00m tqdm(total\u001b[38;5;241m=\u001b[39mdata\u001b[38;5;241m.\u001b[39mshape[\u001b[38;5;241m0\u001b[39m] \u001b[38;5;241m*\u001b[39m\u001b[38;5;241m*\u001b[39m \u001b[38;5;241m2\u001b[39m) \u001b[38;5;28;01mas\u001b[39;00m pbar:\n\u001b[1;32m     17\u001b[0m     \u001b[38;5;28;01mwhile\u001b[39;00m f:\n\u001b[0;32m---> 18\u001b[0m         current_g, current_n \u001b[38;5;241m=\u001b[39m \u001b[43mf\u001b[49m\u001b[38;5;241;43m.\u001b[39;49m\u001b[43mpop\u001b[49m\u001b[43m(\u001b[49m\u001b[38;5;241;43m0\u001b[39;49m\u001b[43m)\u001b[49m\n\u001b[1;32m     19\u001b[0m         \u001b[38;5;28;01mfor\u001b[39;00m adj, adj_g \u001b[38;5;129;01min\u001b[39;00m adjacent(current_n):\n\u001b[1;32m     20\u001b[0m             new_g \u001b[38;5;241m=\u001b[39m current_g \u001b[38;5;241m+\u001b[39m adj_g\n",
      "\u001b[0;31mKeyboardInterrupt\u001b[0m: "
     ]
    }
   ],
   "source": [
    "start = ((0, 1), (0, 1), ((0, 1),))\n",
    "open, _ = solve_maze(start, adjacent_path)\n",
    "longest = 0\n",
    "for x in open:\n",
    "    if x[1][0] == data.shape[0]-1: # The ending node\n",
    "        if open[x] < longest:\n",
    "            longest = open[x]\n",
    "print(-1 * longest)"
   ]
  },
  {
   "cell_type": "code",
   "execution_count": null,
   "metadata": {},
   "outputs": [],
   "source": []
  }
 ],
 "metadata": {
  "kernelspec": {
   "display_name": ".venv",
   "language": "python",
   "name": "python3"
  },
  "language_info": {
   "codemirror_mode": {
    "name": "ipython",
    "version": 3
   },
   "file_extension": ".py",
   "mimetype": "text/x-python",
   "name": "python",
   "nbconvert_exporter": "python",
   "pygments_lexer": "ipython3",
   "version": "3.10.11"
  }
 },
 "nbformat": 4,
 "nbformat_minor": 2
}
