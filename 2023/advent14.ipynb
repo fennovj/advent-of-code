{
 "cells": [
  {
   "cell_type": "code",
   "execution_count": 4,
   "metadata": {},
   "outputs": [],
   "source": [
    "import advent\n",
    "\n",
    "def process(char):\n",
    "    return {'.': 0, 'O': 1, '#': 2}[char]\n",
    "\n",
    "data = advent.get_char_grid(14, 'txt', process)\n"
   ]
  },
  {
   "cell_type": "code",
   "execution_count": 5,
   "metadata": {},
   "outputs": [
    {
     "data": {
      "text/plain": [
       "108840"
      ]
     },
     "execution_count": 5,
     "metadata": {},
     "output_type": "execute_result"
    }
   ],
   "source": [
    "import scipy\n",
    "import numpy as np\n",
    "\n",
    "dirdict = {\n",
    "    'NORTH': (1, 7),\n",
    "    'SOUTH': (7, 1),\n",
    "    'WEST': (3, 5),\n",
    "    'EAST': (5, 3)\n",
    "}\n",
    "\n",
    "def fall(filter: list[int], direction: str='NORTH'):\n",
    "    # input is list with 9 elements that looks like:\n",
    "    # 0 1 2\n",
    "    # 3 4 5\n",
    "    # 6 7 8\n",
    "    # We return the content of cell 4 after a step\n",
    "\n",
    "    # NOTE: this is a half step. E.g.\n",
    "    # OOO. would be processed as OOO.->OO.O->O.OO->.OOO\n",
    "\n",
    "    # NOTE: the 'direction' variable was added in part 2, before that it was just NORTH\n",
    "    match filter[4]:\n",
    "        case 0:\n",
    "            if filter[dirdict[direction][1]] == 1: return 1 # O falls up\n",
    "            else: return 0 # Nothing to fall\n",
    "        case 1:\n",
    "            if filter[dirdict[direction][0]] == 0: return 0 # O falls up\n",
    "            else: return 1 # O stays still\n",
    "        case 2: return 2 # # stays still\n",
    "        case _: raise ValueError(\"incorrect filter value\")\n",
    "\n",
    "def full_fall(grid, direction: str='NORTH'):\n",
    "    previous_hash, hash = 0, 1\n",
    "\n",
    "    _fall = lambda f: fall(f, direction)\n",
    "\n",
    "    while previous_hash != hash:\n",
    "        # VERY IMPORTANT! we need the cval to be 2 (#) so the O dont fall out the bottom\n",
    "        grid = scipy.ndimage.generic_filter(grid, _fall, (3, 3), mode='constant', cval=2)\n",
    "        # Amazing 'hashing' function, found on stackoverflow\n",
    "        previous_hash, hash = hash, grid.data.tobytes()\n",
    "    return grid\n",
    "\n",
    "\n",
    "def score(grid):\n",
    "    # flip the grid so the stones are at the bottom\n",
    "    rows = np.where(np.flip(grid, 0) == 1)[0]\n",
    "    # This assignment starts counting rows at 1\n",
    "    return sum(row + 1 for row in rows)\n",
    "\n",
    "score(full_fall(data.copy()))"
   ]
  },
  {
   "cell_type": "code",
   "execution_count": 9,
   "metadata": {},
   "outputs": [
    {
     "name": "stderr",
     "output_type": "stream",
     "text": [
      "17020it [01:24, 200.37it/s]                       \n"
     ]
    }
   ],
   "source": [
    "# Part 2 approach: cycle detection baby!\n",
    "from tqdm import tqdm\n",
    "\n",
    "def step(grid):\n",
    "    grid = full_fall(grid, 'NORTH')\n",
    "    grid = full_fall(grid, 'WEST')\n",
    "    grid = full_fall(grid, 'SOUTH')\n",
    "    grid = full_fall(grid, 'EAST')\n",
    "    return grid\n",
    "\n",
    "def n_steps(grid, n: int):\n",
    "    for _ in range(n): grid = step(grid)\n",
    "    return grid\n",
    "\n",
    "steps = 0\n",
    "grid = data.copy()\n",
    "cache = {grid.data.tobytes(): 0}\n",
    "with tqdm(total = 1000) as pbar:\n",
    "    while True:\n",
    "        grid = step(grid)\n",
    "        steps += 1\n",
    "        hash = grid.data.tobytes()\n",
    "        if hash in cache: break\n",
    "        cache[hash] = steps\n",
    "        pbar.update(steps)"
   ]
  },
  {
   "cell_type": "code",
   "execution_count": 25,
   "metadata": {},
   "outputs": [
    {
     "name": "stdout",
     "output_type": "stream",
     "text": [
      "126 59 24 150\n"
     ]
    },
    {
     "data": {
      "text/plain": [
       "103445"
      ]
     },
     "execution_count": 25,
     "metadata": {},
     "output_type": "execute_result"
    }
   ],
   "source": [
    "# We now have a cycle:\n",
    "cycle_length = steps - cache[hash]\n",
    "cycle_start = cache[hash]\n",
    "cycle_end = (1_000_000_000 - cycle_start) % cycle_length\n",
    "solution_val = cycle_start + cycle_end\n",
    "print(cycle_start, cycle_length, (1_000_000_000 - cycle_start) % cycle_length, solution_val)\n",
    "\n",
    "# Get the grid from the cache again, and turn the bytes back into a grid\n",
    "# (this is why you dont use hashes when you can use the data itself as a hash :)\n",
    "solution_bytes = [c for c in cache if cache[c] == solution_val][0]\n",
    "grid_reformed = np.frombuffer(solution_bytes, dtype=grid.dtype, like=grid).reshape(grid.shape)\n",
    "\n",
    "score(grid_reformed)"
   ]
  }
 ],
 "metadata": {
  "kernelspec": {
   "display_name": ".venv",
   "language": "python",
   "name": "python3"
  },
  "language_info": {
   "codemirror_mode": {
    "name": "ipython",
    "version": 3
   },
   "file_extension": ".py",
   "mimetype": "text/x-python",
   "name": "python",
   "nbconvert_exporter": "python",
   "pygments_lexer": "ipython3",
   "version": "3.10.11"
  }
 },
 "nbformat": 4,
 "nbformat_minor": 2
}
