{
 "cells": [
  {
   "cell_type": "code",
   "execution_count": 25,
   "metadata": {},
   "outputs": [],
   "source": [
    "import advent\n",
    "from typing import Literal\n",
    "data = advent.get_char_grid(17, 'csv', int)\n",
    "SIZE = data.shape\n"
   ]
  },
  {
   "cell_type": "code",
   "execution_count": 26,
   "metadata": {},
   "outputs": [],
   "source": [
    "# Maze time! I will use my pre-made dijkstra algorithm\n",
    "# This requires an 'adjacent' function:\n",
    "\n",
    "DIRECTION = Literal[\"north\", \"west\", \"east\", \"south\"]\n",
    "TRAVEL = int # for part 1 can only be 0, 1, 2, 3, for part 2 can be up to 10\n",
    "NODE = tuple[tuple[int, int], TRAVEL, DIRECTION]\n",
    "ALL_DIRECTIONS: list[DIRECTION] = [\"north\", \"west\", \"east\", \"south\"]\n",
    "reverse: dict[DIRECTION, DIRECTION] = {'north': 'south', 'west': 'east', 'south': 'north', 'east': 'west'}\n",
    "\n",
    "def is_target(node: NODE):\n",
    "    return node[0] == (SIZE[0]-1, SIZE[1]-1)\n",
    "\n",
    "def walkable(coord: tuple[int, int]):\n",
    "    return coord[0] >= 0 and coord[1] >= 0 \\\n",
    "        and coord[0] < SIZE[0] and coord[1] < SIZE[1]\n",
    "\n",
    "def tadd(a: tuple[int, int], b: tuple[int, int]):\n",
    "    return a[0] + b[0], a[1] + b[1]\n",
    "\n",
    "def step(coord: tuple[int, int], direction: DIRECTION) -> tuple[int, int]:\n",
    "    match direction:\n",
    "        case 'north': return tadd(coord, (-1, 0))\n",
    "        case 'east': return tadd(coord, (0, 1))\n",
    "        case 'west': return tadd(coord, (0, -1))\n",
    "        case 'south': return tadd(coord, (1, 0))\n",
    "\n",
    "def allowed_directions_part1(node: NODE) -> list[DIRECTION]:\n",
    "    _, travel, direction = node\n",
    "    allowed_directions = ALL_DIRECTIONS.copy()\n",
    "    allowed_directions.remove(reverse[direction])\n",
    "    if travel == 3: allowed_directions.remove(direction)\n",
    "    return allowed_directions\n",
    "\n",
    "def allowed_directions_part2(node: NODE) -> list[DIRECTION]:\n",
    "    _, travel, direction = node\n",
    "    # REALLY ANNOYING HACKY EDGECASE. this only comes up during the start node\n",
    "    if travel == 0: return ['east', 'south']\n",
    "    # Minimum travel distance\n",
    "    if travel < 4: return [direction]\n",
    "    allowed_directions = ALL_DIRECTIONS.copy()\n",
    "    allowed_directions.remove(reverse[direction])\n",
    "    if travel == 10: allowed_directions.remove(direction)\n",
    "    return allowed_directions\n",
    "\n",
    "# Maze representation: each 'node' consists of a:\n",
    "# - coordinate (x, y)\n",
    "# - how long we've been traveling in this direction\n",
    "# - the direction we've been traveling in\n",
    "# logic:\n",
    "# if TRAVEL is 3, we MUST change direction\n",
    "# whenever you change direction, TRAVEL goes to 1\n",
    "# DIRECTION must never reverse 180 degrees (e.g. west->east is not allowed)\n",
    "# SIZE is a global variable containing grid size\n",
    "def adjacent(node: NODE, part1=True) -> list[tuple[NODE, int]]:\n",
    "    coord, travel, direction = node\n",
    "\n",
    "    if part1:\n",
    "        allowed_directions = allowed_directions_part1(node)\n",
    "    else:\n",
    "        allowed_directions = allowed_directions_part2(node)\n",
    "\n",
    "    adjacent: list[tuple[NODE, int]] = []\n",
    "    for new_direction in allowed_directions:\n",
    "        new_coord = step(coord, new_direction)\n",
    "        if not walkable(new_coord): continue\n",
    "        cost = data[new_coord]\n",
    "        new_travel = travel + 1 if new_direction == direction else 1\n",
    "        node: NODE = (new_coord, new_travel, new_direction)\n",
    "        adjacent.append((node, cost))\n",
    "    return adjacent\n",
    "\n"
   ]
  },
  {
   "cell_type": "code",
   "execution_count": 23,
   "metadata": {},
   "outputs": [
    {
     "data": {
      "application/vnd.jupyter.widget-view+json": {
       "model_id": "4bdb235763b443fb928e0d10ddf8e7ae",
       "version_major": 2,
       "version_minor": 0
      },
      "text/plain": [
       "  0%|          | 0/1 [00:00<?, ?it/s]"
      ]
     },
     "metadata": {},
     "output_type": "display_data"
    },
    {
     "name": "stdout",
     "output_type": "stream",
     "text": [
      "Final path length: 1138\n"
     ]
    }
   ],
   "source": [
    "from advent.maze import solve_maze\n",
    "\n",
    "# In the beginning, set travel to 0 so we can still set 3 steps east\n",
    "start_node: NODE = ((0, 0), 0, 'east')\n",
    "total_nodes = SIZE[0] * SIZE[1] * 3 * 4 # 3 travel values, 4 directions\n",
    "# runtime: 1 minute\n",
    "result = solve_maze(start_node, is_target, adjacent, None, total_nodes)"
   ]
  },
  {
   "cell_type": "code",
   "execution_count": 27,
   "metadata": {},
   "outputs": [
    {
     "data": {
      "application/vnd.jupyter.widget-view+json": {
       "model_id": "63f73af1f365485682ac9ccd1b7cd251",
       "version_major": 2,
       "version_minor": 0
      },
      "text/plain": [
       "  0%|          | 0/1 [00:00<?, ?it/s]"
      ]
     },
     "metadata": {},
     "output_type": "display_data"
    },
    {
     "name": "stdout",
     "output_type": "stream",
     "text": [
      "Final path length: 1312\n"
     ]
    }
   ],
   "source": [
    "def part2_is_target(node: NODE):\n",
    "    return node[0] == (SIZE[0]-1, SIZE[1]-1) and node[1] >= 4\n",
    "part2_adjacent = lambda node: adjacent(node, False)\n",
    "\n",
    "start_node: NODE = ((0, 0), 0, 'east')\n",
    "total_nodes = SIZE[0] * SIZE[1] * 10 * 4 # 10 travel values, 4 directions\n",
    "# runtime: 10 minutes\n",
    "result = solve_maze(start_node, part2_is_target, part2_adjacent, None, total_nodes)"
   ]
  }
 ],
 "metadata": {
  "kernelspec": {
   "display_name": ".venv",
   "language": "python",
   "name": "python3"
  },
  "language_info": {
   "codemirror_mode": {
    "name": "ipython",
    "version": 3
   },
   "file_extension": ".py",
   "mimetype": "text/x-python",
   "name": "python",
   "nbconvert_exporter": "python",
   "pygments_lexer": "ipython3",
   "version": "3.10.11"
  }
 },
 "nbformat": 4,
 "nbformat_minor": 2
}
