{
 "cells": [
  {
   "cell_type": "code",
   "execution_count": 40,
   "metadata": {},
   "outputs": [],
   "source": [
    "import advent\n",
    "\n",
    "maps = advent.get_lines_doublenewline(5)\n"
   ]
  },
  {
   "cell_type": "code",
   "execution_count": 41,
   "metadata": {},
   "outputs": [
    {
     "name": "stdout",
     "output_type": "stream",
     "text": [
      "51\n"
     ]
    }
   ],
   "source": [
    "def is_in_range(range: list[int], num: int):\n",
    "    # range looks like \"x y z\"\n",
    "    _, source, length = range\n",
    "    return num >= int(source) and num < (int(source) + int(length))\n",
    "\n",
    "def apply_range(range: list[int], num: int):\n",
    "    # ASSUMES ITS IN RANGE!\n",
    "    dest, source, _ = range\n",
    "    return num + int(dest) - int(source)\n",
    "\n",
    "def apply_map(map: list[str], num: int):\n",
    "    # assume map[0] is just a string, ignore it\n",
    "    for range in map[1:]:\n",
    "        range = [int(foo) for foo in range.split(\" \")]\n",
    "        if is_in_range(range, num): return apply_range(range, num)\n",
    "    return num\n",
    "\n",
    "print(apply_map(['seed-to-soil map:', '50 98 2', '52 50 48'], 99))\n",
    "# should be 51"
   ]
  },
  {
   "cell_type": "code",
   "execution_count": 42,
   "metadata": {},
   "outputs": [
    {
     "name": "stdout",
     "output_type": "stream",
     "text": [
      "178159714\n"
     ]
    }
   ],
   "source": [
    "def apply_all_maps(data: list[list[str]], num: int):\n",
    "    for map in data[1:]:\n",
    "        num = apply_map(map, num)\n",
    "    return num\n",
    "\n",
    "nums = maps[0][0].split(\": \")[1].split(\" \")\n",
    "\n",
    "results = [apply_all_maps(maps, int(num)) for num in nums]\n",
    "print(min(results))"
   ]
  },
  {
   "cell_type": "code",
   "execution_count": 43,
   "metadata": {},
   "outputs": [],
   "source": [
    "# part 2 idea:\n",
    "# lets say we finished calculating 100, and the result was 42 (whatever)\n",
    "# now 101 will logically be mapped to 43, meaning we don't need to even calculate it\n",
    "# unless, 101 is in a new range, e.g. the first map was \"20 99 2\" (meaning 101 will be mapped somewhere else)\n",
    "# to calculate when the next 'new range' begins, we calculate the headroom during each step\n",
    "# e.g. the headroom during the first map was 20 and during the second map was 10, we can skip to 110 right away\n",
    "\n",
    "def apply_range_headroom(range: list[int], num: int):\n",
    "    # also returns headroom. still assumes the num must be in range\n",
    "    dest, source, length = range\n",
    "    result = num + dest - source\n",
    "    headroom = source + length - num\n",
    "    return result, headroom\n",
    "\n",
    "# if the number is not in any range, the 'headroom' is the distance to the next source number\n",
    "def outside_range_headroom(map: list[str], num: int):\n",
    "    sources = [[int(foo) for foo in range.split(\" \")][1] for range in map[1:]]\n",
    "    if num > max(sources): return 2**1000 # basically this map doesnt contribute to headroom\n",
    "    return min(source for source in sources if source > num) - num\n",
    "\n",
    "def apply_map_headroom(map: list[str], num: int):\n",
    "    # assume map[0] is just a string, ignore it\n",
    "    for range in map[1:]:\n",
    "        range = [int(foo) for foo in range.split(\" \")]\n",
    "        if is_in_range(range, num): return apply_range_headroom(range, num)\n",
    "    return num, outside_range_headroom(map, num)\n",
    "\n",
    "assert apply_range_headroom([20, 100, 10], 105) == (25, 5)\n",
    "assert outside_range_headroom(['name', '10 20 30', '20 8 0'], 5) == 3"
   ]
  },
  {
   "cell_type": "code",
   "execution_count": 44,
   "metadata": {},
   "outputs": [
    {
     "name": "stdout",
     "output_type": "stream",
     "text": [
      "100165128\n"
     ]
    }
   ],
   "source": [
    "def apply_all_maps_headroom(data: list[list[str]], num: int):\n",
    "    headroom: int = 2**1000 # just a random large number to start with\n",
    "    for map in data[1:]:\n",
    "        num, headroom_tmp = apply_map_headroom(map, num)\n",
    "        if headroom_tmp < headroom: headroom = headroom_tmp # final headroom is the minimum of all headrooms\n",
    "    return num, headroom\n",
    "\n",
    "def apply_all_maps_headroom_to_range(data, start, length):\n",
    "    num = start\n",
    "    best_location = 2**1000\n",
    "    while num < (start+length):\n",
    "        location, headroom = apply_all_maps_headroom(data, num)\n",
    "        if location < best_location: best_location = location\n",
    "        num += headroom\n",
    "    return best_location\n",
    "\n",
    "best_location = 2**1000\n",
    "for ix in range(0, len(nums), 2):\n",
    "    start, length = int(nums[ix]), int(nums[ix+1])\n",
    "    location = apply_all_maps_headroom_to_range(maps, start, length)\n",
    "    if location < best_location: best_location = location\n",
    "\n",
    "print(best_location)\n"
   ]
  }
 ],
 "metadata": {
  "kernelspec": {
   "display_name": ".venv",
   "language": "python",
   "name": "python3"
  },
  "language_info": {
   "codemirror_mode": {
    "name": "ipython",
    "version": 3
   },
   "file_extension": ".py",
   "mimetype": "text/x-python",
   "name": "python",
   "nbconvert_exporter": "python",
   "pygments_lexer": "ipython3",
   "version": "3.10.13"
  }
 },
 "nbformat": 4,
 "nbformat_minor": 2
}
