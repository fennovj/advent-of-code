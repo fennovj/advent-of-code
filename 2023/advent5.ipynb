{
 "cells": [
  {
   "cell_type": "code",
   "execution_count": 26,
   "metadata": {},
   "outputs": [],
   "source": [
    "import advent\n",
    "\n",
    "maps = advent.get_lines_doublenewline(5)\n"
   ]
  },
  {
   "cell_type": "code",
   "execution_count": 27,
   "metadata": {},
   "outputs": [
    {
     "name": "stdout",
     "output_type": "stream",
     "text": [
      "51\n"
     ]
    }
   ],
   "source": [
    "def is_in_range(range: str, num: int):\n",
    "    # range looks like \"x y z\"\n",
    "    _, source, length = range.split(\" \")\n",
    "    return num >= int(source) and num < (int(source) + int(length))\n",
    "\n",
    "def apply_range(range: str, num: int):\n",
    "    # ASSUMES ITS IN RANGE!\n",
    "    dest, source, _ = range.split(\" \")\n",
    "    return num + int(dest) - int(source)\n",
    "\n",
    "def apply_map(map: list[str], num: int):\n",
    "    # assume map[0] is just a string, ignore it\n",
    "    for range in map[1:]:\n",
    "        if is_in_range(range, num): return apply_range(range, num)\n",
    "    return num\n",
    "\n",
    "print(apply_map(['seed-to-soil map:', '50 98 2', '52 50 48'], 99))\n",
    "# should be 51"
   ]
  },
  {
   "cell_type": "code",
   "execution_count": 28,
   "metadata": {},
   "outputs": [
    {
     "name": "stdout",
     "output_type": "stream",
     "text": [
      "178159714\n"
     ]
    }
   ],
   "source": [
    "def apply_all_maps(data: list[list[str]], num: int):\n",
    "    for map in data[1:]:\n",
    "        num = apply_map(map, num)\n",
    "    return num\n",
    "\n",
    "nums = maps[0][0].split(\": \")[1].split(\" \")\n",
    "\n",
    "results = [apply_all_maps(maps, int(num)) for num in nums]\n",
    "print(min(results))"
   ]
  },
  {
   "cell_type": "code",
   "execution_count": null,
   "metadata": {},
   "outputs": [],
   "source": []
  }
 ],
 "metadata": {
  "kernelspec": {
   "display_name": ".venv",
   "language": "python",
   "name": "python3"
  },
  "language_info": {
   "codemirror_mode": {
    "name": "ipython",
    "version": 3
   },
   "file_extension": ".py",
   "mimetype": "text/x-python",
   "name": "python",
   "nbconvert_exporter": "python",
   "pygments_lexer": "ipython3",
   "version": "3.10.11"
  }
 },
 "nbformat": 4,
 "nbformat_minor": 2
}
