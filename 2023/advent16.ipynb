{
 "cells": [
  {
   "cell_type": "code",
   "execution_count": 6,
   "metadata": {},
   "outputs": [],
   "source": [
    "import advent\n",
    "\n",
    "data = advent.get_char_grid(16)"
   ]
  },
  {
   "cell_type": "code",
   "execution_count": 9,
   "metadata": {},
   "outputs": [
    {
     "name": "stdout",
     "output_type": "stream",
     "text": [
      "8116\n"
     ]
    }
   ],
   "source": [
    "# Data type of location/direction, representing a single location/visit\n",
    "VISIT = tuple[tuple[int, int], tuple[int, int]]\n",
    "\n",
    "def tadd(a: tuple[int, int], b: tuple[int, int]):\n",
    "    return a[0] + b[0], a[1] + b[1]\n",
    "\n",
    "def steps(grid, current: VISIT, visits: set[VISIT]=set()) -> set[VISIT]:\n",
    "    # Take a step in a direction. the current location is NOT considered at all\n",
    "    # Returns: set of visits that will be visited\n",
    "    new_location = tadd(current[0], current[1])\n",
    "    if new_location[0] < 0 or new_location[0] >= grid.shape[0] or new_location[1] < 0 or new_location[1] >= grid.shape[1]:\n",
    "        return visits # we go out of bounds, so end it here\n",
    "    new_directions: list[tuple[int, int]] = []\n",
    "    match grid[new_location]:\n",
    "        case '.':\n",
    "            new_directions = [current[1]]\n",
    "        case '/':\n",
    "            if current[1] == (0, 1): new_directions = [(-1, 0)]\n",
    "            elif current[1] == (0, -1): new_directions = [(1, 0)]\n",
    "            elif current[1] == (1, 0): new_directions = [(0, -1)]\n",
    "            elif current[1] == (-1, 0): new_directions = [(0, 1)]\n",
    "        case '\\\\':\n",
    "            if current[1] == (0, 1): new_directions = [(1, 0)]\n",
    "            elif current[1] == (0, -1): new_directions = [(-1, 0)]\n",
    "            elif current[1] == (1, 0): new_directions = [(0, 1)]\n",
    "            elif current[1] == (-1, 0): new_directions = [(0, -1)]\n",
    "        case '-':\n",
    "            if current[1] == (0, 1): new_directions = [(0, 1)]\n",
    "            elif current[1] == (0, -1): new_directions = [(0, -1)]\n",
    "            elif current[1] == (1, 0): new_directions = [(0, 1), (0, -1)]\n",
    "            elif current[1] == (-1, 0): new_directions = [(0, 1), (0, -1)]\n",
    "        case '|':\n",
    "            if current[1] == (0, 1): new_directions = [(1, 0), (-1, 0)]\n",
    "            elif current[1] == (0, -1): new_directions = [(1, 0), (-1, 0)]\n",
    "            elif current[1] == (1, 0): new_directions = [(1, 0)]\n",
    "            elif current[1] == (-1, 0): new_directions = [(-1, 0)]\n",
    "        case _: raise ValueError(\"hi\")\n",
    "\n",
    "    for new_direction in new_directions:\n",
    "        new_visit = (new_location, new_direction)\n",
    "        if new_visit in visits: # We already saw this one. Skip it\n",
    "            continue\n",
    "        visits.add(new_visit)\n",
    "        visits = steps(grid, new_visit, visits)\n",
    "    return visits\n",
    "\n",
    "# Off by one error: we have to 'start' at (0, -1), so the first location we visit is (0, 0)\n",
    "result = steps(data, ((0, -1), (0, 1)), set([]))\n",
    "print(len(list(set(step[0] for step in result))))"
   ]
  },
  {
   "cell_type": "code",
   "execution_count": 18,
   "metadata": {},
   "outputs": [
    {
     "name": "stdout",
     "output_type": "stream",
     "text": [
      "8383\n"
     ]
    }
   ],
   "source": [
    "# Part 2\n",
    "\n",
    "def get_energy(start: VISIT):\n",
    "    # part 1 would be: `get_energy((0, -1), (0, 1))`\n",
    "    result = steps(data, start, set([]))\n",
    "    return len(list(set(step[0] for step in result)))\n",
    "\n",
    "import sys\n",
    "# My code is once again not super efficient. WORST case scenario (not realistic) we recurse over every cell\n",
    "sys.setrecursionlimit(data.shape[0] * data.shape[1])\n",
    "\n",
    "best = 0\n",
    "for row in range(data.shape[0]):\n",
    "    energy_one = get_energy(((row, -1), (0, 1)))\n",
    "    energy_two = get_energy(((row, data.shape[1]), (0, -1)))\n",
    "    best = max([best, energy_one, energy_two])\n",
    "\n",
    "for col in range(data.shape[1]):\n",
    "    energy_one = get_energy(((-1, col), (1, 0)))\n",
    "    energy_two = get_energy(((data.shape[0], col), (-1, 0)))\n",
    "    best = max([best, energy_one, energy_two])\n",
    "\n",
    "# Takes ~5 seconds!\n",
    "print(best)"
   ]
  }
 ],
 "metadata": {
  "kernelspec": {
   "display_name": ".venv",
   "language": "python",
   "name": "python3"
  },
  "language_info": {
   "codemirror_mode": {
    "name": "ipython",
    "version": 3
   },
   "file_extension": ".py",
   "mimetype": "text/x-python",
   "name": "python",
   "nbconvert_exporter": "python",
   "pygments_lexer": "ipython3",
   "version": "3.10.13"
  }
 },
 "nbformat": 4,
 "nbformat_minor": 2
}
