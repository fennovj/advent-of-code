{
 "cells": [
  {
   "cell_type": "code",
   "execution_count": 120,
   "metadata": {},
   "outputs": [],
   "source": [
    "import advent\n",
    "\n",
    "data: list[str] = advent.get_lines(22)"
   ]
  },
  {
   "cell_type": "code",
   "execution_count": 121,
   "metadata": {},
   "outputs": [
    {
     "data": {
      "text/plain": [
       "Box(xrange=range(7, 9), yrange=range(6, 7), zrange=range(120, 121))"
      ]
     },
     "execution_count": 121,
     "metadata": {},
     "output_type": "execute_result"
    }
   ],
   "source": [
    "from typing import NamedTuple\n",
    "\n",
    "def range_intersects(x: range, y: range):\n",
    "    return max(x.start, y.start) < min(x.stop, y.stop)\n",
    "\n",
    "class Box(NamedTuple):\n",
    "    xrange: range\n",
    "    yrange: range\n",
    "    zrange: range\n",
    "\n",
    "    def intersect(self, other: 'Box'):\n",
    "        # I found out you can interpret ranges as boolean\n",
    "        return range_intersects(self.xrange, other.xrange) and \\\n",
    "            range_intersects(self.yrange, other.yrange) and \\\n",
    "            range_intersects(self.zrange, other.zrange)\n",
    "\n",
    "    def is_on_floor(self):\n",
    "        return self.zrange.start == 1\n",
    "\n",
    "    def fall_one(self: 'Box'):\n",
    "        # floor is at z=0, lowest possible is z=1\n",
    "        if self.is_on_floor(): return self\n",
    "        zrange = range(self.zrange.start - 1, self.zrange.stop - 1)\n",
    "        return Box(self.xrange, self.yrange, zrange)\n",
    "        \n",
    "    @staticmethod\n",
    "    def from_string(line: str):\n",
    "        left, right = line.split('~')\n",
    "        left = [int(i) for i in left.split(',')]\n",
    "        right = [int(i) for i in right.split(',')]\n",
    "        xrange = range(min(left[0], right[0]), max(left[0], right[0]) + 1)\n",
    "        yrange = range(min(left[1], right[1]), max(left[1], right[1]) + 1)\n",
    "        zrange = range(min(left[2], right[2]), max(left[2], right[2]) + 1)\n",
    "        return Box(xrange, yrange, zrange)\n",
    "    \n",
    "Box.from_string(data[0])"
   ]
  },
  {
   "cell_type": "code",
   "execution_count": 122,
   "metadata": {},
   "outputs": [
    {
     "data": {
      "text/plain": [
       "'\\ndef gravity(boxes: list[Box]):\\n    while not all(b.is_on_floor() for b in boxes):\\n        any_fell = False\\n        for i in range(len(boxes)):\\n            if not boxes[i].is_on_floor():\\n                new_box = boxes[i].fall_one()\\n                safe_fall = True\\n                for j in range(len(boxes)):\\n                    if i == j: continue\\n                    if new_box.intersect(boxes[j]):\\n                        safe_fall = False\\n                        break\\n                if safe_fall:\\n                    boxes[i] = new_box\\n                    any_fell = True\\n        if not any_fell: break\\n    return boxes\\n\\ndef can_be_disintegrated(boxes: list[Box], i: int) -> bool:\\n    other_boxes = boxes.copy()\\n    other_boxes.pop(i)\\n    return tuple(other_boxes) == tuple(gravity(other_boxes))\\n'"
      ]
     },
     "execution_count": 122,
     "metadata": {},
     "output_type": "execute_result"
    }
   ],
   "source": [
    "\"\"\"\n",
    "def gravity(boxes: list[Box]):\n",
    "    while not all(b.is_on_floor() for b in boxes):\n",
    "        any_fell = False\n",
    "        for i in range(len(boxes)):\n",
    "            if not boxes[i].is_on_floor():\n",
    "                new_box = boxes[i].fall_one()\n",
    "                safe_fall = True\n",
    "                for j in range(len(boxes)):\n",
    "                    if i == j: continue\n",
    "                    if new_box.intersect(boxes[j]):\n",
    "                        safe_fall = False\n",
    "                        break\n",
    "                if safe_fall:\n",
    "                    boxes[i] = new_box\n",
    "                    any_fell = True\n",
    "        if not any_fell: break\n",
    "    return boxes\n",
    "\n",
    "def can_be_disintegrated(boxes: list[Box], i: int) -> bool:\n",
    "    other_boxes = boxes.copy()\n",
    "    other_boxes.pop(i)\n",
    "    return tuple(other_boxes) == tuple(gravity(other_boxes))\n",
    "\"\"\"\n"
   ]
  },
  {
   "cell_type": "code",
   "execution_count": 123,
   "metadata": {},
   "outputs": [],
   "source": [
    "import numpy as np\n",
    "import numpy.typing as npt\n",
    "\n",
    "def make_grid(boxes: list[Box]) -> npt.NDArray[np.float64]:\n",
    "    max_x = max(b.xrange.stop for b in boxes)\n",
    "    max_y = max(b.yrange.stop for b in boxes)\n",
    "    max_z = max(b.zrange.stop for b in boxes)\n",
    "    grid = np.zeros((max_x, max_y, max_z))\n",
    "\n",
    "    for b in boxes:\n",
    "        grid[b.xrange, b.yrange, b.zrange] = 1\n",
    "    return grid\n",
    "\n",
    "def can_fall(box: Box, grid: npt.NDArray[np.float64]) -> bool:\n",
    "    if box.is_on_floor(): return False\n",
    "    return grid[box.xrange, box.yrange, box.zrange.start - 1].sum() == 0\n",
    "\n",
    "def gravity(boxes: list[Box]):\n",
    "    grid = make_grid(boxes)\n",
    "    any_fell = True\n",
    "    has_fallen = [False] * len(boxes) # For part 2: track which has fallen\n",
    "    while any_fell:\n",
    "        any_fell = False\n",
    "        for i in range(len(boxes)):\n",
    "            if can_fall(boxes[i], grid):\n",
    "                any_fell = True\n",
    "                has_fallen[i] = True\n",
    "                boxes[i] = boxes[i].fall_one()\n",
    "                grid[boxes[i].xrange, boxes[i].yrange, boxes[i].zrange.stop] = 0\n",
    "                grid[boxes[i].xrange, boxes[i].yrange, boxes[i].zrange.start] = 1\n",
    "    return boxes, grid, has_fallen\n",
    "\n",
    "def can_be_disintegrated(i: int, boxes: list[Box], grid: npt.NDArray[np.float64]) -> bool:\n",
    "    grid = grid.copy()\n",
    "    grid[boxes[i].xrange, boxes[i].yrange, boxes[i].zrange] = 0\n",
    "    for j in range(len(boxes)):\n",
    "        if i == j: continue\n",
    "        if can_fall(boxes[j], grid): return False\n",
    "    return True\n"
   ]
  },
  {
   "cell_type": "code",
   "execution_count": 124,
   "metadata": {},
   "outputs": [
    {
     "name": "stderr",
     "output_type": "stream",
     "text": [
      "100%|██████████| 1439/1439 [00:05<00:00, 257.79it/s]"
     ]
    },
    {
     "name": "stdout",
     "output_type": "stream",
     "text": [
      "501\n"
     ]
    },
    {
     "name": "stderr",
     "output_type": "stream",
     "text": [
      "\n"
     ]
    }
   ],
   "source": [
    "from tqdm import trange\n",
    "\n",
    "boxes = [Box.from_string(line) for line in data]\n",
    "boxes, grid, _ = gravity(boxes)\n",
    "\n",
    "result = 0\n",
    "for i in trange(len(boxes)):\n",
    "    result += can_be_disintegrated(i, boxes, grid)\n",
    "print(result)"
   ]
  },
  {
   "cell_type": "code",
   "execution_count": 125,
   "metadata": {},
   "outputs": [
    {
     "name": "stderr",
     "output_type": "stream",
     "text": [
      "100%|██████████| 1439/1439 [01:08<00:00, 21.04it/s]"
     ]
    },
    {
     "name": "stdout",
     "output_type": "stream",
     "text": [
      "80948\n"
     ]
    },
    {
     "name": "stderr",
     "output_type": "stream",
     "text": [
      "\n"
     ]
    }
   ],
   "source": [
    "# Part 2\n",
    "\n",
    "def count_falling(i: int, boxes: list[Box], grid: npt.NDArray[np.float64]):\n",
    "    grid = grid.copy()\n",
    "    boxes = boxes.copy()\n",
    "    grid[boxes[i].xrange, boxes[i].yrange, boxes[i].zrange] = 0\n",
    "    boxes.pop(i)\n",
    "    _, _, has_fallen = gravity(boxes)\n",
    "    return sum(has_fallen)\n",
    "\n",
    "result = 0\n",
    "for i in trange(len(boxes)):\n",
    "    result += count_falling(i, boxes, grid)\n",
    "# Takes only 68 seconds, 1 second off :(\n",
    "print(result)"
   ]
  }
 ],
 "metadata": {
  "kernelspec": {
   "display_name": ".venv",
   "language": "python",
   "name": "python3"
  },
  "language_info": {
   "codemirror_mode": {
    "name": "ipython",
    "version": 3
   },
   "file_extension": ".py",
   "mimetype": "text/x-python",
   "name": "python",
   "nbconvert_exporter": "python",
   "pygments_lexer": "ipython3",
   "version": "3.10.11"
  }
 },
 "nbformat": 4,
 "nbformat_minor": 2
}
