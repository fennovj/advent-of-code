{
 "cells": [
  {
   "cell_type": "code",
   "execution_count": 25,
   "metadata": {},
   "outputs": [],
   "source": [
    "import advent\n",
    "import re\n",
    "\n",
    "data = advent.get_lines(24)\n",
    "lines: list[list[int]] = [[int(c) for c in re.split(',? +', line) if c != '@'] for line in data]"
   ]
  },
  {
   "cell_type": "code",
   "execution_count": 26,
   "metadata": {},
   "outputs": [],
   "source": [
    "# when do x1, y1, dx1, dy1 intersect with x2, y2, dx2, dy2?\n",
    "#  x1 + a*dx1 = x2 + b*dx2\n",
    "#  y1 + a*dy1 = y2 + b*dy2\n",
    "\n",
    "# wolfram alpha magic\n",
    "def solve(x1: int, dx1: int, x2: int, dx2: int, y1: int, dy1: int, y2: int, dy2: int):\n",
    "    denominator = dx2*dy1 - dx1*dy2\n",
    "    if denominator == 0: return None # parallel paths\n",
    "    a = (dy2*(x1-x2) + dx2*(y2-y1)) / denominator\n",
    "    b = (dy1*(x1-x2) + dx1*(y2-y1)) / denominator\n",
    "    if a < 0 or b < 0: return None # crossed in the past\n",
    "    return x1 + (a*dx1), y1 + (a*dy1)\n",
    "\n",
    "def solve_lines(lines: list[list[int]], i: int, j: int):\n",
    "    return solve(\n",
    "        lines[i][0], lines[i][3],\n",
    "        lines[j][0], lines[j][3],\n",
    "        lines[i][1], lines[i][4],\n",
    "        lines[j][1], lines[j][4]\n",
    "    )\n",
    "    "
   ]
  },
  {
   "cell_type": "code",
   "execution_count": 29,
   "metadata": {},
   "outputs": [
    {
     "name": "stdout",
     "output_type": "stream",
     "text": [
      "11246\n"
     ]
    }
   ],
   "source": [
    "#minpos, maxpos = 7, 27\n",
    "minpos, maxpos = 200000000000000, 400000000000000\n",
    "\n",
    "result = 0\n",
    "for i in range(len(lines)):\n",
    "    for j in range(i, len(lines)):\n",
    "        intersect = solve_lines(lines, i, j)\n",
    "        if intersect and \\\n",
    "            intersect[0] >= minpos and intersect[0] <= maxpos and \\\n",
    "            intersect[1] >= minpos and intersect[1] <= maxpos:\n",
    "            result += 1\n",
    "            #print(i, j)\n",
    "\n",
    "print(result)"
   ]
  },
  {
   "cell_type": "code",
   "execution_count": null,
   "metadata": {},
   "outputs": [],
   "source": []
  }
 ],
 "metadata": {
  "kernelspec": {
   "display_name": ".venv",
   "language": "python",
   "name": "python3"
  },
  "language_info": {
   "codemirror_mode": {
    "name": "ipython",
    "version": 3
   },
   "file_extension": ".py",
   "mimetype": "text/x-python",
   "name": "python",
   "nbconvert_exporter": "python",
   "pygments_lexer": "ipython3",
   "version": "3.10.11"
  }
 },
 "nbformat": 4,
 "nbformat_minor": 2
}
