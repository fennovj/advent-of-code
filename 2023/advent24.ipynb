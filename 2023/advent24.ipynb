{
 "cells": [
  {
   "cell_type": "code",
   "execution_count": 56,
   "metadata": {},
   "outputs": [],
   "source": [
    "import advent\n",
    "import re\n",
    "\n",
    "data = advent.get_lines(24)\n",
    "lines: list[list[int]] = [[int(c) for c in re.split(',? +', line) if c != '@'] for line in data]"
   ]
  },
  {
   "cell_type": "code",
   "execution_count": 57,
   "metadata": {},
   "outputs": [],
   "source": [
    "# when do x1, y1, dx1, dy1 intersect with x2, y2, dx2, dy2?\n",
    "#  x1 + a*dx1 = x2 + b*dx2\n",
    "#  y1 + a*dy1 = y2 + b*dy2\n",
    "\n",
    "# wolfram alpha magic\n",
    "def solve(x1: int, dx1: int, x2: int, dx2: int, y1: int, dy1: int, y2: int, dy2: int):\n",
    "    denominator = dx2*dy1 - dx1*dy2\n",
    "    if denominator == 0: return None # parallel paths\n",
    "    a = (dy2*(x1-x2) + dx2*(y2-y1)) / denominator\n",
    "    b = (dy1*(x1-x2) + dx1*(y2-y1)) / denominator\n",
    "    if a < 0 or b < 0: return None # crossed in the past\n",
    "    return x1 + (a*dx1), y1 + (a*dy1)\n",
    "\n",
    "def solve_lines(lines: list[list[int]], i: int, j: int):\n",
    "    return solve(\n",
    "        lines[i][0], lines[i][3],\n",
    "        lines[j][0], lines[j][3],\n",
    "        lines[i][1], lines[i][4],\n",
    "        lines[j][1], lines[j][4]\n",
    "    )\n",
    "    "
   ]
  },
  {
   "cell_type": "code",
   "execution_count": 58,
   "metadata": {},
   "outputs": [
    {
     "name": "stdout",
     "output_type": "stream",
     "text": [
      "11246\n"
     ]
    }
   ],
   "source": [
    "#minpos, maxpos = 7, 27\n",
    "minpos, maxpos = 200000000000000, 400000000000000\n",
    "\n",
    "result = 0\n",
    "for i in range(len(lines)):\n",
    "    for j in range(i, len(lines)):\n",
    "        intersect = solve_lines(lines, i, j)\n",
    "        if intersect and \\\n",
    "            intersect[0] >= minpos and intersect[0] <= maxpos and \\\n",
    "            intersect[1] >= minpos and intersect[1] <= maxpos:\n",
    "            result += 1\n",
    "\n",
    "print(result)"
   ]
  },
  {
   "cell_type": "code",
   "execution_count": 59,
   "metadata": {},
   "outputs": [],
   "source": [
    "# Part 2\n",
    "# We want to find out x, dx, y, dy, z, dz\n",
    "\n",
    "# but we know that\n",
    "# x + n1*dx = x1 + n1*dx1\n",
    "# x + n2*dx = x2 + n2*dx2\n",
    "# x + n3*dx = x3 + n3*dx3\n",
    "# y + n1*dy = y1 + n1*dy1\n",
    "# y + n2*dy = y2 + n2*dy2\n",
    "# y + n3*dy = y3 + n3*dy3\n",
    "# z + n1*dz = z1 + n1*dz1\n",
    "# z + n2*dz = z2 + n2*dz2\n",
    "# z + n3*dz = z3 + n3*dz3\n",
    "\n",
    "# unknowns: x, ... dz, n1, n2, n3: 9 unknowns, 9 equations\n",
    "# So it should be solvable...? But I don't know how"
   ]
  },
  {
   "cell_type": "code",
   "execution_count": null,
   "metadata": {},
   "outputs": [],
   "source": [
    "!pip install sympy"
   ]
  },
  {
   "cell_type": "code",
   "execution_count": 60,
   "metadata": {},
   "outputs": [
    {
     "name": "stdout",
     "output_type": "stream",
     "text": [
      "[(116689373784735, 348350724549432, 251559839225936, 330, -94, 53, 301350904659, 824916054430, 81593122140)]\n",
      "716599937560103\n"
     ]
    }
   ],
   "source": [
    "from sympy import Symbol, solve\n",
    "from sympy.abc import x, y, z\n",
    "\n",
    "# Basically, wolframalpha gave up, so use sympy instead\n",
    "# Also, as described in the cell above, we only need to use 3 lines\n",
    "\n",
    "dx, dy, dz = Symbol('dx'), Symbol('dy'), Symbol('dz')\n",
    "n1, n2, n3 = Symbol('n1'), Symbol('n2'), Symbol('n3')\n",
    "result = solve([\n",
    "    x + n1*dx - lines[0][0] - lines[0][3]*n1,\n",
    "    x + n2*dx - lines[1][0] - lines[1][3]*n2,\n",
    "    x + n3*dx - lines[2][0] - lines[2][3]*n3,\n",
    "    y + n1*dy - lines[0][1] - lines[0][4]*n1,\n",
    "    y + n2*dy - lines[1][1] - lines[1][4]*n2,\n",
    "    y + n3*dy - lines[2][1] - lines[2][4]*n3,\n",
    "    z + n1*dz - lines[0][2] - lines[0][5]*n1,\n",
    "    z + n2*dz - lines[1][2] - lines[1][5]*n2,\n",
    "    z + n3*dz - lines[2][2] - lines[2][5]*n3,\n",
    "], [x, y, z, dx, dy, dz, n1, n2, n3])\n",
    "\n",
    "print(result)\n",
    "print(result[0][0] + result[0][1] + result[0][2])"
   ]
  },
  {
   "cell_type": "code",
   "execution_count": null,
   "metadata": {},
   "outputs": [],
   "source": []
  }
 ],
 "metadata": {
  "kernelspec": {
   "display_name": ".venv",
   "language": "python",
   "name": "python3"
  },
  "language_info": {
   "codemirror_mode": {
    "name": "ipython",
    "version": 3
   },
   "file_extension": ".py",
   "mimetype": "text/x-python",
   "name": "python",
   "nbconvert_exporter": "python",
   "pygments_lexer": "ipython3",
   "version": "3.10.11"
  }
 },
 "nbformat": 4,
 "nbformat_minor": 2
}
