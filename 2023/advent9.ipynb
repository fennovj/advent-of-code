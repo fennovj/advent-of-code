{
 "cells": [
  {
   "cell_type": "code",
   "execution_count": 33,
   "metadata": {},
   "outputs": [],
   "source": [
    "import advent\n",
    "import numpy as np\n",
    "import numpy.typing as npt\n",
    "\n",
    "# Preprocessing utility function\n",
    "data = advent.get_lines(9, map_fn = lambda line: np.array(list(int(n) for n in line.split(\" \"))))"
   ]
  },
  {
   "cell_type": "code",
   "execution_count": 34,
   "metadata": {},
   "outputs": [
    {
     "data": {
      "text/plain": [
       "1938800261"
      ]
     },
     "execution_count": 34,
     "metadata": {},
     "output_type": "execute_result"
    }
   ],
   "source": [
    "def continuation(line: npt.NDArray[np.int64]) -> int:\n",
    "    if np.sum(np.abs(line)) == 0: return 0\n",
    "    diff = np.diff(line)\n",
    "    return line[-1] + continuation(diff)\n",
    "\n",
    "sum([continuation(line) for line in data])"
   ]
  },
  {
   "cell_type": "code",
   "execution_count": 35,
   "metadata": {},
   "outputs": [
    {
     "data": {
      "text/plain": [
       "1112"
      ]
     },
     "execution_count": 35,
     "metadata": {},
     "output_type": "execute_result"
    }
   ],
   "source": [
    "def continuation_left(line: npt.NDArray[np.int64]) -> int:\n",
    "    if np.sum(np.abs(line)) == 0: return 0\n",
    "    diff = np.diff(line)\n",
    "    return line[0] - continuation_left(diff) # it cant be this easy, right?\n",
    "\n",
    "sum([continuation_left(line) for line in data])"
   ]
  }
 ],
 "metadata": {
  "kernelspec": {
   "display_name": ".venv",
   "language": "python",
   "name": "python3"
  },
  "language_info": {
   "codemirror_mode": {
    "name": "ipython",
    "version": 3
   },
   "file_extension": ".py",
   "mimetype": "text/x-python",
   "name": "python",
   "nbconvert_exporter": "python",
   "pygments_lexer": "ipython3",
   "version": "3.10.11"
  }
 },
 "nbformat": 4,
 "nbformat_minor": 2
}
