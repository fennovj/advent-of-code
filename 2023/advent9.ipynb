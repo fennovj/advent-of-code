{
 "cells": [
  {
   "cell_type": "code",
   "execution_count": 256,
   "metadata": {},
   "outputs": [],
   "source": [
    "import advent\n",
    "import numpy as np\n",
    "import numpy.typing as npt\n",
    "\n",
    "# Preprocessing utility function\n",
    "data = advent.get_lines(9, map_fn = lambda line: np.array(list(int(n) for n in line.split(\" \"))))"
   ]
  },
  {
   "cell_type": "code",
   "execution_count": 257,
   "metadata": {},
   "outputs": [
    {
     "data": {
      "text/plain": [
       "1938800261"
      ]
     },
     "execution_count": 257,
     "metadata": {},
     "output_type": "execute_result"
    }
   ],
   "source": [
    "def continuation(line: npt.NDArray[np.int64]) -> int:\n",
    "    if np.sum(np.abs(line)) == 0: return 0\n",
    "    diff = np.diff(line)\n",
    "    return line[-1] + continuation(diff)\n",
    "\n",
    "sum([continuation(line) for line in data])"
   ]
  },
  {
   "cell_type": "code",
   "execution_count": 258,
   "metadata": {},
   "outputs": [
    {
     "data": {
      "text/plain": [
       "1112"
      ]
     },
     "execution_count": 258,
     "metadata": {},
     "output_type": "execute_result"
    }
   ],
   "source": [
    "def continuation_left(line: npt.NDArray[np.int64]) -> int:\n",
    "    if np.sum(np.abs(line)) == 0: return 0\n",
    "    diff = np.diff(line)\n",
    "    return line[0] - continuation_left(diff) # it cant be this easy, right?\n",
    "\n",
    "sum([continuation_left(line) for line in data])"
   ]
  },
  {
   "cell_type": "code",
   "execution_count": null,
   "metadata": {},
   "outputs": [],
   "source": [
    "# OPTIONAL PART, NOT PART OF EXERCISE\n",
    "# I wanted to actually recover the polynomial\n",
    "# With some help of the Mathologer :)"
   ]
  },
  {
   "cell_type": "code",
   "execution_count": 259,
   "metadata": {},
   "outputs": [],
   "source": [
    "import math\n",
    "\n",
    "def npdiff(line: list[int]):\n",
    "    return [line[ix] - line[ix-1] for ix in range(1, len(line))]\n",
    "\n",
    "def npsub(a: list[int], b: list[int]) -> list[int]:\n",
    "    assert len(a) == len(b)\n",
    "    return [a[i] - b[i] for i in range(len(a))]\n",
    "\n",
    "def get_col(line: list[int]) -> list[int]:\n",
    "    if len(line) == 1: return line\n",
    "    diff = npdiff(line)\n",
    "    colr = get_col(diff)\n",
    "    return [line[0]] + colr\n",
    "\n",
    "def lim(pow: int, mul: int) -> list[int]:\n",
    "    seq: list[int] = [mul*x**pow for x in range(pow+1)]\n",
    "    return get_col(seq)\n",
    "\n",
    "def recover_col(col: list[int]) -> list[int]:\n",
    "    # Recovers polynomial. if col is len n, assume its polynomial degree n-1\n",
    "    degree = len(col) - 1\n",
    "    if degree == 0: return col # constant value, degree 0\n",
    "    # The multiplier of degree=degree is mul\n",
    "    mul = col[-1] // math.factorial(degree)\n",
    "    # now subtract the chained differences of mul*n**pow\n",
    "    #print(f\"col: {col}, lim: {lim(degree, mul)}, degree: {degree}, mul: {mul}\")\n",
    "    new = npsub(col, lim(degree, mul))[:-1]\n",
    "    return recover_col(new) + [mul]\n",
    "\n",
    "def recover(line: list[int]) -> list[int]:#\n",
    "    return recover_col(get_col(line))\n",
    "    "
   ]
  },
  {
   "cell_type": "code",
   "execution_count": 286,
   "metadata": {},
   "outputs": [
    {
     "name": "stdout",
     "output_type": "stream",
     "text": [
      "-5 + x - 2x^2 + 3x^4\n",
      "-2x^2\n"
     ]
    }
   ],
   "source": [
    "# Kinda ugly but I didn't really care at this point, just wanted to finish it\n",
    "def pretty_print(factors: list[int]):\n",
    "    result = \"\"\n",
    "    factors_abs = [abs(f) for f in factors]\n",
    "    if sum(factors_abs) == 0: return \"0\"\n",
    "    for ix in range(len(factors)):\n",
    "        if factors[ix] == 0: continue\n",
    "        result += (\" + \" if factors[ix] > 0 else \" - \")\n",
    "        if factors_abs[ix] == 1 and ix == 1: result += \"x\"\n",
    "        elif factors_abs[ix] == 1 and ix > 1: result += f\"x^{ix}\"\n",
    "        elif ix == 0: result += f\"{factors_abs[0]}\"\n",
    "        elif ix == 1: result += f\"{factors_abs[1]}x\"\n",
    "        else: result += f\"{factors_abs[ix]}x^{ix}\"\n",
    "    first_char = \"-\" if [i for i in factors if i != 0][0] < 0 else \"\"\n",
    "    print(first_char + result[3:])\n",
    "\n",
    "pretty_print([-5, 1, -2, 0, 3])\n",
    "pretty_print([0, 0, -2, 0, 0])"
   ]
  },
  {
   "cell_type": "code",
   "execution_count": 279,
   "metadata": {},
   "outputs": [
    {
     "name": "stdout",
     "output_type": "stream",
     "text": [
      "100 - 236x + 203x^2 - 78x^3 + 14x^4 - x^5\n"
     ]
    }
   ],
   "source": [
    "def full(input: list[int]):\n",
    "    pretty_print(recover(input))\n",
    "\n",
    "full([100, 2, 8, 4, -9, 1])"
   ]
  },
  {
   "cell_type": "code",
   "execution_count": 284,
   "metadata": {},
   "outputs": [
    {
     "name": "stdout",
     "output_type": "stream",
     "text": [
      "-20 + 3x + 5x^2 - 45x^3\n"
     ]
    }
   ],
   "source": [
    "full([-20 + 3*x + 5*x**2 - 45*x**3 for x in range(7)])\n",
    "# It correctly recovers the polynomial, regardless of the input size\n",
    "# (as long as the input size is at least degree + 1)"
   ]
  }
 ],
 "metadata": {
  "kernelspec": {
   "display_name": ".venv",
   "language": "python",
   "name": "python3"
  },
  "language_info": {
   "codemirror_mode": {
    "name": "ipython",
    "version": 3
   },
   "file_extension": ".py",
   "mimetype": "text/x-python",
   "name": "python",
   "nbconvert_exporter": "python",
   "pygments_lexer": "ipython3",
   "version": "3.10.11"
  }
 },
 "nbformat": 4,
 "nbformat_minor": 2
}
