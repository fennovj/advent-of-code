{
 "cells": [
  {
   "cell_type": "code",
   "execution_count": 1,
   "metadata": {},
   "outputs": [],
   "source": [
    "import advent\n",
    "\n",
    "data = advent.get_lines(1)"
   ]
  },
  {
   "cell_type": "code",
   "execution_count": 8,
   "metadata": {},
   "outputs": [
    {
     "data": {
      "text/plain": [
       "54990"
      ]
     },
     "execution_count": 8,
     "metadata": {},
     "output_type": "execute_result"
    }
   ],
   "source": [
    "def get_digit(line, ix=0):\n",
    "    return int([d for d in line if d in '0123456789'][ix])\n",
    "\n",
    "def part1(line):\n",
    "    return get_digit(line, 0) * 10 + get_digit(line, -1)\n",
    "\n",
    "sum(part1(line) for line in data)"
   ]
  },
  {
   "cell_type": "code",
   "execution_count": 12,
   "metadata": {},
   "outputs": [
    {
     "data": {
      "text/plain": [
       "54473"
      ]
     },
     "execution_count": 12,
     "metadata": {},
     "output_type": "execute_result"
    }
   ],
   "source": [
    "def starts_with_digit(line):\n",
    "    if len(line) == 0: return False\n",
    "    if line[0] in '0123456789': return int(line[0])\n",
    "    if len(line) < 3: return False\n",
    "    if line[0:3] == 'one': return 1\n",
    "    if line[0:3] == 'two': return 2\n",
    "    if line[0:3] == 'six': return 6\n",
    "    if len(line) < 4: return False\n",
    "    if line[0:4] == 'four': return 4\n",
    "    if line[0:4] == 'five': return 5\n",
    "    if line[0:4] == 'nine': return 9\n",
    "    if len(line) < 5: return False\n",
    "    if line[0:5] == 'three': return 3\n",
    "    if line[0:5] == 'seven': return 7\n",
    "    if line[0:5] == 'eight': return 8\n",
    "    return False\n",
    "\n",
    "def get_digit(line, start=True):\n",
    "    ixes = range(len(line)) if start else range(len(line))[::-1]\n",
    "    for i in ixes:\n",
    "        foo = starts_with_digit(line[i:])\n",
    "        if foo: return foo\n",
    "    raise ValueError(\"Line contains no digits\")\n",
    "\n",
    "def part2(line):\n",
    "    return get_digit(line, True) * 10 + get_digit(line, False)\n",
    "\n",
    "sum(part2(line) for line in data)\n"
   ]
  },
  {
   "cell_type": "code",
   "execution_count": null,
   "metadata": {},
   "outputs": [],
   "source": []
  }
 ],
 "metadata": {
  "kernelspec": {
   "display_name": ".env",
   "language": "python",
   "name": "python3"
  },
  "language_info": {
   "codemirror_mode": {
    "name": "ipython",
    "version": 3
   },
   "file_extension": ".py",
   "mimetype": "text/x-python",
   "name": "python",
   "nbconvert_exporter": "python",
   "pygments_lexer": "ipython3",
   "version": "3.10.13"
  }
 },
 "nbformat": 4,
 "nbformat_minor": 2
}
