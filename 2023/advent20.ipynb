{
 "cells": [
  {
   "cell_type": "code",
   "execution_count": 106,
   "metadata": {},
   "outputs": [],
   "source": [
    "import advent\n",
    "data: list[str] = advent.get_lines(20)\n",
    "\n",
    "def parse_rule(rule: str):\n",
    "    l, r = rule.split(' -> ')\n",
    "    if l == 'broadcaster':\n",
    "        ntype, nname = 'b', 'broadcaster'\n",
    "    else:\n",
    "        ntype, nname = l[0], l[1:]\n",
    "    destinations = r.split(', ')\n",
    "    return nname, ntype, destinations\n",
    "\n",
    "rules = [parse_rule(rule) for rule in data]\n",
    "node_dict = dict((a[0], (a[1], a[2])) for a in rules)\n",
    "#rules, node_dict\n"
   ]
  },
  {
   "cell_type": "code",
   "execution_count": 107,
   "metadata": {},
   "outputs": [],
   "source": [
    "def connected_inputs(node_dict: dict[str, tuple[str, list[str]]]):\n",
    "    # dictionary from nodes to connected input nodes\n",
    "    result: dict[str, list[str]] = {}\n",
    "    for key in node_dict:\n",
    "        for dest in node_dict[key][1]:\n",
    "            if dest not in result:\n",
    "                result[dest] = [key]\n",
    "            else:\n",
    "                result[dest].append(key)\n",
    "    return result"
   ]
  },
  {
   "cell_type": "code",
   "execution_count": 108,
   "metadata": {},
   "outputs": [],
   "source": [
    "from collections import deque\n",
    "inputs = connected_inputs(node_dict)\n",
    "# message receiver, plus message type, plus message sender. low = 0, high = 1\n",
    "messages = deque([('broadcaster', 0, 'input')])\n",
    "states: dict[str, int|dict[str, int]] = dict((node, 0) for node in node_dict)\n",
    "\n",
    "for node in node_dict:\n",
    "    if node_dict[node][0] == '&':\n",
    "        states[node] = dict((s, 0) for s in inputs[node])\n",
    "\n",
    "low, high = 0, 0\n",
    "\n",
    "def handle_message(messages: deque[tuple[str, int, str]], states: dict[str, int|dict[str, int]]):\n",
    "    # INPLACE updates the message queue by taking a message and processing it\n",
    "    # also INPLACE updates the states dictionary\n",
    "    global low\n",
    "    global high\n",
    "\n",
    "    message = messages.popleft()\n",
    "    node, content, sender = message\n",
    "    if content == 0: low += 1\n",
    "    elif content == 1: high += 1\n",
    "\n",
    "    if node not in node_dict:\n",
    "        return messages, states # this is an output-only node\n",
    "\n",
    "    node_type, destinations = node_dict[node]\n",
    "\n",
    "    if node_type == 'b':\n",
    "        for d in destinations:\n",
    "            messages.append((d, content, 'broadcaster'))\n",
    "    elif node_type == '%' and content == 0:\n",
    "        states[node] = 1 - states[node]\n",
    "        for d in destinations:\n",
    "            messages.append((d, states[node], node))\n",
    "    elif node_type == '&':\n",
    "        states[node][sender] = content\n",
    "        m = 0 if all(states[node].values()) else 1\n",
    "        for d in destinations:\n",
    "            messages.append((d, m, node))\n",
    "    return messages, states"
   ]
  },
  {
   "cell_type": "code",
   "execution_count": 109,
   "metadata": {},
   "outputs": [
    {
     "data": {
      "text/plain": [
       "3000000"
      ]
     },
     "execution_count": 109,
     "metadata": {},
     "output_type": "execute_result"
    }
   ],
   "source": [
    "for _ in range(1000):\n",
    "    messages = deque([('broadcaster', 0, 'input')])\n",
    "    while messages:\n",
    "        handle_message(messages, states)\n",
    "\n",
    "low * high"
   ]
  },
  {
   "cell_type": "code",
   "execution_count": 110,
   "metadata": {},
   "outputs": [
    {
     "name": "stdout",
     "output_type": "stream",
     "text": [
      "{'c': 0}\n",
      "{'c': 0}\n",
      "{'c': 0}\n",
      "{'c': 1}\n",
      "{'c': 1}\n",
      "{'c': 1}\n",
      "{'c': 1}\n",
      "{'c': 0}\n",
      "{'c': 0}\n",
      "{'c': 0}\n",
      "{'c': 0}\n",
      "{'c': 1}\n",
      "{'c': 1}\n",
      "{'c': 1}\n",
      "{'c': 1}\n",
      "{'c': 0}\n",
      "{'c': 0}\n",
      "{'c': 0}\n",
      "{'c': 0}\n",
      "{'c': 1}\n",
      "{'c': 1}\n",
      "{'c': 1}\n",
      "{'c': 1}\n",
      "{'c': 0}\n",
      "{'c': 0}\n",
      "{'c': 0}\n",
      "{'c': 0}\n",
      "{'c': 1}\n",
      "{'c': 1}\n",
      "{'c': 1}\n",
      "{'c': 1}\n",
      "{'c': 0}\n",
      "{'c': 0}\n",
      "{'c': 0}\n",
      "{'c': 0}\n",
      "{'c': 1}\n",
      "{'c': 1}\n",
      "{'c': 1}\n",
      "{'c': 1}\n",
      "{'c': 0}\n",
      "{'c': 0}\n",
      "{'c': 0}\n",
      "{'c': 0}\n",
      "{'c': 1}\n",
      "{'c': 1}\n",
      "{'c': 1}\n",
      "{'c': 1}\n",
      "{'c': 0}\n",
      "{'c': 0}\n",
      "{'c': 0}\n",
      "{'c': 0}\n",
      "{'c': 1}\n",
      "{'c': 1}\n",
      "{'c': 1}\n",
      "{'c': 1}\n",
      "{'c': 0}\n",
      "{'c': 0}\n",
      "{'c': 0}\n",
      "{'c': 0}\n",
      "{'c': 1}\n",
      "{'c': 1}\n",
      "{'c': 1}\n",
      "{'c': 1}\n",
      "{'c': 0}\n",
      "{'c': 0}\n",
      "{'c': 0}\n",
      "{'c': 0}\n",
      "{'c': 1}\n",
      "{'c': 1}\n",
      "{'c': 1}\n",
      "{'c': 1}\n",
      "{'c': 0}\n",
      "{'c': 0}\n",
      "{'c': 0}\n",
      "{'c': 0}\n",
      "{'c': 1}\n",
      "{'c': 1}\n",
      "{'c': 1}\n",
      "{'c': 1}\n",
      "{'c': 0}\n",
      "{'c': 0}\n",
      "{'c': 0}\n",
      "{'c': 0}\n",
      "{'c': 1}\n",
      "{'c': 1}\n",
      "{'c': 1}\n",
      "{'c': 1}\n",
      "{'c': 0}\n",
      "{'c': 0}\n",
      "{'c': 0}\n",
      "{'c': 0}\n",
      "{'c': 1}\n",
      "{'c': 1}\n",
      "{'c': 1}\n",
      "{'c': 1}\n",
      "{'c': 0}\n",
      "{'c': 0}\n",
      "{'c': 0}\n",
      "{'c': 0}\n",
      "{'c': 1}\n"
     ]
    }
   ],
   "source": [
    "buttons = 0\n",
    "for _ in range(100):\n",
    "    messages = deque([('broadcaster', 0, 'input')])\n",
    "    buttons += 1\n",
    "    while messages:\n",
    "        handle_message(messages, states)\n",
    "    print(states['o'])"
   ]
  },
  {
   "cell_type": "code",
   "execution_count": 84,
   "metadata": {},
   "outputs": [
    {
     "data": {
      "text/plain": [
       "[False, False, False, False]"
      ]
     },
     "execution_count": 84,
     "metadata": {},
     "output_type": "execute_result"
    }
   ],
   "source": [
    "[z > 0 for z in states['zg'].values()]"
   ]
  },
  {
   "cell_type": "code",
   "execution_count": null,
   "metadata": {},
   "outputs": [],
   "source": []
  }
 ],
 "metadata": {
  "kernelspec": {
   "display_name": ".venv",
   "language": "python",
   "name": "python3"
  },
  "language_info": {
   "codemirror_mode": {
    "name": "ipython",
    "version": 3
   },
   "file_extension": ".py",
   "mimetype": "text/x-python",
   "name": "python",
   "nbconvert_exporter": "python",
   "pygments_lexer": "ipython3",
   "version": "3.10.11"
  }
 },
 "nbformat": 4,
 "nbformat_minor": 2
}
