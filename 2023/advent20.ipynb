{
 "cells": [
  {
   "cell_type": "code",
   "execution_count": 81,
   "metadata": {},
   "outputs": [],
   "source": [
    "import advent\n",
    "data: list[str] = advent.get_lines(20)\n",
    "\n",
    "def parse_rule(rule: str):\n",
    "    l, r = rule.split(' -> ')\n",
    "    if l == 'broadcaster':\n",
    "        ntype, nname = 'b', 'broadcaster'\n",
    "    else:\n",
    "        ntype, nname = l[0], l[1:]\n",
    "    destinations = r.split(', ')\n",
    "    return nname, ntype, destinations\n",
    "\n",
    "rules = [parse_rule(rule) for rule in data]\n",
    "node_dict = dict((a[0], (a[1], a[2])) for a in rules)\n",
    "#rules, node_dict\n"
   ]
  },
  {
   "cell_type": "code",
   "execution_count": 82,
   "metadata": {},
   "outputs": [],
   "source": [
    "from collections import deque\n",
    "\n",
    "def connected_inputs(node_dict: dict[str, tuple[str, list[str]]]):\n",
    "    # dictionary from nodes to connected input nodes\n",
    "    result: dict[str, list[str]] = {}\n",
    "    for key in node_dict:\n",
    "        for dest in node_dict[key][1]:\n",
    "            if dest not in result:\n",
    "                result[dest] = [key]\n",
    "            else:\n",
    "                result[dest].append(key)\n",
    "    return result\n",
    "\n",
    "# This will be read-only so can be global variable\n",
    "inputs = connected_inputs(node_dict)\n",
    "\n",
    "def reset_states():\n",
    "    # This function creates a new state. Basically, starting fresh from 0 button presses\n",
    "    #messages = deque([('broadcaster', 0, 'input')])\n",
    "    states: dict[str, int|dict[str, int]] = dict((node, 0) for node in node_dict)\n",
    "    for node in node_dict:\n",
    "        if node_dict[node][0] == '&':\n",
    "            states[node] = dict((s, 0) for s in inputs[node])\n",
    "    return states"
   ]
  },
  {
   "cell_type": "code",
   "execution_count": 87,
   "metadata": {},
   "outputs": [],
   "source": [
    "low, high = 0, 0\n",
    "result_loops: dict[str, int] = {}\n",
    "\n",
    "def handle_message(\n",
    "        messages: deque[tuple[str, int, str]],\n",
    "        states: dict[str, int|dict[str, int]],\n",
    "        debug: tuple[int, str] = (0, 'never')):\n",
    "    # INPLACE updates the message queue by taking a message and processing it\n",
    "    # also INPLACE updates the states dictionary\n",
    "    global low\n",
    "    global high\n",
    "    global result_loops\n",
    "\n",
    "    message = messages.popleft()\n",
    "    node, content, sender = message\n",
    "\n",
    "    # Store the number of signals sent. only for part 1\n",
    "    if content == 0: low += 1\n",
    "    elif content == 1: high += 1\n",
    "\n",
    "    if node == debug[1] and content == 1:\n",
    "        # Store the result of a found loop. only for part 2\n",
    "        if sender not in result_loops: result_loops[sender] = debug[0]\n",
    "    if node == 'rx' and content == 0 and debug[0] > 0:\n",
    "        # Tried to brute force part 2, didn't work, this never prints anything :P\n",
    "        print(f\"Node rx received 0 from {sender} at step {debug[0]}!\")\n",
    "\n",
    "    if node not in node_dict:\n",
    "        return messages, states # this is an output-only node\n",
    "\n",
    "    node_type, destinations = node_dict[node]\n",
    "\n",
    "    if node_type == 'b':\n",
    "        for d in destinations:\n",
    "            messages.append((d, content, 'broadcaster'))\n",
    "    elif node_type == '%' and content == 0:\n",
    "        states[node] = 1 - states[node]\n",
    "        for d in destinations:\n",
    "            messages.append((d, states[node], node))\n",
    "    elif node_type == '&':\n",
    "        states[node][sender] = content\n",
    "        m = 0 if all(states[node].values()) else 1\n",
    "        for d in destinations:\n",
    "            messages.append((d, m, node))\n",
    "    return messages, states"
   ]
  },
  {
   "cell_type": "code",
   "execution_count": 84,
   "metadata": {},
   "outputs": [
    {
     "data": {
      "text/plain": [
       "825896364"
      ]
     },
     "execution_count": 84,
     "metadata": {},
     "output_type": "execute_result"
    }
   ],
   "source": [
    "states = reset_states()\n",
    "\n",
    "low, high = 0, 0\n",
    "\n",
    "for _ in range(1000):\n",
    "    messages = deque([('broadcaster', 0, 'input')])\n",
    "    while messages:\n",
    "        handle_message(messages, states)\n",
    "\n",
    "low * high"
   ]
  },
  {
   "cell_type": "code",
   "execution_count": 85,
   "metadata": {},
   "outputs": [],
   "source": [
    "# This could only really be found by inspecting the input\n",
    "# Basically, the node that sends to rx is an '&' node with multiple inputs\n",
    "# so we want all those inputs to be '1'. However, this happens rarely.\n",
    "# we debug them to find when they are sending '1's\n",
    "to_debug = inputs['rx'][0]\n",
    "\n",
    "# Reset messages/states since it was contaminated from part 1\n",
    "states = reset_states()\n",
    "\n",
    "result_loops = {}\n",
    "\n",
    "buttons = 0\n",
    "for _ in range(100_000):\n",
    "    messages = deque([('broadcaster', 0, 'input')])\n",
    "    buttons += 1\n",
    "    while messages:\n",
    "        handle_message(messages, states, debug=(buttons, to_debug))"
   ]
  },
  {
   "cell_type": "code",
   "execution_count": 86,
   "metadata": {},
   "outputs": [
    {
     "data": {
      "text/plain": [
       "243566897206981"
      ]
     },
     "execution_count": 86,
     "metadata": {},
     "output_type": "execute_result"
    }
   ],
   "source": [
    "import math\n",
    "# Okay dont ask too many questions, but mainly, I took the input, removed a bunch of lines (not random, handpicked)\n",
    "# and got advent20.simplified.txt\n",
    "# Then I ran that and it got a low on rx at like 50.000 steps. So I found the loops in the input there,\n",
    "# and found you could just take the lcm to calculate the place where all the loops intersect\n",
    "math.lcm(*result_loops.values())"
   ]
  }
 ],
 "metadata": {
  "kernelspec": {
   "display_name": ".venv",
   "language": "python",
   "name": "python3"
  },
  "language_info": {
   "codemirror_mode": {
    "name": "ipython",
    "version": 3
   },
   "file_extension": ".py",
   "mimetype": "text/x-python",
   "name": "python",
   "nbconvert_exporter": "python",
   "pygments_lexer": "ipython3",
   "version": "3.10.13"
  }
 },
 "nbformat": 4,
 "nbformat_minor": 2
}
