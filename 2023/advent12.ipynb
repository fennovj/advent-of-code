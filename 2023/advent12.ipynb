{
 "cells": [
  {
   "cell_type": "code",
   "execution_count": 79,
   "metadata": {},
   "outputs": [],
   "source": [
    "import advent\n",
    "import functools\n",
    "\n",
    "data = advent.get_lines(12)"
   ]
  },
  {
   "cell_type": "code",
   "execution_count": 80,
   "metadata": {},
   "outputs": [
    {
     "data": {
      "text/plain": [
       "1"
      ]
     },
     "execution_count": 80,
     "metadata": {},
     "output_type": "execute_result"
    }
   ],
   "source": [
    "# One of the few times that part 2 is literally a one-liner :)\n",
    "# (almost, also had to change 'pattern' to be a tuple and write the unfold)\n",
    "@functools.lru_cache\n",
    "def match(chars: str, pattern: tuple[int, ...], nextmustbe:str|None=None) -> int:\n",
    "    # chars: chars left to match\n",
    "    # pattern: pattern left to match\n",
    "    # first: wether the first pattern is currently ongoing\n",
    "    # returns: number of possible matches\n",
    "\n",
    "    # Assumptions: elements of pattern are always > 0\n",
    "\n",
    "    # Base cases\n",
    "    if len(chars) == 0 and len(pattern) == 0: return 1\n",
    "    elif len(chars) == 0 and len(pattern) > 0: return 0\n",
    "    \n",
    "    # Skip leading '.'\n",
    "    if chars[0] == '.' and nextmustbe=='#': return 0\n",
    "    elif chars[0] == '.' or (chars[0] == '?' and nextmustbe=='.'):\n",
    "        return match(chars[1:], pattern, None)\n",
    "\n",
    "    # Skip leading '#'\n",
    "    if chars[0] == '#' and len(pattern) == 0: return 0\n",
    "    elif chars[0] == '#' and nextmustbe=='.': return 0\n",
    "    elif chars[0] == '#' or (chars[0] == '?' and nextmustbe=='#'):\n",
    "        if pattern[0] == 1: return match(chars[1:], pattern[1:], '.')\n",
    "        else: return match(chars[1:], (pattern[0] - 1,) + pattern[1:], '#')\n",
    "\n",
    "    # Treat it as a '.'\n",
    "    result = match(chars[1:], pattern, None)\n",
    "    # treat it as  '#'\n",
    "    if len(pattern) == 0: pass  # nvm, treat it as '.' only\n",
    "    elif pattern[0] == 1: result += match(chars[1:], pattern[1:], '.')\n",
    "    else: result += match(chars[1:], (pattern[0] - 1,) + pattern[1:], '#')\n",
    "\n",
    "    return result\n",
    "\n",
    "match('???', (1,1))"
   ]
  },
  {
   "cell_type": "code",
   "execution_count": 81,
   "metadata": {},
   "outputs": [
    {
     "name": "stdout",
     "output_type": "stream",
     "text": [
      "7694\n"
     ]
    }
   ],
   "source": [
    "result = 0\n",
    "for line in data:\n",
    "    chars, pattern = line.split(' ')\n",
    "    pattern = tuple([int(x) for x in pattern.split(',')])\n",
    "    result += match(chars, pattern)\n",
    "print(result)"
   ]
  },
  {
   "cell_type": "code",
   "execution_count": 83,
   "metadata": {},
   "outputs": [
    {
     "name": "stdout",
     "output_type": "stream",
     "text": [
      "5071883216318\n"
     ]
    }
   ],
   "source": [
    "def unfold(chars: str, pattern: tuple[int, ...]):\n",
    "    return '?'.join([chars] * 5), pattern * 5\n",
    "\n",
    "result = 0\n",
    "for line in data:\n",
    "    chars, pattern = line.split(' ')\n",
    "    pattern = tuple([int(x) for x in pattern.split(',')])\n",
    "    chars, pattern = unfold(chars, pattern)\n",
    "    result += match(chars, pattern)\n",
    "print(result)"
   ]
  },
  {
   "cell_type": "code",
   "execution_count": null,
   "metadata": {},
   "outputs": [],
   "source": []
  }
 ],
 "metadata": {
  "kernelspec": {
   "display_name": ".venv",
   "language": "python",
   "name": "python3"
  },
  "language_info": {
   "codemirror_mode": {
    "name": "ipython",
    "version": 3
   },
   "file_extension": ".py",
   "mimetype": "text/x-python",
   "name": "python",
   "nbconvert_exporter": "python",
   "pygments_lexer": "ipython3",
   "version": "3.10.11"
  }
 },
 "nbformat": 4,
 "nbformat_minor": 2
}
