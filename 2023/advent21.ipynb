{
 "cells": [
  {
   "cell_type": "code",
   "execution_count": 5,
   "metadata": {},
   "outputs": [],
   "source": [
    "import advent\n",
    "data = advent.get_char_grid(21, 'txt')"
   ]
  },
  {
   "cell_type": "code",
   "execution_count": 8,
   "metadata": {},
   "outputs": [],
   "source": [
    "from advent.maze import solve_maze_no_tqdm\n",
    "import numpy as np\n",
    "\n",
    "def walkable(node: tuple[int, int]) -> bool:\n",
    "    return node[0] >= 0 and node[0] < data.shape[0] and node[1] >= 0 and node[1] < data.shape[1] and data[node] != '#'\n",
    "\n",
    "def adjacent(node: tuple[int, int]) -> list[tuple[tuple[int, int], int]]:\n",
    "    x, y = node\n",
    "    return [((x+a, y+b), 1) for a in range(-1, 2) for b in range(-1, 2) if (a != 0) != (b != 0) and walkable((x+a, y+b))]\n",
    "\n",
    "start = np.where(data == 'S')[0][0], np.where(data == 'S')[1][0]"
   ]
  },
  {
   "cell_type": "code",
   "execution_count": 12,
   "metadata": {},
   "outputs": [
    {
     "data": {
      "text/plain": [
       "3782"
      ]
     },
     "execution_count": 12,
     "metadata": {},
     "output_type": "execute_result"
    }
   ],
   "source": [
    "_, parents, _ = solve_maze_no_tqdm(start, (lambda _: False), adjacent)\n",
    "\n",
    "def get_shortest_path_length(node: tuple[int, int]) -> int:\n",
    "    result = 0\n",
    "    while node != start:\n",
    "        node = parents[node]\n",
    "        result += 1\n",
    "    return result\n",
    "\n",
    "# Reason this works:\n",
    "# Any node you can reach in LESS than 64 steps (e.g. 60) you can also reach in 64\n",
    "# By going to the node, and then just stepping off-and-on it every 2 steps\n",
    "# However, a node you can reach in an odd number of steps can NEVER be reached in 64 steps\n",
    "# So the formula becomes: shortest path <= 64 and shortest path % 2 == 0\n",
    "def get_reachable(max: int = 64, rem: int = 0):\n",
    "    result = 0\n",
    "    for node in parents:\n",
    "        l = get_shortest_path_length(node)\n",
    "        if l <= max and l % 2 == rem: result += 1\n",
    "    return result\n",
    "\n",
    "get_reachable()"
   ]
  },
  {
   "cell_type": "code",
   "execution_count": 21,
   "metadata": {},
   "outputs": [
    {
     "data": {
      "text/plain": [
       "630661863455116"
      ]
     },
     "execution_count": 21,
     "metadata": {},
     "output_type": "execute_result"
    }
   ],
   "source": [
    "# Part 2 approach:\n",
    "# I didn't like this one... I was overthinking it too much. With some pen and paper I ended up coming up with a simpler solution:\n",
    "# let □(ws) be all spots reachable in odd steps from S\n",
    "# let ■(bs) be all spots reachable in even steps from S\n",
    "# let ◇(wd) be all spots reachable in odd steps from S, EXCLUDING the center diamond\n",
    "# let ◆(bd) be all spots reachable in even steps from S, EXCLUDING the center diamond\n",
    "# let N be (26501365-65) / 131, where 131 is the grid size, and 65 is half the grid size\n",
    "# then the solution is:\n",
    "\n",
    "def solution(ws: int, bs: int, wd: int, bd: int, N: int):\n",
    "    return ((N+1)**2 * ws) + (N**2 * bs) + (N * bd) - ((N+1) * wd)\n",
    "\n",
    "# ws and bs is just anything that can be reached in any number of steps, we just need to do the parity check\n",
    "ws = get_reachable(1000, 1)\n",
    "bs = get_reachable(1000, 0)\n",
    "\n",
    "# wd and bd can be calculated by taking ws or bs, and subtracting anything reachable in 65 steps (aka the center)\n",
    "wd = ws - get_reachable(65, 1)\n",
    "bd = bs - get_reachable(65, 0)\n",
    "\n",
    "N = (26501365 - data.shape[0] // 2) // data.shape[0]\n",
    "\n",
    "solution(ws, bs, wd, bd, N)"
   ]
  },
  {
   "cell_type": "code",
   "execution_count": 22,
   "metadata": {},
   "outputs": [],
   "source": [
    "# small explanation how I came up with it:\n",
    "# I quickly figured out the verticals/horizontals were empty, meaning the shortest path would be going straight for most the route,\n",
    "# meaning I only had to 'maze solve' the edges. I overthought this part, thinking I had to do maze solving on every quadrant from every possible corner\n",
    "# Which would be like a dozen maze solves to keep track of, and a lot of bookkeeping to count which 'type' of edge quadrant you are approaching\n",
    "# I then got a hint, which is that somebody solved it in like 10-20 lines of code, meaning there must have been a simpler way.\n",
    "# I then got a piece of pen and paper and drew it out, and then it 'clicked' that you could just count each quadrant separately\n",
    "# The formula in the `solution` function was derived by drawing out the entire scenario for N=3, which made it fairly obvious what the generalized formula should be"
   ]
  }
 ],
 "metadata": {
  "kernelspec": {
   "display_name": ".venv",
   "language": "python",
   "name": "python3"
  },
  "language_info": {
   "codemirror_mode": {
    "name": "ipython",
    "version": 3
   },
   "file_extension": ".py",
   "mimetype": "text/x-python",
   "name": "python",
   "nbconvert_exporter": "python",
   "pygments_lexer": "ipython3",
   "version": "3.10.13"
  }
 },
 "nbformat": 4,
 "nbformat_minor": 2
}
