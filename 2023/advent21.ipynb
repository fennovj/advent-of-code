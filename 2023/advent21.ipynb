{
 "cells": [
  {
   "cell_type": "code",
   "execution_count": 27,
   "metadata": {},
   "outputs": [],
   "source": [
    "import advent\n",
    "data = advent.get_char_grid(21, 'txt')"
   ]
  },
  {
   "cell_type": "code",
   "execution_count": 28,
   "metadata": {},
   "outputs": [],
   "source": [
    "from advent.maze import solve_maze\n",
    "import numpy as np\n",
    "\n",
    "def walkable(node: tuple[int, int]) -> bool:\n",
    "    return node[0] >= 0 and node[0] < data.shape[0] and node[1] >= 0 and node[1] < data.shape[1] and data[node] != '#'\n",
    "\n",
    "def adjacent(node: tuple[int, int]) -> list[tuple[tuple[int, int], int]]:\n",
    "    x, y = node\n",
    "    return [((x+a, y+b), 1) for a in range(-1, 2) for b in range(-1, 2) if (a != 0) != (b != 0) and walkable((x+a, y+b))]\n",
    "\n",
    "start = np.where(data == 'S')[0][0], np.where(data == 'S')[1][0]"
   ]
  },
  {
   "cell_type": "code",
   "execution_count": 31,
   "metadata": {},
   "outputs": [
    {
     "data": {
      "application/vnd.jupyter.widget-view+json": {
       "model_id": "02b920fede3b4f2b903964a3dd098879",
       "version_major": 2,
       "version_minor": 0
      },
      "text/plain": [
       "  0%|          | 0/1 [00:00<?, ?it/s]"
      ]
     },
     "metadata": {},
     "output_type": "display_data"
    },
    {
     "name": "stdout",
     "output_type": "stream",
     "text": [
      "3782\n"
     ]
    }
   ],
   "source": [
    "_, parents = solve_maze(start, (lambda _: False), adjacent)\n",
    "\n",
    "def get_shortest_path_length(node: tuple[int, int]) -> int:\n",
    "    result = 0\n",
    "    while node != start:\n",
    "        node = parents[node]\n",
    "        result += 1\n",
    "    return result\n",
    "\n",
    "MAX = 64\n",
    "\n",
    "# Reason this works:\n",
    "# Any node you can reach in LESS than 64 steps (e.g. 60) you can also reach in 64\n",
    "# By going to the node, and then just stepping off-and-on it every 2 steps\n",
    "# However, a node you can reach in an odd number of steps can NEVER be reached in 64 steps\n",
    "# So the formula becomes: shortest path <= 64 and shortest path % 2 == 0\n",
    "result = 0\n",
    "for node in parents:\n",
    "    l = get_shortest_path_length(node)\n",
    "    if l <= MAX and l % 2 == 0: result += 1\n",
    "print(result)"
   ]
  },
  {
   "cell_type": "code",
   "execution_count": null,
   "metadata": {},
   "outputs": [],
   "source": []
  },
  {
   "cell_type": "code",
   "execution_count": 22,
   "metadata": {},
   "outputs": [
    {
     "data": {
      "text/plain": [
       "14"
      ]
     },
     "execution_count": 22,
     "metadata": {},
     "output_type": "execute_result"
    }
   ],
   "source": [
    "get_path_length((10, 10))"
   ]
  },
  {
   "cell_type": "code",
   "execution_count": null,
   "metadata": {},
   "outputs": [],
   "source": []
  }
 ],
 "metadata": {
  "kernelspec": {
   "display_name": ".venv",
   "language": "python",
   "name": "python3"
  },
  "language_info": {
   "codemirror_mode": {
    "name": "ipython",
    "version": 3
   },
   "file_extension": ".py",
   "mimetype": "text/x-python",
   "name": "python",
   "nbconvert_exporter": "python",
   "pygments_lexer": "ipython3",
   "version": "3.10.11"
  }
 },
 "nbformat": 4,
 "nbformat_minor": 2
}
