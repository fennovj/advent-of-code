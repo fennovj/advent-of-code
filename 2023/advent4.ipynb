{
 "cells": [
  {
   "cell_type": "code",
   "execution_count": 60,
   "metadata": {},
   "outputs": [],
   "source": [
    "import advent\n",
    "\n",
    "data = advent.get_lines(4)\n",
    "\n",
    "data = [line.split(\": \")[1].split(\" | \") for line in data]\n",
    "data = [(line[0].split(\" \"), line[1].split(\" \")) for line in data]\n",
    "# Warning can contain empty strings"
   ]
  },
  {
   "cell_type": "code",
   "execution_count": 61,
   "metadata": {},
   "outputs": [
    {
     "name": "stdout",
     "output_type": "stream",
     "text": [
      "22193\n"
     ]
    }
   ],
   "source": [
    "def calculate_score(num_correct: int = 0):\n",
    "    if num_correct == 0: return 0\n",
    "    return 2 ** (num_correct - 1)\n",
    "\n",
    "def calculate_correct(line):\n",
    "    return sum([num in line[0] for num in line[1] if num != \"\"])\n",
    "\n",
    "score = sum(calculate_score(calculate_correct(line)) for line in data)\n",
    "print(score)"
   ]
  },
  {
   "cell_type": "code",
   "execution_count": 62,
   "metadata": {},
   "outputs": [
    {
     "name": "stdout",
     "output_type": "stream",
     "text": [
      "5625994\n"
     ]
    }
   ],
   "source": [
    "CARD_COUNT = len(data)\n",
    "num_cards = [1] * CARD_COUNT\n",
    "\n",
    "for current_card in range(CARD_COUNT):\n",
    "    win = calculate_correct(data[current_card])\n",
    "    to_card = min(CARD_COUNT, current_card + win + 1)\n",
    "    for i in range(current_card+1, to_card):\n",
    "        num_cards[i] += num_cards[current_card]\n",
    "\n",
    "print(sum(num_cards))"
   ]
  },
  {
   "cell_type": "code",
   "execution_count": null,
   "metadata": {},
   "outputs": [],
   "source": []
  }
 ],
 "metadata": {
  "kernelspec": {
   "display_name": ".venv",
   "language": "python",
   "name": "python3"
  },
  "language_info": {
   "codemirror_mode": {
    "name": "ipython",
    "version": 3
   },
   "file_extension": ".py",
   "mimetype": "text/x-python",
   "name": "python",
   "nbconvert_exporter": "python",
   "pygments_lexer": "ipython3",
   "version": "3.10.11"
  }
 },
 "nbformat": 4,
 "nbformat_minor": 2
}
