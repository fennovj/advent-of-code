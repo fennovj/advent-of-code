{
 "cells": [
  {
   "cell_type": "code",
   "execution_count": 8,
   "metadata": {},
   "outputs": [],
   "source": [
    "import advent\n",
    "advent.scrape(2024, 19)\n",
    "rules, lines = advent.get_lines_doublenewline(19)"
   ]
  },
  {
   "cell_type": "code",
   "execution_count": 3,
   "metadata": {},
   "outputs": [
    {
     "name": "stderr",
     "output_type": "stream",
     "text": [
      "  0%|          | 0/400 [00:00<?, ?it/s]"
     ]
    },
    {
     "name": "stdout",
     "output_type": "stream",
     "text": [
      "0\n"
     ]
    },
    {
     "name": "stderr",
     "output_type": "stream",
     "text": [
      "\n"
     ]
    }
   ],
   "source": [
    "import re\n",
    "from tqdm import tqdm\n",
    "rules_regex = '^(' + '|'.join(rules[0].split(', ')) + ')+$'\n",
    "rules_regex = re.compile(rules_regex)\n",
    "\n",
    "result = 0\n",
    "for line in tqdm(lines):\n",
    "    break\n",
    "    if re.fullmatch(rules_regex, line):\n",
    "        result += 1\n",
    "print(result)\n"
   ]
  },
  {
   "cell_type": "code",
   "execution_count": 11,
   "metadata": {},
   "outputs": [
    {
     "name": "stderr",
     "output_type": "stream",
     "text": [
      "  0%|          | 0/400 [00:00<?, ?it/s]"
     ]
    },
    {
     "name": "stderr",
     "output_type": "stream",
     "text": [
      "100%|██████████| 400/400 [00:00<00:00, 2022.23it/s]"
     ]
    },
    {
     "name": "stdout",
     "output_type": "stream",
     "text": [
      "353\n"
     ]
    },
    {
     "name": "stderr",
     "output_type": "stream",
     "text": [
      "\n"
     ]
    }
   ],
   "source": [
    "from functools import cache\n",
    "rel = rules[0].split(', ')\n",
    "@cache\n",
    "def match(line):\n",
    "    if line == '': return True\n",
    "    for r in rel:\n",
    "        if line.startswith(r):\n",
    "            if match(line[len(r):]): return True\n",
    "    return False\n",
    "\n",
    "result = 0\n",
    "for line in tqdm(lines):\n",
    "    if match(line):\n",
    "        result += 1\n",
    "print(result)"
   ]
  },
  {
   "cell_type": "code",
   "execution_count": null,
   "metadata": {},
   "outputs": [],
   "source": [
    "from functools import cache\n",
    "rel = rules[0].split(', ')\n",
    "@cache\n",
    "def match2(line):\n",
    "    if line == '': return 1\n",
    "    result = 0\n",
    "    for r in rel:\n",
    "        if line.startswith(r):\n",
    "            result += match(line[len(r):])\n",
    "    return result\n",
    "\n",
    "result = 0\n",
    "for line in tqdm(lines):\n",
    "    if match(line):\n",
    "        result += 1\n",
    "print(result)"
   ]
  }
 ],
 "metadata": {
  "kernelspec": {
   "display_name": ".venv",
   "language": "python",
   "name": "python3"
  },
  "language_info": {
   "codemirror_mode": {
    "name": "ipython",
    "version": 3
   },
   "file_extension": ".py",
   "mimetype": "text/x-python",
   "name": "python",
   "nbconvert_exporter": "python",
   "pygments_lexer": "ipython3",
   "version": "3.10.11"
  }
 },
 "nbformat": 4,
 "nbformat_minor": 2
}
