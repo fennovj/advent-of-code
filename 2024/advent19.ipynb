{
 "cells": [
  {
   "cell_type": "code",
   "execution_count": 23,
   "metadata": {},
   "outputs": [],
   "source": [
    "import advent\n",
    "advent.scrape(2024, 19)\n",
    "rules, lines = advent.get_lines_doublenewline(19)\n",
    "\n",
    "rel = rules[0].split(', ') # just a list of possible matterns"
   ]
  },
  {
   "cell_type": "code",
   "execution_count": 24,
   "metadata": {},
   "outputs": [
    {
     "name": "stderr",
     "output_type": "stream",
     "text": [
      "  0%|          | 0/400 [00:00<?, ?it/s]"
     ]
    },
    {
     "name": "stdout",
     "output_type": "stream",
     "text": [
      "0\n"
     ]
    },
    {
     "name": "stderr",
     "output_type": "stream",
     "text": [
      "\n"
     ]
    }
   ],
   "source": [
    "# I thought I was so clever...\n",
    "# Because the solution is just a regex: ^(rwr|ruu|...)+$\n",
    "# Unfortunately, for some reason it's slow af. guess it doesn't do any caching...\n",
    "import re\n",
    "from tqdm import tqdm\n",
    "rules_regex = '^(' + '|'.join(rules[0].split(', ')) + ')+$'\n",
    "rules_regex = re.compile(rules_regex)\n",
    "\n",
    "result = 0\n",
    "for line in tqdm(lines):\n",
    "    break\n",
    "    if re.fullmatch(rules_regex, line):\n",
    "        result += 1\n",
    "print(result)\n"
   ]
  },
  {
   "cell_type": "code",
   "execution_count": 25,
   "metadata": {},
   "outputs": [
    {
     "name": "stdout",
     "output_type": "stream",
     "text": [
      "353\n"
     ]
    }
   ],
   "source": [
    "from functools import cache\n",
    "\n",
    "@cache\n",
    "def match(line):\n",
    "    if line == '': return True\n",
    "    for r in rel:\n",
    "        if line.startswith(r):\n",
    "            if match(line[len(r):]): return True\n",
    "    return False\n",
    "\n",
    "result = 0\n",
    "for line in lines:\n",
    "    result += match(line)\n",
    "print(result)"
   ]
  },
  {
   "cell_type": "code",
   "execution_count": 31,
   "metadata": {},
   "outputs": [
    {
     "name": "stdout",
     "output_type": "stream",
     "text": [
      "880877787214477\n"
     ]
    }
   ],
   "source": [
    "# Part 2\n",
    "\n",
    "@cache\n",
    "def match2(line):\n",
    "    if line == '': return 1\n",
    "    result = 0\n",
    "    for r in rel:\n",
    "        if line.startswith(r):\n",
    "            result += match2(line[len(r):])\n",
    "    return result\n",
    "\n",
    "result = 0\n",
    "for line in lines:\n",
    "    result += match2(line)\n",
    "print(result)"
   ]
  },
  {
   "cell_type": "code",
   "execution_count": 30,
   "metadata": {},
   "outputs": [
    {
     "name": "stdout",
     "output_type": "stream",
     "text": [
      "353\n",
      "880877787214477\n"
     ]
    }
   ],
   "source": [
    "# Part 2 as a one liner\n",
    "# This is dependent only on the first cell of the notebook which has some input parsing\n",
    "\n",
    "@cache\n",
    "def match_o(line: str) -> int:\n",
    "    return 1 if line == '' else sum(match_o(line[len(r):]) for r in rel if line.startswith(r))\n",
    "\n",
    "# Part 1\n",
    "print(sum(1 if match_o(line) else 0 for line in lines))\n",
    "# part 2\n",
    "print(sum(match_o(line) for line in lines))"
   ]
  }
 ],
 "metadata": {
  "kernelspec": {
   "display_name": ".venv",
   "language": "python",
   "name": "python3"
  },
  "language_info": {
   "codemirror_mode": {
    "name": "ipython",
    "version": 3
   },
   "file_extension": ".py",
   "mimetype": "text/x-python",
   "name": "python",
   "nbconvert_exporter": "python",
   "pygments_lexer": "ipython3",
   "version": "3.10.11"
  }
 },
 "nbformat": 4,
 "nbformat_minor": 2
}
