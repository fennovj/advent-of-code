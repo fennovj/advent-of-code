{
 "cells": [
  {
   "cell_type": "code",
   "execution_count": 23,
   "metadata": {},
   "outputs": [
    {
     "name": "stdout",
     "output_type": "stream",
     "text": [
      "409\n",
      "581\n"
     ]
    }
   ],
   "source": [
    "import advent\n",
    "from advent.utils import tadd2, tsub2\n",
    "import numpy as np\n",
    "advent.scrape(2024, 15)\n",
    "data = advent.get_lines_doublenewline(15)\n",
    "grid, directions = data\n",
    "grid = np.array([[c for c in line] for line in grid])\n",
    "directions = ''.join(directions)\n",
    "print(len(np.where(grid == '#')[0]))\n",
    "print(len(np.where(grid == 'O')[0]))\n",
    "\n",
    "offsets = {'>': (0, 1), '<': (0, -1), '^': (-1, 0), 'v': (1, 0)}"
   ]
  },
  {
   "cell_type": "code",
   "execution_count": 24,
   "metadata": {},
   "outputs": [
    {
     "name": "stdout",
     "output_type": "stream",
     "text": [
      "1349898\n"
     ]
    }
   ],
   "source": [
    "def step(grid, direction: tuple[int, int]):\n",
    "    robot = np.where(grid == '@')\n",
    "    robot = robot[0][0], robot[1][0]\n",
    "    new_pos = tadd2(robot, direction)\n",
    "    while grid[new_pos] != '#' and grid[new_pos] != '.':\n",
    "        new_pos = tadd2(new_pos, direction)\n",
    "    if grid[new_pos] == '#': return grid # We cant move this direction\n",
    "    # Now we want to move robot-(newpos-1) to (robot+1)-(newpos) and set robot to '.'\n",
    "    assert grid[new_pos] == '.'\n",
    "    # Nah that's not gonna be that easy...\n",
    "    #robot_plus_1, new_pos_plus_1 = tadd2(robot, direction), tadd2(new_pos, direction)\n",
    "    #grid[robot_plus_1[0]:new_pos_plus_1[0], robot_plus_1[1]:new_pos_plus_1[1]] = \\\n",
    "    #    grid[robot[0]:new_pos[0], robot[1]:new_pos[1]]\n",
    "    i, j = tsub2(new_pos, direction), new_pos\n",
    "    while j != robot:\n",
    "        grid[j] = grid[i]\n",
    "        i, j = tsub2(i, direction), i\n",
    "\n",
    "    grid[robot] = '.'\n",
    "    return grid\n",
    "\n",
    "\n",
    "grid, _ = data\n",
    "grid = np.array([[c for c in line] for line in grid])\n",
    "for direction in directions:\n",
    "    grid = step(grid, offsets[direction])\n",
    "    #print( f'---- {direction} --- ')\n",
    "    #for l in grid: print( ''.join(l))\n",
    "    #assert len(np.where(grid == '#')[0]) == 409\n",
    "    #assert len(np.where(grid == 'O')[0]) == 581\n",
    "\n",
    "x, y = np.where(grid == 'O')\n",
    "result = 0\n",
    "for i in range(len(x)):\n",
    "    result += (100 * x[i] + y[i])\n",
    "print(result)\n"
   ]
  },
  {
   "cell_type": "code",
   "execution_count": 25,
   "metadata": {},
   "outputs": [],
   "source": [
    "# Part 2\n",
    "# Man this is only day 15... The first week being easy was definitely an illusion\n",
    "\n",
    "# My approach: For each step, keep a set of elements that need to be moved\n",
    "# Then just make a copied grid and move the elements one by one\n",
    "\n",
    "def get_affected(grid, coord: tuple[int, int], direction: tuple[int, int]):\n",
    "    # If you pushed this block upwards, which blocks would also need to pushed upwards\n",
    "    if grid[coord] == '#': return None\n",
    "    if grid[coord] == '.': return set([]) # {coord}\n",
    "    if grid[coord] == 'O' or grid[coord] == '@':  # O is Only for part 1\n",
    "        r = get_affected(grid, tadd2(coord, direction), direction)\n",
    "        return {coord} | r if r is not None else None\n",
    "    assert grid[coord] in '[]', grid[coord]\n",
    "    if grid[coord] == ']': otherbox = tadd2(coord, (0, -1))\n",
    "    if grid[coord] == '[': otherbox = tadd2(coord, (0, 1))\n",
    "    l = get_affected(grid, tadd2(coord, direction), direction) if tadd2(coord, direction) != otherbox else set()\n",
    "    r = get_affected(grid, tadd2(otherbox, direction), direction) if tadd2(otherbox, direction) != coord else set()\n",
    "    if l is None or r is None: return None\n",
    "    else: return l | r | {coord, otherbox}\n",
    "\n",
    "def step2(grid, direction):\n",
    "    robot = np.where(grid == '@')\n",
    "    robot = robot[0][0], robot[1][0]\n",
    "    affected = get_affected(grid, robot, direction)\n",
    "    if affected is None: return grid.copy()\n",
    "    new_grid = grid.copy()\n",
    "    new_grid[robot] = '.'\n",
    "    for a in affected:\n",
    "        new_grid[tadd2(a, direction)] = grid[a]\n",
    "        # If this block got pushed but will not be pushed into, it will become empty\n",
    "        # This bug stumped me for like 20 minute.... D;\n",
    "        if tsub2(a, direction) not in affected: new_grid[a] = '.'\n",
    "    return new_grid\n",
    "\n"
   ]
  },
  {
   "cell_type": "code",
   "execution_count": 26,
   "metadata": {},
   "outputs": [
    {
     "name": "stdout",
     "output_type": "stream",
     "text": [
      "1376686\n"
     ]
    }
   ],
   "source": [
    "data = advent.get_lines_doublenewline(15)\n",
    "grid2, _ = data\n",
    "for i, l in enumerate(grid2):\n",
    "    grid2[i] = l.replace(\"#\", \"##\").replace(\".\", \"..\").replace(\"O\", \"[]\").replace('@', '@.')\n",
    "grid2 = np.array([[c for c in line] for line in grid2])    \n",
    "\n",
    "for direction in directions:\n",
    "    grid2 = step2(grid2, offsets[direction])\n",
    "    #print( f'---- {direction} --- ')\n",
    "    #for l in grid2: print( ''.join(l))\n",
    "\n",
    "x, y = np.where(grid2 == '[')\n",
    "result = 0\n",
    "for i in range(len(x)):\n",
    "    result += (100 * x[i] + y[i])\n",
    "print(result)\n",
    "# 1913350 too high"
   ]
  }
 ],
 "metadata": {
  "kernelspec": {
   "display_name": ".venv",
   "language": "python",
   "name": "python3"
  },
  "language_info": {
   "codemirror_mode": {
    "name": "ipython",
    "version": 3
   },
   "file_extension": ".py",
   "mimetype": "text/x-python",
   "name": "python",
   "nbconvert_exporter": "python",
   "pygments_lexer": "ipython3",
   "version": "3.12.3"
  }
 },
 "nbformat": 4,
 "nbformat_minor": 2
}
