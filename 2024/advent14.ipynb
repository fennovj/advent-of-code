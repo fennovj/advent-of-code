{
 "cells": [
  {
   "cell_type": "code",
   "execution_count": 16,
   "metadata": {},
   "outputs": [],
   "source": [
    "import advent\n",
    "from advent.utils import tadd2, tmul2\n",
    "import re\n",
    "advent.scrape(2024, 14)\n",
    "data = advent.get_lines(14)\n",
    "data = [[int(i) for i in re.findall(r'[-\\d]+', line)] for line in data ]"
   ]
  },
  {
   "cell_type": "code",
   "execution_count": 31,
   "metadata": {},
   "outputs": [
    {
     "name": "stdout",
     "output_type": "stream",
     "text": [
      "224969976\n"
     ]
    }
   ],
   "source": [
    "def calc_pos(line, steps=100, boardsize=(101, 103)):\n",
    "    result = tadd2(\n",
    "        (line[0], line[1]),\n",
    "        tmul2(steps, (line[2], line[3]))\n",
    "    )\n",
    "    return (result[0] % boardsize[0], result[1] % boardsize[1])\n",
    "\n",
    "assert calc_pos((2, 4, 2, -3), 5, (11, 7)) == (1, 3)\n",
    "\n",
    "def quadrant(coord, boardsize):\n",
    "    middle = boardsize[0] // 2, boardsize[1] // 2\n",
    "    if coord[0] == middle[0] or coord[1] == middle[1]: return None\n",
    "    return int(coord[0] > middle[0]), int(coord[1] > middle[1])\n",
    "\n",
    "from collections import Counter\n",
    "c = Counter()\n",
    "for line in data:\n",
    "    pos = calc_pos(line, 100, (101, 103))\n",
    "    c.update([quadrant(pos, (101, 103))])\n",
    "\n",
    "print(c[(0, 1)] * c[(1, 0)] * c[(0, 0)] * c[(1, 1)])"
   ]
  },
  {
   "cell_type": "code",
   "execution_count": null,
   "metadata": {},
   "outputs": [
    {
     "name": "stderr",
     "output_type": "stream",
     "text": [
      "  5%|▌         | 52548/999999 [00:28<08:36, 1833.41it/s]\n"
     ]
    },
    {
     "ename": "KeyboardInterrupt",
     "evalue": "",
     "output_type": "error",
     "traceback": [
      "\u001b[0;31m---------------------------------------------------------------------------\u001b[0m",
      "\u001b[0;31mKeyboardInterrupt\u001b[0m                         Traceback (most recent call last)",
      "Cell \u001b[0;32mIn[40], line 20\u001b[0m\n\u001b[1;32m     18\u001b[0m \u001b[38;5;28;01mimport\u001b[39;00m \u001b[38;5;21;01mtqdm\u001b[39;00m\n\u001b[1;32m     19\u001b[0m \u001b[38;5;28;01mfor\u001b[39;00m i \u001b[38;5;129;01min\u001b[39;00m tqdm\u001b[38;5;241m.\u001b[39mtqdm(\u001b[38;5;28mrange\u001b[39m(\u001b[38;5;241m999999\u001b[39m)):\n\u001b[0;32m---> 20\u001b[0m     \u001b[38;5;28;01mif\u001b[39;00m maybe_christmas(print_coords([calc_pos(l, \u001b[38;5;241m1\u001b[39m) \u001b[38;5;28;01mfor\u001b[39;00m l \u001b[38;5;129;01min\u001b[39;00m data])):\n\u001b[1;32m     21\u001b[0m         \u001b[38;5;28mprint\u001b[39m(i)\n\u001b[1;32m     22\u001b[0m         \u001b[38;5;28;01mbreak\u001b[39;00m\n",
      "Cell \u001b[0;32mIn[40], line 20\u001b[0m, in \u001b[0;36m<listcomp>\u001b[0;34m(.0)\u001b[0m\n\u001b[1;32m     18\u001b[0m \u001b[38;5;28;01mimport\u001b[39;00m \u001b[38;5;21;01mtqdm\u001b[39;00m\n\u001b[1;32m     19\u001b[0m \u001b[38;5;28;01mfor\u001b[39;00m i \u001b[38;5;129;01min\u001b[39;00m tqdm\u001b[38;5;241m.\u001b[39mtqdm(\u001b[38;5;28mrange\u001b[39m(\u001b[38;5;241m999999\u001b[39m)):\n\u001b[0;32m---> 20\u001b[0m     \u001b[38;5;28;01mif\u001b[39;00m maybe_christmas(print_coords([\u001b[43mcalc_pos\u001b[49m\u001b[43m(\u001b[49m\u001b[43ml\u001b[49m\u001b[43m,\u001b[49m\u001b[43m \u001b[49m\u001b[38;5;241;43m1\u001b[39;49m\u001b[43m)\u001b[49m \u001b[38;5;28;01mfor\u001b[39;00m l \u001b[38;5;129;01min\u001b[39;00m data])):\n\u001b[1;32m     21\u001b[0m         \u001b[38;5;28mprint\u001b[39m(i)\n\u001b[1;32m     22\u001b[0m         \u001b[38;5;28;01mbreak\u001b[39;00m\n",
      "Cell \u001b[0;32mIn[31], line 4\u001b[0m, in \u001b[0;36mcalc_pos\u001b[0;34m(line, steps, boardsize)\u001b[0m\n\u001b[1;32m      1\u001b[0m \u001b[38;5;28;01mdef\u001b[39;00m \u001b[38;5;21mcalc_pos\u001b[39m(line, steps\u001b[38;5;241m=\u001b[39m\u001b[38;5;241m100\u001b[39m, boardsize\u001b[38;5;241m=\u001b[39m(\u001b[38;5;241m101\u001b[39m, \u001b[38;5;241m103\u001b[39m)):\n\u001b[1;32m      2\u001b[0m     result \u001b[38;5;241m=\u001b[39m tadd2(\n\u001b[1;32m      3\u001b[0m         (line[\u001b[38;5;241m0\u001b[39m], line[\u001b[38;5;241m1\u001b[39m]),\n\u001b[0;32m----> 4\u001b[0m         \u001b[43mtmul2\u001b[49m\u001b[43m(\u001b[49m\u001b[43msteps\u001b[49m\u001b[43m,\u001b[49m\u001b[43m \u001b[49m\u001b[43m(\u001b[49m\u001b[43mline\u001b[49m\u001b[43m[\u001b[49m\u001b[38;5;241;43m2\u001b[39;49m\u001b[43m]\u001b[49m\u001b[43m,\u001b[49m\u001b[43m \u001b[49m\u001b[43mline\u001b[49m\u001b[43m[\u001b[49m\u001b[38;5;241;43m3\u001b[39;49m\u001b[43m]\u001b[49m\u001b[43m)\u001b[49m\u001b[43m)\u001b[49m\n\u001b[1;32m      5\u001b[0m     )\n\u001b[1;32m      6\u001b[0m     \u001b[38;5;28;01mreturn\u001b[39;00m (result[\u001b[38;5;241m0\u001b[39m] \u001b[38;5;241m%\u001b[39m boardsize[\u001b[38;5;241m0\u001b[39m], result[\u001b[38;5;241m1\u001b[39m] \u001b[38;5;241m%\u001b[39m boardsize[\u001b[38;5;241m1\u001b[39m])\n",
      "File \u001b[0;32m~/advent-of-code/advent/utils.py:14\u001b[0m, in \u001b[0;36mtmul2\u001b[0;34m(c, x)\u001b[0m\n\u001b[1;32m     11\u001b[0m \u001b[38;5;28;01mdef\u001b[39;00m \u001b[38;5;21mtsub2\u001b[39m(x: \u001b[38;5;28mtuple\u001b[39m[Any, Any], y: \u001b[38;5;28mtuple\u001b[39m[Any, Any]):\n\u001b[1;32m     12\u001b[0m     \u001b[38;5;28;01mreturn\u001b[39;00m (x[\u001b[38;5;241m0\u001b[39m] \u001b[38;5;241m-\u001b[39m y[\u001b[38;5;241m0\u001b[39m], x[\u001b[38;5;241m1\u001b[39m] \u001b[38;5;241m-\u001b[39m y[\u001b[38;5;241m1\u001b[39m])\n\u001b[0;32m---> 14\u001b[0m \u001b[38;5;28;01mdef\u001b[39;00m \u001b[38;5;21mtmul2\u001b[39m(c: Any, x: \u001b[38;5;28mtuple\u001b[39m[Any, Any]):\n\u001b[1;32m     15\u001b[0m     \u001b[38;5;28;01mreturn\u001b[39;00m (c \u001b[38;5;241m*\u001b[39m x[\u001b[38;5;241m0\u001b[39m], c \u001b[38;5;241m*\u001b[39m x[\u001b[38;5;241m1\u001b[39m])\n",
      "\u001b[0;31mKeyboardInterrupt\u001b[0m: "
     ]
    }
   ],
   "source": [
    "# Part 2\n",
    "# Sigh.. shouldve brute forced part 1\n",
    "\n",
    "def print_coords(coords:list[tuple[int, int]], boardsize=(101, 103), p=False):\n",
    "    board = [['.' for _ in range(boardsize[0])] for _ in range(boardsize[1])]\n",
    "    for c in coords:\n",
    "        board[c[1]][c[0]] = '#'\n",
    "    #for l in board:\n",
    "    #    if p: print(''.join(l))\n",
    "    return board\n",
    "\n",
    "def maybe_christmas(board):\n",
    "    for c in board:\n",
    "        if c.count('#') > 30:\n",
    "            return True\n",
    "    return False\n",
    "\n",
    "import tqdm\n",
    "for i in tqdm.tqdm(range(999999)):\n",
    "    if maybe_christmas(print_coords([calc_pos(l, 1) for l in data])):\n",
    "        print(i)\n",
    "        break"
   ]
  },
  {
   "cell_type": "code",
   "execution_count": 36,
   "metadata": {},
   "outputs": [
    {
     "data": {
      "text/plain": [
       "1"
      ]
     },
     "execution_count": 36,
     "metadata": {},
     "output_type": "execute_result"
    }
   ],
   "source": [
    "[1,2,3].count(2)"
   ]
  },
  {
   "cell_type": "code",
   "execution_count": 35,
   "metadata": {},
   "outputs": [
    {
     "data": {
      "text/plain": [
       "3"
      ]
     },
     "execution_count": 35,
     "metadata": {},
     "output_type": "execute_result"
    }
   ],
   "source": [
    "'...###...'.count('#')"
   ]
  },
  {
   "cell_type": "code",
   "execution_count": null,
   "metadata": {},
   "outputs": [],
   "source": []
  }
 ],
 "metadata": {
  "kernelspec": {
   "display_name": ".venv",
   "language": "python",
   "name": "python3"
  },
  "language_info": {
   "codemirror_mode": {
    "name": "ipython",
    "version": 3
   },
   "file_extension": ".py",
   "mimetype": "text/x-python",
   "name": "python",
   "nbconvert_exporter": "python",
   "pygments_lexer": "ipython3",
   "version": "3.10.11"
  }
 },
 "nbformat": 4,
 "nbformat_minor": 2
}
