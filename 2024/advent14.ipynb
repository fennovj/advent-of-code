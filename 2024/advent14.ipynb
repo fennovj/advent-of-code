{
 "cells": [
  {
   "cell_type": "code",
   "execution_count": 16,
   "metadata": {},
   "outputs": [],
   "source": [
    "import advent\n",
    "from advent.utils import tadd2, tmul2\n",
    "import re\n",
    "advent.scrape(2024, 14)\n",
    "data = advent.get_lines(14)\n",
    "data = [[int(i) for i in re.findall(r'[-\\d]+', line)] for line in data ]"
   ]
  },
  {
   "cell_type": "code",
   "execution_count": 31,
   "metadata": {},
   "outputs": [
    {
     "name": "stdout",
     "output_type": "stream",
     "text": [
      "224969976\n"
     ]
    }
   ],
   "source": [
    "def calc_pos(line, steps=100, boardsize=(101, 103)):\n",
    "    result = tadd2(\n",
    "        (line[0], line[1]),\n",
    "        tmul2(steps, (line[2], line[3]))\n",
    "    )\n",
    "    return (result[0] % boardsize[0], result[1] % boardsize[1])\n",
    "\n",
    "assert calc_pos((2, 4, 2, -3), 5, (11, 7)) == (1, 3)\n",
    "\n",
    "def quadrant(coord, boardsize):\n",
    "    middle = boardsize[0] // 2, boardsize[1] // 2\n",
    "    if coord[0] == middle[0] or coord[1] == middle[1]: return None\n",
    "    return int(coord[0] > middle[0]), int(coord[1] > middle[1])\n",
    "\n",
    "from collections import Counter\n",
    "c = Counter()\n",
    "for line in data:\n",
    "    pos = calc_pos(line, 100, (101, 103))\n",
    "    c.update([quadrant(pos, (101, 103))])\n",
    "\n",
    "print(c[(0, 1)] * c[(1, 0)] * c[(0, 0)] * c[(1, 1)])"
   ]
  },
  {
   "cell_type": "code",
   "execution_count": 58,
   "metadata": {},
   "outputs": [
    {
     "name": "stdout",
     "output_type": "stream",
     "text": [
      "[10403, 10403, 10403, 10403, 10403, 10403, 10403, 10403, 10403, 10403, 10403, 10403, 10403, 10403, 10403, 10403, 10403, 10403, 10403, 10403, 10403, 10403, 10403, 10403, 10403, 10403, 10403, 10403, 10403, 10403, 10403, 10403, 10403, 10403, 10403, 10403, 10403, 10403, 10403, 10403, 10403, 10403, 10403, 10403, 10403, 10403, 10403, 10403, 10403, 10403, 10403, 10403, 10403, 10403, 10403, 10403, 10403, 10403, 10403, 10403, 10403, 10403, 10403, 10403, 10403, 10403, 10403, 10403, 10403, 10403, 10403, 10403, 10403, 10403, 10403, 10403, 10403, 10403, 10403, 10403, 10403, 10403, 10403, 10403, 10403, 10403, 10403, 10403, 10403, 10403, 10403, 10403, 10403, 10403, 10403, 10403, 10403, 10403, 10403, 10403, 10403, 10403, 10403, 10403, 10403, 10403, 10403, 10403, 10403, 10403, 10403, 10403, 10403, 10403, 10403, 10403, 10403, 10403, 10403, 10403, 10403, 10403, 10403, 10403, 10403, 10403, 10403, 10403, 10403, 10403, 10403, 10403, 10403, 10403, 10403, 10403, 10403, 10403, 10403, 10403, 10403, 10403, 10403, 10403, 10403, 10403, 10403, 10403, 10403, 10403, 10403, 10403, 10403, 10403, 10403, 10403, 10403, 10403, 10403, 10403, 10403, 10403, 10403, 10403, 10403, 10403, 10403, 10403, 10403, 10403, 10403, 10403, 10403, 10403, 10403, 10403, 10403, 10403, 10403, 10403, 10403, 10403, 10403, 10403, 10403, 10403, 10403, 10403, 10403, 10403, 10403, 10403, 10403, 10403, 10403, 10403, 10403, 10403, 10403, 10403, 10403, 10403, 10403, 10403, 10403, 10403, 10403, 10403, 10403, 10403, 10403, 10403, 10403, 10403, 10403, 10403, 10403, 10403, 10403, 10403, 10403, 10403, 10403, 10403, 10403, 10403, 10403, 10403, 10403, 10403, 10403, 10403, 10403, 10403, 10403, 10403, 10403, 10403, 10403, 10403, 10403, 10403, 10403, 10403, 10403, 10403, 10403, 10403, 10403, 10403, 10403, 10403, 10403, 10403, 10403, 10403, 10403, 10403, 10403, 10403, 10403, 10403, 10403, 10403, 10403, 10403, 10403, 10403, 10403, 10403, 10403, 10403, 10403, 10403, 10403, 10403, 10403, 10403, 10403, 10403, 10403, 10403, 10403, 10403, 10403, 10403, 10403, 10403, 10403, 10403, 10403, 10403, 10403, 10403, 10403, 10403, 10403, 10403, 10403, 10403, 10403, 10403, 10403, 10403, 10403, 10403, 10403, 10403, 10403, 10403, 10403, 10403, 10403, 10403, 10403, 10403, 10403, 10403, 10403, 10403, 10403, 10403, 10403, 10403, 10403, 10403, 10403, 10403, 10403, 10403, 10403, 10403, 10403, 10403, 10403, 10403, 10403, 10403, 10403, 10403, 10403, 10403, 10403, 10403, 10403, 10403, 10403, 10403, 10403, 10403, 10403, 10403, 10403, 10403, 10403, 10403, 10403, 10403, 10403, 10403, 10403, 10403, 10403, 10403, 10403, 10403, 10403, 10403, 10403, 10403, 10403, 10403, 10403, 10403, 10403, 10403, 10403, 10403, 10403, 10403, 10403, 10403, 10403, 10403, 10403, 10403, 10403, 10403, 10403, 10403, 10403, 10403, 10403, 10403, 10403, 10403, 10403, 10403, 10403, 10403, 10403, 10403, 10403, 10403, 10403, 10403, 10403, 10403, 10403, 10403, 10403, 10403, 10403, 10403, 10403, 10403, 10403, 10403, 10403, 10403, 10403, 10403, 10403, 10403, 10403, 10403, 10403, 10403, 10403, 10403, 10403, 10403, 10403, 10403, 10403, 10403, 10403, 10403, 10403, 10403, 10403, 10403, 10403, 10403, 10403, 10403, 10403, 10403, 10403, 10403, 10403, 10403, 10403, 10403, 10403, 10403, 10403, 10403, 10403, 10403, 10403, 10403, 10403, 10403, 10403, 10403, 10403, 10403, 10403, 10403, 10403, 10403, 10403, 10403, 10403, 10403, 10403, 10403, 10403, 10403, 10403, 10403, 10403, 10403, 10403, 10403, 10403, 10403, 10403, 10403, 10403, 10403, 10403, 10403, 10403, 10403, 10403, 10403, 10403, 10403]\n"
     ]
    }
   ],
   "source": [
    "# Part 2\n",
    "# Sigh.. shouldve brute forced part 1\n",
    "\n",
    "def print_coords(coords:list[tuple[int, int]], boardsize=(101, 103), p=False):\n",
    "    board = [['.' for _ in range(boardsize[0])] for _ in range(boardsize[1])]\n",
    "    for c in coords:\n",
    "        board[c[1]][c[0]] = '#'\n",
    "    for l in board:\n",
    "        if p: print(''.join(l))\n",
    "    if not p: return board\n",
    "\n",
    "# This function is just a heuristic, but I supposed the 'underside' of the christmas tree\n",
    "# would be a long horizontal line. So if there are 30 '#' in a row, it may be a picture\n",
    "def maybe_christmas(board):\n",
    "    for c in board:\n",
    "        if c.count('#') > 30:\n",
    "            return True\n",
    "    return False\n",
    "\n",
    "# First, let's get an idea of how many we need to brute force\n",
    "def period(line):\n",
    "    for i in range(1, 999999):\n",
    "        if calc_pos(line, i) == (line[0], line[1]): return i\n",
    "\n",
    "print([period(line) for line in data])"
   ]
  },
  {
   "cell_type": "code",
   "execution_count": 60,
   "metadata": {},
   "outputs": [
    {
     "name": "stdout",
     "output_type": "stream",
     "text": [
      "1918, 4081, 6244, 7892, "
     ]
    }
   ],
   "source": [
    "# It looks like every coordinate just has a period of 10403 (which is lcm(101, 103), so could've known)\n",
    "# So now let's call 'maybe_christmas' function on all those periods to check\n",
    "\n",
    "for i in range(10403):\n",
    "    if maybe_christmas(print_coords([calc_pos(l, i) for l in data])):\n",
    "        print(i, end=\", \")"
   ]
  },
  {
   "cell_type": "code",
   "execution_count": null,
   "metadata": {},
   "outputs": [],
   "source": [
    "# There are 4 candidates: 1918, 4081, 6244, 7892, \n",
    "# So I did the sensible thing and just print all 4 of them, and the 4th one worked\n",
    "print_coords([calc_pos(l, 7892) for l in data], p=True)"
   ]
  },
  {
   "cell_type": "code",
   "execution_count": null,
   "metadata": {},
   "outputs": [],
   "source": []
  }
 ],
 "metadata": {
  "kernelspec": {
   "display_name": ".venv",
   "language": "python",
   "name": "python3"
  },
  "language_info": {
   "codemirror_mode": {
    "name": "ipython",
    "version": 3
   },
   "file_extension": ".py",
   "mimetype": "text/x-python",
   "name": "python",
   "nbconvert_exporter": "python",
   "pygments_lexer": "ipython3",
   "version": "3.10.11"
  }
 },
 "nbformat": 4,
 "nbformat_minor": 2
}
