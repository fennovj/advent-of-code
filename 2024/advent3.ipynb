{
 "cells": [
  {
   "cell_type": "code",
   "execution_count": 21,
   "metadata": {},
   "outputs": [],
   "source": [
    "import advent\n",
    "data = ''.join(advent.get_lines(3))"
   ]
  },
  {
   "cell_type": "code",
   "execution_count": null,
   "metadata": {},
   "outputs": [
    {
     "name": "stdout",
     "output_type": "stream",
     "text": [
      "182780583\n"
     ]
    }
   ],
   "source": [
    "# part 1\n",
    "import re # yes, we're going there\n",
    "\n",
    "pattern = r'mul\\(\\d+\\,\\d+\\)'\n",
    "matches = re.findall(pattern, data)\n",
    "\n",
    "def apply_mul(mulstr):\n",
    "    first, second = mulstr[4:-1].split(',')\n",
    "    return int(first) * int(second)\n",
    "\n",
    "result = 0\n",
    "for match in matches:\n",
    "    result += apply_mul(match)\n",
    "\n",
    "print(result)\n"
   ]
  },
  {
   "cell_type": "code",
   "execution_count": null,
   "metadata": {},
   "outputs": [],
   "source": [
    "# part 2\n",
    "\n",
    "pattern = r'mul\\(\\d+\\,\\d+\\)|do\\(\\)|don\\'t\\(\\)'\n",
    "matches = re.findall(pattern, data)\n",
    "\n",
    "result = 0\n",
    "enabled = 1\n",
    "for match in matches:\n",
    "    if match == 'do()': enabled = 1\n",
    "    elif match == \"don't()\": enabled = 0\n",
    "    elif enabled: result += apply_mul(match)\n",
    "\n",
    "print(result)"
   ]
  }
 ],
 "metadata": {
  "kernelspec": {
   "display_name": ".venv",
   "language": "python",
   "name": "python3"
  },
  "language_info": {
   "codemirror_mode": {
    "name": "ipython",
    "version": 3
   },
   "file_extension": ".py",
   "mimetype": "text/x-python",
   "name": "python",
   "nbconvert_exporter": "python",
   "pygments_lexer": "ipython3",
   "version": "3.10.13"
  }
 },
 "nbformat": 4,
 "nbformat_minor": 2
}
