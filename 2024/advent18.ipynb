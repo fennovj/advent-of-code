{
 "cells": [
  {
   "cell_type": "code",
   "execution_count": 6,
   "metadata": {},
   "outputs": [
    {
     "name": "stdout",
     "output_type": "stream",
     "text": [
      "3450\n"
     ]
    }
   ],
   "source": [
    "import advent\n",
    "advent.scrape(2024, 18)\n",
    "data = advent.get_lines(18)\n",
    "data = [tuple([int(i) for i in line.split(',')]) for line in data]\n",
    "print(len(data))"
   ]
  },
  {
   "cell_type": "code",
   "execution_count": 16,
   "metadata": {},
   "outputs": [],
   "source": [
    "# I added this cell just for part 1, because I want a different number of rocks for different calls to adjacent\n",
    "# But there is going to be far more calls to adjacent than to rocks, so we can reuse some of these results\n",
    "from functools import cache\n",
    "\n",
    "@cache\n",
    "def rocks(n):\n",
    "    return set(data[:n])"
   ]
  },
  {
   "cell_type": "code",
   "execution_count": 19,
   "metadata": {},
   "outputs": [
    {
     "data": {
      "application/vnd.jupyter.widget-view+json": {
       "model_id": "bc7e3dbc6b2c419083c9dd36ea97c437",
       "version_major": 2,
       "version_minor": 0
      },
      "text/plain": [
       "  0%|          | 0/1 [00:00<?, ?it/s]"
      ]
     },
     "metadata": {},
     "output_type": "display_data"
    },
    {
     "name": "stdout",
     "output_type": "stream",
     "text": [
      "Final path length: 372\n"
     ]
    }
   ],
   "source": [
    "from advent.utils import tadd2\n",
    "from advent.maze import solve_maze\n",
    "start = (0, 0)\n",
    "is_end = lambda x: x == (70, 70)\n",
    "# part1rocks = set(data[:1024])\n",
    "offsets = [(0, 1), (0, -1), (-1, 0), (1, 0)]\n",
    "\n",
    "def adjacent(coord, num_bytes):\n",
    "    for o in offsets:\n",
    "        n = tadd2(coord, o)\n",
    "        if n[0] < 0 or n[0] > 70 or n[1] < 0 or n[1] > 70 or n in rocks(num_bytes): continue\n",
    "        yield n, 1\n",
    "\n",
    "result, path = solve_maze(start, is_end, lambda c: adjacent(c, 1024))"
   ]
  },
  {
   "cell_type": "code",
   "execution_count": 28,
   "metadata": {},
   "outputs": [
    {
     "name": "stderr",
     "output_type": "stream",
     "text": [
      " 78%|███████▊  | 1884/2426 [00:12<00:03, 156.41it/s]"
     ]
    },
    {
     "name": "stdout",
     "output_type": "stream",
     "text": [
      "2908: 25,6\n"
     ]
    },
    {
     "name": "stderr",
     "output_type": "stream",
     "text": [
      "\n"
     ]
    }
   ],
   "source": [
    "from advent.maze import solve_maze_no_tqdm\n",
    "from tqdm import tqdm\n",
    "\n",
    "for i in tqdm(range(1024, len(data))):\n",
    "    _, _, possible = solve_maze_no_tqdm(start, is_end, lambda c: adjacent(c, i))\n",
    "    if not possible: break\n",
    "# Annoying off by one error... the last element of data[:i] is not data[i]...\n",
    "print(f\"{i-1}: {data[i-1][0]},{data[i-1][1]}\")"
   ]
  }
 ],
 "metadata": {
  "kernelspec": {
   "display_name": ".venv",
   "language": "python",
   "name": "python3"
  },
  "language_info": {
   "codemirror_mode": {
    "name": "ipython",
    "version": 3
   },
   "file_extension": ".py",
   "mimetype": "text/x-python",
   "name": "python",
   "nbconvert_exporter": "python",
   "pygments_lexer": "ipython3",
   "version": "3.10.11"
  }
 },
 "nbformat": 4,
 "nbformat_minor": 2
}
