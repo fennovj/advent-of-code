{
 "cells": [
  {
   "cell_type": "code",
   "execution_count": 26,
   "metadata": {},
   "outputs": [],
   "source": [
    "import advent\n",
    "from scipy.ndimage import generic_filter\n",
    "data = advent.get_char_grid(4, map_fn=ord)\n"
   ]
  },
  {
   "cell_type": "code",
   "execution_count": 27,
   "metadata": {},
   "outputs": [
    {
     "name": "stdout",
     "output_type": "stream",
     "text": [
      "2358\n"
     ]
    }
   ],
   "source": [
    "# part 1\n",
    "\n",
    "# generic filter maybe a bit overkill but I think it will look cool\n",
    "# The grid will have indexes:\n",
    "# 00 01 02 03 04 05 06\n",
    "# 07 08 09 10 11 12 13\n",
    "# 14 15 16 17 18 19 20\n",
    "# 21 22 23 24 25 26 27\n",
    "# 28 29 30 31 32 33 34\n",
    "# 35 36 37 38 39 40 41\n",
    "# 42 43 44 45 46 47 48\n",
    "\n",
    "directions = [\n",
    "    (24, 17, 10, 3),\n",
    "    (24, 18, 12, 6),\n",
    "    (24, 25, 26, 27),\n",
    "    (24, 32, 40, 48),\n",
    "    (24, 31, 38, 45),\n",
    "    (24, 30, 36, 42),\n",
    "    (24, 23, 22, 21),\n",
    "    (24, 16, 8, 0)\n",
    "]\n",
    "\n",
    "def apply(patch):\n",
    "    result = 0\n",
    "    for d in directions:\n",
    "        # Kind of annoyed at having to use the ord of 'XMAS' here\n",
    "        # But scipy was being annoying about the type of the array\n",
    "        if patch[d[0]] == 88 \\\n",
    "        and patch[d[1]] == 77 \\\n",
    "        and patch[d[2]] == 65 \\\n",
    "        and patch[d[3]] == 83:\n",
    "            result += 1\n",
    "    return result\n",
    "\n",
    "result = generic_filter(data, apply, size=7, mode='constant', cval=0)\n",
    "print(result.sum())"
   ]
  },
  {
   "cell_type": "code",
   "execution_count": null,
   "metadata": {},
   "outputs": [
    {
     "name": "stdout",
     "output_type": "stream",
     "text": [
      "1737\n"
     ]
    }
   ],
   "source": [
    "# part 2\n",
    "# much smaller patch so this is actually easier :D\n",
    "\n",
    "# The grid will have indexes:\n",
    "# 0 1 2\n",
    "# 3 4 5\n",
    "# 6 7 8\n",
    "\n",
    "def apply_p2(patch):\n",
    "    # XMAS = 88, 77, 65, 83\n",
    "    if patch[4] != 65: return 0\n",
    "    corners = [patch[0], patch[2], patch[6], patch[8]]\n",
    "    if corners.count(83) != 2: return 0\n",
    "    if corners.count(77) != 2: return 0\n",
    "    # we dont allow MAM/SAS crosses. first 'headscratches' moment this year :)\n",
    "    if patch[0] == patch[8]: return 0\n",
    "    return 1\n",
    "\n",
    "# 126 too low 1784 too high\n",
    "result = generic_filter(data, apply_p2, size=3, mode='constant', cval=0)\n",
    "print(result.sum())\n"
   ]
  }
 ],
 "metadata": {
  "kernelspec": {
   "display_name": ".venv",
   "language": "python",
   "name": "python3"
  },
  "language_info": {
   "codemirror_mode": {
    "name": "ipython",
    "version": 3
   },
   "file_extension": ".py",
   "mimetype": "text/x-python",
   "name": "python",
   "nbconvert_exporter": "python",
   "pygments_lexer": "ipython3",
   "version": "3.10.11"
  }
 },
 "nbformat": 4,
 "nbformat_minor": 2
}
