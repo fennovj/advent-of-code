{
 "cells": [
  {
   "cell_type": "code",
   "execution_count": 43,
   "metadata": {},
   "outputs": [],
   "source": [
    "import advent\n",
    "import math\n",
    "advent.scrape(2024, 17)\n",
    "data = advent.get_lines_doublenewline(17)\n",
    "registers = {'A': 45483412, 'B': 0, 'C': 0}\n",
    "program = [int(i) for i in data[1][0][9:].split(\",\")]"
   ]
  },
  {
   "cell_type": "code",
   "execution_count": 44,
   "metadata": {},
   "outputs": [],
   "source": [
    "def combo(registers: dict[str, int], operand: int) -> int:\n",
    "    if operand < 4: return operand\n",
    "    if operand < 7: return registers[chr(operand + 61)]\n",
    "    raise ValueError(operand)\n",
    "\n",
    "def step(registers: dict[str, int], instruction_pointer: int):\n",
    "    opcode, operand = program[instruction_pointer], program[instruction_pointer + 1]\n",
    "    out = []\n",
    "    if opcode == 0:\n",
    "        registers['A'] = registers['A'] >> combo(registers, operand)\n",
    "    elif opcode == 1:\n",
    "        registers['B'] = registers['B'] ^ operand\n",
    "    elif opcode == 2:\n",
    "        registers['B'] = combo(registers, operand) % 8\n",
    "    elif opcode == 3:\n",
    "        if registers['A'] != 0: instruction_pointer = (operand - 2)\n",
    "    elif opcode == 4:\n",
    "        registers['B'] = registers['B'] ^ registers['C']\n",
    "    elif opcode == 5:\n",
    "        out = [combo(registers, operand) % 8]\n",
    "    elif opcode == 6:\n",
    "        registers['B'] = registers['A'] >> combo(registers, operand)\n",
    "    elif opcode == 7:\n",
    "        registers['C'] = registers['A'] >> combo(registers, operand)\n",
    "    instruction_pointer += 2\n",
    "    return registers, instruction_pointer, out"
   ]
  },
  {
   "cell_type": "code",
   "execution_count": 45,
   "metadata": {},
   "outputs": [
    {
     "name": "stdout",
     "output_type": "stream",
     "text": [
      "{'A': 5685426, 'B': 355337, 'C': 355339} [1]\n",
      "{'A': 710678, 'B': 2842717, 'C': 2842713} [1, 5]\n",
      "{'A': 88834, 'B': 22208, 'C': 22208} [1, 5, 0]\n",
      "{'A': 11104, 'B': 44421, 'C': 44417} [1, 5, 0, 5]\n",
      "{'A': 1388, 'B': 1386, 'C': 1388} [1, 5, 0, 5, 2]\n",
      "{'A': 173, 'B': 8, 'C': 10} [1, 5, 0, 5, 2, 0]\n",
      "{'A': 21, 'B': 1, 'C': 2} [1, 5, 0, 5, 2, 0, 1]\n",
      "{'A': 2, 'B': 3, 'C': 0} [1, 5, 0, 5, 2, 0, 1, 3]\n",
      "1,5,0,5,2,0,1,3,5\n"
     ]
    }
   ],
   "source": [
    "instruction_pointer, result = 0, []\n",
    "registers = {'A': 45483412, 'B': 0, 'C': 0}\n",
    "\n",
    "while instruction_pointer < (len(program) - 1):\n",
    "    registers, instruction_pointer, out = step(registers, instruction_pointer)\n",
    "    result = result + out\n",
    "    if instruction_pointer == 0:\n",
    "        print(registers, result)\n",
    "print(\",\".join([str(c) for c in result]))"
   ]
  },
  {
   "cell_type": "code",
   "execution_count": 108,
   "metadata": {},
   "outputs": [],
   "source": [
    "from tqdm import tqdm\n",
    "\n",
    "# Brute force, fairly hopeless...\n",
    "\n",
    "program = [0,3,5,4,3,0] # This works very fast\n",
    "program = [2,4,1,3,7,5,0,3,4,1,1,5,5,5,3,0]\n",
    "\n",
    "def run(i):\n",
    "    registers = {'A': i, 'B': 0, 'C': 0}\n",
    "    instruction_pointer = 0\n",
    "    output_ix = 0\n",
    "    while instruction_pointer < (len(program) - 1):\n",
    "        registers, instruction_pointer, out = step(registers, instruction_pointer)\n",
    "        if out:\n",
    "            if out[0] != program[output_ix]: return False\n",
    "            output_ix += 1\n",
    "    return output_ix == len(program)\n",
    "\n",
    "#for i in tqdm(range(0, 8**16)):\n",
    "#    if run(i):\n",
    "#        break\n",
    "#print(i)\n"
   ]
  },
  {
   "cell_type": "code",
   "execution_count": 109,
   "metadata": {},
   "outputs": [],
   "source": [
    "# Part 2, honestly I didn't even want to try brute forcing it, seems like a lost cause. (I wrote the cell above later just to prove it wouldnt work)\n",
    "\n",
    "# Combo: 4=a,5=b,6=c\n",
    "# The program is: 2,4 - 1,3 - 7,5 - 0,3 - 4,1 - 1,5 - 5,5 - 3,0\n",
    "# B = A % 8\n",
    "# B = B xor b'011'\n",
    "# C = A >> B\n",
    "# A = A >> 3\n",
    "# B = B xor C\n",
    "# B = B xor b'101'\n",
    "# output B % 8\n",
    "# if A != 0, jump to beginning\n",
    "\n",
    "# We can 'solve' it a bit: the output is B xor C xor 101, where B = A%8 xor 011, and C = A >> B\n",
    "# so [ A%8 xor (A >> (A%8 xor 101)) xor 110 ]    (110 = 101 xor 011)\n",
    "# Then after each iteration, A = A >> 3, and B and C are overwritten again\n",
    "\n",
    "# To keep it simple, let's say we want the first output to be 0, 1, 0\n",
    "# and e.g. A%8 = 0. Then we enforce that A >> 5 xor 110 must be 010, so A>>5 must be 100\n",
    "# But let's say A%8 = 7, then A >> 2 xor 110 must be 101, so A>>2 must be 011\n",
    "# etcetera. We get these 'branches' that simultaneously have some free choices while also forcing some bits"
   ]
  },
  {
   "cell_type": "code",
   "execution_count": 129,
   "metadata": {},
   "outputs": [
    {
     "name": "stdout",
     "output_type": "stream",
     "text": [
      "236581108670061\n",
      "236581108670143\n"
     ]
    }
   ],
   "source": [
    "# But we get a lot more constrained towards the end: the last output is 0, and we know there cannot be any more bits above that\n",
    "# (or else it will output more stuff at the end)\n",
    "# So the restriction must be some A >> n = 0, or perhaps A >> 0 = xxx, or A >> 1 = 0xx, or A >> 2 = 00x\n",
    "\n",
    "# A%8 = xxx --> A >> (101 xor xxx) = (110 xor xxx)\n",
    "from typing import Iterator\n",
    "\n",
    "def determine_next_number(A = 0, next = 0) -> Iterator[int]:\n",
    "    for i in range(8):\n",
    "        As = 8*A + i\n",
    "        B = (As % 8) ^ 3\n",
    "        C = (As >> B)\n",
    "        o = (B ^ C ^ 5) % 8\n",
    "        # I'm not sure why I was so focused on this C == i^6 check, cost me a lot of time and removing it just worked\n",
    "        if o == next: # and C == i^6:\n",
    "            yield i\n",
    "        #print(f\"A%8 = {format(i, '03b',)} --> A >> {i^5} ({format(i >> (i^5), '03b')}) = {format(i^6, '03b')}. output = {format(o, '03b')} ({format(next, '03b')})\")\n",
    "\n",
    "def determine_all_numbers(A: int, nexts: list[int]) -> Iterator[list[int]]:\n",
    "    # Recursively try every possibile number and continue down the list until we reach empty list, which is always possible\n",
    "    # We build A 'top-down' i.e. starting with most significant digit, and working our way down to less significant digits\n",
    "    # input: A is all the most significant digits decided so far, nexsts is the list of desired outputs\n",
    "    # Because we go in 'reverse' order, the last element of nexts is the one we actually want to output 'first'\n",
    "    if len(nexts) == 0:\n",
    "        yield []\n",
    "        return\n",
    "    numbers = list(determine_next_number(A, nexts[-1]))\n",
    "    for num in numbers:\n",
    "        An = 8*A + num\n",
    "        for r in determine_all_numbers(An, nexts[:-1]):\n",
    "            yield [num] + r\n",
    "\n",
    "\n",
    "program = [2,4,1,3,7,5,0,3,4,1,1,5,5,5,3,0]\n",
    "for i in determine_all_numbers(0, program):\n",
    "    print(int(''.join([str(j) for j in i]), 8))"
   ]
  }
 ],
 "metadata": {
  "kernelspec": {
   "display_name": ".venv",
   "language": "python",
   "name": "python3"
  },
  "language_info": {
   "codemirror_mode": {
    "name": "ipython",
    "version": 3
   },
   "file_extension": ".py",
   "mimetype": "text/x-python",
   "name": "python",
   "nbconvert_exporter": "python",
   "pygments_lexer": "ipython3",
   "version": "3.10.11"
  }
 },
 "nbformat": 4,
 "nbformat_minor": 2
}
