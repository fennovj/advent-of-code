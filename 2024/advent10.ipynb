{
 "cells": [
  {
   "cell_type": "code",
   "execution_count": 73,
   "metadata": {},
   "outputs": [],
   "source": [
    "import advent\n",
    "import numpy as np\n",
    "from advent.maze import solve_maze_no_tqdm\n",
    "advent.scrape(2024, 10, 'csv')\n",
    "data = advent.get_char_grid(10).astype(int)\n",
    "\n",
    "def find(data, char):\n",
    "    # This is almost going in the advent package...\n",
    "    matches = np.where(data == char)\n",
    "    for i in range(len(matches[0])):\n",
    "        yield (matches[0][i], matches[1][i])"
   ]
  },
  {
   "cell_type": "code",
   "execution_count": null,
   "metadata": {},
   "outputs": [
    {
     "name": "stdout",
     "output_type": "stream",
     "text": [
      "733\n"
     ]
    }
   ],
   "source": [
    "def adjacent(coord):\n",
    "    for offset in ((0, 1), (0, -1), (1, 0), (-1, 0)):\n",
    "        newcoord = (coord[0] + offset[0], coord[1] + offset[1])\n",
    "        if newcoord[0] < 0 or newcoord[0] >= data.shape[0] or \\\n",
    "           newcoord[1] < 0 or newcoord[1] >= data.shape[1]:\n",
    "            continue\n",
    "        if data[newcoord] - data[coord] == 1:\n",
    "            yield (newcoord, 1)\n",
    "\n",
    "# Got stuck for like 10 minutes on part 2...\n",
    "# This is a generator so can only be looped over once\n",
    "# Convert it to a list instead so we can reuse it for part 2\n",
    "zeros, nines = list(find(data, 0)), set(find(data, 9))\n",
    "result = 0\n",
    "for zero in zeros:\n",
    "    _, reachable, _ = solve_maze_no_tqdm(zero, lambda _: False, adjacent)\n",
    "    result += len(nines.intersection(reachable.keys()))\n",
    "print(result)"
   ]
  },
  {
   "cell_type": "code",
   "execution_count": null,
   "metadata": {},
   "outputs": [
    {
     "name": "stdout",
     "output_type": "stream",
     "text": [
      "1514\n"
     ]
    }
   ],
   "source": [
    "# Part 2\n",
    "# Well we got punished... The adjacency rules (which are easy for us to change)\n",
    "# didn't change anyway, but instead we have to count the number of distinct paths...\n",
    "# Which would have been easy with floodfill anyway... at least we can reuse adjacency\n",
    "import itertools\n",
    "from functools import cache\n",
    "children = {}\n",
    "\n",
    "for i, j in itertools.product(range(data.shape[0]), range(data.shape[1])):\n",
    "    children[(i, j)] = [c for c, _ in adjacent((i, j))]\n",
    "\n",
    "@cache\n",
    "def count_paths_to_nine(coord):\n",
    "    if data[coord] == 9: return 1\n",
    "    result = 0\n",
    "    for p in children[coord]:\n",
    "        result += count_paths_to_nine(p)\n",
    "    return result\n",
    "\n",
    "result = 0\n",
    "for zero in zeros:\n",
    "    result += count_paths_to_nine(zero)\n",
    "print(result)\n",
    "\n"
   ]
  }
 ],
 "metadata": {
  "kernelspec": {
   "display_name": ".venv",
   "language": "python",
   "name": "python3"
  },
  "language_info": {
   "codemirror_mode": {
    "name": "ipython",
    "version": 3
   },
   "file_extension": ".py",
   "mimetype": "text/x-python",
   "name": "python",
   "nbconvert_exporter": "python",
   "pygments_lexer": "ipython3",
   "version": "3.10.11"
  }
 },
 "nbformat": 4,
 "nbformat_minor": 2
}
