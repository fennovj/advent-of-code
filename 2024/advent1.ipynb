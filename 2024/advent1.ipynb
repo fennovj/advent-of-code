{
 "cells": [
  {
   "cell_type": "code",
   "execution_count": 14,
   "metadata": {},
   "outputs": [],
   "source": [
    "import advent\n",
    "data = [l.split(' ') for l in advent.get_lines(1)]\n",
    "data = [(int(l[0]), int(l[-1])) for l in data]\n",
    "\n",
    "l0, l1 = sorted([l[0] for l in data]), sorted([l[1] for l in data])"
   ]
  },
  {
   "cell_type": "code",
   "execution_count": 15,
   "metadata": {},
   "outputs": [
    {
     "name": "stdout",
     "output_type": "stream",
     "text": [
      "2430334\n"
     ]
    }
   ],
   "source": [
    "# Part 1\n",
    "distance = 0\n",
    "for i in range(len(l0)):\n",
    "    distance += abs(l0[i] - l1[i])\n",
    "print(distance)"
   ]
  },
  {
   "cell_type": "code",
   "execution_count": 16,
   "metadata": {},
   "outputs": [
    {
     "name": "stdout",
     "output_type": "stream",
     "text": [
      "28786472\n"
     ]
    }
   ],
   "source": [
    "# Part 2\n",
    "# Can be done in o(n log n) by iterating over both sorted lists simultaneously. but I dont care ;)\n",
    "similarity = 0\n",
    "for item in l0:\n",
    "    for other in l1:\n",
    "        if item == other:\n",
    "            similarity += item\n",
    "print(similarity)"
   ]
  }
 ],
 "metadata": {
  "kernelspec": {
   "display_name": ".venv",
   "language": "python",
   "name": "python3"
  },
  "language_info": {
   "codemirror_mode": {
    "name": "ipython",
    "version": 3
   },
   "file_extension": ".py",
   "mimetype": "text/x-python",
   "name": "python",
   "nbconvert_exporter": "python",
   "pygments_lexer": "ipython3",
   "version": "3.10.13"
  }
 },
 "nbformat": 4,
 "nbformat_minor": 2
}
