{
 "cells": [
  {
   "cell_type": "code",
   "execution_count": 1,
   "metadata": {},
   "outputs": [],
   "source": [
    "import advent\n",
    "from advent.utils import np_where_as_tuple, tadd2, tsub2\n",
    "advent.scrape(2024, 20, 'csv')\n",
    "data = advent.get_char_grid(20)\n",
    "start, end = np_where_as_tuple(data, 'S')[0], np_where_as_tuple(data, 'E')[0]\n",
    "offsets = [(0, 1), (0, -1), (1, 0), (-1, 0)]"
   ]
  },
  {
   "cell_type": "code",
   "execution_count": 2,
   "metadata": {},
   "outputs": [
    {
     "name": "stdout",
     "output_type": "stream",
     "text": [
      "9484\n"
     ]
    }
   ],
   "source": [
    "def build_path(data, start, end):\n",
    "    # Builds a path from start to end with the length along the path\n",
    "    # The assertion statements are there because I need to know there are no splits along the path anywhere\n",
    "    # Which is implied by the question I guess, but I wanted to double check\n",
    "    path = {start: 0}\n",
    "    current = start\n",
    "    while current != end:\n",
    "        c = None\n",
    "        for o in offsets:\n",
    "            new = tadd2(current, o)\n",
    "            if data[new] != '#' and new not in path:\n",
    "                assert not c, f\"{start}, {end}, {current}\"\n",
    "                path[new] = path[current] + 1\n",
    "                c = new\n",
    "                continue\n",
    "        assert c\n",
    "        current = c\n",
    "    return path\n",
    "\n",
    "path = build_path(data, start, end)\n",
    "print(path[end]) # total path is 9484 steps"
   ]
  },
  {
   "cell_type": "code",
   "execution_count": 3,
   "metadata": {},
   "outputs": [
    {
     "name": "stdout",
     "output_type": "stream",
     "text": [
      "1485\n"
     ]
    }
   ],
   "source": [
    "# list of cheats that save 100+ seconds\n",
    "p1cheats = set([])\n",
    "to_save = 100\n",
    "\n",
    "for p in path:\n",
    "    for o in offsets:\n",
    "        new = tadd2(p, o)\n",
    "        if data[new] != '#': continue # Can only cheat in walls\n",
    "        for j in offsets:\n",
    "            new2 = tadd2(new, j)\n",
    "            if new2[0] < 0 or new2[0] >= data.shape[0] or new2[1] < 0 or new2[1] >= data.shape[1]: continue\n",
    "            if data[new2] == '#': continue  # can only cheat out of walls\n",
    "            # saving 100 seconds would be e.g. going 1, 2, c, 104: it would normally take 104, now it takes 4. so the diff has to be >= 102\n",
    "            if path[new2] - path[p] >= to_save + 2: p1cheats.add((new, new2))\n",
    "\n",
    "print(len(p1cheats))"
   ]
  },
  {
   "cell_type": "code",
   "execution_count": null,
   "metadata": {},
   "outputs": [],
   "source": [
    "# Part 2\n",
    "\n",
    "# When I read it, I was fully convinced cheats could *only* go through walls. Meaning that I can't just\n",
    "# Take all points in manhattan distance, I had to actually use BFS to find points reachable through walls\n",
    "# later I found out that cheats can go through normal squares as well, and it was easy enough to fix\n",
    "# But leads to quite inefficient code: I am using dijkstra to find all points reachable in 20 steps or less\n",
    "# When that could literally be done with some simple math"
   ]
  },
  {
   "cell_type": "code",
   "execution_count": 4,
   "metadata": {},
   "outputs": [],
   "source": [
    "# Part 2\n",
    "# Considering cheats can be length 20 I want to use a BFS, but it will be a weird adj...\n",
    "from typing import NamedTuple, Iterator\n",
    "from advent.maze import solve_maze_no_tqdm\n",
    "\n",
    "class Node(NamedTuple):\n",
    "    length: int\n",
    "    coord: tuple[int, int]\n",
    "\n",
    "def adjacent(node: Node) -> Iterator[tuple[Node, int]]:\n",
    "    if node.length == 20: return []\n",
    "    # :@ This wasn't neccesarry after all!!!!\n",
    "    # if data[node.coord] != '#': return [] # Cannot re-enter a cheat from a non-wall\n",
    "    for o in offsets:\n",
    "        new = tadd2(node.coord, o)\n",
    "        if new[0] < 0 or new[0] >= data.shape[0] or new[1] < 0 or new[1] >= data.shape[1]: continue\n",
    "        yield Node(node.length + 1, new), 1\n",
    "\n",
    "#_, nodes, _ = solve_maze_no_tqdm(Node(1, (50, 81)), lambda x: False, adjacent)\n",
    "#print(len([n for n in nodes if data[n.coord] != '#'])) # These are all the cheats possible from (50, 81)"
   ]
  },
  {
   "cell_type": "code",
   "execution_count": 10,
   "metadata": {},
   "outputs": [
    {
     "name": "stderr",
     "output_type": "stream",
     "text": [
      "100%|██████████| 9485/9485 [02:51<00:00, 55.29it/s]"
     ]
    },
    {
     "name": "stdout",
     "output_type": "stream",
     "text": [
      "1027501\n"
     ]
    },
    {
     "name": "stderr",
     "output_type": "stream",
     "text": [
      "\n"
     ]
    }
   ],
   "source": [
    "from functools import cache\n",
    "from tqdm import tqdm\n",
    "p2cheats = set([])\n",
    "to_save = 100\n",
    "\n",
    "@cache\n",
    "def get_cheats(wall):\n",
    "    _, nodes, _ = solve_maze_no_tqdm(Node(0, wall), lambda x: False, adjacent)\n",
    "    return nodes\n",
    "\n",
    "for p in tqdm(path):\n",
    "    nodes = get_cheats(p)\n",
    "    for n in nodes:\n",
    "        if data[n.coord] == '#': continue # cheats cannot end in walls\n",
    "        if (path[n.coord] - path[p]) >= (to_save + n.length):\n",
    "            p2cheats.add((p, n.coord))\n",
    "\n",
    "# Takes like 7 minutes... obviously a lot of redundancy since we call solve_maze_no_tqdm so many times without any caching\n",
    "print(len(p2cheats)) # 1027501"
   ]
  },
  {
   "cell_type": "code",
   "execution_count": 9,
   "metadata": {},
   "outputs": [
    {
     "name": "stderr",
     "output_type": "stream",
     "text": [
      "100%|██████████| 9485/9485 [00:02<00:00, 3873.16it/s]"
     ]
    },
    {
     "name": "stdout",
     "output_type": "stream",
     "text": [
      "322835\n"
     ]
    },
    {
     "name": "stderr",
     "output_type": "stream",
     "text": [
      "\n"
     ]
    }
   ],
   "source": [
    "from functools import cache\n",
    "from tqdm import tqdm\n",
    "p2cheats = set([])\n",
    "to_save = 100\n",
    "\n",
    "@cache\n",
    "def get_cheats_without_dijkstra(wall) -> list[Node]:\n",
    "    result = []\n",
    "    for i in range(21):\n",
    "        for j in range(21-i):\n",
    "            if i+j == 0: continue # That's not a cheat...\n",
    "            new = tadd2(wall, (i, j))\n",
    "            if new[0] < 0 or new[0] >= data.shape[0] or new[1] < 0 or new[1] >= data.shape[1]: continue\n",
    "            if data[new] == '#': continue # cheats cannot end in '#'\n",
    "            result.append(Node((i+j), new))\n",
    "    return result\n",
    "\n",
    "get_cheats_without_dijkstra.cache_clear()\n",
    "\n",
    "for p in tqdm(path):\n",
    "    nodes = get_cheats_without_dijkstra(p)\n",
    "    for n in nodes:\n",
    "        if (path[n.coord] - path[p]) >= (to_save + n.length):\n",
    "            #if (p, n.coord) not in p2cheats: print((tadd2(p, (1, 1)), tadd2(n.coord, (1, 1))))\n",
    "            p2cheats.add((p, n.coord))\n",
    "\n",
    "print(len(p2cheats))"
   ]
  },
  {
   "cell_type": "code",
   "execution_count": 8,
   "metadata": {},
   "outputs": [
    {
     "data": {
      "text/plain": [
       "9485"
      ]
     },
     "execution_count": 8,
     "metadata": {},
     "output_type": "execute_result"
    }
   ],
   "source": [
    "len(path)"
   ]
  },
  {
   "cell_type": "code",
   "execution_count": null,
   "metadata": {},
   "outputs": [],
   "source": []
  }
 ],
 "metadata": {
  "kernelspec": {
   "display_name": ".venv",
   "language": "python",
   "name": "python3"
  },
  "language_info": {
   "codemirror_mode": {
    "name": "ipython",
    "version": 3
   },
   "file_extension": ".py",
   "mimetype": "text/x-python",
   "name": "python",
   "nbconvert_exporter": "python",
   "pygments_lexer": "ipython3",
   "version": "3.10.11"
  }
 },
 "nbformat": 4,
 "nbformat_minor": 2
}
