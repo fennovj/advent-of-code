{
 "cells": [
  {
   "cell_type": "code",
   "execution_count": 5,
   "metadata": {},
   "outputs": [],
   "source": [
    "import advent\n",
    "advent.scrape(2024, 25)\n",
    "data = advent.get_lines_doublenewline(25)\n",
    "\n",
    "def parse(grid):\n",
    "    key = grid[0][0] == '.'\n",
    "    heights = [sum(grid[i][j]=='#' for i in range(7))-1 for j in range(5)]\n",
    "    return key, heights\n",
    "\n",
    "grids = [parse(grid) for grid in data]"
   ]
  },
  {
   "cell_type": "code",
   "execution_count": 15,
   "metadata": {},
   "outputs": [
    {
     "name": "stdout",
     "output_type": "stream",
     "text": [
      "3255\n"
     ]
    }
   ],
   "source": [
    "result = 0\n",
    "for key in grids:\n",
    "    if not key[0]: continue # only keys\n",
    "    for lock in grids:\n",
    "        if lock[0]: continue # only locks\n",
    "        #print(key, lock)\n",
    "        if max(map(sum, zip(key[1], lock[1]))) <= 5:\n",
    "            result += 1\n",
    "print(result)"
   ]
  }
 ],
 "metadata": {
  "kernelspec": {
   "display_name": ".venv",
   "language": "python",
   "name": "python3"
  },
  "language_info": {
   "codemirror_mode": {
    "name": "ipython",
    "version": 3
   },
   "file_extension": ".py",
   "mimetype": "text/x-python",
   "name": "python",
   "nbconvert_exporter": "python",
   "pygments_lexer": "ipython3",
   "version": "3.12.3"
  }
 },
 "nbformat": 4,
 "nbformat_minor": 2
}
