{
 "cells": [
  {
   "cell_type": "code",
   "execution_count": 7,
   "metadata": {},
   "outputs": [
    {
     "name": "stdout",
     "output_type": "stream",
     "text": [
      "('pt', 'af') 3380\n",
      "520\n"
     ]
    }
   ],
   "source": [
    "import advent\n",
    "advent.scrape(2024, 23)\n",
    "data: list[tuple[str, str]] = advent.get_lines(23, map_fn=lambda x: tuple(x.split('-')))\n",
    "print(data[0], len(data))\n",
    "\n",
    "nodeset = set([l[0] for l in data] + [l[1] for l in data])\n",
    "print(len(nodeset))"
   ]
  },
  {
   "cell_type": "code",
   "execution_count": 25,
   "metadata": {},
   "outputs": [
    {
     "name": "stdout",
     "output_type": "stream",
     "text": [
      "1062\n"
     ]
    }
   ],
   "source": [
    "from functools import cache\n",
    "\n",
    "@cache # We need this cache for part 2\n",
    "def adjacent(node: str):\n",
    "    return [l[1] for l in data if l[0] == node] + [l[0] for l in data if l[1] == node]\n",
    "\n",
    "resultset = set([])\n",
    "for node in nodeset:\n",
    "    #print(node)\n",
    "    if not node.startswith('t'): continue\n",
    "    for node2 in adjacent(node):\n",
    "        for node3 in adjacent(node2):\n",
    "            if node in adjacent(node3):\n",
    "                resultset.add(tuple(sorted((node, node2, node3))))\n",
    "print(len(resultset))"
   ]
  },
  {
   "cell_type": "code",
   "execution_count": 48,
   "metadata": {},
   "outputs": [
    {
     "name": "stderr",
     "output_type": "stream",
     "text": [
      "100%|██████████| 520/520 [00:17<00:00, 29.52it/s]"
     ]
    },
    {
     "name": "stdout",
     "output_type": "stream",
     "text": [
      "bz,cs,fx,ms,oz,po,sy,uh,uv,vw,xu,zj,zm\n"
     ]
    },
    {
     "name": "stderr",
     "output_type": "stream",
     "text": [
      "\n"
     ]
    }
   ],
   "source": [
    "# Going to just do BFS for part 2\n",
    "from advent.maze import solve_maze_no_tqdm\n",
    "from typing import Iterator\n",
    "from tqdm import tqdm\n",
    "\n",
    "Node = tuple[str, frozenset[str]]\n",
    "\n",
    "def adjacent_2(node: Node) -> Iterator[tuple[Node, int]]:\n",
    "    for new in adjacent(node[0]):\n",
    "        if new in node[1]: continue\n",
    "        if len(node[1] - set(adjacent(new))) == 0:\n",
    "            # Current set is all adjacent to new node, so its fully connected\n",
    "            yield (node[0], node[1]|{new}), 1\n",
    "\n",
    "def start(n: str) -> Node:\n",
    "    return (n, frozenset([n]))\n",
    "\n",
    "bestresult, s = 0, {}\n",
    "for node in tqdm(nodeset):\n",
    "    _, n, _ = solve_maze_no_tqdm(start(node), lambda x: False, adjacent_2)\n",
    "    score = len(max(n, key=lambda x: len(x[1]))[1])\n",
    "    if score > bestresult:\n",
    "        bestresult = score\n",
    "        s = max(n, key=lambda x: len(x[1]))[1]\n",
    "\n",
    "print(','.join(sorted(list(s))))"
   ]
  }
 ],
 "metadata": {
  "kernelspec": {
   "display_name": ".venv",
   "language": "python",
   "name": "python3"
  },
  "language_info": {
   "codemirror_mode": {
    "name": "ipython",
    "version": 3
   },
   "file_extension": ".py",
   "mimetype": "text/x-python",
   "name": "python",
   "nbconvert_exporter": "python",
   "pygments_lexer": "ipython3",
   "version": "3.10.11"
  }
 },
 "nbformat": 4,
 "nbformat_minor": 2
}
