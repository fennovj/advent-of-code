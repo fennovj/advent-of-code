{
 "cells": [
  {
   "cell_type": "code",
   "execution_count": 5,
   "metadata": {},
   "outputs": [],
   "source": [
    "import advent\n",
    "advent.scrape(2024, 11)\n",
    "data = advent.get_lines(11)[0]\n",
    "data = [int(i) for i in data.split()]\n",
    "\n",
    "def step(rock: int):\n",
    "    if rock == 0: return [1]\n",
    "    rockstr = str(rock)\n",
    "    if len(rockstr) % 2 == 0:\n",
    "        return [int(rockstr[:len(rockstr) // 2]), int(rockstr[len(rockstr) // 2:])]\n",
    "    return [rock * 2024]\n",
    "\n",
    "assert step(0) == [1]\n",
    "assert step(9876) == [98, 76]\n",
    "assert step(999) == [2021976]"
   ]
  },
  {
   "cell_type": "code",
   "execution_count": null,
   "metadata": {},
   "outputs": [
    {
     "name": "stdout",
     "output_type": "stream",
     "text": [
      "193269\n"
     ]
    }
   ],
   "source": [
    "rocks = data\n",
    "for _ in range(25):\n",
    "    newrocks = [step(rock) for rock in rocks]\n",
    "    rocks = [rock for sublist in newrocks for rock in sublist]\n",
    "\n",
    "print(len(rocks))"
   ]
  },
  {
   "cell_type": "code",
   "execution_count": 16,
   "metadata": {},
   "outputs": [
    {
     "name": "stdout",
     "output_type": "stream",
     "text": [
      "228449040027793\n"
     ]
    }
   ],
   "source": [
    "def safe_write(d: dict[int, int], key: int, value: int):\n",
    "    if key in d: d[key] += value\n",
    "    else: d[key] = value\n",
    "\n",
    "# Part 2\n",
    "# Keep a dictionary of rocks and amounts of each\n",
    "def step_dict(rocksdict: dict[int, int]):\n",
    "    result = {}\n",
    "    for rock in rocksdict:\n",
    "        for newrock in step(rock):\n",
    "            safe_write(result, newrock, rocksdict[rock])\n",
    "    return result\n",
    "\n",
    "rocksdict = dict([(r, 1) for r in data])\n",
    "for _ in range(75):\n",
    "    rocksdict = step_dict(rocksdict)\n",
    "print(sum([rocksdict[k] for k in rocksdict]))\n"
   ]
  }
 ],
 "metadata": {
  "kernelspec": {
   "display_name": ".venv",
   "language": "python",
   "name": "python3"
  },
  "language_info": {
   "codemirror_mode": {
    "name": "ipython",
    "version": 3
   },
   "file_extension": ".py",
   "mimetype": "text/x-python",
   "name": "python",
   "nbconvert_exporter": "python",
   "pygments_lexer": "ipython3",
   "version": "3.10.11"
  }
 },
 "nbformat": 4,
 "nbformat_minor": 2
}
