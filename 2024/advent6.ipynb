{
 "cells": [
  {
   "cell_type": "code",
   "execution_count": 2,
   "metadata": {},
   "outputs": [],
   "source": [
    "import advent\n",
    "import numpy as np\n",
    "data = advent.get_char_grid(6)\n",
    "\n",
    "def out_of_bounds(data, coord):\n",
    "    return coord[0] < 0 or \\\n",
    "        coord[0] >= data.shape[0] or \\\n",
    "        coord[1] < 0 or \\\n",
    "        coord[1] >= data.shape[1]\n",
    "\n",
    "def clockwise(rot):\n",
    "    return (rot[1], -rot[0])"
   ]
  },
  {
   "cell_type": "code",
   "execution_count": null,
   "metadata": {},
   "outputs": [
    {
     "name": "stdout",
     "output_type": "stream",
     "text": [
      "5331\n"
     ]
    }
   ],
   "source": [
    "# part 1\n",
    "datapart1 = data.copy()\n",
    "coord = np.where(data == '^')[0][0], np.where(data == '^')[1][0]\n",
    "offset = (-1, 0) # up, works for ^\n",
    "\n",
    "while True:\n",
    "    datapart1[coord] = 'g'\n",
    "    proposed_coord = coord[0] + offset[0], coord[1] + offset[1]\n",
    "    if out_of_bounds(data, proposed_coord):\n",
    "        break\n",
    "    if data[proposed_coord] == '#':\n",
    "        # This is not correct, it only tries one rotation and just assumes you can move after that\n",
    "        # It still gives the correct answer though... fixed in part 2\n",
    "        offset = clockwise(offset)\n",
    "        \n",
    "    coord = coord[0] + offset[0], coord[1] + offset[1]\n",
    "\n",
    "print(len(np.where(datapart1 == 'g')[0]))"
   ]
  },
  {
   "cell_type": "code",
   "execution_count": null,
   "metadata": {},
   "outputs": [
    {
     "name": "stderr",
     "output_type": "stream",
     "text": [
      "100%|██████████| 130/130 [01:22<00:00,  1.57it/s]"
     ]
    },
    {
     "name": "stdout",
     "output_type": "stream",
     "text": [
      "1812\n"
     ]
    },
    {
     "name": "stderr",
     "output_type": "stream",
     "text": [
      "\n"
     ]
    }
   ],
   "source": [
    "# Part 2\n",
    "start = np.where(data == '^')[0][0], np.where(data == '^')[1][0]\n",
    "\n",
    "def detect_loop(data, start, offset = (-1, 0)):\n",
    "    visited = set([])\n",
    "    coord = start\n",
    "    while True:\n",
    "        visited.add((coord, offset))\n",
    "        proposed_coord = coord[0] + offset[0], coord[1] + offset[1]\n",
    "        if out_of_bounds(data, proposed_coord):\n",
    "            return False\n",
    "        while data[proposed_coord] == '#':\n",
    "            offset = clockwise(offset)\n",
    "            proposed_coord = coord[0] + offset[0], coord[1] + offset[1]\n",
    "        coord = coord[0] + offset[0], coord[1] + offset[1]\n",
    "        if (coord, offset) in visited:\n",
    "            return True\n",
    "import tqdm\n",
    "result = 0\n",
    "for i in tqdm.tqdm(range(data.shape[0])):\n",
    "    for j in range(data.shape[1]):\n",
    "        if data[i,j] == '#' or data[i, j] == '^':\n",
    "            continue\n",
    "        datapart2 = data.copy()\n",
    "        datapart2[i, j] = '#'\n",
    "        if detect_loop(datapart2, start):\n",
    "            result += 1\n",
    "print(result)"
   ]
  }
 ],
 "metadata": {
  "kernelspec": {
   "display_name": ".venv",
   "language": "python",
   "name": "python3"
  },
  "language_info": {
   "codemirror_mode": {
    "name": "ipython",
    "version": 3
   },
   "file_extension": ".py",
   "mimetype": "text/x-python",
   "name": "python",
   "nbconvert_exporter": "python",
   "pygments_lexer": "ipython3",
   "version": "3.10.11"
  }
 },
 "nbformat": 4,
 "nbformat_minor": 2
}
