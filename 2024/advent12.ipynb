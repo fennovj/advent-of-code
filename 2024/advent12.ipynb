{
 "cells": [
  {
   "cell_type": "code",
   "execution_count": 4,
   "metadata": {},
   "outputs": [],
   "source": [
    "import advent\n",
    "import numpy as np\n",
    "advent.scrape(2024, 12, 'csv')\n",
    "data = advent.get_char_grid(12)\n",
    "padded_data = np.pad(data, 1, constant_values=['.'])"
   ]
  },
  {
   "cell_type": "code",
   "execution_count": 5,
   "metadata": {},
   "outputs": [
    {
     "name": "stdout",
     "output_type": "stream",
     "text": [
      "1489582\n"
     ]
    }
   ],
   "source": [
    "from advent.utils import tadd2\n",
    "\n",
    "offsets = [(-1, 0), (1, 0), (0, 1), (0, -1)]\n",
    "\n",
    "def get_score(leaves: set[tuple[int, int]]):\n",
    "    # Score = area * perimeter\n",
    "    area = len(leaves)\n",
    "    perimeter = 0\n",
    "    for leaf in leaves:\n",
    "        for o in offsets:\n",
    "            if tadd2(leaf, o) not in leaves: perimeter += 1\n",
    "    return area * perimeter\n",
    "\n",
    "def complete_field(flower: tuple[int, int], field: set[tuple[int, int]]):\n",
    "    field.add(flower)\n",
    "    for o in offsets:\n",
    "        newflower = tadd2(flower, o)\n",
    "        if newflower not in field and padded_data[newflower] == padded_data[flower]:\n",
    "            field = complete_field(newflower, field)\n",
    "    return field\n",
    "    \n",
    "\n",
    "fields = set([])\n",
    "result = 0\n",
    "for i in range(data.shape[0]):\n",
    "    for j in range(data.shape[1]):\n",
    "        field = complete_field((i+1, j+1), set([]))\n",
    "        # This is kind of stupid brute force: we calculate the area for every (i, j)\n",
    "        # even though 99% of the time its redundant but oh well it works\n",
    "        if frozenset(field) not in fields:\n",
    "            fields.add(frozenset(field))\n",
    "            result += get_score(field)\n",
    "print(result) # 40495393 too high"
   ]
  },
  {
   "cell_type": "code",
   "execution_count": null,
   "metadata": {},
   "outputs": [
    {
     "name": "stdout",
     "output_type": "stream",
     "text": [
      "914966\n"
     ]
    }
   ],
   "source": [
    "# Part 2\n",
    "\n",
    "# We only need to rewrite the 'get_score' function\n",
    "\n",
    "# This is likely to be terrible... but what I decided to do for side calculations is\n",
    "# a side is set[tuple[tuple[int, int], tuple[int, int]]] : set of pairs of coords\n",
    "# the coords on either side of the side, where a is *inside* the shape\n",
    "from advent.utils import tsub2, tadd2\n",
    "\n",
    "flip = lambda x: (x[1], x[0])\n",
    "flip2 = lambda x: (-x[1], -x[0])\n",
    "\n",
    "def expand_side(a: tuple[int, int], b:tuple[int, int], side: set|None=None):\n",
    "    # a must be inside the shape and b must be outside the shape!!\n",
    "    # This function just recursively keeps traveling along the side\n",
    "    # Until the side ends on both sides\n",
    "    if side is None: side=set([])\n",
    "    side.add((a, b))\n",
    "    offset = tsub2(a, b)\n",
    "    left = tadd2(a, flip(offset)), tadd2(b, flip(offset))\n",
    "    right = tadd2(a, flip2(offset)), tadd2(b, flip2(offset))\n",
    "    if padded_data[a] == padded_data[left[0]] and padded_data[a] != padded_data[left[1]] and left not in side:\n",
    "        expand_side(left[0], left[1], side)\n",
    "    if padded_data[a] == padded_data[right[0]] and padded_data[a] != padded_data[right[1]] and right not in side:\n",
    "        expand_side(right[0], right[1], side)\n",
    "    return side\n",
    "\n",
    "def get_score2(field: set[tuple[int, int]]):\n",
    "    sides: set[frozenset[tuple[tuple[int, int], tuple[int, int]]]] = set([])\n",
    "\n",
    "    # For each element in the field, calculate all its sides and add them to sides\n",
    "    # Obviously this will massively overcount sides, but because sides is a set\n",
    "    # all duplicates will be naturally removed, ending us with a list of unique sides\n",
    "    for a in field:\n",
    "        for o in offsets:\n",
    "            b = tadd2(a, o)\n",
    "            if padded_data[a] != padded_data[b]:\n",
    "                sides.add(frozenset(expand_side(a, b)))\n",
    "    return len(field) * len(sides)\n",
    "\n",
    "result = 0\n",
    "for field in fields:\n",
    "    result += get_score2(field)\n",
    "print(result)"
   ]
  }
 ],
 "metadata": {
  "kernelspec": {
   "display_name": ".venv",
   "language": "python",
   "name": "python3"
  },
  "language_info": {
   "codemirror_mode": {
    "name": "ipython",
    "version": 3
   },
   "file_extension": ".py",
   "mimetype": "text/x-python",
   "name": "python",
   "nbconvert_exporter": "python",
   "pygments_lexer": "ipython3",
   "version": "3.10.11"
  }
 },
 "nbformat": 4,
 "nbformat_minor": 2
}
