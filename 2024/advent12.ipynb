{
 "cells": [
  {
   "cell_type": "code",
   "execution_count": 38,
   "metadata": {},
   "outputs": [],
   "source": [
    "import advent\n",
    "import numpy as np\n",
    "advent.scrape(2024, 12, 'csv')\n",
    "data = advent.get_char_grid(12)\n",
    "padded_data = np.pad(data, 1, constant_values=['.'])"
   ]
  },
  {
   "cell_type": "code",
   "execution_count": null,
   "metadata": {},
   "outputs": [
    {
     "name": "stdout",
     "output_type": "stream",
     "text": [
      "1489582\n"
     ]
    }
   ],
   "source": [
    "from advent.utils import tadd2\n",
    "from functools import cache\n",
    "\n",
    "offsets = [(-1, 0), (1, 0), (0, 1), (0, -1)]\n",
    "\n",
    "def get_score(leaves: set[tuple[int, int]]):\n",
    "    # Score = area * perimeter\n",
    "    area = len(leaves)\n",
    "    perimeter = 0\n",
    "    for leaf in leaves:\n",
    "        for o in offsets:\n",
    "            if tadd2(leaf, o) not in leaves: perimeter += 1\n",
    "    return area * perimeter\n",
    "\n",
    "def complete_field(flower: tuple[int, int], field: set[tuple[int, int]]):\n",
    "    field.add(flower)\n",
    "    for o in offsets:\n",
    "        newflower = tadd2(flower, o)\n",
    "        if newflower not in field and padded_data[newflower] == padded_data[flower]:\n",
    "            field = complete_field(newflower, field)\n",
    "    return field\n",
    "    \n",
    "\n",
    "fields = set([])\n",
    "result = 0\n",
    "for i in range(data.shape[0]):\n",
    "    for j in range(data.shape[1]):\n",
    "        field = complete_field((i+1, j+1), set([]))\n",
    "        # This is kind of stupid brute force: we calculate the area for every (i, j)\n",
    "        # even though 99% of the time its redundant but oh well it works\n",
    "        if frozenset(field) not in fields:\n",
    "            fields.add(frozenset(field))\n",
    "            result += get_score(field)\n",
    "print(result) # 40495393 too high"
   ]
  },
  {
   "cell_type": "code",
   "execution_count": null,
   "metadata": {},
   "outputs": [
    {
     "name": "stdout",
     "output_type": "stream",
     "text": [
      "0\n"
     ]
    }
   ],
   "source": [
    "# Part 2\n",
    "\n",
    "# We only need to rewrite the 'get_score' function\n",
    "\n",
    "def get_score2(field: set[tuple[int, int]]):\n",
    "    return 0 # TODO\n",
    "\n",
    "result = 0\n",
    "for field in fields:\n",
    "    result += get_score2(field)\n",
    "print(result)"
   ]
  }
 ],
 "metadata": {
  "kernelspec": {
   "display_name": ".venv",
   "language": "python",
   "name": "python3"
  },
  "language_info": {
   "codemirror_mode": {
    "name": "ipython",
    "version": 3
   },
   "file_extension": ".py",
   "mimetype": "text/x-python",
   "name": "python",
   "nbconvert_exporter": "python",
   "pygments_lexer": "ipython3",
   "version": "3.10.11"
  }
 },
 "nbformat": 4,
 "nbformat_minor": 2
}
