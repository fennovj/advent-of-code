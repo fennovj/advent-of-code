{
 "cells": [
  {
   "cell_type": "code",
   "execution_count": 13,
   "metadata": {},
   "outputs": [],
   "source": [
    "import advent\n",
    "advent.scrape(2024, 22)\n",
    "data = advent.get_lines(22)\n",
    "data: list[int] = [int(l) for l in data]"
   ]
  },
  {
   "cell_type": "code",
   "execution_count": 14,
   "metadata": {},
   "outputs": [
    {
     "name": "stdout",
     "output_type": "stream",
     "text": [
      "20068964552\n"
     ]
    }
   ],
   "source": [
    "def evolve(num: int):\n",
    "    num = num ^ (num << 6) & 16777215\n",
    "    num = num ^ (num >> 5) & 16777215\n",
    "    num = num ^ (num << 11) & 16777215\n",
    "    return num\n",
    "    \n",
    "def evolve_n_times(num: int, n: int):\n",
    "    for _ in range(n):\n",
    "        num = evolve(num)\n",
    "    return num\n",
    "\n",
    "result = 0\n",
    "for line in data:\n",
    "    result += evolve_n_times(line, 2000)\n",
    "print(result)"
   ]
  },
  {
   "cell_type": "code",
   "execution_count": 52,
   "metadata": {},
   "outputs": [],
   "source": [
    "# Let's calculate the sequences a 2d matrix\n",
    "# y-axis length is 2001: the initial position as well as 2000 new positions\n",
    "import numpy as np\n",
    "seq = np.zeros((len(data), 2001), dtype=int)\n",
    "for i, num in enumerate(data):\n",
    "    for j in range(2001):\n",
    "        seq[i, j] = num % 10\n",
    "        num = evolve(num)\n",
    "# This is size n x 2000: only the 2000 diffs\n",
    "diffs = np.diff(seq)\n",
    "\n",
    "difftuples: list[list[tuple[int, int, int, int]]] = [0] * len(data)\n",
    "difftuplesset: list[set[tuple[int, int, int, int]]] = [{}] * len(data)\n",
    "for i in range(len(data)):\n",
    "    difftuples[i] = [tuple(diffs[i, j:(j+4)]) for j in range(1997)]\n",
    "    difftuplesset[i] = set(difftuples[i])\n",
    "\n",
    "# Reminder: difftuples[n][i] is the diffs from i,i+1,i+2,i+3,i+4\n",
    "# To get the value at the end of these diffs, do seq[n][i+4]"
   ]
  },
  {
   "cell_type": "code",
   "execution_count": null,
   "metadata": {},
   "outputs": [
    {
     "name": "stderr",
     "output_type": "stream",
     "text": [
      "100%|██████████| 19/19 [03:12<00:00, 10.14s/it]"
     ]
    },
    {
     "name": "stdout",
     "output_type": "stream",
     "text": [
      "2246\n"
     ]
    },
    {
     "name": "stderr",
     "output_type": "stream",
     "text": [
      "\n"
     ]
    }
   ],
   "source": [
    "def calculate_coins(tup: tuple[int, int, int, int]) -> int:\n",
    "    result = 0\n",
    "    for i in range(len(data)):\n",
    "        # Use a set here because I expect this to be false the majority of the time\n",
    "        # and 'x in set' is much faster than 'list.index'\n",
    "        if tup in difftuplesset[i]:\n",
    "            ix = difftuples[i].index(tup)\n",
    "            result += seq[i][ix+4]\n",
    "    return result\n",
    "\n",
    "from tqdm import tqdm\n",
    "\n",
    "mostbananas = 0\n",
    "# Took like 3m15s lol. A lot of wasted effort, e.g.\n",
    "# The diffs [-9, -9, -9, -9] is not even possible to ever get\n",
    "for i in tqdm(range(-9, 10)):\n",
    "    for j in range(-9, 10):\n",
    "        for k in range(-9, 10):\n",
    "            for l in range(-9, 10):\n",
    "                score = calculate_coins((i, j, k, l))\n",
    "                if score > mostbananas:\n",
    "                    mostbananas = score\n",
    "print(mostbananas)"
   ]
  }
 ],
 "metadata": {
  "kernelspec": {
   "display_name": ".venv",
   "language": "python",
   "name": "python3"
  },
  "language_info": {
   "codemirror_mode": {
    "name": "ipython",
    "version": 3
   },
   "file_extension": ".py",
   "mimetype": "text/x-python",
   "name": "python",
   "nbconvert_exporter": "python",
   "pygments_lexer": "ipython3",
   "version": "3.10.11"
  }
 },
 "nbformat": 4,
 "nbformat_minor": 2
}
