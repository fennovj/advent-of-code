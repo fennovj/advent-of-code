{
 "cells": [
  {
   "cell_type": "code",
   "execution_count": 25,
   "metadata": {},
   "outputs": [],
   "source": [
    "import advent\n",
    "import numpy as np\n",
    "\n",
    "advent.scrape(2024, 8, 'csv')\n",
    "data = advent.get_char_grid(8)\n",
    "\n",
    "def tadd(tupa, tupb):\n",
    "    return (tupa[0] + tupb[0], tupa[1] + tupb[1])\n",
    "\n",
    "def tsub(tupa, tupb):\n",
    "    return (tupa[0] - tupb[0], tupa[1] - tupb[1])\n",
    "\n",
    "def tmul(c, tup):\n",
    "    return (c * tup[0], c * tup[1])\n",
    "\n",
    "def inbound(data, tup):\n",
    "    return tup[0] >= 0 and tup[0] < data.shape[0] and \\\n",
    "           tup[1] >= 0 and tup[1] < data.shape[1]\n",
    "\n",
    "def find(data, char):\n",
    "    matches = np.where(data == char)\n",
    "    for i in range(len(matches[0])):\n",
    "        yield (matches[0][i], matches[1][i])"
   ]
  },
  {
   "cell_type": "code",
   "execution_count": 26,
   "metadata": {},
   "outputs": [
    {
     "name": "stdout",
     "output_type": "stream",
     "text": [
      "348\n"
     ]
    }
   ],
   "source": [
    "from itertools import combinations\n",
    "antinodes = set([])\n",
    "characters = set(list(data.flatten()))\n",
    "\n",
    "for c in characters:\n",
    "    if c == '.': continue\n",
    "    antennas = list(find(data, c))\n",
    "    for pair in combinations(antennas, 2):\n",
    "        antinodes.add(tadd(pair[0], tsub(pair[0], pair[1])))\n",
    "        antinodes.add(tadd(pair[1], tsub(pair[1], pair[0])))\n",
    "\n",
    "print(len([i for i in antinodes if inbound(data, i)]))\n"
   ]
  },
  {
   "cell_type": "code",
   "execution_count": null,
   "metadata": {},
   "outputs": [
    {
     "name": "stdout",
     "output_type": "stream",
     "text": [
      "1221\n"
     ]
    }
   ],
   "source": [
    "# Part 2\n",
    "# Gonna just brute force it, but 'smartly', by starting with pair[0] ,and adding offset until we are oob\n",
    "antinodes = set([])\n",
    "\n",
    "for c in characters:\n",
    "    if c == '.': continue\n",
    "    antennas = list(find(data, c))\n",
    "    for pair in combinations(antennas, 2):\n",
    "        # cast a 'ray' in both directions, starting from pair[0]\n",
    "        for offset in [tsub(pair[0], pair[1]), tsub(pair[1], pair[0])]:\n",
    "            for i in range(100): # We will never reach 100 but its just an upper bound\n",
    "                antinode = tadd(pair[0], tmul(i, offset))\n",
    "                if not inbound(data, antinode): break # The 'ray' has gone out of bounds\n",
    "                antinodes.add(antinode)\n",
    "\n",
    "# No need to do the inbound check anymore since we did it already before adding any element\n",
    "print(len(antinodes))"
   ]
  },
  {
   "cell_type": "code",
   "execution_count": null,
   "metadata": {},
   "outputs": [],
   "source": []
  }
 ],
 "metadata": {
  "kernelspec": {
   "display_name": ".venv",
   "language": "python",
   "name": "python3"
  },
  "language_info": {
   "codemirror_mode": {
    "name": "ipython",
    "version": 3
   },
   "file_extension": ".py",
   "mimetype": "text/x-python",
   "name": "python",
   "nbconvert_exporter": "python",
   "pygments_lexer": "ipython3",
   "version": "3.10.13"
  }
 },
 "nbformat": 4,
 "nbformat_minor": 2
}
