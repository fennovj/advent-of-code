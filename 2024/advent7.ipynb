{
 "cells": [
  {
   "cell_type": "code",
   "execution_count": 7,
   "metadata": {},
   "outputs": [],
   "source": [
    "import advent\n",
    "data = advent.get_lines(7, map_fn=lambda line: line.split(': '))\n",
    "targets = [int(l[0]) for l in data]\n",
    "nums = [[int(i) for i in l[1].split()] for l in data]"
   ]
  },
  {
   "cell_type": "code",
   "execution_count": null,
   "metadata": {},
   "outputs": [
    {
     "name": "stdout",
     "output_type": "stream",
     "text": [
      "5837374519342\n"
     ]
    }
   ],
   "source": [
    "import itertools\n",
    "\n",
    "def op(a: int, b: int, op):\n",
    "    if op == '+': return a + b\n",
    "    elif op == '*': return a * b\n",
    "    elif op == '|': return int(str(a) + str(b))\n",
    "    raise ValueError(op)\n",
    "\n",
    "def apply_ops(nums: list[int], ops):\n",
    "    result = nums[0]\n",
    "    for i in range(1, len(nums)):\n",
    "        result = op(result, nums[i], ops[i - 1])\n",
    "    return result\n",
    "\n",
    "def try_all_ops(nums: list[int], target: int, oplist: list[str] = ['+', '*']):\n",
    "    for ops in itertools.product(*([oplist] * (len(nums) - 1))):\n",
    "        if apply_ops(nums, ops) == target:\n",
    "            return True\n",
    "    return False\n",
    "\n",
    "result = 0\n",
    "for i in range(len(nums)):\n",
    "    if try_all_ops(nums[i], targets[i]):\n",
    "        result += targets[i]\n",
    "print(result)"
   ]
  },
  {
   "cell_type": "code",
   "execution_count": null,
   "metadata": {},
   "outputs": [],
   "source": []
  }
 ],
 "metadata": {
  "kernelspec": {
   "display_name": ".venv",
   "language": "python",
   "name": "python3"
  },
  "language_info": {
   "codemirror_mode": {
    "name": "ipython",
    "version": 3
   },
   "file_extension": ".py",
   "mimetype": "text/x-python",
   "name": "python",
   "nbconvert_exporter": "python",
   "pygments_lexer": "ipython3",
   "version": "3.10.11"
  }
 },
 "nbformat": 4,
 "nbformat_minor": 2
}
