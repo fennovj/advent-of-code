{
 "cells": [
  {
   "cell_type": "code",
   "execution_count": 4,
   "metadata": {},
   "outputs": [],
   "source": [
    "import advent\n",
    "data = advent.get_lines(7, map_fn=lambda line: line.split(': '))\n",
    "targets = [int(l[0]) for l in data]\n",
    "nums = [[int(i) for i in l[1].split()] for l in data]"
   ]
  },
  {
   "cell_type": "code",
   "execution_count": null,
   "metadata": {},
   "outputs": [
    {
     "name": "stdout",
     "output_type": "stream",
     "text": [
      "5837374519342\n"
     ]
    }
   ],
   "source": [
    "import itertools\n",
    "import math\n",
    "\n",
    "def op(a: int, b: int, op):\n",
    "    if op == '+': return a + b\n",
    "    elif op == '*': return a * b\n",
    "    elif op == '|': return int(str(a) + str(b))\n",
    "    raise ValueError(op)\n",
    "\n",
    "def apply_ops(nums: list[int], ops, target):\n",
    "    result = nums[0]\n",
    "    for i in range(1, len(nums)):\n",
    "        if result > target: return -1\n",
    "        result = op(result, nums[i], ops[i - 1])\n",
    "    return result\n",
    "\n",
    "def try_all_ops(nums: list[int], target: int, oplist: list[str] = ['+', '*']):\n",
    "    for ops in itertools.product(*([oplist] * (len(nums) - 1))):\n",
    "        if apply_ops(nums, ops, target) == target:\n",
    "            return True\n",
    "    return False\n",
    "\n",
    "result = 0\n",
    "for i in range(len(nums)):\n",
    "    if try_all_ops(nums[i], targets[i]):\n",
    "        result += targets[i]\n",
    "print(result)"
   ]
  },
  {
   "cell_type": "code",
   "execution_count": 22,
   "metadata": {},
   "outputs": [
    {
     "name": "stdout",
     "output_type": "stream",
     "text": [
      "492383931650959\n"
     ]
    }
   ],
   "source": [
    "# Part 2:\n",
    "# This only required two changes:\n",
    "# - Adding the line 'elif op == '|': return int(str(a) + str(b))' to the op function\n",
    "# - in try_all_ops, making the oplist a variable (with default working for part 1)\n",
    "result = 0\n",
    "for i in range(len(nums)):\n",
    "    if try_all_ops(nums[i], targets[i], oplist=['+', '*', '|']):\n",
    "        result += targets[i]\n",
    "print(result)"
   ]
  },
  {
   "cell_type": "code",
   "execution_count": null,
   "metadata": {},
   "outputs": [
    {
     "name": "stdout",
     "output_type": "stream",
     "text": [
      "5837374519342\n"
     ]
    }
   ],
   "source": [
    "# Everything below written myself, but approach copied from reddit\n",
    "# Because I wanted to see if I could make it run faster\n",
    "\n",
    "# But even though everyone on reddit says this should be way faster it's basically the same speed ;(\n",
    "\n",
    "def op_backwards(op: str, b: int, c: int):\n",
    "    # Given something like 4, +, 6, return a such that a + b = c\n",
    "    # If there is no such a\n",
    "    if op == '+':\n",
    "        return c - b if c >= b else None\n",
    "    elif op == '*':\n",
    "        return c // b if c % b == 0 else None\n",
    "    elif op == '|':\n",
    "        # We want the first n digits of c where n = len(c) - len(b)\n",
    "        lenb = math.ceil(math.log10(b+1))\n",
    "        if c % (10**lenb) == b: return c // (10**lenb)\n",
    "        else: return None\n",
    "\n",
    "def try_all_ops_backwards(nums: list[int], target: int, oplist: list[str] = ['+', '*']):\n",
    "    # Use recursion :D\n",
    "    # Basically copied this approach from reddit\n",
    "    if len(nums) == 1: return nums[0] == target # base case\n",
    "    new_nums, last = nums[0:-1], nums[-1]\n",
    "    for op in oplist:\n",
    "        new_target = op_backwards(op, last, target)\n",
    "        if new_target is None: continue\n",
    "        if try_all_ops_backwards(new_nums, new_target, oplist):\n",
    "            return True\n",
    "    return False\n",
    "\n",
    "result = 0\n",
    "for i in range(len(nums)):\n",
    "    if try_all_ops_backwards(nums[i], targets[i]):\n",
    "        result += targets[i]\n",
    "print(result)\n",
    "\n",
    "result = 0\n",
    "for i in range(len(nums)):\n",
    "    if try_all_ops(nums[i], targets[i], oplist=['+', '*', '|']):\n",
    "        result += targets[i]\n",
    "print(result)"
   ]
  }
 ],
 "metadata": {
  "kernelspec": {
   "display_name": ".venv",
   "language": "python",
   "name": "python3"
  },
  "language_info": {
   "codemirror_mode": {
    "name": "ipython",
    "version": 3
   },
   "file_extension": ".py",
   "mimetype": "text/x-python",
   "name": "python",
   "nbconvert_exporter": "python",
   "pygments_lexer": "ipython3",
   "version": "3.10.13"
  }
 },
 "nbformat": 4,
 "nbformat_minor": 2
}
