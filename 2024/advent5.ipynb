{
 "cells": [
  {
   "cell_type": "code",
   "execution_count": 14,
   "metadata": {},
   "outputs": [],
   "source": [
    "import advent\n",
    "rulestxt, lines = advent.get_lines_doublenewline(5)\n",
    "lines = [[int(i) for i in line.split(',')] for line in lines]\n",
    "\n",
    "rules = [rule.split('|') for rule in rulestxt]\n",
    "rules = [(int(rule[0]), int(rule[1])) for rule in rules]"
   ]
  },
  {
   "cell_type": "code",
   "execution_count": null,
   "metadata": {},
   "outputs": [
    {
     "name": "stdout",
     "output_type": "stream",
     "text": [
      "7307\n"
     ]
    }
   ],
   "source": [
    "middle = lambda line: line[len(line) // 2]\n",
    "\n",
    "# Part 1\n",
    "# Brute force solution! I came up with a better solution after solving part 2\n",
    "\n",
    "result = 0\n",
    "for line in lines:\n",
    "    match = True\n",
    "    # We are going to check if all rules match\n",
    "    for i, first in enumerate(line):\n",
    "        for j, second in enumerate(line[i+1:]):\n",
    "            if (second, first) in rules:\n",
    "                match = False\n",
    "    if match: result += middle(line)\n",
    "print(result)"
   ]
  },
  {
   "cell_type": "code",
   "execution_count": 20,
   "metadata": {},
   "outputs": [
    {
     "name": "stdout",
     "output_type": "stream",
     "text": [
      "4713\n"
     ]
    }
   ],
   "source": [
    "# Part 2\n",
    "from functools import cmp_to_key\n",
    "\n",
    "def list_equal(l1, l2):\n",
    "    return all([l1[i] == l2[i] for i in range(len(l1))])\n",
    "\n",
    "def ordering(a, b):\n",
    "    # -1 if a < b, 0 if a == b, 1 if a > b\n",
    "    if (a, b) in rules: return -1\n",
    "    if (b, a) in rules: return 1\n",
    "    return 0\n",
    "\n",
    "# Keep in mind sorted used timsort which is a stable sorting which is needed\n",
    "#x = sorted(lines[0], key=cmp_to_key(ordering))\n",
    "result = 0\n",
    "for line in lines:\n",
    "    s = sorted(line, key=cmp_to_key(ordering))\n",
    "    if not list_equal(s, line):\n",
    "        result += middle(s)\n",
    "print(result)"
   ]
  },
  {
   "cell_type": "code",
   "execution_count": 22,
   "metadata": {},
   "outputs": [
    {
     "name": "stdout",
     "output_type": "stream",
     "text": [
      "7307\n"
     ]
    }
   ],
   "source": [
    "# This suggests an easier solution to part 1\n",
    "result = 0\n",
    "for line in lines:\n",
    "    if list_equal(sorted(line, key=cmp_to_key(ordering)), line):\n",
    "        result += middle(line)\n",
    "print(result)"
   ]
  }
 ],
 "metadata": {
  "kernelspec": {
   "display_name": ".venv",
   "language": "python",
   "name": "python3"
  },
  "language_info": {
   "codemirror_mode": {
    "name": "ipython",
    "version": 3
   },
   "file_extension": ".py",
   "mimetype": "text/x-python",
   "name": "python",
   "nbconvert_exporter": "python",
   "pygments_lexer": "ipython3",
   "version": "3.10.11"
  }
 },
 "nbformat": 4,
 "nbformat_minor": 2
}
