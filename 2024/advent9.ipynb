{
 "cells": [
  {
   "cell_type": "code",
   "execution_count": 60,
   "metadata": {},
   "outputs": [],
   "source": [
    "import advent\n",
    "advent.scrape(2024, 9)\n",
    "data = advent.get_lines(9)[0]\n",
    "\n",
    "data = '2333133121414131402'\n",
    "\n",
    "memory = []\n",
    "\n",
    "for i, c in enumerate(data):\n",
    "    if i % 2 == 0: memory.extend([i // 2] * int(c))\n",
    "    else: memory.extend([-1] * int(c))"
   ]
  },
  {
   "cell_type": "code",
   "execution_count": 61,
   "metadata": {},
   "outputs": [
    {
     "name": "stdout",
     "output_type": "stream",
     "text": [
      "1928\n"
     ]
    }
   ],
   "source": [
    "def part1(memory):\n",
    "    ix, revix = 0, len(memory) - 1\n",
    "    result = 0\n",
    "    # Traverse through the list from both ends, swapping -1s with numbers\n",
    "    # Stop until the two ix'es reach each other\n",
    "    while ix <= revix:\n",
    "        if memory[ix] > -1:\n",
    "            result += (memory[ix] * ix)\n",
    "            ix += 1\n",
    "            continue\n",
    "        elif memory[revix] == -1:\n",
    "            revix -= 1\n",
    "            continue\n",
    "        memory[ix], memory[revix] = memory[revix], memory[ix]\n",
    "        revix -= 1\n",
    "\n",
    "    # At the end, we keep traversing until we encounter a single -1\n",
    "    # This is because ix (and the checksum) hasnt seen every number yet\n",
    "    while memory[ix] > -1:\n",
    "        result += (memory[ix] * ix)\n",
    "        ix += 1\n",
    "    return result, memory\n",
    "\n",
    "print(part1(memory.copy())[0])\n"
   ]
  },
  {
   "cell_type": "code",
   "execution_count": 67,
   "metadata": {},
   "outputs": [
    {
     "name": "stdout",
     "output_type": "stream",
     "text": [
      "2858\n"
     ]
    }
   ],
   "source": [
    "# Part 2\n",
    "# My idea is to keep a list of gaps, which are tuples (start, length).\n",
    "# Starting at the end, we find the first suitable gap for a range (length check), and update the gap length (0 if needed)\n",
    "def find_fit(gaps, length):\n",
    "    for i, gap in enumerate(gaps):\n",
    "        if gap[1] >= length:\n",
    "            #gaps[i] = (gap[0], gap[1] - length)\n",
    "            return gap, i\n",
    "    return None, None # No fit\n",
    "\n",
    "def update_memory(memory, gaps, start, length):\n",
    "    # Given the start of a memory range, update memory and gaps by moving that range forward to the first available gap\n",
    "    content = memory[start]\n",
    "    gap, i = find_fit(gaps, length)\n",
    "    if gap is None or gap[0] > start: return memory, gaps # No update needed\n",
    "    # Update gaps\n",
    "    gaps[i] = (gap[0] + length, gap[1] - length)\n",
    "    # Update memory\n",
    "    memory[start:(start + length)] = [-1] * length\n",
    "    memory[gap[0]:(gap[0] + length)] = [content] * length\n",
    "    return memory, gaps\n",
    "\n",
    "def get_length(memory, start):\n",
    "    # given start ix, find the length of the range\n",
    "    content = memory[start]\n",
    "    length = 1\n",
    "    while start + length < len(memory) and memory[start + length] == content:\n",
    "        length += 1\n",
    "    return length\n",
    "\n",
    "ix = 0\n",
    "gaps = []\n",
    "for i, c in enumerate(data):\n",
    "    if i % 2 == 0: ix += int(c)\n",
    "    if i % 2 == 1:\n",
    "        gaps.append((ix, int(c)))\n",
    "        ix += int(c)\n",
    "\n",
    "memory_p2 = memory.copy()\n",
    "\n",
    "ix = len(memory_p2) - 1\n",
    "while ix > 0:\n",
    "    # We only want to swap starts of ranges, so memory[ix-1] must be different\n",
    "    if memory_p2[ix] == -1 or memory_p2[ix] == memory_p2[ix-1]:\n",
    "        ix -= 1\n",
    "        continue\n",
    "    start, length = ix, get_length(memory_p2, ix)\n",
    "    memory_p2, gaps = update_memory(memory_p2, gaps, start, length)\n",
    "    ix -= 1\n",
    "\n",
    "def checksum(memory):\n",
    "    result = 0\n",
    "    for i, c in enumerate(memory):\n",
    "        if c == -1: continue\n",
    "        result += i * memory[i]\n",
    "    return result\n",
    "\n",
    "print(checksum(memory_p2))"
   ]
  },
  {
   "cell_type": "code",
   "execution_count": null,
   "metadata": {},
   "outputs": [],
   "source": []
  },
  {
   "cell_type": "code",
   "execution_count": null,
   "metadata": {},
   "outputs": [],
   "source": []
  },
  {
   "cell_type": "code",
   "execution_count": null,
   "metadata": {},
   "outputs": [],
   "source": []
  },
  {
   "cell_type": "code",
   "execution_count": null,
   "metadata": {},
   "outputs": [],
   "source": []
  },
  {
   "cell_type": "code",
   "execution_count": null,
   "metadata": {},
   "outputs": [],
   "source": [
    "# Ok this is probably overkill...\n",
    "from typing import NamedTuple\n",
    "\n",
    "def triang(n):\n",
    "    return n * (n + 1) // 2\n",
    "\n",
    "class MemoryRange(NamedTuple):\n",
    "    start: int\n",
    "    length: int\n",
    "    content: int\n",
    "\n",
    "    def is_empty(self): return self.content == -1\n",
    "    def checksum(self):\n",
    "        # content * (start + start + 1 + start + 2 + ... + start + length - 1)\n",
    "        if self.content == -1: return 0\n",
    "        return self.content * ((self.length - 1) * self.start + triang(self.length - 1))\n",
    "\n",
    "    def fill(self, other: 'MemoryRange'):\n",
    "        # Fill this (empty) range with something else, return new range(s)\n",
    "        # Or none if that is impossible\n",
    "        if not self.is_empty(): return None\n",
    "        if self.length > other.length: return None \n",
    "        return [\n",
    "            MemoryRange(self.start, other.length, other.content),\n",
    "            MemoryRange(self.start + other.length, self.length - other.length, self.content),\n",
    "\n",
    "        ]\n",
    "\n",
    "assert MemoryRange(0, 3, 2).checksum() == 6\n",
    "assert MemoryRange(10, 2, 5).checksum() == 55"
   ]
  }
 ],
 "metadata": {
  "kernelspec": {
   "display_name": ".venv",
   "language": "python",
   "name": "python3"
  },
  "language_info": {
   "codemirror_mode": {
    "name": "ipython",
    "version": 3
   },
   "file_extension": ".py",
   "mimetype": "text/x-python",
   "name": "python",
   "nbconvert_exporter": "python",
   "pygments_lexer": "ipython3",
   "version": "3.10.11"
  }
 },
 "nbformat": 4,
 "nbformat_minor": 2
}
