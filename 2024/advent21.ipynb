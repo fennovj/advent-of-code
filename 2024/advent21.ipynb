{
 "cells": [
  {
   "cell_type": "code",
   "execution_count": 1,
   "metadata": {},
   "outputs": [
    {
     "name": "stdout",
     "output_type": "stream",
     "text": [
      "['208A', '540A', '685A', '879A', '826A']\n"
     ]
    }
   ],
   "source": [
    "import advent\n",
    "advent.scrape(2024, 21)\n",
    "data = advent.get_lines(21)\n",
    "print(data)"
   ]
  },
  {
   "cell_type": "code",
   "execution_count": 2,
   "metadata": {},
   "outputs": [],
   "source": [
    "from typing import NamedTuple, Iterator\n",
    "from advent.maze import solve_maze, solve_maze_no_tqdm\n",
    "\n",
    "class Node(NamedTuple):\n",
    "    bottom: str # the main keypad\n",
    "    middle: str # The radiated keypad\n",
    "    top: str    # The -40 degrees keypad\n",
    "    code: str   # Code that has been entered so far\n",
    "    target_code: str # Target code that must be entered\n",
    "\n",
    "def is_target(node):\n",
    "    return node.code == node.target_code\n",
    "\n",
    "\n",
    "bottom_adj = {\n",
    "    '0': {'^': '2', '>': 'A'},\n",
    "    '1': {'>': '2', '^': '4'},\n",
    "    '2': {'v': '0', '<': '1', '>': '3', '^': '5'},\n",
    "    '3': {'<': '2', '^': '6', 'v': 'A'},\n",
    "    '4': {'v': '1', '>': '5', '^': '7'},\n",
    "    '5': {'v': '2', '<': '4', '>': '6', '^': '8'},\n",
    "    '6': {'v': '3', '<': '5', '^': '9'},\n",
    "    '7': {'v': '4', '>': '8'},\n",
    "    '8': {'v': '5', '<': '7', '>': '9'},\n",
    "    '9': {'v': '6', '<': '8'},\n",
    "    'A': {'<': '0', '^': '3'}\n",
    "}\n",
    "\n",
    "topmid_adj = {\n",
    "    '<': {'>': 'v'},\n",
    "    '^': {'v': 'v', '>': 'A'},\n",
    "    'v': {'<': '<', '^': '^', '>': '>'},\n",
    "    '>': {'<': 'v', '^': 'A'},\n",
    "    'A': {'<': '^', 'v': '>'}\n",
    "}"
   ]
  },
  {
   "cell_type": "code",
   "execution_count": 3,
   "metadata": {},
   "outputs": [],
   "source": [
    "def adjacent(node: Node) -> Iterator[tuple[Node, int]]:\n",
    "    # We pressed the wrong button somewhere: this node is a dead end\n",
    "    if not node.target_code.startswith(node.code): return []\n",
    "    # We can press either arrow or A\n",
    "    # Press arrow: top moves. we only press the moves top has available\n",
    "    for dir in topmid_adj[node.top]:\n",
    "        yield Node(node.bottom, node.middle, topmid_adj[node.top][dir], node.code, node.target_code), 1\n",
    "    # Press A: top stays the same. Now either top was arrow or A. first: top was arrow\n",
    "    if node.top != 'A':\n",
    "        # Middle will move according to what node.top was\n",
    "        if node.top in topmid_adj[node.middle]:\n",
    "            yield Node(node.bottom, topmid_adj[node.middle][node.top], node.top, node.code, node.target_code), 1\n",
    "    # Press A, and top was also A. Middle will stay the same. Now either middle was arrow or A.\n",
    "    elif node.middle != 'A':\n",
    "        # bottom will move according to what node.middle was\n",
    "        if node.middle in bottom_adj[node.bottom]:\n",
    "            yield Node(bottom_adj[node.bottom][node.middle], node.middle, node.top, node.code, node.target_code), 1\n",
    "    # Top and middle were both A. that means all robots will stay the same, and the code will be updated\n",
    "    else:\n",
    "        yield Node(node.bottom, node.middle, node.top, node.code + node.bottom, node.target_code), 1\n",
    "\n",
    "start = Node('A', 'A', 'A', '', '029A')\n",
    "l, _, _ = solve_maze_no_tqdm(start, is_target, adjacent)\n",
    "assert l == 68\n",
    "    "
   ]
  },
  {
   "cell_type": "code",
   "execution_count": 4,
   "metadata": {},
   "outputs": [
    {
     "name": "stdout",
     "output_type": "stream",
     "text": [
      "224326\n"
     ]
    }
   ],
   "source": [
    "result = 0\n",
    "for line in data:\n",
    "    start = Node('A', 'A', 'A', '', line)\n",
    "    l, _, _ = solve_maze_no_tqdm(start, is_target, adjacent)\n",
    "    result += int(line[:3]) * l\n",
    "print(result)"
   ]
  },
  {
   "cell_type": "code",
   "execution_count": 8,
   "metadata": {},
   "outputs": [
    {
     "name": "stdout",
     "output_type": "stream",
     "text": [
      "8447256\n"
     ]
    }
   ],
   "source": [
    "# Part 2 :D\n",
    "from functools import cache\n",
    "\n",
    "class Node2(NamedTuple):\n",
    "    bottom: str\n",
    "    middles: tuple[str, ...]\n",
    "    code: str\n",
    "    target_code: str\n",
    "\n",
    "@cache\n",
    "def apply_press(middles: tuple[str, ...], button: str) -> None|tuple[tuple[str, ...], None|str]:\n",
    "    # Returns None if this button may not be pressed\n",
    "    if len(middles) == 0: return (), button\n",
    "    top, rest = middles[0], middles[1:]\n",
    "    if button != 'A':\n",
    "        if button in topmid_adj[top]:\n",
    "            return (topmid_adj[top][button],) + rest, None\n",
    "        else:\n",
    "            return None\n",
    "    else:\n",
    "        # top will stay the same. for the rest, use recursion\n",
    "        subresult = apply_press(rest, top)\n",
    "        if subresult is not None: return (top,) + subresult[0], subresult[1]\n",
    "        else: return None\n",
    "\n",
    "def adjacent2(node: Node2) -> Iterator[tuple[Node2, int]]:\n",
    "    # We pressed the wrong button somewhere: this node is a dead end\n",
    "    if not node.target_code.startswith(node.code): return []\n",
    "    # We can press either arrow or A\n",
    "    # Press arrow: top moves. we only press the moves top has available\n",
    "    for buttonpress in ['<', 'v', '>', '^', 'A']:\n",
    "        newmiddles = apply_press(node.middles, buttonpress)\n",
    "        if newmiddles is None: continue # This press is not allowed\n",
    "        newmiddles, bottombutton = newmiddles\n",
    "        if bottombutton == 'A':\n",
    "            yield Node2(node.bottom, node.middles, node.code + node.bottom, node.target_code), 1\n",
    "        elif bottombutton is not None:\n",
    "            if bottombutton in bottom_adj[node.bottom]:\n",
    "                yield Node2(bottom_adj[node.bottom][bottombutton], newmiddles, node.code, node.target_code), 1\n",
    "        else:\n",
    "            yield Node2(node.bottom, newmiddles, node.code, node.target_code), 1\n",
    "        \n",
    "middle_keypads = 6  # 2 for part 1, 25 for part 2\n",
    "\n",
    "result = 0\n",
    "for line in data:\n",
    "    start = Node2('A', ('A',) * middle_keypads, '', line)\n",
    "    l, _, _ = solve_maze_no_tqdm(start, is_target, adjacent2)\n",
    "    result += int(line[:3]) * l\n",
    "print(result)"
   ]
  },
  {
   "cell_type": "code",
   "execution_count": null,
   "metadata": {},
   "outputs": [],
   "source": [
    "# Unfortunately this seems to get exponentially slower and is already pretty slow at just 7 keypads.\n",
    "# So we have to think of something more clever..."
   ]
  }
 ],
 "metadata": {
  "kernelspec": {
   "display_name": ".venv",
   "language": "python",
   "name": "python3"
  },
  "language_info": {
   "codemirror_mode": {
    "name": "ipython",
    "version": 3
   },
   "file_extension": ".py",
   "mimetype": "text/x-python",
   "name": "python",
   "nbconvert_exporter": "python",
   "pygments_lexer": "ipython3",
   "version": "3.12.3"
  }
 },
 "nbformat": 4,
 "nbformat_minor": 2
}
