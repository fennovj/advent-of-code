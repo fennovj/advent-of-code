{
 "cells": [
  {
   "cell_type": "code",
   "execution_count": 2,
   "metadata": {},
   "outputs": [
    {
     "name": "stdout",
     "output_type": "stream",
     "text": [
      "['208A', '540A', '685A', '879A', '826A']\n"
     ]
    }
   ],
   "source": [
    "import advent\n",
    "advent.scrape(2024, 21)\n",
    "data = advent.get_lines(21)\n",
    "print(data)"
   ]
  },
  {
   "cell_type": "code",
   "execution_count": 3,
   "metadata": {},
   "outputs": [],
   "source": [
    "from typing import NamedTuple, Iterator\n",
    "from advent.maze import solve_maze, solve_maze_no_tqdm\n",
    "\n",
    "class Node(NamedTuple):\n",
    "    bottom: str # the main keypad\n",
    "    middle: str # The radiated keypad\n",
    "    top: str    # The -40 degrees keypad\n",
    "    code: str   # Code that has been entered so far\n",
    "    target_code: str # Target code that must be entered\n",
    "\n",
    "def is_target(node):\n",
    "    return node.code == node.target_code\n",
    "\n",
    "\n",
    "bottom_adj = {\n",
    "    '0': {'^': '2', '>': 'A'},\n",
    "    '1': {'>': '2', '^': '4'},\n",
    "    '2': {'v': '0', '<': '1', '>': '3', '^': '5'},\n",
    "    '3': {'<': '2', '^': '6', 'v': 'A'},\n",
    "    '4': {'v': '1', '>': '5', '^': '7'},\n",
    "    '5': {'v': '2', '<': '4', '>': '6', '^': '8'},\n",
    "    '6': {'v': '3', '<': '5', '^': '9'},\n",
    "    '7': {'v': '4', '>': '8'},\n",
    "    '8': {'v': '5', '<': '7', '>': '9'},\n",
    "    '9': {'v': '6', '<': '8'},\n",
    "    'A': {'<': '0', '^': '3'}\n",
    "}\n",
    "\n",
    "topmid_adj = {\n",
    "    '<': {'>': 'v'},\n",
    "    '^': {'v': 'v', '>': 'A'},\n",
    "    'v': {'<': '<', '^': '^', '>': '>'},\n",
    "    '>': {'<': 'v', '^': 'A'},\n",
    "    'A': {'<': '^', 'v': '>'}\n",
    "}"
   ]
  },
  {
   "cell_type": "code",
   "execution_count": 4,
   "metadata": {},
   "outputs": [],
   "source": [
    "def adjacent(node: Node) -> Iterator[tuple[Node, int]]:\n",
    "    # We pressed the wrong button somewhere: this node is a dead end\n",
    "    if not node.target_code.startswith(node.code): return []\n",
    "    # We can press either arrow or A\n",
    "    # Press arrow: top moves. we only press the moves top has available\n",
    "    for dir in topmid_adj[node.top]:\n",
    "        yield Node(node.bottom, node.middle, topmid_adj[node.top][dir], node.code, node.target_code), 1\n",
    "    # Press A: top stays the same. Now either top was arrow or A. first: top was arrow\n",
    "    if node.top != 'A':\n",
    "        # Middle will move according to what node.top was\n",
    "        if node.top in topmid_adj[node.middle]:\n",
    "            yield Node(node.bottom, topmid_adj[node.middle][node.top], node.top, node.code, node.target_code), 1\n",
    "    # Press A, and top was also A. Middle will stay the same. Now either middle was arrow or A.\n",
    "    elif node.middle != 'A':\n",
    "        # bottom will move according to what node.middle was\n",
    "        if node.middle in bottom_adj[node.bottom]:\n",
    "            yield Node(bottom_adj[node.bottom][node.middle], node.middle, node.top, node.code, node.target_code), 1\n",
    "    # Top and middle were both A. that means all robots will stay the same, and the code will be updated\n",
    "    else:\n",
    "        yield Node(node.bottom, node.middle, node.top, node.code + node.bottom, node.target_code), 1\n",
    "\n",
    "start = Node('A', 'A', 'A', '', '029A')\n",
    "l, _, _ = solve_maze_no_tqdm(start, is_target, adjacent)\n",
    "assert l == 68\n",
    "    "
   ]
  },
  {
   "cell_type": "code",
   "execution_count": 5,
   "metadata": {},
   "outputs": [
    {
     "name": "stdout",
     "output_type": "stream",
     "text": [
      "224326\n"
     ]
    }
   ],
   "source": [
    "result = 0\n",
    "for line in data:\n",
    "    start = Node('A', 'A', 'A', '', line)\n",
    "    l, _, _ = solve_maze_no_tqdm(start, is_target, adjacent)\n",
    "    result += int(line[:3]) * l\n",
    "print(result)"
   ]
  },
  {
   "cell_type": "code",
   "execution_count": 6,
   "metadata": {},
   "outputs": [
    {
     "name": "stdout",
     "output_type": "stream",
     "text": [
      "208A 208 70\n",
      "540A 540 72\n",
      "685A 685 68\n",
      "879A 879 70\n",
      "826A 826 76\n",
      "224326\n"
     ]
    }
   ],
   "source": [
    "# Part 2 :D\n",
    "# This cell can be skipped, was a failed attempt because the search space increases exponentially with the number of robots\n",
    "from functools import cache\n",
    "\n",
    "class Node2(NamedTuple):\n",
    "    bottom: str\n",
    "    middles: tuple[str, ...]\n",
    "    code: str\n",
    "    target_code: str\n",
    "\n",
    "@cache\n",
    "def apply_press(middles: tuple[str, ...], button: str) -> None|tuple[tuple[str, ...], None|str]:\n",
    "    # Returns None if this button may not be pressed\n",
    "    if len(middles) == 0: return (), button\n",
    "    top, rest = middles[0], middles[1:]\n",
    "    if button != 'A':\n",
    "        if button in topmid_adj[top]:\n",
    "            return (topmid_adj[top][button],) + rest, None\n",
    "        else:\n",
    "            return None\n",
    "    else:\n",
    "        # top will stay the same. for the rest, use recursion\n",
    "        subresult = apply_press(rest, top)\n",
    "        if subresult is not None: return (top,) + subresult[0], subresult[1]\n",
    "        else: return None\n",
    "\n",
    "def adjacent2(node: Node2) -> Iterator[tuple[Node2, int]]:\n",
    "    # We pressed the wrong button somewhere: this node is a dead end\n",
    "    if not node.target_code.startswith(node.code): return []\n",
    "    # We can press either arrow or A\n",
    "    # Press arrow: top moves. we only press the moves top has available\n",
    "    for buttonpress in ['<', 'v', '>', '^', 'A']:\n",
    "        newmiddles = apply_press(node.middles, buttonpress)\n",
    "        if newmiddles is None: continue # This press is not allowed\n",
    "        newmiddles, bottombutton = newmiddles\n",
    "        if bottombutton == 'A':\n",
    "            yield Node2(node.bottom, node.middles, node.code + node.bottom, node.target_code), 1\n",
    "        elif bottombutton is not None:\n",
    "            if bottombutton in bottom_adj[node.bottom]:\n",
    "                yield Node2(bottom_adj[node.bottom][bottombutton], newmiddles, node.code, node.target_code), 1\n",
    "        else:\n",
    "            yield Node2(node.bottom, newmiddles, node.code, node.target_code), 1\n",
    "        \n",
    "middle_keypads = 2  # 2 for part 1, 25 for part 2\n",
    "\n",
    "result = 0\n",
    "for line in data:\n",
    "    start = Node2('A', ('A',) * middle_keypads, '', line)\n",
    "    l, n, _ = solve_maze_no_tqdm(start, is_target, adjacent2)\n",
    "    print(line, int(line[:3]), l)\n",
    "    result += int(line[:3]) * l\n",
    "print(result)"
   ]
  },
  {
   "cell_type": "code",
   "execution_count": 160,
   "metadata": {},
   "outputs": [
    {
     "name": "stdout",
     "output_type": "stream",
     "text": [
      "68\n",
      "70\n",
      "76\n"
     ]
    }
   ],
   "source": [
    "# Unfortunately this seems to get exponentially slower and is already pretty slow at just 7 keypads.\n",
    "# So we have to think of something more clever...\n",
    "\n",
    "# I realized that the transitions look the same one level higher. so e.g.\n",
    "# <A always becomes x>>^A (where x is what presses the < button, ending with A)\n",
    "# So we can encode what each layer needs as pairs, e.g. <A^ --> (<, A), (A, ^)\n",
    "\n",
    "from collections import Counter\n",
    "\n",
    "def required_for(pair: tuple[str, str], fullstr=False):\n",
    "    if pair[0] == pair[1]: return 'A' if fullstr else [('A', 'A')]\n",
    "    # WARNING! This only returns one possible path, specifically from A to V or < and ^to>\n",
    "    s = 'A' + {\n",
    "        ('v', 'A'): '^>A', ('v', '<'): '<A', ('v', '^'): '^A', ('v', '>'): '>A',\n",
    "        ('<', 'v'): '>A',('<', 'A'): '>>^A', ('<', '^'): '>^A', ('<', '>'): '>>A', \n",
    "        ('^', 'v'): 'vA', ('^', '<'): 'v<A', ('^', 'A'): '>A', ('^', '>'): 'v>A',\n",
    "        ('>', 'v'): '<A', ('>', '<'): '<<A', ('>', '^'): '<^A', ('>', 'A'): '^A',\n",
    "        ('A', 'v'): '<vA', ('A', '<'): 'v<<A', ('A', '^'): '<A', ('A', '>'): 'vA',\n",
    "    }[pair]\n",
    "    if fullstr: return s[1:]\n",
    "    return [(s[i], s[i+1]) for i in range(len(s) - 1)]\n",
    "\n",
    "def counter_fullstr(line: str):\n",
    "    pairs = [(line[i], line[i+1]) for i in range(len(line) - 1)]\n",
    "    return 'A'+ ''.join([required_for(p, True) for p in pairs])\n",
    "\n",
    "def counter_step(c: Counter) -> Counter:\n",
    "    result = Counter()\n",
    "    for pair, count in c.items():\n",
    "        result.update(dict((p, count) for p in required_for(pair)))\n",
    "    return result\n",
    "\n",
    "def almost_full_sulotion(line: str, steps = 2):\n",
    "    # example: line = 'A' + '<A^A>^^AvvvA' \n",
    "    pairs = [(line[i], line[i+1]) for i in range(len(line) - 1)]\n",
    "    counter = Counter()\n",
    "    counter.update(pairs)\n",
    "    while steps > 0:\n",
    "        #print(counter)\n",
    "        steps -= 1\n",
    "        counter = counter_step(counter)\n",
    "    return counter.total(), counter\n",
    "\n",
    "# just a proof of concept, ignoring the lowest keypad layer\n",
    "line = 'A' + '<A^A>^^AvvvA'  # need A in front for starting position\n",
    "assert almost_full_sulotion(line, steps=2)[0] == 68\n",
    "\n",
    "# At this point I was kinda sick of this assignment\n",
    "# But this is just kinda dumb... Apparently it only gives the correct answer if you put A<^^^A, not A^^^<A.\n",
    "# Can't be bothered at this point to find out why...\n",
    "lines_dict = {\n",
    "    '208A': ['A<^AvA^^^Avvv>A', 'A^<AvA^^^Avvv>A', 'A<^AvA^^^A>vvvA', 'A^<AvA^^^A>vvvA'],\n",
    "    '540A': ['A<^^A<A>vvA>A', 'A^^<A<A>vvA>A', 'A<^^A<Av>vA>A', 'A^^<A<Av>vA>A'],\n",
    "    '685A': ['A^^A<^AvAvv>A', 'A^^A^<AvAvv>A', 'A^^A<^AvA>vvA', 'A^^A^<AvA>vvA'],\n",
    "    '879A': ['A<^^^A<A>>AvvvA', 'A^^^<A<A>>AvvvA'],\n",
    "    '826A': ['A<^^^AvvA^>AvvA', 'A^^^<AvvA^>AvvA', 'A<^^^AvvA>^AvvA', 'A^^^<AvvA>^AvvA']\n",
    "}\n",
    "\n",
    "def sorta_full_solution(line, steps=25):\n",
    "    return min(almost_full_sulotion(l, steps=steps)[0] for l in lines_dict[line])\n",
    "\n",
    "\n",
    "print(almost_full_sulotion(lines_dict['685A'][0], steps=2)[0])\n",
    "print(almost_full_sulotion(lines_dict['879A'][0], steps=2)[0])\n",
    "print(almost_full_sulotion(lines_dict['826A'][0], steps=2)[0])\n",
    "\n",
    "\n",
    "assert almost_full_sulotion(lines_dict['208A'][0], steps=2)[0] == 70\n",
    "assert almost_full_sulotion(lines_dict['540A'][0], steps=2)[0] == 72\n",
    "assert almost_full_sulotion(lines_dict['685A'][0], steps=2)[0] == 68\n",
    "assert almost_full_sulotion(lines_dict['879A'][0], steps=2)[0] == 70\n",
    "assert almost_full_sulotion(lines_dict['826A'][0], steps=2)[0] == 76\n",
    "\n"
   ]
  },
  {
   "cell_type": "code",
   "execution_count": 161,
   "metadata": {},
   "outputs": [
    {
     "name": "stdout",
     "output_type": "stream",
     "text": [
      "224326\n"
     ]
    }
   ],
   "source": [
    "print(208 * sorta_full_solution('208A', 2) + \\\n",
    "    540 * sorta_full_solution('540A', 2) + \\\n",
    "    685 * sorta_full_solution('685A', 2) + \\\n",
    "    879 * sorta_full_solution('879A', 2) + \\\n",
    "    826 * sorta_full_solution('826A', 2))"
   ]
  },
  {
   "cell_type": "code",
   "execution_count": 163,
   "metadata": {},
   "outputs": [
    {
     "name": "stdout",
     "output_type": "stream",
     "text": [
      "279638326609472\n"
     ]
    }
   ],
   "source": [
    "result = 208 * sorta_full_solution('208A') + \\\n",
    "         540 * sorta_full_solution('540A') + \\\n",
    "         685 * sorta_full_solution('685A') + \\\n",
    "         879 * sorta_full_solution('879A') + \\\n",
    "         826 * sorta_full_solution('826A')\n",
    "print(result)"
   ]
  },
  {
   "cell_type": "code",
   "execution_count": null,
   "metadata": {},
   "outputs": [],
   "source": [
    "# What ended up solving it: in the 'required_for', I manually changed every path and ran it, to see what would give the lowest result lol\n",
    "# Luckily I didn't need to test every combination of paths, just individually changing every path to see which one gives the lowest result worked."
   ]
  }
 ],
 "metadata": {
  "kernelspec": {
   "display_name": ".venv",
   "language": "python",
   "name": "python3"
  },
  "language_info": {
   "codemirror_mode": {
    "name": "ipython",
    "version": 3
   },
   "file_extension": ".py",
   "mimetype": "text/x-python",
   "name": "python",
   "nbconvert_exporter": "python",
   "pygments_lexer": "ipython3",
   "version": "3.12.3"
  }
 },
 "nbformat": 4,
 "nbformat_minor": 2
}
