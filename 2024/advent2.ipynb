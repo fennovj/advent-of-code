{
 "cells": [
  {
   "cell_type": "code",
   "execution_count": 5,
   "metadata": {},
   "outputs": [],
   "source": [
    "import advent\n",
    "\n",
    "data = advent.get_lines(2, map_fn = lambda l: [int(i) for i in l.split()])\n",
    "# Returns list of list of integers"
   ]
  },
  {
   "cell_type": "code",
   "execution_count": null,
   "metadata": {},
   "outputs": [
    {
     "name": "stdout",
     "output_type": "stream",
     "text": [
      "224\n"
     ]
    }
   ],
   "source": [
    "# part 1\n",
    "def safe_increase(line):\n",
    "    dampen = 0\n",
    "    for i in range(1, len(line)):\n",
    "        if line[i] - line[i-1] < 1 or line[i] - line[i-1] > 3:\n",
    "            return False\n",
    "    return True\n",
    "\n",
    "def safe_decrease(line):\n",
    "    dampen = 0\n",
    "    for i in range(1, len(line)):\n",
    "        if line[i] - line[i-1] > -1 or line[i] - line[i-1] < -3:\n",
    "            return False\n",
    "    return True\n",
    "\n",
    "result = 0\n",
    "for line in data:\n",
    "    if safe_increase(line) or safe_decrease(line):\n",
    "        result += 1\n",
    "\n",
    "print(result)"
   ]
  },
  {
   "cell_type": "code",
   "execution_count": null,
   "metadata": {},
   "outputs": [
    {
     "name": "stdout",
     "output_type": "stream",
     "text": [
      "293\n"
     ]
    }
   ],
   "source": [
    "result = 0\n",
    "for line in data:\n",
    "    for i in range(len(line)):\n",
    "        new_line = line[:i] + line[i+1:]  # Remove element i from line\n",
    "        if safe_decrease(new_line) or safe_increase(new_line):\n",
    "            result += 1\n",
    "            break\n",
    "\n",
    "print(result)"
   ]
  }
 ],
 "metadata": {
  "kernelspec": {
   "display_name": ".venv",
   "language": "python",
   "name": "python3"
  },
  "language_info": {
   "codemirror_mode": {
    "name": "ipython",
    "version": 3
   },
   "file_extension": ".py",
   "mimetype": "text/x-python",
   "name": "python",
   "nbconvert_exporter": "python",
   "pygments_lexer": "ipython3",
   "version": "3.10.11"
  }
 },
 "nbformat": 4,
 "nbformat_minor": 2
}
