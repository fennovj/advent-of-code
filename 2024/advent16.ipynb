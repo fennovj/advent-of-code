{
 "cells": [
  {
   "cell_type": "code",
   "execution_count": 14,
   "metadata": {},
   "outputs": [],
   "source": [
    "import advent\n",
    "from typing import NamedTuple, Iterator\n",
    "from advent.maze import solve_maze\n",
    "from advent.utils import np_where_as_tuple, tadd2, tsub2\n",
    "import numpy as np\n",
    "advent.scrape(2024, 16, 'csv')\n",
    "data = advent.get_char_grid(16)\n",
    "\n",
    "reindeer = np_where_as_tuple(data, 'S')[0]\n",
    "end = np_where_as_tuple(data, 'E')[0]"
   ]
  },
  {
   "cell_type": "code",
   "execution_count": null,
   "metadata": {},
   "outputs": [
    {
     "data": {
      "application/vnd.jupyter.widget-view+json": {
       "model_id": "344b6448b6eb4a378ea8db305e9c4297",
       "version_major": 2,
       "version_minor": 0
      },
      "text/plain": [
       "  0%|          | 0/1 [00:00<?, ?it/s]"
      ]
     },
     "metadata": {},
     "output_type": "display_data"
    },
    {
     "name": "stdout",
     "output_type": "stream",
     "text": [
      "Final path length: 98484\n"
     ]
    }
   ],
   "source": [
    "class Node(NamedTuple):\n",
    "    reindeer: tuple[int, int]\n",
    "    offset: tuple[int, int] = (0, 1)\n",
    "\n",
    "start = Node(reindeer)\n",
    "is_end = lambda node: data[node.reindeer] == 'E'\n",
    "\n",
    "def adjacent(node: Node, reverse=False) -> Iterator[tuple[Node, int]]:\n",
    "    # Two possibilities: moving or turning\n",
    "    move_position = tadd2(node.reindeer, node.offset)\n",
    "    if reverse: move_position = tsub2(node.reindeer, node.offset) # just for part 2\n",
    "    if data[move_position] != '#': yield (Node(move_position, node.offset), 1)\n",
    "    # Try two different turns, they are the same in reverse\n",
    "    new_offsets = [(-node.offset[1], node.offset[0]), (node.offset[1], -node.offset[0])]\n",
    "    for offset in new_offsets:\n",
    "        yield Node(node.reindeer, offset), 1000\n",
    "\n",
    "\n",
    "length, _ = solve_maze(start, is_end, adjacent)\n"
   ]
  },
  {
   "cell_type": "code",
   "execution_count": null,
   "metadata": {},
   "outputs": [],
   "source": [
    "# I think I just have to kind of brute force it ... (kinda sorta)\n",
    "# Idea: calculate quickest route to every node, then quickest route from node to end\n",
    "# The first one we already kinda did in part 1. The second one we can do with solve_maze_no_tqdm\n",
    "# Note: this didn't work, was way too slow calling solve_maze tens of thousands of times\n",
    "# instead, let's do the second one with dijkstra as well\n",
    "# The rub: there are two possible end positions, so we have to check both\n",
    "\n",
    "end1 = Node(end, (-1, 0))  # these offsets are hardcoded based on manual inspection\n",
    "end2 = Node(end, (0, 1))\n",
    "adjacent_reverse = lambda node: adjacent(node, True)\n",
    "\n",
    "_, closed_parents_start = solve_maze(start, lambda n: False, adjacent)\n",
    "_, closed_parents_end1 = solve_maze(end1, lambda n: False, adjacent_reverse)\n",
    "_, closed_parents_end2 = solve_maze(end2, lambda n: False, adjacent_reverse)"
   ]
  },
  {
   "cell_type": "code",
   "execution_count": 17,
   "metadata": {},
   "outputs": [],
   "source": [
    "\n",
    "from advent.maze import solve_maze_no_tqdm\n",
    "\n",
    "def calculate_cost(node: Node, closed_parents: dict[Node, Node]) -> int:\n",
    "    result, parent = 0, None\n",
    "    while closed_parents[node] is not None:\n",
    "        parent = closed_parents[node]\n",
    "        if parent.reindeer == node.reindeer: result += 1000\n",
    "        elif parent.offset == node.offset: result += 1\n",
    "        else: raise ValueError()\n",
    "        node = parent\n",
    "    return result\n",
    "\n",
    "costs_start = dict([(n, calculate_cost(n,closed_parents_start)) for n in closed_parents_start])\n",
    "costs_end1 = dict([(n, calculate_cost(n,closed_parents_end1)) for n in closed_parents_end1])\n",
    "costs_end2 = dict([(n, calculate_cost(n,closed_parents_end2)) for n in closed_parents_end2])"
   ]
  },
  {
   "cell_type": "code",
   "execution_count": null,
   "metadata": {},
   "outputs": [
    {
     "name": "stdout",
     "output_type": "stream",
     "text": [
      "531\n"
     ]
    }
   ],
   "source": [
    "result = set()\n",
    "for n in costs_start:\n",
    "    remaining_cost = min(costs_end1[n], costs_end2[n])  # Check both possible end positions\n",
    "    total_cost = costs_start[n] + remaining_cost\n",
    "    if total_cost == length:\n",
    "        result.add(n.reindeer)  # we only care about unique coords not rotation\n",
    "assert end1.reindeer in result and start.reindeer in result  # Sanity checks\n",
    "print(len(result))"
   ]
  }
 ],
 "metadata": {
  "kernelspec": {
   "display_name": ".venv",
   "language": "python",
   "name": "python3"
  },
  "language_info": {
   "codemirror_mode": {
    "name": "ipython",
    "version": 3
   },
   "file_extension": ".py",
   "mimetype": "text/x-python",
   "name": "python",
   "nbconvert_exporter": "python",
   "pygments_lexer": "ipython3",
   "version": "3.10.11"
  }
 },
 "nbformat": 4,
 "nbformat_minor": 2
}
