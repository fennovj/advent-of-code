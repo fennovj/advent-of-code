{
 "cells": [
  {
   "cell_type": "code",
   "execution_count": 73,
   "metadata": {},
   "outputs": [],
   "source": [
    "from advent.intcode import run\n",
    "\n",
    "items = ['ornament', 'loom', 'spool of cat6', 'wreath', 'fixed point', 'shell', 'candy cane', 'weather machine']\n",
    "\n",
    "initial = 'east->take loom->east->take fixed point->north->take spool of cat6->north->take weather machine->south->west->take shell->east->south->west->south->take ornament->west->north->take candy cane->south->east->north->west->north->take wreath->north->east'\n",
    "initial = initial.replace('->', '\\n')\n",
    "\n",
    "def take_or_drop(i, action):\n",
    "    #print(f\"Now {action}ing {i}\")\n",
    "    assert 0 <= i <= 255\n",
    "    assert action in ['take', 'drop']\n",
    "    # i goes from 0 to 256\n",
    "    b_list = [int(x) for x in list('{0:0b}'.format(i))]\n",
    "    b_list = [0] * (8 - len(b_list)) + b_list\n",
    "    return '\\n'.join([f'{action} {items[i]}' for i in range(8) if b_list[i]])\n",
    "\n",
    "# Basically, are going to loop from 0 to 255 and drop all our items from the previous step,\n",
    "# then take a certain amount of items depending on the state, then go south\n",
    "# if it's too heavy or too light, we increment the state and try again\n",
    "\n",
    "# Note: in hindsight it turned out the whole 'handle_output' function wasn't even needed\n",
    "# you can literally just hardcode the ENTIRE sequence of 256 drop/pickup actions\n",
    "# because the intcode program will halt when you have the correct items\n",
    "# so if you literally deleted the self.handle_output function (and fixed some syntax errors)\n",
    "# it would work as well, I just decided to keep it in since it's reflective of how I solved the problem"
   ]
  },
  {
   "cell_type": "code",
   "execution_count": 74,
   "metadata": {},
   "outputs": [],
   "source": [
    "class IO():\n",
    "    def __init__(self, input_=[]):\n",
    "        self.input_buffer = input_.copy()\n",
    "        self.output_buffer = []\n",
    "        self.current_state = 0 # which items we want\n",
    "\n",
    "    def add_input(self, value):\n",
    "        for c in value + '\\n':\n",
    "            self.input_buffer.append(ord(c))\n",
    "        return self\n",
    "\n",
    "    def read(self):\n",
    "        if len(self.input_buffer) == 0:\n",
    "            result = self.handle_output()\n",
    "            if result == 0 and self.current_state > 0:\n",
    "                raise RuntimeError(f\"We did it! State={self.current_state}\")\n",
    "            # increment current state and try again\n",
    "            self.add_input(take_or_drop(self.current_state, 'drop'))\n",
    "            self.current_state += 1\n",
    "            self.add_input(take_or_drop(self.current_state, 'take'))\n",
    "            self.add_input('south')\n",
    "        return self.input_buffer.pop(0)\n",
    "    \n",
    "    def write(self, value):\n",
    "        self.output_buffer.append(value)\n",
    "        return self\n",
    "    \n",
    "    def output(self):\n",
    "        return self.output_buffer\n",
    "    \n",
    "    def handle_output(self):\n",
    "        out = ''.join([chr(v) for v in self.output()[:-1]])\n",
    "        self.last_output = out\n",
    "        self.output_buffer = []\n",
    "        too_heavy = 'Alert! Droids on this ship are lighter than the detected' in out\n",
    "        too_light = 'Alert! Droids on this ship are heavier than the detected' in out\n",
    "        return 1 if too_heavy else (-1 if too_light else 0)"
   ]
  },
  {
   "cell_type": "code",
   "execution_count": 75,
   "metadata": {},
   "outputs": [
    {
     "name": "stdout",
     "output_type": "stream",
     "text": [
      "A loud, robotic voice says \"Analysis complete! You may proceed.\" and you enter the cockpit.\n",
      "Santa notices your small droid, looks puzzled for a moment, realizes what has happened, and radios your ship directly.\n",
      "\"Oh, hello! You should be able to get in by typing 352325632 on the keypad at the main airlock.\"\n"
     ]
    }
   ],
   "source": [
    "import advent\n",
    "data = advent.get_intcode(25)\n",
    "io = IO()\n",
    "io.add_input(initial) # pick up all items and go to the security terminal\n",
    "io.add_input(take_or_drop(255, 'drop')) # start with empty hands\n",
    "_ = run(data.copy(), io)\n",
    "io.handle_output()\n",
    "\n",
    "# 307 is hardcoded, just didn't want to dump the entire output (which includes stuff like 'you dropped the shell', etc, etc)\n",
    "print(io.last_output[-307:])"
   ]
  },
  {
   "cell_type": "code",
   "execution_count": null,
   "metadata": {},
   "outputs": [],
   "source": []
  }
 ],
 "metadata": {
  "kernelspec": {
   "display_name": "Python 3.8.10 ('env': venv)",
   "language": "python",
   "name": "python3"
  },
  "language_info": {
   "codemirror_mode": {
    "name": "ipython",
    "version": 3
   },
   "file_extension": ".py",
   "mimetype": "text/x-python",
   "name": "python",
   "nbconvert_exporter": "python",
   "pygments_lexer": "ipython3",
   "version": "3.8.10"
  },
  "orig_nbformat": 4,
  "vscode": {
   "interpreter": {
    "hash": "a6e0e7a52ff25650311410ec676cb128052cdfc3b848542c415d170f51f09b78"
   }
  }
 },
 "nbformat": 4,
 "nbformat_minor": 2
}
