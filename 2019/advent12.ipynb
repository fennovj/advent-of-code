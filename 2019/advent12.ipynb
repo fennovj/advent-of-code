{
 "cells": [
  {
   "cell_type": "code",
   "execution_count": 14,
   "metadata": {},
   "outputs": [
    {
     "name": "stdout",
     "output_type": "stream",
     "text": [
      "7687\n"
     ]
    }
   ],
   "source": [
    "# Yeah I handtyped it... would probably not be much slower to parse it but more effort\n",
    "moons = [[16, -8, 13], [4, 10, 10], [17, -5, 6], [13, -3, 0]]\n",
    "velocities = [[0, 0, 0], [0, 0, 0], [0, 0, 0], [0, 0, 0]]\n",
    "\n",
    "def simulate(moons, velocities):\n",
    "    # simulate all pairs. update velocity first:\n",
    "    for i in range(len(moons)):\n",
    "        for j in range(i+1, len(moons)):\n",
    "            for axis in [0, 1, 2]:\n",
    "                if moons[i][axis] > moons[j][axis]:\n",
    "                    velocities[i][axis] = velocities[i][axis] - 1\n",
    "                    velocities[j][axis] = velocities[j][axis] + 1\n",
    "                elif moons[i][axis] < moons[j][axis]:\n",
    "                    velocities[i][axis] = velocities[i][axis] + 1\n",
    "                    velocities[j][axis] = velocities[j][axis] - 1\n",
    "    # now update position\n",
    "    for i in range(len(moons)):\n",
    "        moons[i] = [moons[i][0] + velocities[i][0], moons[i][1] + velocities[i][1], moons[i][2] + velocities[i][2]]\n",
    "    return moons, velocities\n",
    "\n",
    "def energy(moons, velocities):\n",
    "    total = 0\n",
    "    for i in range(len(moons)):\n",
    "        potential = abs(moons[i][0]) + abs(moons[i][1]) + abs(moons[i][2])\n",
    "        kinetic = abs(velocities[i][0]) + abs(velocities[i][1]) + abs(velocities[i][2])\n",
    "        total += (potential * kinetic)\n",
    "    return total\n",
    "\n",
    "for _ in range(1000):\n",
    "    moons, velocities = simulate(moons, velocities)\n",
    "\n",
    "print(energy(moons, velocities))\n"
   ]
  },
  {
   "cell_type": "code",
   "execution_count": 23,
   "metadata": {},
   "outputs": [
    {
     "name": "stdout",
     "output_type": "stream",
     "text": [
      "2772\n"
     ]
    }
   ],
   "source": [
    "# toy example, the real example may take MANY more steps\n",
    "moons = [[-1, 0, 2], [2, -10, -7], [4, -8, 8], [3, 5, -1]]\n",
    "velocities = [[0, 0, 0], [0, 0, 0], [0, 0, 0], [0, 0, 0]]\n",
    "\n",
    "hash = lambda moons, velocities: ','.join([','.join([str(m) for m in line]) for line in moons + velocities])\n",
    "\n",
    "already_seen = set([hash(moons, velocities)])\n",
    "counter = 0\n",
    "\n",
    "while True:\n",
    "    counter += 1\n",
    "    moons, velocities = simulate(moons, velocities)\n",
    "    new_hash = hash(moons, velocities)\n",
    "    if new_hash in already_seen: break\n",
    "    already_seen.update([new_hash])\n",
    "\n",
    "print(counter)"
   ]
  }
 ],
 "metadata": {
  "kernelspec": {
   "display_name": "Python 3.8.10 ('env': venv)",
   "language": "python",
   "name": "python3"
  },
  "language_info": {
   "codemirror_mode": {
    "name": "ipython",
    "version": 3
   },
   "file_extension": ".py",
   "mimetype": "text/x-python",
   "name": "python",
   "nbconvert_exporter": "python",
   "pygments_lexer": "ipython3",
   "version": "3.8.10"
  },
  "orig_nbformat": 4,
  "vscode": {
   "interpreter": {
    "hash": "a6e0e7a52ff25650311410ec676cb128052cdfc3b848542c415d170f51f09b78"
   }
  }
 },
 "nbformat": 4,
 "nbformat_minor": 2
}
