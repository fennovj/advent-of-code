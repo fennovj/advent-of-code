{
 "cells": [
  {
   "cell_type": "code",
   "execution_count": 23,
   "metadata": {},
   "outputs": [],
   "source": [
    "import advent\n",
    "import numpy as np\n",
    "from advent.maze import solve_maze, solve_maze_no_tqdm\n",
    "data = advent.get_char_grid(18)\n",
    "\n",
    "def unravel(tuple_ix):\n",
    "    return tuple_ix[0][0], tuple_ix[1][0]"
   ]
  },
  {
   "cell_type": "code",
   "execution_count": 54,
   "metadata": {},
   "outputs": [],
   "source": [
    "# I'm going to try a two-stage approach: first use dijkstra to\n",
    "# find the shortest paths between all pairs of keys, then use\n",
    "# dijkstra to find the shortest path that visits all keys.\n",
    "\n",
    "key_names = '@abcdefghijklmnopqrstuvwxyz'\n",
    "door_names = 'ABCDEFGHIJKLMNOPQRSTUVWXYZ'\n",
    "keys, doors = {}, {}\n",
    "for key in key_names:\n",
    "    keys[key] = unravel(np.where(data == key))\n",
    "for door in door_names:\n",
    "    doors[unravel(np.where(data == door))] = door\n"
   ]
  },
  {
   "cell_type": "code",
   "execution_count": 61,
   "metadata": {},
   "outputs": [
    {
     "name": "stderr",
     "output_type": "stream",
     "text": [
      "100%|██████████| 27/27 [00:06<00:00,  4.13it/s]\n"
     ]
    }
   ],
   "source": [
    "def adjacent(coord):\n",
    "    x, y = coord\n",
    "    for dx, dy in ((0, 1), (0, -1), (1, 0), (-1, 0)):\n",
    "        new_coord = x + dx, y + dy\n",
    "        if data[new_coord] != '#':\n",
    "            yield new_coord, 1\n",
    "\n",
    "def manhattan(coord1, coord2):\n",
    "    return abs(coord1[0] - coord2[0]) + abs(coord1[1] - coord2[1])\n",
    "\n",
    "def get_h(target_key):\n",
    "    return lambda coord: manhattan(coord, keys[target_key])\n",
    "\n",
    "def get_blockers(path, coord):\n",
    "    # coord is the ending position of the path\n",
    "    blockers = []\n",
    "    while coord is not None:\n",
    "        coord = path[coord]\n",
    "        if coord in doors:\n",
    "            blockers.append(doors[coord].lower())\n",
    "    return blockers\n",
    "\n",
    "all_paths = {}\n",
    "\n",
    "from tqdm import tqdm\n",
    "for start_key in tqdm(keys):\n",
    "    for target_key in keys:\n",
    "        result = solve_maze_no_tqdm(\n",
    "            keys[start_key],\n",
    "            lambda coord: coord == keys[target_key],\n",
    "            adjacent,\n",
    "            h=get_h(target_key)\n",
    "        )\n",
    "        all_paths[(start_key, target_key)] = result[0], get_blockers(result[1], keys[target_key])\n"
   ]
  },
  {
   "cell_type": "code",
   "execution_count": null,
   "metadata": {},
   "outputs": [],
   "source": [
    "from typing import NamedTuple\n",
    "class Node(NamedTuple):\n",
    "    current_key: str\n",
    "    keys: frozenset[str] # must include current_key\n",
    "\n",
    "    def adjacent(self):\n",
    "        for target_key in keys:\n",
    "            if target_key in self.keys: continue\n",
    "            path, blockers = all_paths[(self.current_key, target_key)]\n",
    "            if all(blocker in self.keys for blocker in blockers):\n",
    "                yield Node(target_key, self.keys | {target_key}), path\n",
    "\n",
    "def is_target(node):\n",
    "    return len(node.keys) == len(keys)\n",
    "\n",
    "start = Node('@', frozenset(['@']))\n",
    "\n",
    "result = solve_maze(\n",
    "    start,\n",
    "    is_target,\n",
    "    lambda node: node.adjacent()\n",
    ")"
   ]
  },
  {
   "cell_type": "markdown",
   "metadata": {},
   "source": [
    "# Part 2\n",
    "\n",
    "contains some repetition from part 1 because both steps of dijkstra need to be redone slightly differently\n",
    "\n",
    "performance-wise it should be about the same since there are the same number of possibilies of orders to collect keys (26 factorial), we just need to track 4 robot positions so Node will become slightly more complex\n",
    "\n",
    "also not all paths are possible so 'all_paths' need to be recomputed"
   ]
  },
  {
   "cell_type": "code",
   "execution_count": 82,
   "metadata": {},
   "outputs": [],
   "source": [
    "# part2\n",
    "data = data.copy()\n",
    "data[39:42, 39:42] = np.array([['@', '#', '$'], ['#', '#', '#'], ['%', '#', '^']])\n",
    "data[39:42, 39:42]\n",
    "\n",
    "key_names = '@$%^abcdefghijklmnopqrstuvwxyz'\n",
    "door_names = 'ABCDEFGHIJKLMNOPQRSTUVWXYZ'\n",
    "keys, doors = {}, {}\n",
    "for key in key_names:\n",
    "    keys[key] = unravel(np.where(data == key))\n",
    "for door in door_names:\n",
    "    doors[unravel(np.where(data == door))] = door"
   ]
  },
  {
   "cell_type": "code",
   "execution_count": 85,
   "metadata": {},
   "outputs": [
    {
     "name": "stderr",
     "output_type": "stream",
     "text": [
      "100%|██████████| 30/30 [00:03<00:00,  8.93it/s]\n"
     ]
    }
   ],
   "source": [
    "all_paths = {}\n",
    "\n",
    "from tqdm import tqdm\n",
    "for start_key in tqdm(keys):\n",
    "    for target_key in keys:\n",
    "        result = solve_maze_no_tqdm(\n",
    "            keys[start_key],\n",
    "            lambda coord: coord == keys[target_key],\n",
    "            adjacent,\n",
    "            h=get_h(target_key)\n",
    "        )\n",
    "        if result[2]:\n",
    "            all_paths[(start_key, target_key)] = result[0], get_blockers(result[1], keys[target_key])\n",
    "        else:\n",
    "            all_paths[(start_key, target_key)] = None, None"
   ]
  },
  {
   "cell_type": "code",
   "execution_count": null,
   "metadata": {},
   "outputs": [],
   "source": [
    "from typing import NamedTuple\n",
    "class Node(NamedTuple):\n",
    "    current_key: tuple[str, str, str, str]\n",
    "    keys: frozenset[str] # must include current_key\n",
    "\n",
    "    def adjacent(self):\n",
    "        #print(self.current_key, self.keys)\n",
    "        for target_key in keys:\n",
    "            if target_key in self.keys: continue\n",
    "            for i, curr in enumerate(self.current_key):\n",
    "                path, blockers = all_paths[(curr, target_key)]\n",
    "                if not path: continue # this robot can't reach target_key\n",
    "                if all(blocker in self.keys for blocker in blockers):\n",
    "                    new_current_key = list(self.current_key)\n",
    "                    new_current_key[i] = target_key\n",
    "                    yield Node(\n",
    "                        tuple(new_current_key),\n",
    "                        keys=self.keys | {target_key}\n",
    "                    ), path\n",
    "\n",
    "def is_target(node):\n",
    "    return len(node.keys) == len(keys)\n",
    "\n",
    "start = Node(('@', '$', '%', '^'), frozenset(['@', '$', '%', '^']))\n",
    "\n",
    "result = solve_maze(\n",
    "    start,\n",
    "    is_target,\n",
    "    lambda node: node.adjacent()\n",
    ")"
   ]
  }
 ],
 "metadata": {
  "kernelspec": {
   "display_name": ".venv",
   "language": "python",
   "name": "python3"
  },
  "language_info": {
   "codemirror_mode": {
    "name": "ipython",
    "version": 3
   },
   "file_extension": ".py",
   "mimetype": "text/x-python",
   "name": "python",
   "nbconvert_exporter": "python",
   "pygments_lexer": "ipython3",
   "version": "3.10.11"
  }
 },
 "nbformat": 4,
 "nbformat_minor": 2
}
