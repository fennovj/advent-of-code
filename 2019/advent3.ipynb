{
 "cells": [
  {
   "cell_type": "code",
   "execution_count": 68,
   "metadata": {},
   "outputs": [],
   "source": [
    "import advent\n",
    "\n",
    "data = advent.get_lines(3, map_fn=lambda x: x.split(','))\n"
   ]
  },
  {
   "cell_type": "code",
   "execution_count": 69,
   "metadata": {},
   "outputs": [
    {
     "data": {
      "text/plain": [
       "627"
      ]
     },
     "execution_count": 69,
     "metadata": {},
     "output_type": "execute_result"
    }
   ],
   "source": [
    "def get_coords(instructions, start=(0, 0)):\n",
    "    if len(instructions) == 0: return set([])\n",
    "    direction, number = instructions[0][0], int(instructions[0][1:])\n",
    "\n",
    "    if direction == 'R':\n",
    "        extra = [(start[0], start[1] + i + 1) for i in range(number)]\n",
    "    elif direction == 'L':\n",
    "        extra = [(start[0], start[1] - i - 1) for i in range(number)]\n",
    "    elif direction == 'U':\n",
    "        extra = [(start[0] + i + 1, start[1]) for i in range(number)]\n",
    "    elif direction == 'D':\n",
    "        extra = [(start[0] - i - 1, start[1]) for i in range(number)]\n",
    "    end = extra[-1]\n",
    "    rest = get_coords(instructions[1:], end)\n",
    "    return {*set(extra), *rest}\n",
    "\n",
    "coords1 = get_coords(data[0])\n",
    "coords2 = get_coords(data[1])\n",
    "min(map(lambda x: abs(x[0]) + abs(x[1]), coords1.intersection(coords2)))"
   ]
  },
  {
   "cell_type": "code",
   "execution_count": 81,
   "metadata": {},
   "outputs": [
    {
     "data": {
      "text/plain": [
       "13190"
      ]
     },
     "execution_count": 81,
     "metadata": {},
     "output_type": "execute_result"
    }
   ],
   "source": [
    "# Now do it again but keep track of the number of steps\n",
    "\n",
    "def get_coords2(instructions, start=(0, 0), steps=0):\n",
    "    if len(instructions) == 0: return {}\n",
    "    direction, number = instructions[0][0], int(instructions[0][1:])\n",
    "\n",
    "    if direction == 'R':\n",
    "        extra = dict([((start[0], start[1] + i + 1), steps+i+1) for i in range(number)])\n",
    "        end = (start[0], start[1] + number)\n",
    "    elif direction == 'L':\n",
    "        extra = dict([((start[0], start[1] - i - 1), steps+i+1) for i in range(number)])\n",
    "        end = (start[0], start[1] - number)\n",
    "    elif direction == 'U':\n",
    "        extra = dict([((start[0] + i + 1, start[1]), steps+i+1) for i in range(number)])\n",
    "        end = (start[0] + number, start[1])\n",
    "    elif direction == 'D':\n",
    "        extra = dict([((start[0] - i - 1, start[1]), steps+i+1) for i in range(number)])\n",
    "        end = (start[0] - number, start[1])\n",
    "    rest = get_coords2(instructions[1:], end, steps+number)\n",
    "    return {**rest, **extra} # right wins, so extra must have priority since it's lower valued\n",
    "\n",
    "coords1 = get_coords2(data[0])\n",
    "coords2 = get_coords2(data[1])\n",
    "min([coords1[c] + coords2[c] for c in coords1 if c in coords2])"
   ]
  }
 ],
 "metadata": {
  "kernelspec": {
   "display_name": "Python 3.8.10 ('env': venv)",
   "language": "python",
   "name": "python3"
  },
  "language_info": {
   "codemirror_mode": {
    "name": "ipython",
    "version": 3
   },
   "file_extension": ".py",
   "mimetype": "text/x-python",
   "name": "python",
   "nbconvert_exporter": "python",
   "pygments_lexer": "ipython3",
   "version": "3.8.10"
  },
  "orig_nbformat": 4,
  "vscode": {
   "interpreter": {
    "hash": "a6e0e7a52ff25650311410ec676cb128052cdfc3b848542c415d170f51f09b78"
   }
  }
 },
 "nbformat": 4,
 "nbformat_minor": 2
}
