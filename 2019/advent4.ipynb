{
 "cells": [
  {
   "cell_type": "code",
   "execution_count": 11,
   "metadata": {},
   "outputs": [
    {
     "name": "stdout",
     "output_type": "stream",
     "text": [
      "960\n"
     ]
    }
   ],
   "source": [
    "count = 0\n",
    "for digits in range(265275, 781584+1):\n",
    "    d = [int(i) for i in str(digits)]\n",
    "    if d[5] >= d[4] >= d[3] >= d[2] >= d[1] >= d[0] and \\\n",
    "        (d[0] == d[1] or d[1] == d[2] or d[2] == d[3] or d[3] == d[4] or d[4] == d[5]):\n",
    "        count += 1\n",
    "\n",
    "print(count)"
   ]
  },
  {
   "cell_type": "code",
   "execution_count": 16,
   "metadata": {},
   "outputs": [
    {
     "name": "stdout",
     "output_type": "stream",
     "text": [
      "626\n"
     ]
    }
   ],
   "source": [
    "count = 0\n",
    "for digits in range(265275, 781584+1):\n",
    "    d = [int(i) for i in str(digits)]\n",
    "    if d[5] >= d[4] >= d[3] >= d[2] >= d[1] >= d[0] and \\\n",
    "        (d[0] == d[1] != d[2] or \\\n",
    "         d[0] != d[1] == d[2] != d[3] or \\\n",
    "         d[1] != d[2] == d[3] != d[4] or \\\n",
    "         d[2] != d[3] == d[4] != d[5] or \\\n",
    "         d[3] != d[4] == d[5]\n",
    "        ):\n",
    "        count += 1\n",
    "\n",
    "print(count)"
   ]
  }
 ],
 "metadata": {
  "kernelspec": {
   "display_name": "Python 3.8.10 ('env': venv)",
   "language": "python",
   "name": "python3"
  },
  "language_info": {
   "codemirror_mode": {
    "name": "ipython",
    "version": 3
   },
   "file_extension": ".py",
   "mimetype": "text/x-python",
   "name": "python",
   "nbconvert_exporter": "python",
   "pygments_lexer": "ipython3",
   "version": "3.8.10"
  },
  "orig_nbformat": 4,
  "vscode": {
   "interpreter": {
    "hash": "a6e0e7a52ff25650311410ec676cb128052cdfc3b848542c415d170f51f09b78"
   }
  }
 },
 "nbformat": 4,
 "nbformat_minor": 2
}
