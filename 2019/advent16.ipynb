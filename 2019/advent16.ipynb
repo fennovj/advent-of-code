{
 "cells": [
  {
   "cell_type": "code",
   "execution_count": 8,
   "metadata": {},
   "outputs": [
    {
     "name": "stdout",
     "output_type": "stream",
     "text": [
      "[5, 9, 7, 9, 3, 5, 1, 3, 5, 1]\n"
     ]
    }
   ],
   "source": [
    "import advent\n",
    "import numpy as np\n",
    "data = [int(i) for i in advent.get_lines(16)[0]]\n",
    "print(data[:10])"
   ]
  },
  {
   "cell_type": "code",
   "execution_count": 2,
   "metadata": {},
   "outputs": [],
   "source": [
    "last_digit = lambda d: d % 10 if d >= 0 else (-d) % 10\n",
    "\n",
    "def apply_pattern(input, pattern):\n",
    "    # input is list of length N\n",
    "    # pattern is list of length M (already repeated if needed)\n",
    "    # extend pattern by calling np.tile on it so it's longer than input,\n",
    "    #   then clipping to same length as input, and skipping the very first element of the pattern\n",
    "    # then return dot product\n",
    "    tile = (len(input) // len(pattern)) + 1  # +1 so we can always skip the first element\n",
    "    pattern_extended = np.tile(pattern, tile)[1:len(input)+1]\n",
    "    res = np.dot(input, pattern_extended)\n",
    "    return last_digit(res)"
   ]
  },
  {
   "cell_type": "code",
   "execution_count": null,
   "metadata": {},
   "outputs": [
    {
     "name": "stdout",
     "output_type": "stream",
     "text": [
      "[4. 8. 2. 2. 6. 1. 5. 8.]\n"
     ]
    }
   ],
   "source": [
    "def apply_full_pattern(input, base_pattern=np.array([0, 1, 0, -1])):\n",
    "    output = np.zeros(len(input))\n",
    "    for ix, _ in enumerate(input):\n",
    "        pattern = np.repeat(base_pattern, ix+1)\n",
    "        output[ix] = apply_pattern(input, pattern)\n",
    "    return output\n",
    "\n",
    "test_input = np.array([1, 2, 3, 4, 5, 6, 7, 8])\n",
    "print(apply_full_pattern(test_input)) # should be 48226158"
   ]
  },
  {
   "cell_type": "code",
   "execution_count": 18,
   "metadata": {},
   "outputs": [
    {
     "name": "stdout",
     "output_type": "stream",
     "text": [
      "24176176480919046114038763195595\n"
     ]
    }
   ],
   "source": [
    "def apply_full_pattern_n_times(input, n=100, base_pattern=np.array([0, 1, 0, -1])):\n",
    "    for _ in range(n):\n",
    "        input = apply_full_pattern(input, base_pattern)\n",
    "    return input\n",
    "\n",
    "test_input = np.array([int(i) for i in '80871224585914546619083218645595'])\n",
    "print(''.join(str(int(i)) for i in apply_full_pattern_n_times(test_input))) # should start with 24176176"
   ]
  },
  {
   "cell_type": "code",
   "execution_count": 19,
   "metadata": {},
   "outputs": [
    {
     "name": "stdout",
     "output_type": "stream",
     "text": [
      "49254779\n"
     ]
    }
   ],
   "source": [
    "print(''.join(str(int(i)) for i in apply_full_pattern_n_times(data, n=100)[:8]))  # assignments only wants the first 8 digits"
   ]
  },
  {
   "cell_type": "code",
   "execution_count": null,
   "metadata": {},
   "outputs": [
    {
     "name": "stdout",
     "output_type": "stream",
     "text": [
      "[4. 8. 2. 2. 6. 1. 5. 8.]\n"
     ]
    }
   ],
   "source": [
    "# Part 2\n",
    "long_data = np.tile(data, 10000)\n",
    "offset = int(''.join(str(i) for i in data[:7]))\n",
    "\n",
    "# Tries to use numpy for everything to eliminate a for loop\n",
    "def fft_faster(data):\n",
    "    # We are just going to make the assumption the pattern is always [0, 1, 0, -1], no need for a parameter\n",
    "    base_pattern = np.array([0, 1, 0, -1])\n",
    "    size = len(data)\n",
    "    result = np.zeros(size)\n",
    "\n",
    "    for n in range(1, size+1):\n",
    "        applied_pattern = np.floor((np.arange(1, size+1) % (4*n)) / n).astype(int)\n",
    "        applied_pattern = base_pattern[applied_pattern]\n",
    "        result[n-1] = last_digit(np.dot(data, applied_pattern))\n",
    "    return result\n",
    "print(fft_faster([int(i) for i in '12345678']))\n",
    "# Still too slow when we apply it on long_data"
   ]
  },
  {
   "cell_type": "code",
   "execution_count": null,
   "metadata": {},
   "outputs": [
    {
     "name": "stdout",
     "output_type": "stream",
     "text": [
      "55078585\n"
     ]
    }
   ],
   "source": [
    "# Attempt 2\n",
    "\n",
    "# After sleeping on it for a few days (or years...?) I checked the offset, and noticed it was\n",
    "# more than 90% of the length of the data (5979351 / 6500000 ~= 0.92)\n",
    "# Specifically in the second half of the list, where j=5979351, a_ij = a_(i-1)j + a_(i-1)(j+1) + ...\n",
    "# And we can just ignore the entire pattern since it's just ones and just use cumsum\n",
    "# we don't use last_digit function since we know the sum will never be negative we can just do % 10\n",
    "\n",
    "data_from_offset = long_data[offset:]\n",
    "\n",
    "for _ in range(100):\n",
    "    # Calculate the entire 'second half of the list' (from offset only) by just taking the cumsum\n",
    "    # And then the last digit of each element\n",
    "    # Do this a hundred times\n",
    "    data_from_offset = np.cumsum(data_from_offset[::-1])[::-1] % 10\n",
    "\n",
    "print(''.join(str(c) for c in data_from_offset[:8]))\n"
   ]
  }
 ],
 "metadata": {
  "kernelspec": {
   "display_name": ".venv",
   "language": "python",
   "name": "python3"
  },
  "language_info": {
   "codemirror_mode": {
    "name": "ipython",
    "version": 3
   },
   "file_extension": ".py",
   "mimetype": "text/x-python",
   "name": "python",
   "nbconvert_exporter": "python",
   "pygments_lexer": "ipython3",
   "version": "3.10.11"
  },
  "orig_nbformat": 4
 },
 "nbformat": 4,
 "nbformat_minor": 2
}
