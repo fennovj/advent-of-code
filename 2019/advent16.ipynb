{
 "cells": [
  {
   "cell_type": "code",
   "execution_count": 1,
   "metadata": {},
   "outputs": [
    {
     "data": {
      "text/plain": [
       "[5, 9, 7, 9, 3, 5, 1, 3, 5, 1]"
      ]
     },
     "execution_count": 1,
     "metadata": {},
     "output_type": "execute_result"
    }
   ],
   "source": [
    "import advent\n",
    "import numpy as np\n",
    "data = [int(i) for i in advent.get_lines(16)[0]]\n",
    "data[:10]"
   ]
  },
  {
   "cell_type": "code",
   "execution_count": 2,
   "metadata": {},
   "outputs": [],
   "source": [
    "last_digit = lambda d: d % 10 if d >= 0 else (-d) % 10\n",
    "\n",
    "def apply_pattern(input, pattern):\n",
    "    # input is list of length N\n",
    "    # pattern is list of length M (already repeated if needed)\n",
    "    # extend pattern by calling np.tile on it so it's longer than input,\n",
    "    #   then clipping to same length as input, and skipping the very first element of the pattern\n",
    "    # then return dot product\n",
    "    tile = (len(input) // len(pattern)) + 1  # +1 so we can always skip the first element\n",
    "    pattern_extended = np.tile(pattern, tile)[1:len(input)+1]\n",
    "    res = np.dot(input, pattern_extended)\n",
    "    return last_digit(res)"
   ]
  },
  {
   "cell_type": "code",
   "execution_count": 3,
   "metadata": {},
   "outputs": [
    {
     "data": {
      "text/plain": [
       "array([3., 4., 0., 4., 0., 4., 3., 8.])"
      ]
     },
     "execution_count": 3,
     "metadata": {},
     "output_type": "execute_result"
    }
   ],
   "source": [
    "def apply_full_pattern(input, base_pattern=np.array([0, 1, 0, -1])):\n",
    "    output = np.zeros(len(input))\n",
    "    for ix, _ in enumerate(input):\n",
    "        pattern = np.repeat(base_pattern, ix+1)\n",
    "        output[ix] = apply_pattern(input, pattern)\n",
    "    return output\n",
    "\n",
    "test_input = np.array([1, 2, 3, 4, 5, 6, 7, 8])\n",
    "apply_full_pattern(apply_full_pattern(test_input))"
   ]
  },
  {
   "cell_type": "code",
   "execution_count": null,
   "metadata": {},
   "outputs": [
    {
     "data": {
      "text/plain": [
       "array([2., 4., 1., 7., 6., 1., 7., 6., 4., 8., 0., 9., 1., 9., 0., 4., 6.,\n",
       "       1., 1., 4., 0., 3., 8., 7., 6., 3., 1., 9., 5., 5., 9., 5.])"
      ]
     },
     "execution_count": 4,
     "metadata": {},
     "output_type": "execute_result"
    }
   ],
   "source": [
    "def apply_full_pattern_n_times(input, n=100, base_pattern=np.array([0, 1, 0, -1])):\n",
    "    for _ in range(n):\n",
    "        input = apply_full_pattern(input, base_pattern)\n",
    "    return input\n",
    "\n",
    "test_input = np.array([int(i) for i in '80871224585914546619083218645595'])\n",
    "''.join(str(int(i)) for i in apply_full_pattern_n_times(test_input)) # should start with 24176176"
   ]
  },
  {
   "cell_type": "code",
   "execution_count": 9,
   "metadata": {},
   "outputs": [
    {
     "data": {
      "text/plain": [
       "'1687560704'"
      ]
     },
     "execution_count": 9,
     "metadata": {},
     "output_type": "execute_result"
    }
   ],
   "source": [
    "''.join(str(int(i)) for i in apply_full_pattern_n_times(data, n=100)[:10])"
   ]
  },
  {
   "cell_type": "code",
   "execution_count": null,
   "metadata": {},
   "outputs": [],
   "source": []
  }
 ],
 "metadata": {
  "kernelspec": {
   "display_name": "env",
   "language": "python",
   "name": "python3"
  },
  "language_info": {
   "codemirror_mode": {
    "name": "ipython",
    "version": 3
   },
   "file_extension": ".py",
   "mimetype": "text/x-python",
   "name": "python",
   "nbconvert_exporter": "python",
   "pygments_lexer": "ipython3",
   "version": "3.8.10"
  },
  "orig_nbformat": 4
 },
 "nbformat": 4,
 "nbformat_minor": 2
}
