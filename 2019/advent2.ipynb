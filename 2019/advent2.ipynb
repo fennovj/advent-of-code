{
 "cells": [
  {
   "cell_type": "code",
   "execution_count": 48,
   "metadata": {},
   "outputs": [],
   "source": [
    "import advent\n",
    "\n",
    "data = advent.get_lines(2)[0].split(',')\n",
    "data = list(map(int, data))\n"
   ]
  },
  {
   "cell_type": "code",
   "execution_count": 49,
   "metadata": {},
   "outputs": [
    {
     "name": "stdout",
     "output_type": "stream",
     "text": [
      "3562672\n"
     ]
    }
   ],
   "source": [
    "def step(code, pointer):\n",
    "    # INPLACE does a intcode step, and returns new state and new pointer\n",
    "    # pointer -1 means the program is done\n",
    "    ins = code[pointer]\n",
    "    if ins == 1 or ins == 2:\n",
    "        result = code[code[pointer+1]] + code[code[pointer+2]] if ins == 1 \\\n",
    "            else code[code[pointer+1]] * code[code[pointer+2]]\n",
    "        code[code[pointer+3]] = result\n",
    "        return code, pointer+4\n",
    "    elif ins == 99:\n",
    "        return code, -1\n",
    "    raise ValueError(\"Incorrect program\")\n",
    "\n",
    "def run(code, pointer=0):\n",
    "    while pointer >= 0:\n",
    "        code, pointer = step(code, pointer)\n",
    "    return code\n",
    "\n",
    "\n",
    "code = data.copy()\n",
    "\n",
    "# Part 1 specific\n",
    "pointer = 0\n",
    "code[1] = 12\n",
    "code[2] = 2\n",
    "\n",
    "\n",
    "print(run(code)[0])"
   ]
  },
  {
   "cell_type": "code",
   "execution_count": 50,
   "metadata": {},
   "outputs": [
    {
     "name": "stdout",
     "output_type": "stream",
     "text": [
      "82 and 50\n"
     ]
    }
   ],
   "source": [
    "for i in range(100):\n",
    "    for j in range(100):\n",
    "        code = data.copy()\n",
    "        code[1] = i\n",
    "        code[2] = j\n",
    "        if run(code)[0] == 19690720:\n",
    "            print(f\"{i} and {j}\")\n",
    "            break\n",
    "        "
   ]
  },
  {
   "cell_type": "code",
   "execution_count": null,
   "metadata": {},
   "outputs": [],
   "source": []
  }
 ],
 "metadata": {
  "kernelspec": {
   "display_name": "Python 3.8.10 ('env': venv)",
   "language": "python",
   "name": "python3"
  },
  "language_info": {
   "codemirror_mode": {
    "name": "ipython",
    "version": 3
   },
   "file_extension": ".py",
   "mimetype": "text/x-python",
   "name": "python",
   "nbconvert_exporter": "python",
   "pygments_lexer": "ipython3",
   "version": "3.8.10"
  },
  "orig_nbformat": 4,
  "vscode": {
   "interpreter": {
    "hash": "a6e0e7a52ff25650311410ec676cb128052cdfc3b848542c415d170f51f09b78"
   }
  }
 },
 "nbformat": 4,
 "nbformat_minor": 2
}
