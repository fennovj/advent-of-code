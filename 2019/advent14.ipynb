{
 "cells": [
  {
   "cell_type": "code",
   "execution_count": 41,
   "metadata": {},
   "outputs": [],
   "source": [
    "import advent\n",
    "from math import ceil\n",
    "\n",
    "data =  advent.get_lines(14, map_fn = lambda x: x.split(' => '))\n",
    "\n",
    "str_to_output = {'ORE': (1, 'ORE')}\n",
    "output_to_input = {(1, 'ORE'): [(1, 'TRUE_ORE')]}\n",
    "\n",
    "def parse_line(line):\n",
    "    parse_pair = lambda pair: (int(pair.split(' ')[0]), pair.split(' ')[1])\n",
    "    output = parse_pair(line[1])\n",
    "    input = [parse_pair(pair) for pair in line[0].split(', ')]\n",
    "    str_to_output[output[1]] = output\n",
    "    output_to_input[output] = input\n",
    "    return input, output\n",
    "\n",
    "data = list(map(parse_line, data))\n"
   ]
  },
  {
   "cell_type": "code",
   "execution_count": 44,
   "metadata": {},
   "outputs": [
    {
     "data": {
      "text/plain": [
       "1967319"
      ]
     },
     "execution_count": 44,
     "metadata": {},
     "output_type": "execute_result"
    }
   ],
   "source": [
    "def ore_required(fuel=1):\n",
    "    extras_in_bag = {} # str -> nr\n",
    "    needs = [(fuel, 'FUEL')]\n",
    "    real_ore_required = 0\n",
    "\n",
    "    while True:\n",
    "        if len(needs) == 0: break\n",
    "        if needs[0][1] == 'TRUE_ORE':\n",
    "            # Take any out of the bag first, then 'sink' the rest to the result\n",
    "            real_ore_required += needs[0][0]\n",
    "            needs = needs[1:] # remove it from the needs\n",
    "            continue\n",
    "\n",
    "        need_nr, need_str = needs[0]\n",
    "        need = str_to_output[need_str]\n",
    "        have_extra = extras_in_bag.get(need_str, 0)\n",
    "\n",
    "        trades_to_do = max(0, ceil((need_nr - have_extra) / need[0]))\n",
    "        have_leftover = ((need[0] * trades_to_do) + have_extra) - need_nr\n",
    "        # print(f\"Need {need_str}, will do {trades_to_do} trades, will have {have_leftover} too much\")\n",
    "\n",
    "        extras_in_bag[need_str] = have_leftover\n",
    "        needs = needs[1:] # remove it from the needs\n",
    "        for new_input in output_to_input[need]:\n",
    "            #print(new_input, need)\n",
    "            needs.append((new_input[0] * trades_to_do, new_input[1]))\n",
    "\n",
    "\n",
    "    return real_ore_required\n",
    "\n",
    "ore_required(1)"
   ]
  },
  {
   "cell_type": "code",
   "execution_count": 49,
   "metadata": {},
   "outputs": [
    {
     "name": "stdout",
     "output_type": "stream",
     "text": [
      "1122036\n"
     ]
    }
   ],
   "source": [
    "# part 2: binary search!\n",
    "\n",
    "# we keep it so that min_ix can be made with 1 trillion, max_ix can't\n",
    "min_ix = 1000\n",
    "# Kinda just tried some high numbers until I got something that was > 1T\n",
    "max_ix = 2_000_000\n",
    "\n",
    "while (max_ix - min_ix) > 1:\n",
    "    mid = (min_ix + max_ix) // 2\n",
    "    if ore_required(mid) > 1_000_000_000_000:\n",
    "        max_ix = mid\n",
    "    else:\n",
    "        min_ix = mid\n",
    "\n",
    "print(min_ix)\n",
    "\n"
   ]
  }
 ],
 "metadata": {
  "kernelspec": {
   "display_name": "Python 3.8.10 ('env': venv)",
   "language": "python",
   "name": "python3"
  },
  "language_info": {
   "codemirror_mode": {
    "name": "ipython",
    "version": 3
   },
   "file_extension": ".py",
   "mimetype": "text/x-python",
   "name": "python",
   "nbconvert_exporter": "python",
   "pygments_lexer": "ipython3",
   "version": "3.8.10"
  },
  "orig_nbformat": 4,
  "vscode": {
   "interpreter": {
    "hash": "a6e0e7a52ff25650311410ec676cb128052cdfc3b848542c415d170f51f09b78"
   }
  }
 },
 "nbformat": 4,
 "nbformat_minor": 2
}
