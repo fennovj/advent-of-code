{
 "cells": [
  {
   "cell_type": "code",
   "execution_count": 1,
   "metadata": {},
   "outputs": [],
   "source": [
    "import advent"
   ]
  },
  {
   "cell_type": "code",
   "execution_count": 2,
   "metadata": {},
   "outputs": [
    {
     "data": {
      "text/plain": [
       "[0, 0, 0, 0, 0, 0, 0, 0, 0, 16348437]"
      ]
     },
     "execution_count": 2,
     "metadata": {},
     "output_type": "execute_result"
    }
   ],
   "source": [
    "def get(op, code, pointer, offset):\n",
    "    # e.g. get('1002', code, 2) -> code[p] (immediate mode)\n",
    "    # e.g. get('2', code, 2) -> code[code[p]] (parameter mode)\n",
    "    mode = op % (10**(2+offset)) // (10**(1+offset))\n",
    "    #print(f\"{op}, {pointer}, {offset}, {mode}, {code[pointer+offset]}\")\n",
    "    if mode == 0: # parameter mode\n",
    "        return code[code[pointer+offset]]\n",
    "    elif mode == 1: # immediate mode\n",
    "        return code[pointer+offset]\n",
    "    raise ValueError(f\"{op}, {pointer}, {offset} not allowed\")\n",
    "\n",
    "class IO():\n",
    "    # Simple implementation of IO: just has static input in the __init__\n",
    "\n",
    "    def __init__(self, input_):\n",
    "        self.input_buffer = input_.copy()\n",
    "        self.output_buffer = []\n",
    "\n",
    "    def read(self):\n",
    "        return self.input_buffer.pop(0)\n",
    "    \n",
    "    def write(self, value):\n",
    "        self.output_buffer.append(value)\n",
    "        return self\n",
    "    \n",
    "    def output(self):\n",
    "        return self.output_buffer.copy()\n",
    "\n",
    "def step(code, p, io):\n",
    "    # INPLACE does a intcode step, and returns new state and new p\n",
    "    # p = -1 means the program is done\n",
    "    op = code[p]\n",
    "    if op % 100 == 1:\n",
    "        code[code[p+3]] = get(op, code, p, 1) + get(op, code, p, 2)\n",
    "        return code, p+4, io\n",
    "    elif op % 100 == 2:\n",
    "        code[code[p+3]] = get(op, code, p, 1) * get(op, code, p, 2)\n",
    "        return code, p+4, io\n",
    "    elif op % 100 == 3:\n",
    "        code[code[p+1]] = io.read()\n",
    "        return code, p+2, io\n",
    "    elif op % 100 == 4:\n",
    "        return code, p+2, io.write(get(op, code, p, 1))\n",
    "    elif op % 100 == 5:\n",
    "        if get(op, code, p, 1) != 0:\n",
    "            return code, get(op, code, p, 2), io\n",
    "        return code, p+3, io\n",
    "    elif op % 100 == 6:\n",
    "        if get(op, code, p, 1) == 0:\n",
    "            return code, get(op, code, p, 2), io\n",
    "        return code, p+3, io\n",
    "    elif op % 100 == 7:\n",
    "        code[code[p+3]] = int(get(op, code, p, 1) < get(op, code, p, 2))\n",
    "        return code, p+4, io\n",
    "    elif op % 100 == 8:\n",
    "        code[code[p+3]] = int(get(op, code, p, 1) == get(op, code, p, 2))\n",
    "        return code, p+4, io\n",
    "    elif op % 100 == 99:\n",
    "        return code, -1, io\n",
    "    raise ValueError(f\"Incorrect program. Op is {op}\")\n",
    "\n",
    "def run(code, pointer, io):\n",
    "    while pointer >= 0:\n",
    "        code, pointer, io = step(code, pointer, io)\n",
    "    return code, io.output()\n",
    "\n",
    "data = advent.get_intcode(5)\n",
    "run(data, 0, IO([1]))[1]\n"
   ]
  },
  {
   "cell_type": "code",
   "execution_count": 3,
   "metadata": {},
   "outputs": [
    {
     "data": {
      "text/plain": [
       "[0, 0, 0, 0, 0, 0, 0, 0, 0, 16348437, 6959377]"
      ]
     },
     "execution_count": 3,
     "metadata": {},
     "output_type": "execute_result"
    }
   ],
   "source": [
    "data = advent.get_intcode(5)\n",
    "run(data, 0, IO([5]))[1]"
   ]
  },
  {
   "cell_type": "code",
   "execution_count": null,
   "metadata": {},
   "outputs": [],
   "source": []
  }
 ],
 "metadata": {
  "kernelspec": {
   "display_name": "Python 3.8.10 ('env': venv)",
   "language": "python",
   "name": "python3"
  },
  "language_info": {
   "codemirror_mode": {
    "name": "ipython",
    "version": 3
   },
   "file_extension": ".py",
   "mimetype": "text/x-python",
   "name": "python",
   "nbconvert_exporter": "python",
   "pygments_lexer": "ipython3",
   "version": "3.8.10"
  },
  "orig_nbformat": 4,
  "vscode": {
   "interpreter": {
    "hash": "a6e0e7a52ff25650311410ec676cb128052cdfc3b848542c415d170f51f09b78"
   }
  }
 },
 "nbformat": 4,
 "nbformat_minor": 2
}
