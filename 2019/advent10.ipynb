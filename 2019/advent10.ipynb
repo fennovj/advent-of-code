{
 "cells": [
  {
   "cell_type": "code",
   "execution_count": 199,
   "metadata": {},
   "outputs": [],
   "source": [
    "from math import gcd, copysign, atan, degrees, sqrt\n",
    "import numpy as np\n",
    "import advent\n",
    "\n",
    "data = np.transpose(advent.get_char_grid(10))\n",
    "\n",
    "tadd = lambda a, b: (a[0] + b[0], a[1] + b[1])\n",
    "\n",
    "def asteroids_between(a, b, data):\n",
    "    offset_x, offset_y = b[0] - a[0], b[1] - a[1]\n",
    "    g = gcd(offset_x, offset_y)\n",
    "    if g == 0: return 999_999 # you are comparing a point to itself\n",
    "    if g == 1: return 0 # Direct neighbors\n",
    "    base_offset_x = int(copysign(offset_x // g, offset_x))\n",
    "    base_offset_y = int(copysign(offset_y // g, offset_y))\n",
    "    result = 0\n",
    "    for i in range(1, g):\n",
    "        if data[tadd(a, (base_offset_x * i, base_offset_y * i))] == '#': result += 1\n",
    "    return result\n",
    "\n"
   ]
  },
  {
   "cell_type": "code",
   "execution_count": 200,
   "metadata": {},
   "outputs": [
    {
     "data": {
      "text/plain": [
       "286"
      ]
     },
     "execution_count": 200,
     "metadata": {},
     "output_type": "execute_result"
    }
   ],
   "source": [
    "asteroids = list(zip(*np.where(data == '#')))\n",
    "result = dict([(asteroid, []) for asteroid in asteroids])\n",
    "\n",
    "for from_ in asteroids:\n",
    "    for to_ in asteroids:\n",
    "        if asteroids_between(from_, to_, data) == 0: result[from_].append(to_)\n",
    "\n",
    "best_asteroid = max(result, key = lambda x: len(result[x]))\n",
    "\n",
    "len(result[best_asteroid])\n"
   ]
  },
  {
   "cell_type": "code",
   "execution_count": 201,
   "metadata": {},
   "outputs": [],
   "source": [
    "# Part 2 strategy: calculate (gcd, angle), which we can then use to sort the list\n",
    "# Then simply take the 200th element of the list?\n",
    "# Angle formula: https://math.stackexchange.com/a/3003263\n",
    "\n",
    "def angle(a, b, data):\n",
    "    #print(a[1] == b[1] and a[0] == b[0])\n",
    "    if a[1] == b[1] and a[0] == b[0]: return (1000, 1000) # make it be hit last\n",
    "    if a[1] == b[1] and a[0] > b[0]: return (asteroids_between(a, b, data), 270)\n",
    "    x, y = b[0] - a[0], b[1] - a[1]\n",
    "    #print(offset_y / offset_x, atan(offset_y / offset_x), degrees(atan(offset_y / offset_x)))\n",
    "    angle = degrees(2 * atan(y / (x + sqrt(x**2 + y**2))))\n",
    "\n",
    "    return asteroids_between(a, b, data), (angle + 90) % 360\n",
    "\n",
    "     "
   ]
  },
  {
   "cell_type": "code",
   "execution_count": 202,
   "metadata": {},
   "outputs": [
    {
     "name": "stdout",
     "output_type": "stream",
     "text": [
      "(22, 25)\n"
     ]
    },
    {
     "data": {
      "text/plain": [
       "(5, 4)"
      ]
     },
     "execution_count": 202,
     "metadata": {},
     "output_type": "execute_result"
    }
   ],
   "source": [
    "print(best_asteroid)\n",
    "\n",
    "key_asteroids = [angle(best_asteroid, x, data) for x in asteroids]\n",
    "sort_asteroids = sorted(list(zip(asteroids, key_asteroids)), key=lambda x: x[1])\n",
    "\n",
    "sort_asteroids[199][0]"
   ]
  }
 ],
 "metadata": {
  "kernelspec": {
   "display_name": "Python 3.8.10 ('env': venv)",
   "language": "python",
   "name": "python3"
  },
  "language_info": {
   "codemirror_mode": {
    "name": "ipython",
    "version": 3
   },
   "file_extension": ".py",
   "mimetype": "text/x-python",
   "name": "python",
   "nbconvert_exporter": "python",
   "pygments_lexer": "ipython3",
   "version": "3.8.10"
  },
  "orig_nbformat": 4,
  "vscode": {
   "interpreter": {
    "hash": "a6e0e7a52ff25650311410ec676cb128052cdfc3b848542c415d170f51f09b78"
   }
  }
 },
 "nbformat": 4,
 "nbformat_minor": 2
}
