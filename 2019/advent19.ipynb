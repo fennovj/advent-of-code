{
 "cells": [
  {
   "cell_type": "code",
   "execution_count": 11,
   "metadata": {},
   "outputs": [],
   "source": [
    "class IO():\n",
    "    def __init__(self, input_=[]):\n",
    "        self.input_buffer = input_.copy()\n",
    "        self.output_buffer = []\n",
    "    \n",
    "    def add_input(self, value, map_fn=int):\n",
    "        for c in value:\n",
    "            self.input_buffer.append(map_fn(c))\n",
    "        return self\n",
    "\n",
    "    def read(self):\n",
    "        return self.input_buffer.pop(0)\n",
    "    \n",
    "    def write(self, value):\n",
    "        self.output_buffer.append(value)\n",
    "        return self\n",
    "    \n",
    "    def output(self):\n",
    "        return self.output_buffer"
   ]
  },
  {
   "cell_type": "code",
   "execution_count": 12,
   "metadata": {},
   "outputs": [
    {
     "name": "stdout",
     "output_type": "stream",
     "text": [
      "186\n"
     ]
    }
   ],
   "source": [
    "import advent\n",
    "from advent.intcode import run\n",
    "import numpy as np\n",
    "\n",
    "data = advent.get_intcode(19)\n",
    "\n",
    "res = np.full((50, 50), '.')\n",
    "print_np = lambda res: print('\\n'.join([''.join(line) for line in res]))\n",
    "\n",
    "count = 0\n",
    "for i in range(50):\n",
    "    for j in range(50):\n",
    "        _, out = run(data.copy(), IO([i, j]))\n",
    "        if out[0] == 1:\n",
    "            count += 1\n",
    "        res[(i, j)] = ('#' if out[0] else '.')\n",
    "\n",
    "print(count)"
   ]
  },
  {
   "cell_type": "code",
   "execution_count": 33,
   "metadata": {},
   "outputs": [],
   "source": [
    "def getter(x, y, data):\n",
    "    if x < 0 or y < 0: return 0\n",
    "    _, out = run(data.copy(), IO([x, y]))\n",
    "    return out[0]\n",
    "\n",
    "def attempt_grid(getter, size=3, y=5):\n",
    "    # on the line with coordinates (x+size, :),\n",
    "    # attempts to find the first '#'\n",
    "    # then from (x,y) and see if you find enough '#' to complete the square\n",
    "    # e.g. attempt_grid(3, 20) = False, attempt_grid(3, 21) = True\n",
    "    x = 0\n",
    "    while True:\n",
    "        if getter(x, y+size-1) == 1: break\n",
    "        x += 1\n",
    "    res = getter(x+size-1, y) == 1 and getter(x+size-1, y+size-1) == 1 and getter(x, y) == 1\n",
    "    print(f\"Now attempting size={size}, y={y}, found x={x}, size={size}, xy={str(x*10000 + y)}. Result: {res}\")\n",
    "    #print(f\"Corners: {(x, y)}:{getter(x, y)}, {(x+size-1, y)}:{getter(x+size-1, y)}, {(x, y+size-1)}:{getter(x, y+size-1)}, {(x+size-1, y+size-1)}:{getter(x+size-1, y+size-1)}\")\n",
    "    return res\n",
    "\n",
    "def binary_search(getter, size = 100, min_ = 10, max_ = 1200):\n",
    "    # Find the minimum x for which attempt_grid(size, x) = True\n",
    "    # assume attempt_grid(min_, x) = False and attempt_grid(max_, x) = True\n",
    "    if (max_ - min_) <= 1:\n",
    "        assert attempt_grid(getter, size, max_)\n",
    "        return max_\n",
    "    next = (min_ + max_) // 2\n",
    "    if attempt_grid(getter, size, next):\n",
    "        return binary_search(getter, size, min_, next)\n",
    "    return binary_search(getter, size, next, max_)\n"
   ]
  },
  {
   "cell_type": "code",
   "execution_count": 36,
   "metadata": {},
   "outputs": [
    {
     "name": "stdout",
     "output_type": "stream",
     "text": [
      "Now attempting size=100, y=605, found x=524, size=100, xy=5240605. Result: False\n",
      "Now attempting size=100, y=902, found x=745, size=100, xy=7450902. Result: False\n",
      "Now attempting size=100, y=1051, found x=856, size=100, xy=8561051. Result: False\n",
      "Now attempting size=100, y=1125, found x=911, size=100, xy=9111125. Result: False\n",
      "Now attempting size=100, y=1162, found x=939, size=100, xy=9391162. Result: True\n",
      "Now attempting size=100, y=1143, found x=925, size=100, xy=9251143. Result: False\n",
      "Now attempting size=100, y=1152, found x=932, size=100, xy=9321152. Result: True\n",
      "Now attempting size=100, y=1147, found x=928, size=100, xy=9281147. Result: True\n",
      "Now attempting size=100, y=1145, found x=926, size=100, xy=9261145. Result: True\n",
      "Now attempting size=100, y=1144, found x=926, size=100, xy=9261144. Result: False\n",
      "Now attempting size=100, y=1145, found x=926, size=100, xy=9261145. Result: True\n"
     ]
    }
   ],
   "source": [
    "max_ = binary_search(lambda x, y: getter(x, y, data.copy()), 100)\n",
    "# HOWEVER this wasn't the correct answer\n",
    "# I then found out that the assumption of binary search isn't actually true:\n",
    "# There is a solution lower (but close)"
   ]
  },
  {
   "cell_type": "code",
   "execution_count": 39,
   "metadata": {},
   "outputs": [
    {
     "name": "stdout",
     "output_type": "stream",
     "text": [
      "Now attempting size=100, y=1140, found x=923, size=100, xy=9231140. Result: False\n",
      "Now attempting size=100, y=1141, found x=923, size=100, xy=9231141. Result: True\n",
      "Now attempting size=100, y=1142, found x=924, size=100, xy=9241142. Result: False\n",
      "Now attempting size=100, y=1143, found x=925, size=100, xy=9251143. Result: False\n",
      "Now attempting size=100, y=1144, found x=926, size=100, xy=9261144. Result: False\n"
     ]
    }
   ],
   "source": [
    "for y in range(max_ - 5, max_):\n",
    "    attempt_grid(lambda x, y: getter(x, y, data.copy()), 100, y)"
   ]
  },
  {
   "cell_type": "code",
   "execution_count": 35,
   "metadata": {},
   "outputs": [
    {
     "name": "stdout",
     "output_type": "stream",
     "text": [
      "Now attempting size=3, y=25, found x=21, size=3, xy=210025. Result: False\n",
      "Now attempting size=3, y=30, found x=24, size=3, xy=240030. Result: True\n",
      "Now attempting size=3, y=27, found x=22, size=3, xy=220027. Result: True\n",
      "Now attempting size=3, y=26, found x=21, size=3, xy=210026. Result: True\n",
      "Now attempting size=3, y=26, found x=21, size=3, xy=210026. Result: True\n"
     ]
    },
    {
     "data": {
      "text/plain": [
       "26"
      ]
     },
     "execution_count": 35,
     "metadata": {},
     "output_type": "execute_result"
    }
   ],
   "source": [
    "# This is what I used for debugging, in combination with print_np(res) to see when the first grid of size 3 would occur\n",
    "binary_search(lambda x, y: getter(x, y, data.copy()), 3, min_=15, max_=35)"
   ]
  },
  {
   "cell_type": "code",
   "execution_count": null,
   "metadata": {},
   "outputs": [],
   "source": []
  }
 ],
 "metadata": {
  "kernelspec": {
   "display_name": "Python 3.8.10 ('env': venv)",
   "language": "python",
   "name": "python3"
  },
  "language_info": {
   "codemirror_mode": {
    "name": "ipython",
    "version": 3
   },
   "file_extension": ".py",
   "mimetype": "text/x-python",
   "name": "python",
   "nbconvert_exporter": "python",
   "pygments_lexer": "ipython3",
   "version": "3.8.10"
  },
  "orig_nbformat": 4,
  "vscode": {
   "interpreter": {
    "hash": "a6e0e7a52ff25650311410ec676cb128052cdfc3b848542c415d170f51f09b78"
   }
  }
 },
 "nbformat": 4,
 "nbformat_minor": 2
}
