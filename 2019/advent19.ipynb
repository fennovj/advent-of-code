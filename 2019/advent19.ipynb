{
 "cells": [
  {
   "cell_type": "code",
   "execution_count": 1,
   "metadata": {},
   "outputs": [],
   "source": [
    "class IO():\n",
    "    def __init__(self, input_=[]):\n",
    "        self.input_buffer = input_.copy()\n",
    "        self.output_buffer = []\n",
    "    \n",
    "    def add_input(self, value, map_fn=int):\n",
    "        for c in value:\n",
    "            self.input_buffer.append(map_fn(c))\n",
    "        return self\n",
    "\n",
    "    def read(self):\n",
    "        return self.input_buffer.pop(0)\n",
    "    \n",
    "    def write(self, value):\n",
    "        self.output_buffer.append(value)\n",
    "        return self\n",
    "    \n",
    "    def output(self):\n",
    "        return self.output_buffer"
   ]
  },
  {
   "cell_type": "code",
   "execution_count": 2,
   "metadata": {},
   "outputs": [
    {
     "name": "stdout",
     "output_type": "stream",
     "text": [
      "186\n"
     ]
    }
   ],
   "source": [
    "import advent\n",
    "from advent.intcode import run\n",
    "import numpy as np\n",
    "\n",
    "data = advent.get_intcode(19)\n",
    "\n",
    "res = np.full((50, 50), '.')\n",
    "print_np = lambda res: print('\\n'.join([''.join(line) for line in res]))\n",
    "\n",
    "count = 0\n",
    "for i in range(50):\n",
    "    for j in range(50):\n",
    "        _, out = run(data.copy(), IO([i, j]))\n",
    "        if out[0] == 1:\n",
    "            count += 1\n",
    "        res[(i, j)] = ('#' if out[0] else '.')\n",
    "\n",
    "print(count)"
   ]
  },
  {
   "cell_type": "code",
   "execution_count": 9,
   "metadata": {},
   "outputs": [],
   "source": [
    "def getter(x, y, data):\n",
    "    if x < 0 or y < 0: return 0\n",
    "    _, out = run(data.copy(), IO([y, x]))\n",
    "    return out[0]\n",
    "\n",
    "def attempt_grid(getter, size=3, y=5):\n",
    "    # on the line with coordinates (x+size, :),\n",
    "    # attempts to find the first '#'\n",
    "    # then from (x,y) and see if you find enough '#' to complete the square\n",
    "    # e.g. attempt_grid(3, 20) = False, attempt_grid(3, 21) = True\n",
    "    x = 0\n",
    "    while True:\n",
    "        if getter(x, y+size-1) == 1: break\n",
    "        x += 1\n",
    "    res = getter(x+size-1, y) == 1 and getter(x+size-1, y+size-1) == 1 and getter(x, y) == 1\n",
    "    #res = True\n",
    "    #for i in range(size):\n",
    "    #    out = getter(x, y+i)\n",
    "    #    if out == 0: res=False\n",
    "    print(f\"Now attempting size={size}, y={y}, found x={x}, size={size}, xy={str(x*10000 + y)}. Result: {res}\")\n",
    "    print(f\"Corners: {(x, y)}:{getter(x, y)}, {(x+size-1, y)}:{getter(x+size-1, y)}, {(x, y+size-1)}:{getter(x, y+size-1)}, {(x+size-1, y+size-1)}:{getter(x+size-1, y+size-1)}\")\n",
    "    return res\n",
    "\n",
    "def binary_search(getter, size = 100, min_ = 10, max_ = 1200):\n",
    "    # Find the minimum x for which attempt_grid(size, x) = True\n",
    "    # assume attempt_grid(min_, x) = False and attempt_grid(max_, x) = True\n",
    "    if (max_ - min_) <= 1:\n",
    "        attempt_grid(getter, size, max_-3)\n",
    "        attempt_grid(getter, size, max_-2)\n",
    "        attempt_grid(getter, size, max_-1)\n",
    "        assert attempt_grid(getter, size, max_)\n",
    "        return max_\n",
    "    next = (min_ + max_) // 2\n",
    "    if attempt_grid(getter, size, next):\n",
    "        return binary_search(getter, size, min_, next)\n",
    "    return binary_search(getter, size, next, max_)\n"
   ]
  },
  {
   "cell_type": "code",
   "execution_count": 10,
   "metadata": {},
   "outputs": [
    {
     "name": "stdout",
     "output_type": "stream",
     "text": [
      "Now attempting size=100, y=605, found x=786, size=100, xy=7860605. Result: False\n",
      "Corners: (786, 605):1, (885, 605):0, (786, 704):1, (885, 704):1\n",
      "Now attempting size=100, y=902, found x=1118, size=100, xy=11180902. Result: False\n",
      "Corners: (1118, 902):1, (1217, 902):0, (1118, 1001):1, (1217, 1001):1\n",
      "Now attempting size=100, y=1051, found x=1284, size=100, xy=12841051. Result: True\n",
      "Corners: (1284, 1051):1, (1383, 1051):1, (1284, 1150):1, (1383, 1150):1\n",
      "Now attempting size=100, y=976, found x=1201, size=100, xy=12010976. Result: True\n",
      "Corners: (1201, 976):1, (1300, 976):1, (1201, 1075):1, (1300, 1075):1\n",
      "Now attempting size=100, y=939, found x=1159, size=100, xy=11590939. Result: True\n",
      "Corners: (1159, 939):1, (1258, 939):1, (1159, 1038):1, (1258, 1038):1\n",
      "Now attempting size=100, y=920, found x=1138, size=100, xy=11380920. Result: False\n",
      "Corners: (1138, 920):1, (1237, 920):0, (1138, 1019):1, (1237, 1019):1\n",
      "Now attempting size=100, y=929, found x=1148, size=100, xy=11480929. Result: True\n",
      "Corners: (1148, 929):1, (1247, 929):1, (1148, 1028):1, (1247, 1028):1\n",
      "Now attempting size=100, y=924, found x=1143, size=100, xy=11430924. Result: False\n",
      "Corners: (1143, 924):1, (1242, 924):0, (1143, 1023):1, (1242, 1023):1\n",
      "Now attempting size=100, y=926, found x=1145, size=100, xy=11450926. Result: True\n",
      "Corners: (1145, 926):1, (1244, 926):1, (1145, 1025):1, (1244, 1025):1\n",
      "Now attempting size=100, y=925, found x=1144, size=100, xy=11440925. Result: False\n",
      "Corners: (1144, 925):1, (1243, 925):0, (1144, 1024):1, (1243, 1024):1\n",
      "Now attempting size=100, y=923, found x=1141, size=100, xy=11410923. Result: True\n",
      "Corners: (1141, 923):1, (1240, 923):1, (1141, 1022):1, (1240, 1022):1\n",
      "Now attempting size=100, y=924, found x=1143, size=100, xy=11430924. Result: False\n",
      "Corners: (1143, 924):1, (1242, 924):0, (1143, 1023):1, (1242, 1023):1\n",
      "Now attempting size=100, y=925, found x=1144, size=100, xy=11440925. Result: False\n",
      "Corners: (1144, 925):1, (1243, 925):0, (1144, 1024):1, (1243, 1024):1\n",
      "Now attempting size=100, y=926, found x=1145, size=100, xy=11450926. Result: True\n",
      "Corners: (1145, 926):1, (1244, 926):1, (1145, 1025):1, (1244, 1025):1\n"
     ]
    },
    {
     "data": {
      "text/plain": [
       "926"
      ]
     },
     "execution_count": 10,
     "metadata": {},
     "output_type": "execute_result"
    }
   ],
   "source": [
    "binary_search(lambda x, y: getter(x, y, data.copy()), 100)"
   ]
  },
  {
   "cell_type": "code",
   "execution_count": 91,
   "metadata": {},
   "outputs": [
    {
     "name": "stdout",
     "output_type": "stream",
     "text": [
      "Now attempting size=3, x=21, found y=25, size=3, xy=250021. Result: False\n",
      "Corners: (21, 25):1, (23, 25):0, (21, 27):1, (23, 27):1\n",
      "Now attempting size=3, x=24, found y=30, size=3, xy=300024. Result: True\n",
      "Corners: (24, 30):1, (26, 30):1, (24, 32):1, (26, 32):1\n",
      "Now attempting size=3, x=22, found y=27, size=3, xy=270022. Result: True\n",
      "Corners: (22, 27):1, (24, 27):1, (22, 29):1, (24, 29):1\n",
      "Now attempting size=3, x=21, found y=26, size=3, xy=260021. Result: True\n",
      "Corners: (21, 26):1, (23, 26):1, (21, 28):1, (23, 28):1\n",
      "Now attempting size=3, x=19, found y=23, size=3, xy=230019. Result: False\n",
      "Corners: (19, 23):1, (21, 23):0, (19, 25):1, (21, 25):1\n",
      "Now attempting size=3, x=20, found y=24, size=3, xy=240020. Result: False\n",
      "Corners: (20, 24):1, (22, 24):0, (20, 26):1, (22, 26):1\n",
      "Now attempting size=3, x=21, found y=25, size=3, xy=250021. Result: False\n",
      "Corners: (21, 25):1, (23, 25):0, (21, 27):1, (23, 27):1\n",
      "Now attempting size=3, x=21, found y=26, size=3, xy=260021. Result: True\n",
      "Corners: (21, 26):1, (23, 26):1, (21, 28):1, (23, 28):1\n"
     ]
    },
    {
     "data": {
      "text/plain": [
       "26"
      ]
     },
     "execution_count": 91,
     "metadata": {},
     "output_type": "execute_result"
    }
   ],
   "source": [
    "# This is what I used for debugging, in combination with print_np(res) to see when the first grid of size 3 would occur\n",
    "binary_search(lambda x, y: getter(x, y, data.copy()), 3, min_=15, max_=35)"
   ]
  },
  {
   "cell_type": "code",
   "execution_count": 92,
   "metadata": {},
   "outputs": [],
   "source": [
    "# Wrong guesses:\n",
    "# 11450926\n",
    "# 9261145"
   ]
  },
  {
   "cell_type": "code",
   "execution_count": 102,
   "metadata": {},
   "outputs": [
    {
     "name": "stdout",
     "output_type": "stream",
     "text": [
      "Now attempting size=10, x=26, found y=22, size=10, xy=260022. Result: True\n",
      "Corners: (26, 22):1, (35, 22):1, (26, 31):1, (35, 31):1\n",
      "Now attempting size=10, x=23, found y=18, size=10, xy=230018. Result: False\n",
      "Corners: (23, 18):1, (32, 18):0, (23, 27):1, (32, 27):1\n",
      "Now attempting size=10, x=25, found y=20, size=10, xy=250020. Result: True\n",
      "Corners: (25, 20):1, (34, 20):1, (25, 29):1, (34, 29):1\n",
      "Now attempting size=10, x=24, found y=19, size=10, xy=240019. Result: False\n",
      "Corners: (24, 19):1, (33, 19):0, (24, 28):1, (33, 28):1\n",
      "Now attempting size=10, x=22, found y=17, size=10, xy=220017. Result: False\n",
      "Corners: (22, 17):1, (31, 17):0, (22, 26):1, (31, 26):1\n",
      "Now attempting size=10, x=23, found y=18, size=10, xy=230018. Result: False\n",
      "Corners: (23, 18):1, (32, 18):0, (23, 27):1, (32, 27):1\n",
      "Now attempting size=10, x=24, found y=19, size=10, xy=240019. Result: False\n",
      "Corners: (24, 19):1, (33, 19):0, (24, 28):1, (33, 28):1\n",
      "Now attempting size=10, x=25, found y=20, size=10, xy=250020. Result: True\n",
      "Corners: (25, 20):1, (34, 20):1, (25, 29):1, (34, 29):1\n"
     ]
    },
    {
     "data": {
      "text/plain": [
       "20"
      ]
     },
     "execution_count": 102,
     "metadata": {},
     "output_type": "execute_result"
    }
   ],
   "source": [
    "small = advent.get_lines('19small2')\n",
    "def getter_small(x, y):\n",
    "    #print(x, y)\n",
    "    if x < 0 or y < 0: return 0\n",
    "    if x >= 50 or y >= 50: return 0\n",
    "    return 0 if small[y][x] == '.' else 1\n",
    "\n",
    "# This is what I used for debugging, in combination with print_np(res) to see when the first grid of size 3 would occur\n",
    "binary_search(getter_small, 10, min_=15, max_=30)"
   ]
  },
  {
   "cell_type": "code",
   "execution_count": 98,
   "metadata": {},
   "outputs": [
    {
     "data": {
      "text/plain": [
       "'..............................#####...............'"
      ]
     },
     "execution_count": 98,
     "metadata": {},
     "output_type": "execute_result"
    }
   ],
   "source": [
    "small[26]"
   ]
  },
  {
   "cell_type": "code",
   "execution_count": null,
   "metadata": {},
   "outputs": [],
   "source": []
  }
 ],
 "metadata": {
  "kernelspec": {
   "display_name": "Python 3.8.10 ('env': venv)",
   "language": "python",
   "name": "python3"
  },
  "language_info": {
   "codemirror_mode": {
    "name": "ipython",
    "version": 3
   },
   "file_extension": ".py",
   "mimetype": "text/x-python",
   "name": "python",
   "nbconvert_exporter": "python",
   "pygments_lexer": "ipython3",
   "version": "3.8.10"
  },
  "orig_nbformat": 4,
  "vscode": {
   "interpreter": {
    "hash": "a6e0e7a52ff25650311410ec676cb128052cdfc3b848542c415d170f51f09b78"
   }
  }
 },
 "nbformat": 4,
 "nbformat_minor": 2
}
