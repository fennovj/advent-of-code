{
 "cells": [
  {
   "cell_type": "code",
   "execution_count": 38,
   "metadata": {},
   "outputs": [],
   "source": [
    "def put(code, op, pointer, relative, offset, value):\n",
    "    mode = op % (10**(2+offset)) // (10**(1+offset))\n",
    "    if mode == 0: # parameter mode\n",
    "        ix = code[pointer+offset]\n",
    "    elif mode == 2: # relative mode\n",
    "        ix = code[pointer+offset] + relative\n",
    "    else: raise ValueError(f\"{op}, {pointer}, {offset} not allowed\")\n",
    "\n",
    "    if ix >= len(code): # Make sure we allocate enough memory\n",
    "        code += [0] * (ix - len(code) + 1)\n",
    "    code[ix] = value\n",
    "\n",
    "def get(op, code, pointer, relative, offset):\n",
    "    # e.g. get(1002, code, 2) -> code[p] (immediate mode)\n",
    "    # e.g. get(2, code, 2) -> code[code[p]] (parameter mode)\n",
    "    mode = op % (10**(2+offset)) // (10**(1+offset))\n",
    "    if mode == 0: # parameter mode\n",
    "        if pointer+offset >= len(code): return 0 if code[0] >= len(code) else code[0]\n",
    "        if code[pointer+offset] >= len(code): return 0\n",
    "        return code[code[pointer+offset]]\n",
    "    elif mode == 1: # immediate mode\n",
    "        if pointer+offset >= len(code): return 0\n",
    "        return code[pointer+offset]\n",
    "    elif mode == 2: # relative mode\n",
    "        if pointer+offset >= len(code): return 0 if relative+code[0] >= len(code) else code[relative]\n",
    "        if relative+code[pointer+offset] >= len(code): return 0\n",
    "        return code[relative+code[pointer+offset]]\n",
    "    raise ValueError(f\"{op}, {pointer}, {offset} not allowed\")\n",
    "\n",
    "def step(code, p, r, io):\n",
    "    # INPLACE does a intcode step, and returns new state and new p\n",
    "    op = code[p]\n",
    "    if op % 100 == 1: # add\n",
    "        put(code, op, p, r, 3, get(op, code, p, r, 1) + get(op, code, p, r, 2))\n",
    "        return code, p+4, r, io\n",
    "    elif op % 100 == 2: # mul\n",
    "        put(code, op, p, r, 3, get(op, code, p, r, 1) * get(op, code, p, r, 2))\n",
    "        return code, p+4, r, io\n",
    "    elif op % 100 == 3: # read\n",
    "        put(code, op, p, r, 1, io.read())\n",
    "        return code, p+2, r, io\n",
    "    elif op % 100 == 4: # write\n",
    "        return code, p+2, r, io.write(get(op, code, p, r, 1))\n",
    "    elif op % 100 == 5: # jmp_f\n",
    "        if get(op, code, p, r, 1) != 0:\n",
    "            return code, get(op, code, p, r, 2), r, io\n",
    "        return code, p+3, r, io\n",
    "    elif op % 100 == 6: # jmp_t\n",
    "        if get(op, code, p, r, 1) == 0:\n",
    "            return code, get(op, code, p, r, 2), r, io\n",
    "        return code, p+3, r, io\n",
    "    elif op % 100 == 7: # lt\n",
    "        put(code, op, p, r, 3, int(get(op, code, p, r, 1) < get(op, code, p, r, 2)))\n",
    "        return code, p+4, r, io\n",
    "    elif op % 100 == 8: # eq\n",
    "        put(code, op, p, r, 3, int(get(op, code, p, r, 1) == get(op, code, p, r, 2)))\n",
    "        return code, p+4, r, io\n",
    "    elif op % 100 == 9: # relative\n",
    "        return code, p+2, r + get(op, code, p, r, 1), io\n",
    "    elif op % 100 == 99: # exit\n",
    "        return code, -1, r, io\n",
    "    raise ValueError(f\"Incorrect program. Op is {op}\")\n",
    "\n",
    "def run(code, io):\n",
    "    pointer = 0\n",
    "    relative = 0\n",
    "    while pointer >= 0:\n",
    "        #print(len(code), pointer, relative, io.output(), \"next op:\", code[pointer:(pointer+4)])\n",
    "        code, pointer, relative, io = step(code, pointer, relative, io)\n",
    "    return code, io\n"
   ]
  },
  {
   "cell_type": "code",
   "execution_count": 42,
   "metadata": {},
   "outputs": [],
   "source": [
    "class IO():\n",
    "\n",
    "    def __init__(self, board=None):\n",
    "        self.board = board if board is not None else {}\n",
    "        self.position = (0, 0)\n",
    "        self.rotation = (0, 1)\n",
    "        self.paint = True # True for paint, False for turn\n",
    "\n",
    "    def read(self):\n",
    "        # white is 1, black is 0. Everything starts as black!\n",
    "        return 0 if self.position not in self.board else self.board[self.position]\n",
    "    \n",
    "    def write(self, value):\n",
    "        if self.paint:\n",
    "            self.board[self.position] = value\n",
    "        else:\n",
    "            # rotate, then move. 0 is left, 1 is right\n",
    "            self.rotation = (-1*self.rotation[1], self.rotation[0]) if value == 0 else \\\n",
    "                            (self.rotation[1], -1*self.rotation[0])\n",
    "            self.position = (self.position[0] + self.rotation[0],\n",
    "                             self.position[1] + self.rotation[1],)\n",
    "        self.paint = not self.paint\n",
    "        return self\n",
    "    \n",
    "    def output(self):\n",
    "        return len(self.board)"
   ]
  },
  {
   "cell_type": "code",
   "execution_count": 44,
   "metadata": {},
   "outputs": [
    {
     "data": {
      "text/plain": [
       "2441"
      ]
     },
     "execution_count": 44,
     "metadata": {},
     "output_type": "execute_result"
    }
   ],
   "source": [
    "import advent\n",
    "\n",
    "data = advent.get_intcode(11)\n",
    "\n",
    "_, out = run(data.copy(), IO())\n",
    "out.output()"
   ]
  },
  {
   "cell_type": "code",
   "execution_count": 50,
   "metadata": {},
   "outputs": [
    {
     "name": "stdout",
     "output_type": "stream",
     "text": [
      ".###..####.###..####.###..###..#..#..##....\n",
      ".#..#....#.#..#.#....#..#.#..#.#.#..#..#...\n",
      ".#..#...#..#..#.###..#..#.#..#.##...#......\n",
      ".###...#...###..#....###..###..#.#..#......\n",
      ".#....#....#.#..#....#....#.#..#.#..#..#...\n",
      ".#....####.#..#.#....#....#..#.#..#..##....\n"
     ]
    }
   ],
   "source": [
    "_, out = run(data.copy(), IO({(0, 0): 1}))\n",
    "\n",
    "def draw_board(board):\n",
    "    output = [[board.get((y, x-6), 0) for y in range(0, 43)] for x in range(6, 0, -1)]\n",
    "    output = [''.join(map(lambda x: '.' if x == 0 else '#', line)) for line in output]\n",
    "    return output\n",
    "\n",
    "res = draw_board(out.board)\n",
    "for line in res:\n",
    "    print(line)"
   ]
  }
 ],
 "metadata": {
  "kernelspec": {
   "display_name": "Python 3.8.10 ('env': venv)",
   "language": "python",
   "name": "python3"
  },
  "language_info": {
   "codemirror_mode": {
    "name": "ipython",
    "version": 3
   },
   "file_extension": ".py",
   "mimetype": "text/x-python",
   "name": "python",
   "nbconvert_exporter": "python",
   "pygments_lexer": "ipython3",
   "version": "3.8.10"
  },
  "orig_nbformat": 4,
  "vscode": {
   "interpreter": {
    "hash": "a6e0e7a52ff25650311410ec676cb128052cdfc3b848542c415d170f51f09b78"
   }
  }
 },
 "nbformat": 4,
 "nbformat_minor": 2
}
