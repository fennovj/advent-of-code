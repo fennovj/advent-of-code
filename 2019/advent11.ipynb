{
 "cells": [
  {
   "cell_type": "code",
   "execution_count": 1,
   "metadata": {},
   "outputs": [],
   "source": [
    "class IO():\n",
    "\n",
    "    def __init__(self, board=None):\n",
    "        self.board = board if board is not None else {}\n",
    "        self.position = (0, 0)\n",
    "        self.rotation = (0, 1)\n",
    "        self.paint = True # True for paint, False for turn\n",
    "\n",
    "    def read(self):\n",
    "        # white is 1, black is 0. Everything starts as black!\n",
    "        return 0 if self.position not in self.board else self.board[self.position]\n",
    "    \n",
    "    def write(self, value):\n",
    "        if self.paint:\n",
    "            self.board[self.position] = value\n",
    "        else:\n",
    "            # rotate, then move. 0 is left, 1 is right\n",
    "            self.rotation = (-1*self.rotation[1], self.rotation[0]) if value == 0 else \\\n",
    "                            (self.rotation[1], -1*self.rotation[0])\n",
    "            self.position = (self.position[0] + self.rotation[0],\n",
    "                             self.position[1] + self.rotation[1],)\n",
    "        self.paint = not self.paint\n",
    "        return self\n",
    "    \n",
    "    def output(self):\n",
    "        return len(self.board)"
   ]
  },
  {
   "cell_type": "code",
   "execution_count": 2,
   "metadata": {},
   "outputs": [
    {
     "ename": "AttributeError",
     "evalue": "'int' object has no attribute 'output'",
     "output_type": "error",
     "traceback": [
      "\u001b[0;31m---------------------------------------------------------------------------\u001b[0m",
      "\u001b[0;31mAttributeError\u001b[0m                            Traceback (most recent call last)",
      "Cell \u001b[0;32mIn[2], line 7\u001b[0m\n\u001b[1;32m      4\u001b[0m data \u001b[39m=\u001b[39m advent\u001b[39m.\u001b[39mget_intcode(\u001b[39m11\u001b[39m)\n\u001b[1;32m      6\u001b[0m _, out \u001b[39m=\u001b[39m run(data\u001b[39m.\u001b[39mcopy(), IO())\n\u001b[0;32m----> 7\u001b[0m out\u001b[39m.\u001b[39;49moutput()\n",
      "\u001b[0;31mAttributeError\u001b[0m: 'int' object has no attribute 'output'"
     ]
    }
   ],
   "source": [
    "import advent\n",
    "from advent.intcode import run\n",
    "\n",
    "data = advent.get_intcode(11)\n",
    "\n",
    "_, out = run(data.copy(), IO())\n",
    "out.output()"
   ]
  },
  {
   "cell_type": "code",
   "execution_count": null,
   "metadata": {},
   "outputs": [
    {
     "name": "stdout",
     "output_type": "stream",
     "text": [
      ".###..####.###..####.###..###..#..#..##....\n",
      ".#..#....#.#..#.#....#..#.#..#.#.#..#..#...\n",
      ".#..#...#..#..#.###..#..#.#..#.##...#......\n",
      ".###...#...###..#....###..###..#.#..#......\n",
      ".#....#....#.#..#....#....#.#..#.#..#..#...\n",
      ".#....####.#..#.#....#....#..#.#..#..##....\n"
     ]
    }
   ],
   "source": [
    "_, out = run(data.copy(), IO({(0, 0): 1}))\n",
    "\n",
    "def draw_board(board):\n",
    "    output = [[board.get((y, x-6), 0) for y in range(0, 43)] for x in range(6, 0, -1)]\n",
    "    output = [''.join(map(lambda x: '.' if x == 0 else '#', line)) for line in output]\n",
    "    return output\n",
    "\n",
    "res = draw_board(out.board)\n",
    "for line in res:\n",
    "    print(line)"
   ]
  }
 ],
 "metadata": {
  "kernelspec": {
   "display_name": "Python 3.8.10 ('env': venv)",
   "language": "python",
   "name": "python3"
  },
  "language_info": {
   "codemirror_mode": {
    "name": "ipython",
    "version": 3
   },
   "file_extension": ".py",
   "mimetype": "text/x-python",
   "name": "python",
   "nbconvert_exporter": "python",
   "pygments_lexer": "ipython3",
   "version": "3.8.10"
  },
  "orig_nbformat": 4,
  "vscode": {
   "interpreter": {
    "hash": "a6e0e7a52ff25650311410ec676cb128052cdfc3b848542c415d170f51f09b78"
   }
  }
 },
 "nbformat": 4,
 "nbformat_minor": 2
}
