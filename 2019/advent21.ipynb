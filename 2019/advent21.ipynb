{
 "cells": [
  {
   "cell_type": "code",
   "execution_count": 9,
   "metadata": {},
   "outputs": [],
   "source": [
    "import advent\n",
    "data = advent.get_intcode(21)"
   ]
  },
  {
   "cell_type": "markdown",
   "metadata": {},
   "source": [
    "# Designing the springbot program\n",
    "\n",
    "Our program needs to be at most 15 instructions\n",
    "A means there is ground 1 spot away, etc... until D\n",
    "\n",
    "jump = (D) and (NOT A OR NOT B OR NOT C)\n",
    "\n",
    "The second part is\n",
    "\n",
    "```\n",
    "NOT A J\n",
    "NOT B T\n",
    "OR T J\n",
    "NOT C T\n",
    "OR T J\n",
    "```\n",
    "\n",
    "The first part is:\n",
    "\n",
    "```\n",
    "NOT D T\n",
    "NOT T T\n",
    "AND T J\n",
    "```"
   ]
  },
  {
   "cell_type": "code",
   "execution_count": 13,
   "metadata": {},
   "outputs": [],
   "source": [
    "class IO():\n",
    "    def __init__(self, input_=[]):\n",
    "        self.input_buffer = input_.copy()\n",
    "        self.output_buffer = []\n",
    "    \n",
    "    def add_input(self, value, map_fn=ord):\n",
    "        for c in value:\n",
    "            self.input_buffer.append(map_fn(c))\n",
    "        return self\n",
    "\n",
    "    def read(self):\n",
    "        return self.input_buffer.pop(0)\n",
    "    \n",
    "    def write(self, value):\n",
    "        self.output_buffer.append(value)\n",
    "        return self\n",
    "    \n",
    "    def output(self):\n",
    "        return self.output_buffer"
   ]
  },
  {
   "cell_type": "code",
   "execution_count": 15,
   "metadata": {},
   "outputs": [
    {
     "name": "stdout",
     "output_type": "stream",
     "text": [
      "19354818\n"
     ]
    }
   ],
   "source": [
    "from advent.intcode import run\n",
    "\n",
    "inp = \"NOT A J\\nNOT B T\\nOR T J\\nNOT C T\\nOR T J\\nNOT D T\\nNOT T T\\nAND T J\\nWALK\\n\"\n",
    "io = IO().add_input(inp)\n",
    "_, out = run(data.copy(), io)\n",
    "print(int(out[-1]))"
   ]
  },
  {
   "cell_type": "markdown",
   "metadata": {},
   "source": [
    "# Part 2\n",
    "For part 2, we basically plan the next two jumps: if you immediately jump on D, you get H. But we could also walk to E if E and I are free. Resulting in:\n",
    "\n",
    "```\n",
    "(D AND H) or (D AND E AND I)\n",
    "or\n",
    "D AND (H OR (E AND I))\n",
    "```\n",
    "\n",
    "```\n",
    "NOT E T\n",
    "NOT T J\n",
    "AND I J\n",
    "OR H J\n",
    "AND D J\n",
    "NOT A T\n",
    "OR T J\n",
    "RUN\n",
    "```\n",
    "\n",
    "However, this failed on `#####..##..#..###`. It jumps to early, which makes me want to add back the `NOT A OR NOT B OR NOT C`\n",
    "\n",
    "```\n",
    "D AND (H OR (E AND I)) and (NOT A OR NOT B OR NOT C)\n",
    "D AND (H OR (E AND I)) and NOT (A AND B AND C)\n",
    "\n",
    "NOT A T\n",
    "NOT T J\n",
    "AND B J\n",
    "AND C J\n",
    "NOT J J\n",
    "NOT E T\n",
    "NOT T T\n",
    "AND I T\n",
    "OR H T\n",
    "AND D T\n",
    "AND T J\n",
    "```\n",
    "\n",
    "This fails on `#####...####..###` because it sees no place to double jump. It can double jump, just that the safe ground is further than 9 away. I added this (maybe kinda hacky) rule that if NOT A, you ALWAYS jump. This seems at least sensible, but I'm not sure if it is complete or not. However, after this, the program ran successfully!\n",
    "\n",
    "```\n",
    "NOT A T\n",
    "OR T J\n",
    "RUN\n",
    "```"
   ]
  },
  {
   "cell_type": "code",
   "execution_count": 19,
   "metadata": {},
   "outputs": [
    {
     "name": "stdout",
     "output_type": "stream",
     "text": [
      "1143787220\n"
     ]
    }
   ],
   "source": [
    "imp2 = 'NOT A T\\nNOT T J\\nAND B J\\nAND C J\\nNOT J J\\nNOT E T\\nNOT T T\\nAND I T\\nOR H T\\nAND D T\\nAND T J\\nNOT A T\\nOR T J\\nRUN\\n'\n",
    "io = IO().add_input(imp2)\n",
    "_, out = run(data.copy(), io)\n",
    "print(int(out[-1]))"
   ]
  }
 ],
 "metadata": {
  "kernelspec": {
   "display_name": "Python 3.8.10 ('env': venv)",
   "language": "python",
   "name": "python3"
  },
  "language_info": {
   "codemirror_mode": {
    "name": "ipython",
    "version": 3
   },
   "file_extension": ".py",
   "mimetype": "text/x-python",
   "name": "python",
   "nbconvert_exporter": "python",
   "pygments_lexer": "ipython3",
   "version": "3.8.10"
  },
  "orig_nbformat": 4,
  "vscode": {
   "interpreter": {
    "hash": "a6e0e7a52ff25650311410ec676cb128052cdfc3b848542c415d170f51f09b78"
   }
  }
 },
 "nbformat": 4,
 "nbformat_minor": 2
}
