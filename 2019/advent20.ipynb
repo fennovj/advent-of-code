{
 "cells": [
  {
   "cell_type": "code",
   "execution_count": 18,
   "metadata": {},
   "outputs": [],
   "source": [
    "import advent\n",
    "data = advent.get_char_grid(20)"
   ]
  },
  {
   "cell_type": "code",
   "execution_count": 19,
   "metadata": {},
   "outputs": [],
   "source": [
    "# For dijkstra, we need the 'adjacent' function as always\n",
    "# My approach: given a portal name, e.g. 'DE', find coordinates next to that portal\n",
    "# And another function: given coordinate, find the name of the portal there\n",
    "from functools import cache\n",
    "\n",
    "@cache # eh why not :P\n",
    "def find_portal_coordinates(portal_code: str):\n",
    "    p, q = portal_code[0], portal_code[1]\n",
    "    result = []\n",
    "    # first iterate over outer edges, then the middle\n",
    "    for y in range(data.shape[0]):\n",
    "        if data[y, 0] == p and data[y, 1] == q: result.append((y, 2))\n",
    "        if data[y, data.shape[1]-2] == p and data[y, data.shape[1]-1] == q: result.append((y, data.shape[1]-3))\n",
    "    for x in range(data.shape[1]):\n",
    "        if data[0, x] == p and data[1, x] == q: result.append((2, x))\n",
    "        if data[data.shape[0]-2, x] == p and data[data.shape[0]-1, x] == q: result.append((data.shape[0]-3, x))\n",
    "    for y in range(2, data.shape[0]-2):\n",
    "        for x in range(2, data.shape[1]-2):\n",
    "            if data[y, x] == p and data[y, x+1] == q and data[y,x-1] == '.': result.append((y, x-1))\n",
    "            if data[y, x] == p and data[y, x+1] == q and data[y,x+2] == '.': result.append((y, x+2))\n",
    "            if data[y, x] == p and data[y+1, x] == q and data[y-1,x] == '.': result.append((y-1, x))\n",
    "            if data[y, x] == p and data[y+1, x] == q and data[y+2,x] == '.': result.append((y+2, x))\n",
    "    return result\n",
    "\n",
    "@cache # same reason as above, maze doesn't change\n",
    "def find_portal_name(y, x) -> str | None:\n",
    "    # Doesn't do edge checks since we assume we're in the maze\n",
    "    assert data[y, x] == '.'\n",
    "    if data[y-1, x].isalpha(): return data[y-2, x] + data[y-1, x]\n",
    "    elif data[y+1, x].isalpha(): return data[y+1, x] + data[y+2, x]\n",
    "    elif data[y, x-1].isalpha(): return data[y, x-2] + data[y, x-1]\n",
    "    elif data[y, x+1].isalpha(): return data[y, x+1] + data[y, x+2]\n",
    "    return None\n",
    "\n",
    "#print(find_portal_coordinates('BC'), find_portal_name(6, 9), find_portal_name(3, 10))\n"
   ]
  },
  {
   "cell_type": "code",
   "execution_count": 22,
   "metadata": {},
   "outputs": [
    {
     "data": {
      "application/vnd.jupyter.widget-view+json": {
       "model_id": "c0379e5ebded4947864ffbbcc9f9fc5e",
       "version_major": 2,
       "version_minor": 0
      },
      "text/plain": [
       "  0%|          | 0/1 [00:00<?, ?it/s]"
      ]
     },
     "metadata": {},
     "output_type": "display_data"
    },
    {
     "name": "stdout",
     "output_type": "stream",
     "text": [
      "Final path length: 628\n"
     ]
    }
   ],
   "source": [
    "from advent.maze import solve_maze\n",
    "\n",
    "start = find_portal_coordinates('AA')[0]\n",
    "end = find_portal_coordinates('ZZ')[0]\n",
    "is_target = lambda coord: coord == end\n",
    "\n",
    "def adjacent(coord):\n",
    "    y, x = coord\n",
    "    for offset_x, offset_y in ((0, 1), (0, -1), (1, 0), (-1, 0)):\n",
    "        new_y, new_x = y + offset_y, x + offset_x\n",
    "        if data[new_y, new_x] == '.':\n",
    "            yield (new_y, new_x), 1\n",
    "    portal_name = find_portal_name(y, x)\n",
    "    if portal_name:\n",
    "        for new_y, new_x in find_portal_coordinates(portal_name):\n",
    "            if new_y == y and new_x == x: continue\n",
    "            yield (new_y, new_x), 1\n",
    "\n",
    "# Should include (8, 2) for the small test input\n",
    "#print(list(adjacent((6, 9))))\n",
    "\n",
    "path = solve_maze(start, is_target, adjacent)\n"
   ]
  },
  {
   "cell_type": "code",
   "execution_count": 23,
   "metadata": {},
   "outputs": [
    {
     "data": {
      "application/vnd.jupyter.widget-view+json": {
       "model_id": "fe07407d212f4da99b2afa7ca06591aa",
       "version_major": 2,
       "version_minor": 0
      },
      "text/plain": [
       "  0%|          | 0/1 [00:00<?, ?it/s]"
      ]
     },
     "metadata": {},
     "output_type": "display_data"
    },
    {
     "name": "stdout",
     "output_type": "stream",
     "text": [
      "Final path length: 7506\n"
     ]
    }
   ],
   "source": [
    "# Part 2\n",
    "\n",
    "\n",
    "def is_inner(coord):\n",
    "    # Given a coord (that is '.'), is it on the outer edge? if so return false\n",
    "    y, x = coord\n",
    "    return 2 < y < data.shape[0] - 3 and 2 < x < data.shape[1] - 3\n",
    "\n",
    "# coords are now ((y, x), level)\n",
    "start_part2 = find_portal_coordinates('AA')[0], 0\n",
    "end_part2 = find_portal_coordinates('ZZ')[0], 0\n",
    "is_target_part2 = lambda coord: coord == end_part2\n",
    "\n",
    "def adjacent_part2(coord):\n",
    "    (y, x), level = coord\n",
    "    assert data[y, x] == '.' and level >= 0, coord\n",
    "    for offset_x, offset_y in ((0, 1), (0, -1), (1, 0), (-1, 0)):\n",
    "        new_y, new_x = y + offset_y, x + offset_x\n",
    "        if data[new_y, new_x] == '.':\n",
    "            yield ((new_y, new_x), level), 1\n",
    "    portal_name = find_portal_name(y, x)\n",
    "    if portal_name:\n",
    "        for new_y, new_x in find_portal_coordinates(portal_name):\n",
    "            if new_y == y and new_x == x: continue\n",
    "            if is_inner((y, x)): # we were on the inside so we are going down a level\n",
    "                yield ((new_y, new_x), level+1), 1\n",
    "            elif level > 0: # We were on outside so we are going up a level\n",
    "                # however this is only allowed if we are not on level 0\n",
    "                yield ((new_y, new_x), level-1), 1\n",
    "\n",
    "path = solve_maze(start_part2, is_target_part2, adjacent_part2)"
   ]
  }
 ],
 "metadata": {
  "kernelspec": {
   "display_name": ".venv",
   "language": "python",
   "name": "python3"
  },
  "language_info": {
   "codemirror_mode": {
    "name": "ipython",
    "version": 3
   },
   "file_extension": ".py",
   "mimetype": "text/x-python",
   "name": "python",
   "nbconvert_exporter": "python",
   "pygments_lexer": "ipython3",
   "version": "3.10.11"
  }
 },
 "nbformat": 4,
 "nbformat_minor": 2
}
