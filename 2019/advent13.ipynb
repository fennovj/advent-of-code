{
 "cells": [
  {
   "cell_type": "code",
   "execution_count": 49,
   "metadata": {},
   "outputs": [],
   "source": [
    "import advent\n",
    "from IPython.display import clear_output\n",
    "import time\n",
    "import numpy as np"
   ]
  },
  {
   "cell_type": "code",
   "execution_count": 50,
   "metadata": {},
   "outputs": [],
   "source": [
    "pieces = {0: ' ', 1: '|', 2: 'X', 3: '-', 4: 'o'}\n",
    "\n",
    "class IO():\n",
    "    # Simple implementation of IO: just has static input in the __init__\n",
    "\n",
    "    def __init__(self, input_=None, printit=False):\n",
    "        self.input_buffer = input_ if input_ is not None else []\n",
    "        self.output_buffer = []\n",
    "        self.grid = np.ones((20, 44)) # hard coded yeah!\n",
    "        self.score = 0\n",
    "        self.printit = printit\n",
    "    \n",
    "    def print(self):\n",
    "        output = [''.join(map(lambda x: pieces[x], line)) for line in self.grid] + [f\"Score: {self.score}\"]\n",
    "        print('\\n'.join(output), flush=True)\n",
    "    \n",
    "    def handle_output(self):\n",
    "        for i in range(0, len(self.output_buffer), 3):\n",
    "            if self.output_buffer[i] == -1 or self.output_buffer[i+1] == -1:\n",
    "                self.score = self.output_buffer[i+2]\n",
    "            else:\n",
    "                self.grid[self.output_buffer[i+1],self.output_buffer[i]] = self.output_buffer[i+2]\n",
    "        self.output_buffer = []\n",
    "        if self.printit:\n",
    "            clear_output(wait=True)\n",
    "            self.print()\n",
    "            time.sleep(0.1)\n",
    "        return self\n",
    "\n",
    "    def read(self):\n",
    "        if len(self.input_buffer) > 0:\n",
    "            return self.input_buffer.pop(0)\n",
    "        self.handle_output()\n",
    "        paddle = np.where(self.grid == 3)[1][0]\n",
    "        ball = np.where(self.grid == 4)[1][0]\n",
    "        # essentially a cmp, returns -1 if ball < paddle\n",
    "        return int(ball > paddle) - int(ball < paddle)\n",
    "    \n",
    "    def write(self, value):\n",
    "        self.output_buffer.append(value)\n",
    "        return self\n",
    "    \n",
    "    def output(self):\n",
    "        return self.output_buffer"
   ]
  },
  {
   "cell_type": "code",
   "execution_count": 51,
   "metadata": {},
   "outputs": [],
   "source": [
    "def put(code, op, pointer, relative, offset, value):\n",
    "    mode = op % (10**(2+offset)) // (10**(1+offset))\n",
    "    if mode == 0: # parameter mode\n",
    "        ix = code[pointer+offset]\n",
    "    elif mode == 2: # relative mode\n",
    "        ix = code[pointer+offset] + relative\n",
    "    else: raise ValueError(f\"{op}, {pointer}, {offset} not allowed\")\n",
    "\n",
    "    if ix >= len(code): # Make sure we allocate enough memory\n",
    "        code += [0] * (ix - len(code) + 1)\n",
    "    code[ix] = value\n",
    "\n",
    "def get(op, code, pointer, relative, offset):\n",
    "    # e.g. get(1002, code, 2) -> code[p] (immediate mode)\n",
    "    # e.g. get(2, code, 2) -> code[code[p]] (parameter mode)\n",
    "    mode = op % (10**(2+offset)) // (10**(1+offset))\n",
    "    if mode == 0: # parameter mode\n",
    "        if pointer+offset >= len(code): return 0 if code[0] >= len(code) else code[0]\n",
    "        if code[pointer+offset] >= len(code): return 0\n",
    "        return code[code[pointer+offset]]\n",
    "    elif mode == 1: # immediate mode\n",
    "        if pointer+offset >= len(code): return 0\n",
    "        return code[pointer+offset]\n",
    "    elif mode == 2: # relative mode\n",
    "        if pointer+offset >= len(code): return 0 if relative+code[0] >= len(code) else code[relative]\n",
    "        if relative+code[pointer+offset] >= len(code): return 0\n",
    "        return code[relative+code[pointer+offset]]\n",
    "    raise ValueError(f\"{op}, {pointer}, {offset} not allowed\")\n",
    "\n",
    "def step(code, p, r, io):\n",
    "    # INPLACE does a intcode step, and returns new state and new p\n",
    "    op = code[p]\n",
    "    if op % 100 == 1: # add\n",
    "        put(code, op, p, r, 3, get(op, code, p, r, 1) + get(op, code, p, r, 2))\n",
    "        return code, p+4, r, io\n",
    "    elif op % 100 == 2: # mul\n",
    "        put(code, op, p, r, 3, get(op, code, p, r, 1) * get(op, code, p, r, 2))\n",
    "        return code, p+4, r, io\n",
    "    elif op % 100 == 3: # read\n",
    "        put(code, op, p, r, 1, io.read())\n",
    "        return code, p+2, r, io\n",
    "    elif op % 100 == 4: # write\n",
    "        return code, p+2, r, io.write(get(op, code, p, r, 1))\n",
    "    elif op % 100 == 5: # jmp_f\n",
    "        if get(op, code, p, r, 1) != 0:\n",
    "            return code, get(op, code, p, r, 2), r, io\n",
    "        return code, p+3, r, io\n",
    "    elif op % 100 == 6: # jmp_t\n",
    "        if get(op, code, p, r, 1) == 0:\n",
    "            return code, get(op, code, p, r, 2), r, io\n",
    "        return code, p+3, r, io\n",
    "    elif op % 100 == 7: # lt\n",
    "        put(code, op, p, r, 3, int(get(op, code, p, r, 1) < get(op, code, p, r, 2)))\n",
    "        return code, p+4, r, io\n",
    "    elif op % 100 == 8: # eq\n",
    "        put(code, op, p, r, 3, int(get(op, code, p, r, 1) == get(op, code, p, r, 2)))\n",
    "        return code, p+4, r, io\n",
    "    elif op % 100 == 9: # relative\n",
    "        return code, p+2, r + get(op, code, p, r, 1), io\n",
    "    elif op % 100 == 99: # exit\n",
    "        return code, -1, r, io\n",
    "    raise ValueError(f\"Incorrect program. Op is {op}\")\n",
    "\n",
    "def run(code, io):\n",
    "    pointer = 0\n",
    "    relative = 0\n",
    "    while pointer >= 0:\n",
    "        code, pointer, relative, io = step(code, pointer, relative, io)\n",
    "    return code, io.output()\n"
   ]
  },
  {
   "cell_type": "code",
   "execution_count": 48,
   "metadata": {},
   "outputs": [
    {
     "data": {
      "text/plain": [
       "341"
      ]
     },
     "execution_count": 48,
     "metadata": {},
     "output_type": "execute_result"
    }
   ],
   "source": [
    "data = advent.get_intcode(13)\n",
    "io = IO()\n",
    "\n",
    "_, out = run(data.copy(), io)\n",
    "len([x for x in out[2::3] if x == 2])"
   ]
  },
  {
   "cell_type": "code",
   "execution_count": 55,
   "metadata": {},
   "outputs": [
    {
     "data": {
      "text/plain": [
       "17138"
      ]
     },
     "execution_count": 55,
     "metadata": {},
     "output_type": "execute_result"
    }
   ],
   "source": [
    "code = advent.get_intcode(13)\n",
    "code[0] = 2 # insert coin\n",
    "io = IO(printit=False)\n",
    "_, out = run(code, io)\n",
    "\n",
    "io.handle_output().score"
   ]
  },
  {
   "cell_type": "code",
   "execution_count": null,
   "metadata": {},
   "outputs": [],
   "source": [
    "code = data.copy()\n",
    "code[0] = 2 # insert coin\n",
    "io = IO(printit=True)\n",
    "_, out = run(code, io)\n",
    "# Warning! will take like 10 minutes to complete and be very jittery"
   ]
  }
 ],
 "metadata": {
  "kernelspec": {
   "display_name": "Python 3.8.10 ('env': venv)",
   "language": "python",
   "name": "python3"
  },
  "language_info": {
   "codemirror_mode": {
    "name": "ipython",
    "version": 3
   },
   "file_extension": ".py",
   "mimetype": "text/x-python",
   "name": "python",
   "nbconvert_exporter": "python",
   "pygments_lexer": "ipython3",
   "version": "3.8.10"
  },
  "orig_nbformat": 4,
  "vscode": {
   "interpreter": {
    "hash": "a6e0e7a52ff25650311410ec676cb128052cdfc3b848542c415d170f51f09b78"
   }
  }
 },
 "nbformat": 4,
 "nbformat_minor": 2
}
