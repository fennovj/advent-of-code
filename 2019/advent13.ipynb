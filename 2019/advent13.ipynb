{
 "cells": [
  {
   "cell_type": "code",
   "execution_count": 1,
   "metadata": {},
   "outputs": [],
   "source": [
    "import advent\n",
    "from advent.intcode import run, BaseIO\n",
    "from IPython.display import clear_output\n",
    "import time\n",
    "import numpy as np"
   ]
  },
  {
   "cell_type": "code",
   "execution_count": 2,
   "metadata": {},
   "outputs": [],
   "source": [
    "pieces = {0: ' ', 1: '|', 2: 'X', 3: '-', 4: 'o'}\n",
    "\n",
    "class IO(BaseIO):\n",
    "\n",
    "    def __init__(self, input_=None, printit=False):\n",
    "        self.input_buffer = input_ if input_ is not None else []\n",
    "        self.output_buffer = []\n",
    "        self.grid = np.ones((20, 44)) # hard coded yeah!\n",
    "        self.score = 0\n",
    "        self.printit = printit\n",
    "    \n",
    "    def print(self):\n",
    "        output = [''.join(map(lambda x: pieces[x], line)) for line in self.grid] + [f\"Score: {self.score}\"]\n",
    "        print('\\n'.join(output), flush=True)\n",
    "    \n",
    "    def handle_output(self):\n",
    "        for i in range(0, len(self.output_buffer), 3):\n",
    "            if self.output_buffer[i] == -1 or self.output_buffer[i+1] == -1:\n",
    "                self.score = self.output_buffer[i+2]\n",
    "            else:\n",
    "                self.grid[self.output_buffer[i+1],self.output_buffer[i]] = self.output_buffer[i+2]\n",
    "        self.output_buffer = []\n",
    "        if self.printit:\n",
    "            clear_output(wait=True)\n",
    "            self.print()\n",
    "            time.sleep(0.1)\n",
    "        return self\n",
    "\n",
    "    def read(self):\n",
    "        if len(self.input_buffer) > 0:\n",
    "            return self.input_buffer.pop(0)\n",
    "        self.handle_output()\n",
    "        paddle = np.where(self.grid == 3)[1][0]\n",
    "        ball = np.where(self.grid == 4)[1][0]\n",
    "        # essentially a cmp, returns -1 if ball < paddle\n",
    "        return int(ball > paddle) - int(ball < paddle)\n",
    "    \n",
    "    def write(self, value):\n",
    "        self.output_buffer.append(value)\n",
    "        return self\n",
    "    \n",
    "    def output(self):\n",
    "        return self.output_buffer"
   ]
  },
  {
   "cell_type": "code",
   "execution_count": 3,
   "metadata": {},
   "outputs": [
    {
     "data": {
      "text/plain": [
       "341"
      ]
     },
     "execution_count": 3,
     "metadata": {},
     "output_type": "execute_result"
    }
   ],
   "source": [
    "data = advent.get_intcode(13)\n",
    "io = IO()\n",
    "\n",
    "_, out = run(data.copy(), io)\n",
    "len([x for x in out[2::3] if x == 2])"
   ]
  },
  {
   "cell_type": "code",
   "execution_count": 4,
   "metadata": {},
   "outputs": [
    {
     "data": {
      "text/plain": [
       "17138"
      ]
     },
     "execution_count": 4,
     "metadata": {},
     "output_type": "execute_result"
    }
   ],
   "source": [
    "code = advent.get_intcode(13)\n",
    "code[0] = 2 # insert coin\n",
    "io = IO(printit=False)\n",
    "_, out = run(code, io)\n",
    "\n",
    "io.handle_output().score"
   ]
  },
  {
   "cell_type": "code",
   "execution_count": null,
   "metadata": {},
   "outputs": [],
   "source": [
    "code = data.copy()\n",
    "code[0] = 2 # insert coin\n",
    "io = IO(printit=True)\n",
    "_, out = run(code, io)\n",
    "# Warning! will take like 10 minutes to complete and be very jittery. use pong.py instead"
   ]
  }
 ],
 "metadata": {
  "kernelspec": {
   "display_name": "Python 3.8.10 ('env': venv)",
   "language": "python",
   "name": "python3"
  },
  "language_info": {
   "codemirror_mode": {
    "name": "ipython",
    "version": 3
   },
   "file_extension": ".py",
   "mimetype": "text/x-python",
   "name": "python",
   "nbconvert_exporter": "python",
   "pygments_lexer": "ipython3",
   "version": "3.8.10"
  },
  "orig_nbformat": 4,
  "vscode": {
   "interpreter": {
    "hash": "a6e0e7a52ff25650311410ec676cb128052cdfc3b848542c415d170f51f09b78"
   }
  }
 },
 "nbformat": 4,
 "nbformat_minor": 2
}
