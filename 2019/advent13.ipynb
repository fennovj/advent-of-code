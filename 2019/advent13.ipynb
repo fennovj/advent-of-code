{
 "cells": [
  {
   "cell_type": "code",
   "execution_count": 231,
   "metadata": {},
   "outputs": [],
   "source": [
    "from IPython.display import clear_output\n",
    "import time\n",
    "import numpy as np\n",
    "\n",
    "pieces = {0: ' ', 1: '|', 2: 'X', 3: '-', 4: 'o'}\n",
    "# x, y, s means piece s at x,y\n",
    "# -1, 0, s means score s\n",
    "\n",
    "def drawer(out):\n",
    "    max_x, max_y = max(out[::3]), max(out[1::3])\n",
    "    print(max_x, max_y)\n",
    "    score = 0\n",
    "    grid = np.ones((max_y+1, max_x+1)) * -1#[[-1] * (max_x+1)] * (max_y+1)\n",
    "    for i in range(0, len(out), 3):\n",
    "        if out[i] == -1 or out[i+1] == -1:\n",
    "            score = out[i+2]\n",
    "        else:\n",
    "            grid[out[i+1],out[i]] = out[i+2]\n",
    "    for line in grid:\n",
    "        print(line)\n",
    "    output = [''.join(map(lambda x: pieces[x], line)) for line in grid] + [f\"Score: {score}\"]\n",
    "    for line in output:\n",
    "        print(line)\n"
   ]
  },
  {
   "cell_type": "code",
   "execution_count": 232,
   "metadata": {},
   "outputs": [
    {
     "name": "stdout",
     "output_type": "stream",
     "text": [
      "22 18\n",
      "[-1. -1. -1. -1. -1. -1. -1. -1. -1. -1. -1. -1. -1. -1. -1. -1. -1. -1.\n",
      " -1. -1. -1. -1. -1.]\n",
      "[-1. -1. -1. -1. -1. -1. -1. -1. -1. -1. -1. -1. -1. -1. -1. -1. -1. -1.\n",
      " -1. -1. -1. -1. -1.]\n",
      "[-1. -1. -1. -1. -1. -1. -1. -1. -1. -1. -1. -1. -1. -1. -1. -1. -1. -1.\n",
      " -1. -1. -1. -1. -1.]\n",
      "[-1. -1. -1. -1. -1. -1. -1. -1. -1. -1. -1. -1. -1. -1. -1. -1. -1. -1.\n",
      " -1. -1. -1. -1. -1.]\n",
      "[-1. -1. -1. -1. -1. -1. -1. -1. -1. -1. -1. -1. -1. -1. -1. -1. -1. -1.\n",
      " -1. -1. -1. -1. -1.]\n",
      "[-1. -1. -1. -1. -1. -1. -1. -1. -1. -1. -1. -1. -1. -1. -1. -1. -1. -1.\n",
      " -1. -1. -1. -1. -1.]\n",
      "[-1. -1. -1. -1. -1. -1. -1. -1. -1. -1. -1. -1. -1. -1. -1. -1. -1. -1.\n",
      " -1. -1. -1. -1. -1.]\n",
      "[-1. -1. -1. -1. -1. -1. -1. -1. -1. -1. -1. -1. -1. -1. -1. -1. -1. -1.\n",
      " -1. -1. -1. -1. -1.]\n",
      "[-1. -1. -1. -1. -1. -1. -1. -1. -1. -1. -1. -1. -1. -1. -1. -1. -1. -1.\n",
      " -1. -1. -1. -1. -1.]\n",
      "[-1. -1. -1. -1. -1. -1. -1. -1. -1. -1. -1. -1. -1. -1. -1. -1. -1. -1.\n",
      " -1. -1. -1. -1. -1.]\n",
      "[-1. -1. -1. -1. -1. -1. -1. -1. -1. -1. -1. -1. -1. -1. -1. -1. -1. -1.\n",
      " -1. -1. -1. -1. -1.]\n",
      "[-1. -1. -1. -1. -1. -1. -1. -1. -1. -1. -1. -1. -1. -1. -1. -1. -1. -1.\n",
      " -1. -1. -1. -1. -1.]\n",
      "[-1. -1. -1. -1. -1. -1. -1. -1. -1. -1. -1. -1. -1. -1. -1. -1. -1. -1.\n",
      " -1. -1. -1. -1. -1.]\n",
      "[-1. -1. -1. -1. -1. -1. -1. -1. -1. -1. -1. -1. -1. -1. -1. -1. -1. -1.\n",
      " -1. -1. -1. -1. -1.]\n",
      "[-1. -1. -1. -1. -1. -1. -1. -1. -1. -1. -1. -1. -1. -1. -1. -1. -1. -1.\n",
      " -1. -1. -1. -1. -1.]\n",
      "[-1. -1. -1. -1. -1. -1. -1. -1. -1. -1. -1. -1. -1. -1. -1. -1. -1. -1.\n",
      " -1. -1.  0. -1. -1.]\n",
      "[-1. -1. -1. -1. -1. -1. -1. -1. -1. -1. -1. -1. -1. -1. -1. -1. -1. -1.\n",
      " -1. -1. -1.  4. -1.]\n",
      "[-1. -1. -1. -1. -1. -1. -1. -1. -1. -1. -1. -1. -1. -1. -1. -1. -1. -1.\n",
      " -1. -1. -1. -1. -1.]\n",
      "[-1. -1. -1. -1. -1. -1. -1. -1. -1. -1. -1. -1. -1. -1. -1. -1. -1. -1.\n",
      " -1. -1. -1.  3.  0.]\n"
     ]
    },
    {
     "ename": "KeyError",
     "evalue": "-1.0",
     "output_type": "error",
     "traceback": [
      "\u001b[0;31m---------------------------------------------------------------------------\u001b[0m",
      "\u001b[0;31mKeyError\u001b[0m                                  Traceback (most recent call last)",
      "Cell \u001b[0;32mIn[232], line 6\u001b[0m\n\u001b[1;32m      4\u001b[0m code \u001b[39m=\u001b[39m data\u001b[39m.\u001b[39mcopy()\n\u001b[1;32m      5\u001b[0m code[\u001b[39m0\u001b[39m] \u001b[39m=\u001b[39m \u001b[39m2\u001b[39m \u001b[39m# insert coin\u001b[39;00m\n\u001b[0;32m----> 6\u001b[0m _, out \u001b[39m=\u001b[39m run(code, IO())\n",
      "Cell \u001b[0;32mIn[215], line 91\u001b[0m, in \u001b[0;36mrun\u001b[0;34m(code, io)\u001b[0m\n\u001b[1;32m     89\u001b[0m relative \u001b[39m=\u001b[39m \u001b[39m0\u001b[39m\n\u001b[1;32m     90\u001b[0m \u001b[39mwhile\u001b[39;00m pointer \u001b[39m>\u001b[39m\u001b[39m=\u001b[39m \u001b[39m0\u001b[39m:\n\u001b[0;32m---> 91\u001b[0m     code, pointer, relative, io \u001b[39m=\u001b[39m step(code, pointer, relative, io)\n\u001b[1;32m     92\u001b[0m \u001b[39mreturn\u001b[39;00m code, io\u001b[39m.\u001b[39moutput()\n",
      "Cell \u001b[0;32mIn[215], line 63\u001b[0m, in \u001b[0;36mstep\u001b[0;34m(code, p, r, io)\u001b[0m\n\u001b[1;32m     61\u001b[0m     \u001b[39mreturn\u001b[39;00m code, p\u001b[39m+\u001b[39m\u001b[39m4\u001b[39m, r, io\n\u001b[1;32m     62\u001b[0m \u001b[39melif\u001b[39;00m op \u001b[39m%\u001b[39m \u001b[39m100\u001b[39m \u001b[39m==\u001b[39m \u001b[39m3\u001b[39m: \u001b[39m# read\u001b[39;00m\n\u001b[0;32m---> 63\u001b[0m     put(code, op, p, r, \u001b[39m1\u001b[39m, io\u001b[39m.\u001b[39;49mread())\n\u001b[1;32m     64\u001b[0m     \u001b[39mreturn\u001b[39;00m code, p\u001b[39m+\u001b[39m\u001b[39m2\u001b[39m, r, io\n\u001b[1;32m     65\u001b[0m \u001b[39melif\u001b[39;00m op \u001b[39m%\u001b[39m \u001b[39m100\u001b[39m \u001b[39m==\u001b[39m \u001b[39m4\u001b[39m: \u001b[39m# write\u001b[39;00m\n",
      "Cell \u001b[0;32mIn[215], line 38\u001b[0m, in \u001b[0;36mIO.read\u001b[0;34m(self)\u001b[0m\n\u001b[1;32m     37\u001b[0m \u001b[39mdef\u001b[39;00m \u001b[39mread\u001b[39m(\u001b[39mself\u001b[39m):\n\u001b[0;32m---> 38\u001b[0m     drawer(\u001b[39mself\u001b[39;49m\u001b[39m.\u001b[39;49moutput_buffer)\n\u001b[1;32m     39\u001b[0m     time\u001b[39m.\u001b[39msleep(\u001b[39m0.05\u001b[39m)\n\u001b[1;32m     40\u001b[0m     \u001b[39mself\u001b[39m\u001b[39m.\u001b[39moutput_buffer \u001b[39m=\u001b[39m []\n",
      "Cell \u001b[0;32mIn[231], line 21\u001b[0m, in \u001b[0;36mdrawer\u001b[0;34m(out)\u001b[0m\n\u001b[1;32m     19\u001b[0m \u001b[39mfor\u001b[39;00m line \u001b[39min\u001b[39;00m grid:\n\u001b[1;32m     20\u001b[0m     \u001b[39mprint\u001b[39m(line)\n\u001b[0;32m---> 21\u001b[0m output \u001b[39m=\u001b[39m [\u001b[39m'\u001b[39m\u001b[39m'\u001b[39m\u001b[39m.\u001b[39mjoin(\u001b[39mmap\u001b[39m(\u001b[39mlambda\u001b[39;00m x: pieces[x], line)) \u001b[39mfor\u001b[39;00m line \u001b[39min\u001b[39;00m grid] \u001b[39m+\u001b[39m [\u001b[39mf\u001b[39m\u001b[39m\"\u001b[39m\u001b[39mScore: \u001b[39m\u001b[39m{\u001b[39;00mscore\u001b[39m}\u001b[39;00m\u001b[39m\"\u001b[39m]\n\u001b[1;32m     22\u001b[0m \u001b[39mfor\u001b[39;00m line \u001b[39min\u001b[39;00m output:\n\u001b[1;32m     23\u001b[0m     \u001b[39mprint\u001b[39m(line)\n",
      "Cell \u001b[0;32mIn[231], line 21\u001b[0m, in \u001b[0;36m<listcomp>\u001b[0;34m(.0)\u001b[0m\n\u001b[1;32m     19\u001b[0m \u001b[39mfor\u001b[39;00m line \u001b[39min\u001b[39;00m grid:\n\u001b[1;32m     20\u001b[0m     \u001b[39mprint\u001b[39m(line)\n\u001b[0;32m---> 21\u001b[0m output \u001b[39m=\u001b[39m [\u001b[39m'\u001b[39;49m\u001b[39m'\u001b[39;49m\u001b[39m.\u001b[39;49mjoin(\u001b[39mmap\u001b[39;49m(\u001b[39mlambda\u001b[39;49;00m x: pieces[x], line)) \u001b[39mfor\u001b[39;00m line \u001b[39min\u001b[39;00m grid] \u001b[39m+\u001b[39m [\u001b[39mf\u001b[39m\u001b[39m\"\u001b[39m\u001b[39mScore: \u001b[39m\u001b[39m{\u001b[39;00mscore\u001b[39m}\u001b[39;00m\u001b[39m\"\u001b[39m]\n\u001b[1;32m     22\u001b[0m \u001b[39mfor\u001b[39;00m line \u001b[39min\u001b[39;00m output:\n\u001b[1;32m     23\u001b[0m     \u001b[39mprint\u001b[39m(line)\n",
      "Cell \u001b[0;32mIn[231], line 21\u001b[0m, in \u001b[0;36mdrawer.<locals>.<lambda>\u001b[0;34m(x)\u001b[0m\n\u001b[1;32m     19\u001b[0m \u001b[39mfor\u001b[39;00m line \u001b[39min\u001b[39;00m grid:\n\u001b[1;32m     20\u001b[0m     \u001b[39mprint\u001b[39m(line)\n\u001b[0;32m---> 21\u001b[0m output \u001b[39m=\u001b[39m [\u001b[39m'\u001b[39m\u001b[39m'\u001b[39m\u001b[39m.\u001b[39mjoin(\u001b[39mmap\u001b[39m(\u001b[39mlambda\u001b[39;00m x: pieces[x], line)) \u001b[39mfor\u001b[39;00m line \u001b[39min\u001b[39;00m grid] \u001b[39m+\u001b[39m [\u001b[39mf\u001b[39m\u001b[39m\"\u001b[39m\u001b[39mScore: \u001b[39m\u001b[39m{\u001b[39;00mscore\u001b[39m}\u001b[39;00m\u001b[39m\"\u001b[39m]\n\u001b[1;32m     22\u001b[0m \u001b[39mfor\u001b[39;00m line \u001b[39min\u001b[39;00m output:\n\u001b[1;32m     23\u001b[0m     \u001b[39mprint\u001b[39m(line)\n",
      "\u001b[0;31mKeyError\u001b[0m: -1.0"
     ]
    }
   ],
   "source": [
    "import advent\n",
    "data = advent.get_intcode(13)\n",
    "\n",
    "code = data.copy()\n",
    "code[0] = 2 # insert coin\n",
    "_, out = run(code, IO())"
   ]
  },
  {
   "cell_type": "code",
   "execution_count": 215,
   "metadata": {},
   "outputs": [],
   "source": [
    "def put(code, op, pointer, relative, offset, value):\n",
    "    mode = op % (10**(2+offset)) // (10**(1+offset))\n",
    "    if mode == 0: # parameter mode\n",
    "        ix = code[pointer+offset]\n",
    "    elif mode == 2: # relative mode\n",
    "        ix = code[pointer+offset] + relative\n",
    "    else: raise ValueError(f\"{op}, {pointer}, {offset} not allowed\")\n",
    "\n",
    "    if ix >= len(code): # Make sure we allocate enough memory\n",
    "        code += [0] * (ix - len(code) + 1)\n",
    "    code[ix] = value\n",
    "\n",
    "def get(op, code, pointer, relative, offset):\n",
    "    # e.g. get(1002, code, 2) -> code[p] (immediate mode)\n",
    "    # e.g. get(2, code, 2) -> code[code[p]] (parameter mode)\n",
    "    mode = op % (10**(2+offset)) // (10**(1+offset))\n",
    "    if mode == 0: # parameter mode\n",
    "        if pointer+offset >= len(code): return 0 if code[0] >= len(code) else code[0]\n",
    "        if code[pointer+offset] >= len(code): return 0\n",
    "        return code[code[pointer+offset]]\n",
    "    elif mode == 1: # immediate mode\n",
    "        if pointer+offset >= len(code): return 0\n",
    "        return code[pointer+offset]\n",
    "    elif mode == 2: # relative mode\n",
    "        if pointer+offset >= len(code): return 0 if relative+code[0] >= len(code) else code[relative]\n",
    "        if relative+code[pointer+offset] >= len(code): return 0\n",
    "        return code[relative+code[pointer+offset]]\n",
    "    raise ValueError(f\"{op}, {pointer}, {offset} not allowed\")\n",
    "\n",
    "class IO():\n",
    "    # Simple implementation of IO: just has static input in the __init__\n",
    "\n",
    "    def __init__(self, input_=None):\n",
    "        self.input_buffer = input_ if input_ is not None else []\n",
    "        self.output_buffer = []\n",
    "\n",
    "    def read(self):\n",
    "        drawer(self.output_buffer)\n",
    "        time.sleep(0.05)\n",
    "        self.output_buffer = []\n",
    "        result = int(input(\"Your input? (-1=left, 0=stay, 1=right)\"))\n",
    "        clear_output(wait=True)\n",
    "        time.sleep(0.05)\n",
    "        return result\n",
    "    \n",
    "    def write(self, value):\n",
    "        self.output_buffer.append(value)\n",
    "        return self\n",
    "    \n",
    "    def output(self):\n",
    "        return self.output_buffer\n",
    "\n",
    "def step(code, p, r, io):\n",
    "    # INPLACE does a intcode step, and returns new state and new p\n",
    "    op = code[p]\n",
    "    if op % 100 == 1: # add\n",
    "        put(code, op, p, r, 3, get(op, code, p, r, 1) + get(op, code, p, r, 2))\n",
    "        return code, p+4, r, io\n",
    "    elif op % 100 == 2: # mul\n",
    "        put(code, op, p, r, 3, get(op, code, p, r, 1) * get(op, code, p, r, 2))\n",
    "        return code, p+4, r, io\n",
    "    elif op % 100 == 3: # read\n",
    "        put(code, op, p, r, 1, io.read())\n",
    "        return code, p+2, r, io\n",
    "    elif op % 100 == 4: # write\n",
    "        return code, p+2, r, io.write(get(op, code, p, r, 1))\n",
    "    elif op % 100 == 5: # jmp_f\n",
    "        if get(op, code, p, r, 1) != 0:\n",
    "            return code, get(op, code, p, r, 2), r, io\n",
    "        return code, p+3, r, io\n",
    "    elif op % 100 == 6: # jmp_t\n",
    "        if get(op, code, p, r, 1) == 0:\n",
    "            return code, get(op, code, p, r, 2), r, io\n",
    "        return code, p+3, r, io\n",
    "    elif op % 100 == 7: # lt\n",
    "        put(code, op, p, r, 3, int(get(op, code, p, r, 1) < get(op, code, p, r, 2)))\n",
    "        return code, p+4, r, io\n",
    "    elif op % 100 == 8: # eq\n",
    "        put(code, op, p, r, 3, int(get(op, code, p, r, 1) == get(op, code, p, r, 2)))\n",
    "        return code, p+4, r, io\n",
    "    elif op % 100 == 9: # relative\n",
    "        return code, p+2, r + get(op, code, p, r, 1), io\n",
    "    elif op % 100 == 99: # exit\n",
    "        return code, -1, r, io\n",
    "    raise ValueError(f\"Incorrect program. Op is {op}\")\n",
    "\n",
    "def run(code, io):\n",
    "    pointer = 0\n",
    "    relative = 0\n",
    "    while pointer >= 0:\n",
    "        code, pointer, relative, io = step(code, pointer, relative, io)\n",
    "    return code, io.output()\n"
   ]
  },
  {
   "cell_type": "code",
   "execution_count": 210,
   "metadata": {},
   "outputs": [
    {
     "data": {
      "text/plain": [
       "341"
      ]
     },
     "execution_count": 210,
     "metadata": {},
     "output_type": "execute_result"
    }
   ],
   "source": [
    "import advent\n",
    "data = advent.get_intcode(13)\n",
    "\n",
    "_, out = run(data.copy(), IO())\n",
    "len([x for x in out[2::3] if x == 2])"
   ]
  },
  {
   "cell_type": "code",
   "execution_count": 211,
   "metadata": {},
   "outputs": [
    {
     "name": "stdout",
     "output_type": "stream",
     "text": [
      "43 19 0 0\n",
      "||||||||||||||||||||||||||||||||||||||||||||\n",
      "|                                          |\n",
      "| XXXX  XX X  XXXX XXXX X X X X X X X X  X |\n",
      "| X  X XXX X XXXXXX XXXXXXX X X   XX  XXXX |\n",
      "| XXXXXXXX XXXXXX XXXX   XX XXXXXX  XXXXXX |\n",
      "| X XXXXX  X  X XXXXXXX X  X XXX XXXXXXXXX |\n",
      "| XXX X  XX XXX X XXXXX   X  XXX XX   XXX  |\n",
      "| XXXXXXX  XXXX  XXX XXX XXXX X XX XXX X X |\n",
      "| XXXX X XXXXXXXX   XXX X X XXXX XX X X X  |\n",
      "| XXXX XX XX   X XXXX X   XX XXXX  XXXX XX |\n",
      "| XXX XX XXXXXXXXXXX X  XXXX XXX XXXXXX XX |\n",
      "| XXXXX XXX XX  XXX XXXXXX X XX  XX XXX XX |\n",
      "| XXXXX XXX XXXXX X XXX X  X XXXXXXX XXXXX |\n",
      "|  XXXXXX XXXXXXX X XXXXXXXX X  XX X XXXXX |\n",
      "|                                          |\n",
      "|                   o                      |\n",
      "|                                          |\n",
      "|                                          |\n",
      "|                     -                    |\n",
      "|                                          |\n",
      "Score: 0\n"
     ]
    }
   ],
   "source": [
    "drawer(out)"
   ]
  },
  {
   "cell_type": "code",
   "execution_count": 212,
   "metadata": {},
   "outputs": [
    {
     "name": "stdout",
     "output_type": "stream",
     "text": [
      "43 19 -1 0\n",
      "||||||||||||||||||||||||||||||||||||||||||||\n",
      "                                          ||\n",
      " XXXX  XX X  XXXX XXXX X X X X X X X X  X ||\n",
      " X  X XXX X XXXXXX XXXXXXX X X   XX  XXXX ||\n",
      " XXXXXXXX XXXXXX XXXX   XX XXXXXX  XXXXXX ||\n",
      " X XXXXX  X  X XXXXXXX X  X XXX XXXXXXXXX ||\n",
      " XXX X  XX XXX X XXXXX   X  XXX XX   XXX  ||\n",
      " XXXXXXX  XXXX  XXX XXX XXXX X XX XXX X X ||\n",
      " XXXX X XXXXXXXX   XXX X X XXXX XX X X X  ||\n",
      " XXXX XX XX   X XXXX X   XX XXXX  XXXX XX ||\n",
      " XXX XX XXXXXXXXXXX X  XXXX XXX XXXXXX XX ||\n",
      " XXXXX XXX XX  XXX XXXXXX X XX  XX XXX XX ||\n",
      " XXXXX XXX XXXXX X XXX X  X XXXXXXX XXXXX ||\n",
      "  XXXXXX XXXXXXX X XXXXXXXX X  XX X XXXXX ||\n",
      "                                          ||\n",
      "                   o                      ||\n",
      "                                          ||\n",
      "                                          ||\n",
      "                     -                    ||\n",
      "                                          ||\n",
      "Score: 0\n"
     ]
    },
    {
     "ename": "ValueError",
     "evalue": "invalid literal for int() with base 10: ''",
     "output_type": "error",
     "traceback": [
      "\u001b[0;31m---------------------------------------------------------------------------\u001b[0m",
      "\u001b[0;31mValueError\u001b[0m                                Traceback (most recent call last)",
      "Cell \u001b[0;32mIn[212], line 3\u001b[0m\n\u001b[1;32m      1\u001b[0m code \u001b[39m=\u001b[39m data\u001b[39m.\u001b[39mcopy()\n\u001b[1;32m      2\u001b[0m code[\u001b[39m0\u001b[39m] \u001b[39m=\u001b[39m \u001b[39m2\u001b[39m \u001b[39m# insert coin\u001b[39;00m\n\u001b[0;32m----> 3\u001b[0m _, out \u001b[39m=\u001b[39m run(code, IO())\n",
      "Cell \u001b[0;32mIn[207], line 91\u001b[0m, in \u001b[0;36mrun\u001b[0;34m(code, io)\u001b[0m\n\u001b[1;32m     89\u001b[0m relative \u001b[39m=\u001b[39m \u001b[39m0\u001b[39m\n\u001b[1;32m     90\u001b[0m \u001b[39mwhile\u001b[39;00m pointer \u001b[39m>\u001b[39m\u001b[39m=\u001b[39m \u001b[39m0\u001b[39m:\n\u001b[0;32m---> 91\u001b[0m     code, pointer, relative, io \u001b[39m=\u001b[39m step(code, pointer, relative, io)\n\u001b[1;32m     92\u001b[0m \u001b[39mreturn\u001b[39;00m code, io\u001b[39m.\u001b[39moutput()\n",
      "Cell \u001b[0;32mIn[207], line 63\u001b[0m, in \u001b[0;36mstep\u001b[0;34m(code, p, r, io)\u001b[0m\n\u001b[1;32m     61\u001b[0m     \u001b[39mreturn\u001b[39;00m code, p\u001b[39m+\u001b[39m\u001b[39m4\u001b[39m, r, io\n\u001b[1;32m     62\u001b[0m \u001b[39melif\u001b[39;00m op \u001b[39m%\u001b[39m \u001b[39m100\u001b[39m \u001b[39m==\u001b[39m \u001b[39m3\u001b[39m: \u001b[39m# read\u001b[39;00m\n\u001b[0;32m---> 63\u001b[0m     put(code, op, p, r, \u001b[39m1\u001b[39m, io\u001b[39m.\u001b[39;49mread())\n\u001b[1;32m     64\u001b[0m     \u001b[39mreturn\u001b[39;00m code, p\u001b[39m+\u001b[39m\u001b[39m2\u001b[39m, r, io\n\u001b[1;32m     65\u001b[0m \u001b[39melif\u001b[39;00m op \u001b[39m%\u001b[39m \u001b[39m100\u001b[39m \u001b[39m==\u001b[39m \u001b[39m4\u001b[39m: \u001b[39m# write\u001b[39;00m\n",
      "Cell \u001b[0;32mIn[207], line 41\u001b[0m, in \u001b[0;36mIO.read\u001b[0;34m(self)\u001b[0m\n\u001b[1;32m     39\u001b[0m time\u001b[39m.\u001b[39msleep(\u001b[39m0.05\u001b[39m)\n\u001b[1;32m     40\u001b[0m \u001b[39mself\u001b[39m\u001b[39m.\u001b[39moutput_buffer \u001b[39m=\u001b[39m []\n\u001b[0;32m---> 41\u001b[0m result \u001b[39m=\u001b[39m \u001b[39mint\u001b[39;49m(\u001b[39minput\u001b[39;49m(\u001b[39m\"\u001b[39;49m\u001b[39mYour input? (-1=left, 0=stay, 1=right)\u001b[39;49m\u001b[39m\"\u001b[39;49m))\n\u001b[1;32m     42\u001b[0m clear_output(wait\u001b[39m=\u001b[39m\u001b[39mTrue\u001b[39;00m)\n\u001b[1;32m     43\u001b[0m time\u001b[39m.\u001b[39msleep(\u001b[39m0.05\u001b[39m)\n",
      "\u001b[0;31mValueError\u001b[0m: invalid literal for int() with base 10: ''"
     ]
    }
   ],
   "source": [
    "code = data.copy()\n",
    "code[0] = 2 # insert coin\n",
    "_, out = run(code, IO())"
   ]
  },
  {
   "cell_type": "code",
   "execution_count": null,
   "metadata": {},
   "outputs": [],
   "source": []
  },
  {
   "cell_type": "code",
   "execution_count": null,
   "metadata": {},
   "outputs": [],
   "source": []
  }
 ],
 "metadata": {
  "kernelspec": {
   "display_name": "Python 3.8.10 ('env': venv)",
   "language": "python",
   "name": "python3"
  },
  "language_info": {
   "codemirror_mode": {
    "name": "ipython",
    "version": 3
   },
   "file_extension": ".py",
   "mimetype": "text/x-python",
   "name": "python",
   "nbconvert_exporter": "python",
   "pygments_lexer": "ipython3",
   "version": "3.8.10"
  },
  "orig_nbformat": 4,
  "vscode": {
   "interpreter": {
    "hash": "a6e0e7a52ff25650311410ec676cb128052cdfc3b848542c415d170f51f09b78"
   }
  }
 },
 "nbformat": 4,
 "nbformat_minor": 2
}
