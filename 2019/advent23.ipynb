{
 "cells": [
  {
   "cell_type": "code",
   "execution_count": 30,
   "metadata": {},
   "outputs": [],
   "source": [
    "import advent\n",
    "from advent.intcode import run\n",
    "code = advent.get_intcode(23)\n"
   ]
  },
  {
   "cell_type": "code",
   "execution_count": 31,
   "metadata": {},
   "outputs": [],
   "source": [
    "# The approach: We run each program for n (e.g. 100) steps\n",
    "# we use 50 IO objects, but one IO manager that\n",
    "# picks up the output after each run"
   ]
  },
  {
   "cell_type": "code",
   "execution_count": 32,
   "metadata": {},
   "outputs": [],
   "source": [
    "class IO():\n",
    "    def __init__(self, input_=[]):\n",
    "        self.input_buffer = input_.copy()\n",
    "        self.output_buffer = []\n",
    "    \n",
    "    def add_input(self, value, map_fn=int):\n",
    "        for c in value:\n",
    "            self.input_buffer.append(map_fn(c))\n",
    "        return self\n",
    "\n",
    "    def read(self):\n",
    "        if len(self.input_buffer) == 0:\n",
    "            return -1\n",
    "        return self.input_buffer.pop(0)\n",
    "    \n",
    "    def write(self, value):\n",
    "        self.output_buffer.append(value)\n",
    "        return self\n",
    "    \n",
    "    def output(self):\n",
    "        return self.output_buffer\n",
    "    \n",
    "    def remove_output(self, n=3):\n",
    "        # remove the first n outputs\n",
    "        self.output_buffer = self.output_buffer[n:]\n",
    "        return self"
   ]
  },
  {
   "cell_type": "code",
   "execution_count": 33,
   "metadata": {},
   "outputs": [],
   "source": [
    "def handle_output(ios, i):\n",
    "    # The output looks like: ADDR, X, Y\n",
    "    # if we have less than 3 outputs, just ignore it\n",
    "    # if we have e.g. 6 or more outputs, handle all of them\n",
    "    # if ADDR is 255 in part 1, raise an exception (easiest way to just stop)\n",
    "    io = ios[i]\n",
    "    while len(io.output()) >= 3:\n",
    "        message = io.output()[:3]\n",
    "        if message[0] == 255:\n",
    "            raise RuntimeError(f\"IO {i} returned y: {message[2]}\")\n",
    "        ios[message[0]].add_input([message[1], message[2]])\n",
    "        io.remove_output()"
   ]
  },
  {
   "cell_type": "code",
   "execution_count": 34,
   "metadata": {},
   "outputs": [
    {
     "ename": "RuntimeError",
     "evalue": "IO 45 returned y: 17949",
     "output_type": "error",
     "traceback": [
      "\u001b[0;31m---------------------------------------------------------------------------\u001b[0m",
      "\u001b[0;31mRuntimeError\u001b[0m                              Traceback (most recent call last)",
      "Cell \u001b[0;32mIn[34], line 12\u001b[0m\n\u001b[1;32m     10\u001b[0m pointers[i] \u001b[39m=\u001b[39m state[\u001b[39m1\u001b[39m]\n\u001b[1;32m     11\u001b[0m relative[i] \u001b[39m=\u001b[39m state[\u001b[39m2\u001b[39m]\n\u001b[0;32m---> 12\u001b[0m handle_output(ios, i)\n",
      "Cell \u001b[0;32mIn[33], line 10\u001b[0m, in \u001b[0;36mhandle_output\u001b[0;34m(ios, i)\u001b[0m\n\u001b[1;32m      8\u001b[0m message \u001b[39m=\u001b[39m io\u001b[39m.\u001b[39moutput()[:\u001b[39m3\u001b[39m]\n\u001b[1;32m      9\u001b[0m \u001b[39mif\u001b[39;00m message[\u001b[39m0\u001b[39m] \u001b[39m==\u001b[39m \u001b[39m255\u001b[39m:\n\u001b[0;32m---> 10\u001b[0m     \u001b[39mraise\u001b[39;00m \u001b[39mRuntimeError\u001b[39;00m(\u001b[39mf\u001b[39m\u001b[39m\"\u001b[39m\u001b[39mIO \u001b[39m\u001b[39m{\u001b[39;00mi\u001b[39m}\u001b[39;00m\u001b[39m returned y: \u001b[39m\u001b[39m{\u001b[39;00mmessage[\u001b[39m2\u001b[39m]\u001b[39m}\u001b[39;00m\u001b[39m\"\u001b[39m)\n\u001b[1;32m     11\u001b[0m ios[message[\u001b[39m0\u001b[39m]]\u001b[39m.\u001b[39madd_input([message[\u001b[39m1\u001b[39m], message[\u001b[39m2\u001b[39m]])\n\u001b[1;32m     12\u001b[0m io\u001b[39m.\u001b[39mremove_output()\n",
      "\u001b[0;31mRuntimeError\u001b[0m: IO 45 returned y: 17949"
     ]
    }
   ],
   "source": [
    "ios = [IO([i]) for i in range(50)]\n",
    "# each program has separate copy of the code that may be modified while running\n",
    "codes = [code.copy() for _ in range(50)]\n",
    "pointers = [0 for _ in range(50)]\n",
    "relative = [0 for _ in range(50)]\n",
    "\n",
    "while True:\n",
    "    for i in range(50):\n",
    "        state, _ = run(codes[i], ios[i], pointers[i], relative[i], 100) # run 100 steps\n",
    "        pointers[i] = state[1]\n",
    "        relative[i] = state[2]\n",
    "        handle_output(ios, i)"
   ]
  },
  {
   "cell_type": "code",
   "execution_count": 37,
   "metadata": {},
   "outputs": [],
   "source": [
    "# Part 2\n",
    "\n",
    "# in part 2, we have to change handle_output: messages to addr 255 go to nat instead\n",
    "# here, 'nat' is simply a tuple of (x, y)\n",
    "\n",
    "def handle_output_part2(ios, i, nat):\n",
    "    io = ios[i]\n",
    "    while len(io.output()) >= 3:\n",
    "        message = io.output()[:3]\n",
    "        if message[0] == 255:\n",
    "            nat = (message[1], message[2])\n",
    "        else:\n",
    "            ios[message[0]].add_input([message[1], message[2]])\n",
    "        io.remove_output()\n",
    "    return nat\n",
    "\n",
    "def network_idle(ios):\n",
    "    # This just checks if input_buffer is empty and output buffer are all len < 3\n",
    "    # this doesn't *really* mean the network is idle, could just mean a message will be sent soon\n",
    "    # so to be safe, run for a good amount of steps so any incoming output will be coming\n",
    "    for io in ios:\n",
    "        if len(io.input_buffer) > 0 or len(io.output()) >= 3:\n",
    "            return False\n",
    "    return True"
   ]
  },
  {
   "cell_type": "code",
   "execution_count": 40,
   "metadata": {},
   "outputs": [
    {
     "ename": "RuntimeError",
     "evalue": "Value 12326 was sent to 0 twice in a row!",
     "output_type": "error",
     "traceback": [
      "\u001b[0;31m---------------------------------------------------------------------------\u001b[0m",
      "\u001b[0;31mRuntimeError\u001b[0m                              Traceback (most recent call last)",
      "Cell \u001b[0;32mIn[40], line 17\u001b[0m\n\u001b[1;32m     15\u001b[0m \u001b[39mif\u001b[39;00m network_idle(ios):\n\u001b[1;32m     16\u001b[0m     \u001b[39mif\u001b[39;00m nat[\u001b[39m1\u001b[39m] \u001b[39m==\u001b[39m last_y_value_to_0:\n\u001b[0;32m---> 17\u001b[0m         \u001b[39mraise\u001b[39;00m \u001b[39mRuntimeError\u001b[39;00m(\u001b[39mf\u001b[39m\u001b[39m\"\u001b[39m\u001b[39mValue \u001b[39m\u001b[39m{\u001b[39;00mnat[\u001b[39m1\u001b[39m]\u001b[39m}\u001b[39;00m\u001b[39m was sent to 0 twice in a row!\u001b[39m\u001b[39m\"\u001b[39m)\n\u001b[1;32m     18\u001b[0m     ios[\u001b[39m0\u001b[39m]\u001b[39m.\u001b[39madd_input([nat[\u001b[39m0\u001b[39m], nat[\u001b[39m1\u001b[39m]])\n\u001b[1;32m     19\u001b[0m     last_y_value_to_0 \u001b[39m=\u001b[39m nat[\u001b[39m1\u001b[39m]\n",
      "\u001b[0;31mRuntimeError\u001b[0m: Value 12326 was sent to 0 twice in a row!"
     ]
    }
   ],
   "source": [
    "ios = [IO([i]) for i in range(50)]\n",
    "# each program has separate copy of the code that may be modified while running\n",
    "codes = [code.copy() for _ in range(50)]\n",
    "pointers = [0 for _ in range(50)]\n",
    "relative = [0 for _ in range(50)]\n",
    "last_y_value_to_0 = None\n",
    "nat = (None, None)\n",
    "\n",
    "while True:\n",
    "    for i in range(50):\n",
    "        # 100 is not enough this time to truly say the network is 'idle'\n",
    "        state, _ = run(codes[i], ios[i], pointers[i], relative[i], 1000)\n",
    "        pointers[i] = state[1]\n",
    "        relative[i] = state[2]\n",
    "        nat = handle_output_part2(ios, i, nat)\n",
    "    if network_idle(ios):\n",
    "        if nat[1] == last_y_value_to_0:\n",
    "            raise RuntimeError(f\"Value {nat[1]} was sent to 0 twice in a row!\")\n",
    "        ios[0].add_input([nat[0], nat[1]])\n",
    "        last_y_value_to_0 = nat[1]"
   ]
  }
 ],
 "metadata": {
  "kernelspec": {
   "display_name": "Python 3.8.10 ('env': venv)",
   "language": "python",
   "name": "python3"
  },
  "language_info": {
   "codemirror_mode": {
    "name": "ipython",
    "version": 3
   },
   "file_extension": ".py",
   "mimetype": "text/x-python",
   "name": "python",
   "nbconvert_exporter": "python",
   "pygments_lexer": "ipython3",
   "version": "3.8.10"
  },
  "orig_nbformat": 4,
  "vscode": {
   "interpreter": {
    "hash": "a6e0e7a52ff25650311410ec676cb128052cdfc3b848542c415d170f51f09b78"
   }
  }
 },
 "nbformat": 4,
 "nbformat_minor": 2
}
