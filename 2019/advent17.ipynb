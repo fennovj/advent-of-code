{
 "cells": [
  {
   "cell_type": "code",
   "execution_count": 16,
   "metadata": {},
   "outputs": [],
   "source": [
    "import advent\n",
    "from advent.intcode import run, BaseIO\n",
    "data = advent.get_intcode(17)"
   ]
  },
  {
   "cell_type": "code",
   "execution_count": 17,
   "metadata": {},
   "outputs": [],
   "source": [
    "class IO(BaseIO):\n",
    "    def __init__(self, input_=[]):\n",
    "        self.input_buffer = input_.copy()\n",
    "        self.output_buffer = []\n",
    "    \n",
    "    def add_input(self, value):\n",
    "        for c in value:\n",
    "            self.input_buffer.append(ord(c))\n",
    "        return self\n",
    "\n",
    "    def read(self):\n",
    "        return self.input_buffer.pop(0)\n",
    "    \n",
    "    def write(self, value):\n",
    "        self.output_buffer.append(value)\n",
    "        return self\n",
    "    \n",
    "    def output(self):\n",
    "        return self.output_buffer"
   ]
  },
  {
   "cell_type": "code",
   "execution_count": 18,
   "metadata": {},
   "outputs": [],
   "source": [
    "_, out = run(data.copy(), IO())\n",
    "# I didn't manually do part 1, I wrote a double for-loop that checks\n",
    "# if x+1,x-1,y+1,y-1 are all equal to '#', and if so, add x*y\n",
    "# however, I accidentall deleted the code"
   ]
  },
  {
   "cell_type": "code",
   "execution_count": 19,
   "metadata": {},
   "outputs": [
    {
     "name": "stdout",
     "output_type": "stream",
     "text": [
      "962913\n"
     ]
    }
   ],
   "source": [
    "# I did actually manually wrote down the entire path to the end, \n",
    "# and detected three parts:\n",
    "# R6,L10,R10,R10, A\n",
    "# L10,L12,R10, B\n",
    "# R6,L10,R10,R10, A\n",
    "# L10,L12,R10, B\n",
    "# R6,L10,R10,R10, A\n",
    "# R6,L12,L10, C\n",
    "# R6,L10,R10,R10, A\n",
    "# R6,L12,L10, C\n",
    "# L10,L12,R10, B \n",
    "# R6,L12,L10 C\n",
    "\n",
    "# This implies the input:\n",
    "inp = \"A,B,A,B,A,C,A,C,B,C\\nR,6,L,10,R,10,R,10\\nL,10,L,12,R,10\\nR,6,L,12,L,10\\nn\\n\"\n",
    "code = data.copy()\n",
    "io = IO().add_input(inp)\n",
    "code[0] = 2\n",
    "_, out = run(code, io)\n",
    "print(int(out[-1]))"
   ]
  },
  {
   "cell_type": "code",
   "execution_count": null,
   "metadata": {},
   "outputs": [],
   "source": []
  }
 ],
 "metadata": {
  "kernelspec": {
   "display_name": "Python 3.8.10 ('env': venv)",
   "language": "python",
   "name": "python3"
  },
  "language_info": {
   "codemirror_mode": {
    "name": "ipython",
    "version": 3
   },
   "file_extension": ".py",
   "mimetype": "text/x-python",
   "name": "python",
   "nbconvert_exporter": "python",
   "pygments_lexer": "ipython3",
   "version": "3.8.10"
  },
  "orig_nbformat": 4,
  "vscode": {
   "interpreter": {
    "hash": "a6e0e7a52ff25650311410ec676cb128052cdfc3b848542c415d170f51f09b78"
   }
  }
 },
 "nbformat": 4,
 "nbformat_minor": 2
}
