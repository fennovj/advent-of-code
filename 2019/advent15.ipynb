{
 "cells": [
  {
   "cell_type": "code",
   "execution_count": 1,
   "metadata": {},
   "outputs": [],
   "source": [
    "import advent\n",
    "from advent.intcode import BaseIO\n",
    "import time\n",
    "import numpy as np\n",
    "from IPython.display import clear_output\n",
    "\n",
    "data = advent.get_intcode(15)"
   ]
  },
  {
   "cell_type": "code",
   "execution_count": 2,
   "metadata": {},
   "outputs": [],
   "source": [
    "class IO(BaseIO):\n",
    "\n",
    "    pieces = {0: 'X', 1: '.', 2: '!', 3: 'o', 4: '?'}\n",
    "\n",
    "    def __init__(self):\n",
    "        self.output = 1\n",
    "        self.maze = {(0, 0): 1}\n",
    "        self.position = (0, 0)\n",
    "        self.direction = (0, 0)\n",
    "    \n",
    "    def print(self):\n",
    "        min_x = min(self.maze.keys(), key=lambda a: a[1])[1]\n",
    "        max_x = max(self.maze.keys(), key=lambda a: a[1])[1]\n",
    "        min_y = min(self.maze.keys(), key=lambda a: a[0])[0]\n",
    "        max_y = max(self.maze.keys(), key=lambda a: a[0])[0]\n",
    "        grid = np.ones((max_y-min_y+1, max_x-min_x+1)) * 4\n",
    "        for k in self.maze:\n",
    "            a, b = k\n",
    "            grid[a-min_y, b-min_x] = self.maze[k]\n",
    "        grid[self.position[0]-min_y, self.position[1]-min_x] = 3\n",
    "        output = [''.join(map(lambda x: self.pieces[x], line)) for line in grid]\n",
    "        print('\\n'.join(output), flush=True)\n",
    "    \n",
    "    def handle_output(self):\n",
    "        # Position is the 'old' position\n",
    "        if self.output == 1: # empty spot\n",
    "            self.position = (self.position[0] + self.direction[0], self.position[1] + self.direction[1])\n",
    "            self.maze[self.position] = 1\n",
    "        elif self.output == 2:\n",
    "            self.position = (self.position[0] + self.direction[0], self.position[1] + self.direction[1])\n",
    "            self.maze[self.position] = 2\n",
    "        elif self.output == 0:\n",
    "            tmp_position = (self.position[0] + self.direction[0], self.position[1] + self.direction[1])\n",
    "            self.maze[tmp_position] = 0\n",
    "\n",
    "    def read(self):\n",
    "        self.handle_output()\n",
    "        clear_output(wait=True)\n",
    "        self.print()\n",
    "        time.sleep(0.1)\n",
    "        result = None\n",
    "        while result not in ['1', '2', '3', '4', 'w', 'a', 's', 'd']:\n",
    "            result = input(\"Your input? (1=north, 2=south, 3=west, 4=east)\")\n",
    "        if result in ['w', 'a', 's', 'd']: result = {'w': 1, 'a': 3, 's': 2, 'd': 4}[result]\n",
    "        self.direction = {1: (-1, 0), 2: (1, 0), 3: (0, -1), 4: (0, 1)}[int(result)]\n",
    "        return int(result)\n",
    "\n",
    "    def write(self, value):\n",
    "        self.output = value\n",
    "        return self\n",
    "\n",
    "    def output(self):\n",
    "        return self.maze"
   ]
  },
  {
   "cell_type": "code",
   "execution_count": 3,
   "metadata": {},
   "outputs": [],
   "source": [
    "data = advent.get_intcode(15)\n",
    "io = IO()\n",
    "\n",
    "# _, out = run(data.copy(), io)\n",
    "# I would use python maze.py instead See the explored maze at data/maze.txt (yes I did it by hand! :D)"
   ]
  },
  {
   "cell_type": "code",
   "execution_count": 4,
   "metadata": {},
   "outputs": [
    {
     "data": {
      "text/plain": [
       "288"
      ]
     },
     "execution_count": 4,
     "metadata": {},
     "output_type": "execute_result"
    }
   ],
   "source": [
    "maze_char = advent.get_lines('maze')\n",
    "# Y is manually added and means unreachable, so should never come up anyway\n",
    "# ' ' is oxygen\n",
    "maze = {}\n",
    "for y in range(len(maze_char)):\n",
    "    for x in range(len(maze_char[y])):\n",
    "        c = maze_char[y][x]\n",
    "        c = '.' if c == '?' else c\n",
    "        c = ' ' if c == '!' else c\n",
    "        maze[(y, x)] = c\n",
    "\n",
    "counter = 0\n",
    "while '.' in maze.values():\n",
    "    counter += 1\n",
    "    maze_old = maze.copy()\n",
    "    for k in maze:\n",
    "        if maze_old[k] == ' ':\n",
    "            y, x = k\n",
    "            if maze_old[(y-1, x)] != 'X': maze[(y-1, x)] = ' '\n",
    "            if maze_old[(y+1, x)] != 'X': maze[(y+1, x)] = ' '\n",
    "            if maze_old[(y, x-1)] != 'X': maze[(y, x-1)] = ' '\n",
    "            if maze_old[(y, x+1)] != 'X': maze[(y, x+1)] = ' '\n",
    "\n",
    "counter"
   ]
  },
  {
   "cell_type": "code",
   "execution_count": 5,
   "metadata": {},
   "outputs": [
    {
     "name": "stdout",
     "output_type": "stream",
     "text": [
      "Start: (21, 21)\n"
     ]
    },
    {
     "data": {
      "application/vnd.jupyter.widget-view+json": {
       "model_id": "35e0efdb56114601aecca6326bfc5d9e",
       "version_major": 2,
       "version_minor": 0
      },
      "text/plain": [
       "  0%|          | 0/1 [00:00<?, ?it/s]"
      ]
     },
     "metadata": {},
     "output_type": "display_data"
    },
    {
     "name": "stdout",
     "output_type": "stream",
     "text": [
      "Final path length: 230\n"
     ]
    }
   ],
   "source": [
    "# Example of using advent.maze.solve_maze:\n",
    "from advent.maze import solve_maze\n",
    "import advent\n",
    "\n",
    "data = advent.get_lines('maze')\n",
    "\n",
    "maze = {}\n",
    "for y in range(len(data)):\n",
    "    for x in range(len(data[y])):\n",
    "        maze[(y, x)] = data[y][x]\n",
    "        if maze[(y, x)] == 's': start = (y, x)\n",
    "\n",
    "print(\"Start:\", start)\n",
    "\n",
    "def adjacent(n):\n",
    "    nodes = [(n[0]+1, n[1]), (n[0]-1, n[1]), (n[0], n[1]+1), (n[0], n[1]-1)]\n",
    "    return [(n, 1) for n in nodes if maze[n] != 'X'] # cost is just 1\n",
    "\n",
    "def is_target(n):\n",
    "    return maze[n] == '!'\n",
    "\n",
    "w, parents = solve_maze(start, is_target, adjacent, total_nodes = sum([x == '.' for x in maze.values()]))\n",
    "# should be same as part 1, which I previously MANUALLY COUNTED :D, so 230\n",
    "# yeah this probably would have been faster..."
   ]
  },
  {
   "cell_type": "code",
   "execution_count": null,
   "metadata": {},
   "outputs": [],
   "source": []
  }
 ],
 "metadata": {
  "kernelspec": {
   "display_name": "Python 3.8.10 ('env': venv)",
   "language": "python",
   "name": "python3"
  },
  "language_info": {
   "codemirror_mode": {
    "name": "ipython",
    "version": 3
   },
   "file_extension": ".py",
   "mimetype": "text/x-python",
   "name": "python",
   "nbconvert_exporter": "python",
   "pygments_lexer": "ipython3",
   "version": "3.8.10"
  },
  "orig_nbformat": 4,
  "vscode": {
   "interpreter": {
    "hash": "a6e0e7a52ff25650311410ec676cb128052cdfc3b848542c415d170f51f09b78"
   }
  }
 },
 "nbformat": 4,
 "nbformat_minor": 2
}
