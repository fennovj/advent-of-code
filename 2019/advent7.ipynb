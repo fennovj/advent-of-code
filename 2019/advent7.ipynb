{
 "cells": [
  {
   "cell_type": "code",
   "execution_count": 5,
   "metadata": {},
   "outputs": [],
   "source": [
    "import advent"
   ]
  },
  {
   "cell_type": "code",
   "execution_count": 17,
   "metadata": {},
   "outputs": [],
   "source": [
    "def get(op, code, pointer, offset):\n",
    "    # e.g. get('1002', code, 2) -> code[p] (immediate mode)\n",
    "    # e.g. get('2', code, 2) -> code[code[p]] (parameter mode)\n",
    "    mode = op % (10**(2+offset)) // (10**(1+offset))\n",
    "    #print(f\"{op}, {pointer}, {offset}, {mode}, {code[pointer+offset]}\")\n",
    "    if mode == 0: # parameter mode\n",
    "        return code[code[pointer+offset]]\n",
    "    elif mode == 1: # immediate mode\n",
    "        return code[pointer+offset]\n",
    "    raise ValueError(f\"{op}, {pointer}, {offset} not allowed\")\n",
    "\n",
    "class IO():\n",
    "    # Simple implementation of IO: just has static input in the __init__\n",
    "\n",
    "    def __init__(self, input_):\n",
    "        self.input_buffer = input_.copy()\n",
    "        self.output_buffer = []\n",
    "    \n",
    "    def add_input(self, value):\n",
    "        self.input_buffer.append(value)\n",
    "        return self\n",
    "\n",
    "    def read(self):\n",
    "        return self.input_buffer.pop(0)\n",
    "    \n",
    "    def write(self, value):\n",
    "        self.output_buffer.append(value)\n",
    "        return self\n",
    "    \n",
    "    def output(self):\n",
    "        return self.output_buffer\n",
    "\n",
    "def step(code, p, io):\n",
    "    # INPLACE does a intcode step, and returns new state and new p\n",
    "    # p = -1 means the program is done\n",
    "    op = code[p]\n",
    "\n",
    "    #print(op, code)\n",
    "    if op % 100 == 1: # add\n",
    "        code[code[p+3]] = get(op, code, p, 1) + get(op, code, p, 2)\n",
    "        return code, p+4, io\n",
    "    elif op % 100 == 2: # mul\n",
    "        code[code[p+3]] = get(op, code, p, 1) * get(op, code, p, 2)\n",
    "        return code, p+4, io\n",
    "    elif op % 100 == 3: # read\n",
    "        code[code[p+1]] = io.read()\n",
    "        return code, p+2, io\n",
    "    elif op % 100 == 4: # write\n",
    "        return code, p+2, io.write(get(op, code, p, 1))\n",
    "    elif op % 100 == 5: # jmp_f\n",
    "        if get(op, code, p, 1) != 0:\n",
    "            return code, get(op, code, p, 2), io\n",
    "        return code, p+3, io\n",
    "    elif op % 100 == 6: # jmp_t\n",
    "        if get(op, code, p, 1) == 0:\n",
    "            return code, get(op, code, p, 2), io\n",
    "        return code, p+3, io\n",
    "    elif op % 100 == 7: # lt\n",
    "        code[code[p+3]] = int(get(op, code, p, 1) < get(op, code, p, 2))\n",
    "        return code, p+4, io\n",
    "    elif op % 100 == 8: # eq\n",
    "        code[code[p+3]] = int(get(op, code, p, 1) == get(op, code, p, 2))\n",
    "        return code, p+4, io\n",
    "    elif op % 100 == 99: # exit\n",
    "        return code, -1, io\n",
    "    raise ValueError(f\"Incorrect program. Op is {op}\")\n",
    "\n",
    "def run(code, io):\n",
    "    pointer = 0\n",
    "    while pointer >= 0:\n",
    "        code, pointer, io = step(code, pointer, io)\n",
    "    return code, io.output()\n"
   ]
  },
  {
   "cell_type": "code",
   "execution_count": 9,
   "metadata": {},
   "outputs": [
    {
     "name": "stdout",
     "output_type": "stream",
     "text": [
      "17406 [2, 4, 1, 0, 3]\n"
     ]
    }
   ],
   "source": [
    "from itertools import permutations\n",
    "\n",
    "\n",
    "def run_for7(code, thrusters):\n",
    "    o = run(code.copy(), IO([thrusters[0], 0]))[1][0]\n",
    "    o = run(code.copy(), IO([thrusters[1], o]))[1][0]\n",
    "    o = run(code.copy(), IO([thrusters[2], o]))[1][0]\n",
    "    o = run(code.copy(), IO([thrusters[3], o]))[1][0]\n",
    "    o = run(code.copy(), IO([thrusters[4], o]))[1][0]\n",
    "    return o\n",
    "\n",
    "\n",
    "data = advent.get_intcode(7)\n",
    "#data = [3,15,3,16,1002,16,10,16,1,16,15,15,4,15,99,0,0]\n",
    "\n",
    "max_score = 0\n",
    "max_input = None\n",
    "for input in permutations([0, 1, 2, 3, 4]):\n",
    "    score = run_for7(data, input)\n",
    "    if score > max_score:\n",
    "        max_score = score\n",
    "        max_input = list(input)\n",
    "\n",
    "print(max_score, max_input)"
   ]
  },
  {
   "cell_type": "code",
   "execution_count": 29,
   "metadata": {},
   "outputs": [
    {
     "name": "stdout",
     "output_type": "stream",
     "text": [
      "1047153 [7, 8, 6, 9, 5]\n"
     ]
    }
   ],
   "source": [
    "# We keep running all 5 programs and passing input and output between them\n",
    "# When program 5 halts, the final output is the final output of program 5\n",
    "# Because of the one-directional feedback loop, we can luckily run the programs in order:\n",
    "# First run A, when it has output, start running B, etcetera.\n",
    "\n",
    "def run_until_output(code, pointer, io):\n",
    "    io_out_len = len(io.output())\n",
    "    while pointer >= 0 and len(io.output()) == io_out_len:\n",
    "        code, pointer, io = step(code, pointer, io)\n",
    "    return code, pointer, io\n",
    "\n",
    "def run_for7_2(data, thrusters):\n",
    "    thruster_a = data.copy(), 0, IO([thrusters[0]])\n",
    "    thruster_b = data.copy(), 0, IO([thrusters[1]])\n",
    "    thruster_c = data.copy(), 0, IO([thrusters[2]])\n",
    "    thruster_d = data.copy(), 0, IO([thrusters[3]])\n",
    "    thruster_e = data.copy(), 0, IO([thrusters[4]])\n",
    "    thruster_e[2].write(0) # Pretend as if thruster e outputs 0 to start with\n",
    "\n",
    "    while thruster_e[1] >= 0:\n",
    "        thruster_a = run_until_output(thruster_a[0], thruster_a[1], thruster_a[2].add_input(thruster_e[2].output()[-1]))\n",
    "        thruster_b = run_until_output(thruster_b[0], thruster_b[1], thruster_b[2].add_input(thruster_a[2].output()[-1]))\n",
    "        thruster_c = run_until_output(thruster_c[0], thruster_c[1], thruster_c[2].add_input(thruster_b[2].output()[-1]))\n",
    "        thruster_d = run_until_output(thruster_d[0], thruster_d[1], thruster_d[2].add_input(thruster_c[2].output()[-1]))\n",
    "        thruster_e = run_until_output(thruster_e[0], thruster_e[1], thruster_e[2].add_input(thruster_d[2].output()[-1]))\n",
    "\n",
    "    return thruster_e[2].output()[-1]\n",
    "\n",
    "data = advent.get_intcode(7)\n",
    "#data = [3,26,1001,26,-4,26,3,27,1002,27,2,27,1,27,26,27,4,27,1001,28,-1,28,1005,28,6,99,0,0,5]\n",
    "\n",
    "max_score = 0\n",
    "max_input = None\n",
    "for input in permutations([5, 6, 7, 8, 9]):\n",
    "    score = run_for7_2(data, input)\n",
    "    if score > max_score:\n",
    "        max_score = score\n",
    "        max_input = list(input)\n",
    "\n",
    "print(max_score, max_input)\n"
   ]
  },
  {
   "cell_type": "code",
   "execution_count": null,
   "metadata": {},
   "outputs": [],
   "source": []
  }
 ],
 "metadata": {
  "kernelspec": {
   "display_name": "Python 3.8.10 ('env': venv)",
   "language": "python",
   "name": "python3"
  },
  "language_info": {
   "codemirror_mode": {
    "name": "ipython",
    "version": 3
   },
   "file_extension": ".py",
   "mimetype": "text/x-python",
   "name": "python",
   "nbconvert_exporter": "python",
   "pygments_lexer": "ipython3",
   "version": "3.8.10"
  },
  "orig_nbformat": 4,
  "vscode": {
   "interpreter": {
    "hash": "a6e0e7a52ff25650311410ec676cb128052cdfc3b848542c415d170f51f09b78"
   }
  }
 },
 "nbformat": 4,
 "nbformat_minor": 2
}
