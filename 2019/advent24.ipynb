{
 "cells": [
  {
   "cell_type": "code",
   "execution_count": 16,
   "metadata": {},
   "outputs": [],
   "source": [
    "import advent\n",
    "from scipy.ndimage import generic_filter\n",
    "\n",
    "data = advent.get_char_grid(24, map_fn=lambda c: c == '#')"
   ]
  },
  {
   "cell_type": "code",
   "execution_count": 17,
   "metadata": {},
   "outputs": [
    {
     "name": "stdout",
     "output_type": "stream",
     "text": [
      "2129920\n"
     ]
    }
   ],
   "source": [
    "# part 1\n",
    "\n",
    "def apply(x):\n",
    "    if x[4] == 1: return (x[1] + x[3] + x[5] + x[7]) == 1\n",
    "    elif x[4] == 0: return (x[1] + x[3] + x[5] + x[7]) in (1, 2)\n",
    "    raise ValueError(\"?\")\n",
    "\n",
    "def biodiversity(x):\n",
    "    return sum([2**i for i, v in enumerate(x.flatten()) if v])\n",
    "\n",
    "hashes, h = set([]), None\n",
    "new_board = data.copy()\n",
    "\n",
    "while h not in hashes:\n",
    "    hashes.add(h)\n",
    "    new_board = generic_filter(new_board, apply, size=3, mode='constant', cval=False)\n",
    "    h = hash(str(new_board.astype(int)))\n",
    "\n",
    "print(biodiversity(new_board))"
   ]
  },
  {
   "cell_type": "code",
   "execution_count": 18,
   "metadata": {},
   "outputs": [
    {
     "name": "stdout",
     "output_type": "stream",
     "text": [
      "0,1,2\n"
     ]
    }
   ],
   "source": [
    "# Part 2\n",
    "\n",
    "# Unfortunately we can't use generic filter anymore :(\n",
    "# Adjacency rules: Any tile has 4 neighbors, except the ones neighboring the center, which have 3 + 5 = 8\n",
    "from typing import NamedTuple\n",
    "\n",
    "class Tile(NamedTuple):\n",
    "    level: int\n",
    "    row: int\n",
    "    col: int\n",
    "    \n",
    "    def __str__(self):\n",
    "        return f\"{self.level},{self.row},{self.col}\"\n",
    "\n",
    "    def neighbors(self):\n",
    "        if self.row == 2 and self.col == 2: raise ValueError(\"Huh?\")\n",
    "        if self.row == 0:\n",
    "            yield Tile(self.level + 1, 1, 2)\n",
    "        elif self.row == 4:\n",
    "            yield Tile(self.level + 1, 3, 2)\n",
    "        if self.col == 0:\n",
    "            yield Tile(self.level + 1, 2, 1)\n",
    "        elif self.col == 4:\n",
    "            yield Tile(self.level + 1, 2, 3)\n",
    "        if self.row == 1 and self.col == 2:\n",
    "            for i in range(5):\n",
    "                yield Tile(self.level - 1, 0, i)\n",
    "        if self.row == 3 and self.col == 2:\n",
    "            for i in range(5):\n",
    "                yield Tile(self.level - 1, 4, i)\n",
    "        if self.row == 2 and self.col == 1:\n",
    "            for i in range(5):\n",
    "                yield Tile(self.level - 1, i, 0)\n",
    "        if self.row == 2 and self.col == 3:\n",
    "            for i in range(5):\n",
    "                yield Tile(self.level - 1, i, 4)\n",
    "        for offset_x, offset_y in [(0, 1), (1, 0), (-1, 0), (0, -1)]:\n",
    "            row, col = self.row + offset_x, self.col + offset_y\n",
    "            if row == 2 and col == 2:\n",
    "                continue\n",
    "            if row < 0 or row >= 5 or col < 0 or col >= 5:\n",
    "                continue\n",
    "            yield Tile(self.level, row, col)\n",
    "\n",
    "print(str(Tile(0, 1, 2)))"
   ]
  },
  {
   "cell_type": "code",
   "execution_count": null,
   "metadata": {},
   "outputs": [
    {
     "name": "stdout",
     "output_type": "stream",
     "text": [
      "99\n"
     ]
    }
   ],
   "source": [
    "import itertools\n",
    "\n",
    "# Since there are only 200 steps, and it takes 2 steps to go up a level, we can simulate all levels from -100 to 100\n",
    "# This contains too many: it also contains the (x, 2, 2) which aren't really tiles so we'll skip them later\n",
    "all_tiles = [Tile(level, row, col) for level, row, col in itertools.product(range(-100, 101), range(5), range(5))]\n",
    "infested = set([])\n",
    "\n",
    "for i in range(5):\n",
    "    for j in range(5):\n",
    "        if data[i, j]: infested.add(Tile(0, i, j))\n",
    "\n",
    "def step(infested):\n",
    "    new_infested = set([])\n",
    "    for tile in all_tiles:\n",
    "        if tile.row == 2 and tile.col == 2: continue\n",
    "        neighbors = sum([1 for neighbor in tile.neighbors() if neighbor in infested])\n",
    "        if tile in infested:\n",
    "            if neighbors == 1:\n",
    "                new_infested.add(tile)\n",
    "        else:\n",
    "            if neighbors in (1, 2):\n",
    "                new_infested.add(tile)\n",
    "    return new_infested\n",
    "\n",
    "for _ in range(200):\n",
    "    infested = step(infested)\n",
    "\n",
    "print(len(infested))"
   ]
  },
  {
   "cell_type": "code",
   "execution_count": null,
   "metadata": {},
   "outputs": [],
   "source": []
  }
 ],
 "metadata": {
  "kernelspec": {
   "display_name": ".venv",
   "language": "python",
   "name": "python3"
  },
  "language_info": {
   "codemirror_mode": {
    "name": "ipython",
    "version": 3
   },
   "file_extension": ".py",
   "mimetype": "text/x-python",
   "name": "python",
   "nbconvert_exporter": "python",
   "pygments_lexer": "ipython3",
   "version": "3.10.11"
  }
 },
 "nbformat": 4,
 "nbformat_minor": 2
}
