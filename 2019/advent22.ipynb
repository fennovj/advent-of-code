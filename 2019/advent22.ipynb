{
 "cells": [
  {
   "cell_type": "code",
   "execution_count": 13,
   "metadata": {},
   "outputs": [],
   "source": [
    "import advent\n",
    "\n",
    "data = advent.get_lines(22)\n",
    "\n",
    "# The possible instructions are:\n",
    "# deal into new stack\n",
    "# cut N\n",
    "# deal with increment N\n",
    "\n",
    "instructions = []\n",
    "for line in data:\n",
    "    if line.startswith('deal into new stack'):\n",
    "        instructions.append(('deal', None))\n",
    "    elif line.startswith('cut'):\n",
    "        instructions.append(('cut', int(line.split()[-1])))\n",
    "    elif line.startswith('deal with increment'):\n",
    "        instructions.append(('increment', int(line.split()[-1])))\n",
    "\n",
    "def apply(deck, instruction):\n",
    "    if instruction[0] == 'deal':\n",
    "        return deck[::-1]\n",
    "    elif instruction[0] == 'cut':\n",
    "        return deck[instruction[1]:] + deck[:instruction[1]]\n",
    "    elif instruction[0] == 'increment':\n",
    "        new_deck = [0] * len(deck)\n",
    "        for i, card in enumerate(deck):\n",
    "            new_deck[(i * instruction[1]) % len(deck)] = card\n",
    "        return new_deck\n",
    "    raise ValueError('Unknown instruction')\n"
   ]
  },
  {
   "cell_type": "code",
   "execution_count": 14,
   "metadata": {},
   "outputs": [
    {
     "name": "stdout",
     "output_type": "stream",
     "text": [
      "6638\n"
     ]
    }
   ],
   "source": [
    "deck = list(range(10007))\n",
    "for instruction in instructions:\n",
    "    deck = apply(deck, instruction)\n",
    "print(deck.index(2019))"
   ]
  },
  {
   "cell_type": "code",
   "execution_count": 16,
   "metadata": {},
   "outputs": [
    {
     "name": "stdout",
     "output_type": "stream",
     "text": [
      "57481683403608\n",
      "2020 0\n"
     ]
    }
   ],
   "source": [
    "# Part 2\n",
    "# Idea: we are going to shuffle only card 2020, but in reverse.\n",
    "# To deeal with the ridiculous amounts of shuffles we will do some cycle detection\n",
    "deck_size = 119315717514047\n",
    "num_instructions = 101741582076661\n",
    "\n",
    "def reverse(instruction, position):\n",
    "    if instruction[0] == 'deal':\n",
    "        return deck_size - 1 - position\n",
    "    elif instruction[0] == 'cut':\n",
    "        return (position + instruction[1]) % deck_size\n",
    "    elif instruction[0] == 'increment':\n",
    "        # AI helped a lot here. I gave this prompt to chatgpt:\n",
    "        # 'Given coprime N and M, and some number n. I want to find m such that m*M = n mod N'\n",
    "        # That pointed me to multiplicative inverse, which is apparently implemented in python 3.8+\n",
    "        # (found on stackoverflow) N=deck_size, M=instruction[1], n=position\n",
    "        inverse = pow(instruction[1], -1, deck_size)\n",
    "        return (position * inverse) % deck_size\n",
    "\n",
    "def apply_reverse_instructions(position):\n",
    "    for instruction in reversed(instructions):\n",
    "        position = reverse(instruction, position)\n",
    "    return position\n",
    "\n",
    "print(apply_reverse_instructions(2020))\n",
    "\n",
    "# Now we need to find the position of card 2020 after num_instructions reverse shuffles\n",
    "positions = {}\n",
    "new_position, steps = 2020, 0\n",
    "\n",
    "while (new_position not in positions) and False:\n",
    "    positions[new_position] = steps\n",
    "    new_position = apply_reverse_instructions(new_position)\n",
    "    steps += 1\n",
    "\n",
    "print(new_position, steps) # cycle detected!\n",
    "# Unfortunately this was too optimistic,\n",
    "# given ~100 trillion positions and shuffles, cycle probably wont happen"
   ]
  },
  {
   "cell_type": "code",
   "execution_count": null,
   "metadata": {},
   "outputs": [],
   "source": [
    "# Attempt 2\n",
    "# I got a slight hint from copilot against my will that the transformation\n",
    "# is a 'linear function', but no more than that\n",
    "# After mulling it over, I realized that (reverse operations)\n",
    "# deal(n) = -n - 1\n",
    "# cut(n, N) = n + N\n",
    "# increment(n, N) = n * N^-1\n",
    "# (N^-1 can just be precomputed since we just need like 50 of them)\n",
    "\n",
    "# example: deal with increment 7, cut 2, deal with increment 9\n",
    "# would become (reversed): ((n * 9^-1) + 2) * 7^-1 = n * 9^-1 * 7^-1 + 2 * 7^-1\n",
    "# Which would always be a linear function of n, let's say A*n + B\n",
    "\n",
    "# To apply that some trillions of times, we can use 'doubling', so we calculate A, B for\n",
    "# applying it 2 times, 4 times, 8 times, etc. and then combine them to get the final result\n",
    "# To double: A(A*n + B) + B = A^2 * n + A*B + B, so A' = A^2, B' = A*B + B\n",
    "\n",
    "# Note in the explanation above I didn't put % deck_size, but we can do that anywhere pretty much\n"
   ]
  },
  {
   "cell_type": "code",
   "execution_count": 30,
   "metadata": {},
   "outputs": [],
   "source": [
    "# Let's first calculate the final A, B for one shuffle\n",
    "A, B = 1, 0\n",
    "for instruction in reversed(instructions):\n",
    "    if instruction[0] == 'deal':\n",
    "        # -n-1 so -(An+B)-1 = -An - B - 1\n",
    "        A, B = -A, -B - 1\n",
    "    elif instruction[0] == 'cut':\n",
    "        # n + N so (An+B) + N = An + B + N\n",
    "        A, B = A, B + instruction[1]\n",
    "    elif instruction[0] == 'increment':\n",
    "        # n * N^-1 so (An+B) * N^-1 = A * N^-1 * n + B * N^-1\n",
    "        inverse = pow(instruction[1], -1, deck_size)\n",
    "        A, B = A * inverse, B * inverse\n",
    "    A, B = A % deck_size, B % deck_size\n",
    "\n",
    "# Now we need to calculate A, B for 2, 4, 8, 16, ... shuffles\n",
    "shuffle_coeffs = {1: (A, B)}\n",
    "coeff = 1\n",
    "while coeff < deck_size:\n",
    "    A, B = shuffle_coeffs[coeff]\n",
    "    A, B = A * A % deck_size, (A * B + B) % deck_size\n",
    "    shuffle_coeffs[2 * coeff] = (A, B)\n",
    "    coeff *= 2\n",
    "#print(shuffle_coeffs)\n"
   ]
  },
  {
   "cell_type": "code",
   "execution_count": null,
   "metadata": {},
   "outputs": [
    {
     "name": "stdout",
     "output_type": "stream",
     "text": [
      "(17972100993572, 115832437357225)\n",
      "(17972100993572, 115832437357225)\n"
     ]
    }
   ],
   "source": [
    "# it feels like this should be commutative, but I'm not sure\n",
    "# i.e. applying 2 shuffles then 4 should be the same as applying 4 then 2\n",
    "def combine(coeff1, coeff2):\n",
    "    A1, B1 = coeff1\n",
    "    A2, B2 = coeff2\n",
    "    # Copilot suggested this whole thing of course like a bunch of other things but I double checked it :)\n",
    "    return (A1 * A2) % deck_size, (A1 * B2 + B1) % deck_size\n",
    "\n",
    "# It does indeed seem to be commutative :D no mathematical proof here though, I assume it's just true\n",
    "print(combine(shuffle_coeffs[2], shuffle_coeffs[8]))\n",
    "print(combine(shuffle_coeffs[8], shuffle_coeffs[2]))"
   ]
  },
  {
   "cell_type": "code",
   "execution_count": 33,
   "metadata": {},
   "outputs": [
    {
     "name": "stdout",
     "output_type": "stream",
     "text": [
      "77863024474406\n"
     ]
    }
   ],
   "source": [
    "import math\n",
    "\n",
    "instructions_to_apply = num_instructions\n",
    "\n",
    "final_A, final_B = 1, 0\n",
    "while instructions_to_apply > 0:\n",
    "    highest_power = 2**math.floor(math.log2(instructions_to_apply))\n",
    "    instructions_to_apply -= highest_power\n",
    "    final_A, final_B = combine((final_A, final_B), shuffle_coeffs[highest_power])\n",
    "\n",
    "print(((final_A * 2020) + final_B) % deck_size)"
   ]
  }
 ],
 "metadata": {
  "kernelspec": {
   "display_name": ".venv",
   "language": "python",
   "name": "python3"
  },
  "language_info": {
   "codemirror_mode": {
    "name": "ipython",
    "version": 3
   },
   "file_extension": ".py",
   "mimetype": "text/x-python",
   "name": "python",
   "nbconvert_exporter": "python",
   "pygments_lexer": "ipython3",
   "version": "3.10.11"
  }
 },
 "nbformat": 4,
 "nbformat_minor": 2
}
