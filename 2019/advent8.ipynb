{
 "cells": [
  {
   "cell_type": "code",
   "execution_count": 1,
   "metadata": {},
   "outputs": [],
   "source": [
    "import advent\n",
    "\n",
    "data = advent.get_lines(8)[0]\n",
    "data = [int(c) for c in data]\n",
    "\n",
    "layer_size = 25*6\n",
    "layers = [data[(i*layer_size):((i+1)*layer_size)] for i in range(len(data) // layer_size)]\n"
   ]
  },
  {
   "cell_type": "code",
   "execution_count": 2,
   "metadata": {},
   "outputs": [
    {
     "data": {
      "text/plain": [
       "2562"
      ]
     },
     "execution_count": 2,
     "metadata": {},
     "output_type": "execute_result"
    }
   ],
   "source": [
    "zeros = list(map(lambda x: sum(v == 0 for v in x), layers))\n",
    "min_ix = min(enumerate(zeros), key=lambda x: x[1])[0]\n",
    "\n",
    "sum(v == 1 for v in layers[min_ix]) * sum(v == 2 for v in layers[min_ix])"
   ]
  },
  {
   "cell_type": "code",
   "execution_count": 12,
   "metadata": {},
   "outputs": [
    {
     "name": "stdout",
     "output_type": "stream",
     "text": [
      "####.####.#....###..#...#\n",
      "...#.#....#....#..#.#...#\n",
      "..#..###..#....###...#.#.\n",
      ".#...#....#....#..#...#..\n",
      "#....#....#....#..#...#..\n",
      "####.#....####.###....#..\n"
     ]
    }
   ],
   "source": [
    "to_rect = lambda layer: [layer[(i*25):((i+1)*25)] for i in range(len(layer) // 25)]\n",
    "get_pixels = lambda ix: data[ix::layer_size]\n",
    "\n",
    "def to_single_pixel(pixel):\n",
    "    for i in pixel:\n",
    "        if i != 2: return i\n",
    "    raise ValueError(\"Only 2 in pixel\")\n",
    "\n",
    "to_char = {1: '#', 0: '.'}\n",
    "\n",
    "image = to_rect([to_char[to_single_pixel(get_pixels(ix))] for ix in range(layer_size)])\n",
    "print('\\n'.join([''.join([row for row in line]) for line in image]))"
   ]
  }
 ],
 "metadata": {
  "kernelspec": {
   "display_name": "Python 3.8.10 ('env': venv)",
   "language": "python",
   "name": "python3"
  },
  "language_info": {
   "codemirror_mode": {
    "name": "ipython",
    "version": 3
   },
   "file_extension": ".py",
   "mimetype": "text/x-python",
   "name": "python",
   "nbconvert_exporter": "python",
   "pygments_lexer": "ipython3",
   "version": "3.8.10"
  },
  "orig_nbformat": 4,
  "vscode": {
   "interpreter": {
    "hash": "a6e0e7a52ff25650311410ec676cb128052cdfc3b848542c415d170f51f09b78"
   }
  }
 },
 "nbformat": 4,
 "nbformat_minor": 2
}
