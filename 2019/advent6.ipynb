{
 "cells": [
  {
   "cell_type": "code",
   "execution_count": 5,
   "metadata": {},
   "outputs": [],
   "source": [
    "import advent\n",
    "\n",
    "data = advent.get_lines(6, map_fn = lambda x: x.split(')'))\n",
    "\n",
    "orbits = {}\n",
    "\n",
    "def safe_add(dict, key, val):\n",
    "    if key not in dict: dict[key] = []\n",
    "    dict[key] = val\n",
    "\n",
    "for line in data: safe_add(orbits, line[1], line[0])"
   ]
  },
  {
   "cell_type": "code",
   "execution_count": 6,
   "metadata": {},
   "outputs": [
    {
     "name": "stdout",
     "output_type": "stream",
     "text": [
      "273985\n"
     ]
    }
   ],
   "source": [
    "def count_orbits(dict, val):\n",
    "    if val == 'COM': return 0\n",
    "    return 1 + count_orbits(dict, dict[val])\n",
    "\n",
    "print(sum(count_orbits(orbits, val) for val in orbits))"
   ]
  },
  {
   "cell_type": "code",
   "execution_count": 17,
   "metadata": {},
   "outputs": [
    {
     "data": {
      "application/vnd.jupyter.widget-view+json": {
       "model_id": "865624b7ec8a472db55c91e1f69456c6",
       "version_major": 2,
       "version_minor": 0
      },
      "text/plain": [
       "  0%|          | 0/1 [00:00<?, ?it/s]"
      ]
     },
     "metadata": {},
     "output_type": "display_data"
    },
    {
     "name": "stdout",
     "output_type": "stream",
     "text": [
      "Final path length: 462\n",
      "460\n"
     ]
    }
   ],
   "source": [
    "from advent.maze import solve_maze\n",
    "\n",
    "def adjacent(node):\n",
    "    adj = [(orbits[node], 1)] if node != 'COM' else []\n",
    "    for k in orbits:\n",
    "        if orbits[k] == node:\n",
    "            adj.append((k, 1))\n",
    "    return adj\n",
    "\n",
    "p, _ = solve_maze('YOU', lambda x: x == 'SAN', adjacent)\n",
    "\n",
    "# The first and last steps don't count\n",
    "print(p-2)"
   ]
  }
 ],
 "metadata": {
  "kernelspec": {
   "display_name": "Python 3.8.10 ('env': venv)",
   "language": "python",
   "name": "python3"
  },
  "language_info": {
   "codemirror_mode": {
    "name": "ipython",
    "version": 3
   },
   "file_extension": ".py",
   "mimetype": "text/x-python",
   "name": "python",
   "nbconvert_exporter": "python",
   "pygments_lexer": "ipython3",
   "version": "3.8.10"
  },
  "orig_nbformat": 4,
  "vscode": {
   "interpreter": {
    "hash": "a6e0e7a52ff25650311410ec676cb128052cdfc3b848542c415d170f51f09b78"
   }
  }
 },
 "nbformat": 4,
 "nbformat_minor": 2
}
