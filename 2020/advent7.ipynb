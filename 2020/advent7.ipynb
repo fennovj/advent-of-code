{
 "cells": [
  {
   "cell_type": "code",
   "execution_count": 34,
   "metadata": {},
   "outputs": [],
   "source": [
    "import advent\n",
    "\n",
    "data = advent.get_lines(7)\n",
    "\n",
    "contains = dict(tuple(c[:-1].split('s contain ')) for c in data)"
   ]
  },
  {
   "cell_type": "code",
   "execution_count": 35,
   "metadata": {},
   "outputs": [
    {
     "data": {
      "text/plain": [
       "119"
      ]
     },
     "execution_count": 35,
     "metadata": {},
     "output_type": "execute_result"
    }
   ],
   "source": [
    "can_gold = set(['shiny gold bag'])\n",
    "\n",
    "# we want to loop over the list until the 'can_gold' doesn't change anymore\n",
    "# since one addition can cause others to become valid\n",
    "\n",
    "has_changed = True\n",
    "while has_changed:\n",
    "    has_changed = False\n",
    "    for candidate in contains:\n",
    "        if candidate in can_gold:\n",
    "            continue\n",
    "        for bag in list(can_gold):\n",
    "            if bag in contains[candidate]:\n",
    "                can_gold.add(candidate)\n",
    "                # print(f\"{candidate} is valid! Because it fits a\", bag)\n",
    "                has_changed = True\n",
    "                break\n",
    "\n",
    "len(can_gold) - 1  # shiny gold doesn't count"
   ]
  },
  {
   "cell_type": "code",
   "execution_count": 36,
   "metadata": {},
   "outputs": [
    {
     "data": {
      "text/plain": [
       "155802"
      ]
     },
     "execution_count": 36,
     "metadata": {},
     "output_type": "execute_result"
    }
   ],
   "source": [
    "def calculate_contents(bag):\n",
    "    # When parsing, assume that the numbers in the text are 0-9: always 1 digit\n",
    "    if bag.endswith('s'):\n",
    "        # parsing leftovers, 'gold bags' is the same as 'gold bag'\n",
    "        bag = bag[:-1]\n",
    "    contents = contains[bag]\n",
    "    \n",
    "    if contents == \"no other bags\":\n",
    "        return 0\n",
    "    contents = contents.split(\", \")\n",
    "    result = 0\n",
    "    for content in contents:\n",
    "        result += int(content[0]) * (calculate_contents(content[2:]) + 1)\n",
    "    return result\n",
    "\n",
    "calculate_contents(\"shiny gold bag\")"
   ]
  }
 ],
 "metadata": {
  "interpreter": {
   "hash": "5d7396d72a031e084ca8a7a10bc9e074a727d6785ddc3f255c136fb1ccc8ec02"
  },
  "kernelspec": {
   "display_name": "Python 3.8.10 64-bit ('env': venv)",
   "language": "python",
   "name": "python3"
  },
  "language_info": {
   "codemirror_mode": {
    "name": "ipython",
    "version": 3
   },
   "file_extension": ".py",
   "mimetype": "text/x-python",
   "name": "python",
   "nbconvert_exporter": "python",
   "pygments_lexer": "ipython3",
   "version": "3.8.10"
  },
  "orig_nbformat": 4
 },
 "nbformat": 4,
 "nbformat_minor": 2
}
