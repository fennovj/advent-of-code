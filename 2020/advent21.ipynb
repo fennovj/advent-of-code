{
 "cells": [
  {
   "cell_type": "code",
   "execution_count": 74,
   "metadata": {},
   "outputs": [
    {
     "name": "stdout",
     "output_type": "stream",
     "text": [
      "['fish', 'soy', 'nuts', 'sesame', 'dairy', 'wheat', 'shellfish', 'peanuts']\n"
     ]
    }
   ],
   "source": [
    "with open(\"data/advent21.txt\") as f:\n",
    "    lines = f.read().splitlines()\n",
    "\n",
    "#lines = ['mxmxvkd kfcds sqjhc nhms (contains dairy, fish)', 'trh fvjkl sbzzf mxmxvkd (contains dairy)', 'sqjhc fvjkl (contains soy)', 'sqjhc mxmxvkd sbzzf (contains fish)']\n",
    "\n",
    "# Parse input\n",
    "ingredients, allergens = [], []\n",
    "for line in lines:\n",
    "    parsed = line[:-1].split(' (contains ')\n",
    "    ingredients.append(parsed[0].split(' '))\n",
    "    allergens.append(parsed[1].split(', '))\n",
    "\n",
    "all_ingredients = list(set([i for sublist in ingredients for i in sublist]))\n",
    "all_allergens = list(set([i for sublist in allergens for i in sublist]))\n",
    "num_rules = len(ingredients)\n",
    "print(all_allergens)"
   ]
  },
  {
   "cell_type": "code",
   "execution_count": 75,
   "metadata": {},
   "outputs": [
    {
     "name": "stdout",
     "output_type": "stream",
     "text": [
      "zsfzq {'fish', 'soy', 'nuts', 'sesame', 'dairy', 'wheat', 'peanuts'}\n",
      "mdtvbb {'soy', 'nuts', 'sesame', 'dairy', 'peanuts'}\n",
      "zfcqk {'fish', 'soy', 'nuts', 'sesame', 'wheat', 'peanuts'}\n",
      "kktsjbh {'fish', 'soy', 'nuts', 'sesame', 'shellfish', 'peanuts'}\n",
      "kdqls {'dairy', 'nuts', 'shellfish'}\n",
      "frpvd {'fish', 'soy', 'sesame', 'dairy', 'wheat'}\n",
      "mgczn {'fish', 'soy', 'nuts', 'dairy', 'wheat', 'peanuts'}\n",
      "ggdbl {'fish', 'soy', 'dairy', 'wheat', 'shellfish', 'peanuts'}\n"
     ]
    },
    {
     "data": {
      "text/plain": [
       "2075"
      ]
     },
     "execution_count": 75,
     "metadata": {},
     "output_type": "execute_result"
    }
   ],
   "source": [
    "# Part 1\n",
    "# For each ingredient, we try to logically eliminate each allergen\n",
    "# If we can eliminate every allergen, we are done. If not, then we keep it as a possible allergen\n",
    "# The basic rule for eliminating a single allergen is: if an ingredient does not appear in a rule with that allergen,\n",
    "#    then that ingredient cannot be that allergen\n",
    "\n",
    "# We also keep a list of all the not-eliminated ingredients, since those will be needed in part 2\n",
    "\n",
    "cannot_be_allergen = []\n",
    "has_allergen, has_eliminated = [], []\n",
    "\n",
    "for ingredient in all_ingredients:\n",
    "    eliminated = set([])\n",
    "    for allergen in all_allergens:\n",
    "        for ix in range(num_rules):\n",
    "            if ingredient not in ingredients[ix] and allergen in allergens[ix]:\n",
    "                eliminated.add(allergen)\n",
    "    if len(eliminated) == len(all_allergens):  # all allergens were eliminated\n",
    "        cannot_be_allergen.append(ingredient)\n",
    "    else:\n",
    "        print(ingredient, eliminated)\n",
    "        has_allergen.append(ingredient)\n",
    "        has_eliminated.append(eliminated)\n",
    "\n",
    "# Count the occurences\n",
    "sum(sum(i in cannot_be_allergen for i in ingredient) for ingredient in ingredients)\n",
    "\n"
   ]
  },
  {
   "cell_type": "code",
   "execution_count": 76,
   "metadata": {},
   "outputs": [
    {
     "data": {
      "text/plain": [
       "{'zsfzq': 'shellfish',\n",
       " 'zfcqk': 'dairy',\n",
       " 'kktsjbh': 'wheat',\n",
       " 'mdtvbb': 'fish',\n",
       " 'mgczn': 'sesame',\n",
       " 'ggdbl': 'nuts',\n",
       " 'frpvd': 'peanuts',\n",
       " 'kdqls': 'soy'}"
      ]
     },
     "execution_count": 76,
     "metadata": {},
     "output_type": "execute_result"
    }
   ],
   "source": [
    "found = {}\n",
    "unidentified_allergens = set(all_allergens.copy())\n",
    "\n",
    "while len(found) < len(all_allergens):\n",
    "    # The basic rule for identifying an allergen is: if there are n allergens, and an ingredient has n-1 eliminated allergens,\n",
    "    # Then that ingredient must be the last allergen, so identify it and remove it from all the other eliminated lists, and repeat\n",
    "    for ingredient, eliminated in zip(has_allergen, has_eliminated):\n",
    "\n",
    "        if len(unidentified_allergens) == len(eliminated) + 1:\n",
    "            # Got one!\n",
    "            identified = list(unidentified_allergens - eliminated)[0]\n",
    "            found[ingredient] = identified\n",
    "            unidentified_allergens.remove(identified)\n",
    "            for e in has_eliminated:\n",
    "                if identified in e:\n",
    "                    e.remove(identified)\n",
    "            break\n",
    "found"
   ]
  },
  {
   "cell_type": "code",
   "execution_count": 77,
   "metadata": {},
   "outputs": [
    {
     "data": {
      "text/plain": [
       "'zfcqk,mdtvbb,ggdbl,frpvd,mgczn,zsfzq,kdqls,kktsjbh'"
      ]
     },
     "execution_count": 77,
     "metadata": {},
     "output_type": "execute_result"
    }
   ],
   "source": [
    "','.join(sorted(found.keys(), key=lambda k: found[k]))"
   ]
  },
  {
   "cell_type": "code",
   "execution_count": null,
   "metadata": {},
   "outputs": [],
   "source": []
  }
 ],
 "metadata": {
  "interpreter": {
   "hash": "5d7396d72a031e084ca8a7a10bc9e074a727d6785ddc3f255c136fb1ccc8ec02"
  },
  "kernelspec": {
   "display_name": "Python 3.8.10 64-bit ('env': venv)",
   "language": "python",
   "name": "python3"
  },
  "language_info": {
   "codemirror_mode": {
    "name": "ipython",
    "version": 3
   },
   "file_extension": ".py",
   "mimetype": "text/x-python",
   "name": "python",
   "nbconvert_exporter": "python",
   "pygments_lexer": "ipython3",
   "version": "3.8.10"
  },
  "orig_nbformat": 4
 },
 "nbformat": 4,
 "nbformat_minor": 2
}
