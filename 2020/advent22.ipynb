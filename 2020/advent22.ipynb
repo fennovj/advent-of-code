{
 "cells": [
  {
   "cell_type": "code",
   "execution_count": 48,
   "metadata": {},
   "outputs": [],
   "source": [
    "with open(\"data/advent22.txt\") as f:\n",
    "    data = f.read()\n",
    "\n",
    "data = data.split(\"\\n\\nPlayer 2:\\n\")\n",
    "deck1 = [int(i) for i in data[0][10:].split(\"\\n\")] # 10 is for removing the 'Player 1: ' substring\n",
    "deck2 = [int(i) for i in data[1][:-1].split(\"\\n\")]\n",
    "\n",
    "deck_size = len(deck1) + len(deck2)"
   ]
  },
  {
   "cell_type": "code",
   "execution_count": 22,
   "metadata": {},
   "outputs": [
    {
     "name": "stdout",
     "output_type": "stream",
     "text": [
      "33680\n"
     ]
    }
   ],
   "source": [
    "def calculate_score(deck):\n",
    "    return sum(i * j for i, j in zip(deck, range(deck_size, 0, -1)))\n",
    "\n",
    "def turn(deck1, deck2):\n",
    "    val1, val2 = deck1.pop(0), deck2.pop(0)\n",
    "    if val1 > val2:\n",
    "        deck1.append(val1)\n",
    "        deck1.append(val2)\n",
    "    else:\n",
    "        deck2.append(val2)\n",
    "        deck2.append(val1)\n",
    "    return deck1, deck2\n",
    "\n",
    "while len(deck1) not in [0, deck_size]:\n",
    "    #print(deck1, deck2)\n",
    "    deck1, deck2 = turn(deck1, deck2)\n",
    "\n",
    "winning_deck = deck1 if len(deck1) == deck_size else deck2\n",
    "print(calculate_score(winning_deck))\n"
   ]
  },
  {
   "cell_type": "code",
   "execution_count": 49,
   "metadata": {},
   "outputs": [
    {
     "name": "stdout",
     "output_type": "stream",
     "text": [
      "33683\n"
     ]
    }
   ],
   "source": [
    "def turn(deck1, deck2, max_turn_count):\n",
    "    val1, val2 = deck1.pop(0), deck2.pop(0)\n",
    "\n",
    "    #print(val1, len(deck1), val2, len(deck2))\n",
    "\n",
    "    if val1 <= len(deck1) and val2 <= len(deck2):\n",
    "        p1_win, _ = find_winner(deck1[:val1].copy(), deck2[:val2].copy(), max_turn_count)\n",
    "    else:\n",
    "        p1_win = val1 > val2\n",
    "\n",
    "    if p1_win:\n",
    "        deck1.append(val1)\n",
    "        deck1.append(val2)\n",
    "    else:\n",
    "        deck2.append(val2)\n",
    "        deck2.append(val1)\n",
    "    return deck1, deck2\n",
    "\n",
    "def find_winner(deck1, deck2, max_turn_count):\n",
    "    # Return true if player 1 wins, False if player 2 wins\n",
    "    # If the turn count reached its limit, player 1 also wins\n",
    "    turn_count = 0\n",
    "    while len(deck1) != 0 and len(deck2) != 0 and turn_count < max_turn_count:\n",
    "        turn_count += 1\n",
    "        # if turn_count % 1000 == 0:\n",
    "            # print(\"Simulation at turn {}... Deck size {}\".format(turn_count, len(deck1 + deck2)))\n",
    "        deck1, deck2 = turn(deck1, deck2, max_turn_count)\n",
    "    \n",
    "    p1_won = len(deck2) == 0 or turn_count == max_turn_count\n",
    "    return p1_won, deck1 if p1_won else deck2\n",
    "\n",
    "# We 'detect infinite loops' by just stopping after a certain number of turns and declaring player 1 the winner\n",
    "# 1000 is a bit of a shot in the dark, but gives the correct answer and it terminates in a few seconds\n",
    "# at 10000, it didn't terminate for me in under a minute, with 1000 in terminates in 2 seconds\n",
    "_, winning_deck = find_winner(deck1, deck2, max_turn_count=1000)\n",
    "print(calculate_score(winning_deck))"
   ]
  }
 ],
 "metadata": {
  "interpreter": {
   "hash": "5d7396d72a031e084ca8a7a10bc9e074a727d6785ddc3f255c136fb1ccc8ec02"
  },
  "kernelspec": {
   "display_name": "Python 3.8.10 64-bit ('env': venv)",
   "language": "python",
   "name": "python3"
  },
  "language_info": {
   "codemirror_mode": {
    "name": "ipython",
    "version": 3
   },
   "file_extension": ".py",
   "mimetype": "text/x-python",
   "name": "python",
   "nbconvert_exporter": "python",
   "pygments_lexer": "ipython3",
   "version": "3.8.10"
  },
  "orig_nbformat": 4
 },
 "nbformat": 4,
 "nbformat_minor": 2
}
