{
 "cells": [
  {
   "cell_type": "code",
   "execution_count": 2,
   "metadata": {},
   "outputs": [
    {
     "data": {
      "text/plain": [
       "13632"
      ]
     },
     "execution_count": 2,
     "metadata": {},
     "output_type": "execute_result"
    }
   ],
   "source": [
    "import re  # Just for checking if a string is an integer\n",
    "import functools  # for product of list\n",
    "\n",
    "test = \"((2 + 4 * 9) * (6 + 9 * 8 + 6) + 6) + 2 + 4 * 2\"\n",
    "\n",
    "# Language definition of line:\n",
    "# LINE =\n",
    "#   INT |\n",
    "#   (LINE) | \n",
    "#   LINE */+ LINE */+ ... */+ LINE\n",
    "\n",
    "# This isn't  exactly correct... e.g. ((((3)) + (4))) will never appear but it does fit this language\n",
    "# But that just means our language is broader which is fine\n",
    "\n",
    "\n",
    "def matched_parentheses(line):\n",
    "    # Maybe this could be done in regex?\n",
    "    # We want to match (xxx) but not (xx) + (xx). So just looking at first/last char doesn't work\n",
    "    if line[0] != '(' or line[-1] != ')':\n",
    "        return False\n",
    "    parentheses_level = 1\n",
    "    for ix, c in enumerate(line[1:]):\n",
    "        if c == '(':\n",
    "            parentheses_level += 1\n",
    "        elif c == ')':\n",
    "            parentheses_level -= 1\n",
    "        if parentheses_level == 0:\n",
    "            return ix == len(line) -2  # double off-by-one :)\n",
    "\n",
    "def split_lines(line):\n",
    "    # Split LINE */+ LINE */+ LINE into [LINE, +/*, LINE, +/*, LINE]\n",
    "    # simple splitting by */+ doesn't work because LINE could also contain */+\n",
    "    # Could also maybe be done with regex but oh well\n",
    "    result = []\n",
    "    par_lvl = 0\n",
    "    acc = ''\n",
    "    for c in line:\n",
    "        if c == '(':\n",
    "            par_lvl += 1\n",
    "            acc += c\n",
    "        elif c == ')':\n",
    "            par_lvl -= 1\n",
    "            acc += c\n",
    "        elif c == ' ' and par_lvl == 0:\n",
    "            result.append(acc)\n",
    "            acc = ''\n",
    "        else:\n",
    "            acc += c\n",
    "    result.append(acc)\n",
    "    return result\n",
    "\n",
    "def apply_op(left, op, right):\n",
    "    if op == '+':\n",
    "        return left + right\n",
    "    elif op == '*':\n",
    "        return left * right\n",
    "    raise ValueError(\"Op is {}, it should be + or *\".format(op))\n",
    "\n",
    "def parse(line):\n",
    "    if re.match('^\\d+$', line):\n",
    "        return int(line)\n",
    "    elif matched_parentheses(line):\n",
    "        return parse(line[1:-1])\n",
    "    else:\n",
    "        split = split_lines(line)\n",
    "        acc = parse(split[0])\n",
    "        # convert list like ['3', '+', '4', '*', '2'] to 14\n",
    "        for ix in range(len(split) // 2):\n",
    "            acc = apply_op(acc, split[(2*ix)+1], parse(split[(2*ix)+2]))\n",
    "        return acc\n",
    "\n",
    "\n",
    "parse(test)  # Should be 13632"
   ]
  },
  {
   "cell_type": "code",
   "execution_count": 3,
   "metadata": {},
   "outputs": [
    {
     "data": {
      "text/plain": [
       "800602729153"
      ]
     },
     "execution_count": 3,
     "metadata": {},
     "output_type": "execute_result"
    }
   ],
   "source": [
    "with open('data/advent18.txt', 'r') as f:\n",
    "    data = f.read().splitlines()\n",
    "\n",
    "sum(map(parse, data))"
   ]
  },
  {
   "cell_type": "code",
   "execution_count": 4,
   "metadata": {},
   "outputs": [
    {
     "data": {
      "text/plain": [
       "23340"
      ]
     },
     "execution_count": 4,
     "metadata": {},
     "output_type": "execute_result"
    }
   ],
   "source": [
    "# Part 2:\n",
    "\n",
    "def parse_2(line):\n",
    "    if re.match('^\\d+$', line):\n",
    "        return int(line)\n",
    "    elif matched_parentheses(line):\n",
    "        return parse_2(line[1:-1])\n",
    "    else:\n",
    "        split = split_lines(line)\n",
    "        # We are going to see if there are any '+' at the top level.\n",
    "        # If so, wrap it in () so it gets precedence\n",
    "        # Special case: len(split) == 3, so we don't infinitely keep wrapping the same thing\n",
    "        if len(split) == 3:\n",
    "            return apply_op(parse_2(split[0]), split[1], parse_2(split[2]))\n",
    "        elif all(op == '*' for op in split[1:-1:2]):\n",
    "            lines = [parse_2(l) for l in split[0::2]]\n",
    "            return functools.reduce(lambda x, y: x*y, lines, 1)\n",
    "        else:\n",
    "            plus = split.index('+')  # only returns the first occurence which is what we want\n",
    "            combined = \"({} + {})\".format(split[plus-1], split[plus+1])\n",
    "            # now we have combined it, just recurse lol\n",
    "            combined = ' '.join(split[:plus-1] + [combined] + split[plus+2:])\n",
    "            return parse_2(combined)\n",
    "\n",
    "parse_2(test)  # Should be 23340"
   ]
  },
  {
   "cell_type": "code",
   "execution_count": 5,
   "metadata": {},
   "outputs": [
    {
     "data": {
      "text/plain": [
       "92173009047076"
      ]
     },
     "execution_count": 5,
     "metadata": {},
     "output_type": "execute_result"
    }
   ],
   "source": [
    "sum(map(parse_2, data))"
   ]
  }
 ],
 "metadata": {
  "interpreter": {
   "hash": "5d7396d72a031e084ca8a7a10bc9e074a727d6785ddc3f255c136fb1ccc8ec02"
  },
  "kernelspec": {
   "display_name": "Python 3.8.10 64-bit ('env': venv)",
   "language": "python",
   "name": "python3"
  },
  "language_info": {
   "codemirror_mode": {
    "name": "ipython",
    "version": 3
   },
   "file_extension": ".py",
   "mimetype": "text/x-python",
   "name": "python",
   "nbconvert_exporter": "python",
   "pygments_lexer": "ipython3",
   "version": "3.8.10"
  },
  "orig_nbformat": 4
 },
 "nbformat": 4,
 "nbformat_minor": 2
}
