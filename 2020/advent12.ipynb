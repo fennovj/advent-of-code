{
 "cells": [
  {
   "cell_type": "code",
   "execution_count": 1,
   "metadata": {},
   "outputs": [],
   "source": [
    "import advent\n",
    "\n",
    "data = advent.get_lines(12)"
   ]
  },
  {
   "cell_type": "code",
   "execution_count": 2,
   "metadata": {},
   "outputs": [
    {
     "name": "stdout",
     "output_type": "stream",
     "text": [
      "(-1811, -1068) 2879\n"
     ]
    }
   ],
   "source": [
    "\n",
    "rot = {'E': (1, 0), 'S': (0, 1), 'W': (-1, 0), 'N': (0, -1)}\n",
    "rot_right = {'E': 'S', 'S': 'W', 'W': 'N', 'N': 'E'}\n",
    "rot_left = {'E': 'N', 'S': 'E', 'W': 'S', 'N': 'W'}\n",
    "\n",
    "def add(x, y, mul):  # Tuple add\n",
    "    return (x[0] + mul*y[0], x[1] + mul*y[1])\n",
    "\n",
    "def rotate(current, direction, degree):\n",
    "    if degree == 0:\n",
    "        return current\n",
    "    elif direction == 'L':\n",
    "        return rotate(rot_left[current], direction, degree-90)\n",
    "    elif direction == 'R':\n",
    "        return rotate(rot_right[current], direction, degree-90)\n",
    "    raise ValueError(\"!\")\n",
    "\n",
    "pos = (0, 0)\n",
    "rotation = 'E'\n",
    "\n",
    "for line in data:\n",
    "    c = line[0]\n",
    "    num = int(line[1:])\n",
    "    if c in 'ESWN':\n",
    "        pos = add(pos, rot[c], num)\n",
    "    elif c in 'LR':\n",
    "        rotation = rotate(rotation, c, num)\n",
    "    elif c == 'F':\n",
    "        pos = add(pos, rot[rotation], num)\n",
    "    else:\n",
    "        raise ValueError(\"{} is not allowed\".format(c))\n",
    "\n",
    "print(pos, abs(pos[0]) + abs(pos[1]))"
   ]
  },
  {
   "cell_type": "code",
   "execution_count": 3,
   "metadata": {},
   "outputs": [
    {
     "name": "stdout",
     "output_type": "stream",
     "text": [
      "(47061, -131925) 178986\n"
     ]
    }
   ],
   "source": [
    "import math\n",
    "\n",
    "pos = (0, 0)\n",
    "waypoint = (10, -1)\n",
    "\n",
    "def rotate_around0(waypoint, direction, degree):\n",
    "    if degree == 0:\n",
    "        return waypoint\n",
    "    elif direction == 'L':\n",
    "        # +x,+y becomes +y,-x, +x,-y becomes -y,-x\n",
    "        # -x,-y becomes -y,+x, -x,+y becomes +y,+x\n",
    "        new_waypoint = (waypoint[1], -1*waypoint[0])\n",
    "        return rotate_around0(new_waypoint, direction, degree -90)\n",
    "    elif direction == 'R':\n",
    "        # +x, +y becomes -y, +x, -x,+y becomes -y, -x\n",
    "        # -x, -y becomes +y, -x, +x,-y becomes +y, +x \n",
    "        new_waypoint = (-1*waypoint[1], waypoint[0])\n",
    "        return rotate_around0(new_waypoint, direction, degree -90)\n",
    "\n",
    "\n",
    "for line in data:\n",
    "    c = line[0]\n",
    "    num = int(line[1:])\n",
    "    #print(pos, waypoint, 'Next:', c, num)\n",
    "    if c in 'ESWN':\n",
    "        waypoint = add(waypoint, rot[c], num)\n",
    "    elif c in 'LR':\n",
    "        waypoint = rotate_around0(waypoint, c, num)\n",
    "    elif c == 'F':\n",
    "        pos = add(pos, waypoint, num)\n",
    "    else:\n",
    "        raise ValueError(\"{} is not allowed\".format(c))\n",
    "\n",
    "print(pos, abs(pos[0]) + abs(pos[1]))\n"
   ]
  }
 ],
 "metadata": {
  "interpreter": {
   "hash": "5d7396d72a031e084ca8a7a10bc9e074a727d6785ddc3f255c136fb1ccc8ec02"
  },
  "kernelspec": {
   "display_name": "Python 3.8.10 64-bit ('env': venv)",
   "language": "python",
   "name": "python3"
  },
  "language_info": {
   "codemirror_mode": {
    "name": "ipython",
    "version": 3
   },
   "file_extension": ".py",
   "mimetype": "text/x-python",
   "name": "python",
   "nbconvert_exporter": "python",
   "pygments_lexer": "ipython3",
   "version": "3.8.10"
  },
  "orig_nbformat": 4
 },
 "nbformat": 4,
 "nbformat_minor": 2
}
