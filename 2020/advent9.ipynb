{
 "cells": [
  {
   "cell_type": "code",
   "execution_count": 69,
   "metadata": {},
   "outputs": [],
   "source": [
    "import advent\n",
    "import pandas as pd\n",
    "\n",
    "data = pd.Series(advent.get_lines(9, map_fn=int))"
   ]
  },
  {
   "cell_type": "code",
   "execution_count": 70,
   "metadata": {},
   "outputs": [
    {
     "name": "stdout",
     "output_type": "stream",
     "text": [
      "1309761972\n"
     ]
    }
   ],
   "source": [
    "def is_sum(series):\n",
    "    # Replace the half with a value that will never sum (last value + 1)\n",
    "    # Because we don't want to count the sum\n",
    "    # ! This will fail if the half actually appears twice !\n",
    "    series = series.replace(series.iloc[-1] / 2, series.iloc[-1] + 1)\n",
    "    return len(set(series.iloc[-1] - series).intersection(set(series)))\n",
    "\n",
    "\n",
    "value = data[(data.rolling(26).apply(is_sum) == 0).to_numpy().nonzero()[0][0]]\n",
    "print(value)"
   ]
  },
  {
   "cell_type": "code",
   "execution_count": 78,
   "metadata": {},
   "outputs": [
    {
     "name": "stdout",
     "output_type": "stream",
     "text": [
      "17\n",
      "177989832\n"
     ]
    }
   ],
   "source": [
    "for i in range(2, 1000):\n",
    "    if (data.rolling(i).sum() == value).max():\n",
    "        print(i)\n",
    "        sum_ix = (data.rolling(i).sum() == value).idxmax()\n",
    "        break\n",
    "\n",
    "numbers = data[(sum_ix-i+1):(sum_ix+1)]\n",
    "print(numbers.max() + numbers.min())"
   ]
  }
 ],
 "metadata": {
  "interpreter": {
   "hash": "5d7396d72a031e084ca8a7a10bc9e074a727d6785ddc3f255c136fb1ccc8ec02"
  },
  "kernelspec": {
   "display_name": "Python 3.8.10 64-bit ('env': venv)",
   "language": "python",
   "name": "python3"
  },
  "language_info": {
   "codemirror_mode": {
    "name": "ipython",
    "version": 3
   },
   "file_extension": ".py",
   "mimetype": "text/x-python",
   "name": "python",
   "nbconvert_exporter": "python",
   "pygments_lexer": "ipython3",
   "version": "3.8.10"
  },
  "orig_nbformat": 4
 },
 "nbformat": 4,
 "nbformat_minor": 2
}
