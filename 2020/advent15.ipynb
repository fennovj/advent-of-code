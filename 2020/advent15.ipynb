{
 "cells": [
  {
   "cell_type": "code",
   "execution_count": 1,
   "metadata": {},
   "outputs": [],
   "source": [
    "input = \"19,0,5,1,10,13\"\n",
    "input = [int(i) for i in input.split(\",\")]"
   ]
  },
  {
   "cell_type": "code",
   "execution_count": 2,
   "metadata": {},
   "outputs": [
    {
     "name": "stdout",
     "output_type": "stream",
     "text": [
      "1015\n"
     ]
    }
   ],
   "source": [
    "def step(numbers):\n",
    "    last = numbers[-1]\n",
    "    occurences = [ix for ix, num in enumerate(numbers) if num == last]\n",
    "    if len(occurences) == 1:\n",
    "        # First time it's been said\n",
    "        numbers.append(0)\n",
    "    else:\n",
    "        last_time = occurences[-2]\n",
    "        numbers.append(len(numbers) - last_time - 1)\n",
    "    return numbers\n",
    "\n",
    "def step_n(numbers, n=1):\n",
    "    if n == 1:\n",
    "        return step(numbers)\n",
    "    else:\n",
    "        return step_n(step(numbers), n-1)\n",
    "\n",
    "\n",
    "numbers = input.copy()\n",
    "result = step_n(numbers, 2020)\n",
    "print(result[2019])"
   ]
  },
  {
   "cell_type": "code",
   "execution_count": 3,
   "metadata": {},
   "outputs": [
    {
     "data": {
      "text/plain": [
       "[0, 0, 1, 0, 2, 0, 2, 2, 1, 6, 0]"
      ]
     },
     "execution_count": 3,
     "metadata": {},
     "output_type": "execute_result"
    }
   ],
   "source": [
    "# By entering this into OEIS, we find out it's 'Van Eck's sequence'. Below is E(0)(i) for i from 1 to 10\n",
    "# In particular, we are looking for E(19,0,5,1,10,13)(30000000)\n",
    "# Unfortunately, it doesn't contain a nice closed form on OEIS, so we have to find a better method\n",
    "step_n([0], 10)"
   ]
  },
  {
   "cell_type": "code",
   "execution_count": 6,
   "metadata": {},
   "outputs": [
    {
     "data": {
      "application/vnd.jupyter.widget-view+json": {
       "model_id": "5a918908d7784a468f79cc6d54784358",
       "version_major": 2,
       "version_minor": 0
      },
      "text/plain": [
       "  0%|          | 0/29999994 [00:00<?, ?it/s]"
      ]
     },
     "metadata": {},
     "output_type": "display_data"
    },
    {
     "data": {
      "text/plain": [
       "201.0"
      ]
     },
     "execution_count": 6,
     "metadata": {},
     "output_type": "execute_result"
    }
   ],
   "source": [
    "# Idea: instead of scanning the array every notation, keep a dictionary with the most recent entry.\n",
    "# Also use numpy to hold the array of size 3e7\n",
    "import numpy as np\n",
    "from tqdm.notebook import trange\n",
    "\n",
    "#input = [0, 3, 6]\n",
    "desired_step = int(3e7)\n",
    "\n",
    "numbers = np.zeros(desired_step)\n",
    "numbers[:len(input)] = input\n",
    "\n",
    "# Python uses hashmaps, which makes the 'number not in most_recent' calls quick enough\n",
    "most_recent = {n: i for i, n in enumerate(input[:-1])}\n",
    "last_number = input[-1]\n",
    "\n",
    "\n",
    "for ix in trange(len(input), desired_step):\n",
    "    if last_number not in most_recent:\n",
    "        #print(\"Unseen\", last_number)\n",
    "        numbers[ix] = 0\n",
    "    else:\n",
    "        #print(\"Seen\", last_number, \"at\", numbers[ix], \"result\", ix - most_recent[last_number] - 1)\n",
    "        numbers[ix] = ix - most_recent[last_number] - 1\n",
    "    most_recent[last_number] = ix - 1\n",
    "    last_number = numbers[ix]\n",
    "\n",
    "\n",
    "numbers[-1]  # About 1 million iterations per second, 30 seconds in total!"
   ]
  },
  {
   "cell_type": "code",
   "execution_count": null,
   "metadata": {},
   "outputs": [],
   "source": []
  }
 ],
 "metadata": {
  "interpreter": {
   "hash": "5d7396d72a031e084ca8a7a10bc9e074a727d6785ddc3f255c136fb1ccc8ec02"
  },
  "kernelspec": {
   "display_name": "Python 3.8.10 64-bit ('env': venv)",
   "language": "python",
   "name": "python3"
  },
  "language_info": {
   "codemirror_mode": {
    "name": "ipython",
    "version": 3
   },
   "file_extension": ".py",
   "mimetype": "text/x-python",
   "name": "python",
   "nbconvert_exporter": "python",
   "pygments_lexer": "ipython3",
   "version": "3.8.10"
  },
  "orig_nbformat": 4
 },
 "nbformat": 4,
 "nbformat_minor": 2
}
