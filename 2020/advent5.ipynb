{
 "cells": [
  {
   "cell_type": "code",
   "execution_count": 19,
   "metadata": {},
   "outputs": [],
   "source": [
    "import advent\n",
    "\n",
    "data = advent.get_lines(5)"
   ]
  },
  {
   "cell_type": "code",
   "execution_count": 23,
   "metadata": {},
   "outputs": [
    {
     "data": {
      "text/plain": [
       "832"
      ]
     },
     "execution_count": 23,
     "metadata": {},
     "output_type": "execute_result"
    }
   ],
   "source": [
    "#FBFBBFFRLR\n",
    "\n",
    "def to_number(text):\n",
    "    text = text.replace(\"F\", \"0\").replace(\"B\", \"1\").replace(\"L\", \"0\").replace(\"R\", \"1\")\n",
    "    return int(text, 2)\n",
    "\n",
    "max(map(lambda x: 8*to_number(x[:7]) + to_number(x[7:]), data))"
   ]
  },
  {
   "cell_type": "code",
   "execution_count": 25,
   "metadata": {},
   "outputs": [
    {
     "name": "stdout",
     "output_type": "stream",
     "text": [
      "517\n"
     ]
    }
   ],
   "source": [
    "# If a set is (row, col) We know:\n",
    "# The col must be from 1 to 6 (not 0 or 7)\n",
    "# It must not be in the list\n",
    "\n",
    "seats = set(map(lambda x: (to_number(x[:7]), to_number(x[7:])), data))\n",
    "\n",
    "for row in range(127):\n",
    "    for col in range(8):\n",
    "        if (row, col) in seats:\n",
    "            continue  # Someone is already sitting there\n",
    "        if (row, col+1) not in seats or (row, col-1) not in seats:\n",
    "            continue  # This seat is at the front/back\n",
    "        print(8*row + col) # We got it!\n"
   ]
  }
 ],
 "metadata": {
  "interpreter": {
   "hash": "5d7396d72a031e084ca8a7a10bc9e074a727d6785ddc3f255c136fb1ccc8ec02"
  },
  "kernelspec": {
   "display_name": "Python 3.8.10 64-bit ('env': venv)",
   "language": "python",
   "name": "python3"
  },
  "language_info": {
   "codemirror_mode": {
    "name": "ipython",
    "version": 3
   },
   "file_extension": ".py",
   "mimetype": "text/x-python",
   "name": "python",
   "nbconvert_exporter": "python",
   "pygments_lexer": "ipython3",
   "version": "3.8.10"
  },
  "orig_nbformat": 4
 },
 "nbformat": 4,
 "nbformat_minor": 2
}
