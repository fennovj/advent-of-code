{
 "cells": [
  {
   "cell_type": "code",
   "execution_count": 1,
   "metadata": {},
   "outputs": [],
   "source": [
    "import advent\n",
    "import numpy as np\n",
    "\n",
    "data = sorted(advent.get_lines(10, map_fn=int))"
   ]
  },
  {
   "cell_type": "code",
   "execution_count": 2,
   "metadata": {},
   "outputs": [
    {
     "data": {
      "text/plain": [
       "1755"
      ]
     },
     "execution_count": 2,
     "metadata": {},
     "output_type": "execute_result"
    }
   ],
   "source": [
    "# Part 1\n",
    "assert 1 in data  # assumption, see comment below\n",
    "# both are plus one: 1 for the initial 0 to 1 connect, 1 for the final +3 (your bag) connect\n",
    "(1 + np.sum(np.diff(data) == 3 )) * (1 + np.sum(np.diff(data) == 1))"
   ]
  },
  {
   "cell_type": "code",
   "execution_count": 4,
   "metadata": {},
   "outputs": [
    {
     "data": {
      "text/plain": [
       "4049565169664"
      ]
     },
     "execution_count": 4,
     "metadata": {},
     "output_type": "execute_result"
    }
   ],
   "source": [
    "# Problem!!! Exponential blowup!!!\n",
    "# Solution: the most straightforward: keep a dictionary of subresults\n",
    "\n",
    "def count_possibilities(difflist, so_far, subresults):\n",
    "    # so_far is the amount we have already popped. Basically, if this is 3, we cannot pop 1 anymore\n",
    "    if (difflist, so_far) in subresults:\n",
    "        return subresults[(difflist, so_far)]  # We already calculated the answer\n",
    "    elif len(difflist) == 0:\n",
    "        # This is valid only if we weren't in the middle of a skip (which would be invalid)\n",
    "        return 1 if so_far == 0 else 0\n",
    "    elif (3 - so_far) < difflist[0]:\n",
    "        # Basically, we attempted to skip too far and got stuck.\n",
    "        return 0\n",
    "    elif (3 - so_far) == difflist[0]:\n",
    "        # We have to take the jump\n",
    "        return count_possibilities(difflist[1:], 0, subresults)\n",
    "\n",
    "    # Now we have a choice: we can either jump or skip the next one\n",
    "    # Also save the result to prevent exponential blowup\n",
    "    subresults[(difflist, so_far)] = \\\n",
    "        count_possibilities(difflist[1:], 0, subresults) + \\\n",
    "        count_possibilities(difflist[1:], so_far+difflist[0], subresults)\n",
    "    return subresults[(difflist, so_far)]\n",
    "\n",
    "diffs = tuple([1] + list(np.diff(data)) + [3])  # make it hashable\n",
    "count_possibilities(diffs, 0, {})"
   ]
  },
  {
   "cell_type": "code",
   "execution_count": null,
   "metadata": {},
   "outputs": [],
   "source": []
  }
 ],
 "metadata": {
  "interpreter": {
   "hash": "5d7396d72a031e084ca8a7a10bc9e074a727d6785ddc3f255c136fb1ccc8ec02"
  },
  "kernelspec": {
   "display_name": "Python 3.8.10 64-bit ('env': venv)",
   "language": "python",
   "name": "python3"
  },
  "language_info": {
   "codemirror_mode": {
    "name": "ipython",
    "version": 3
   },
   "file_extension": ".py",
   "mimetype": "text/x-python",
   "name": "python",
   "nbconvert_exporter": "python",
   "pygments_lexer": "ipython3",
   "version": "3.8.10"
  },
  "orig_nbformat": 4
 },
 "nbformat": 4,
 "nbformat_minor": 2
}
