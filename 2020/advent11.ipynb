{
 "cells": [
  {
   "cell_type": "code",
   "execution_count": 47,
   "metadata": {},
   "outputs": [],
   "source": [
    "import advent\n",
    "from scipy.ndimage.filters import generic_filter\n",
    "import numpy as np\n",
    "\n",
    "data = advent.get_char_grid(11)\n",
    "# Mapping: 0 = '.', 1 = 'L', -1 = '#'\n",
    "smap = {'.': 0, 'L': 1, '#': 2}\n",
    "data = np.array([[smap[c] for c in line] for line in data])"
   ]
  },
  {
   "cell_type": "code",
   "execution_count": 48,
   "metadata": {},
   "outputs": [
    {
     "data": {
      "text/plain": [
       "(2310, 101)"
      ]
     },
     "execution_count": 48,
     "metadata": {},
     "output_type": "execute_result"
    }
   ],
   "source": [
    "def apply(patch):\n",
    "    # Given a flattened 3x3 grid, return what the center seat should become\n",
    "    midx = len(patch) // 2\n",
    "    if patch[midx] == smap['.']:\n",
    "        return smap['.']\n",
    "    elif patch[midx] == smap['L']:\n",
    "        return smap['L'] if np.any(patch == smap['#']) else smap['#']\n",
    "    elif patch[midx] == smap['#']:\n",
    "        return smap['L'] if np.count_nonzero(patch == smap['#']) > 4 else smap['#']\n",
    "    raise ValueError(\"Center of patch is {}\".format(patch[midx]))\n",
    "\n",
    "new_board = data.copy()\n",
    "board = 0\n",
    "turn_count = 0 \n",
    "while not np.all(board == new_board):\n",
    "    board = new_board\n",
    "    new_board = generic_filter(new_board, apply, size=3, mode='constant', cval=0)\n",
    "    turn_count += 1\n",
    "\n",
    "# Now new_board == board\n",
    "np.sum(board == smap['#']), turn_count"
   ]
  },
  {
   "cell_type": "code",
   "execution_count": 49,
   "metadata": {},
   "outputs": [],
   "source": [
    "# For part 2,my approach is considering is that the nearest chair is the same every iteration\n",
    "# So I find and save indexes of the nearest chair,...????????\n",
    "from tqdm.notebook import trange\n",
    "\n",
    "\n",
    "def apply(patch, size):\n",
    "    # Given an odd-sized, square, flattened patch (at least 3x3)\n",
    "    # Return what the center should become in part 2\n",
    "    midx = size // 2\n",
    "    patch = patch.reshape((size, size))\n",
    "    if patch[midx, midx] == smap['.']:\n",
    "        return smap['.']\n",
    "    \n",
    "    rot = np.rot90(patch)\n",
    "\n",
    "    # The next 16 lines are quite ugly... sorry...\n",
    "    topleft = np.diagonal(patch)[:midx][::-1]\n",
    "    topleft = topleft[(topleft > smap['.']).argmax()]\n",
    "    botright = np.diagonal(patch)[midx+1:]\n",
    "    botright = botright[(botright > smap['.']).argmax()]\n",
    "\n",
    "    botleft = np.diagonal(rot)[:midx][::-1]\n",
    "    botleft = botleft[(botleft > smap['.']).argmax()]\n",
    "    topright = np.diagonal(rot)[midx+1:]\n",
    "    topright = topright[(topright > smap['.']).argmax()]\n",
    "\n",
    "    top = patch[:midx,midx][::-1]\n",
    "    top = top[(top > smap['.']).argmax()]\n",
    "    bot = patch[midx+1:,midx]\n",
    "    bot = bot[(bot > smap['.']).argmax()]\n",
    "\n",
    "    left = patch[midx,:midx][::-1]\n",
    "    left = left[(left > smap['.']).argmax()]\n",
    "    right = patch[midx,midx+1:]\n",
    "    right = right[(right > smap['.']).argmax()]\n",
    "    # End of the ugly stuff!\n",
    "\n",
    "    neighbors = sum(x == smap['#'] for x in [topleft, botright, botleft, topright, top, bot, left, right])\n",
    "\n",
    "    #print(patch, neighbors, [topleft, botright, botleft, topright, top, bot, left, right], (patch[midx, midx] == smap['L'] and neighbors == 0) or (patch[midx, midx] == '#' and neighbors < 5))\n",
    "    \n",
    "    return smap['#'] if (patch[midx, midx] == smap['L'] and neighbors == 0) or (patch[midx, midx] == smap['#'] and neighbors < 5) else smap['L']\n",
    "\n"
   ]
  },
  {
   "cell_type": "code",
   "execution_count": 50,
   "metadata": {},
   "outputs": [
    {
     "data": {
      "application/vnd.jupyter.widget-view+json": {
       "model_id": "dea5fa78d6a4425e89137d8e1bcd6753",
       "version_major": 2,
       "version_minor": 0
      },
      "text/plain": [
       "  0%|          | 0/1000 [00:00<?, ?it/s]"
      ]
     },
     "metadata": {},
     "output_type": "display_data"
    },
    {
     "name": "stdout",
     "output_type": "stream",
     "text": [
      "2074\n"
     ]
    }
   ],
   "source": [
    "new_board = data.copy()\n",
    "board = 0\n",
    "# Size of filter. Must be big enough to see nearest chair in all directions.\n",
    "# 21 gave the wrong answer, input size (91) will certainly be correct\n",
    "size = 41  \n",
    "assert size % 2 == 1, \"Filter size must be odd\"\n",
    "\n",
    "for _ in trange(1000):\n",
    "    if np.all(board == new_board):\n",
    "        break\n",
    "\n",
    "    board = new_board\n",
    "    new_board = generic_filter(new_board, lambda x: apply(x, size), size=size, mode='constant', cval=0)\n",
    "\n",
    "# Now new_board == board\n",
    "if not np.all(board == new_board):\n",
    "    print(\"Not converged in 1000 iterations!\")\n",
    "else:\n",
    "    print(np.sum(board == smap['#']))"
   ]
  }
 ],
 "metadata": {
  "interpreter": {
   "hash": "5d7396d72a031e084ca8a7a10bc9e074a727d6785ddc3f255c136fb1ccc8ec02"
  },
  "kernelspec": {
   "display_name": "Python 3.8.10 64-bit ('env': venv)",
   "language": "python",
   "name": "python3"
  },
  "language_info": {
   "codemirror_mode": {
    "name": "ipython",
    "version": 3
   },
   "file_extension": ".py",
   "mimetype": "text/x-python",
   "name": "python",
   "nbconvert_exporter": "python",
   "pygments_lexer": "ipython3",
   "version": "3.8.10"
  },
  "orig_nbformat": 4
 },
 "nbformat": 4,
 "nbformat_minor": 2
}
