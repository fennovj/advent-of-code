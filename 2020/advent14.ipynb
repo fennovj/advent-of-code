{
 "cells": [
  {
   "cell_type": "code",
   "execution_count": 35,
   "metadata": {},
   "outputs": [],
   "source": [
    "import advent\n",
    "\n",
    "# First time using package for repetitive stuff :D\n",
    "data = advent.get_lines(14)"
   ]
  },
  {
   "cell_type": "code",
   "execution_count": 36,
   "metadata": {},
   "outputs": [
    {
     "data": {
      "text/plain": [
       "14553106347726"
      ]
     },
     "execution_count": 36,
     "metadata": {},
     "output_type": "execute_result"
    }
   ],
   "source": [
    "def apply_mask(num, mask):\n",
    "    num = num.zfill(len(mask))\n",
    "    result = ''.join(['0' if mask[ix] == '0' or (mask[ix] == 'X' and num[ix] == '0') else '1' for ix in range(len(mask))])\n",
    "    return result\n",
    "    \n",
    "memory = {}\n",
    "for line in data:\n",
    "    if line[1] == 'a':  # mask\n",
    "        active_mask = line[7:]\n",
    "    else:  # mem\n",
    "        x = line[4:].split('] = ')  # First=address, second=value\n",
    "        memory[int(x[0])] = apply_mask(\"{0:b}\".format(int(x[1])), active_mask)\n",
    "\n",
    "sum([int(i, 2) for i in memory.values()])"
   ]
  },
  {
   "cell_type": "code",
   "execution_count": 37,
   "metadata": {},
   "outputs": [
    {
     "data": {
      "text/plain": [
       "2737766154126"
      ]
     },
     "execution_count": 37,
     "metadata": {},
     "output_type": "execute_result"
    }
   ],
   "source": [
    "def apply_mask(num, mask):\n",
    "    num = num.zfill(len(mask))\n",
    "    result = ''.join([num[ix] if mask[ix] == '0' else mask[ix] for ix in range(len(mask))])\n",
    "    return result\n",
    "\n",
    "def expand_floating(num):\n",
    "    if not 'X' in num:\n",
    "        return [num]  # Not floating, just 1 possibility\n",
    "    # Otherwise, replace the first X and recursively combine\n",
    "    return expand_floating(num.replace('X', '0', 1)) + \\\n",
    "           expand_floating(num.replace('X', '1', 1))\n",
    "\n",
    "\n",
    "memory = {}\n",
    "for line in data:\n",
    "    if line[1] == 'a':  # mask\n",
    "        active_mask = line[7:]\n",
    "    else:  # mem\n",
    "        x = line[4:].split('] = ')  # First=address, second=value\n",
    "        for mem_addr in expand_floating(apply_mask(\"{0:b}\".format(int(x[0])), active_mask)):\n",
    "            memory[mem_addr] = int(x[1])\n",
    "\n",
    "sum(memory.values())"
   ]
  },
  {
   "cell_type": "code",
   "execution_count": null,
   "metadata": {},
   "outputs": [],
   "source": []
  }
 ],
 "metadata": {
  "interpreter": {
   "hash": "e7370f93d1d0cde622a1f8e1c04877d8463912d04d973331ad4851f04de6915a"
  },
  "kernelspec": {
   "display_name": "Python 2.7.18 64-bit",
   "language": "python",
   "name": "python3"
  },
  "language_info": {
   "codemirror_mode": {
    "name": "ipython",
    "version": 3
   },
   "file_extension": ".py",
   "mimetype": "text/x-python",
   "name": "python",
   "nbconvert_exporter": "python",
   "pygments_lexer": "ipython3",
   "version": "3.8.10"
  },
  "orig_nbformat": 4
 },
 "nbformat": 4,
 "nbformat_minor": 2
}
