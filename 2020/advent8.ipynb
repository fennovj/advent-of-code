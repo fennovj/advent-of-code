{
 "cells": [
  {
   "cell_type": "code",
   "execution_count": 22,
   "metadata": {},
   "outputs": [],
   "source": [
    "import pandas as pd\n",
    "\n",
    "instructions = pd.read_csv('data/advent8.csv', sep=' ', header=None, names=['op', 'num'])"
   ]
  },
  {
   "cell_type": "code",
   "execution_count": 23,
   "metadata": {},
   "outputs": [
    {
     "data": {
      "text/plain": [
       "(True, 1087)"
      ]
     },
     "execution_count": 23,
     "metadata": {},
     "output_type": "execute_result"
    }
   ],
   "source": [
    "def detect_loop(instructions):\n",
    "    # Finds and detects an infinite loop\n",
    "    # Returns True, acc if infinite loop\n",
    "    # Returns False, acc if infinite loop\n",
    "\n",
    "    has_ran = set([])\n",
    "    acc = 0\n",
    "    pointer = 0\n",
    "\n",
    "    def do_line(ins, acc, pointer):\n",
    "        if ins.op == 'nop': return acc, pointer+1\n",
    "        if ins.op == 'jmp': return acc, pointer+ins.num\n",
    "        if ins.op == 'acc': return acc+ins.num, pointer+1\n",
    "        \n",
    "\n",
    "    while pointer not in has_ran:\n",
    "        has_ran.add(pointer)\n",
    "        acc, pointer = do_line(instructions.loc[pointer], acc, pointer)\n",
    "        if pointer == instructions.shape[0]:\n",
    "            return False, acc\n",
    "    return True, acc\n",
    "\n",
    "detect_loop(instructions)\n"
   ]
  },
  {
   "cell_type": "code",
   "execution_count": 24,
   "metadata": {},
   "outputs": [
    {
     "name": "stdout",
     "output_type": "stream",
     "text": [
      "780\n"
     ]
    }
   ],
   "source": [
    "c = {'jmp': 'nop', 'nop': 'jmp'}\n",
    "# We're just gonna brute force and run every single variation to see if it loops or not\n",
    "\n",
    "for ix in range(instructions.shape[0]):\n",
    "    if instructions.loc[ix, 'op'] == 'acc':\n",
    "        continue\n",
    "\n",
    "    new_ins = instructions.copy()\n",
    "    new_ins.loc[ix, 'op'] = c[new_ins.loc[ix, 'op']]\n",
    "    loop, acc = detect_loop(new_ins)\n",
    "    if not loop:\n",
    "        print(acc)\n",
    "        break"
   ]
  }
 ],
 "metadata": {
  "interpreter": {
   "hash": "5d7396d72a031e084ca8a7a10bc9e074a727d6785ddc3f255c136fb1ccc8ec02"
  },
  "kernelspec": {
   "display_name": "Python 3.8.10 64-bit ('env': venv)",
   "language": "python",
   "name": "python3"
  },
  "language_info": {
   "codemirror_mode": {
    "name": "ipython",
    "version": 3
   },
   "file_extension": ".py",
   "mimetype": "text/x-python",
   "name": "python",
   "nbconvert_exporter": "python",
   "pygments_lexer": "ipython3",
   "version": "3.8.10"
  },
  "orig_nbformat": 4
 },
 "nbformat": 4,
 "nbformat_minor": 2
}
