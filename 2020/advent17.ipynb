{
 "cells": [
  {
   "cell_type": "code",
   "execution_count": 72,
   "metadata": {},
   "outputs": [
    {
     "name": "stdout",
     "output_type": "stream",
     "text": [
      "(1, 8, 8)\n"
     ]
    }
   ],
   "source": [
    "raw_data = \\\n",
    "\"\"\"#.##.##.\n",
    ".##..#..\n",
    "....#..#\n",
    ".##....#\n",
    "#..##...\n",
    ".###..#.\n",
    "..#.#..#\n",
    ".....#..\"\"\"\n",
    "\n",
    "test_data = \\\n",
    "\"\"\".#.\n",
    "..#\n",
    "###\"\"\"\n",
    "\n",
    "import numpy as np\n",
    "\n",
    "raw_data = raw_data.split(\"\\n\")\n",
    "data = np.array([[[c for c in row] for row in raw_data]])\n",
    "print(data.shape)\n",
    "\n",
    "# Explanation: it's 3d game of life\n",
    "# Neighbors are all, including diagnoal, so each cell has 26 neighbors\n",
    "# active: 2 or 3 neighbors: stay active. Otherwise: die\n",
    "# not active: 3 neighbors: become active. Otherwise: stay dead"
   ]
  },
  {
   "cell_type": "code",
   "execution_count": 70,
   "metadata": {},
   "outputs": [
    {
     "data": {
      "text/plain": [
       "273"
      ]
     },
     "execution_count": 70,
     "metadata": {},
     "output_type": "execute_result"
    }
   ],
   "source": [
    "# We only want to pad if it's needed.\n",
    "# For part one this is not really necceacry, since we only do 6 iterations anyway\n",
    "# But it's nicer and maybe useful for part two\n",
    "def is_padded(data):\n",
    "    return np.all(data[0,:,:] == '.') and \\\n",
    "           np.all(data[-1,:,:] == '.') and \\\n",
    "           np.all(data[:,0,:] == '.') and \\\n",
    "           np.all(data[:,-1,:] == '.') and \\\n",
    "           np.all(data[:,:,1] == '.') and \\\n",
    "           np.all(data[:,:,-1] == '.')\n",
    "\n",
    "def pad(data):\n",
    "    return np.pad(data, 1, mode='constant', constant_values='.')\n",
    "\n",
    "def unpad(data):\n",
    "    return data[1:-1, 1:-1, 1:-1]\n",
    "\n",
    "def count_neighbors(data, x, y, z):\n",
    "    # Assumes x,y,z is in the middle aka we can index +1/-1 safely\n",
    "    return np.sum(data[x-1:x+2, y-1:y+2, z-1:z+2] == '#') - (data[x, y, z] == '#')\n",
    "\n",
    "def conway_rules(char, neighbors):\n",
    "    if char == '#' and (neighbors == 2 or neighbors == 3):\n",
    "        return '#'\n",
    "    elif char == '.' and (neighbors == 3):\n",
    "        return '#'\n",
    "    return '.'\n",
    "\n",
    "def conway(board):\n",
    "    if not is_padded(board):\n",
    "        board = pad(board)\n",
    "    # Pad it again just to call count_neighbors safely.\n",
    "    board = pad(board)\n",
    "    new_board = board.copy()\n",
    "    for x in range(1, board.shape[0] - 1):\n",
    "        for y in range(1, board.shape[1] - 1):\n",
    "            for z in range(1, board.shape[2] - 1):\n",
    "                new_board[x, y, z] = conway_rules(board[x, y, z], count_neighbors(board, x, y, z))\n",
    "    # Unpad it now count_neighbors is done\n",
    "    new_board = unpad(new_board)\n",
    "    return new_board\n",
    "\n",
    "def conway_n(board, n = 1):\n",
    "    if n == 1:\n",
    "        return conway(board)\n",
    "    return conway_n(conway(board), n-1)\n",
    "\n",
    "part1 = conway_n(data, 6)\n",
    "np.sum(part1 == '#')"
   ]
  },
  {
   "cell_type": "code",
   "execution_count": 76,
   "metadata": {},
   "outputs": [
    {
     "data": {
      "text/plain": [
       "1504"
      ]
     },
     "execution_count": 76,
     "metadata": {},
     "output_type": "execute_result"
    }
   ],
   "source": [
    "# In part 2, for simplicity, we never unpad, and don't call 'is_padded'\n",
    "# This would blow up quadratically for large number of cycles, but we only have 6 cycles so oh well\n",
    "\n",
    "def count_neighbors(data, x, y, z, w):\n",
    "    # Assumes x,y,z is in the middle aka we can index +1/-1 safely\n",
    "    return np.sum(data[x-1:x+2, y-1:y+2, z-1:z+2, w-1:w+2] == '#') - (data[x, y, z, w] == '#')\n",
    "\n",
    "def conway(board):\n",
    "    # Because of pad changes, the input must now already be padded\n",
    "    # However, the result will also be already padded, so you can interatively call this on the output!\n",
    "    board = pad(board)\n",
    "    new_board = board.copy()\n",
    "    for x in range(1, board.shape[0] - 1):\n",
    "        for y in range(1, board.shape[1] - 1):\n",
    "            for z in range(1, board.shape[2] - 1):\n",
    "                for w in range(1, board.shape[3] - 1):\n",
    "                    new_board[x, y, z, w] = conway_rules(board[x, y, z, w], count_neighbors(board, x, y, z, w))\n",
    "    return new_board\n",
    "\n",
    "data = pad(np.array([[[[c for c in row] for row in raw_data]]]))\n",
    "part2 = conway_n(data, 6)\n",
    "np.sum(part2 == '#')"
   ]
  }
 ],
 "metadata": {
  "interpreter": {
   "hash": "5d7396d72a031e084ca8a7a10bc9e074a727d6785ddc3f255c136fb1ccc8ec02"
  },
  "kernelspec": {
   "display_name": "Python 3.8.10 64-bit ('env': venv)",
   "language": "python",
   "name": "python3"
  },
  "language_info": {
   "codemirror_mode": {
    "name": "ipython",
    "version": 3
   },
   "file_extension": ".py",
   "mimetype": "text/x-python",
   "name": "python",
   "nbconvert_exporter": "python",
   "pygments_lexer": "ipython3",
   "version": "3.8.10"
  },
  "orig_nbformat": 4
 },
 "nbformat": 4,
 "nbformat_minor": 2
}
