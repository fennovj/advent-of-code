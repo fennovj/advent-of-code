{
 "cells": [
  {
   "cell_type": "code",
   "execution_count": 22,
   "metadata": {},
   "outputs": [],
   "source": [
    "import re\n",
    "with open('data/advent19.txt', 'r') as f:\n",
    "    x = f.read().replace(\"\\\"\", \"\").split('\\n')\n",
    "x = list(map(lambda e: e.split(': '), x))\n",
    "\n",
    "part2 = True\n",
    "repetitions = 10  # For rule 11, how many repetitions we allow. Theoretically should be infinite, but then it wouldn't be a regex anymore :(\n",
    "\n",
    "known = {}\n",
    "while \"0\" not in known:\n",
    "    for i, c in enumerate(x):\n",
    "\n",
    "        if part2:  # Special cases for 8 and 11\n",
    "            if c[0] == '8' and '42' in known:\n",
    "                known['8'] = \"(\" + known['42'] + \")+\"\n",
    "                continue\n",
    "            if c[0] == '11' and '42' in known and '31' in known:\n",
    "                known ['11'] = \"(\" + \"|\".join(\"(\" + known['42'] + \"){\" + str(i) + \"}(\"+ known['31'] * i + \"){\" + str(i) + \"}\" for i in range(1, repetitions)) + \")\"\n",
    "                continue\n",
    "            if '11' in known and '8' in known:\n",
    "                known['0'] = known[\"8\"] + known[\"11\"]\n",
    "                break\n",
    "\n",
    "        if not any(char.isdigit() for char in c[1]):\n",
    "            known[c[0]] = c[1]\n",
    "        nums = c[1].split(' ')\n",
    "        for num in nums:\n",
    "            if num in known:\n",
    "                repl = known[num] if known[num] in [\"a\", \"b\"] else \"(\" + known[num] + \")\"  # (a) or (b) is redundant. Other parentheses are usually not.\n",
    "                x[i][1] = re.sub(r\"\\b{}\\b\".format(num), repl, c[1])\n",
    "\n"
   ]
  },
  {
   "cell_type": "code",
   "execution_count": 23,
   "metadata": {},
   "outputs": [
    {
     "data": {
      "text/plain": [
       "260"
      ]
     },
     "execution_count": 23,
     "metadata": {},
     "output_type": "execute_result"
    }
   ],
   "source": [
    "# Get the result (either part 1 or part 2, based on value of part2 variable above)\n",
    "with open('data/advent19_2.txt', 'r') as f:\n",
    "    lines = f.read().split(\"\\n\")\n",
    "\n",
    "result = 0\n",
    "for line in lines:\n",
    "    m = re.match(r\"^{}$\".format(known['0'].replace(\" \", \"\")), line)\n",
    "    if m is not None:\n",
    "        result += 1\n",
    "result"
   ]
  }
 ],
 "metadata": {
  "interpreter": {
   "hash": "1ba485997a1541442dfd44644569850fb24d8f183b3d63720c2396ab2df01f7f"
  },
  "kernelspec": {
   "display_name": "Python 3.9.7 64-bit ('env': venv)",
   "language": "python",
   "name": "python3"
  },
  "language_info": {
   "codemirror_mode": {
    "name": "ipython",
    "version": 3
   },
   "file_extension": ".py",
   "mimetype": "text/x-python",
   "name": "python",
   "nbconvert_exporter": "python",
   "pygments_lexer": "ipython3",
   "version": "3.8.10"
  },
  "orig_nbformat": 4
 },
 "nbformat": 4,
 "nbformat_minor": 2
}
