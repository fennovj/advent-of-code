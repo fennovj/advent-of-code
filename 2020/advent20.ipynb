{
 "cells": [
  {
   "cell_type": "code",
   "execution_count": 36,
   "metadata": {},
   "outputs": [],
   "source": [
    "# 144 tiles (12x12)\n",
    "# sides are length 10, so there are 1024 possibilities\n",
    "# In reality, there are ~144*4/2 = 288 different sides (slightly more because of edges don't have to match)\n",
    "# Also, it's multiplied by 2 because they can be flipped\n",
    "# So it is worth checking if the edges are indeed unique.\n",
    "\n",
    "# If so that would make it doable without any brute force, since we could essentially start with an arbitrary piece,\n",
    "# and the entire puzzle would be 'forced' into place\n",
    "import numpy as np\n",
    "import math"
   ]
  },
  {
   "cell_type": "code",
   "execution_count": 37,
   "metadata": {},
   "outputs": [],
   "source": [
    "num_tiles = 144\n",
    "tile_size = 10\n",
    "\n",
    "with open(\"data/advent20.txt\", \"r\") as f:\n",
    "    data = f.read().splitlines()\n",
    "\n",
    "tiles = [data[(i+1):(i+11)] for i in list(range(0, num_tiles*(tile_size+2), tile_size+2))]\n",
    "names = [int(data[i][5:9]) for i in list(range(0, num_tiles*(tile_size+2), tile_size+2))]  # assume names are always 4 digits"
   ]
  },
  {
   "cell_type": "code",
   "execution_count": 44,
   "metadata": {},
   "outputs": [
    {
     "name": "stdout",
     "output_type": "stream",
     "text": [
      "96\n"
     ]
    }
   ],
   "source": [
    "def get_edges(tile):\n",
    "    edges = [tile[0], tile[-1], ''.join(t[0] for t in tile), ''.join(t[-1] for t in tile)]\n",
    "    flipped = [edge[::-1] for edge in edges]\n",
    "    return edges + flipped\n",
    "\n",
    "all_edges = []\n",
    "for tile in tiles:\n",
    "    all_edges += get_edges(tile)\n",
    "\n",
    "# Check if any edges appear more than twice:\n",
    "real_edges = []\n",
    "for e in all_edges:\n",
    "    if all_edges.count(e) > 2:\n",
    "        print(e)\n",
    "    elif all_edges.count(e) == 1:\n",
    "        real_edges.append(e)\n",
    "\n",
    "# No output is a good sign!\n",
    "print(len(real_edges))  # This should be 96, for the 12*4 edges that don't have a match, *2 for flip"
   ]
  },
  {
   "cell_type": "code",
   "execution_count": 45,
   "metadata": {},
   "outputs": [
    {
     "name": "stdout",
     "output_type": "stream",
     "text": [
      "10 3833\n",
      "46 2593\n",
      "71 2999\n",
      "76 3517\n",
      "104831106565027\n"
     ]
    }
   ],
   "source": [
    "# Find corners: puzzles with two pieces in 'real_edges'\n",
    "result = 1\n",
    "corner_ix = None  # A corner. Used for part 2 as top left corner\n",
    "for ix, tile in enumerate(tiles):\n",
    "    edges = get_edges(tile)\n",
    "    real = sum([e in real_edges for e in edges])\n",
    "    if real == 4:\n",
    "        print(ix, names[ix])\n",
    "        corner_ix = ix\n",
    "        result *= names[ix]\n",
    "print(result)"
   ]
  },
  {
   "cell_type": "code",
   "execution_count": 116,
   "metadata": {},
   "outputs": [],
   "source": [
    "def to_numpy(tile):\n",
    "    # Is idempotent\n",
    "    tile = [[c for c in row] for row in tile]\n",
    "    return np.array(tile)\n",
    "\n",
    "def to_python(tile):\n",
    "    return ''.join(tile)\n",
    "\n",
    "def remove_edge(tile, make_numpy=True):\n",
    "    result = [r[1:-1] for r in tile[1:-1]]\n",
    "    return to_numpy(result) if make_numpy else result\n",
    "\n",
    "def rotate_py(tile):\n",
    "    # Given a python tile (list of strings), rotate it clockwise 90 degrees\n",
    "    return [''.join(t[i] for t in tile[::-1]) for i in range(len(tile))]\n",
    "\n",
    "def flip_py(tile):\n",
    "    # Given a python tile, flip it horizontally\n",
    "    return [row[::-1] for row in tile]\n",
    "\n",
    "def rotate_topleft_corner(tile, edges):\n",
    "    # Given a corner piece, rotate it so that it's oriented correctly\n",
    "    # Note that the final puzzle may also need to be rotated/flipped still\n",
    "    es = get_edges(tile)  # Top, bottom, left, right\n",
    "    if edges.count(es[0]) == 1 and edges.count(es[2]) == 1:\n",
    "        return tile  # It's already correct\n",
    "    else:\n",
    "        # Rotate and try again\n",
    "        return rotate_topleft_corner(rotate_py(tile), edges)\n",
    "\n",
    "def find_tile_with_edge(edge, tiles):\n",
    "    # Possible optimization: use a dict for the edges instead of a function\n",
    "    # Since we recalculate get_edges a lot... But it's not that bad\n",
    "    # Also returns the orientation of that edge in the found tile:\n",
    "    # 0 - top, 1 - bottom, 2 - left, 3 - right\n",
    "    # 4 - topflipped, 5 - bottomflipped, 6 - leftflipped, 7 - rightflipped\n",
    "    for ix, tile in enumerate(tiles):\n",
    "        if edge in get_edges(tile):\n",
    "            return ix, get_edges(tile).index(edge)\n",
    "    raise ValueError(\"{} could not be found\".format(edge))\n",
    "\n",
    "def match_left(tile, match):\n",
    "    # Given a python tile that matches the edge on the left, (from top to bottom)\n",
    "    # and a match (from find_tile_with_edge)\n",
    "    # rotate the tile so that it fits the edge on the left\n",
    "    if match == 0:\n",
    "        return rotate_py(rotate_py(rotate_py(flip_py(tile))))\n",
    "    elif match == 1:\n",
    "        return rotate_py(tile)\n",
    "    elif match == 2:\n",
    "        return tile\n",
    "    elif match == 3:\n",
    "        return flip_py(tile)\n",
    "    elif match == 4:\n",
    "        return rotate_py(rotate_py(rotate_py(tile)))\n",
    "    elif match == 5:\n",
    "        return rotate_py(flip_py(tile))\n",
    "    elif match == 6:\n",
    "        return rotate_py(rotate_py(flip_py(tile)))\n",
    "    elif match == 7:\n",
    "        return rotate_py(rotate_py(tile))\n",
    "\n",
    "def match_top(tile, match):\n",
    "    # Same as match_left, but rotate the tile such that it matches the edge on top\n",
    "    # (from left to right)\n",
    "    # flip(rotate(x)) is basically transpose(x)\n",
    "    return flip_py(rotate_py(match_left(tile, match)))\n",
    "\n",
    "def construct_puzzle(tiles, corner_tile):\n",
    "    # Given a list of tiles, and the corner tile, constructs a square puzzle\n",
    "    # Tiles must not contain the corner_tile\n",
    "    # Corner tile must have been rotated with rotate_topleft_corner\n",
    "    puzzle_size =  int(math.sqrt(len(tiles) + 1))\n",
    "    piece_size = len(corner_tile)  # Must be square.\n",
    "\n",
    "    puzzle = np.empty((puzzle_size*piece_size, puzzle_size*piece_size), dtype=str)\n",
    "    puzzle[:piece_size, :piece_size] = to_numpy(corner_tile)\n",
    "\n",
    "    # Now we have the first tile, we can start filling in the rest one by one\n",
    "    # Remember: x = up/down, y = left/right\n",
    "    for tile_y in range(puzzle_size):\n",
    "        for tile_x in range(puzzle_size):\n",
    "            if tile_x == 0 and tile_y == 0:\n",
    "                continue  # We already did this one as initialization\n",
    "            elif tile_x == 0:\n",
    "                # The first in a row. We need to compare the top edge instead of the left edge\n",
    "                # x coordinate: -1, 11, 23, etc = (tile_x * tile_size) - 1\n",
    "                # y coordinate: 0 to 11\n",
    "                # This is the tile from top to bottom\n",
    "                edge = puzzle[(tile_y*tile_size)-1, :tile_size]\n",
    "                match_fn = match_top\n",
    "            else:\n",
    "                # y coordinate: -1, 11, 23, etc = (tile_x * tile_size) - 1\n",
    "                # x coordinate: 0 to 11, 12 to 23, 23 to 34, etc\n",
    "                # This is the tile from top to bottom\n",
    "                edge = puzzle[(tile_y*tile_size):((tile_y+1)*tile_size), (tile_x*tile_size)-1]\n",
    "                match_fn = match_left\n",
    "\n",
    "            #print(tile_x, tile_y, edge, to_python(edge), (tile_y*tile_size), ((tile_y+1)*tile_size), (tile_x*tile_size)-1)\n",
    "            \n",
    "            x = find_tile_with_edge(to_python(edge), tiles)\n",
    "            tile_ix, match = x[0], x[1]\n",
    "            tile = match_fn(tiles[tile_ix], match)\n",
    "            tiles.pop(tile_ix)  # Remove it so it doesn't bother us again\n",
    "            puzzle[(tile_y*tile_size):((tile_y+1)*tile_size), (tile_x*tile_size):((tile_x+1)*tile_size)] = to_numpy(tile)\n",
    "    return puzzle\n",
    "\n",
    "corner_tile = rotate_topleft_corner(tiles[corner_ix], all_edges)\n",
    "tiles_without_corner = tiles.copy()\n",
    "tiles_without_corner.pop(corner_ix)\n",
    "\n",
    "puzzle = construct_puzzle(tiles_without_corner, corner_tile)\n",
    "#puzzle\n"
   ]
  },
  {
   "cell_type": "code",
   "execution_count": 146,
   "metadata": {},
   "outputs": [
    {
     "name": "stdout",
     "output_type": "stream",
     "text": [
      "[119, 110, 109, 100, 99, 90, 89, 80, 79, 70, 69, 60, 59, 50, 49, 40, 39, 30, 29, 20, 19, 10, 9, 0] 24\n"
     ]
    }
   ],
   "source": [
    "def remove_edges_from_solved(puzzle, piece_size):\n",
    "    # Remove edges back to front. First axis=0, then axis=1\n",
    "    puzzle_size = puzzle.shape[0]\n",
    "    num_pieces = int(puzzle_size / piece_size)\n",
    "    #edges = [120, 111, 110, ..., 11, 10, 1]\n",
    "    edges = sorted(list(range(0, puzzle_size, piece_size)) + list(range(piece_size-1, puzzle_size, piece_size)), reverse=True)\n",
    "    print(edges, len(edges))\n",
    "    for e in edges:\n",
    "        puzzle = np.delete(puzzle, e, 0)\n",
    "        puzzle = np.delete(puzzle, e, 1)\n",
    "    return puzzle\n",
    "\n",
    "puzzle_final = remove_edges_from_solved(puzzle, 10)"
   ]
  },
  {
   "cell_type": "code",
   "execution_count": 152,
   "metadata": {},
   "outputs": [
    {
     "name": "stdout",
     "output_type": "stream",
     "text": [
      "[0, 0, 0, 37, 0, 0, 0, 0]\n"
     ]
    }
   ],
   "source": [
    "def is_monster(image):\n",
    "    # Image must be a 3x20 array. Works both on numpy and list\n",
    "    return (image[0][18] == '#') and \\\n",
    "           (image[1][0]  == '#') and \\\n",
    "           (image[1][5]  == '#') and \\\n",
    "           (image[1][6]  == '#') and \\\n",
    "           (image[1][11]  == '#') and \\\n",
    "           (image[1][12]  == '#') and \\\n",
    "           (image[1][17]  == '#') and \\\n",
    "           (image[1][18]  == '#') and \\\n",
    "           (image[1][19]  == '#') and \\\n",
    "           (image[2][1]  == '#') and \\\n",
    "           (image[2][4]  == '#') and \\\n",
    "           (image[2][7]  == '#') and \\\n",
    "           (image[2][10]  == '#') and \\\n",
    "           (image[2][13]  == '#') and \\\n",
    "           (image[2][16]  == '#')\n",
    "\n",
    "\n",
    "def count_monsters(puzzle_final, monster_size = (3, 20)):\n",
    "    monsters = []\n",
    "    for y in range(puzzle_final.shape[0] - monster_size[1]):\n",
    "        for x in range(puzzle_final.shape[1] - monster_size[0]):\n",
    "            monsters.append(is_monster(puzzle_final[x:(x+monster_size[0]), y:(y+monster_size[1])]))\n",
    "    return sum(monsters)\n",
    "\n",
    "monsters_count = []\n",
    "monsters_count.append(count_monsters(puzzle_final))\n",
    "monsters_count.append(count_monsters(np.rot90(puzzle_final)))\n",
    "monsters_count.append(count_monsters(np.rot90(np.rot90(puzzle_final))))\n",
    "monsters_count.append(count_monsters(np.rot90(np.rot90(np.rot90(puzzle_final)))))\n",
    "monsters_count.append(count_monsters(np.transpose(puzzle_final)))\n",
    "monsters_count.append(count_monsters(np.rot90(np.transpose(puzzle_final))))\n",
    "monsters_count.append(count_monsters(np.rot90(np.rot90(np.transpose(puzzle_final)))))\n",
    "monsters_count.append(count_monsters(np.rot90(np.rot90(np.rot90(np.transpose(puzzle_final))))))\n",
    "print(monsters_count)\n"
   ]
  },
  {
   "cell_type": "code",
   "execution_count": 157,
   "metadata": {},
   "outputs": [
    {
     "data": {
      "text/plain": [
       "2093"
      ]
     },
     "execution_count": 157,
     "metadata": {},
     "output_type": "execute_result"
    }
   ],
   "source": [
    "# At this point I should have used a dictionary to automatically get the correct rotation, but I didn't feel it was worth it\n",
    "# And this has taken long enough. So I get it manually...\n",
    "puzzle_final_final = np.rot90(np.rot90(np.rot90(puzzle_final)))\n",
    "sum(puzzle_final_final.flatten() == '#') - (37*15)  # 37 sea monsters, 15 # each"
   ]
  },
  {
   "cell_type": "code",
   "execution_count": null,
   "metadata": {},
   "outputs": [],
   "source": []
  }
 ],
 "metadata": {
  "interpreter": {
   "hash": "5d7396d72a031e084ca8a7a10bc9e074a727d6785ddc3f255c136fb1ccc8ec02"
  },
  "kernelspec": {
   "display_name": "Python 3.8.10 64-bit ('env': venv)",
   "language": "python",
   "name": "python3"
  },
  "language_info": {
   "codemirror_mode": {
    "name": "ipython",
    "version": 3
   },
   "file_extension": ".py",
   "mimetype": "text/x-python",
   "name": "python",
   "nbconvert_exporter": "python",
   "pygments_lexer": "ipython3",
   "version": "3.9.7"
  },
  "orig_nbformat": 4
 },
 "nbformat": 4,
 "nbformat_minor": 2
}
