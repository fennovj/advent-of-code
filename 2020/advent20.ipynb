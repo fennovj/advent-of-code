{
 "cells": [
  {
   "cell_type": "code",
   "execution_count": 48,
   "metadata": {},
   "outputs": [],
   "source": [
    "# 144 tiles (12x12)\n",
    "# sides are length 10, so there are 1024 possibilities\n",
    "# In reality, there are ~144*4/2 = 288 different sides (slightly more because of edges don't have to match)\n",
    "# Also, it's multiplied by 2 because they can be flipped\n",
    "# So it is worth checking if the edges are indeed unique.\n",
    "\n",
    "# If so that would make it doable without any brute force, since we could essentially start with an arbitrary piece,\n",
    "# and the entire puzzle would be 'forced' into place"
   ]
  },
  {
   "cell_type": "code",
   "execution_count": 49,
   "metadata": {},
   "outputs": [],
   "source": [
    "num_tiles = 144\n",
    "tile_size = 10\n",
    "\n",
    "with open(\"data/advent20.txt\", \"r\") as f:\n",
    "    data = f.read().splitlines()\n",
    "\n",
    "tiles = [data[(i+1):(i+11)] for i in list(range(0, num_tiles*(tile_size+2), tile_size+2))]\n",
    "names = [int(data[i][5:9]) for i in list(range(0, num_tiles*(tile_size+2), tile_size+2))]  # assume names are always 4 digits"
   ]
  },
  {
   "cell_type": "code",
   "execution_count": 50,
   "metadata": {},
   "outputs": [],
   "source": [
    "def get_edges(tile):\n",
    "    edges = [tile[0], tile[-1], ''.join(t[0] for t in tile), ''.join(t[-1] for t in tile)]\n",
    "    flipped = [edge[::-1] for edge in edges]\n",
    "    return edges + flipped\n",
    "\n",
    "edges = []\n",
    "for tile in tiles:\n",
    "    edges += get_edges(tile)\n",
    "\n",
    "# Check if any edges appear more than twice:\n",
    "for e in edges:\n",
    "    if edges.count(e) > 2:\n",
    "        print(e)\n",
    "\n",
    "# No output is a good sign!"
   ]
  },
  {
   "cell_type": "code",
   "execution_count": null,
   "metadata": {},
   "outputs": [],
   "source": []
  }
 ],
 "metadata": {
  "interpreter": {
   "hash": "5d7396d72a031e084ca8a7a10bc9e074a727d6785ddc3f255c136fb1ccc8ec02"
  },
  "kernelspec": {
   "display_name": "Python 3.8.10 64-bit ('env': venv)",
   "language": "python",
   "name": "python3"
  },
  "language_info": {
   "codemirror_mode": {
    "name": "ipython",
    "version": 3
   },
   "file_extension": ".py",
   "mimetype": "text/x-python",
   "name": "python",
   "nbconvert_exporter": "python",
   "pygments_lexer": "ipython3",
   "version": "3.8.10"
  },
  "orig_nbformat": 4
 },
 "nbformat": 4,
 "nbformat_minor": 2
}
