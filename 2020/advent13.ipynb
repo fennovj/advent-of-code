{
 "cells": [
  {
   "cell_type": "code",
   "execution_count": 35,
   "metadata": {},
   "outputs": [],
   "source": [
    "time = 1000067\n",
    "data = \"17,x,x,x,x,x,x,x,x,x,x,37,x,x,x,x,x,439,x,29,x,x,x,x,x,x,x,x,x,x,13,x,x,x,x,x,x,x,x,x,23,x,x,x,x,x,x,x,787,x,x,x,x,x,x,x,x,x,41,x,x,x,x,x,x,x,x,19\"\n",
    "\n",
    "buses = data.split(\",\")\n",
    "buses = list(map(int, filter(lambda x: x != \"x\", buses)))"
   ]
  },
  {
   "cell_type": "code",
   "execution_count": 36,
   "metadata": {},
   "outputs": [
    {
     "data": {
      "text/plain": [
       "205"
      ]
     },
     "execution_count": 36,
     "metadata": {},
     "output_type": "execute_result"
    }
   ],
   "source": [
    "# Basically modulo, but it returns 1 to m instead of 0 to m-1\n",
    "mod = lambda x, m: m if x % m == 0 else x % m\n",
    "\n",
    "def next_bus_time(time, bus):\n",
    "    # Given current time and bus nr, calculate the earliest arriving bus\n",
    "    return time + bus - mod(time, bus)\n",
    "\n",
    "next_times = list(map(lambda bus: next_bus_time(time, bus), buses))\n",
    "min_ix = next_times.index(min(next_times))\n",
    "\n",
    "# Bus index multiplied by time to wait\n",
    "buses[min_ix] * (next_times[min_ix] - time)"
   ]
  },
  {
   "cell_type": "code",
   "execution_count": 37,
   "metadata": {},
   "outputs": [],
   "source": [
    "# The example from the page: 7,13,x,x,59,x,31,19\n",
    "# We are looking for n such that:\n",
    "# n % 7 == 0\n",
    "# (n+1) % 13 == 0\n",
    "# (n+4) % 59 == 0\n",
    "# (n+6) % 31 == 0\n",
    "# (n+7) % 19 == 0\n",
    "\n",
    "# Rewrite to be more mathematical:\n",
    "# n = 0 (mod 7)\n",
    "# n = -1 (mod 13)\n",
    "# n = -4 (mod 59)\n",
    "# n = -6 (mod 31)\n",
    "# n = -7 (mod 19)\n",
    "\n",
    "# This pretty much calls for using the Chinese Remainder Theorem\n",
    "# I used the algorithm in https://en.wikipedia.org/wiki/Chinese_remainder_theorem\n",
    "# under \"Existence (direct construction)\""
   ]
  },
  {
   "cell_type": "code",
   "execution_count": 38,
   "metadata": {},
   "outputs": [
    {
     "data": {
      "text/plain": [
       "1068781"
      ]
     },
     "execution_count": 38,
     "metadata": {},
     "output_type": "execute_result"
    }
   ],
   "source": [
    "from functools import reduce\n",
    "list_prod = lambda list: reduce(lambda x, y: x*y, list)\n",
    "\n",
    "def extended_gcd(a, b): \n",
    "    # Given two positive integers, output 3 numbers.\n",
    "    # The GCD, and numbers x, y such that a*x + b*y = 1\n",
    "    # Inspired by some pseudocode on stackexchange\n",
    "    if a == 0 : return b, 0, 1\n",
    "    gcd, x, y = extended_gcd(b % a, a) \n",
    "    x2 = y - (b // a) * x\n",
    "    return gcd, x2, x\n",
    "\n",
    "def chinese_remainder(alphas, modulos):\n",
    "    # Given list of (numbers) and (modulos), find x such that x % m_i == a_i\n",
    "    NN = list_prod(modulos)\n",
    "    result = 0\n",
    "    for a, n in zip(alphas, modulos):\n",
    "        N = NN // n\n",
    "        _, M, _ = extended_gcd(N, n)\n",
    "        result = (result + a*M*N) % NN\n",
    "    return result\n",
    "\n",
    "a = [0, -1, -4, -6, -7]\n",
    "m = [7, 13, 59, 31, 19]\n",
    "\n",
    "chinese_remainder(a, m)  # Should be 1068781"
   ]
  },
  {
   "cell_type": "code",
   "execution_count": 39,
   "metadata": {},
   "outputs": [
    {
     "data": {
      "text/plain": [
       "803025030761664"
      ]
     },
     "execution_count": 39,
     "metadata": {},
     "output_type": "execute_result"
    }
   ],
   "source": [
    "# Quick parse of the data with for loop :/\n",
    "# \n",
    "buses = data.split(',')\n",
    "a = []\n",
    "m = []\n",
    "for ix, b in enumerate(buses):\n",
    "    if b == 'x':\n",
    "        continue\n",
    "    m.append(int(b))\n",
    "    a.append(-1 * ix)\n",
    "\n",
    "chinese_remainder(a, m)"
   ]
  }
 ],
 "metadata": {
  "interpreter": {
   "hash": "5d7396d72a031e084ca8a7a10bc9e074a727d6785ddc3f255c136fb1ccc8ec02"
  },
  "kernelspec": {
   "display_name": "Python 3.8.10 64-bit ('env': venv)",
   "language": "python",
   "name": "python3"
  },
  "language_info": {
   "codemirror_mode": {
    "name": "ipython",
    "version": 3
   },
   "file_extension": ".py",
   "mimetype": "text/x-python",
   "name": "python",
   "nbconvert_exporter": "python",
   "pygments_lexer": "ipython3",
   "version": "3.8.10"
  },
  "orig_nbformat": 4
 },
 "nbformat": 4,
 "nbformat_minor": 2
}
