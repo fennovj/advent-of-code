{
 "cells": [
  {
   "cell_type": "code",
   "execution_count": 16,
   "metadata": {},
   "outputs": [],
   "source": [
    "with open(\"data/advent24.txt\", 'r') as f:\n",
    "    data = f.read().splitlines()\n",
    "\n",
    "def parse(line):\n",
    "    result = []\n",
    "    line = [c for c in line]\n",
    "    \n",
    "    while len(line) > 0:\n",
    "        c = line.pop(0)\n",
    "        if c in ['e', 'w']:\n",
    "            result.append(c)\n",
    "        else:\n",
    "            c2 = line.pop(0)\n",
    "            result.append(c+c2)\n",
    "    return result"
   ]
  },
  {
   "cell_type": "code",
   "execution_count": 17,
   "metadata": {},
   "outputs": [
    {
     "name": "stdout",
     "output_type": "stream",
     "text": [
      "293\n"
     ]
    }
   ],
   "source": [
    "flipped = set([])\n",
    "move_dict = {'nw': (-1,0), 'ne': (-1, 1), 'w': (0, -1), 'e': (0, 1), 'sw': (1, -1), 'se': (1, 0)}\n",
    "add = lambda tile1, tile2: (tile1[0] + tile2[0], tile1[1] + tile2[1])\n",
    "\n",
    "for line in data:\n",
    "    moves = parse(line)\n",
    "    tile = (0, 0)\n",
    "    for move in moves:\n",
    "        tile = add(tile, move_dict[move])\n",
    "    if tile in flipped:\n",
    "        flipped.remove(tile)\n",
    "    else:\n",
    "        flipped.add(tile)\n",
    "\n",
    "print(len(flipped))"
   ]
  },
  {
   "cell_type": "code",
   "execution_count": 19,
   "metadata": {},
   "outputs": [
    {
     "name": "stdout",
     "output_type": "stream",
     "text": [
      "100 3967\n"
     ]
    }
   ],
   "source": [
    "def game_of_life(black):\n",
    "    s0, s1 = sorted(black, key=lambda x: x[0]), sorted(black, key=lambda x: x[1])\n",
    "    min_x, max_x = s0[0][0], s0[-1][0]\n",
    "    min_y, max_y = s1[0][1], s1[-1][1]\n",
    "    black_backup = black.copy()\n",
    "    for x in range(min_x-1, max_x+2):\n",
    "        for y in range(min_y-1, max_y+2):\n",
    "            # Now we need to determine if (x, y) needs to flip\n",
    "            num_neighbors = sum([add((x, y), adj) in black_backup for adj in move_dict.values()])\n",
    "            #print(x, y, num_neighbors, black_backup)\n",
    "            if (x, y) in black_backup and (num_neighbors == 0 or num_neighbors > 2):\n",
    "                black.remove((x, y))\n",
    "            elif (x, y) not in black_backup and (num_neighbors == 2):\n",
    "                black.add((x, y))\n",
    "    return black\n",
    "\n",
    "flipped_1 = flipped.copy()\n",
    "\n",
    "for i in range(100):\n",
    "    flipped_1 = game_of_life(flipped_1)\n",
    "\n",
    "print(i+1, len(flipped_1))"
   ]
  }
 ],
 "metadata": {
  "interpreter": {
   "hash": "5d7396d72a031e084ca8a7a10bc9e074a727d6785ddc3f255c136fb1ccc8ec02"
  },
  "kernelspec": {
   "display_name": "Python 3.8.10 64-bit ('env': venv)",
   "language": "python",
   "name": "python3"
  },
  "language_info": {
   "codemirror_mode": {
    "name": "ipython",
    "version": 3
   },
   "file_extension": ".py",
   "mimetype": "text/x-python",
   "name": "python",
   "nbconvert_exporter": "python",
   "pygments_lexer": "ipython3",
   "version": "3.8.10"
  },
  "orig_nbformat": 4
 },
 "nbformat": 4,
 "nbformat_minor": 2
}
