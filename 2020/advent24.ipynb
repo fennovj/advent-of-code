{
 "cells": [
  {
   "cell_type": "code",
   "execution_count": 77,
   "metadata": {},
   "outputs": [],
   "source": [
    "with open(\"data/advent24.txt\", 'r') as f:\n",
    "    data = f.read().splitlines()\n",
    "\n",
    "def parse(line):\n",
    "    result = []\n",
    "    line = [c for c in line]\n",
    "    \n",
    "    while len(line) > 0:\n",
    "        c = line.pop(0)\n",
    "        if c in ['e', 'w']:\n",
    "            result.append(c)\n",
    "        else:\n",
    "            c2 = line.pop(0)\n",
    "            result.append(c+c2)\n",
    "    return result"
   ]
  },
  {
   "cell_type": "code",
   "execution_count": null,
   "metadata": {},
   "outputs": [],
   "source": []
  },
  {
   "cell_type": "code",
   "execution_count": 78,
   "metadata": {},
   "outputs": [
    {
     "name": "stdout",
     "output_type": "stream",
     "text": [
      "10\n"
     ]
    }
   ],
   "source": [
    "flipped = set([])\n",
    "move_dict = {'nw': (-1,0), 'ne': (-1, 1), 'w': (0, -1), 'e': (0, 1), 'sw': (1, -1), 'se': (1, 0)}\n",
    "add = lambda tile1, tile2: (tile1[0] + tile2[0], tile1[1] + tile2[1])\n",
    "\n",
    "for line in data:\n",
    "    moves = parse(line)\n",
    "    tile = (0, 0)\n",
    "    for move in moves:\n",
    "        tile = add(tile, move_dict[move])\n",
    "    if tile in flipped:\n",
    "        flipped.remove(tile)\n",
    "    else:\n",
    "        flipped.add(tile)\n",
    "\n",
    "print(len(flipped))"
   ]
  },
  {
   "cell_type": "code",
   "execution_count": 87,
   "metadata": {},
   "outputs": [
    {
     "name": "stdout",
     "output_type": "stream",
     "text": [
      "-3 3 -3 3\n",
      "-4 -4 0\n",
      "-4 -3 0\n",
      "-4 -2 0\n",
      "-4 -1 0\n",
      "-4 0 0\n",
      "-4 1 0\n",
      "-4 2 0\n",
      "-4 3 0\n",
      "-4 4 0\n",
      "-3 -4 0\n",
      "-3 -3 0\n",
      "-3 -2 0\n",
      "-3 -1 0\n",
      "-3 0 0\n",
      "-3 1 0\n",
      "-3 2 0\n",
      "-3 3 0\n",
      "-3 4 0\n",
      "-2 -4 0\n",
      "-2 -3 0\n",
      "-2 -2 0\n",
      "-2 -1 0\n",
      "-2 0 0\n",
      "-2 1 0\n",
      "-2 2 0\n",
      "-2 3 0\n",
      "-2 4 0\n",
      "-1 -4 0\n",
      "-1 -3 0\n",
      "-1 -2 0\n",
      "-1 -1 0\n",
      "-1 0 0\n",
      "-1 1 0\n",
      "-1 2 0\n",
      "-1 3 0\n",
      "-1 4 0\n",
      "0 -4 0\n",
      "0 -3 0\n",
      "0 -2 0\n",
      "0 -1 0\n",
      "0 0 0\n",
      "0 1 0\n",
      "0 2 0\n",
      "0 3 0\n",
      "0 4 0\n",
      "1 -4 0\n",
      "1 -3 0\n",
      "1 -2 0\n",
      "1 -1 0\n",
      "1 0 0\n",
      "1 1 0\n",
      "1 2 0\n",
      "1 3 0\n",
      "1 4 0\n",
      "2 -4 0\n",
      "2 -3 0\n",
      "2 -2 0\n",
      "2 -1 0\n",
      "2 0 0\n",
      "2 1 0\n",
      "2 2 0\n",
      "2 3 0\n",
      "2 4 0\n",
      "3 -4 0\n",
      "3 -3 0\n",
      "3 -2 0\n",
      "3 -1 0\n",
      "3 0 0\n",
      "3 1 0\n",
      "3 2 0\n",
      "3 3 0\n",
      "3 4 0\n",
      "4 -4 0\n",
      "4 -3 0\n",
      "4 -2 0\n",
      "4 -1 0\n",
      "4 0 0\n",
      "4 1 0\n",
      "4 2 0\n",
      "4 3 0\n",
      "4 4 0\n"
     ]
    },
    {
     "data": {
      "text/plain": [
       "set()"
      ]
     },
     "execution_count": 87,
     "metadata": {},
     "output_type": "execute_result"
    }
   ],
   "source": [
    "def game_of_life(black):\n",
    "    s0, s1 = sorted(black, key=lambda x: x[0]), sorted(black, key=lambda x: x[1])\n",
    "    min_x, max_x = s0[0][0], s0[-1][0]\n",
    "    min_y, max_y = s1[0][1], s1[-1][1]\n",
    "    print(min_x, max_x, min_y, max_y)\n",
    "    black_backup = black.copy()\n",
    "    for x in range(min_x-1, max_x+2):\n",
    "        for y in range(min_y-1, max_y+2):\n",
    "            # Now we need to determine if (x, y) needs to flip\n",
    "            num_neighbors = sum([(x, y) + adj in black for adj in move_dict.values()])\n",
    "            print(x, y, num_neighbors)\n",
    "            if (x, y) in black_backup and (num_neighbors == 0 or num_neighbors > 2):\n",
    "                black.remove((x, y))\n",
    "            elif (x, y) not in black_backup and (num_neighbors == 2):\n",
    "                black.add((x, y))\n",
    "    return black\n",
    "\n",
    "flipped_1 = flipped.copy()\n",
    "\n",
    "game_of_life(flipped_1)\n",
    "\n",
    "#for i in range(101):\n",
    "#    flipped_1 = game_of_life(flipped_1)\n",
    "#    print(i+1, len(flipped_1))"
   ]
  },
  {
   "cell_type": "code",
   "execution_count": 56,
   "metadata": {},
   "outputs": [
    {
     "name": "stdout",
     "output_type": "stream",
     "text": [
      "[] []\n"
     ]
    },
    {
     "ename": "IndexError",
     "evalue": "list index out of range",
     "output_type": "error",
     "traceback": [
      "\u001b[0;31m---------------------------------------------------------------------------\u001b[0m",
      "\u001b[0;31mIndexError\u001b[0m                                Traceback (most recent call last)",
      "\u001b[0;32m/tmp/ipykernel_8861/4257129751.py\u001b[0m in \u001b[0;36m<module>\u001b[0;34m\u001b[0m\n\u001b[0;32m----> 1\u001b[0;31m \u001b[0mgame_of_life\u001b[0m\u001b[0;34m(\u001b[0m\u001b[0mflipped\u001b[0m\u001b[0;34m)\u001b[0m\u001b[0;34m\u001b[0m\u001b[0;34m\u001b[0m\u001b[0m\n\u001b[0m",
      "\u001b[0;32m/tmp/ipykernel_8861/1755337994.py\u001b[0m in \u001b[0;36mgame_of_life\u001b[0;34m(black)\u001b[0m\n\u001b[1;32m      2\u001b[0m     \u001b[0ms0\u001b[0m\u001b[0;34m,\u001b[0m \u001b[0ms1\u001b[0m \u001b[0;34m=\u001b[0m \u001b[0msorted\u001b[0m\u001b[0;34m(\u001b[0m\u001b[0mflipped\u001b[0m\u001b[0;34m,\u001b[0m \u001b[0mkey\u001b[0m\u001b[0;34m=\u001b[0m\u001b[0;32mlambda\u001b[0m \u001b[0mx\u001b[0m\u001b[0;34m:\u001b[0m \u001b[0mx\u001b[0m\u001b[0;34m[\u001b[0m\u001b[0;36m0\u001b[0m\u001b[0;34m]\u001b[0m\u001b[0;34m)\u001b[0m\u001b[0;34m,\u001b[0m \u001b[0msorted\u001b[0m\u001b[0;34m(\u001b[0m\u001b[0mflipped\u001b[0m\u001b[0;34m,\u001b[0m \u001b[0mkey\u001b[0m\u001b[0;34m=\u001b[0m\u001b[0;32mlambda\u001b[0m \u001b[0mx\u001b[0m\u001b[0;34m:\u001b[0m \u001b[0mx\u001b[0m\u001b[0;34m[\u001b[0m\u001b[0;36m1\u001b[0m\u001b[0;34m]\u001b[0m\u001b[0;34m)\u001b[0m\u001b[0;34m\u001b[0m\u001b[0;34m\u001b[0m\u001b[0m\n\u001b[1;32m      3\u001b[0m     \u001b[0mprint\u001b[0m\u001b[0;34m(\u001b[0m\u001b[0ms0\u001b[0m\u001b[0;34m,\u001b[0m \u001b[0ms1\u001b[0m\u001b[0;34m)\u001b[0m\u001b[0;34m\u001b[0m\u001b[0;34m\u001b[0m\u001b[0m\n\u001b[0;32m----> 4\u001b[0;31m     \u001b[0mmin_x\u001b[0m\u001b[0;34m,\u001b[0m \u001b[0mmax_x\u001b[0m \u001b[0;34m=\u001b[0m \u001b[0ms0\u001b[0m\u001b[0;34m[\u001b[0m\u001b[0;36m0\u001b[0m\u001b[0;34m]\u001b[0m\u001b[0;34m[\u001b[0m\u001b[0;36m0\u001b[0m\u001b[0;34m]\u001b[0m\u001b[0;34m,\u001b[0m \u001b[0ms1\u001b[0m\u001b[0;34m[\u001b[0m\u001b[0;34m-\u001b[0m\u001b[0;36m1\u001b[0m\u001b[0;34m]\u001b[0m\u001b[0;34m[\u001b[0m\u001b[0;36m0\u001b[0m\u001b[0;34m]\u001b[0m\u001b[0;34m\u001b[0m\u001b[0;34m\u001b[0m\u001b[0m\n\u001b[0m\u001b[1;32m      5\u001b[0m     \u001b[0mmin_y\u001b[0m\u001b[0;34m,\u001b[0m \u001b[0mmax_y\u001b[0m \u001b[0;34m=\u001b[0m \u001b[0ms1\u001b[0m\u001b[0;34m[\u001b[0m\u001b[0;36m0\u001b[0m\u001b[0;34m]\u001b[0m\u001b[0;34m[\u001b[0m\u001b[0;36m1\u001b[0m\u001b[0;34m]\u001b[0m\u001b[0;34m,\u001b[0m \u001b[0ms1\u001b[0m\u001b[0;34m[\u001b[0m\u001b[0;34m-\u001b[0m\u001b[0;36m1\u001b[0m\u001b[0;34m]\u001b[0m\u001b[0;34m[\u001b[0m\u001b[0;36m1\u001b[0m\u001b[0;34m]\u001b[0m\u001b[0;34m\u001b[0m\u001b[0;34m\u001b[0m\u001b[0m\n\u001b[1;32m      6\u001b[0m     \u001b[0;32mfor\u001b[0m \u001b[0mx\u001b[0m \u001b[0;32min\u001b[0m \u001b[0mrange\u001b[0m\u001b[0;34m(\u001b[0m\u001b[0mmin_x\u001b[0m\u001b[0;34m-\u001b[0m\u001b[0;36m1\u001b[0m\u001b[0;34m,\u001b[0m \u001b[0mmax_x\u001b[0m\u001b[0;34m+\u001b[0m\u001b[0;36m2\u001b[0m\u001b[0;34m)\u001b[0m\u001b[0;34m:\u001b[0m\u001b[0;34m\u001b[0m\u001b[0;34m\u001b[0m\u001b[0m\n",
      "\u001b[0;31mIndexError\u001b[0m: list index out of range"
     ]
    }
   ],
   "source": [
    "game_of_life(flipped)"
   ]
  },
  {
   "cell_type": "code",
   "execution_count": 61,
   "metadata": {},
   "outputs": [
    {
     "data": {
      "text/plain": [
       "[(-3, 3),\n",
       " (-1, -1),\n",
       " (-1, 0),\n",
       " (0, 0),\n",
       " (0, -2),\n",
       " (0, 2),\n",
       " (1, -2),\n",
       " (2, -3),\n",
       " (2, 0),\n",
       " (3, -3)]"
      ]
     },
     "execution_count": 61,
     "metadata": {},
     "output_type": "execute_result"
    }
   ],
   "source": [
    "sorted(flipped, key=lambda x: x[0])"
   ]
  },
  {
   "cell_type": "code",
   "execution_count": 58,
   "metadata": {},
   "outputs": [
    {
     "data": {
      "text/plain": [
       "set()"
      ]
     },
     "execution_count": 58,
     "metadata": {},
     "output_type": "execute_result"
    }
   ],
   "source": [
    "flipped"
   ]
  },
  {
   "cell_type": "code",
   "execution_count": null,
   "metadata": {},
   "outputs": [],
   "source": []
  }
 ],
 "metadata": {
  "interpreter": {
   "hash": "5d7396d72a031e084ca8a7a10bc9e074a727d6785ddc3f255c136fb1ccc8ec02"
  },
  "kernelspec": {
   "display_name": "Python 3.8.10 64-bit ('env': venv)",
   "language": "python",
   "name": "python3"
  },
  "language_info": {
   "codemirror_mode": {
    "name": "ipython",
    "version": 3
   },
   "file_extension": ".py",
   "mimetype": "text/x-python",
   "name": "python",
   "nbconvert_exporter": "python",
   "pygments_lexer": "ipython3",
   "version": "3.8.10"
  },
  "orig_nbformat": 4
 },
 "nbformat": 4,
 "nbformat_minor": 2
}
