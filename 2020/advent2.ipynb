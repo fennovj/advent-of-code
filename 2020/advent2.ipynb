{
 "cells": [
  {
   "cell_type": "code",
   "execution_count": 10,
   "metadata": {},
   "outputs": [],
   "source": [
    "import advent\n",
    "\n",
    "data = advent.get_lines(2, map_fn = lambda x: x.split(': '))"
   ]
  },
  {
   "cell_type": "code",
   "execution_count": 16,
   "metadata": {},
   "outputs": [
    {
     "data": {
      "text/plain": [
       "603"
      ]
     },
     "execution_count": 16,
     "metadata": {},
     "output_type": "execute_result"
    }
   ],
   "source": [
    "is_valid = 0\n",
    "for pw in data:\n",
    "    policy = pw[0].split(' ')\n",
    "    prange = policy[0].split('-')\n",
    "    if int(prange[0]) <= pw[1].count(policy[1]) <= int(prange[1]):\n",
    "        is_valid += 1\n",
    "\n",
    "is_valid\n"
   ]
  },
  {
   "cell_type": "code",
   "execution_count": 19,
   "metadata": {},
   "outputs": [
    {
     "data": {
      "text/plain": [
       "404"
      ]
     },
     "execution_count": 19,
     "metadata": {},
     "output_type": "execute_result"
    }
   ],
   "source": [
    "is_valid = 0\n",
    "for pw in data:\n",
    "    policy = pw[0].split(' ')\n",
    "    prange = policy[0].split('-')\n",
    "    if (pw[1][int(prange[0]) - 1] == policy[1]) != (pw[1][int(prange[1]) - 1] == policy[1]):\n",
    "        is_valid += 1\n",
    "\n",
    "is_valid\n"
   ]
  }
 ],
 "metadata": {
  "interpreter": {
   "hash": "5d7396d72a031e084ca8a7a10bc9e074a727d6785ddc3f255c136fb1ccc8ec02"
  },
  "kernelspec": {
   "display_name": "Python 3.8.10 64-bit ('env': venv)",
   "language": "python",
   "name": "python3"
  },
  "language_info": {
   "codemirror_mode": {
    "name": "ipython",
    "version": 3
   },
   "file_extension": ".py",
   "mimetype": "text/x-python",
   "name": "python",
   "nbconvert_exporter": "python",
   "pygments_lexer": "ipython3",
   "version": "3.8.10"
  },
  "orig_nbformat": 4
 },
 "nbformat": 4,
 "nbformat_minor": 2
}
