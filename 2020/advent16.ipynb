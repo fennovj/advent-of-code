{
 "cells": [
  {
   "cell_type": "code",
   "execution_count": 36,
   "metadata": {},
   "outputs": [],
   "source": [
    "with open('data/advent16.txt', 'r') as f:\n",
    "    data = f.read().splitlines()\n",
    "\n",
    "ranges = data[0:20]\n",
    "my_ticket = data[22]\n",
    "tickets = data[25:]\n",
    "\n",
    "# Parse the ranges\n",
    "for ix, r in enumerate(ranges):\n",
    "    line = r.split(' ')\n",
    "    if ix > 9:\n",
    "        ranges[ix] = [int(i) for i in line[1].split('-') + line[3].split('-')]\n",
    "    else:\n",
    "        ranges[ix] = [int(i) for i in line[2].split('-') + line[4].split('-')]\n",
    "\n",
    "tickets = [[int(i) for i in line.split(',')] for line in tickets]\n",
    "my_ticket = [int(i) for i in my_ticket.split(',')]\n",
    "\n",
    "def in_any_range(num, ranges):\n",
    "    for r in ranges:\n",
    "        if (r[0] <= num <= r[1]) or (r[2] <= num <= r[3]):\n",
    "            return True\n",
    "    return False"
   ]
  },
  {
   "cell_type": "code",
   "execution_count": 37,
   "metadata": {},
   "outputs": [
    {
     "name": "stdout",
     "output_type": "stream",
     "text": [
      "24110\n"
     ]
    }
   ],
   "source": [
    "error_rate = 0\n",
    "invalid_tickets = set([])\n",
    "for ix, ticket in enumerate(tickets):\n",
    "    for i in ticket:\n",
    "        if not in_any_range(i, ranges):\n",
    "            error_rate += i\n",
    "            invalid_tickets.add(ix)\n",
    "\n",
    "print(error_rate)\n",
    "\n",
    "# Remove invalid tickets (not idempotent!)\n",
    "invalid_tickets = sorted(list(invalid_tickets), reverse=True)\n",
    "for ix in invalid_tickets:\n",
    "    tickets.pop(ix)"
   ]
  },
  {
   "cell_type": "code",
   "execution_count": 38,
   "metadata": {},
   "outputs": [],
   "source": [
    "def fits_all_nums(nums, r):\n",
    "    # Does a list of numbers fit this range\n",
    "    for num in nums:\n",
    "        if not ((r[0] <= num <= r[1]) or (r[2] <= num <= r[3])):\n",
    "            return False\n",
    "    return True"
   ]
  },
  {
   "cell_type": "code",
   "execution_count": null,
   "metadata": {},
   "outputs": [],
   "source": [
    "# Dictionary from ranges to columns\n",
    "# e.g. {1: 4} means that my_ticket[4] refers to ranges[1]\n",
    "# Remember, for the excercise we need to identify ranges 0, 1, 2, 3, 4, 5\n",
    "identified = {}\n",
    "num_cols = len(my_ticket)\n",
    "\n",
    "# This doesn't work... it loops infinitely... :(\n",
    "\n",
    "while not all([i in identified for i in range(6)]):\n",
    "    # Pass over each column to see if there is only a single range it could be\n",
    "    unidentified_cols = [i for i in range(num_cols) if i not in identified.values()]\n",
    "    for col_ix in unidentified_cols:\n",
    "        nums = [ticket[col_ix] for ticket in tickets]\n",
    "        fits = [fits_all_nums(nums, r) for r in ranges]\n",
    "        if sum(fits) == 1:\n",
    "            print(\"Found one!\", col_ix)\n",
    "            identified[fits.index(True)] = col_ix\n",
    "        elif sum(fits) == 0:\n",
    "            raise ValueError(\"Something went wrong\")\n"
   ]
  },
  {
   "cell_type": "code",
   "execution_count": 57,
   "metadata": {},
   "outputs": [
    {
     "data": {
      "text/plain": [
       "array([ True,  True,  True,  True,  True,  True,  True,  True,  True,\n",
       "        True,  True,  True,  True,  True,  True,  True,  True,  True,\n",
       "        True,  True])"
      ]
     },
     "execution_count": 57,
     "metadata": {},
     "output_type": "execute_result"
    }
   ],
   "source": [
    "import numpy as np\n",
    "fits = np.zeros((len(my_ticket), len(ranges)), dtype=bool)\n",
    "\n",
    "for x in range(len(my_ticket)):\n",
    "    for y in range(len(ranges)):\n",
    "        col = [ticket[x] for ticket in tickets]\n",
    "        fits[x, y] = fits_all_nums(col, ranges[y])\n",
    "\n",
    "# Look, don't ask too many questions... It just turns out that\n",
    "# The transpose of the inverse (and ignore the -1 elements) is the answer\n",
    "solution = np.where(np.transpose(np.linalg.inv(fits) == 1))\n",
    "fits[solution]\n"
   ]
  },
  {
   "cell_type": "code",
   "execution_count": 63,
   "metadata": {},
   "outputs": [
    {
     "data": {
      "text/plain": [
       "6766503490793"
      ]
     },
     "execution_count": 63,
     "metadata": {},
     "output_type": "execute_result"
    }
   ],
   "source": [
    "result = 1  # Multiply the ticket values where rangge is in 0 to 5\n",
    "# first value is column, second value is range\n",
    "for i, j in zip(solution[0], solution[1]):\n",
    "    if j < 6:\n",
    "        result *= my_ticket[i]\n",
    "result"
   ]
  }
 ],
 "metadata": {
  "interpreter": {
   "hash": "5d7396d72a031e084ca8a7a10bc9e074a727d6785ddc3f255c136fb1ccc8ec02"
  },
  "kernelspec": {
   "display_name": "Python 3.8.10 64-bit ('env': venv)",
   "language": "python",
   "name": "python3"
  },
  "language_info": {
   "codemirror_mode": {
    "name": "ipython",
    "version": 3
   },
   "file_extension": ".py",
   "mimetype": "text/x-python",
   "name": "python",
   "nbconvert_exporter": "python",
   "pygments_lexer": "ipython3",
   "version": "3.8.10"
  },
  "orig_nbformat": 4
 },
 "nbformat": 4,
 "nbformat_minor": 2
}
