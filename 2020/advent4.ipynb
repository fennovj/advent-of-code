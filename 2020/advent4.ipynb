{
 "cells": [
  {
   "cell_type": "code",
   "execution_count": 1,
   "metadata": {},
   "outputs": [],
   "source": [
    "with open(\"data/advent4.txt\", \"r\") as f:\n",
    "    data = f.read()\n",
    "\n",
    "passports = [line.replace(\"\\n\", \" \") for line in data.split(\"\\n\\n\")]"
   ]
  },
  {
   "cell_type": "code",
   "execution_count": 2,
   "metadata": {},
   "outputs": [
    {
     "data": {
      "text/plain": [
       "200"
      ]
     },
     "execution_count": 2,
     "metadata": {},
     "output_type": "execute_result"
    }
   ],
   "source": [
    "fields = [\"byr\", \"iyr\", \"eyr\", \"hgt\", \"hcl\", \"ecl\", \"pid\"]\n",
    "\n",
    "def is_valid(group):\n",
    "    return all(field in group for field in fields)\n",
    "\n",
    "sum(map(is_valid, passports))"
   ]
  },
  {
   "cell_type": "code",
   "execution_count": 11,
   "metadata": {},
   "outputs": [
    {
     "data": {
      "text/plain": [
       "116"
      ]
     },
     "execution_count": 11,
     "metadata": {},
     "output_type": "execute_result"
    }
   ],
   "source": [
    "import re\n",
    "\n",
    "def get(splitted, value):\n",
    "    # Given a passport split into its fields, returns the value of that field\n",
    "    return list(filter(lambda x: x.startswith(value), splitted))[0][4:]\n",
    "\n",
    "def valid_height(height):\n",
    "    if height.endswith('cm'):\n",
    "        return height[:-2].isdigit() and 150 <= int(height[:-2]) <= 193\n",
    "    elif height.endswith('in'):\n",
    "        return height[:-2].isdigit() and 59 <= int(height[:-2]) <= 76\n",
    "    return False\n",
    "\n",
    "def is_valid(passport):\n",
    "    if not all(field in passport for field in fields): return False\n",
    "    p = passport.split(' ')\n",
    "    return \\\n",
    "        (1920 <= int(get(p, 'byr')) <= 2002) and \\\n",
    "        (2010 <= int(get(p, 'iyr')) <= 2020) and \\\n",
    "        (2020 <= int(get(p, 'eyr')) <= 2030) and \\\n",
    "        re.match(r\"^#[0-9a-f]{6}$\", get(p, \"hcl\")) is not None and \\\n",
    "        valid_height(get(p, 'hgt')) and \\\n",
    "        (get(p, 'ecl') in [ 'amb', 'blu', 'brn', 'gry', 'grn', 'hzl', 'oth']) and \\\n",
    "        re.match(r\"^\\d{9}$\", get(p, 'pid')) is not None\n",
    "\n",
    "sum(map(is_valid, passports))"
   ]
  }
 ],
 "metadata": {
  "interpreter": {
   "hash": "5d7396d72a031e084ca8a7a10bc9e074a727d6785ddc3f255c136fb1ccc8ec02"
  },
  "kernelspec": {
   "display_name": "Python 3.8.10 64-bit ('env': venv)",
   "language": "python",
   "name": "python3"
  },
  "language_info": {
   "codemirror_mode": {
    "name": "ipython",
    "version": 3
   },
   "file_extension": ".py",
   "mimetype": "text/x-python",
   "name": "python",
   "nbconvert_exporter": "python",
   "pygments_lexer": "ipython3",
   "version": "3.8.10"
  },
  "orig_nbformat": 4
 },
 "nbformat": 4,
 "nbformat_minor": 2
}
