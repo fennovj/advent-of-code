{
 "cells": [
  {
   "cell_type": "code",
   "execution_count": 16,
   "metadata": {},
   "outputs": [
    {
     "data": {
      "text/plain": [
       "181800"
      ]
     },
     "execution_count": 16,
     "metadata": {},
     "output_type": "execute_result"
    }
   ],
   "source": [
    "param = 20201227\n",
    "\n",
    "def transform(subject_number, loop_size):\n",
    "    number = 1\n",
    "    for _ in range(loop_size):\n",
    "        number *= subject_number\n",
    "        number = number - param*(number // param)\n",
    "    return number\n",
    "\n",
    "def get_loop_size(target, subject_number = 7):\n",
    "    number = 1\n",
    "    loop_size = 0\n",
    "    while number != target:\n",
    "        loop_size += 1\n",
    "        number *= subject_number\n",
    "        number = number - param*(number // param)\n",
    "    return loop_size\n",
    "\n",
    "def get_encryption_key(pkey1, pkey2, subject_number = 7):\n",
    "    loop_size1 = get_loop_size(pkey1, subject_number)\n",
    "    return transform(pkey2, loop_size1)\n",
    "\n",
    "input1 = 8252394\n",
    "input2 = 6269621\n",
    "\n",
    "#input1 = 5764801\n",
    "#input2 = 17807724\n",
    "get_encryption_key(input1, input2)\n",
    "\n"
   ]
  }
 ],
 "metadata": {
  "interpreter": {
   "hash": "5d7396d72a031e084ca8a7a10bc9e074a727d6785ddc3f255c136fb1ccc8ec02"
  },
  "kernelspec": {
   "display_name": "Python 3.8.10 64-bit ('env': venv)",
   "language": "python",
   "name": "python3"
  },
  "language_info": {
   "codemirror_mode": {
    "name": "ipython",
    "version": 3
   },
   "file_extension": ".py",
   "mimetype": "text/x-python",
   "name": "python",
   "nbconvert_exporter": "python",
   "pygments_lexer": "ipython3",
   "version": "3.8.10"
  },
  "orig_nbformat": 4
 },
 "nbformat": 4,
 "nbformat_minor": 2
}
