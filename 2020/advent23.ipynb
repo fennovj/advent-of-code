{
 "cells": [
  {
   "cell_type": "code",
   "execution_count": 58,
   "metadata": {},
   "outputs": [
    {
     "data": {
      "text/plain": [
       "[7, 1, 2, 6, 4, 3, 5, 8, 9]"
      ]
     },
     "execution_count": 58,
     "metadata": {},
     "output_type": "execute_result"
    }
   ],
   "source": [
    "input = 712643589\n",
    "\n",
    "# input = 389125467  # test input\n",
    "\n",
    "# convert to list of integers\n",
    "cups = [int(c) for c in str(input)]\n",
    "num_cups = len(cups)\n",
    "cups\n",
    "\n"
   ]
  },
  {
   "cell_type": "code",
   "execution_count": 64,
   "metadata": {},
   "outputs": [
    {
     "name": "stdout",
     "output_type": "stream",
     "text": [
      "[7, 1, 2, 6, 4, 3, 5, 8, 9]\n",
      "[4, 3, 5, 1, 2, 6, 8, 9, 7]\n",
      "[2, 3, 5, 1, 6, 8, 9, 7, 4]\n",
      "[6, 8, 9, 3, 5, 1, 7, 4, 2]\n",
      "[5, 8, 9, 3, 1, 7, 4, 2, 6]\n",
      "[1, 7, 4, 8, 9, 3, 2, 6, 5]\n",
      "[9, 7, 4, 8, 3, 2, 6, 5, 1]\n",
      "[3, 2, 6, 7, 4, 8, 5, 1, 9]\n",
      "[4, 8, 5, 1, 2, 6, 7, 9, 3]\n",
      "[2, 6, 7, 9, 3, 8, 5, 1, 4]\n",
      "67942385\n"
     ]
    }
   ],
   "source": [
    "rolldown = lambda x: num_cups if x == 1 else x-1\n",
    "\n",
    "def turn(cups):\n",
    "    current_cup = cups.pop(0)\n",
    "    cups.append(current_cup)\n",
    "    pick1, pick2, pick3 = cups.pop(0), cups.pop(0), cups.pop(0)\n",
    "    # Find the destination cup by rolling down current cup until it's in the cups list\n",
    "    destination = rolldown(current_cup)\n",
    "    while destination not in cups:\n",
    "        destination = rolldown(destination)\n",
    "    \n",
    "    # Insert cups back\n",
    "    cups.insert(cups.index(destination) + 1, pick1)\n",
    "    cups.insert(cups.index(destination) + 2, pick2)\n",
    "    cups.insert(cups.index(destination) + 3, pick3)\n",
    "    return cups\n",
    "    \n",
    "part1_cups = cups.copy()\n",
    "for _ in range(10):\n",
    "    print(part1_cups)\n",
    "    part1_cups = turn(part1_cups)\n",
    "\n",
    "while part1_cups[0] != 1:\n",
    "    part1_cups.append(part1_cups.pop(0))\n",
    "print(''.join(str(i) for i in part1_cups[1:]))"
   ]
  },
  {
   "cell_type": "code",
   "execution_count": 91,
   "metadata": {},
   "outputs": [
    {
     "data": {
      "application/vnd.jupyter.widget-view+json": {
       "model_id": "e130d639d8e84d6cbe33ecd5d4c8cbeb",
       "version_major": 2,
       "version_minor": 0
      },
      "text/plain": [
       "  0%|          | 0/10000000 [00:00<?, ?it/s]"
      ]
     },
     "metadata": {},
     "output_type": "display_data"
    },
    {
     "ename": "KeyboardInterrupt",
     "evalue": "",
     "output_type": "error",
     "traceback": [
      ""
     ]
    }
   ],
   "source": [
    "# part 2, rewrite in numpy, no popping/inserting, re-index only\n",
    "\n",
    "import numpy as np\n",
    "from tqdm.notebook import trange\n",
    "\n",
    "rolldown = lambda x, i, max=num_cups: x-i if x-i>0 else x-i+max \n",
    "\n",
    "def turn(ncups):\n",
    "    current_cup = ncups[0]\n",
    "    n1, n2, n3 = ncups[1], ncups[2], ncups[3]\n",
    "    r1, r2, r3 = rolldown(current_cup, 1), rolldown(current_cup, 2), rolldown(current_cup, 3)\n",
    "    \n",
    "    if r1 != n1 and r1 != n2 and r1 != n3:\n",
    "        destination = r1\n",
    "    elif r2 != n1 and r2 != n2 and r2 != n3:\n",
    "        destination = r2\n",
    "    elif r3 != n1 and r3 != n2 and r3 != n3:\n",
    "        destination = r3\n",
    "    else:\n",
    "        destination = rolldown(current_cup, 4)\n",
    "    dest_ix = np.where(ncups == destination)[0][0]\n",
    "    return np.concatenate([ncups[4:dest_ix+1], ncups[1:4], ncups[dest_ix+1:], ncups[0:1]])\n",
    "\n",
    "#ncups = np.array(cups.copy())\n",
    "ncups = np.array(cups.copy() + list(range(len(cups)+1, int(1e6)+1)))\n",
    "\n",
    "for i in trange(int(1e7)):\n",
    "    ncups = turn(ncups)\n"
   ]
  },
  {
   "cell_type": "code",
   "execution_count": null,
   "metadata": {},
   "outputs": [],
   "source": [
    "one_ix = np.where(ncups == 1)[0][0]\n",
    "if one_ix == 999998:\n",
    "    print(ncups[-1], ncups[0])\n",
    "elif one_ix == 999999:\n",
    "    print(ncups[0], ncups[1])\n",
    "else:\n",
    "    print(ncups[one_ix+1], ncups[one_ix+2])"
   ]
  },
  {
   "cell_type": "code",
   "execution_count": null,
   "metadata": {},
   "outputs": [],
   "source": []
  }
 ],
 "metadata": {
  "interpreter": {
   "hash": "5d7396d72a031e084ca8a7a10bc9e074a727d6785ddc3f255c136fb1ccc8ec02"
  },
  "kernelspec": {
   "display_name": "Python 3.8.10 64-bit ('env': venv)",
   "language": "python",
   "name": "python3"
  },
  "language_info": {
   "codemirror_mode": {
    "name": "ipython",
    "version": 3
   },
   "file_extension": ".py",
   "mimetype": "text/x-python",
   "name": "python",
   "nbconvert_exporter": "python",
   "pygments_lexer": "ipython3",
   "version": "3.8.10"
  },
  "orig_nbformat": 4
 },
 "nbformat": 4,
 "nbformat_minor": 2
}
