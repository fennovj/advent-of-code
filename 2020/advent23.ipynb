{
 "cells": [
  {
   "cell_type": "code",
   "execution_count": 7,
   "metadata": {},
   "outputs": [
    {
     "data": {
      "text/plain": [
       "[7, 1, 2, 6, 4, 3, 5, 8, 9]"
      ]
     },
     "execution_count": 7,
     "metadata": {},
     "output_type": "execute_result"
    }
   ],
   "source": [
    "input = 712643589\n",
    "\n",
    "# input = 389125467  # test input\n",
    "\n",
    "# convert to list of integers\n",
    "cups = [int(c) for c in str(input)]\n",
    "num_cups = len(cups)\n",
    "cups"
   ]
  },
  {
   "cell_type": "code",
   "execution_count": 10,
   "metadata": {},
   "outputs": [
    {
     "name": "stdout",
     "output_type": "stream",
     "text": [
      "29385746\n"
     ]
    }
   ],
   "source": [
    "rolldown = lambda x: num_cups if x == 1 else x-1\n",
    "\n",
    "def turn(cups):\n",
    "    current_cup = cups.pop(0)\n",
    "    cups.append(current_cup)\n",
    "    pick1, pick2, pick3 = cups.pop(0), cups.pop(0), cups.pop(0)\n",
    "    # Find the destination cup by rolling down current cup until it's in the cups list\n",
    "    destination = rolldown(current_cup)\n",
    "    while destination not in cups:\n",
    "        destination = rolldown(destination)\n",
    "    \n",
    "    # Insert cups back\n",
    "    cups.insert(cups.index(destination) + 1, pick1)\n",
    "    cups.insert(cups.index(destination) + 2, pick2)\n",
    "    cups.insert(cups.index(destination) + 3, pick3)\n",
    "    return cups\n",
    "    \n",
    "part1_cups = cups.copy()\n",
    "for _ in range(100):\n",
    "    part1_cups = turn(part1_cups)\n",
    "\n",
    "while part1_cups[0] != 1:\n",
    "    part1_cups.append(part1_cups.pop(0))\n",
    "print(''.join(str(i) for i in part1_cups[1:]))"
   ]
  },
  {
   "cell_type": "code",
   "execution_count": 16,
   "metadata": {},
   "outputs": [
    {
     "data": {
      "application/vnd.jupyter.widget-view+json": {
       "model_id": "0165eae0e3174d91bd1ab905bf6e5fa9",
       "version_major": 2,
       "version_minor": 0
      },
      "text/plain": [
       "  0%|          | 0/10000000 [00:00<?, ?it/s]"
      ]
     },
     "metadata": {},
     "output_type": "display_data"
    },
    {
     "name": "stdout",
     "output_type": "stream",
     "text": [
      "837921 812052\n"
     ]
    }
   ],
   "source": [
    "# part 2, rewrite in numpy, no popping/inserting, re-index only\n",
    "# It still takes like 3 hours though lol\n",
    "\n",
    "import numpy as np\n",
    "from tqdm.notebook import trange\n",
    "\n",
    "rolldown = lambda x, i, max=num_cups: x-i if x-i>0 else x-i+max \n",
    "\n",
    "def turn(ncups):\n",
    "    current_cup = ncups[0]\n",
    "    n1, n2, n3 = ncups[1], ncups[2], ncups[3]\n",
    "    r1, r2, r3 = rolldown(current_cup, 1), rolldown(current_cup, 2), rolldown(current_cup, 3)\n",
    "    \n",
    "    if r1 != n1 and r1 != n2 and r1 != n3:\n",
    "        destination = r1\n",
    "    elif r2 != n1 and r2 != n2 and r2 != n3:\n",
    "        destination = r2\n",
    "    elif r3 != n1 and r3 != n2 and r3 != n3:\n",
    "        destination = r3\n",
    "    else:\n",
    "        destination = rolldown(current_cup, 4)\n",
    "    dest_ix = np.where(ncups == destination)[0][0]\n",
    "    return np.concatenate([ncups[4:dest_ix+1], ncups[1:4], ncups[dest_ix+1:], ncups[0:1]])\n",
    "\n",
    "\n",
    "num_cups = int(1e6)\n",
    "num_turns = int(1e7)\n",
    "\n",
    "ncups = np.array(cups.copy() + list(range(len(cups)+1, num_cups+1)))\n",
    "\n",
    "for i in trange(num_turns):\n",
    "    ncups = turn(ncups)\n",
    "\n",
    "\n",
    "# Get solution\n",
    "one_ix = np.where(ncups == 1)[0][0]\n",
    "if one_ix == num_cups - 2:\n",
    "    print(ncups[-1], ncups[0])\n",
    "elif one_ix == num_cups - 1:\n",
    "    print(ncups[0], ncups[1])\n",
    "else:\n",
    "    print(ncups[one_ix+1], ncups[one_ix+2])\n"
   ]
  },
  {
   "cell_type": "code",
   "execution_count": 18,
   "metadata": {},
   "outputs": [
    {
     "name": "stdout",
     "output_type": "stream",
     "text": [
      "680435423892\n"
     ]
    }
   ],
   "source": [
    "print(837921*812052)\n",
    "# Correct!"
   ]
  }
 ],
 "metadata": {
  "interpreter": {
   "hash": "5d7396d72a031e084ca8a7a10bc9e074a727d6785ddc3f255c136fb1ccc8ec02"
  },
  "kernelspec": {
   "display_name": "Python 3.8.10 64-bit ('env': venv)",
   "language": "python",
   "name": "python3"
  },
  "language_info": {
   "codemirror_mode": {
    "name": "ipython",
    "version": 3
   },
   "file_extension": ".py",
   "mimetype": "text/x-python",
   "name": "python",
   "nbconvert_exporter": "python",
   "pygments_lexer": "ipython3",
   "version": "3.8.10"
  },
  "orig_nbformat": 4
 },
 "nbformat": 4,
 "nbformat_minor": 2
}
