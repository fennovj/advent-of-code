{
 "cells": [
  {
   "cell_type": "code",
   "execution_count": 1,
   "metadata": {},
   "outputs": [
    {
     "data": {
      "text/plain": [
       "318"
      ]
     },
     "execution_count": 1,
     "metadata": {},
     "output_type": "execute_result"
    }
   ],
   "source": [
    "import pandas as pd\n",
    "data = pd.read_csv('advent8.csv', sep=' ', header=None)\n",
    "\n",
    "# Part 1\n",
    "pd.concat([data[11], data[12], data[13], data[14]], ignore_index=True).apply(lambda x: len(x) in [2, 3, 4, 7]).sum()"
   ]
  },
  {
   "cell_type": "code",
   "execution_count": 2,
   "metadata": {},
   "outputs": [
    {
     "name": "stdout",
     "output_type": "stream",
     "text": [
      "996280\n"
     ]
    }
   ],
   "source": [
    "from collections import Counter\n",
    "\n",
    "def get_code(r):\n",
    "    # Given a row of all 10 encoded digits, derive the individual components\n",
    "\n",
    "    # Get the digits with two/three components\n",
    "    lens = list(map(len, r))\n",
    "    two, three, four, seven = [r[lens.index(i)] for i in [2, 3, 4, 7]]\n",
    "    # Calculate a mapping from how often a number occurs to those numbers\n",
    "    c = Counter(''.join(sorted(''.join(r))))\n",
    "    d = {x: [] for x in [4, 6, 7, 8, 9]}\n",
    "    for k in c:\n",
    "        d[c[k]].append(k)\n",
    "    # Subtract two lists and get the (unique) outcome\n",
    "    smart_sub = lambda a, b: list(set(list(a)) - set(list(b)))[0]\n",
    "\n",
    "    # Now we have enough info to get the encoding\n",
    "    topcenter = smart_sub(three, two)\n",
    "    bottomleft = d[4][0]\n",
    "    bottomright = d[9][0]\n",
    "    topright = smart_sub(d[8], topcenter)\n",
    "    #topleft = d[6][0]\n",
    "    #center = smart_sub(four, topright+topleft+bottomright)\n",
    "    #bottomcenter = smart_sub(d[7], center)\n",
    "\n",
    "    return topcenter, bottomleft, bottomright, topright\n",
    "\n",
    "def decode(digit, code):\n",
    "    # Given an encoded digits and the code (output from get_code), decode the digit to int\n",
    "    if len(digit) == 2: return 1\n",
    "    if code[2] not in digit: return 2\n",
    "    if len(digit) == 5 and code[3] in digit: return 3\n",
    "    if len(digit) == 4: return 4\n",
    "    if len(digit) == 5: return 5\n",
    "    if code[3] not in digit: return 6\n",
    "    if len(digit) == 3: return 7\n",
    "    if len(digit) == 7: return 8\n",
    "    if code[1] not in digit: return 9\n",
    "    return 0\n",
    "\n",
    "def parse_line(data, ix):\n",
    "    code = get_code(data.iloc[ix, :10].tolist())\n",
    "    num = [decode(n, code) for n in data.iloc[ix, 11:15].tolist()]\n",
    "    return int(''.join(str(x) for x in num))\n",
    "\n",
    "result = 0\n",
    "for i in range(data.shape[0]):\n",
    "    result += parse_line(data, i)\n",
    "print(result)\n"
   ]
  },
  {
   "cell_type": "markdown",
   "metadata": {},
   "source": []
  }
 ],
 "metadata": {
  "interpreter": {
   "hash": "1ba485997a1541442dfd44644569850fb24d8f183b3d63720c2396ab2df01f7f"
  },
  "kernelspec": {
   "display_name": "Python 3.9.7 64-bit ('env': venv)",
   "language": "python",
   "name": "python3"
  },
  "language_info": {
   "codemirror_mode": {
    "name": "ipython",
    "version": 3
   },
   "file_extension": ".py",
   "mimetype": "text/x-python",
   "name": "python",
   "nbconvert_exporter": "python",
   "pygments_lexer": "ipython3",
   "version": "3.9.7"
  },
  "orig_nbformat": 4
 },
 "nbformat": 4,
 "nbformat_minor": 2
}
