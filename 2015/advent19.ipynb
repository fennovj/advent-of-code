{
 "cells": [
  {
   "cell_type": "code",
   "execution_count": 24,
   "metadata": {},
   "outputs": [],
   "source": [
    "import advent\n",
    "advent.scrape(2015, 19)\n",
    "data = advent.get_lines_doublenewline(19)\n",
    "rules_raw, molecule = data\n",
    "molecule: str = molecule[0]\n",
    "MAXLEN = len(molecule)\n",
    "rules = []\n",
    "for rule in rules_raw:\n",
    "    rules.append(rule.split(' => '))"
   ]
  },
  {
   "cell_type": "code",
   "execution_count": 25,
   "metadata": {},
   "outputs": [
    {
     "name": "stdout",
     "output_type": "stream",
     "text": [
      "576\n"
     ]
    }
   ],
   "source": [
    "# I turned this into a function for part 2, but it's really just the same what I wrote for part 1 just wrapped in a function\n",
    "# I also added a tuple to possibilities instead of the element, but this has no impact on part 2\n",
    "def adjacent(molecule: str):\n",
    "    if len(molecule) > MAXLEN: return []\n",
    "    possibilities = set([])\n",
    "    for left, right in rules:\n",
    "        if left in molecule:\n",
    "            indexes = [i for i in range(len(molecule)) if molecule.startswith(left, i)]\n",
    "            for ix in indexes:\n",
    "                possibilities.add((molecule[:ix] + molecule[ix:].replace(left, right, 1), 1))\n",
    "    return possibilities\n",
    "print(len(adjacent(molecule)))\n"
   ]
  },
  {
   "cell_type": "code",
   "execution_count": 28,
   "metadata": {},
   "outputs": [],
   "source": [
    "# Could try dynamic programming but dijkstra seems more fun :D\n",
    "from advent.maze import solve_maze\n",
    "\n",
    "# This didn't end up working\n",
    "#solve_maze('e', lambda x: x==molecule, adjacent)\n"
   ]
  },
  {
   "cell_type": "code",
   "execution_count": null,
   "metadata": {},
   "outputs": [],
   "source": [
    "def adjacent_reverse(molecule: str):\n",
    "    for right, left in rules:\n",
    "        if left in molecule:\n",
    "            for ix in range(len(molecule)):\n",
    "                if molecule.startswith(left, ix):\n",
    "                    yield (molecule[:ix] + molecule[ix:].replace(left, right, 1), 1)\n",
    "\n",
    "print(list(adjacent_reverse(\"SiRnFYFArCaF\")))\n",
    "\n",
    "solve_maze(molecule, lambda x: x == 'e', adjacent_reverse)\n",
    "               "
   ]
  },
  {
   "cell_type": "code",
   "execution_count": null,
   "metadata": {},
   "outputs": [],
   "source": []
  }
 ],
 "metadata": {
  "kernelspec": {
   "display_name": ".venv",
   "language": "python",
   "name": "python3"
  },
  "language_info": {
   "codemirror_mode": {
    "name": "ipython",
    "version": 3
   },
   "file_extension": ".py",
   "mimetype": "text/x-python",
   "name": "python",
   "nbconvert_exporter": "python",
   "pygments_lexer": "ipython3",
   "version": "3.10.13"
  }
 },
 "nbformat": 4,
 "nbformat_minor": 2
}
