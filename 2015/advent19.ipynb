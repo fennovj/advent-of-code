{
 "cells": [
  {
   "cell_type": "code",
   "execution_count": 2,
   "metadata": {},
   "outputs": [],
   "source": [
    "import advent\n",
    "advent.scrape(2015, 19)\n",
    "data = advent.get_lines_doublenewline(19)\n",
    "rules_raw, molecule = data\n",
    "molecule: str = molecule[0]\n",
    "MAXLEN = len(molecule)\n",
    "rules = []\n",
    "for rule in rules_raw:\n",
    "    rules.append(rule.split(' => '))"
   ]
  },
  {
   "cell_type": "code",
   "execution_count": 12,
   "metadata": {},
   "outputs": [
    {
     "name": "stdout",
     "output_type": "stream",
     "text": [
      "576\n"
     ]
    }
   ],
   "source": [
    "# I turned this into a function for part 2, but it's really just the same what I wrote for part 1 just wrapped in a function\n",
    "# I also added a tuple to possibilities instead of the element, but this has no impact on part 2\n",
    "def adjacent(molecule: str):\n",
    "    if len(molecule) > MAXLEN: return []\n",
    "    possibilities = set([])\n",
    "    for left, right in rules:\n",
    "        if left in molecule:\n",
    "            indexes = [i for i in range(len(molecule)) if molecule.startswith(left, i)]\n",
    "            for ix in indexes:\n",
    "                possibilities.add((molecule[:ix] + molecule[ix:].replace(left, right, 1), 1))\n",
    "    return possibilities\n",
    "print(len(adjacent(molecule)))\n"
   ]
  },
  {
   "cell_type": "code",
   "execution_count": 13,
   "metadata": {},
   "outputs": [],
   "source": [
    "# Could try dynamic programming but dijkstra seems more fun :D\n",
    "from advent.maze import solve_maze\n",
    "\n",
    "# This didn't end up working\n",
    "#solve_maze('e', lambda x: x==molecule, adjacent)\n"
   ]
  },
  {
   "cell_type": "code",
   "execution_count": 14,
   "metadata": {},
   "outputs": [
    {
     "name": "stdout",
     "output_type": "stream",
     "text": [
      "[('CaCaF', 1), ('SiRnFYFArF', 1)]\n"
     ]
    }
   ],
   "source": [
    "def adjacent_reverse(molecule: str):\n",
    "    for right, left in rules:\n",
    "        if left in molecule:\n",
    "            for ix in range(len(molecule)):\n",
    "                if molecule.startswith(left, ix):\n",
    "                    yield (molecule[:ix] + molecule[ix:].replace(left, right, 1), 1)\n",
    "\n",
    "print(list(adjacent_reverse(\"SiRnFYFArCaF\")))\n",
    "\n",
    "# too slow\n",
    "#solve_maze(molecule, lambda x: x == 'e', adjacent_reverse)\n",
    "\n",
    "# At this point I did some googling and found this is a context-free grammar (duh), and you can use nltk"
   ]
  },
  {
   "cell_type": "code",
   "execution_count": null,
   "metadata": {},
   "outputs": [],
   "source": [
    "!pip install nltk"
   ]
  },
  {
   "cell_type": "code",
   "execution_count": 10,
   "metadata": {},
   "outputs": [
    {
     "name": "stdout",
     "output_type": "stream",
     "text": [
      "S\n"
     ]
    },
    {
     "name": "stderr",
     "output_type": "stream",
     "text": [
      "[nltk_data] Downloading package punkt to /Users/fenno/nltk_data...\n",
      "[nltk_data]   Package punkt is already up-to-date!\n"
     ]
    }
   ],
   "source": [
    "import nltk\n",
    "import re\n",
    "nltk.download('punkt')\n",
    "\n",
    "# Lets get our symbols\n",
    "terminals = set([])\n",
    "nonterminals = set([])\n",
    "\n",
    "for rule in rules:\n",
    "    nonterminals.add(rule[0])\n",
    "\n",
    "molecule_grammar = re.findall(r'[A-Z][a-z]*', molecule)\n",
    "\n",
    "grammar = \"S -> e\\n\"\n",
    "# Add dummy start rule 'S -> e' so NLTK understands us. remember to subtract 1 from the answer!\n",
    "for rule in rules:\n",
    "    outputs = re.findall(r'[A-Z][a-z]*', rule[1])\n",
    "    for o in outputs:\n",
    "        if o not in nonterminals: terminals.add(o)\n",
    "    os = ' '.join(o for o in outputs )\n",
    "    grammar += f\"{rule[0]} -> {os}\" + \"\\n\"\n",
    "for c in set(re.findall(r'[A-Z][a-z]*', molecule)):\n",
    "    grammar += f\"{c} -> '{c}'\\n\"\n",
    "\n",
    "nltk_grammar = nltk.CFG.fromstring(grammar)\n",
    "print(nltk_grammar.start())"
   ]
  },
  {
   "cell_type": "code",
   "execution_count": 20,
   "metadata": {},
   "outputs": [],
   "source": [
    "molecule_grammart = nltk.word_tokenize(' '.join(re.findall(r'[A-Z][a-z]*', molecule)))\n",
    "\n",
    "#parser = nltk.ChartParser(nltk_grammar)\n",
    "#trees = list(parser.parse(molecule_grammart))\n",
    "#print(trees[0].height() - 1)\n",
    "# This still took like 20 minutes\n",
    "\n",
    "# apparently the CYK algorithm is supposed to run in O(n^3 * |G|)\n",
    "# Where n is length of string and |G| is number of rules, so there's no way NLTK is using that\n",
    "# because that sounds like a really low complexity\n",
    "# Let's try implementing cyk ourselves"
   ]
  },
  {
   "cell_type": "code",
   "execution_count": 60,
   "metadata": {},
   "outputs": [
    {
     "name": "stdout",
     "output_type": "stream",
     "text": [
      "[('Al', ['Th', 'F']), ('Al', ['Th', 'X1']), ('X1', ['Rn', 'X2']), ('X2', ['F', 'Ar']), ('B', ['B', 'Ca']), ('B', ['Ti', 'B']), ('B', ['Ti', 'X3']), ('X3', ['Rn', 'X4']), ('X4', ['F', 'Ar']), ('Ca', ['Ca', 'Ca']), ('Ca', ['P', 'B']), ('Ca', ['P', 'X5']), ('X5', ['Rn', 'X6']), ('X6', ['F', 'Ar']), ('Ca', ['Si', 'X7']), ('X7', ['Rn', 'X8']), ('X8', ['F', 'X9']), ('X9', ['Y', 'X10']), ('X10', ['F', 'Ar']), ('Ca', ['Si', 'X11']), ('X11', ['Rn', 'X12']), ('X12', ['Mg', 'Ar']), ('Ca', ['Si', 'Th']), ('F', ['Ca', 'F']), ('F', ['P', 'Mg']), ('F', ['Si', 'Al']), ('H', ['C', 'X13']), ('X13', ['Rn', 'X14']), ('X14', ['Al', 'Ar']), ('H', ['C', 'X15']), ('X15', ['Rn', 'X16']), ('X16', ['F', 'X17']), ('X17', ['Y', 'X18']), ('X18', ['F', 'X19']), ('X19', ['Y', 'X20']), ('X20', ['F', 'Ar']), ('H', ['C', 'X21']), ('X21', ['Rn', 'X22']), ('X22', ['F', 'X23']), ('X23', ['Y', 'X24']), ('X24', ['Mg', 'Ar']), ('H', ['C', 'X25']), ('X25', ['Rn', 'X26']), ('X26', ['Mg', 'X27']), ('X27', ['Y', 'X28']), ('X28', ['F', 'Ar']), ('H', ['H', 'Ca']), ('H', ['N', 'X29']), ('X29', ['Rn', 'X30']), ('X30', ['F', 'X31']), ('X31', ['Y', 'X32']), ('X32', ['F', 'Ar']), ('H', ['N', 'X33']), ('X33', ['Rn', 'X34']), ('X34', ['Mg', 'Ar']), ('H', ['N', 'Th']), ('H', ['O', 'B']), ('H', ['O', 'X35']), ('X35', ['Rn', 'X36']), ('X36', ['F', 'Ar']), ('Mg', ['B', 'F']), ('Mg', ['Ti', 'Mg']), ('N', ['C', 'X37']), ('X37', ['Rn', 'X38']), ('X38', ['F', 'Ar']), ('N', ['H', 'Si']), ('O', ['C', 'X39']), ('X39', ['Rn', 'X40']), ('X40', ['F', 'X41']), ('X41', ['Y', 'X42']), ('X42', ['F', 'Ar']), ('O', ['C', 'X43']), ('X43', ['Rn', 'X44']), ('X44', ['Mg', 'Ar']), ('O', ['H', 'P']), ('O', ['N', 'X45']), ('X45', ['Rn', 'X46']), ('X46', ['F', 'Ar']), ('O', ['O', 'Ti']), ('P', ['Ca', 'P']), ('P', ['P', 'Ti']), ('P', ['Si', 'X47']), ('X47', ['Rn', 'X48']), ('X48', ['F', 'Ar']), ('Si', ['Ca', 'Si']), ('Th', ['Th', 'Ca']), ('Ti', ['B', 'P']), ('Ti', ['Ti', 'Ti']), ('e', ['H', 'F']), ('e', ['N', 'Al']), ('e', ['O', 'Mg']), ('O', ['tO']), ('Th', ['tTh']), ('Mg', ['tMg']), ('Y', ['tY']), ('F', ['tF']), ('N', ['tN']), ('B', ['tB']), ('Ti', ['tTi']), ('P', ['tP']), ('C', ['tC']), ('H', ['tH']), ('Ar', ['tAr']), ('Ca', ['tCa']), ('Al', ['tAl']), ('Rn', ['tRn']), ('Si', ['tSi'])]\n",
      "['e', 'O', 'Th', 'Mg', 'Y', 'F', 'N', 'B', 'Ti', 'P', 'C', 'H', 'Ar', 'Ca', 'Al', 'Rn', 'Si']\n",
      "['tO', 'tTh', 'tMg', 'tY', 'tF', 'tN', 'tB', 'tTi', 'tP', 'tC', 'tH', 'tAr', 'tCa', 'tAl', 'tRn', 'tSi']\n",
      "['tO', 'tRn', 'tP', 'tB', 'tP', 'tMg', 'tAr', 'tCa', 'tCa', 'tCa', 'tSi', 'tTh', 'tCa', 'tCa', 'tSi', 'tTh', 'tCa', 'tCa', 'tP', 'tB', 'tSi', 'tRn', 'tF', 'tAr', 'tRn', 'tF', 'tAr', 'tCa', 'tCa', 'tSi', 'tTh', 'tCa', 'tCa', 'tSi', 'tTh', 'tCa', 'tCa', 'tCa', 'tCa', 'tCa', 'tCa', 'tSi', 'tRn', 'tF', 'tY', 'tF', 'tAr', 'tSi', 'tRn', 'tMg', 'tAr', 'tCa', 'tSi', 'tRn', 'tP', 'tTi', 'tTi', 'tB', 'tF', 'tY', 'tP', 'tB', 'tF', 'tAr', 'tSi', 'tRn', 'tCa', 'tSi', 'tRn', 'tTi', 'tRn', 'tF', 'tAr', 'tSi', 'tAl', 'tAr', 'tP', 'tTi', 'tB', 'tP', 'tTi', 'tRn', 'tCa', 'tSi', 'tAl', 'tAr', 'tCa', 'tP', 'tTi', 'tTi', 'tB', 'tP', 'tMg', 'tY', 'tF', 'tAr', 'tP', 'tTi', 'tRn', 'tF', 'tAr', 'tSi', 'tRn', 'tCa', 'tCa', 'tF', 'tAr', 'tRn', 'tCa', 'tF', 'tAr', 'tCa', 'tSi', 'tRn', 'tSi', 'tRn', 'tMg', 'tAr', 'tF', 'tY', 'tCa', 'tSi', 'tRn', 'tMg', 'tAr', 'tCa', 'tCa', 'tSi', 'tTh', 'tP', 'tRn', 'tF', 'tAr', 'tP', 'tB', 'tCa', 'tSi', 'tRn', 'tMg', 'tAr', 'tCa', 'tCa', 'tSi', 'tTh', 'tCa', 'tSi', 'tRn', 'tTi', 'tMg', 'tAr', 'tF', 'tAr', 'tSi', 'tTh', 'tSi', 'tTh', 'tCa', 'tCa', 'tSi', 'tRn', 'tMg', 'tAr', 'tCa', 'tCa', 'tSi', 'tRn', 'tF', 'tAr', 'tTi', 'tB', 'tP', 'tTi', 'tRn', 'tCa', 'tSi', 'tAl', 'tAr', 'tCa', 'tP', 'tTi', 'tRn', 'tF', 'tAr', 'tP', 'tB', 'tP', 'tB', 'tCa', 'tCa', 'tSi', 'tTh', 'tCa', 'tP', 'tB', 'tSi', 'tTh', 'tP', 'tRn', 'tF', 'tAr', 'tSi', 'tTh', 'tCa', 'tSi', 'tTh', 'tCa', 'tSi', 'tTh', 'tCa', 'tP', 'tTi', 'tB', 'tSi', 'tRn', 'tF', 'tY', 'tF', 'tAr', 'tCa', 'tCa', 'tP', 'tRn', 'tF', 'tAr', 'tP', 'tB', 'tCa', 'tCa', 'tP', 'tB', 'tSi', 'tRn', 'tTi', 'tRn', 'tF', 'tAr', 'tCa', 'tP', 'tRn', 'tF', 'tAr', 'tSi', 'tRn', 'tCa', 'tCa', 'tCa', 'tSi', 'tTh', 'tCa', 'tRn', 'tCa', 'tF', 'tAr', 'tY', 'tCa', 'tSi', 'tRn', 'tF', 'tAr', 'tB', 'tCa', 'tCa', 'tCa', 'tSi', 'tTh', 'tF', 'tAr', 'tP', 'tB', 'tF', 'tAr', 'tCa', 'tSi', 'tRn', 'tF', 'tAr', 'tRn', 'tCa', 'tCa', 'tCa', 'tF', 'tAr', 'tSi', 'tRn', 'tF', 'tAr', 'tTi', 'tRn', 'tP', 'tMg', 'tAr', 'tF']\n",
      "107\n"
     ]
    }
   ],
   "source": [
    "# for cyk we need chompsky normal form\n",
    "# follow procedure described here: https://en.wikipedia.org/wiki/Chomsky_normal_form\n",
    "# We only need to do TERM and BIN\n",
    "\n",
    "nts = ['e'] + list((terminals | nonterminals) - set(['e']))\n",
    "ts = [f\"t{c}\" for c in nts if c != 'e']\n",
    "cnf_rules = []\n",
    "cnt = 1\n",
    "for rule in rules:\n",
    "    outputs = re.findall(r'[A-Z][a-z]*', rule[1])\n",
    "    assert len(outputs) > 1\n",
    "    leftsymbol = rule[0]\n",
    "    while len(outputs) > 2:\n",
    "        cnf_rules.append((leftsymbol, [outputs[0], f\"X{cnt}\"]))\n",
    "        leftsymbol, outputs, cnt = f\"X{cnt}\", outputs[1:], cnt+1\n",
    "    cnf_rules.append((leftsymbol, outputs))\n",
    "for t in ts:\n",
    "    cnf_rules.append((t[1:], [t]))\n",
    "\n",
    "inputstr = ['t'+s for s in molecule_grammart]\n",
    "\n",
    "print(cnf_rules)\n",
    "print(nts)\n",
    "print(ts)\n",
    "print(inputstr)\n",
    "print(len(cnf_rules))\n",
    "assert nts[0] == 'e'"
   ]
  },
  {
   "cell_type": "code",
   "execution_count": 62,
   "metadata": {},
   "outputs": [
    {
     "name": "stderr",
     "output_type": "stream",
     "text": [
      "100%|██████████| 291/291 [02:40<00:00,  1.81it/s]"
     ]
    },
    {
     "name": "stdout",
     "output_type": "stream",
     "text": [
      "Success! Time to start inspecting back\n"
     ]
    },
    {
     "name": "stderr",
     "output_type": "stream",
     "text": [
      "\n"
     ]
    }
   ],
   "source": [
    "# https://en.wikipedia.org/wiki/CYK_algorithm\n",
    "from collections import defaultdict\n",
    "from functools import cache\n",
    "n = len(inputstr)\n",
    "r = len(nts) + cnt - 1  # nts plus X1..X_cnt-1\n",
    "P = defaultdict(bool) # (1..n, 1..n, 1..r) -> bool, default=False\n",
    "back = defaultdict(list) # (1..n, 1..n, 1..r) -> bool, default=[]\n",
    "\n",
    "@cache\n",
    "def number_nonterminal(t: str) -> int:\n",
    "    # output ranges from 1 to r inclusive\n",
    "    if t in nts: return nts.index(t) + 1\n",
    "    return int(t[1:]) + len(nts)\n",
    "\n",
    "for s in range(1, n+1):\n",
    "    terminal_s = inputstr[s-1]\n",
    "    for rule in cnf_rules:\n",
    "        assert isinstance(rule[1], list)\n",
    "        if len(rule[1]) == 1 and rule[1][0] == terminal_s:\n",
    "            v = number_nonterminal(rule[0])\n",
    "            P[(1,s,v)] = True\n",
    "assert P[(1, 1, number_nonterminal('O'))] # sanity check, inputstr[1-1] is O\n",
    "assert P[(1, 2, number_nonterminal('Rn'))]\n",
    "assert number_nonterminal('e') == 1\n",
    "\n",
    "from tqdm import tqdm\n",
    "\n",
    "for l in tqdm(range(2, n+1)): # length of span\n",
    "    for s in range(1, n-l+2):  # start of span\n",
    "        for p in range(1, l):  # partition of span\n",
    "            for rule in cnf_rules:\n",
    "                if len(rule[1]) == 1: continue  # only nonterminal rules\n",
    "                a = number_nonterminal(rule[0])\n",
    "                b = number_nonterminal(rule[1][0])\n",
    "                c = number_nonterminal(rule[1][1])\n",
    "                if P[(p,s,b)] and P[(l-p,s+p,c)]:\n",
    "                    P[(l,s,a)] = True\n",
    "                    back[(l,s,a)] += [(p,b,c)]\n",
    "# takes like 2.5 minutes\n",
    "if P[(n,1,1)]:\n",
    "    print(\"Success! Time to start inspecting back\") "
   ]
  },
  {
   "cell_type": "code",
   "execution_count": 74,
   "metadata": {},
   "outputs": [
    {
     "name": "stdout",
     "output_type": "stream",
     "text": [
      "292\n",
      "[(7, 12, 6), (8, 12, 6), (9, 12, 6), (10, 12, 6), (11, 7, 15), (12, 12, 6), (13, 12, 6), (14, 12, 6), (15, 7, 15), (16, 12, 6), (17, 12, 6), (18, 12, 6), (19, 2, 4), (20, 12, 6), (27, 12, 6), (28, 12, 6), (29, 12, 6), (30, 7, 15), (31, 12, 6), (32, 12, 6), (33, 12, 6), (34, 7, 15), (35, 12, 6), (36, 12, 6), (37, 12, 6), (38, 12, 6), (39, 12, 6), (40, 12, 6), (41, 12, 6), (47, 12, 6), (51, 12, 6), (52, 12, 6), (64, 12, 6), (96, 12, 6), (97, 2, 4), (101, 12, 6), (111, 12, 6), (112, 12, 6), (152, 12, 6), (153, 7, 15), (154, 12, 6), (155, 7, 15), (156, 12, 6), (157, 12, 6), (158, 12, 6), (162, 12, 6), (163, 12, 6), (164, 12, 6), (168, 2, 4), (169, 2, 4), (170, 12, 6), (171, 2, 4), (177, 12, 6), (178, 12, 6), (179, 2, 4), (183, 12, 6), (184, 2, 4), (185, 12, 6), (186, 2, 4), (187, 12, 6), (188, 12, 6), (189, 12, 6), (190, 7, 15), (191, 12, 6), (192, 12, 6), (193, 2, 4), (194, 12, 6), (195, 7, 15), (196, 12, 6), (200, 12, 6), (201, 7, 15), (202, 12, 6), (203, 12, 6), (204, 7, 15), (205, 12, 6), (206, 12, 6), (207, 7, 15), (208, 12, 6), (209, 12, 6), (210, 2, 4), (211, 2, 4), (212, 12, 6), (218, 12, 6), (219, 12, 6), (220, 12, 6), (224, 12, 6), (225, 2, 4), (226, 12, 6), (227, 12, 6), (228, 12, 6), (229, 2, 4), (230, 12, 6), (271, 12, 6), (272, 12, 6), (282, 12, 6), (286, 2, 4), (291, 12, 6)]\n",
      "[(1, 2, 52)]\n",
      "[(1, 14, 6), (2, 14, 6), (3, 14, 6), (4, 17, 15), (5, 14, 6), (6, 14, 6), (7, 14, 6), (8, 17, 15), (9, 14, 6), (10, 14, 6), (11, 14, 6), (12, 10, 4), (13, 14, 6), (20, 14, 6), (21, 14, 6), (22, 14, 6), (23, 17, 15), (24, 14, 6), (25, 14, 6), (26, 14, 6), (27, 17, 15), (28, 14, 6), (29, 14, 6), (30, 14, 6), (31, 14, 6), (32, 14, 6), (33, 14, 6), (34, 14, 6), (40, 14, 6), (44, 14, 6), (45, 14, 6), (57, 14, 6), (89, 14, 6), (90, 10, 4), (94, 14, 6), (104, 14, 6), (105, 14, 6), (145, 14, 6), (146, 17, 15), (147, 14, 6), (148, 17, 15), (149, 14, 6), (150, 14, 6), (151, 14, 6), (155, 14, 6), (156, 14, 6), (157, 14, 6), (161, 10, 4), (162, 10, 4), (163, 14, 6), (164, 10, 4), (170, 14, 6), (171, 14, 6), (172, 10, 4), (176, 14, 6), (177, 10, 4), (178, 14, 6), (179, 10, 4), (180, 14, 6), (181, 14, 6), (182, 14, 6), (183, 17, 15), (184, 14, 6), (185, 14, 6), (186, 10, 4), (187, 14, 6), (188, 17, 15), (189, 14, 6), (193, 14, 6), (194, 17, 15), (195, 14, 6), (196, 14, 6), (197, 17, 15), (198, 14, 6), (199, 14, 6), (200, 17, 15), (201, 14, 6), (202, 14, 6), (203, 10, 4), (204, 10, 4), (205, 14, 6), (211, 14, 6), (212, 14, 6), (213, 14, 6), (217, 14, 6), (218, 10, 4), (219, 14, 6), (220, 14, 6), (221, 14, 6), (222, 10, 4), (223, 14, 6), (264, 14, 6), (265, 14, 6), (275, 14, 6), (279, 10, 4), (284, 14, 6)]\n"
     ]
    }
   ],
   "source": [
    "# n, n, r = length, start, terminal\n",
    "print(n)\n",
    "print(back[(n, 1, 1)]) # length n, start 1, terminal 1 (e)\n",
    "# The elements of this are (p, b, c) meaning: partition input I at p\n",
    "# Then everything left of that is terminal b, right of that is terminal c\n",
    "# Example: (7, 12, 6), meaning first 7 chars is terminal 12(H), 8 and rest is terminal 6(F)\n",
    "# Now we want to backtrace (7, 12, 6), meaning we want to:\n",
    "# - fit the first 7 characters of I with 12\n",
    "# - fit the remaining characters of I with 6\n",
    "print(back[(7, 1, 12)]) # only one way to do it\n",
    "print(back[(n-7, 1+7, 6)]) # e.g. (3, 14, 6) meaning we split here at 3"
   ]
  },
  {
   "cell_type": "code",
   "execution_count": null,
   "metadata": {},
   "outputs": [
    {
     "name": "stdout",
     "output_type": "stream",
     "text": [
      "207\n"
     ]
    }
   ],
   "source": [
    "@cache\n",
    "def traverse_back(length, partition, nt):\n",
    "    #print(length, partition, nt)\n",
    "    if length == 1: return 0 # no substitutions needed\n",
    "    if not back[(length, partition, nt)]:\n",
    "        print((length, partition, nt))\n",
    "        return 9999999998  # Not sure but this happens apparently\n",
    "    result = 99999999999997\n",
    "    for p, b, c in back[(length, partition, nt)]:\n",
    "        subs = traverse_back(p, partition, b) + \\\n",
    "               traverse_back(length-p, partition+p, c) + \\\n",
    "               (1 if max(b, c) <= 17 else 0)\n",
    "        if subs < result:\n",
    "            result=subs\n",
    "    return result\n",
    "\n",
    "# Well this gives 291, which is really trivial: we start with 1 symbol,\n",
    "# each step adds 1 symbol, meaning we need 291 steps to get to n=292 symbols.\n",
    "print(traverse_back(n, 1, 1))\n",
    "# I then changed it to '(1 if max(b, c) <= 17 else 0)' (was just 1 before)\n",
    "# Meaning we don't count any rules like A -> B Xi as an actual substitution\n",
    "\n",
    "# And it gave 207. and to be honest at this point I was so deep in the weeds,\n",
    "# if this was incorrect I would have given up (and tried again at a later date)\n",
    "# But it was correct!"
   ]
  },
  {
   "cell_type": "code",
   "execution_count": 91,
   "metadata": {},
   "outputs": [
    {
     "name": "stdout",
     "output_type": "stream",
     "text": [
      "e: 1\n",
      "O: 2\n",
      "Th: 3\n",
      "Mg: 4\n",
      "Y: 5\n",
      "F: 6\n",
      "N: 7\n",
      "B: 8\n",
      "Ti: 9\n",
      "P: 10\n",
      "C: 11\n",
      "H: 12\n",
      "Ar: 13\n",
      "Ca: 14\n",
      "Al: 15\n",
      "Rn: 16\n",
      "Si: 17\n",
      "X1: 18\n",
      "X48: 65\n"
     ]
    }
   ],
   "source": [
    "# Just to help me understand a bit what was going on\n",
    "for i in nts:\n",
    "    print(f\"{i}: {number_nonterminal(i)}\")\n",
    "print(\"X1: 18\")\n",
    "print(f\"X48: {18+47}\")"
   ]
  }
 ],
 "metadata": {
  "kernelspec": {
   "display_name": ".venv",
   "language": "python",
   "name": "python3"
  },
  "language_info": {
   "codemirror_mode": {
    "name": "ipython",
    "version": 3
   },
   "file_extension": ".py",
   "mimetype": "text/x-python",
   "name": "python",
   "nbconvert_exporter": "python",
   "pygments_lexer": "ipython3",
   "version": "3.10.11"
  }
 },
 "nbformat": 4,
 "nbformat_minor": 2
}
