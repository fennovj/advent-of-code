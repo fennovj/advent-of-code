{
 "cells": [
  {
   "cell_type": "code",
   "execution_count": 1,
   "metadata": {},
   "outputs": [],
   "source": [
    "data = 33100000 // 10 # the x10 is a red herring\n",
    "# Goal: find minimum n such that sigma(n) >= data"
   ]
  },
  {
   "cell_type": "code",
   "execution_count": 15,
   "metadata": {},
   "outputs": [
    {
     "name": "stdout",
     "output_type": "stream",
     "text": [
      "776160\n"
     ]
    }
   ],
   "source": [
    "import math\n",
    "from functools import cache\n",
    "from collections import Counter\n",
    "\n",
    "@cache\n",
    "def prime_factor(n: int):\n",
    "    for i in range(2, math.floor(math.sqrt(n)) + 1):\n",
    "        if n % i == 0: return i\n",
    "    return n  # n must be prime\n",
    "\n",
    "def prime_factorization(n: int) -> dict[int, int]:\n",
    "    if n == 1: return Counter()\n",
    "    p = prime_factor(n)\n",
    "    result = prime_factorization(n // p)\n",
    "    result.update([p])\n",
    "    return result\n",
    "\n",
    "def sigma(n: int):\n",
    "    # if n = p1^e1 * p2^e2 * ..., then sigma(n) = sigma(p1) * sigma(p2) * ...\n",
    "    # and sigma(p^e) = (p^(e+1) - 1)/(p-1)\n",
    "    c = prime_factorization(n)\n",
    "    result = 1\n",
    "    for p in c:\n",
    "        # Yeah... not sure how I could have come up with this\n",
    "        # It's just straight from https://oeis.org/A000203\n",
    "        result *= (p**(c[p]+1)-1)//(p-1)\n",
    "    return result\n",
    "\n",
    "for n in range(1,9999999999999999):\n",
    "    if sigma(n) >= data:\n",
    "        print(n)\n",
    "        break"
   ]
  },
  {
   "cell_type": "code",
   "execution_count": 17,
   "metadata": {},
   "outputs": [],
   "source": [
    "# part 2\n",
    "# Well now its get tough... Let's try working it out\n",
    "# elf number k visits house k, 2k, ..., 50k\n",
    "# So e.g. we are at house 1000, this can only be visited by elves from 20 to 1000\n",
    "# aka: we want all divisors that are >= (n / 50)\n",
    "data2 = math.ceil(33100000 / 11) # This is just a red herring, just divide by 11 and round"
   ]
  },
  {
   "cell_type": "code",
   "execution_count": 19,
   "metadata": {},
   "outputs": [
    {
     "name": "stdout",
     "output_type": "stream",
     "text": [
      "786240\n"
     ]
    }
   ],
   "source": [
    "# let's say the solution is OOM 1 million, then n/50 is 20 thousand, which is\n",
    "# too much to check for every number. However, let's say we can count divisors up to 50\n",
    "# For a given n, we want: every divisor d where d >= n/50\n",
    "# but we know n = d * e where e <= 50, and in fact, e uniquely determines d\n",
    "# So to find all d, we can just find all e <= 50, and then d = n / e\n",
    "\n",
    "def sigma50(n: int):\n",
    "    return sum([n // e for e in range(2, 51) if n % e == 0]) + n\n",
    "\n",
    "for n in range(1,10**7):\n",
    "    if sigma50(n) >= data2:\n",
    "        print(n)\n",
    "        break"
   ]
  }
 ],
 "metadata": {
  "kernelspec": {
   "display_name": ".venv",
   "language": "python",
   "name": "python3"
  },
  "language_info": {
   "codemirror_mode": {
    "name": "ipython",
    "version": 3
   },
   "file_extension": ".py",
   "mimetype": "text/x-python",
   "name": "python",
   "nbconvert_exporter": "python",
   "pygments_lexer": "ipython3",
   "version": "3.10.11"
  }
 },
 "nbformat": 4,
 "nbformat_minor": 2
}
