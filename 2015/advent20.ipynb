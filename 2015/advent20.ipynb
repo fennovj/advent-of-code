{
 "cells": [
  {
   "cell_type": "code",
   "execution_count": 12,
   "metadata": {},
   "outputs": [],
   "source": [
    "data = 33100000 // 10 # the x10 is a red herring\n",
    "# Goal: find minimum n such that sigma(n) >= data"
   ]
  },
  {
   "cell_type": "code",
   "execution_count": 27,
   "metadata": {},
   "outputs": [
    {
     "name": "stdout",
     "output_type": "stream",
     "text": [
      "776160\n"
     ]
    }
   ],
   "source": [
    "import math\n",
    "from functools import cache\n",
    "from collections import Counter\n",
    "import copy\n",
    "\n",
    "@cache\n",
    "def prime_factor(n: int):\n",
    "    for i in range(2, math.floor(math.sqrt(n)) + 1):\n",
    "        if n % i == 0: return i\n",
    "    return n  # n must be prime\n",
    "\n",
    "def prime_factorization(n: int) -> dict[int, int]:\n",
    "    if n == 1: return Counter()\n",
    "    p = prime_factor(n)\n",
    "    result = prime_factorization(n // p)\n",
    "    result.update([p])\n",
    "    return result\n",
    "\n",
    "def sigma(n: int):\n",
    "    # if n = p1^e1 * p2^e2 * ..., then sigma(n) = sigma(p1) * sigma(p2) * ...\n",
    "    # and sigma(p^e) = (p^(e+1) - 1)/(p-1)\n",
    "    c = prime_factorization(n)\n",
    "    result = 1\n",
    "    for p in c:\n",
    "        # Yeah... not sure how I could have come up with this\n",
    "        # It's just straight from https://oeis.org/A000203\n",
    "        result *= (p**(c[p]+1)-1)//(p-1)\n",
    "    return result\n",
    "\n",
    "n = 0\n",
    "for n in range(1,9999999999999999):\n",
    "    if sigma(n) >= data:\n",
    "        break\n",
    "print(n)"
   ]
  },
  {
   "cell_type": "code",
   "execution_count": null,
   "metadata": {},
   "outputs": [],
   "source": [
    "# part 2\n",
    "# It seems we want every divisor... "
   ]
  }
 ],
 "metadata": {
  "kernelspec": {
   "display_name": ".venv",
   "language": "python",
   "name": "python3"
  },
  "language_info": {
   "codemirror_mode": {
    "name": "ipython",
    "version": 3
   },
   "file_extension": ".py",
   "mimetype": "text/x-python",
   "name": "python",
   "nbconvert_exporter": "python",
   "pygments_lexer": "ipython3",
   "version": "3.10.11"
  }
 },
 "nbformat": 4,
 "nbformat_minor": 2
}
