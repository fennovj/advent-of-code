{
 "cells": [
  {
   "cell_type": "code",
   "execution_count": 10,
   "metadata": {},
   "outputs": [],
   "source": [
    "import advent\n",
    "advent.scrape(2015, 23)\n",
    "data = advent.get_lines(23)\n",
    "\n",
    "program = []\n",
    "for line in data:\n",
    "    if line[:3] in ['inc', 'tpl', 'hlf']:\n",
    "        program.append(tuple(line.split()))\n",
    "    elif line[:3] == 'jmp':\n",
    "        program.append((line.split()[0], int(line.split()[1])))\n",
    "    elif line[:3] in ['jio', 'jie']:\n",
    "        a, b, c = line.split()\n",
    "        program.append((a, b[0], int(c)))\n",
    "    else:\n",
    "        raise ValueError(line)"
   ]
  },
  {
   "cell_type": "code",
   "execution_count": 11,
   "metadata": {},
   "outputs": [
    {
     "name": "stdout",
     "output_type": "stream",
     "text": [
      "307\n"
     ]
    }
   ],
   "source": [
    "def run_program(registers: dict[str, int]):\n",
    "    instruction_pointer = 0\n",
    "    while instruction_pointer < len(program):\n",
    "        ins = program[instruction_pointer]\n",
    "        if ins[0] == 'inc':\n",
    "            registers[ins[1]] += 1\n",
    "        elif ins[0] == 'hlf':\n",
    "            registers[ins[1]] //= 2\n",
    "        elif ins[0] == 'tpl':\n",
    "            registers[ins[1]] *= 3\n",
    "        elif ins[0] == 'jmp':\n",
    "            instruction_pointer += (ins[1] - 1)\n",
    "        elif ins[0] == 'jio':\n",
    "            if registers[ins[1]] == 1:\n",
    "                instruction_pointer += (ins[2] - 1)\n",
    "        elif ins[0] == 'jie':\n",
    "            if registers[ins[1]] % 2 == 0:\n",
    "                instruction_pointer += (ins[2] - 1)\n",
    "        instruction_pointer += 1\n",
    "    return registers\n",
    "\n",
    "print(run_program({'a': 0, 'b': 0})['b'])"
   ]
  },
  {
   "cell_type": "code",
   "execution_count": null,
   "metadata": {},
   "outputs": [
    {
     "name": "stdout",
     "output_type": "stream",
     "text": [
      "160\n"
     ]
    }
   ],
   "source": [
    "# part 2 was a jumpscare, thought it would be like 2016, 25 where we have to debug it\n",
    "# but apparently it just works!\n",
    "print(run_program({'a': 1, 'b': 0})['b'])"
   ]
  }
 ],
 "metadata": {
  "kernelspec": {
   "display_name": ".venv",
   "language": "python",
   "name": "python3"
  },
  "language_info": {
   "codemirror_mode": {
    "name": "ipython",
    "version": 3
   },
   "file_extension": ".py",
   "mimetype": "text/x-python",
   "name": "python",
   "nbconvert_exporter": "python",
   "pygments_lexer": "ipython3",
   "version": "3.10.11"
  }
 },
 "nbformat": 4,
 "nbformat_minor": 2
}
