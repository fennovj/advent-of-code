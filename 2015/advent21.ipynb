{
 "cells": [
  {
   "cell_type": "code",
   "execution_count": 18,
   "metadata": {},
   "outputs": [],
   "source": [
    "import advent\n",
    "advent.scrape(2015, 21)\n",
    "data = advent.get_lines(21)\n",
    "monster_hitpoints, monster_damage, monster_armor = int(data[0].split()[2]), int(data[1].split()[1]), int(data[2].split()[1])\n",
    "player_hitpoints = 100"
   ]
  },
  {
   "cell_type": "code",
   "execution_count": 19,
   "metadata": {},
   "outputs": [],
   "source": [
    "import math\n",
    "\n",
    "def simulate(phitpoints, pdamage, parmor, mhitpoints, mdamage, marmor):\n",
    "    # True: player wins, False: monster wins\n",
    "    # Quickly saw that damage doesn't change, so we dont need a while loop\n",
    "    pdamage = max(1, pdamage - marmor)\n",
    "    mdamage = max(1, mdamage - parmor)\n",
    "    return math.ceil(phitpoints / mdamage) >= math.ceil(mhitpoints / pdamage)\n",
    "\n",
    "assert simulate(7, 5, 5, 12, 7, 2)"
   ]
  },
  {
   "cell_type": "code",
   "execution_count": 27,
   "metadata": {},
   "outputs": [
    {
     "name": "stdout",
     "output_type": "stream",
     "text": [
      "121\n"
     ]
    }
   ],
   "source": [
    "# Now we need to iterate over all combinations\n",
    "# 1 weapon, 0-1 armor, 0-2 rings\n",
    "# and track if we win or not\n",
    "from itertools import combinations\n",
    "\n",
    "weapons = ((8, 4, 0), (10, 5, 0), (25, 6, 0), (40, 7, 0), (74, 8, 0))\n",
    "armors = ((0, 0, 0), (13, 0, 1), (31, 0, 2), (53, 0, 3), (75, 0, 4), (102, 0, 5))\n",
    "rings = ((0, 0, 0), (0, 0, 0), (25, 1, 0), (50, 2, 0), (100, 3, 0), (20, 0, 1), (40, 0, 2), (80, 0, 3))\n",
    "\n",
    "def simulate_items(items: list[tuple[int, int, int]]) -> tuple[int, bool]:\n",
    "    # Return gold, win\n",
    "    gold = sum(i[0] for i in items)\n",
    "    dmg = sum(i[1] for i in items)\n",
    "    armor = sum(i[2] for i in items)\n",
    "    return (gold, True) if simulate(player_hitpoints, dmg, armor,\n",
    "                    monster_hitpoints,\n",
    "                    monster_damage,\n",
    "                    monster_armor) else (gold, False)\n",
    "\n",
    "cheapest = 999999\n",
    "for weapon in weapons:\n",
    "    items_w = (weapon,)\n",
    "    for armor in armors:\n",
    "        items_a = items_w + (armor,)\n",
    "        for ringa, ringb in combinations(rings, 2):\n",
    "            items_r = items_a + (ringa, ringb)\n",
    "            score = simulate_items(list(items_r))\n",
    "            if score[1] and score[0] < cheapest:\n",
    "                cheapest = score[0]\n",
    "print(cheapest)"
   ]
  },
  {
   "cell_type": "code",
   "execution_count": 30,
   "metadata": {},
   "outputs": [
    {
     "name": "stdout",
     "output_type": "stream",
     "text": [
      "201\n"
     ]
    }
   ],
   "source": [
    "expensive = 0\n",
    "for weapon in weapons:\n",
    "    items_w = (weapon,)\n",
    "    for armor in armors:\n",
    "        items_a = items_w + (armor,)\n",
    "        for ringa, ringb in combinations(rings, 2):\n",
    "            items_r = items_a + (ringa, ringb)\n",
    "            score = simulate_items(list(items_r))\n",
    "            if not score[1] and score[0] > expensive:\n",
    "                expensive = score[0]\n",
    "print(expensive)"
   ]
  }
 ],
 "metadata": {
  "kernelspec": {
   "display_name": ".venv",
   "language": "python",
   "name": "python3"
  },
  "language_info": {
   "codemirror_mode": {
    "name": "ipython",
    "version": 3
   },
   "file_extension": ".py",
   "mimetype": "text/x-python",
   "name": "python",
   "nbconvert_exporter": "python",
   "pygments_lexer": "ipython3",
   "version": "3.10.11"
  }
 },
 "nbformat": 4,
 "nbformat_minor": 2
}
