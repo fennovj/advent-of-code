{
 "cells": [
  {
   "cell_type": "code",
   "execution_count": 8,
   "metadata": {},
   "outputs": [],
   "source": [
    "import advent\n",
    "advent.scrape(2015, 9)\n",
    "data = advent.get_lines(9)\n",
    "\n",
    "locations = set([])"
   ]
  },
  {
   "cell_type": "code",
   "execution_count": null,
   "metadata": {},
   "outputs": [
    {
     "name": "stdout",
     "output_type": "stream",
     "text": [
      "207\n"
     ]
    }
   ],
   "source": [
    "graph: dict[tuple[str, str], int] = {}\n",
    "for line in data:\n",
    "    line = line.split()\n",
    "    graph[(line[0], line[2])] = int(line[4])\n",
    "    graph[(line[2], line[0])] = int(line[4])\n",
    "    locations.add(line[0])\n",
    "    locations.add(line[2])\n",
    "\n",
    "from functools import cache\n",
    "# Let's do some dynamic programming\n",
    "@cache\n",
    "def fastest(current: str, cities: frozenset[str]):\n",
    "    if len(cities) == 0: return 0\n",
    "    if len(cities) == 1: return graph[(current, list(cities)[0])]\n",
    "    result = 9999999999999\n",
    "    for next in cities:\n",
    "        newcities = cities.difference([next])\n",
    "        newresult = fastest(next, newcities) + graph[(current, next)]\n",
    "        if newresult < result: result = newresult\n",
    "    return result\n",
    "\n",
    "fastest.cache_clear()  # We are abusing the reference to 'graph' for part 2 so this is needed\n",
    "\n",
    "print(min(fastest(c, frozenset(locations.difference([c]))) for c in locations))\n",
    "        "
   ]
  },
  {
   "cell_type": "code",
   "execution_count": null,
   "metadata": {},
   "outputs": [
    {
     "name": "stdout",
     "output_type": "stream",
     "text": [
      "804\n"
     ]
    }
   ],
   "source": [
    "fastest.cache_clear()  # We are abusing the reference to 'graph' for part 2 so this is needed\n",
    "for k in graph:\n",
    "    graph[k] = -1 * graph[k]\n",
    "# Very cheesy solution: multiply all distances by -1 so longest becomes shortest\n",
    "print(-1 * min(fastest(c, frozenset(locations.difference([c]))) for c in locations))"
   ]
  }
 ],
 "metadata": {
  "kernelspec": {
   "display_name": ".venv",
   "language": "python",
   "name": "python3"
  },
  "language_info": {
   "codemirror_mode": {
    "name": "ipython",
    "version": 3
   },
   "file_extension": ".py",
   "mimetype": "text/x-python",
   "name": "python",
   "nbconvert_exporter": "python",
   "pygments_lexer": "ipython3",
   "version": "3.10.13"
  }
 },
 "nbformat": 4,
 "nbformat_minor": 2
}
