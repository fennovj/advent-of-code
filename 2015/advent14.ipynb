{
 "cells": [
  {
   "cell_type": "code",
   "execution_count": null,
   "metadata": {},
   "outputs": [
    {
     "name": "stdout",
     "output_type": "stream",
     "text": [
      "('Rudolph', 22, 8, 165)\n"
     ]
    }
   ],
   "source": [
    "import advent\n",
    "advent.scrape(2015, 14)\n",
    "data = advent.get_lines(14)\n",
    "\n",
    "def parse(line: str):\n",
    "    line = line.split()\n",
    "    # Rudolph can fly 22 km/s for 8 seconds, but then must rest for 165 seconds.\n",
    "    # Rudolph, 22, 8, 165\n",
    "    return line[0], int(line[3]), int(line[6]), int(line[13])\n",
    "print(parse(data[0]))"
   ]
  },
  {
   "cell_type": "code",
   "execution_count": 4,
   "metadata": {},
   "outputs": [
    {
     "data": {
      "text/plain": [
       "2696"
      ]
     },
     "execution_count": 4,
     "metadata": {},
     "output_type": "execute_result"
    }
   ],
   "source": [
    "def calculate(reindeer: tuple[str, int, int, int], after: int):\n",
    "    period = reindeer[2] + reindeer[3] # how many full rest periods we get\n",
    "    leftover = min(after % period, reindeer[2]) # what we fly after the last rest period\n",
    "    return (after // period) * reindeer[1] * reindeer[2] + leftover * reindeer[1]\n",
    "\n",
    "max(calculate(parse(line), 2503) for line in data)"
   ]
  },
  {
   "cell_type": "code",
   "execution_count": null,
   "metadata": {},
   "outputs": [
    {
     "name": "stdout",
     "output_type": "stream",
     "text": [
      "{'Rudolph': 1084, 'Cupid': 838, 'Prancer': 24, 'Donner': 277, 'Dasher': 0, 'Comet': 121, 'Blitzen': 0, 'Vixen': 13, 'Dancer': 199}\n"
     ]
    }
   ],
   "source": [
    "# Part 2\n",
    "# This is kind of funny, reverse of what you normally see: part 1 is done smartly, part 2 has to be brute forced\n",
    "# I actually thought part 2 would be the usual upscale, e.g. after 10 trillion steps or whatever which would have been trivial\n",
    "# If we had bruteforced part 1 we could have probably reused most of that code but oh well :)\n",
    "# Although luckily, we can still reuse all the logic from part 1 so it's not that bad\n",
    "\n",
    "reindeers = [parse(line) for line in data]\n",
    "scores: dict[str, int] = dict((reindeer[0], 0) for reindeer in reindeers)\n",
    "\n",
    "for i in range(1, 2503+1):\n",
    "    current_scores = [calculate(reindeer, i) for reindeer in reindeers]\n",
    "    winner_ixs = [ix for ix, v in enumerate(current_scores) if v == max(current_scores)]\n",
    "    for ix in winner_ixs:\n",
    "        scores[reindeers[ix][0]] += 1\n",
    "\n",
    "print(scores) # Rudolph is the winner!"
   ]
  }
 ],
 "metadata": {
  "kernelspec": {
   "display_name": ".venv",
   "language": "python",
   "name": "python3"
  },
  "language_info": {
   "codemirror_mode": {
    "name": "ipython",
    "version": 3
   },
   "file_extension": ".py",
   "mimetype": "text/x-python",
   "name": "python",
   "nbconvert_exporter": "python",
   "pygments_lexer": "ipython3",
   "version": "3.10.13"
  }
 },
 "nbformat": 4,
 "nbformat_minor": 2
}
