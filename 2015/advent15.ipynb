{
 "cells": [
  {
   "cell_type": "code",
   "execution_count": 1,
   "metadata": {},
   "outputs": [],
   "source": [
    "import advent\n",
    "advent.scrape(2015, 15)\n",
    "data = advent.get_lines(15)"
   ]
  },
  {
   "cell_type": "code",
   "execution_count": 13,
   "metadata": {},
   "outputs": [],
   "source": [
    "def parse(line):\n",
    "    s = line.split()\n",
    "    return (s[0][:-1], int(s[2][:-1]), int(s[4][:-1]), int(s[6][:-1]), int(s[8][:-1]), int(s[10]))\n",
    "\n",
    "\n",
    "ingredients = [parse(line) for line in data]\n",
    "\n",
    "def ingredient_score(i, j, k, l):\n",
    "    capacity = max(0, i * ingredients[0][1] + j * ingredients[1][1] + k * ingredients[2][1] + l * ingredients[3][1])\n",
    "    durability = max(0, i * ingredients[0][2] + j * ingredients[1][2] + k * ingredients[2][2] + l * ingredients[3][2])\n",
    "    flavor = max(0, i * ingredients[0][3] + j * ingredients[1][3] + k * ingredients[2][3] + l * ingredients[3][3])\n",
    "    texture = max(0, i * ingredients[0][4] + j * ingredients[1][4] + k * ingredients[2][4] + l * ingredients[3][4])\n",
    "    return capacity * durability * flavor * texture\n",
    "\n",
    "def calories(i, j, k, l):\n",
    "    return i * ingredients[0][5] + j * ingredients[1][5] + k * ingredients[2][5] + l * ingredients[3][5]\n"
   ]
  },
  {
   "cell_type": "code",
   "execution_count": null,
   "metadata": {},
   "outputs": [
    {
     "name": "stdout",
     "output_type": "stream",
     "text": [
      "13882464\n"
     ]
    }
   ],
   "source": [
    "bestscore = 0\n",
    "for i in range(101):\n",
    "    for j in range(101-i):\n",
    "        for k in range(101-(i+j)):\n",
    "            for l in range(101-(i+j+k)):\n",
    "                score = ingredient_score(i, j, k, l)\n",
    "                if score > bestscore: bestscore = score\n",
    "print(bestscore) # 6.5 seconds"
   ]
  },
  {
   "cell_type": "code",
   "execution_count": null,
   "metadata": {},
   "outputs": [
    {
     "name": "stdout",
     "output_type": "stream",
     "text": [
      "11171160\n"
     ]
    }
   ],
   "source": [
    "bestscore = 0\n",
    "for i in range(101):\n",
    "    for j in range(101-i):\n",
    "        for k in range(101-(i+j)):\n",
    "            for l in range(101-(i+j+k)):\n",
    "                if calories(i, j, k, l) != 500: continue\n",
    "                score = ingredient_score(i, j, k, l)\n",
    "                if score > bestscore: bestscore = score\n",
    "print(bestscore) # only 1.3 seconds, because calorie calculation is cheaper than score calculation :D"
   ]
  },
  {
   "cell_type": "code",
   "execution_count": null,
   "metadata": {},
   "outputs": [],
   "source": []
  }
 ],
 "metadata": {
  "kernelspec": {
   "display_name": ".venv",
   "language": "python",
   "name": "python3"
  },
  "language_info": {
   "codemirror_mode": {
    "name": "ipython",
    "version": 3
   },
   "file_extension": ".py",
   "mimetype": "text/x-python",
   "name": "python",
   "nbconvert_exporter": "python",
   "pygments_lexer": "ipython3",
   "version": "3.10.13"
  }
 },
 "nbformat": 4,
 "nbformat_minor": 2
}
