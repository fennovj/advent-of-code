{
 "cells": [
  {
   "cell_type": "code",
   "execution_count": 4,
   "metadata": {},
   "outputs": [],
   "source": [
    "import advent\n",
    "import numpy as np\n",
    "from scipy.ndimage import generic_filter\n",
    "advent.scrape(2015, 18, 'csv')"
   ]
  },
  {
   "cell_type": "code",
   "execution_count": 10,
   "metadata": {},
   "outputs": [
    {
     "name": "stdout",
     "output_type": "stream",
     "text": [
      "768\n"
     ]
    }
   ],
   "source": [
    "def apply(arr):\n",
    "    on_neighbors = sum(1 for x in arr if x) - (1 if arr[4] else 0)\n",
    "    if arr[4] == False: return on_neighbors == 3\n",
    "    return on_neighbors in (2, 3)\n",
    "\n",
    "data = advent.get_char_grid(18) == '#'\n",
    "for _ in range(100):\n",
    "    data = generic_filter(data, apply, size=3, mode='constant', cval=0)\n",
    "print(np.sum(data))"
   ]
  },
  {
   "cell_type": "code",
   "execution_count": 12,
   "metadata": {},
   "outputs": [
    {
     "name": "stdout",
     "output_type": "stream",
     "text": [
      "781\n"
     ]
    }
   ],
   "source": [
    "data = advent.get_char_grid(18) == '#'\n",
    "for _ in range(100):\n",
    "    data = generic_filter(data, apply, size=3, mode='constant', cval=0)\n",
    "    data[0, 0] = 1\n",
    "    data[0, 99] = 1\n",
    "    data[99, 0] = 1\n",
    "    data[99, 99] = 1\n",
    "print(np.sum(data))"
   ]
  }
 ],
 "metadata": {
  "kernelspec": {
   "display_name": ".venv",
   "language": "python",
   "name": "python3"
  },
  "language_info": {
   "codemirror_mode": {
    "name": "ipython",
    "version": 3
   },
   "file_extension": ".py",
   "mimetype": "text/x-python",
   "name": "python",
   "nbconvert_exporter": "python",
   "pygments_lexer": "ipython3",
   "version": "3.10.13"
  }
 },
 "nbformat": 4,
 "nbformat_minor": 2
}
