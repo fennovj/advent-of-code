{
 "cells": [
  {
   "cell_type": "code",
   "execution_count": 1,
   "metadata": {},
   "outputs": [],
   "source": [
    "import advent\n",
    "advent.scrape(2015, 3)\n",
    "data = advent.get_lines(3)"
   ]
  },
  {
   "cell_type": "code",
   "execution_count": 2,
   "metadata": {},
   "outputs": [
    {
     "name": "stdout",
     "output_type": "stream",
     "text": [
      "2572\n"
     ]
    }
   ],
   "source": [
    "houses = set([(0, 0)])\n",
    "tadd = lambda x, y: (x[0] + y[0], x[1] + y[1])\n",
    "odict = {'^': (-1, 0), '>': (0, 1), '<': (0, -1), 'v': (1, 0)}\n",
    "coord = (0, 0)\n",
    "\n",
    "for c in data[0]:\n",
    "    coord = tadd(coord, odict[c])\n",
    "    houses.add(coord)\n",
    "print(len(houses))"
   ]
  },
  {
   "cell_type": "code",
   "execution_count": 4,
   "metadata": {},
   "outputs": [
    {
     "name": "stdout",
     "output_type": "stream",
     "text": [
      "2631\n"
     ]
    }
   ],
   "source": [
    "houses = set([(0, 0)])\n",
    "coord, robocoord = (0, 0), (0, 0)\n",
    "santaturn = True\n",
    "\n",
    "for c in data[0]:\n",
    "    if santaturn:\n",
    "        coord = tadd(coord, odict[c])\n",
    "        houses.add(coord)\n",
    "    else:\n",
    "        robocoord = tadd(robocoord, odict[c])\n",
    "        houses.add(robocoord)\n",
    "    santaturn = not santaturn\n",
    "print(len(houses))"
   ]
  },
  {
   "cell_type": "code",
   "execution_count": null,
   "metadata": {},
   "outputs": [],
   "source": []
  }
 ],
 "metadata": {
  "kernelspec": {
   "display_name": ".venv",
   "language": "python",
   "name": "python3"
  },
  "language_info": {
   "codemirror_mode": {
    "name": "ipython",
    "version": 3
   },
   "file_extension": ".py",
   "mimetype": "text/x-python",
   "name": "python",
   "nbconvert_exporter": "python",
   "pygments_lexer": "ipython3",
   "version": "3.10.13"
  }
 },
 "nbformat": 4,
 "nbformat_minor": 2
}
