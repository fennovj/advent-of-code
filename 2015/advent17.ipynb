{
 "cells": [
  {
   "cell_type": "code",
   "execution_count": 13,
   "metadata": {},
   "outputs": [],
   "source": [
    "import advent\n",
    "advent.scrape(2015, 17)\n",
    "data = advent.get_lines(17)\n",
    "\n",
    "#containers = [20, 15, 10, 5, 5]\n",
    "containers = sorted((int(i), ix) for ix, i in enumerate(data))"
   ]
  },
  {
   "cell_type": "code",
   "execution_count": 14,
   "metadata": {},
   "outputs": [],
   "source": [
    "from itertools import permutations\n",
    "\n",
    "def fits_exactly(ordering: tuple[tuple[int, int], ...], liters: int):\n",
    "    for ix in range(len(ordering)):\n",
    "        liters -= ordering[ix][0]\n",
    "        if liters == 0: return True\n",
    "    return False\n",
    "\n",
    "# Unfortunately, this overcounts, e.g. [20, 5, ...] and [5, 20, ...] would both count for liters=25\n",
    "# Also, I misunderstood the assignment, this approach is doomed to fail because there are 20 containers, so 20! is way too much\n",
    "\n",
    "#result = 0\n",
    "#for ordering in permutations(containers):\n",
    "#    if fits_exactly(ordering, 25): result += 1\n",
    "#print(result)"
   ]
  },
  {
   "cell_type": "code",
   "execution_count": 18,
   "metadata": {},
   "outputs": [
    {
     "name": "stdout",
     "output_type": "stream",
     "text": [
      "1638\n"
     ]
    }
   ],
   "source": [
    "# But of course to the rescue comes dynamic programming!\n",
    "\n",
    "from functools import cache\n",
    "\n",
    "@cache\n",
    "def combinations(containers: tuple[tuple[int, int], ...], capacity: int):\n",
    "    # make sure containers is sorted to reduce the number of combinations\n",
    "    result = 0\n",
    "    for ix, container in enumerate(containers):\n",
    "        if container[0] > capacity: continue\n",
    "        if container[0] == capacity:\n",
    "            #print(containers[:ix] + containers[ix+1:])\n",
    "            possibilities.add(containers[:ix] + containers[ix+1:])\n",
    "            result += 1\n",
    "        result += combinations(containers[:ix] + containers[ix+1:], capacity-container[0])\n",
    "    return result\n",
    "\n",
    "possibilities = set([])\n",
    "\n",
    "#cxs = ((5, 0), (5, 1), (10, 2), (15, 3), (20, 4))\n",
    "_ = combinations(tuple(containers), 150)\n",
    "print(len(possibilities))"
   ]
  },
  {
   "cell_type": "code",
   "execution_count": 24,
   "metadata": {},
   "outputs": [
    {
     "name": "stdout",
     "output_type": "stream",
     "text": [
      "17\n"
     ]
    }
   ],
   "source": [
    "minimum_containers = len(containers) - max(len(x) for x in possibilities)\n",
    "print(len([x for x in possibilities if len(x) == len(containers) - minimum_containers]))"
   ]
  }
 ],
 "metadata": {
  "kernelspec": {
   "display_name": ".venv",
   "language": "python",
   "name": "python3"
  },
  "language_info": {
   "codemirror_mode": {
    "name": "ipython",
    "version": 3
   },
   "file_extension": ".py",
   "mimetype": "text/x-python",
   "name": "python",
   "nbconvert_exporter": "python",
   "pygments_lexer": "ipython3",
   "version": "3.10.13"
  }
 },
 "nbformat": 4,
 "nbformat_minor": 2
}
