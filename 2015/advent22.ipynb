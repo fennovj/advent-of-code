{
 "cells": [
  {
   "cell_type": "code",
   "execution_count": 53,
   "metadata": {},
   "outputs": [],
   "source": [
    "monster_hitpoints = 51\n",
    "monster_damage = 9\n",
    "player_hitpoints = 50\n",
    "player_mana = 500\n",
    "\n",
    "from advent.maze import solve_maze"
   ]
  },
  {
   "cell_type": "code",
   "execution_count": null,
   "metadata": {},
   "outputs": [],
   "source": [
    "# This sounds like a BFS to me :D\n",
    "from typing import NamedTuple\n",
    "\n",
    "spells = {\n",
    "    'shield': 113,\n",
    "    'poison': 173,\n",
    "    'recharge': 229,\n",
    "    'drain': 73,\n",
    "    'magic missile': 53\n",
    "}\n",
    "\n",
    "class Status(NamedTuple):\n",
    "    player_hitpoints: int\n",
    "    monster_hitpoints: int\n",
    "    monster_damage: int\n",
    "    player_mana: int\n",
    "    shield_turns: int # Sets player armor to 7\n",
    "    poison_turns: int # deals 3 damage\n",
    "    recharge_turns: int # gains 101 mana\n",
    "    player_turn: bool # Whose next turn it is.\n",
    "\n",
    "    def cast_spell(self, spell: str):\n",
    "        assert spells[spell] <= self.player_mana\n",
    "        #assert not self.player_turn\n",
    "        d = self._asdict()\n",
    "        d['player_mana'] -= spells[spell]\n",
    "        if spell == 'shield':\n",
    "            d['shield_turns'] = 6\n",
    "        elif spell == 'poison':\n",
    "            d['poison_turns'] = 6\n",
    "        elif spell == 'recharge':\n",
    "            d['recharge_turns'] = 5\n",
    "        elif spell == 'drain':\n",
    "            d['player_hitpoints'] += 2\n",
    "            d['monster_hitpoints'] -= 2\n",
    "        elif spell == 'magic missile':\n",
    "            d['monster_hitpoints'] -= 4\n",
    "        else: raise ValueError(spell)\n",
    "        return Status(**d)\n",
    "    \n",
    "    def can_cast(self, spell):\n",
    "        mana = spells[spell] < self.player_mana\n",
    "        if spell == 'shield':\n",
    "            return mana and self.shield_turns == 0\n",
    "        elif spell == 'poison':\n",
    "            return mana and self.poison_turns == 0\n",
    "        elif spell == 'recharge':\n",
    "            return mana and self.recharge_turns == 0\n",
    "        return mana\n",
    "\n",
    "    def next_turn(self):\n",
    "        d = self._asdict()\n",
    "        # Reduce all timers\n",
    "        if self.shield_turns > 0:\n",
    "            d['shield_turns'] -= 1\n",
    "        if self.poison_turns > 0:\n",
    "            d['poison_turns'] -= 1\n",
    "            d['monster_hitpoints'] -= 3\n",
    "        if self.recharge_turns > 0:\n",
    "            d['recharge_turns'] -= 1\n",
    "            d['player_mana'] += 101\n",
    "        if not self.player_turn:\n",
    "            player_armor = 0 if self.shield_turns == 0 else 7\n",
    "            d['player_hitpoints'] -= max(1, self.monster_damage - player_armor)\n",
    "\n",
    "        d['player_turn'] = not self.player_turn\n",
    "        return Status(**d)\n",
    "    \n",
    "    def hard_mode(self):\n",
    "        # Should be called at the beginning of player turn before casting a spell\n",
    "        d = self._asdict()\n",
    "        if not self.player_turn: return Status(**d)\n",
    "        d['player_hitpoints'] -= 1\n",
    "        if d['player_hitpoints'] == 0:\n",
    "            # Kinda dumb, but we just want to make sure that whatever happens\n",
    "            # The rest of the turn, we can't win anymore\n",
    "            d['player_hitpoints'] = -999\n",
    "            d['monster_hitpoints'] = 999\n",
    "        return Status(**d)\n",
    "\n",
    "def is_end(status: Status):\n",
    "    # You can die on the same turn with poison, but in that case you still win\n",
    "    return status.monster_hitpoints <= 0 # and status.player_hitpoints > 0\n",
    "\n",
    "start = Status(\n",
    "    player_hitpoints,\n",
    "    monster_hitpoints,\n",
    "    monster_damage,\n",
    "    player_mana,\n",
    "    0, 0, 0,\n",
    "    True\n",
    "    )"
   ]
  },
  {
   "cell_type": "code",
   "execution_count": null,
   "metadata": {},
   "outputs": [
    {
     "data": {
      "application/vnd.jupyter.widget-view+json": {
       "model_id": "cafe99e6692f43b3a84007babd5a2de4",
       "version_major": 2,
       "version_minor": 0
      },
      "text/plain": [
       "  0%|          | 0/1 [00:00<?, ?it/s]"
      ]
     },
     "metadata": {},
     "output_type": "display_data"
    },
    {
     "name": "stdout",
     "output_type": "stream",
     "text": [
      "Final path length: 900\n"
     ]
    }
   ],
   "source": [
    "from typing import Iterator\n",
    "def adjacent(status: Status) -> Iterator[tuple[Status, int]]:\n",
    "    #print(status.player_turn)\n",
    "    if status.player_hitpoints < 0: return\n",
    "    if not status.player_turn:\n",
    "        yield status.next_turn(), 0\n",
    "    # Now we have to cast a spell\n",
    "    else:\n",
    "        if HARDMODE: status = status.hard_mode()\n",
    "        for spell in spells:\n",
    "            #print(spell, status.can_cast(spell))\n",
    "            if not status.can_cast(spell): continue\n",
    "            newstatus = status\n",
    "            newstatus = newstatus.cast_spell(spell)\n",
    "            newstatus = newstatus.next_turn()\n",
    "            #newstatus = newstatus.cast_spell(spell)\n",
    "            yield newstatus, spells[spell]\n",
    "\n",
    "HARDMODE = False\n",
    "_ = solve_maze(start, is_end, adjacent)"
   ]
  },
  {
   "cell_type": "code",
   "execution_count": 59,
   "metadata": {},
   "outputs": [
    {
     "data": {
      "application/vnd.jupyter.widget-view+json": {
       "model_id": "d0776641b83f4d8e882c048769c2cedf",
       "version_major": 2,
       "version_minor": 0
      },
      "text/plain": [
       "  0%|          | 0/1 [00:00<?, ?it/s]"
      ]
     },
     "metadata": {},
     "output_type": "display_data"
    },
    {
     "name": "stdout",
     "output_type": "stream",
     "text": [
      "Final path length: 1216\n"
     ]
    }
   ],
   "source": [
    "HARDMODE = True\n",
    "_ = solve_maze(start, is_end, adjacent)"
   ]
  },
  {
   "cell_type": "code",
   "execution_count": null,
   "metadata": {},
   "outputs": [],
   "source": []
  }
 ],
 "metadata": {
  "kernelspec": {
   "display_name": ".venv",
   "language": "python",
   "name": "python3"
  },
  "language_info": {
   "codemirror_mode": {
    "name": "ipython",
    "version": 3
   },
   "file_extension": ".py",
   "mimetype": "text/x-python",
   "name": "python",
   "nbconvert_exporter": "python",
   "pygments_lexer": "ipython3",
   "version": "3.10.11"
  }
 },
 "nbformat": 4,
 "nbformat_minor": 2
}
