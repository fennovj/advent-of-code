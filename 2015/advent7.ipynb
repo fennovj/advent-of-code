{
 "cells": [
  {
   "cell_type": "code",
   "execution_count": 38,
   "metadata": {},
   "outputs": [],
   "source": [
    "import advent\n",
    "advent.scrape(2015, 7)\n",
    "data = advent.get_lines(7)"
   ]
  },
  {
   "cell_type": "code",
   "execution_count": 39,
   "metadata": {},
   "outputs": [
    {
     "name": "stdout",
     "output_type": "stream",
     "text": [
      "3176\n"
     ]
    }
   ],
   "source": [
    "registers: dict[str, int] = {}\n",
    "\n",
    "def lookup(v: str):\n",
    "    if v.isdigit(): return int(v)\n",
    "    if v not in registers: return 0\n",
    "    return registers[v]\n",
    "\n",
    "def process(left: str):\n",
    "    s = left.split()\n",
    "    if 'NOT' in left:\n",
    "        a = ~lookup(s[1])\n",
    "    elif 'OR' in left:\n",
    "        a = lookup(s[0]) | lookup(s[2])\n",
    "    elif 'AND' in left:\n",
    "        a = lookup(s[0]) & lookup(s[2])\n",
    "    elif 'RSHIFT' in left:\n",
    "        a = lookup(s[0]) >> lookup(s[2])\n",
    "    elif 'LSHIFT' in left:\n",
    "        a = lookup(s[0]) << lookup(s[2])\n",
    "    elif len(s) == 1:\n",
    "        a = lookup(s[0])\n",
    "    else:\n",
    "        raise ValueError(line)\n",
    "    return a\n",
    "\n",
    "# Amazing hacky solution :D after 1 iteration it hasn't 'stabilized' yet, so just run it again a couple times\n",
    "for _ in range(100):\n",
    "    for line in data:\n",
    "        left, right = line.split(' -> ')\n",
    "        a = process(left)\n",
    "        registers[right] = a & 65535\n",
    "\n",
    "print(lookup('a'))\n"
   ]
  },
  {
   "cell_type": "code",
   "execution_count": null,
   "metadata": {},
   "outputs": [
    {
     "name": "stdout",
     "output_type": "stream",
     "text": [
      "14710\n"
     ]
    }
   ],
   "source": [
    "# part 2\n",
    "registers: dict[str, int] = {'b': 3176}\n",
    "\n",
    "for _ in range(100):\n",
    "    for line in data:\n",
    "        if line.endswith('-> b'): continue # We are fixing b so don't overwrite it\n",
    "        left, right = line.split(' -> ')\n",
    "        a = process(left)\n",
    "        registers[right] = a & 65535\n",
    "\n",
    "print(lookup('a'))"
   ]
  }
 ],
 "metadata": {
  "kernelspec": {
   "display_name": ".venv",
   "language": "python",
   "name": "python3"
  },
  "language_info": {
   "codemirror_mode": {
    "name": "ipython",
    "version": 3
   },
   "file_extension": ".py",
   "mimetype": "text/x-python",
   "name": "python",
   "nbconvert_exporter": "python",
   "pygments_lexer": "ipython3",
   "version": "3.10.13"
  }
 },
 "nbformat": 4,
 "nbformat_minor": 2
}
