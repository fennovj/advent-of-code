{
 "cells": [
  {
   "cell_type": "code",
   "execution_count": 5,
   "metadata": {},
   "outputs": [
    {
     "name": "stdout",
     "output_type": "stream",
     "text": [
      "{'children': 3, 'cats': 7, 'samoyeds': 2, 'pomeranians': 3, 'akitas': 0, 'vizslas': 0, 'goldfish': 5, 'trees': 3, 'cars': 2, 'perfumes': 1}\n"
     ]
    }
   ],
   "source": [
    "import advent\n",
    "advent.scrape(2015, 16)\n",
    "data = advent.get_lines(16)\n",
    "\n",
    "# Kind of uncommon that you get this much data in the assignment instead of in the input file\n",
    "# Feels like nowadays it would be in the input data with a double newline, but oh well\n",
    "desiredstr = \"\"\"\n",
    "children: 3\n",
    "cats: 7\n",
    "samoyeds: 2\n",
    "pomeranians: 3\n",
    "akitas: 0\n",
    "vizslas: 0\n",
    "goldfish: 5\n",
    "trees: 3\n",
    "cars: 2\n",
    "perfumes: 1\n",
    "\"\"\"\n",
    "desiredstr = desiredstr.splitlines()[1:]\n",
    "\n",
    "desired: dict[str, int] = {}\n",
    "for line in desiredstr:\n",
    "    key, value = line.split()\n",
    "    desired[key[:-1]] = int(value)\n",
    "print(desired)"
   ]
  },
  {
   "cell_type": "code",
   "execution_count": 10,
   "metadata": {},
   "outputs": [
    {
     "name": "stdout",
     "output_type": "stream",
     "text": [
      "213\n"
     ]
    }
   ],
   "source": [
    "def parse_sue(line: str):\n",
    "    # Sue 1: children: 1, cars: 8, vizslas: 7\n",
    "    line = line.split()\n",
    "    assert len(line) == 8\n",
    "    return [(line[2][:-1], int(line[3][:-1])), (line[4][:-1], int(line[5][:-1])), (line[6][:-1], int(line[7]))]\n",
    "\n",
    "for line in data:\n",
    "    sue = parse_sue(line)\n",
    "    fits = True\n",
    "    for condition in sue:\n",
    "        if desired[condition[0]] != condition[1]:\n",
    "            fits = False\n",
    "    if fits: print(line.split()[1][:-1])\n"
   ]
  },
  {
   "cell_type": "code",
   "execution_count": 11,
   "metadata": {},
   "outputs": [
    {
     "name": "stdout",
     "output_type": "stream",
     "text": [
      "323\n"
     ]
    }
   ],
   "source": [
    "for line in data:\n",
    "    sue = parse_sue(line)\n",
    "    fits = True\n",
    "    for condition in sue:\n",
    "        if condition[0] == 'trees':\n",
    "            if condition[1] <= desired['trees']: fits = False\n",
    "        elif condition[0] == 'cats':\n",
    "            if condition[1] <= desired['cats']: fits = False\n",
    "        elif condition[0] == 'pomeranians':\n",
    "            if condition[1] >= desired['pomeranians']: fits = False\n",
    "        elif condition[0] == 'goldfish':\n",
    "            if condition[1] >= desired['goldfish']: fits = False\n",
    "        else:\n",
    "            if desired[condition[0]] != condition[1]: fits = False\n",
    "    if fits: print(line.split()[1][:-1])\n"
   ]
  }
 ],
 "metadata": {
  "kernelspec": {
   "display_name": ".venv",
   "language": "python",
   "name": "python3"
  },
  "language_info": {
   "codemirror_mode": {
    "name": "ipython",
    "version": 3
   },
   "file_extension": ".py",
   "mimetype": "text/x-python",
   "name": "python",
   "nbconvert_exporter": "python",
   "pygments_lexer": "ipython3",
   "version": "3.10.13"
  }
 },
 "nbformat": 4,
 "nbformat_minor": 2
}
