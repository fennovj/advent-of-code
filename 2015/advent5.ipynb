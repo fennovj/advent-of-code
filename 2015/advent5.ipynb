{
 "cells": [
  {
   "cell_type": "code",
   "execution_count": 1,
   "metadata": {},
   "outputs": [],
   "source": [
    "import advent\n",
    "advent.scrape(2015, 5)\n",
    "data = advent.get_lines(5)"
   ]
  },
  {
   "cell_type": "code",
   "execution_count": 3,
   "metadata": {},
   "outputs": [
    {
     "name": "stdout",
     "output_type": "stream",
     "text": [
      "255\n"
     ]
    }
   ],
   "source": [
    "def is_nice(line):\n",
    "    part1 = (line.count('a') + line.count('e') + line.count('i') + line.count('o') + line.count('u')) >= 3\n",
    "    part2 = sum(line.count(c * 2) for c in 'abcdefghijklmnopqrstuvwxyz') >= 1\n",
    "    part3 = (line.count('ab') + line.count('cd') + line.count('pq') + line.count('xy')) == 0\n",
    "    return part1 and part2 and part3\n",
    "\n",
    "assert is_nice('ugknbfddgicrmopn')\n",
    "assert not is_nice('jchzalrnumimnmhp')\n",
    "\n",
    "print(sum(is_nice(line) for line in data))"
   ]
  },
  {
   "cell_type": "code",
   "execution_count": 6,
   "metadata": {},
   "outputs": [
    {
     "name": "stdout",
     "output_type": "stream",
     "text": [
      "55\n"
     ]
    }
   ],
   "source": [
    "# Part 1 could have been done with regex but part 2 is much easier with regex\n",
    "import re\n",
    "regex1 = r'(.)(.).*\\1\\2'\n",
    "regex2 = r'(.).\\1'\n",
    "\n",
    "def is_nice2(line: str):\n",
    "    return True if re.search(regex1, line) and re.search(regex2, line) else False\n",
    "\n",
    "# The reason why there are so many test cases is I'm not fully confident in these weird regexes and they can have a lot of edge cases\n",
    "assert is_nice2('qjhvhtzxzqqjkmpb')\n",
    "assert is_nice2('xxyxx')\n",
    "assert not is_nice2('uurcxstgmygtbstg')\n",
    "assert not is_nice2('ieodomkazucvgmuy')\n",
    "\n",
    "print(sum(is_nice2(line) for line in data))"
   ]
  }
 ],
 "metadata": {
  "kernelspec": {
   "display_name": ".venv",
   "language": "python",
   "name": "python3"
  },
  "language_info": {
   "codemirror_mode": {
    "name": "ipython",
    "version": 3
   },
   "file_extension": ".py",
   "mimetype": "text/x-python",
   "name": "python",
   "nbconvert_exporter": "python",
   "pygments_lexer": "ipython3",
   "version": "3.10.13"
  }
 },
 "nbformat": 4,
 "nbformat_minor": 2
}
