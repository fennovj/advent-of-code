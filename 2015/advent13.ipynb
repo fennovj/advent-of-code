{
 "cells": [
  {
   "cell_type": "code",
   "execution_count": 22,
   "metadata": {},
   "outputs": [],
   "source": [
    "import advent\n",
    "advent.scrape(2015, 13)\n",
    "data = advent.get_lines(13)\n",
    "# There are abcdefgm = 8 guests, so 8! = 40320 arrangements, so can be brute forced\n",
    "# It's only 7! = 5040 if we force the first guest to be alice\n",
    "\n",
    "graph: dict[tuple[str, str], int] = {}\n",
    "guests: set[str] = set([])\n",
    "\n",
    "for line in data:\n",
    "    line = line.split()\n",
    "    score = int(line[3]) if line[2] == 'gain' else -1 * int(line[3])\n",
    "    guest, otherguest = line[0], line[10][:-1]\n",
    "    graph[(guest, otherguest)] = score\n",
    "    guests.add(guest)\n",
    "    guests.add(otherguest)\n"
   ]
  },
  {
   "cell_type": "code",
   "execution_count": null,
   "metadata": {},
   "outputs": [
    {
     "name": "stdout",
     "output_type": "stream",
     "text": [
      "618\n"
     ]
    }
   ],
   "source": [
    "import itertools\n",
    "bestresult = 0\n",
    "for seating in itertools.permutations(guests):\n",
    "    result = 0\n",
    "    for ix in range(len(seating)):\n",
    "        result += graph[(seating[ix], seating[ix-1])]\n",
    "        result += graph[(seating[ix], seating[(ix+1) % len(seating)])]\n",
    "    if result > bestresult: bestresult = result\n",
    "print(bestresult)"
   ]
  },
  {
   "cell_type": "code",
   "execution_count": 25,
   "metadata": {},
   "outputs": [],
   "source": [
    "import copy\n",
    "graph2 = copy.deepcopy(graph)\n",
    "guests2 = copy.deepcopy(guests)\n",
    "for guest in guests:\n",
    "    graph2[('Me', guest)] = 0\n",
    "    graph2[(guest, 'Me')] = 0\n",
    "guests2.add('Me')"
   ]
  },
  {
   "cell_type": "code",
   "execution_count": 26,
   "metadata": {},
   "outputs": [
    {
     "name": "stdout",
     "output_type": "stream",
     "text": [
      "601\n"
     ]
    }
   ],
   "source": [
    "# Just copy pasted because why not\n",
    "\n",
    "import itertools\n",
    "bestresult = 0\n",
    "for seating in itertools.permutations(guests2):\n",
    "    result = 0\n",
    "    for ix in range(len(seating)):\n",
    "        result += graph2[(seating[ix], seating[ix-1])]\n",
    "        result += graph2[(seating[ix], seating[(ix+1) % len(seating)])]\n",
    "    if result > bestresult: bestresult = result\n",
    "print(bestresult)"
   ]
  }
 ],
 "metadata": {
  "kernelspec": {
   "display_name": ".venv",
   "language": "python",
   "name": "python3"
  },
  "language_info": {
   "codemirror_mode": {
    "name": "ipython",
    "version": 3
   },
   "file_extension": ".py",
   "mimetype": "text/x-python",
   "name": "python",
   "nbconvert_exporter": "python",
   "pygments_lexer": "ipython3",
   "version": "3.10.13"
  }
 },
 "nbformat": 4,
 "nbformat_minor": 2
}
