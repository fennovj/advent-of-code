{
 "cells": [
  {
   "cell_type": "code",
   "execution_count": 2,
   "metadata": {},
   "outputs": [],
   "source": [
    "data = 'yzbqklnj'\n",
    "\n",
    "import hashlib\n",
    "def md5(data):\n",
    "    return hashlib.md5(data.encode()).hexdigest()"
   ]
  },
  {
   "cell_type": "code",
   "execution_count": 6,
   "metadata": {},
   "outputs": [
    {
     "name": "stdout",
     "output_type": "stream",
     "text": [
      "282749 000002c655df7738246e88f6c1c43eb7\n"
     ]
    }
   ],
   "source": [
    "for i in range(99999999999999):\n",
    "    if md5(f\"{data}{i}\").startswith(\"00000\"):\n",
    "        print(i, md5(f\"{data}{i}\"))\n",
    "        break"
   ]
  },
  {
   "cell_type": "code",
   "execution_count": 7,
   "metadata": {},
   "outputs": [
    {
     "name": "stdout",
     "output_type": "stream",
     "text": [
      "9962624 0000004b347bf4b398b3f62ace7cd301\n"
     ]
    }
   ],
   "source": [
    "for i in range(99999999999999):\n",
    "    if md5(f\"{data}{i}\").startswith(\"000000\"):\n",
    "        print(i, md5(f\"{data}{i}\"))\n",
    "        break"
   ]
  }
 ],
 "metadata": {
  "kernelspec": {
   "display_name": ".venv",
   "language": "python",
   "name": "python3"
  },
  "language_info": {
   "codemirror_mode": {
    "name": "ipython",
    "version": 3
   },
   "file_extension": ".py",
   "mimetype": "text/x-python",
   "name": "python",
   "nbconvert_exporter": "python",
   "pygments_lexer": "ipython3",
   "version": "3.10.13"
  }
 },
 "nbformat": 4,
 "nbformat_minor": 2
}
