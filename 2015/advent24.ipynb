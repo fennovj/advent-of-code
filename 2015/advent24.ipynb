{
 "cells": [
  {
   "cell_type": "code",
   "execution_count": 14,
   "metadata": {},
   "outputs": [],
   "source": [
    "import advent\n",
    "advent.scrape(2015, 24)\n",
    "data = advent.get_lines(24, map_fn=int)\n",
    "\n",
    "# We know that each bag must weigh 516 since that is a third of the total\n",
    "bagsize = sum(data) // 3"
   ]
  },
  {
   "cell_type": "code",
   "execution_count": 15,
   "metadata": {},
   "outputs": [
    {
     "ename": "KeyboardInterrupt",
     "evalue": "",
     "output_type": "error",
     "traceback": [
      "\u001b[0;31m---------------------------------------------------------------------------\u001b[0m",
      "\u001b[0;31mKeyboardInterrupt\u001b[0m                         Traceback (most recent call last)",
      "Cell \u001b[0;32mIn[15], line 29\u001b[0m\n\u001b[1;32m     26\u001b[0m \u001b[38;5;66;03m#bagsize = 20\u001b[39;00m\n\u001b[1;32m     27\u001b[0m \u001b[38;5;66;03m#data = [1,2,3,4,5,7,8,9,10,11]\u001b[39;00m\n\u001b[1;32m     28\u001b[0m possibilities \u001b[38;5;241m=\u001b[39m []\n\u001b[0;32m---> 29\u001b[0m \u001b[38;5;28;01mfor\u001b[39;00m bag, leftover \u001b[38;5;129;01min\u001b[39;00m \u001b[43mgrab\u001b[49m\u001b[43m(\u001b[49m\u001b[38;5;28;43mtuple\u001b[39;49m\u001b[43m(\u001b[49m\u001b[43mdata\u001b[49m\u001b[43m)\u001b[49m\u001b[43m,\u001b[49m\u001b[43m \u001b[49m\u001b[43mbagsize\u001b[49m\u001b[43m)\u001b[49m:\n\u001b[1;32m     30\u001b[0m     possible \u001b[38;5;241m=\u001b[39m grab(leftover, bagsize)\n\u001b[1;32m     31\u001b[0m     \u001b[38;5;28;01mif\u001b[39;00m possible:\n",
      "Cell \u001b[0;32mIn[15], line 14\u001b[0m, in \u001b[0;36mgrab\u001b[0;34m(bag, bagsize)\u001b[0m\n\u001b[1;32m     12\u001b[0m \u001b[38;5;28;01mif\u001b[39;00m bag[ix] \u001b[38;5;241m>\u001b[39m bagsize: \u001b[38;5;28;01mcontinue\u001b[39;00m\n\u001b[1;32m     13\u001b[0m newbag \u001b[38;5;241m=\u001b[39m bag[:ix] \u001b[38;5;241m+\u001b[39m bag[(ix\u001b[38;5;241m+\u001b[39m\u001b[38;5;241m1\u001b[39m):]\n\u001b[0;32m---> 14\u001b[0m \u001b[38;5;28;01mfor\u001b[39;00m r \u001b[38;5;129;01min\u001b[39;00m \u001b[43mgrab\u001b[49m\u001b[43m(\u001b[49m\u001b[43mnewbag\u001b[49m\u001b[43m,\u001b[49m\u001b[43m \u001b[49m\u001b[43mbagsize\u001b[49m\u001b[38;5;241;43m-\u001b[39;49m\u001b[43mbag\u001b[49m\u001b[43m[\u001b[49m\u001b[43mix\u001b[49m\u001b[43m]\u001b[49m\u001b[43m)\u001b[49m:\n\u001b[1;32m     15\u001b[0m     r \u001b[38;5;241m=\u001b[39m (r[\u001b[38;5;241m0\u001b[39m] \u001b[38;5;241m+\u001b[39m (bag[ix],), r[\u001b[38;5;241m1\u001b[39m])\n\u001b[1;32m     16\u001b[0m     result\u001b[38;5;241m.\u001b[39mappend(r) \n",
      "Cell \u001b[0;32mIn[15], line 14\u001b[0m, in \u001b[0;36mgrab\u001b[0;34m(bag, bagsize)\u001b[0m\n\u001b[1;32m     12\u001b[0m \u001b[38;5;28;01mif\u001b[39;00m bag[ix] \u001b[38;5;241m>\u001b[39m bagsize: \u001b[38;5;28;01mcontinue\u001b[39;00m\n\u001b[1;32m     13\u001b[0m newbag \u001b[38;5;241m=\u001b[39m bag[:ix] \u001b[38;5;241m+\u001b[39m bag[(ix\u001b[38;5;241m+\u001b[39m\u001b[38;5;241m1\u001b[39m):]\n\u001b[0;32m---> 14\u001b[0m \u001b[38;5;28;01mfor\u001b[39;00m r \u001b[38;5;129;01min\u001b[39;00m \u001b[43mgrab\u001b[49m\u001b[43m(\u001b[49m\u001b[43mnewbag\u001b[49m\u001b[43m,\u001b[49m\u001b[43m \u001b[49m\u001b[43mbagsize\u001b[49m\u001b[38;5;241;43m-\u001b[39;49m\u001b[43mbag\u001b[49m\u001b[43m[\u001b[49m\u001b[43mix\u001b[49m\u001b[43m]\u001b[49m\u001b[43m)\u001b[49m:\n\u001b[1;32m     15\u001b[0m     r \u001b[38;5;241m=\u001b[39m (r[\u001b[38;5;241m0\u001b[39m] \u001b[38;5;241m+\u001b[39m (bag[ix],), r[\u001b[38;5;241m1\u001b[39m])\n\u001b[1;32m     16\u001b[0m     result\u001b[38;5;241m.\u001b[39mappend(r) \n",
      "    \u001b[0;31m[... skipping similar frames: grab at line 14 (3 times)]\u001b[0m\n",
      "Cell \u001b[0;32mIn[15], line 14\u001b[0m, in \u001b[0;36mgrab\u001b[0;34m(bag, bagsize)\u001b[0m\n\u001b[1;32m     12\u001b[0m \u001b[38;5;28;01mif\u001b[39;00m bag[ix] \u001b[38;5;241m>\u001b[39m bagsize: \u001b[38;5;28;01mcontinue\u001b[39;00m\n\u001b[1;32m     13\u001b[0m newbag \u001b[38;5;241m=\u001b[39m bag[:ix] \u001b[38;5;241m+\u001b[39m bag[(ix\u001b[38;5;241m+\u001b[39m\u001b[38;5;241m1\u001b[39m):]\n\u001b[0;32m---> 14\u001b[0m \u001b[38;5;28;01mfor\u001b[39;00m r \u001b[38;5;129;01min\u001b[39;00m \u001b[43mgrab\u001b[49m\u001b[43m(\u001b[49m\u001b[43mnewbag\u001b[49m\u001b[43m,\u001b[49m\u001b[43m \u001b[49m\u001b[43mbagsize\u001b[49m\u001b[38;5;241;43m-\u001b[39;49m\u001b[43mbag\u001b[49m\u001b[43m[\u001b[49m\u001b[43mix\u001b[49m\u001b[43m]\u001b[49m\u001b[43m)\u001b[49m:\n\u001b[1;32m     15\u001b[0m     r \u001b[38;5;241m=\u001b[39m (r[\u001b[38;5;241m0\u001b[39m] \u001b[38;5;241m+\u001b[39m (bag[ix],), r[\u001b[38;5;241m1\u001b[39m])\n\u001b[1;32m     16\u001b[0m     result\u001b[38;5;241m.\u001b[39mappend(r) \n",
      "Cell \u001b[0;32mIn[15], line 16\u001b[0m, in \u001b[0;36mgrab\u001b[0;34m(bag, bagsize)\u001b[0m\n\u001b[1;32m     14\u001b[0m     \u001b[38;5;28;01mfor\u001b[39;00m r \u001b[38;5;129;01min\u001b[39;00m grab(newbag, bagsize\u001b[38;5;241m-\u001b[39mbag[ix]):\n\u001b[1;32m     15\u001b[0m         r \u001b[38;5;241m=\u001b[39m (r[\u001b[38;5;241m0\u001b[39m] \u001b[38;5;241m+\u001b[39m (bag[ix],), r[\u001b[38;5;241m1\u001b[39m])\n\u001b[0;32m---> 16\u001b[0m         \u001b[43mresult\u001b[49m\u001b[38;5;241;43m.\u001b[39;49m\u001b[43mappend\u001b[49m\u001b[43m(\u001b[49m\u001b[43mr\u001b[49m\u001b[43m)\u001b[49m \n\u001b[1;32m     17\u001b[0m \u001b[38;5;28;01mreturn\u001b[39;00m result\n",
      "\u001b[0;31mKeyboardInterrupt\u001b[0m: "
     ]
    }
   ],
   "source": [
    "# Well let's just try some dynamic programming I guess...\n",
    "from functools import cache\n",
    "\n",
    "@cache\n",
    "def grab(bag, bagsize):\n",
    "    # returns a list of two tuples a, b\n",
    "    # where sum(a) == bagsize, and b are the leftovers\n",
    "    # to help caching, bag/bagsize should be sorted\n",
    "    if bagsize == 0: return ((tuple(), bag),)\n",
    "    result = []\n",
    "    for ix in range(len(bag)):\n",
    "        if bag[ix] > bagsize: continue\n",
    "        newbag = bag[:ix] + bag[(ix+1):]\n",
    "        for r in grab(newbag, bagsize-bag[ix]):\n",
    "            r = (r[0] + (bag[ix],), r[1])\n",
    "            result.append(r) \n",
    "    return result\n",
    "\n",
    "#print(grab(tuple((10, 11, 12)), 10))\n",
    "\n",
    "def product(l) -> int:\n",
    "    r = 1\n",
    "    for i in l: r *= i\n",
    "    return r\n",
    "\n",
    "#bagsize = 20\n",
    "#data = [1,2,3,4,5,7,8,9,10,11]\n",
    "possibilities = []\n",
    "for bag, leftover in grab(tuple(data), bagsize):\n",
    "    possible = grab(leftover, bagsize)\n",
    "    if possible:\n",
    "        possibilities.append((len(bag), product(bag)))\n",
    "\n",
    "print(sorted(possibilities)[0])"
   ]
  },
  {
   "cell_type": "code",
   "execution_count": null,
   "metadata": {},
   "outputs": [],
   "source": []
  }
 ],
 "metadata": {
  "kernelspec": {
   "display_name": ".venv",
   "language": "python",
   "name": "python3"
  },
  "language_info": {
   "codemirror_mode": {
    "name": "ipython",
    "version": 3
   },
   "file_extension": ".py",
   "mimetype": "text/x-python",
   "name": "python",
   "nbconvert_exporter": "python",
   "pygments_lexer": "ipython3",
   "version": "3.10.11"
  }
 },
 "nbformat": 4,
 "nbformat_minor": 2
}
