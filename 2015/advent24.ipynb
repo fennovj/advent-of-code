{
 "cells": [
  {
   "cell_type": "code",
   "execution_count": 42,
   "metadata": {},
   "outputs": [],
   "source": [
    "import advent\n",
    "advent.scrape(2015, 24)\n",
    "data: list[int] = advent.get_lines(24, map_fn=int)\n",
    "\n",
    "all_nums = set(data)\n",
    "\n",
    "# We know that each bag must weigh 516 since that is a third of the total\n",
    "bagsize = sum(data) // 3"
   ]
  },
  {
   "cell_type": "code",
   "execution_count": 43,
   "metadata": {},
   "outputs": [],
   "source": [
    "# Well let's just try some dynamic programming I guess...\n",
    "from functools import cache\n",
    "\n",
    "@cache\n",
    "def grab(bag, bagsize) -> tuple[tuple[int, ...], ...]:\n",
    "    # returns a list of tuples a1, a2, ...\n",
    "    # where sum(ai) == bagsize\n",
    "    # to help caching, bag/bagsize should be sorted\n",
    "    if bagsize == 0: return ((),) # man this is so counterintuitive\n",
    "    result = []\n",
    "    for ix in range(len(bag)):\n",
    "        if bag[ix] > bagsize: continue\n",
    "        newbag = bag[:ix] + bag[(ix+1):]\n",
    "        for r in grab(newbag, bagsize-bag[ix]):\n",
    "            r = r + (bag[ix],)\n",
    "            result.append(r)\n",
    "    return tuple(result)\n",
    "\n",
    "#print(grab(tuple([1,2,3,4,5,7,8,9,10,11]), 20))\n",
    "\n",
    "def product(l) -> int:\n",
    "    r = 1\n",
    "    for i in l: r *= i\n",
    "    return r\n",
    "\n",
    "# Runs too long :(\n",
    "# all_bags_mine = grab(tuple(data), bagsize)"
   ]
  },
  {
   "cell_type": "code",
   "execution_count": 44,
   "metadata": {},
   "outputs": [],
   "source": [
    "from collections import defaultdict\n",
    "\n",
    "# Well I have to admit...\n",
    "# This 'find_combinations_dp' function is copied from online\n",
    "# It should do pretty much the same thing as grab, but somehow is way faster...\n",
    "# Other than that, it does pretty much the same as the grab function but with a\n",
    "# dict and without recursion rather than @cache, so not sure why its so much faster\n",
    "# maybe because it doesn't do the stupid tuple re-allocating\n",
    "\n",
    "def find_combinations_dp(nums: list[int], target: int) -> list[list[int]]:\n",
    "    dp = defaultdict(list)\n",
    "    dp[0].append([])  # Base case: one way to sum to 0\n",
    "    \n",
    "    for num in nums:\n",
    "        for t in range(target, num - 1, -1):\n",
    "            for combination in dp[t - num]:\n",
    "                dp[t].append(combination + [num])\n",
    "    \n",
    "    return dp[target]\n",
    "\n",
    "all_bags = find_combinations_dp( data, bagsize)"
   ]
  },
  {
   "cell_type": "code",
   "execution_count": 45,
   "metadata": {},
   "outputs": [
    {
     "name": "stdout",
     "output_type": "stream",
     "text": [
      "11266889531\n"
     ]
    }
   ],
   "source": [
    "possibilities = []\n",
    "for bag in all_bags:\n",
    "    possibilities.append(((len(bag), product(bag)), bag))\n",
    "\n",
    "possibilities = sorted(possibilities)\n",
    "for score, bag in possibilities:\n",
    "    leftover = list(all_nums - set(bag))\n",
    "    possible = find_combinations_dp(leftover, bagsize)\n",
    "    if possible:\n",
    "        # Since possibilities is sorted, this one is guaranteed to be smallest\n",
    "        print(score[1])\n",
    "        break"
   ]
  },
  {
   "cell_type": "code",
   "execution_count": null,
   "metadata": {},
   "outputs": [],
   "source": [
    "# Part 2\n",
    "bagsize2 = sum(data) // 4\n",
    "\n",
    "# Much quicker because bagsize2 is so much lower\n",
    "all_bags_part2 = find_combinations_dp( data, bagsize2)"
   ]
  },
  {
   "cell_type": "code",
   "execution_count": 50,
   "metadata": {},
   "outputs": [
    {
     "name": "stdout",
     "output_type": "stream",
     "text": [
      "77387711\n"
     ]
    }
   ],
   "source": [
    "possibilities2 = []\n",
    "for bag in all_bags_part2:\n",
    "    possibilities2.append(((len(bag), product(bag)), bag))\n",
    "\n",
    "possibilities2 = sorted(possibilities2)\n",
    "for score, bag in possibilities2:\n",
    "    leftover = list(all_nums - set(bag))\n",
    "    possible = find_combinations_dp(leftover, bagsize2)\n",
    "    for wecangodeeper in possible:\n",
    "        leftover2 = list(set(leftover) - set(wecangodeeper))\n",
    "        actuallypossible = find_combinations_dp(leftover2, bagsize2)\n",
    "        if actuallypossible:\n",
    "            print(score[1])\n",
    "            break\n",
    "    break # breaks out already during the first iteration but oh well it works\n",
    "# Turns out it already succeeds during the very first one"
   ]
  },
  {
   "cell_type": "code",
   "execution_count": null,
   "metadata": {},
   "outputs": [],
   "source": []
  }
 ],
 "metadata": {
  "kernelspec": {
   "display_name": ".venv",
   "language": "python",
   "name": "python3"
  },
  "language_info": {
   "codemirror_mode": {
    "name": "ipython",
    "version": 3
   },
   "file_extension": ".py",
   "mimetype": "text/x-python",
   "name": "python",
   "nbconvert_exporter": "python",
   "pygments_lexer": "ipython3",
   "version": "3.10.11"
  }
 },
 "nbformat": 4,
 "nbformat_minor": 2
}
