{
 "cells": [
  {
   "cell_type": "code",
   "execution_count": null,
   "metadata": {},
   "outputs": [
    {
     "name": "stdout",
     "output_type": "stream",
     "text": [
      "2978 3083\n"
     ]
    }
   ],
   "source": [
    "import advent\n",
    "advent.scrape(2015, 25)\n",
    "data = advent.get_lines(25)\n",
    "row = int(data[0].split()[15][:-1])\n",
    "col = int(data[0].split()[17][:-1])"
   ]
  },
  {
   "cell_type": "code",
   "execution_count": 7,
   "metadata": {},
   "outputs": [
    {
     "name": "stdout",
     "output_type": "stream",
     "text": [
      "2650453\n"
     ]
    }
   ],
   "source": [
    "i, j = 1, 1\n",
    "number = 20151125\n",
    "# each step: i -= 1, j += 1. if i == 1, then: i = j+1, j = 1\n",
    "while True:\n",
    "    if i == 1: i, j = j+1, 1\n",
    "    else: i, j = i-1, j+1\n",
    "    number = (number * 252533) % 33554393\n",
    "    if i == row and j == col: break\n",
    "print(number)\n"
   ]
  }
 ],
 "metadata": {
  "kernelspec": {
   "display_name": ".venv",
   "language": "python",
   "name": "python3"
  },
  "language_info": {
   "codemirror_mode": {
    "name": "ipython",
    "version": 3
   },
   "file_extension": ".py",
   "mimetype": "text/x-python",
   "name": "python",
   "nbconvert_exporter": "python",
   "pygments_lexer": "ipython3",
   "version": "3.10.11"
  }
 },
 "nbformat": 4,
 "nbformat_minor": 2
}
