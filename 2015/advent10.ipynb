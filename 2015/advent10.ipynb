{
 "cells": [
  {
   "cell_type": "code",
   "execution_count": null,
   "metadata": {},
   "outputs": [
    {
     "name": "stdout",
     "output_type": "stream",
     "text": [
      "8\n"
     ]
    }
   ],
   "source": [
    "# Feel like I've seen a numberphile video on this...\n",
    "# Can't find it though, and I wouldn't use it if it was made after 2015\n",
    "from collections import Counter\n",
    "data = '3113322113'\n",
    "\n",
    "for _ in range(40):\n",
    "    counted = Counter(list(data))\n",
    "    data = \"\".join(f\"{counted[c]}{c}\" for c in sorted(counted))\n",
    "print(len(data))\n",
    "# Ok I completely misread the assignment... keeping this in here because it's funny"
   ]
  },
  {
   "cell_type": "code",
   "execution_count": 16,
   "metadata": {},
   "outputs": [
    {
     "name": "stdout",
     "output_type": "stream",
     "text": [
      "329356\n"
     ]
    }
   ],
   "source": [
    "# Part 1 (for real)\n",
    "# I did some googling and apparently this exists already (sort of) in itertools\n",
    "from itertools import groupby\n",
    "data = '3113322113'\n",
    "\n",
    "def look_and_say(line: str):\n",
    "    runs = [list(group) for _, group in groupby(line)]\n",
    "    return \"\".join(f\"{len(l)}{l[0]}\" for l in runs)\n",
    "\n",
    "for _ in range(40):\n",
    "    data = look_and_say(data)\n",
    "print(len(data))\n"
   ]
  },
  {
   "cell_type": "code",
   "execution_count": null,
   "metadata": {},
   "outputs": [
    {
     "name": "stderr",
     "output_type": "stream",
     "text": [
      "100%|██████████| 50/50 [00:07<00:00,  6.33it/s] "
     ]
    },
    {
     "name": "stdout",
     "output_type": "stream",
     "text": [
      "4666278\n"
     ]
    },
    {
     "name": "stderr",
     "output_type": "stream",
     "text": [
      "\n"
     ]
    }
   ],
   "source": [
    "# Part 2\n",
    "# Lmao the assignment literally contains a link to numberphile\n",
    "# (I misremembered it was John Conway not Neil Sloane)\n",
    "from tqdm import tqdm\n",
    "data = '3113322113'\n",
    "for _ in tqdm(range(50)):\n",
    "    data = look_and_say(data)\n",
    "print(len(data)) # just takes like 7 seconds, they were nice to us :)"
   ]
  }
 ],
 "metadata": {
  "kernelspec": {
   "display_name": ".venv",
   "language": "python",
   "name": "python3"
  },
  "language_info": {
   "codemirror_mode": {
    "name": "ipython",
    "version": 3
   },
   "file_extension": ".py",
   "mimetype": "text/x-python",
   "name": "python",
   "nbconvert_exporter": "python",
   "pygments_lexer": "ipython3",
   "version": "3.10.13"
  }
 },
 "nbformat": 4,
 "nbformat_minor": 2
}
