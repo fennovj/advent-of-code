{
 "cells": [
  {
   "cell_type": "code",
   "execution_count": 8,
   "metadata": {},
   "outputs": [],
   "source": [
    "import advent\n",
    "advent.scrape(2015, 12)\n",
    "data = advent.get_lines(12)[0]"
   ]
  },
  {
   "cell_type": "code",
   "execution_count": 9,
   "metadata": {},
   "outputs": [
    {
     "name": "stdout",
     "output_type": "stream",
     "text": [
      "119433\n"
     ]
    }
   ],
   "source": [
    "import re\n",
    "result = 0\n",
    "for number in re.findall(r'-?\\d+', data):\n",
    "    result += int(number)\n",
    "print(result)"
   ]
  },
  {
   "cell_type": "code",
   "execution_count": 12,
   "metadata": {},
   "outputs": [
    {
     "name": "stdout",
     "output_type": "stream",
     "text": [
      "68466\n"
     ]
    }
   ],
   "source": [
    "import json\n",
    "jsondata = json.loads(data)\n",
    "\n",
    "def count(jsondata):\n",
    "    if isinstance(jsondata, int): return jsondata\n",
    "    if isinstance(jsondata, str): return 0\n",
    "    if isinstance(jsondata, list):\n",
    "        return sum(count(item) for item in jsondata)\n",
    "    assert isinstance(jsondata, dict) # sanity check\n",
    "    for k in jsondata:\n",
    "        if jsondata[k] == 'red': return 0\n",
    "    return sum(count(jsondata[k]) for k in jsondata)\n",
    "\n",
    "print(count(jsondata))"
   ]
  }
 ],
 "metadata": {
  "kernelspec": {
   "display_name": ".venv",
   "language": "python",
   "name": "python3"
  },
  "language_info": {
   "codemirror_mode": {
    "name": "ipython",
    "version": 3
   },
   "file_extension": ".py",
   "mimetype": "text/x-python",
   "name": "python",
   "nbconvert_exporter": "python",
   "pygments_lexer": "ipython3",
   "version": "3.10.13"
  }
 },
 "nbformat": 4,
 "nbformat_minor": 2
}
