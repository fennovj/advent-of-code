{
 "cells": [
  {
   "cell_type": "code",
   "execution_count": 1,
   "metadata": {},
   "outputs": [],
   "source": [
    "import advent\n",
    "advent.scrape(2015, 8)\n",
    "data = advent.get_lines(8)"
   ]
  },
  {
   "cell_type": "code",
   "execution_count": 15,
   "metadata": {},
   "outputs": [
    {
     "name": "stdout",
     "output_type": "stream",
     "text": [
      "1333\n"
     ]
    }
   ],
   "source": [
    "import re\n",
    "\n",
    "def decode(line):\n",
    "    line = line[1:-1]\n",
    "    line = line.replace('\\\\\\\"', \"\\\"\")\n",
    "    line = line.replace('\\\\\\\\', '\\\\')\n",
    "    # Since only the length matters, just replace it with some character\n",
    "    line = re.sub(r'\\\\x[0-9a-f]{2}', 'O', line)\n",
    "    return line\n",
    "\n",
    "result = 0\n",
    "for line in data:\n",
    "    result += len(line) - len(decode(line))\n",
    "print(result)"
   ]
  },
  {
   "cell_type": "code",
   "execution_count": 18,
   "metadata": {},
   "outputs": [
    {
     "name": "stdout",
     "output_type": "stream",
     "text": [
      "2046\n"
     ]
    }
   ],
   "source": [
    "def encode(line):\n",
    "    line = line.replace(\"\\\\\", \"\\\\\\\\\")\n",
    "    line = line.replace(\"\\\"\", \"\\\\\\\"\")\n",
    "    return f\"\\\"{line}\\\"\"\n",
    "\n",
    "result = 0\n",
    "for line in data:\n",
    "    result += len(encode(line)) - len(line)\n",
    "print(result)"
   ]
  }
 ],
 "metadata": {
  "kernelspec": {
   "display_name": ".venv",
   "language": "python",
   "name": "python3"
  },
  "language_info": {
   "codemirror_mode": {
    "name": "ipython",
    "version": 3
   },
   "file_extension": ".py",
   "mimetype": "text/x-python",
   "name": "python",
   "nbconvert_exporter": "python",
   "pygments_lexer": "ipython3",
   "version": "3.10.13"
  }
 },
 "nbformat": 4,
 "nbformat_minor": 2
}
