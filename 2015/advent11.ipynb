{
 "cells": [
  {
   "cell_type": "code",
   "execution_count": null,
   "metadata": {},
   "outputs": [],
   "source": [
    "data = 'vzbxkghb'\n",
    "# vzbxkghb\n",
    "# vzccaabc is wrong ;(\n",
    "# vzbxxyzz is right :D\n",
    "# Wonder how common that is, I genuinely think that wasn't that hard to do by hand"
   ]
  },
  {
   "cell_type": "code",
   "execution_count": null,
   "metadata": {},
   "outputs": [],
   "source": [
    "# Part 2\n",
    "# Well this is a bit harder, since we can't do vzbyyz__\n",
    "# One candidate is vzcaabcc, which is probably smallest starting with vzc\n",
    "# And it's correct first try :D\n",
    "\n",
    "# Looking on reddit, I definitely wasn't the only one doing it manually\n",
    "# https://www.reddit.com/r/adventofcode/comments/3wbzyv/day_11_solutions/"
   ]
  }
 ],
 "metadata": {
  "kernelspec": {
   "display_name": ".venv",
   "language": "python",
   "name": "python3"
  },
  "language_info": {
   "codemirror_mode": {
    "name": "ipython",
    "version": 3
   },
   "file_extension": ".py",
   "mimetype": "text/x-python",
   "name": "python",
   "nbconvert_exporter": "python",
   "pygments_lexer": "ipython3",
   "version": "3.10.13"
  }
 },
 "nbformat": 4,
 "nbformat_minor": 2
}
