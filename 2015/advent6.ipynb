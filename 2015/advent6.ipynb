{
 "cells": [
  {
   "cell_type": "code",
   "execution_count": 2,
   "metadata": {},
   "outputs": [],
   "source": [
    "import advent\n",
    "advent.scrape(2015, 6)\n",
    "data = advent.get_lines(6)\n",
    "import numpy as np"
   ]
  },
  {
   "cell_type": "code",
   "execution_count": 14,
   "metadata": {},
   "outputs": [
    {
     "name": "stdout",
     "output_type": "stream",
     "text": [
      "377891.0\n"
     ]
    }
   ],
   "source": [
    "grid = np.zeros((1000, 1000))\n",
    "for line in data:\n",
    "    if line.startswith('toggle'):\n",
    "        c1, c2 = line.split()[1], line.split()[3]\n",
    "    else:\n",
    "        c1, c2 = line.split()[2], line.split()[4]\n",
    "    c1, c2 = tuple([int(i) for i in c1.split(',')]), tuple([int(i) for i in c2.split(',')])\n",
    "    if line.startswith('turn on'):\n",
    "        grid[c1[0]:(c2[0]+1), c1[1]:(c2[1]+1)] = 1\n",
    "    elif line.startswith('turn off'):\n",
    "        grid[c1[0]:(c2[0]+1), c1[1]:(c2[1]+1)] = 0\n",
    "    elif line.startswith('toggle'):\n",
    "        grid[c1[0]:(c2[0]+1), c1[1]:(c2[1]+1)] = 1 - grid[c1[0]:(c2[0]+1), c1[1]:(c2[1]+1)]\n",
    "    else:\n",
    "        raise ValueError()\n",
    "print(np.sum(grid))"
   ]
  },
  {
   "cell_type": "code",
   "execution_count": null,
   "metadata": {},
   "outputs": [
    {
     "name": "stdout",
     "output_type": "stream",
     "text": [
      "14110788.0\n"
     ]
    }
   ],
   "source": [
    "grid = np.zeros((1000, 1000))\n",
    "for line in data:\n",
    "    if line.startswith('toggle'):\n",
    "        c1, c2 = line.split()[1], line.split()[3]\n",
    "    else:\n",
    "        c1, c2 = line.split()[2], line.split()[4]\n",
    "    c1, c2 = tuple([int(i) for i in c1.split(',')]), tuple([int(i) for i in c2.split(',')])\n",
    "    if line.startswith('turn on'):\n",
    "        grid[c1[0]:(c2[0]+1), c1[1]:(c2[1]+1)] += 1\n",
    "    elif line.startswith('turn off'):\n",
    "        grid[c1[0]:(c2[0]+1), c1[1]:(c2[1]+1)] = np.maximum(0, grid[c1[0]:(c2[0]+1), c1[1]:(c2[1]+1)] - 1)\n",
    "    elif line.startswith('toggle'):\n",
    "        grid[c1[0]:(c2[0]+1), c1[1]:(c2[1]+1)] += 2\n",
    "    else:\n",
    "        raise ValueError()\n",
    "print(np.sum(grid))"
   ]
  }
 ],
 "metadata": {
  "kernelspec": {
   "display_name": ".venv",
   "language": "python",
   "name": "python3"
  },
  "language_info": {
   "codemirror_mode": {
    "name": "ipython",
    "version": 3
   },
   "file_extension": ".py",
   "mimetype": "text/x-python",
   "name": "python",
   "nbconvert_exporter": "python",
   "pygments_lexer": "ipython3",
   "version": "3.10.13"
  }
 },
 "nbformat": 4,
 "nbformat_minor": 2
}
