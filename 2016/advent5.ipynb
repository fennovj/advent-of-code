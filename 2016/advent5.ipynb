{
 "cells": [
  {
   "cell_type": "code",
   "execution_count": null,
   "metadata": {},
   "outputs": [],
   "source": [
    "data = 'wtnhxymk'\n",
    "#data = 'abc'\n",
    "\n",
    "# Thanks stackoverflow\n",
    "import hashlib\n",
    "def md5(data):\n",
    "    return hashlib.md5(data.encode()).hexdigest()\n",
    "\n",
    "i = 0\n",
    "password = []\n",
    "while len(password) < 8:\n",
    "    hash = md5(data+str(i))\n",
    "    if hash.startswith('00000'):\n",
    "        password.append(hash[5])\n",
    "    i += 1\n",
    "print(''.join(password))"
   ]
  },
  {
   "cell_type": "code",
   "execution_count": null,
   "metadata": {},
   "outputs": [
    {
     "name": "stdout",
     "output_type": "stream",
     "text": [
      "1000000\n",
      "2000000\n",
      "3000000\n",
      "Char found at 1: 5\n",
      "4000000\n",
      "5000000\n",
      "Char found at 4: e\n",
      "Char found at 7: 3\n",
      "6000000\n",
      "7000000\n",
      "8000000\n",
      "Char found at 3: c\n",
      "Char found at 0: 0\n",
      "Char found at 6: e\n",
      "9000000\n",
      "10000000\n",
      "11000000\n",
      "12000000\n",
      "13000000\n",
      "Char found at 5: 8\n",
      "Char found at 2: a\n",
      "05ace8e3\n"
     ]
    }
   ],
   "source": [
    "i = 0\n",
    "password = [''] * 8\n",
    "while not all(password):\n",
    "    i += 1\n",
    "    hash = md5(data+str(i))\n",
    "    if hash.startswith('00000'):\n",
    "        if not hash[5].isdigit(): continue\n",
    "        pos, char = int(hash[5]), hash[6]\n",
    "        if pos < 8 and not password[pos]:\n",
    "            password[pos] = char\n",
    "\n",
    "print(''.join(password))"
   ]
  }
 ],
 "metadata": {
  "kernelspec": {
   "display_name": ".venv",
   "language": "python",
   "name": "python3"
  },
  "language_info": {
   "codemirror_mode": {
    "name": "ipython",
    "version": 3
   },
   "file_extension": ".py",
   "mimetype": "text/x-python",
   "name": "python",
   "nbconvert_exporter": "python",
   "pygments_lexer": "ipython3",
   "version": "3.10.11"
  }
 },
 "nbformat": 4,
 "nbformat_minor": 2
}
