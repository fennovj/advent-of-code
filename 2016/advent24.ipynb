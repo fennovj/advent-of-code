{
 "cells": [
  {
   "cell_type": "code",
   "execution_count": 9,
   "metadata": {},
   "outputs": [],
   "source": [
    "import advent\n",
    "import numpy as np\n",
    "from advent.maze import solve_maze\n",
    "advent.scrape(2016, 24, 'csv')\n",
    "data = advent.get_char_grid(24)\n",
    "zero_loc = np.where(data == '0')[0][0], np.where(data == '0')[1][0]\n",
    "number_of_points = 8 # Yeah i counted it by hand... numbers 0 through 7. easier than writing code for it"
   ]
  },
  {
   "cell_type": "code",
   "execution_count": 10,
   "metadata": {},
   "outputs": [
    {
     "data": {
      "application/vnd.jupyter.widget-view+json": {
       "model_id": "f54841835b274a16937782ea396116f7",
       "version_major": 2,
       "version_minor": 0
      },
      "text/plain": [
       "  0%|          | 0/1 [00:00<?, ?it/s]"
      ]
     },
     "metadata": {},
     "output_type": "display_data"
    },
    {
     "name": "stdout",
     "output_type": "stream",
     "text": [
      "Final path length: 412\n"
     ]
    }
   ],
   "source": [
    "from typing import NamedTuple\n",
    "\n",
    "tadd = lambda x, y: (x[0] + y[0], x[1] + y[1])\n",
    "offsets = [(0, 1), (1, 0), (0, -1), (-1, 0)]\n",
    "\n",
    "class Node(NamedTuple):\n",
    "    coord: tuple[int, int]\n",
    "    points: frozenset[int]\n",
    "\n",
    "def adjacent(node: Node):\n",
    "    for o in offsets:\n",
    "        newcoord = tadd(node.coord, o)\n",
    "        if data[newcoord] == '#': continue # blocked\n",
    "        if data[newcoord] != '.': newpoints = node.points | {int(data[newcoord])}\n",
    "        else: newpoints = node.points\n",
    "        yield Node(newcoord, newpoints), 1\n",
    "\n",
    "start = Node(zero_loc, frozenset([0]))\n",
    "is_target = lambda node: len(node.points) == number_of_points\n",
    "\n",
    "_ = solve_maze(start, is_target, adjacent)"
   ]
  },
  {
   "cell_type": "code",
   "execution_count": null,
   "metadata": {},
   "outputs": [
    {
     "data": {
      "application/vnd.jupyter.widget-view+json": {
       "model_id": "9e6171fdf41647cda16ba5135d62090b",
       "version_major": 2,
       "version_minor": 0
      },
      "text/plain": [
       "  0%|          | 0/1 [00:00<?, ?it/s]"
      ]
     },
     "metadata": {},
     "output_type": "display_data"
    },
    {
     "name": "stdout",
     "output_type": "stream",
     "text": [
      "Final path length: 664\n"
     ]
    }
   ],
   "source": [
    "# Part 2\n",
    "# Could it really be that simple? why yes it is!\n",
    "def is_target_part2(node: Node):\n",
    "    return len(node.points) == number_of_points and node.coord == zero_loc\n",
    "\n",
    "_ = solve_maze(start, is_target_part2, adjacent)"
   ]
  }
 ],
 "metadata": {
  "kernelspec": {
   "display_name": ".venv",
   "language": "python",
   "name": "python3"
  },
  "language_info": {
   "codemirror_mode": {
    "name": "ipython",
    "version": 3
   },
   "file_extension": ".py",
   "mimetype": "text/x-python",
   "name": "python",
   "nbconvert_exporter": "python",
   "pygments_lexer": "ipython3",
   "version": "3.10.13"
  }
 },
 "nbformat": 4,
 "nbformat_minor": 2
}
