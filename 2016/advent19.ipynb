{
 "cells": [
  {
   "cell_type": "code",
   "execution_count": 71,
   "metadata": {},
   "outputs": [
    {
     "name": "stdout",
     "output_type": "stream",
     "text": [
      "1834903\n"
     ]
    }
   ],
   "source": [
    "data = 3014603\n",
    "# Now this is math!\n",
    "# Let's try to brute force part 1 although may be fun to do it with math...\n",
    "\n",
    "# Parity = 0: keep odd elements. parity = 1: keep even elements (one-indexed)\n",
    "\n",
    "def calc_elves(n):\n",
    "    elves = range(1, n+1)\n",
    "    parity = 0\n",
    "\n",
    "    while len(elves) > 1:\n",
    "        # God this took a bit of debugging...\n",
    "        q = (parity + len(elves)) % 2\n",
    "        # if 1: 1 will be eaten (parity=1) if 0: 1 will stay alive (parity=0)\n",
    "        #print(list(elves), \"next\", q, \"now\", parity)\n",
    "        elves = elves[parity::2]\n",
    "        parity = q\n",
    "    return elves[0]\n",
    "\n",
    "assert calc_elves(5) == 3\n",
    "\n",
    "print(calc_elves(data))"
   ]
  },
  {
   "cell_type": "code",
   "execution_count": 76,
   "metadata": {},
   "outputs": [
    {
     "name": "stdout",
     "output_type": "stream",
     "text": [
      "[1, 1, 3, 1, 3, 5, 7, 1, 3, 5, 7, 9, 11, 13, 15, 1, 3, 5, 7]\n"
     ]
    }
   ],
   "source": [
    "print([calc_elves(n) for n in range(1, 20)])\n",
    "# I did it myself, but let's try consulting oeis.\n",
    "def A006257(n):\n",
    "    if n < 3: return 1\n",
    "    if n % 2  == 1: return 2 * A006257(n // 2) + 1\n",
    "    else: return 2 * A006257(n // 2) - 1\n",
    "\n",
    "assert A006257(data) == 1834903"
   ]
  },
  {
   "cell_type": "code",
   "execution_count": null,
   "metadata": {},
   "outputs": [
    {
     "name": "stderr",
     "output_type": "stream",
     "text": [
      "100%|██████████| 3014602/3014602 [19:46<00:00, 2540.28it/s]  "
     ]
    },
    {
     "name": "stdout",
     "output_type": "stream",
     "text": [
      "1420280\n"
     ]
    },
    {
     "name": "stderr",
     "output_type": "stream",
     "text": [
      "\n"
     ]
    }
   ],
   "source": [
    "# Part 2\n",
    "# The offset of the elf to remove is n//2\n",
    "from tqdm import tqdm\n",
    "data = 3014603\n",
    "\n",
    "elves = list(range(1, data+1))\n",
    "n_elves = data\n",
    "ix = 0\n",
    "for i in tqdm(range(data - 1)):\n",
    "    to_delete = (ix + (n_elves // 2)) % n_elves\n",
    "    del elves[to_delete] # Note this is O(n)\n",
    "    n_elves -= 1\n",
    "    if to_delete <= ix: ix -= 1\n",
    "    ix = (ix + 1) % n_elves\n",
    "    #print(elves, ix, n_elves)\n",
    "\n",
    "print(elves[0])\n",
    "# Took like 20 minutes lol\n",
    "# Can surely be done in O(n log n) by intelligently keeping track of indexes\n",
    "# But that sounds quite difficult :)\n",
    "\n"
   ]
  }
 ],
 "metadata": {
  "kernelspec": {
   "display_name": ".venv",
   "language": "python",
   "name": "python3"
  },
  "language_info": {
   "codemirror_mode": {
    "name": "ipython",
    "version": 3
   },
   "file_extension": ".py",
   "mimetype": "text/x-python",
   "name": "python",
   "nbconvert_exporter": "python",
   "pygments_lexer": "ipython3",
   "version": "3.10.11"
  }
 },
 "nbformat": 4,
 "nbformat_minor": 2
}
