{
 "cells": [
  {
   "cell_type": "code",
   "execution_count": null,
   "metadata": {},
   "outputs": [
    {
     "name": "stdout",
     "output_type": "stream",
     "text": [
      "00000100100001100\n",
      "00011010100010010\n"
     ]
    }
   ],
   "source": [
    "data = list('11011110011011101')\n",
    "DISK_SIZE=272\n",
    "DISK_SIZE2=35651584\n",
    "f = {'0': '1', '1': '0'}\n",
    "\n",
    "flip = lambda a: list(map(lambda c: f[c], a))\n",
    "\n",
    "def step(a):\n",
    "    return a + ['0'] + flip(a.copy()[::-1])\n",
    "\n",
    "def fill_disk(a, disksize):\n",
    "    while len(a) < disksize:\n",
    "        a = step(a)\n",
    "    return a[:disksize]\n",
    "\n",
    "def checksum_step(a):\n",
    "    assert len(a) % 2 == 0\n",
    "    result = []\n",
    "    for i in range(0, len(a), 2):\n",
    "        if a[i] == a[i+1]: result.append('1')\n",
    "        else: result.append('0')\n",
    "    return result\n",
    "\n",
    "def checksum(a):\n",
    "    while len(a) % 2 == 0:\n",
    "        a = checksum_step(a)\n",
    "    return a\n",
    "\n",
    "assert ''.join(checksum(fill_disk(list('10000'), 20))) == '01100'\n",
    "\n",
    "print(''.join(checksum(fill_disk(list(data), DISK_SIZE))))\n",
    "# Easiest part 2 ever? lol\n",
    "print(''.join(checksum(fill_disk(list(data), DISK_SIZE2))))"
   ]
  }
 ],
 "metadata": {
  "kernelspec": {
   "display_name": ".venv",
   "language": "python",
   "name": "python3"
  },
  "language_info": {
   "codemirror_mode": {
    "name": "ipython",
    "version": 3
   },
   "file_extension": ".py",
   "mimetype": "text/x-python",
   "name": "python",
   "nbconvert_exporter": "python",
   "pygments_lexer": "ipython3",
   "version": "3.10.11"
  }
 },
 "nbformat": 4,
 "nbformat_minor": 2
}
