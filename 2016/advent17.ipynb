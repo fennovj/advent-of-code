{
 "cells": [
  {
   "cell_type": "code",
   "execution_count": 29,
   "metadata": {},
   "outputs": [],
   "source": [
    "from advent.maze import solve_maze\n",
    "data = 'veumntbg'\n",
    "#data = 'ulqzkmiv'\n",
    "\n",
    "import hashlib\n",
    "def md5(data):\n",
    "    return hashlib.md5(data.encode()).hexdigest()"
   ]
  },
  {
   "cell_type": "code",
   "execution_count": null,
   "metadata": {},
   "outputs": [
    {
     "data": {
      "application/vnd.jupyter.widget-view+json": {
       "model_id": "024063568da04ecd88d60595025d8eca",
       "version_major": 2,
       "version_minor": 0
      },
      "text/plain": [
       "  0%|          | 0/1 [00:00<?, ?it/s]"
      ]
     },
     "metadata": {},
     "output_type": "display_data"
    },
    {
     "name": "stdout",
     "output_type": "stream",
     "text": [
      "Final path length: 10\n",
      "DDRRULRDRD\n"
     ]
    }
   ],
   "source": [
    "from typing import NamedTuple\n",
    "\n",
    "tadd = lambda x, y: (x[0] + y[0], x[1] + y[1])\n",
    "\n",
    "class Node(NamedTuple):\n",
    "    coord: tuple[int, int]\n",
    "    path: str\n",
    "\n",
    "    def inbound(self):\n",
    "        return 0 <= self.coord[0] and self.coord[0] <= 3 and \\\n",
    "               0 <= self.coord[1] and self.coord[1] <= 3\n",
    "\n",
    "    def hash(self):\n",
    "        return md5(f\"{data}{self.path}\")\n",
    "\n",
    "    def doors(self) -> list[bool]:\n",
    "        # up, down, left, right\n",
    "        return [c in 'bcdef' for c in self.hash()[:4]]\n",
    "\n",
    "    def walk(self, c: str):\n",
    "        if c=='U': return Node(tadd(self.coord, (-1, 0)), self.path+'U')\n",
    "        if c=='D': return Node(tadd(self.coord, (1, 0)), self.path+'D')\n",
    "        if c=='L': return Node(tadd(self.coord, (0, -1)), self.path+'L')\n",
    "        if c=='R': return Node(tadd(self.coord, (0, 1)), self.path+'R')\n",
    "        raise ValueError()\n",
    "\n",
    "start = Node((0, 0), '')\n",
    "is_end = lambda node: node.coord == (3, 3)\n",
    "\n",
    "def adjacent(node):\n",
    "    if node.coord == (3, 3): return [] # This line is added for part 2 only\n",
    "    doors = node.doors()\n",
    "    result = []\n",
    "    if doors[0]: result.append(node.walk('U'))\n",
    "    if doors[1]: result.append(node.walk('D'))\n",
    "    if doors[2]: result.append(node.walk('L'))\n",
    "    if doors[3]: result.append(node.walk('R'))\n",
    "    return [(n, 1) for n in result if n.inbound()]\n",
    "\n",
    "r, path = solve_maze(start, is_end, adjacent)\n",
    "\n",
    "# Get the path\n",
    "print([n for n in path if is_end(n)][0].path)"
   ]
  },
  {
   "cell_type": "code",
   "execution_count": null,
   "metadata": {},
   "outputs": [
    {
     "data": {
      "application/vnd.jupyter.widget-view+json": {
       "model_id": "d3d179dbe02d4742b32ab08bec353812",
       "version_major": 2,
       "version_minor": 0
      },
      "text/plain": [
       "  0%|          | 0/1 [00:00<?, ?it/s]"
      ]
     },
     "metadata": {},
     "output_type": "display_data"
    },
    {
     "name": "stdout",
     "output_type": "stream",
     "text": [
      "536\n"
     ]
    }
   ],
   "source": [
    "# Part 2\n",
    "# Classic dijkstra trap hole...\n",
    "# However, we are helped because there are never 2 paths to the same node.\n",
    "# So we can just ... drum roll.. brute force it!\n",
    "# Change the adjacency rules a bit so (3, 3) isn't adjacent to anything\n",
    "# Then just force it to explore every node by setting is_target to always be False\n",
    "\n",
    "r, path = solve_maze(start, lambda _: False, adjacent)\n",
    "# Get the longest path\n",
    "ends = [n for n in path if is_end(n)]\n",
    "print(max([len(n.path) for n in ends]))"
   ]
  },
  {
   "cell_type": "code",
   "execution_count": null,
   "metadata": {},
   "outputs": [],
   "source": []
  }
 ],
 "metadata": {
  "kernelspec": {
   "display_name": ".venv",
   "language": "python",
   "name": "python3"
  },
  "language_info": {
   "codemirror_mode": {
    "name": "ipython",
    "version": 3
   },
   "file_extension": ".py",
   "mimetype": "text/x-python",
   "name": "python",
   "nbconvert_exporter": "python",
   "pygments_lexer": "ipython3",
   "version": "3.10.11"
  }
 },
 "nbformat": 4,
 "nbformat_minor": 2
}
