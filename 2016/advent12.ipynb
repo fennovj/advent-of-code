{
 "cells": [
  {
   "cell_type": "code",
   "execution_count": 2,
   "metadata": {},
   "outputs": [],
   "source": [
    "import advent\n",
    "advent.scrape(2016, 12)\n",
    "data = advent.get_lines(12)"
   ]
  },
  {
   "cell_type": "code",
   "execution_count": 7,
   "metadata": {},
   "outputs": [
    {
     "name": "stdout",
     "output_type": "stream",
     "text": [
      "318117\n"
     ]
    }
   ],
   "source": [
    "registers = {'a': 0, 'b': 0, 'c': 0, 'd': 0}\n",
    "for i in range(1, 27):\n",
    "    registers[str(i)] = i # yeah its dumb but whatever\n",
    "\n",
    "def run_program(registers):\n",
    "    instruction_pointer = 0\n",
    "    while instruction_pointer < len(data):\n",
    "        ins = data[instruction_pointer]\n",
    "        if ins.startswith('cpy'):\n",
    "            _, v, r = ins.split()\n",
    "            registers[r] = registers[v]\n",
    "        elif ins.startswith('inc'):\n",
    "            _, r = ins.split()\n",
    "            registers[r] += 1\n",
    "        elif ins.startswith('dec'):\n",
    "            _, r = ins.split()\n",
    "            registers[r] -= 1\n",
    "        elif ins.startswith('jnz'):\n",
    "            _, r, v = ins.split()\n",
    "            if registers[r] != 0:\n",
    "                instruction_pointer += (int(v) - 1)\n",
    "        instruction_pointer += 1\n",
    "    return registers['a']\n",
    "\n",
    "print(run_program(registers))"
   ]
  },
  {
   "cell_type": "code",
   "execution_count": null,
   "metadata": {},
   "outputs": [],
   "source": [
    "registers = {'a': 0, 'b': 0, 'c': 1, 'd': 0}\n",
    "for i in range(1, 27):\n",
    "    registers[str(i)] = i # yeah its dumb but whatever\n",
    "print(run_program(registers))"
   ]
  }
 ],
 "metadata": {
  "kernelspec": {
   "display_name": ".venv",
   "language": "python",
   "name": "python3"
  },
  "language_info": {
   "codemirror_mode": {
    "name": "ipython",
    "version": 3
   },
   "file_extension": ".py",
   "mimetype": "text/x-python",
   "name": "python",
   "nbconvert_exporter": "python",
   "pygments_lexer": "ipython3",
   "version": "3.10.11"
  }
 },
 "nbformat": 4,
 "nbformat_minor": 2
}
