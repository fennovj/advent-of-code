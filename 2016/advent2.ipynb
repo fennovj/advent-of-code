{
 "cells": [
  {
   "cell_type": "code",
   "execution_count": 14,
   "metadata": {},
   "outputs": [],
   "source": [
    "import advent\n",
    "advent.scrape(2016, 2)\n",
    "data = advent.get_lines(2)"
   ]
  },
  {
   "cell_type": "code",
   "execution_count": 12,
   "metadata": {},
   "outputs": [
    {
     "name": "stdout",
     "output_type": "stream",
     "text": [
      "24862\n"
     ]
    }
   ],
   "source": [
    "keypad = [\n",
    "    [1, 2, 3],\n",
    "    [4, 5, 6],\n",
    "    [7, 8, 9]\n",
    "]\n",
    "keynumber = lambda pos: keypad[pos[0]][pos[1]]\n",
    "directions = {\n",
    "    'U': (-1, 0),\n",
    "    'D': (1, 0),\n",
    "    'L': (0, -1),\n",
    "    'R': (0, 1)\n",
    "}\n",
    "tadd = lambda x, y: (x[0] + y[0], x[1] + y[1])\n",
    "def step(pos: tuple[int, int], direction: str):\n",
    "    x, y = tadd(pos, directions[direction])\n",
    "    return max(0, min(2, x)), max(0, min(2, y))\n",
    "\n",
    "position = (1, 1)\n",
    "result = []\n",
    "for line in data:\n",
    "    for direction in line:\n",
    "        position = step(position, direction)\n",
    "    result.append(keynumber(position))\n",
    "print(''.join(str(r) for r in result))"
   ]
  },
  {
   "cell_type": "code",
   "execution_count": 13,
   "metadata": {},
   "outputs": [
    {
     "name": "stdout",
     "output_type": "stream",
     "text": [
      "46C91\n"
     ]
    }
   ],
   "source": [
    "keypad = [\n",
    "    [None, None, 1, None, None],\n",
    "    [None, 2, 3, 4, None],\n",
    "    [5, 6, 7, 8, 9],\n",
    "    [None, 'A', 'B', 'C', None],\n",
    "    [None, None, 'D', None, None]\n",
    "]\n",
    "def step(pos: tuple[int, int], direction: str):\n",
    "    x, y = tadd(pos, directions[direction])\n",
    "    if x < 0 or x > 4 or y < 0 or y > 4 or keypad[x][y] is None:\n",
    "        return pos\n",
    "    return x, y\n",
    "\n",
    "position = (3, 0)\n",
    "result = []\n",
    "for line in data:\n",
    "    for direction in line:\n",
    "        position = step(position, direction)\n",
    "    result.append(keynumber(position))\n",
    "print(''.join(str(r) for r in result))"
   ]
  }
 ],
 "metadata": {
  "kernelspec": {
   "display_name": ".venv",
   "language": "python",
   "name": "python3"
  },
  "language_info": {
   "codemirror_mode": {
    "name": "ipython",
    "version": 3
   },
   "file_extension": ".py",
   "mimetype": "text/x-python",
   "name": "python",
   "nbconvert_exporter": "python",
   "pygments_lexer": "ipython3",
   "version": "3.10.11"
  }
 },
 "nbformat": 4,
 "nbformat_minor": 2
}
