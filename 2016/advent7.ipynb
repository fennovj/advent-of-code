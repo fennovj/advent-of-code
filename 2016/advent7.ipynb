{
 "cells": [
  {
   "cell_type": "code",
   "execution_count": null,
   "metadata": {},
   "outputs": [],
   "source": [
    "import advent\n",
    "advent.scrape(2016, 7)\n",
    "data = advent.get_lines(7)\n",
    "\n",
    "import re\n",
    "abba = r'(.)(?!\\1)(.)\\2\\1'\n",
    "habba = r'\\[[^\\]]*?(.)(?!\\1)(.)\\2\\1[^\\[]*?\\]'\n",
    "\n",
    "assert re.search(abba, 'abba[mnop]qrst')\n",
    "assert not re.search(habba, 'abba[mnop]qrst')\n",
    "assert re.search(abba, 'abcd[bddb]xyyx')\n",
    "assert re.search(habba, 'abcd[bddb]xyyx')\n",
    "assert not re.search(abba, 'aaaa[qwer]tyui')\n",
    "assert re.search(habba, 'abba[xabbayzz]ab[adsda]cd')\n",
    "assert re.search(abba, 'abba[abcz]abba[adsda]cd')\n",
    "assert not re.search(habba, 'abcd[abcd]abba[abcd]abcd')\n"
   ]
  },
  {
   "cell_type": "code",
   "execution_count": 53,
   "metadata": {},
   "outputs": [
    {
     "name": "stdout",
     "output_type": "stream",
     "text": [
      "115\n"
     ]
    }
   ],
   "source": [
    "#data = ['abba[mnop]qrst', 'abcd[bddb]xyyx', 'aaaa[qwer]tyui', 'ioxxoj[asdfgh]zxcvbn']\n",
    "result = 0\n",
    "for line in data:\n",
    "    if not re.search(habba, line) and re.search(abba, line):\n",
    "        result += 1\n",
    "print(result)\n",
    "# Fails on e.g. abba[xabbay]abcd"
   ]
  },
  {
   "cell_type": "code",
   "execution_count": 69,
   "metadata": {},
   "outputs": [
    {
     "name": "stdout",
     "output_type": "stream",
     "text": [
      "48\n"
     ]
    }
   ],
   "source": [
    "# Part 2, failed attempt\n",
    "\n",
    "abar = r'(.)(?!\\1)(.)\\1.*?\\[[^\\]]*?\\1\\2\\1[^\\[]*?\\]'\n",
    "abal = r'\\[[^\\]]*?(.)(?!\\1)(.)\\1[^\\[]*?\\].*?\\1\\2\\1.*?'\n",
    "\n",
    "assert re.search(abar, 'aabaf[asdfabaf]sads')\n",
    "assert not re.search(abar, 'aabaf[asdfacaf]sads')\n",
    "assert re.search(abal, 'aabc[asdfabaf]sabas')\n",
    "assert not re.search(abal, 'aaba[asdfaca]sabas')\n",
    "\n",
    "result = 0\n",
    "for line in data:\n",
    "    if re.search(abar, line) or re.search(abal, line):\n",
    "        result += 1\n",
    "print(result)\n",
    "\n",
    "# Fails on fff[aba]fff[aba]fff (it matches even though it shouldn't)\n",
    "# I can't figure out how to do it with regex...\n"
   ]
  },
  {
   "cell_type": "code",
   "execution_count": null,
   "metadata": {},
   "outputs": [
    {
     "name": "stdout",
     "output_type": "stream",
     "text": [
      "231\n"
     ]
    }
   ],
   "source": [
    "nonsenseregex = r'(.)(?!\\1)(.)\\1.*\\#.*\\2\\1\\2'\n",
    "hyperre = re.compile(r'\\[.*?\\]')\n",
    "\n",
    "#line = 'facafcdcf[aba]ggg[idcdi]hhh'\n",
    "#hyperstr = ''.join(re.findall(hyperre, line))\n",
    "#normalstr = re.sub(hyperre, '@', line)\n",
    "#assert re.search(nonsenseregex, f\"{normalstr}#{hyperstr}\")\n",
    "\n",
    "result = 0\n",
    "for line in data:\n",
    "    hyperstr = ''.join(re.findall(hyperre, line))\n",
    "    normalstr = re.sub(hyperre, '@', line)\n",
    "    if re.search(nonsenseregex, f\"{normalstr}#{hyperstr}\"):\n",
    "        result += 1\n",
    "print(result)\n"
   ]
  },
  {
   "cell_type": "code",
   "execution_count": null,
   "metadata": {},
   "outputs": [],
   "source": []
  }
 ],
 "metadata": {
  "kernelspec": {
   "display_name": ".venv",
   "language": "python",
   "name": "python3"
  },
  "language_info": {
   "codemirror_mode": {
    "name": "ipython",
    "version": 3
   },
   "file_extension": ".py",
   "mimetype": "text/x-python",
   "name": "python",
   "nbconvert_exporter": "python",
   "pygments_lexer": "ipython3",
   "version": "3.10.11"
  }
 },
 "nbformat": 4,
 "nbformat_minor": 2
}
