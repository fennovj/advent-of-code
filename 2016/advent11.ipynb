{
 "cells": [
  {
   "cell_type": "code",
   "execution_count": 32,
   "metadata": {},
   "outputs": [],
   "source": [
    "import advent\n",
    "advent.scrape(2016, 11)\n",
    "from advent.maze import solve_maze\n",
    "from typing import NamedTuple\n",
    "\n",
    "class Node(NamedTuple):\n",
    "    floor: int\n",
    "    floors: tuple[frozenset[str], frozenset[str], frozenset[str], frozenset[str]]\n",
    "\n",
    "    def move_item(self, floorto: int, item: str, moveelevator=True) -> 'Node':\n",
    "        #assert item in self.floors[floorfrom]\n",
    "        floorfrom = self.floor\n",
    "        floors = list(self.floors)\n",
    "        floors[floorfrom] = floors[floorfrom].difference([item])\n",
    "        floors[floorto] = floors[floorto] | {item}\n",
    "        return Node(floorto if moveelevator else self.floor,\n",
    "                    tuple(floors))\n",
    "\n",
    "e = frozenset([])\n",
    "items = ['SG', 'SM', 'PG', 'PM', 'TM', 'TG', 'RG', 'RM', 'CG', 'CM']\n",
    "start = Node(\n",
    "    0,\n",
    "    (frozenset(['SG', 'SM', 'PG', 'PM']),\n",
    "    frozenset(['TG', 'RG', 'RM', 'CG', 'CM']),\n",
    "    frozenset(['TM']),\n",
    "    e)\n",
    ")\n",
    "# I lost like 15 minutes because I mistyped 4 here... It was almost midnight...\n",
    "end = (3 , (e, e, e, frozenset(items)))"
   ]
  },
  {
   "cell_type": "code",
   "execution_count": null,
   "metadata": {},
   "outputs": [
    {
     "data": {
      "application/vnd.jupyter.widget-view+json": {
       "model_id": "5a1d93fee2e9410795ee23bfa446f274",
       "version_major": 2,
       "version_minor": 0
      },
      "text/plain": [
       "  0%|          | 0/1 [00:00<?, ?it/s]"
      ]
     },
     "metadata": {},
     "output_type": "display_data"
    },
    {
     "name": "stdout",
     "output_type": "stream",
     "text": [
      "Final path length: 37\n"
     ]
    }
   ],
   "source": [
    "from itertools import combinations\n",
    "\n",
    "def safe(floor: frozenset[str]):\n",
    "    # it's unsafe if for any M: there is any G, but the G corresponding to the M is not on the floor\n",
    "    any_g = any(item.endswith('G') for item in floor)\n",
    "    for item in floor:\n",
    "        if item.endswith('G'): continue\n",
    "        elif f\"{item[0]}G\" in floor: continue\n",
    "        elif any_g: return False\n",
    "    return True\n",
    "\n",
    "def elevator_directions(i: int):\n",
    "    if i == 0: return [1]\n",
    "    if i == 1: return [0, 2]\n",
    "    if i == 2: return [1, 3]\n",
    "    if i == 3: return [2]\n",
    "    raise ValueError()\n",
    "\n",
    "# Well this is a fun one...\n",
    "# My first thought was Dijkstra, let's try it\n",
    "# As for the input parsing, it seems so much easier to do it manually\n",
    "def adjacent(node: Node):\n",
    "    assert node.floor >= 0 and node.floor < 4\n",
    "    flooritems = node.floors[node.floor]\n",
    "    if len(flooritems) == 0: return [] # cant move the elevator, dead end\n",
    "    result = []\n",
    "    for item in flooritems:\n",
    "        # Take one item up or down, checking if both floors are still safe\n",
    "        for newfloor in elevator_directions(node.floor):\n",
    "            newnode = node.move_item(newfloor, item)\n",
    "            if not safe(newnode.floors[node.floor]) or \\\n",
    "               not safe(newnode.floors[newfloor]): continue\n",
    "            result.append((newnode, 1))\n",
    "    if len(flooritems) == 1: return result\n",
    "    \n",
    "    for i1, i2 in combinations(flooritems, 2):\n",
    "        for newfloor in elevator_directions(node.floor):\n",
    "            newnode = node.move_item(newfloor, i1, False)\n",
    "            newnode = newnode.move_item(newfloor, i2)\n",
    "            if not safe(newnode.floors[node.floor]) or \\\n",
    "               not safe(newnode.floors[newfloor]): continue\n",
    "            result.append((newnode, 1))\n",
    "    return result\n",
    "\n",
    "result = solve_maze(start, lambda x: x == end, adjacent)   "
   ]
  },
  {
   "cell_type": "code",
   "execution_count": null,
   "metadata": {},
   "outputs": [
    {
     "data": {
      "application/vnd.jupyter.widget-view+json": {
       "model_id": "5ea5529678044c03ad2f0a60e8d53add",
       "version_major": 2,
       "version_minor": 0
      },
      "text/plain": [
       "  0%|          | 0/1 [00:00<?, ?it/s]"
      ]
     },
     "metadata": {},
     "output_type": "display_data"
    },
    {
     "name": "stdout",
     "output_type": "stream",
     "text": [
      "Final path length: 61\n"
     ]
    }
   ],
   "source": [
    "items = ['SG', 'SM', 'PG', 'PM', 'TM', 'TG', 'RG', 'RM', 'CG', 'CM', 'DG', 'DM', 'EG', 'EM']\n",
    "start = Node(\n",
    "    0,\n",
    "    (frozenset(['SG', 'SM', 'PG', 'PM', 'DG', 'DM', 'EG', 'EM']),\n",
    "    frozenset(['TG', 'RG', 'RM', 'CG', 'CM']),\n",
    "    frozenset(['TM']),\n",
    "    e)\n",
    ")\n",
    "end = (3 , (e, e, e, frozenset(items)))\n",
    "\n",
    "# It took 7 minutes but it got it done!\n",
    "result = solve_maze(start, lambda x: x == end, adjacent, update_tqdm_every=10000)   "
   ]
  }
 ],
 "metadata": {
  "kernelspec": {
   "display_name": ".venv",
   "language": "python",
   "name": "python3"
  },
  "language_info": {
   "codemirror_mode": {
    "name": "ipython",
    "version": 3
   },
   "file_extension": ".py",
   "mimetype": "text/x-python",
   "name": "python",
   "nbconvert_exporter": "python",
   "pygments_lexer": "ipython3",
   "version": "3.10.11"
  }
 },
 "nbformat": 4,
 "nbformat_minor": 2
}
