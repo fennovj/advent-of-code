{
 "cells": [
  {
   "cell_type": "code",
   "execution_count": 1,
   "metadata": {},
   "outputs": [],
   "source": [
    "import advent\n",
    "advent.scrape(2016, 25)\n",
    "data = advent.get_lines(25)"
   ]
  },
  {
   "cell_type": "code",
   "execution_count": 51,
   "metadata": {},
   "outputs": [
    {
     "name": "stdout",
     "output_type": "stream",
     "text": [
      "[0, 0]\n",
      "[1, 1]\n",
      "[1, 1]\n"
     ]
    }
   ],
   "source": [
    "# Copied from day 23, removed tgl instruction and added out instruction\n",
    "\n",
    "def lookup(registers, v):\n",
    "    if v in ['a', 'b', 'c', 'd']: return registers[v]\n",
    "    return int(v)\n",
    "\n",
    "def run_program(registers: dict[str, int], data: list[str], maxout=2, debugins=''):\n",
    "    instruction_pointer = 0\n",
    "    output = []\n",
    "    while instruction_pointer < len(data):\n",
    "        ins = data[instruction_pointer]\n",
    "        if ins == debugins:\n",
    "            print(registers, output)\n",
    "        if ins.startswith('cpy'):\n",
    "            _, v, r = ins.split()\n",
    "            registers[r] = lookup(registers, v)\n",
    "        elif ins.startswith('inc'):\n",
    "            _, r = ins.split()\n",
    "            registers[r] += 1\n",
    "        elif ins.startswith('dec'):\n",
    "            _, r = ins.split()\n",
    "            registers[r] -= 1\n",
    "        elif ins.startswith('jnz'):\n",
    "            _, r, v = ins.split()\n",
    "            if lookup(registers, r) != 0:\n",
    "                instruction_pointer += (lookup(registers, v) - 1)\n",
    "        elif ins.startswith('out'):\n",
    "            _, r = ins.split()\n",
    "            output.append(registers[r])\n",
    "        instruction_pointer += 1\n",
    "        if len(output) == maxout:\n",
    "            return output\n",
    "    raise ValueError()\n",
    "\n",
    "print(run_program({'a': 1, 'b': 0, 'c': 0, 'd': 0}, data)) # well that doesn't look like [0, 1]\n",
    "print(run_program({'a': 100, 'b': 0, 'c': 0, 'd': 0}, data)) # well that doesn't look like [0, 1]\n",
    "print(run_program({'a': 200, 'b': 0, 'c': 0, 'd': 0}, data)) # well that doesn't look like [0, 1]"
   ]
  },
  {
   "cell_type": "code",
   "execution_count": 52,
   "metadata": {},
   "outputs": [],
   "source": [
    "# Try brute force\n",
    "#for i in range(1000):\n",
    "#    output = run_program({'a': 1, 'b': 0, 'c': 0, 'd': 0}, data)\n",
    "#    if all(o == 1 for o in output[1::2]) and all(o == 0 for o in output[::2]):\n",
    "#        print(i)"
   ]
  },
  {
   "cell_type": "code",
   "execution_count": 53,
   "metadata": {},
   "outputs": [
    {
     "name": "stdout",
     "output_type": "stream",
     "text": [
      "{'a': 2655, 'b': 2655, 'c': 0, 'd': 2655} []\n",
      "{'a': 1327, 'b': 1327, 'c': 0, 'd': 2655} [1]\n",
      "--\n",
      "{'a': 2755, 'b': 2755, 'c': 0, 'd': 2755} []\n",
      "{'a': 1377, 'b': 1377, 'c': 0, 'd': 2755} [1]\n"
     ]
    }
   ],
   "source": [
    "# Brute force didn't really work, let's try something smarter...\n",
    "_ = run_program({'a': 100, 'b': 0, 'c': 0, 'd': 0}, data, debugins='cpy 0 a')\n",
    "print('--')\n",
    "_ = run_program({'a': 200, 'b': 0, 'c': 0, 'd': 0}, data, debugins='cpy 0 a')\n",
    "\n",
    "# From this, it becomes clear that at the cpy 0 a step, when we first reach it:\n",
    "# d = 2555 + input (incidentally, 2555 = 365*7, which explains where the 2555 comes from, looking at the program)\n"
   ]
  },
  {
   "cell_type": "code",
   "execution_count": 61,
   "metadata": {},
   "outputs": [
    {
     "name": "stdout",
     "output_type": "stream",
     "text": [
      "{'a': 1327, 'b': 0, 'c': 1, 'd': 2655} []\n",
      "{'a': 663, 'b': 0, 'c': 1, 'd': 2655} [1]\n",
      "--\n",
      "{'a': 1381, 'b': 0, 'c': 2, 'd': 2762} []\n",
      "{'a': 690, 'b': 0, 'c': 1, 'd': 2762} [0]\n",
      "2905\n"
     ]
    }
   ],
   "source": [
    "_ = run_program({'a': 100, 'b': 0, 'c': 0, 'd': 0}, data, debugins='cpy 2 b')\n",
    "print('--')\n",
    "_ = run_program({'a': 207, 'b': 0, 'c': 0, 'd': 0}, data, debugins='cpy 2 b')\n",
    "\n",
    "# At this stage, a is 2655//2, c is 2 if a is even, 1 if a is odd\n",
    "# The rest of the program:\n",
    "\n",
    "# cpy 2 b  - b = 2\n",
    "# jnz c 2  - initially always triggers since c = 1 or 2\n",
    "# jnz 1 4  - skips to jnz 0 0 if c is 0\n",
    "# dec b    - \n",
    "# dec c    - \n",
    "# jnz 1 -4 - skips back to jnz c 2\n",
    "# jnz 0 0  - -\n",
    "# out b    - b being 0 here, meaning c must have been 2 to begin with\n",
    "#          - b being 1 here, meaning c must have been 1 to begin with\n",
    "\n",
    "# Conclusion: we want c to be 2, then 1, then 2 again.\n",
    "# meaning we want a to be even, then odd, then even, ...\n",
    "# meaning that:\n",
    "# let d = 2555 + input\n",
    "# d // 2 must be even -> d in binary is xxxxx0x\n",
    "# (d // 2) // 2 must be odd -> d in binary is xxxx10x\n",
    "\n",
    "# 2555 in binary is 100111111011\n",
    "# we want it to be 1010101010100\n",
    "print(0b1010101010100 - 0b100111111011)\n",
    "assert format(2555 + 2905, 'b') == '1010101010100'"
   ]
  },
  {
   "cell_type": "code",
   "execution_count": 60,
   "metadata": {},
   "outputs": [
    {
     "name": "stdout",
     "output_type": "stream",
     "text": [
      "[0, 0, 1, 0, 1, 0, 1, 0, 1, 0, 1, 0, 1, 0, 0, 1, 0, 1, 0, 1]\n",
      "175\n"
     ]
    }
   ],
   "source": [
    "print(run_program({'a': 2905, 'b': 0, 'c': 0, 'd': 0}, data, maxout=20))\n",
    "# Ok this is really annoying... apparently we dont want it to end in 00 but just in 0\n",
    "# 2555 in binary is 100111111011\n",
    "# we want it to be  101010101010\n",
    "print(0b101010101010 - 0b100111111011)\n",
    "assert format(2555 + 175, 'b') == '101010101010'"
   ]
  },
  {
   "cell_type": "code",
   "execution_count": null,
   "metadata": {},
   "outputs": [
    {
     "name": "stdout",
     "output_type": "stream",
     "text": [
      "[0, 1, 0, 1, 0, 1, 0, 1, 0, 1, 0, 1, 0, 1, 0, 1, 0, 1, 0, 1]\n"
     ]
    }
   ],
   "source": [
    "print(run_program({'a': 175, 'b': 0, 'c': 0, 'd': 0}, data, maxout=20))\n",
    "# So the answer is 175\n",
    "# I'm not sure where I made the off by one error, but oh well, this works :D"
   ]
  }
 ],
 "metadata": {
  "kernelspec": {
   "display_name": ".venv",
   "language": "python",
   "name": "python3"
  },
  "language_info": {
   "codemirror_mode": {
    "name": "ipython",
    "version": 3
   },
   "file_extension": ".py",
   "mimetype": "text/x-python",
   "name": "python",
   "nbconvert_exporter": "python",
   "pygments_lexer": "ipython3",
   "version": "3.10.13"
  }
 },
 "nbformat": 4,
 "nbformat_minor": 2
}
