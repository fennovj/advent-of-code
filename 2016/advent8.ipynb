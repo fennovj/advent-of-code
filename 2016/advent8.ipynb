{
 "cells": [
  {
   "cell_type": "code",
   "execution_count": 6,
   "metadata": {},
   "outputs": [],
   "source": [
    "import advent\n",
    "import numpy as np\n",
    "advent.scrape(2016, 8)\n",
    "data = advent.get_lines(8)\n",
    "\n",
    "def rect(screen, a, b):\n",
    "    screen[:b, :a] = True\n",
    "\n",
    "def rotaterow(screen, rowix, n):\n",
    "    screen[rowix, :] = np.roll(screen[rowix, :], n)\n",
    "\n",
    "def rotatecol(screen, colix, n):\n",
    "    screen[:, colix] = np.roll(screen[:, colix], n)"
   ]
  },
  {
   "cell_type": "code",
   "execution_count": 8,
   "metadata": {},
   "outputs": [
    {
     "name": "stdout",
     "output_type": "stream",
     "text": [
      "115\n"
     ]
    }
   ],
   "source": [
    "# Part 1\n",
    "screen = np.zeros((6, 50), dtype=bool)\n",
    "for line in data:\n",
    "    if line.startswith('rect'):\n",
    "        a, b = line.split(' ')[1].split('x')\n",
    "        rect(screen, int(a), int(b))\n",
    "    elif line.startswith('rotate row'):\n",
    "        rowix = int(line.split(' ')[2][2:])\n",
    "        n = int(line.split(' ')[4])\n",
    "        rotaterow(screen, rowix, n)\n",
    "    elif line.startswith('rotate column'):\n",
    "        colix = int(line.split(' ')[2][2:])\n",
    "        n = int(line.split(' ')[4])\n",
    "        rotatecol(screen, colix, n)\n",
    "    else:\n",
    "        raise ValueError('Unknown instruction')\n",
    "print(np.sum(screen))"
   ]
  },
  {
   "cell_type": "code",
   "execution_count": 11,
   "metadata": {},
   "outputs": [
    {
     "name": "stdout",
     "output_type": "stream",
     "text": [
      "#### #### #### #   ##  # #### ###  ####  ###   ## \n",
      "#    #    #    #   ## #  #    #  # #      #     # \n",
      "###  ###  ###   # # ##   ###  #  # ###    #     # \n",
      "#    #    #      #  # #  #    ###  #      #     # \n",
      "#    #    #      #  # #  #    # #  #      #  #  # \n",
      "#### #    ####   #  #  # #    #  # #     ###  ##  \n"
     ]
    }
   ],
   "source": [
    "for i in range(6):\n",
    "    for j in range(50):\n",
    "        print('#' if screen[i, j] else ' ', end='')\n",
    "    print(end='\\n')"
   ]
  }
 ],
 "metadata": {
  "kernelspec": {
   "display_name": ".venv",
   "language": "python",
   "name": "python3"
  },
  "language_info": {
   "codemirror_mode": {
    "name": "ipython",
    "version": 3
   },
   "file_extension": ".py",
   "mimetype": "text/x-python",
   "name": "python",
   "nbconvert_exporter": "python",
   "pygments_lexer": "ipython3",
   "version": "3.10.11"
  }
 },
 "nbformat": 4,
 "nbformat_minor": 2
}
