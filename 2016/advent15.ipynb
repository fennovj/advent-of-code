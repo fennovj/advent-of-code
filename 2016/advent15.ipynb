{
 "cells": [
  {
   "cell_type": "code",
   "execution_count": 12,
   "metadata": {},
   "outputs": [],
   "source": [
    "import advent\n",
    "advent.scrape(2016, 15)\n",
    "data = [(17, 1), (7, 0), (19, 2), (5, 0), (3, 0), (13, 5)] # :)\n",
    "testdata = [(5, 4), (2, 1)]"
   ]
  },
  {
   "cell_type": "code",
   "execution_count": null,
   "metadata": {},
   "outputs": [],
   "source": [
    "# Part 1\n",
    "# I sense some Chinese remainder theorem coming up in part 2...\n",
    "# Let's try to be clever and solve part 1 'intelligently'\n",
    "# Test input (5, 4), (2, 1), and dropping at time t=n means:\n",
    "# n + 4 + 1 mod 5 = 0, n + 1 + 2 mod 2 = 0\n",
    "# where 4/1 are inputs, 1/2 are disc nrs, 5/2 are inputs\n",
    "\n",
    "# I copied the following cell directly from 2020, part 13\n",
    "from functools import reduce\n",
    "list_prod = lambda list: reduce(lambda x, y: x*y, list)\n",
    "\n",
    "def extended_gcd(a, b): \n",
    "    # Given two positive integers, output 3 numbers.\n",
    "    # The GCD, and numbers x, y such that a*x + b*y = 1\n",
    "    # Inspired by some pseudocode on stackexchange\n",
    "    if a == 0 : return b, 0, 1\n",
    "    gcd, x, y = extended_gcd(b % a, a) \n",
    "    x2 = y - (b // a) * x\n",
    "    return gcd, x2, x\n",
    "\n",
    "def chinese_remainder(alphas, modulos):\n",
    "    # Given list of (numbers) and (modulos), find x such that x % m_i == a_i\n",
    "    NN = list_prod(modulos)\n",
    "    result = 0\n",
    "    for a, n in zip(alphas, modulos):\n",
    "        N = NN // n\n",
    "        _, M, _ = extended_gcd(N, n)\n",
    "        result = (result + a*M*N) % NN\n",
    "    return result\n",
    "\n",
    "a = [0, -1, -4, -6, -7]\n",
    "m = [7, 13, 59, 31, 19]\n",
    "\n",
    "assert chinese_remainder(a, m) == 1068781  # Should be 1068781\n",
    "\n",
    "# Have to do negative numbers because adding this should equal 0...\n",
    "a = [-(4+1), -(1+2)]\n",
    "m = [5, 2]\n",
    "assert chinese_remainder(a, m) == 5 # from example 2016, day 15"
   ]
  },
  {
   "cell_type": "code",
   "execution_count": 27,
   "metadata": {},
   "outputs": [
    {
     "name": "stdout",
     "output_type": "stream",
     "text": [
      "317371\n"
     ]
    }
   ],
   "source": [
    "a = [-a[1]-i-1 for i, a in enumerate(data)]\n",
    "m = [a[0] for a in data]\n",
    "print(chinese_remainder(a, m))"
   ]
  },
  {
   "cell_type": "code",
   "execution_count": null,
   "metadata": {},
   "outputs": [
    {
     "name": "stdout",
     "output_type": "stream",
     "text": [
      "2080951\n"
     ]
    }
   ],
   "source": [
    "# Part 2\n",
    "# Not doing brute force paid off!\n",
    "a2, m2 = a.copy(), m.copy()\n",
    "a2.append(-7) # disk number 7, starts at position 0\n",
    "m2.append(11) # 11 positions\n",
    "\n",
    "print(chinese_remainder(a2, m2))\n"
   ]
  }
 ],
 "metadata": {
  "kernelspec": {
   "display_name": ".venv",
   "language": "python",
   "name": "python3"
  },
  "language_info": {
   "codemirror_mode": {
    "name": "ipython",
    "version": 3
   },
   "file_extension": ".py",
   "mimetype": "text/x-python",
   "name": "python",
   "nbconvert_exporter": "python",
   "pygments_lexer": "ipython3",
   "version": "3.10.11"
  }
 },
 "nbformat": 4,
 "nbformat_minor": 2
}
