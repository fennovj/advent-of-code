{
 "cells": [
  {
   "cell_type": "code",
   "execution_count": 35,
   "metadata": {},
   "outputs": [],
   "source": [
    "import advent\n",
    "\n",
    "advent.scrape(2016, 1)\n",
    "data = advent.get_lines(1)[0].split(', ')\n",
    "\n",
    "def rotright(offset):\n",
    "    return (offset[1], -offset[0])\n",
    "\n",
    "def rotleft(offset):\n",
    "    return (-offset[1], offset[0])\n",
    "\n",
    "def manhattan(coord):\n",
    "    return abs(coord[0]) + abs(coord[1])"
   ]
  },
  {
   "cell_type": "code",
   "execution_count": 36,
   "metadata": {},
   "outputs": [
    {
     "name": "stdout",
     "output_type": "stream",
     "text": [
      "262\n"
     ]
    }
   ],
   "source": [
    "position, offset = (0, 0), (0, 1)\n",
    "#data = ['R5', 'L5', 'R5', 'R3']\n",
    "for line in data:\n",
    "    rot, distance = line[0], int(line[1:])\n",
    "    if rot == 'R': offset = rotright(offset)\n",
    "    elif rot == 'L': offset = rotleft(offset)\n",
    "    else: raise ValueError(rot)\n",
    "    position = (position[0] + (distance * offset[0]), position[1] + (distance * offset[1]))\n",
    "\n",
    "print(manhattan(position))"
   ]
  },
  {
   "cell_type": "code",
   "execution_count": 40,
   "metadata": {},
   "outputs": [
    {
     "name": "stdout",
     "output_type": "stream",
     "text": [
      "131\n"
     ]
    }
   ],
   "source": [
    "visited = set([(0, 0)])\n",
    "position, offset = (0, 0), (0, 1)\n",
    "superbreak = False\n",
    "\n",
    "for line in data:\n",
    "    rot, distance = line[0], int(line[1:])\n",
    "    if rot == 'R': offset = rotright(offset)\n",
    "    elif rot == 'L': offset = rotleft(offset)\n",
    "    else: raise ValueError(rot)\n",
    "    for _ in range(distance):\n",
    "        position = (position[0] + offset[0], position[1] + offset[1])\n",
    "        if position in visited:\n",
    "            superbreak = True\n",
    "            break\n",
    "        visited.add(position)\n",
    "    if superbreak: break\n",
    "\n",
    "print(manhattan(position))"
   ]
  },
  {
   "cell_type": "code",
   "execution_count": 32,
   "metadata": {},
   "outputs": [],
   "source": [
    "# That was really tough for a day 1 :O"
   ]
  }
 ],
 "metadata": {
  "kernelspec": {
   "display_name": ".venv",
   "language": "python",
   "name": "python3"
  },
  "language_info": {
   "codemirror_mode": {
    "name": "ipython",
    "version": 3
   },
   "file_extension": ".py",
   "mimetype": "text/x-python",
   "name": "python",
   "nbconvert_exporter": "python",
   "pygments_lexer": "ipython3",
   "version": "3.10.13"
  }
 },
 "nbformat": 4,
 "nbformat_minor": 2
}
