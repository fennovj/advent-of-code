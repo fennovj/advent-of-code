{
 "cells": [
  {
   "cell_type": "code",
   "execution_count": null,
   "metadata": {},
   "outputs": [
    {
     "name": "stdout",
     "output_type": "stream",
     "text": [
      "move position 2 to position 6\n"
     ]
    }
   ],
   "source": [
    "import advent\n",
    "advent.scrape(2016, 21)\n",
    "data = advent.get_lines(21)\n",
    "print(data[0])"
   ]
  },
  {
   "cell_type": "code",
   "execution_count": null,
   "metadata": {},
   "outputs": [
    {
     "name": "stdout",
     "output_type": "stream",
     "text": [
      "dgfaehcb\n"
     ]
    }
   ],
   "source": [
    "def apply_instruction(text: list[str], ins: str):\n",
    "    if ins.startswith('move'):\n",
    "        from_, to = int(ins.split()[2]), int(ins.split()[5])\n",
    "        if from_ < to:\n",
    "            text = text[:(to+1)] + [text[from_]] + text[(to+1):]\n",
    "            del text[from_]\n",
    "        else:\n",
    "            text = text[:to] + [text[from_]] + text[to:]\n",
    "            del text[from_ + 1] # it was after the insertion\n",
    "    elif ins.startswith('swap position'):\n",
    "        from_, to = int(ins.split()[2]), int(ins.split()[5])\n",
    "        text[from_], text[to] = text[to], text[from_]\n",
    "    elif ins.startswith('swap letter'):\n",
    "        from_, to = ins.split()[2], ins.split()[5]\n",
    "        from_, to = text.index(from_), text.index(to)\n",
    "        text[from_], text[to] = text[to], text[from_]\n",
    "    elif ins.startswith('reverse'):\n",
    "        from_, to = int(ins.split()[2]), int(ins.split()[4])\n",
    "        text[from_:(to+1)] = text[from_:(to+1)][::-1]\n",
    "    elif ins.startswith('rotate right'):\n",
    "        steps = int(ins.split()[2]) % len(text)\n",
    "        text = text[-steps:] + text[:-steps]\n",
    "    elif ins.startswith('rotate left'):\n",
    "        steps = int(ins.split()[2]) % len(text)\n",
    "        text = text[steps:] + text[:steps]\n",
    "    elif ins.startswith('rotate based'):\n",
    "        steps = ins.split()[6]\n",
    "        ix = text.index(steps)\n",
    "        steps = (1 + ix + (1 if ix >= 4 else 0)) % len(text)\n",
    "        text = text[-steps:] + text[:-steps]\n",
    "    else:\n",
    "        raise ValueError(ins)\n",
    "    return text\n",
    "\n",
    "text = list('abcdefgh')\n",
    "for ins in data:\n",
    "    text= apply_instruction(text, ins)\n",
    "print(''.join(text))"
   ]
  },
  {
   "cell_type": "code",
   "execution_count": null,
   "metadata": {},
   "outputs": [
    {
     "name": "stdout",
     "output_type": "stream",
     "text": [
      "fdhgacbe\n"
     ]
    }
   ],
   "source": [
    "# Only tough one is rotate based on letter a\n",
    "# if input is length 8, rotate based on letter a, what matters is position of a\n",
    "# I just manually did it\n",
    "inverse_rot = dict([((i + i + 1 + (1 if i >= 4 else 0)) % 8, i) for i in range(8)])\n",
    "#print(inverse_rot)\n",
    "\n",
    "def reverse_instruction(text: list[str], instruction: str):\n",
    "    new_instruction = None\n",
    "    if ins.startswith('move'):\n",
    "        from_, to = int(ins.split()[2]), int(ins.split()[5])\n",
    "        new_instruction = f\"move position {to} to position {from_}\"\n",
    "    elif ins.startswith('swap position'):\n",
    "        new_instruction = instruction\n",
    "    elif ins.startswith('swap letter'):\n",
    "        new_instruction = instruction\n",
    "    elif ins.startswith('reverse'):\n",
    "        new_instruction = instruction\n",
    "    elif ins.startswith('rotate right'):\n",
    "        steps = int(ins.split()[2]) % len(text)\n",
    "        new_instruction = f\"rotate left {steps} steps\"\n",
    "    elif ins.startswith('rotate left'):\n",
    "        steps = int(ins.split()[2]) % len(text)\n",
    "        new_instruction = f\"rotate right {steps} steps\"\n",
    "    elif ins.startswith('rotate based'):\n",
    "        steps = ins.split()[6]\n",
    "        ix = text.index(steps)\n",
    "        to_reverse_ix = inverse_rot[ix] # ix has to go here\n",
    "        to_rotate = (to_reverse_ix - ix) % len(text)\n",
    "        new_instruction = f\"rotate right {to_rotate} steps\"\n",
    "    else:\n",
    "        raise ValueError(ins)\n",
    "    if new_instruction:\n",
    "        text = apply_instruction(text, new_instruction)\n",
    "    return text\n",
    "\n",
    "text = list('fbgdceah')\n",
    "for ins in data[::-1]:\n",
    "    text= reverse_instruction(text, ins)\n",
    "print(''.join(text))\n",
    "\n",
    "for ins in data:\n",
    "    text= apply_instruction(text, ins)\n",
    "assert ''.join(text) == 'fbgdceah'"
   ]
  },
  {
   "cell_type": "code",
   "execution_count": null,
   "metadata": {},
   "outputs": [
    {
     "name": "stdout",
     "output_type": "stream",
     "text": [
      "01234567\n",
      "abcdefgh\n",
      "move position 1 to position 2 -> acbdefgh\n",
      "move position 6 to position 4 -> abcdgefh\n",
      "swap letter f with letter e -> abcdfegh\n",
      "swap position 4 with position 0 -> ebcdafgh\n",
      "reverse positions 2 through 7 -> abhgfedc\n",
      "rotate left 6 steps -> ghabcdef\n",
      "rotate right 4 steps -> efghabcd\n",
      "rotate right 9 steps -> habcdefg\n",
      "rotate based on position of letter b -> ghabcdef\n",
      "rotate based on position of letter h -> habcdefg\n"
     ]
    }
   ],
   "source": [
    "# Just manually testing stuff by eye\n",
    "test = [\n",
    "    'move position 1 to position 2',\n",
    "    'move position 6 to position 4',\n",
    "    'swap letter f with letter e',\n",
    "    'swap position 4 with position 0',\n",
    "    'reverse positions 2 through 7',\n",
    "    'rotate left 6 steps',\n",
    "    'rotate right 4 steps',\n",
    "    'rotate right 9 steps',\n",
    "    'rotate based on position of letter b',\n",
    "    'rotate based on position of letter h'\n",
    "]\n",
    "print('01234567')\n",
    "print('abcdefgh')\n",
    "for ins in test:\n",
    "    print(ins, \"->\", ''.join(apply_instruction(list('abcdefgh'), ins)))"
   ]
  }
 ],
 "metadata": {
  "kernelspec": {
   "display_name": ".venv",
   "language": "python",
   "name": "python3"
  },
  "language_info": {
   "codemirror_mode": {
    "name": "ipython",
    "version": 3
   },
   "file_extension": ".py",
   "mimetype": "text/x-python",
   "name": "python",
   "nbconvert_exporter": "python",
   "pygments_lexer": "ipython3",
   "version": "3.10.11"
  }
 },
 "nbformat": 4,
 "nbformat_minor": 2
}
