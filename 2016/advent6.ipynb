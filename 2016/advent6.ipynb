{
 "cells": [
  {
   "cell_type": "code",
   "execution_count": 3,
   "metadata": {},
   "outputs": [],
   "source": [
    "import advent\n",
    "from collections import Counter\n",
    "advent.scrape(2016, 6, 'csv')\n",
    "data = advent.get_char_grid(6)"
   ]
  },
  {
   "cell_type": "code",
   "execution_count": 5,
   "metadata": {},
   "outputs": [
    {
     "name": "stdout",
     "output_type": "stream",
     "text": [
      "qqqluigu"
     ]
    }
   ],
   "source": [
    "for ix in range(data.shape[1]):\n",
    "    print(Counter(data[:, ix]).most_common(1)[0][0], end='')"
   ]
  },
  {
   "cell_type": "code",
   "execution_count": 6,
   "metadata": {},
   "outputs": [
    {
     "name": "stdout",
     "output_type": "stream",
     "text": [
      "lsoypmia"
     ]
    }
   ],
   "source": [
    "for ix in range(data.shape[1]):\n",
    "    print(Counter(data[:, ix]).most_common()[-1][0], end='')"
   ]
  }
 ],
 "metadata": {
  "kernelspec": {
   "display_name": ".venv",
   "language": "python",
   "name": "python3"
  },
  "language_info": {
   "codemirror_mode": {
    "name": "ipython",
    "version": 3
   },
   "file_extension": ".py",
   "mimetype": "text/x-python",
   "name": "python",
   "nbconvert_exporter": "python",
   "pygments_lexer": "ipython3",
   "version": "3.10.11"
  }
 },
 "nbformat": 4,
 "nbformat_minor": 2
}
