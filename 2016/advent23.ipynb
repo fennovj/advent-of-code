{
 "cells": [
  {
   "cell_type": "code",
   "execution_count": 22,
   "metadata": {},
   "outputs": [],
   "source": [
    "import advent\n",
    "advent.scrape(2016, 23)\n",
    "testdata = ['cpy 2 a', 'tgl a', 'tgl a', 'tgl a', 'cpy 1 a', 'dec a', 'dec a']"
   ]
  },
  {
   "cell_type": "code",
   "execution_count": 23,
   "metadata": {},
   "outputs": [],
   "source": [
    "def toggle(n, data):\n",
    "    if n < 0 or n >= len(data): return data# nothing happens\n",
    "    toggledict = {\n",
    "        'inc': 'dec', 'dec': 'inc', 'tgl': 'inc',\n",
    "        'jnz': 'cpy', 'cpy': 'jnz'\n",
    "    }\n",
    "    data[n] = toggledict[data[n][:3]] + data[n][3:]\n",
    "    return data"
   ]
  },
  {
   "cell_type": "code",
   "execution_count": 24,
   "metadata": {},
   "outputs": [
    {
     "name": "stdout",
     "output_type": "stream",
     "text": [
      "13685\n"
     ]
    }
   ],
   "source": [
    "# Copied from part 12\n",
    "\n",
    "data = advent.get_lines(23)\n",
    "registers = {'a': 7, 'b': 0, 'c': 0, 'd': 0}\n",
    "\n",
    "def lookup(v):\n",
    "    if v in ['a', 'b', 'c', 'd']: return registers[v]\n",
    "    return int(v)\n",
    "\n",
    "def run_program(registers: dict[str, int], data: list[str]):\n",
    "    instruction_pointer = 0\n",
    "    while instruction_pointer < len(data):\n",
    "        ins = data[instruction_pointer]\n",
    "        if ins.startswith('cpy'):\n",
    "            _, v, r = ins.split()\n",
    "            registers[r] = lookup(v)\n",
    "        elif ins.startswith('inc'):\n",
    "            _, r = ins.split()\n",
    "            registers[r] += 1\n",
    "        elif ins.startswith('dec'):\n",
    "            _, r = ins.split()\n",
    "            registers[r] -= 1\n",
    "        elif ins.startswith('jnz'):\n",
    "            _, r, v = ins.split()\n",
    "            if lookup(r) != 0:\n",
    "                instruction_pointer += (lookup(v) - 1)\n",
    "        elif ins.startswith('tgl'):\n",
    "            _, r = ins.split()\n",
    "            data = toggle(instruction_pointer+registers[r], data)\n",
    "        instruction_pointer += 1\n",
    "        #print(registers, instruction_pointer, data)\n",
    "    return registers['a']\n",
    "\n",
    "print(run_program(registers, data))"
   ]
  },
  {
   "cell_type": "code",
   "execution_count": 25,
   "metadata": {},
   "outputs": [
    {
     "ename": "KeyboardInterrupt",
     "evalue": "",
     "output_type": "error",
     "traceback": [
      "\u001b[0;31m---------------------------------------------------------------------------\u001b[0m",
      "\u001b[0;31mKeyboardInterrupt\u001b[0m                         Traceback (most recent call last)",
      "Cell \u001b[0;32mIn[25], line 4\u001b[0m\n\u001b[1;32m      1\u001b[0m data \u001b[38;5;241m=\u001b[39m advent\u001b[38;5;241m.\u001b[39mget_lines(\u001b[38;5;241m23\u001b[39m)\n\u001b[1;32m      2\u001b[0m registers \u001b[38;5;241m=\u001b[39m {\u001b[38;5;124m'\u001b[39m\u001b[38;5;124ma\u001b[39m\u001b[38;5;124m'\u001b[39m: \u001b[38;5;241m12\u001b[39m, \u001b[38;5;124m'\u001b[39m\u001b[38;5;124mb\u001b[39m\u001b[38;5;124m'\u001b[39m: \u001b[38;5;241m0\u001b[39m, \u001b[38;5;124m'\u001b[39m\u001b[38;5;124mc\u001b[39m\u001b[38;5;124m'\u001b[39m: \u001b[38;5;241m0\u001b[39m, \u001b[38;5;124m'\u001b[39m\u001b[38;5;124md\u001b[39m\u001b[38;5;124m'\u001b[39m: \u001b[38;5;241m0\u001b[39m}\n\u001b[0;32m----> 4\u001b[0m \u001b[38;5;28mprint\u001b[39m(\u001b[43mrun_program\u001b[49m\u001b[43m(\u001b[49m\u001b[43mregisters\u001b[49m\u001b[43m,\u001b[49m\u001b[43m \u001b[49m\u001b[43mdata\u001b[49m\u001b[43m)\u001b[49m)\n",
      "Cell \u001b[0;32mIn[24], line 26\u001b[0m, in \u001b[0;36mrun_program\u001b[0;34m(registers, data)\u001b[0m\n\u001b[1;32m     24\u001b[0m     _, r, v \u001b[38;5;241m=\u001b[39m ins\u001b[38;5;241m.\u001b[39msplit()\n\u001b[1;32m     25\u001b[0m     \u001b[38;5;28;01mif\u001b[39;00m lookup(r) \u001b[38;5;241m!=\u001b[39m \u001b[38;5;241m0\u001b[39m:\n\u001b[0;32m---> 26\u001b[0m         instruction_pointer \u001b[38;5;241m+\u001b[39m\u001b[38;5;241m=\u001b[39m (\u001b[43mlookup\u001b[49m\u001b[43m(\u001b[49m\u001b[43mv\u001b[49m\u001b[43m)\u001b[49m \u001b[38;5;241m-\u001b[39m \u001b[38;5;241m1\u001b[39m)\n\u001b[1;32m     27\u001b[0m \u001b[38;5;28;01melif\u001b[39;00m ins\u001b[38;5;241m.\u001b[39mstartswith(\u001b[38;5;124m'\u001b[39m\u001b[38;5;124mtgl\u001b[39m\u001b[38;5;124m'\u001b[39m):\n\u001b[1;32m     28\u001b[0m     _, r \u001b[38;5;241m=\u001b[39m ins\u001b[38;5;241m.\u001b[39msplit()\n",
      "Cell \u001b[0;32mIn[24], line 8\u001b[0m, in \u001b[0;36mlookup\u001b[0;34m(v)\u001b[0m\n\u001b[1;32m      6\u001b[0m \u001b[38;5;28;01mdef\u001b[39;00m \u001b[38;5;21mlookup\u001b[39m(v):\n\u001b[1;32m      7\u001b[0m     \u001b[38;5;28;01mif\u001b[39;00m v \u001b[38;5;129;01min\u001b[39;00m [\u001b[38;5;124m'\u001b[39m\u001b[38;5;124ma\u001b[39m\u001b[38;5;124m'\u001b[39m, \u001b[38;5;124m'\u001b[39m\u001b[38;5;124mb\u001b[39m\u001b[38;5;124m'\u001b[39m, \u001b[38;5;124m'\u001b[39m\u001b[38;5;124mc\u001b[39m\u001b[38;5;124m'\u001b[39m, \u001b[38;5;124m'\u001b[39m\u001b[38;5;124md\u001b[39m\u001b[38;5;124m'\u001b[39m]: \u001b[38;5;28;01mreturn\u001b[39;00m registers[v]\n\u001b[0;32m----> 8\u001b[0m     \u001b[38;5;28;01mreturn\u001b[39;00m \u001b[38;5;28;43mint\u001b[39;49m\u001b[43m(\u001b[49m\u001b[43mv\u001b[49m\u001b[43m)\u001b[49m\n",
      "\u001b[0;31mKeyboardInterrupt\u001b[0m: "
     ]
    }
   ],
   "source": [
    "\n",
    "data = advent.get_lines(23)\n",
    "registers = {'a': 12, 'b': 0, 'c': 0, 'd': 0}\n",
    "\n",
    "print(run_program(registers, data))"
   ]
  }
 ],
 "metadata": {
  "kernelspec": {
   "display_name": ".venv",
   "language": "python",
   "name": "python3"
  },
  "language_info": {
   "codemirror_mode": {
    "name": "ipython",
    "version": 3
   },
   "file_extension": ".py",
   "mimetype": "text/x-python",
   "name": "python",
   "nbconvert_exporter": "python",
   "pygments_lexer": "ipython3",
   "version": "3.10.11"
  }
 },
 "nbformat": 4,
 "nbformat_minor": 2
}
