{
 "cells": [
  {
   "cell_type": "code",
   "execution_count": 2,
   "metadata": {},
   "outputs": [],
   "source": [
    "import advent\n",
    "advent.scrape(2016, 23)\n",
    "testdata = ['cpy 2 a', 'tgl a', 'tgl a', 'tgl a', 'cpy 1 a', 'dec a', 'dec a']"
   ]
  },
  {
   "cell_type": "code",
   "execution_count": 3,
   "metadata": {},
   "outputs": [],
   "source": [
    "def toggle(n, data):\n",
    "    if n < 0 or n >= len(data): return data# nothing happens\n",
    "    toggledict = {\n",
    "        'inc': 'dec', 'dec': 'inc', 'tgl': 'inc',\n",
    "        'jnz': 'cpy', 'cpy': 'jnz'\n",
    "    }\n",
    "    data[n] = toggledict[data[n][:3]] + data[n][3:]\n",
    "    return data"
   ]
  },
  {
   "cell_type": "code",
   "execution_count": null,
   "metadata": {},
   "outputs": [],
   "source": [
    "# Copied from part 12\n",
    "def lookup(registers, v):\n",
    "    if v in ['a', 'b', 'c', 'd']: return registers[v]\n",
    "    return int(v)\n",
    "\n",
    "def run_program(registers: dict[str, int], data: list[str], debugtoggle = False):\n",
    "    instruction_pointer = 0\n",
    "    while instruction_pointer < len(data):\n",
    "        ins = data[instruction_pointer]\n",
    "        if debugtoggle and ins == 'tgl c':#'jnz c -5':\n",
    "            print(registers, data)\n",
    "        if ins.startswith('cpy'):\n",
    "            _, v, r = ins.split()\n",
    "            registers[r] = lookup(registers, v)\n",
    "        elif ins.startswith('inc'):\n",
    "            _, r = ins.split()\n",
    "            registers[r] += 1\n",
    "        elif ins.startswith('dec'):\n",
    "            _, r = ins.split()\n",
    "            registers[r] -= 1\n",
    "        elif ins.startswith('jnz'):\n",
    "            _, r, v = ins.split()\n",
    "            if lookup(registers, r) != 0:\n",
    "                instruction_pointer += (lookup(registers, v) - 1)\n",
    "        elif ins.startswith('tgl'):\n",
    "            _, r = ins.split()\n",
    "            data = toggle(instruction_pointer+registers[r], data)\n",
    "        instruction_pointer += 1\n",
    "        #print(registers, instruction_pointer, data)\n",
    "    return registers['a']\n",
    "\n"
   ]
  },
  {
   "cell_type": "code",
   "execution_count": 21,
   "metadata": {},
   "outputs": [
    {
     "name": "stdout",
     "output_type": "stream",
     "text": [
      "{'a': 7, 'b': 0, 'c': 0, 'd': 0} ['cpy a b', 'dec b', 'cpy a d', 'cpy 0 a', 'cpy b c', 'inc a', 'dec c', 'jnz c -2', 'dec d', 'jnz d -5', 'dec b', 'cpy b c', 'cpy c d', 'dec d', 'inc c', 'jnz d -2', 'tgl c', 'cpy -16 c', 'jnz 1 c', 'cpy 95 c', 'jnz 91 d', 'inc a', 'inc d', 'jnz d -2', 'inc c', 'jnz c -5']\n",
      "13685\n"
     ]
    }
   ],
   "source": [
    "registers = {'a': 7, 'b': 0, 'c': 0, 'd': 0}\n",
    "data = advent.get_lines(23)\n",
    "print(registers, data)\n",
    "print(run_program(registers, data, debugtoggle=False))"
   ]
  },
  {
   "cell_type": "code",
   "execution_count": null,
   "metadata": {},
   "outputs": [],
   "source": [
    "\n",
    "data = advent.get_lines(23)\n",
    "registers = {'a': 12, 'b': 0, 'c': 0, 'd': 0}\n",
    "\n",
    "print(run_program(registers, data, debugtoggle=True))\n",
    "\n",
    "# I had to manually cancel this since it kept running\n",
    "# This output:\n",
    "# {'a': 132, 'b': 10, 'c': 20, 'd': 0}\n",
    "# {'a': 1320, 'b': 9, 'c': 18, 'd': 0}\n",
    "# {'a': 11880, 'b': 8, 'c': 16, 'd': 0}\n",
    "# {'a': 95040, 'b': 7, 'c': 14, 'd': 0}\n",
    "# {'a': 665280, 'b': 6, 'c': 12, 'd': 0}\n",
    "# Where a[n+1] = a[n] * b[n]\n",
    "# This heavily implies that we will eventually reach\n",
    "# {'a': 132*10*9*8*7*6*5*4*3*2, 'b': 1, 'c': 2, 'd': 0}\n",
    "# And the toggled instructions will be those 2, 4, 6, 8 instructions after the tgl, leaving us with: (next cell)\n"
   ]
  },
  {
   "cell_type": "code",
   "execution_count": 23,
   "metadata": {},
   "outputs": [
    {
     "data": {
      "text/plain": [
       "479010245"
      ]
     },
     "execution_count": 23,
     "metadata": {},
     "output_type": "execute_result"
    }
   ],
   "source": [
    "\n",
    "final_program = ['cpy -16 c', 'cpy 1 c', 'cpy 95 c', 'cpy 91 d', 'inc a', 'dec d', 'jnz d -2', 'dec c', 'jnz c -5']\n",
    "final_registers = {'a': 132*10*9*8*7*6*5*4*3*2, 'b': 1, 'c': 2, 'd': 0}\n",
    "run_program(final_registers, final_program)"
   ]
  }
 ],
 "metadata": {
  "kernelspec": {
   "display_name": ".venv",
   "language": "python",
   "name": "python3"
  },
  "language_info": {
   "codemirror_mode": {
    "name": "ipython",
    "version": 3
   },
   "file_extension": ".py",
   "mimetype": "text/x-python",
   "name": "python",
   "nbconvert_exporter": "python",
   "pygments_lexer": "ipython3",
   "version": "3.10.13"
  }
 },
 "nbformat": 4,
 "nbformat_minor": 2
}
