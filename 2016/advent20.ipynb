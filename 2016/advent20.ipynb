{
 "cells": [
  {
   "cell_type": "code",
   "execution_count": 13,
   "metadata": {},
   "outputs": [],
   "source": [
    "import advent\n",
    "advent.scrape(2016, 20)\n",
    "data: list[tuple[int, int]] = advent.get_lines(20, map_fn=lambda l: (int(l.split('-')[0]), int(l.split('-')[1])))"
   ]
  },
  {
   "cell_type": "code",
   "execution_count": 14,
   "metadata": {},
   "outputs": [
    {
     "name": "stdout",
     "output_type": "stream",
     "text": [
      "31053880\n"
     ]
    }
   ],
   "source": [
    "def get_any_range_containing(data: list[tuple[int, int]], n: int):\n",
    "    for line in data:\n",
    "        if line[0] <= n <= line[1]: return line\n",
    "    return None\n",
    "\n",
    "n = 0\n",
    "while True:\n",
    "    line = get_any_range_containing(data, n)\n",
    "    if line is None: break\n",
    "    n = line[1] + 1\n",
    "print(n)"
   ]
  },
  {
   "cell_type": "code",
   "execution_count": 17,
   "metadata": {},
   "outputs": [
    {
     "name": "stdout",
     "output_type": "stream",
     "text": [
      "117\n"
     ]
    }
   ],
   "source": [
    "max_n = 4294967295\n",
    "\n",
    "def get_next_range_above(data: list[tuple[int, int]], n: int):\n",
    "    result = (max_n+1, max_n+1) # impossibly high range\n",
    "    for line in data:\n",
    "        if line[0] > n and line[0] < result[0]: result = line\n",
    "    return result\n",
    "\n",
    "n, result = 0, 0\n",
    "while n <= max_n:\n",
    "    line = get_any_range_containing(data, n)\n",
    "    if not line:\n",
    "        line = get_next_range_above(data, n)\n",
    "        result += line[0] - n\n",
    "    n = line[1] + 1\n",
    "print(result)"
   ]
  }
 ],
 "metadata": {
  "kernelspec": {
   "display_name": ".venv",
   "language": "python",
   "name": "python3"
  },
  "language_info": {
   "codemirror_mode": {
    "name": "ipython",
    "version": 3
   },
   "file_extension": ".py",
   "mimetype": "text/x-python",
   "name": "python",
   "nbconvert_exporter": "python",
   "pygments_lexer": "ipython3",
   "version": "3.10.11"
  }
 },
 "nbformat": 4,
 "nbformat_minor": 2
}
