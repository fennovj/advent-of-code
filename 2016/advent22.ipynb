{
 "cells": [
  {
   "cell_type": "code",
   "execution_count": 29,
   "metadata": {},
   "outputs": [
    {
     "name": "stdout",
     "output_type": "stream",
     "text": [
      "976\n"
     ]
    }
   ],
   "source": [
    "import advent\n",
    "advent.scrape(2016, 22)\n",
    "data = advent.get_lines(22)[2:]\n",
    "lines = []\n",
    "for line in data: # [data[0], data[488]]:\n",
    "    lines.append((\n",
    "        int(line[16:18].replace('-', '')),\n",
    "        int(line[19:21].replace('y', '')),\n",
    "        int(line[23:27]),\n",
    "        int(line[29:33]),\n",
    "        int(line[36:40]),\n",
    "\n",
    "    ))\n",
    "# x, y, total, used, free\n",
    "\n",
    "def viable(a, b):\n",
    "    if a[3] == 0: return False\n",
    "    if a[0] == b[0] and a[1] == b[1]: return False\n",
    "    return a[3] <= b[4]\n",
    "\n",
    "result = 0\n",
    "for i in range(len(lines)):\n",
    "    for j in range(len(lines)):\n",
    "        #print(i, j, viable(lines[i], lines[j]))\n",
    "        if viable(lines[i], lines[j]):\n",
    "            result += 1\n",
    "print(result)\n"
   ]
  },
  {
   "cell_type": "code",
   "execution_count": null,
   "metadata": {},
   "outputs": [],
   "source": [
    "from typing import Iterable\n",
    "from advent.maze import solve_maze\n",
    "# Well well well.\n",
    "# Let's try the usual brute force BFS/dijkstra storing the whole board as a node\n",
    "# The board itself is 37x27 and each position contains 3 numbers: used, avail, payload\n",
    "\n",
    "start_r = [(line[3], line[4], 0) for line in lines]\n",
    "start_r[972] = (start_r[972][0], start_r[972][1], 1)\n",
    "# payload data. 972 i just manually looked up but it's actually just (37-1) * 27\n",
    "\n",
    "# Now the trick (because I tried it without and it took too long):\n",
    "# There are only three types of nodes: normal (1, 0, x), empty (0, 1, x) and big (2, 0, x)\n",
    "start_s = []\n",
    "for s in start_r:\n",
    "    if s[1] > 50: start_s.append((0, 1, s[2])) # empty\n",
    "    elif s[0] > 100: start_s.append((2, 0, s[2])) # big \n",
    "    else: start_s.append((1, 0, s[2])) # normal\n",
    "\n",
    "Board = tuple[tuple[tuple[int, int, int], ...], ...]\n",
    "start: Board = tuple([\n",
    "    tuple(start_s[i:(i+27)])\n",
    "    for i in range(0, len(lines), 27)\n",
    "])\n"
   ]
  },
  {
   "cell_type": "code",
   "execution_count": 99,
   "metadata": {},
   "outputs": [],
   "source": [
    "tadd = lambda x, y: (x[0] + y[0], x[1] + y[1])\n",
    "\n",
    "def viable(a: tuple[int, int, int], b:tuple[int, int, int]):\n",
    "    return a[0] > 0 and a[0] <= b[1]\n",
    "\n",
    "def move(a: tuple[int, int, int], b:tuple[int, int, int]):\n",
    "    # Assumes its viable\n",
    "    return (0, a[0] + a[1], 0), (a[0] + b[0], b[1] - a[0], a[2] + b[2])\n",
    "\n",
    "def adj_coords(coord: tuple[int, int]) -> Iterable[tuple[int, int]]:\n",
    "    offsets = [(0, 1), (0, -1), (1, 0), (-1, 0)]\n",
    "    for offset in offsets:\n",
    "        new = tadd(coord, offset)\n",
    "        if new[0] > 0 and new[0] < 37 and new[1] > 0 and new[1] < 27:\n",
    "            yield new\n",
    "\n",
    "def adjacent(board: Board) -> Iterable[tuple[Board, int]]:\n",
    "    for i in range(37):\n",
    "        for j in range(27):\n",
    "            for coord in adj_coords((i, j)):\n",
    "                k, l = coord\n",
    "                if viable(board[i][j], board[k][l]):\n",
    "                    a, b = move(board[i][j], board[k][l])\n",
    "                    newboard = list([list(board[m]) for m in range(37)])\n",
    "                    newboard[i][j] = a\n",
    "                    newboard[k][l] = b\n",
    "                    #print(i, j, k, l)\n",
    "                    yield tuple([tuple(newboard[m]) for m in range(37)]), 1\n",
    "\n",
    "def is_target(board: Board):\n",
    "    return board[0][0][2] == 1\n"
   ]
  },
  {
   "cell_type": "code",
   "execution_count": 101,
   "metadata": {},
   "outputs": [
    {
     "data": {
      "application/vnd.jupyter.widget-view+json": {
       "model_id": "269db835ff3848b1af3b72690d146d91",
       "version_major": 2,
       "version_minor": 0
      },
      "text/plain": [
       "  0%|          | 0/1 [00:00<?, ?it/s]"
      ]
     },
     "metadata": {},
     "output_type": "display_data"
    },
    {
     "name": "stdout",
     "output_type": "stream",
     "text": [
      "40\n"
     ]
    }
   ],
   "source": [
    "# What makes this so hard is that due to the size it's basicaly impossible to check if adjacent is correct\n",
    "r = solve_maze(start, is_target, adjacent)\n",
    "print(r[0])"
   ]
  }
 ],
 "metadata": {
  "kernelspec": {
   "display_name": ".venv",
   "language": "python",
   "name": "python3"
  },
  "language_info": {
   "codemirror_mode": {
    "name": "ipython",
    "version": 3
   },
   "file_extension": ".py",
   "mimetype": "text/x-python",
   "name": "python",
   "nbconvert_exporter": "python",
   "pygments_lexer": "ipython3",
   "version": "3.10.11"
  }
 },
 "nbformat": 4,
 "nbformat_minor": 2
}
