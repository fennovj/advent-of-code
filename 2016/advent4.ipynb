{
 "cells": [
  {
   "cell_type": "code",
   "execution_count": null,
   "metadata": {},
   "outputs": [],
   "source": [
    "import advent\n",
    "from collections import Counter\n",
    "advent.scrape(2016, 4)\n",
    "data = advent.get_lines(4)\n"
   ]
  },
  {
   "cell_type": "code",
   "execution_count": 32,
   "metadata": {},
   "outputs": [
    {
     "name": "stdout",
     "output_type": "stream",
     "text": [
      "137896\n"
     ]
    }
   ],
   "source": [
    "def checksum(line):\n",
    "    checksum = line[-6:-1]\n",
    "    commons = Counter(line[:-11].replace('-', ''))\n",
    "    actual_checksum = ''.join(sorted(commons, key=lambda x: (-commons[x], x))[:5])\n",
    "    return actual_checksum == checksum\n",
    "\n",
    "result = 0\n",
    "for line in data:\n",
    "    sectorid = int(line[-10:-7])\n",
    "    if checksum(line): result += sectorid\n",
    "print(result)"
   ]
  },
  {
   "cell_type": "code",
   "execution_count": 42,
   "metadata": {},
   "outputs": [
    {
     "name": "stdout",
     "output_type": "stream",
     "text": [
      "501 northpole object storage\n"
     ]
    }
   ],
   "source": [
    "for line in data:\n",
    "    sectorid = int(line[-10:-7])\n",
    "    decrypted = [chr(((ord(c)-97+sectorid)%26)+97) if c != '-' else ' ' for c in line[:-11]]\n",
    "    if ''.join(decrypted).count('north'): print(sectorid, ''.join(decrypted))"
   ]
  }
 ],
 "metadata": {
  "kernelspec": {
   "display_name": ".venv",
   "language": "python",
   "name": "python3"
  },
  "language_info": {
   "codemirror_mode": {
    "name": "ipython",
    "version": 3
   },
   "file_extension": ".py",
   "mimetype": "text/x-python",
   "name": "python",
   "nbconvert_exporter": "python",
   "pygments_lexer": "ipython3",
   "version": "3.10.11"
  }
 },
 "nbformat": 4,
 "nbformat_minor": 2
}
