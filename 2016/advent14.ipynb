{
 "cells": [
  {
   "cell_type": "code",
   "execution_count": 34,
   "metadata": {},
   "outputs": [
    {
     "name": "stdout",
     "output_type": "stream",
     "text": [
      "8\n"
     ]
    }
   ],
   "source": [
    "import hashlib\n",
    "from functools import cache\n",
    "\n",
    "data = 'ihaygndm'\n",
    "#data = 'abc'\n",
    "\n",
    "def md5(data):\n",
    "    return hashlib.md5(data.encode()).hexdigest()\n",
    "\n",
    "@cache\n",
    "def gethash(i: int):\n",
    "    return md5(f\"{data}{i}\")\n",
    "\n",
    "def find_triplet(hash: str):\n",
    "    for i in range(len(hash) - 2):\n",
    "        if hash[i] == hash[i+1] == hash[i+2]:\n",
    "            return hash[i]\n",
    "    return None\n",
    "\n",
    "print(find_triplet('001238883212221'))"
   ]
  },
  {
   "cell_type": "code",
   "execution_count": 35,
   "metadata": {},
   "outputs": [
    {
     "name": "stdout",
     "output_type": "stream",
     "text": [
      "15035\n"
     ]
    }
   ],
   "source": [
    "keys_found, ix = 0, 0\n",
    "while keys_found < 64:\n",
    "    triplet = find_triplet(gethash(ix))\n",
    "    ix += 1\n",
    "    if not triplet: continue\n",
    "    for o in range(1000):\n",
    "        if (triplet * 5) in gethash(ix+o):\n",
    "            keys_found += 1\n",
    "            if keys_found == 64: print(ix-1)\n",
    "            break"
   ]
  },
  {
   "cell_type": "code",
   "execution_count": null,
   "metadata": {},
   "outputs": [
    {
     "name": "stdout",
     "output_type": "stream",
     "text": [
      "1.2.3.4.5.6.7.8.9.10.11.12.13.14.15.16.17.18.19.20.21.22.23.24.25.26.27.28.29.30.31.32.33.34.35.36.37.38.39.40.41.42.43.44.45.46.47.48.49.50.51.52.53.54.55.56.57.58.59.60.61.62.63.64.\n",
      "19968\n"
     ]
    }
   ],
   "source": [
    "@cache\n",
    "def getstretchedhash(i: int, times=2017):\n",
    "    hash = f\"{data}{i}\"\n",
    "    for _ in range(times):\n",
    "        hash = md5(hash)\n",
    "    return hash\n",
    "\n",
    "keys_found, ix = 0, 0\n",
    "while keys_found < 64:\n",
    "    triplet = find_triplet(getstretchedhash(ix))\n",
    "    ix += 1\n",
    "    if not triplet: continue\n",
    "    for o in range(1000):\n",
    "        if (triplet * 5) in getstretchedhash(ix+o):\n",
    "            keys_found += 1\n",
    "            #print(f\"{keys_found}.\", end=\"\") # To keep track of progress\n",
    "            if keys_found == 64: print(f\"\\n{ix-1}\")\n",
    "            break\n",
    "# Takes ~30 seconds"
   ]
  },
  {
   "cell_type": "code",
   "execution_count": null,
   "metadata": {},
   "outputs": [],
   "source": []
  }
 ],
 "metadata": {
  "kernelspec": {
   "display_name": ".venv",
   "language": "python",
   "name": "python3"
  },
  "language_info": {
   "codemirror_mode": {
    "name": "ipython",
    "version": 3
   },
   "file_extension": ".py",
   "mimetype": "text/x-python",
   "name": "python",
   "nbconvert_exporter": "python",
   "pygments_lexer": "ipython3",
   "version": "3.10.11"
  }
 },
 "nbformat": 4,
 "nbformat_minor": 2
}
