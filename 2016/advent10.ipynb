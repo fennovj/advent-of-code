{
 "cells": [
  {
   "cell_type": "code",
   "execution_count": 31,
   "metadata": {},
   "outputs": [],
   "source": [
    "import advent\n",
    "advent.scrape(2016, 10)\n",
    "data = advent.get_lines(10)\n",
    "\n",
    "parsed = []\n",
    "for line in data:\n",
    "    if line.startswith('bot'):\n",
    "        parsed.append(tuple(line.split()[i] for i in [1, 5, 6, 10, 11]))\n",
    "    else:\n",
    "        parsed.append(tuple(line.split()[i] for i in [1, 5]))\n",
    "\n",
    "def safe_add(d, key, value):\n",
    "    # Update in place\n",
    "    if key not in d: d[key] = [value]\n",
    "    else: d[key].append(value)"
   ]
  },
  {
   "cell_type": "code",
   "execution_count": 33,
   "metadata": {},
   "outputs": [
    {
     "name": "stdout",
     "output_type": "stream",
     "text": [
      "Part 1 answer: 86\n",
      "Part 2 answer: 22847\n"
     ]
    }
   ],
   "source": [
    "bots = {} # bot -> list of items or [] if its empty handed\n",
    "handled = set([])\n",
    "donepart1, donepart2 = False, False\n",
    "while not donepart1 or not donepart2:\n",
    "    for i, line in enumerate(parsed):\n",
    "        if i in handled: continue\n",
    "        if len(line) == 2:\n",
    "            safe_add(bots, f\"bot {line[1]}\", line[0])\n",
    "            handled.add(i)\n",
    "        botname = f\"bot {line[0]}\"\n",
    "        if botname not in bots or len(bots[botname]) < 2:\n",
    "            continue # can't handle this right now\n",
    "        assert len(bots[botname]) == 2\n",
    "        vals = [int(i) for i in bots[botname]]\n",
    "        m1, m2 = min(vals), max(vals)\n",
    "        if m1 == 17 and m2 == 61:\n",
    "            print(f\"Part 1 answer: {line[0]}\")\n",
    "            donepart1 = True\n",
    "        t1, t2 = f\"{line[1]} {line[2]}\", f\"{line[3]} {line[4]}\"\n",
    "        safe_add(bots, t1, m1)\n",
    "        safe_add(bots, t2, m2)\n",
    "        handled.add(i)\n",
    "    if 'output 0' in bots and 'output 1' in bots and 'output 2' in bots:\n",
    "        donepart2 = True\n",
    "        answer = bots['output 0'][0] * bots['output 1'][0] * bots['output 2'][0]\n",
    "        print(f\"Part 2 answer: {answer}\")"
   ]
  }
 ],
 "metadata": {
  "kernelspec": {
   "display_name": ".venv",
   "language": "python",
   "name": "python3"
  },
  "language_info": {
   "codemirror_mode": {
    "name": "ipython",
    "version": 3
   },
   "file_extension": ".py",
   "mimetype": "text/x-python",
   "name": "python",
   "nbconvert_exporter": "python",
   "pygments_lexer": "ipython3",
   "version": "3.10.11"
  }
 },
 "nbformat": 4,
 "nbformat_minor": 2
}
