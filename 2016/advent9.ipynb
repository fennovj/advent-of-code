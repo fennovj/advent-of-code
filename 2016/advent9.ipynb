{
 "cells": [
  {
   "cell_type": "code",
   "execution_count": 16,
   "metadata": {},
   "outputs": [],
   "source": [
    "import advent\n",
    "advent.scrape(2016, 9)\n",
    "data = advent.get_lines(9)[0]"
   ]
  },
  {
   "cell_type": "code",
   "execution_count": 17,
   "metadata": {},
   "outputs": [
    {
     "name": "stdout",
     "output_type": "stream",
     "text": [
      "115118\n"
     ]
    }
   ],
   "source": [
    "ix = 0\n",
    "uncompressed = ''\n",
    "while ix < len(data):\n",
    "    if data[ix] != '(':\n",
    "        uncompressed += data[ix]\n",
    "        ix += 1\n",
    "        continue\n",
    "    substr, times = int(data[ix+1:].split('x')[0]), int(data[ix+1:].split('x')[1].split(')')[0])\n",
    "    ix += len(str(substr)) + len(str(times)) + 3 # skip the (axb)\n",
    "    uncompressed += data[ix:(ix+substr)] * times\n",
    "    ix += substr # Skip the substring as well\n",
    "\n",
    "print(len(uncompressed))"
   ]
  },
  {
   "cell_type": "code",
   "execution_count": 19,
   "metadata": {},
   "outputs": [
    {
     "name": "stdout",
     "output_type": "stream",
     "text": [
      "11107527530\n"
     ]
    }
   ],
   "source": [
    "# Part 2\n",
    "# Lanternfish time!\n",
    "\n",
    "def uncompress(data):\n",
    "    if data.find('(') == -1: return len(data)\n",
    "    if not data.startswith('('):\n",
    "        i = data.index('(')\n",
    "        return i + uncompress(data[i:])\n",
    "    substr = int(data[1:].split('x', maxsplit=1)[0])\n",
    "    times = int(data[1:].split('x', maxsplit=1)[1].split(')', maxsplit=1)[0])\n",
    "    tocopy = data.split(')', maxsplit=1)[1][:substr]\n",
    "    rest = data.split(')', maxsplit=1)[1][substr:]\n",
    "    return times * uncompress(tocopy) + uncompress(rest)\n",
    "    \n",
    "print(uncompress(data))"
   ]
  }
 ],
 "metadata": {
  "kernelspec": {
   "display_name": ".venv",
   "language": "python",
   "name": "python3"
  },
  "language_info": {
   "codemirror_mode": {
    "name": "ipython",
    "version": 3
   },
   "file_extension": ".py",
   "mimetype": "text/x-python",
   "name": "python",
   "nbconvert_exporter": "python",
   "pygments_lexer": "ipython3",
   "version": "3.10.11"
  }
 },
 "nbformat": 4,
 "nbformat_minor": 2
}
