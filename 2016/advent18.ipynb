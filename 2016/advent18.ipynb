{
 "cells": [
  {
   "cell_type": "code",
   "execution_count": 23,
   "metadata": {},
   "outputs": [
    {
     "name": "stdout",
     "output_type": "stream",
     "text": [
      "1961\n"
     ]
    }
   ],
   "source": [
    "import advent\n",
    "advent.scrape(2016, 18)\n",
    "data = advent.get_lines(18)[0]\n",
    "\n",
    "def apply_pattern(data):\n",
    "    result = [\".\"] * len(data)\n",
    "    data = f\".{data}.\"\n",
    "    for i in range(1, len(data)-1):\n",
    "        #if (data[i-1] == '^' and data[i] == '^' and data[i+1] == '.') or \\\n",
    "        #   (data[i-1] == '.' and data[i] == '^' and data[i+1] == '^') or \\\n",
    "        #   (data[i-1] == '^' and data[i] == '.' and data[i+1] == '.') or \\\n",
    "        #   (data[i-1] == '.' and data[i] == '.' and data[i+1] == '^'):\n",
    "        #    result[i-1] = '^'\n",
    "        # Got a small hint on reddit saying the pattern was actually easier, which was pretty obvious\n",
    "        # After looking at the pattern\n",
    "        if data[i-1] != data[i+1]: result[i-1] = '^'\n",
    "    return \"\".join(result)\n",
    "\n",
    "result = 0\n",
    "for _ in range(40):\n",
    "    result += len([c for c in data if c == '.'])\n",
    "    data = apply_pattern(data)\n",
    "\n",
    "print(result)"
   ]
  },
  {
   "cell_type": "code",
   "execution_count": 32,
   "metadata": {},
   "outputs": [
    {
     "name": "stderr",
     "output_type": "stream",
     "text": [
      "100%|██████████| 400000/400000 [00:06<00:00, 59542.42it/s]"
     ]
    },
    {
     "name": "stdout",
     "output_type": "stream",
     "text": [
      "20000795\n"
     ]
    },
    {
     "name": "stderr",
     "output_type": "stream",
     "text": [
      "\n"
     ]
    }
   ],
   "source": [
    "from tqdm import tqdm\n",
    "data = advent.get_lines(18)[0]\n",
    "result = 0\n",
    "for _ in tqdm(range(400_000)):\n",
    "    result += len([c for c in data if c == '.'])\n",
    "    data = apply_pattern(data)\n",
    "#20002756 is wrong..\n",
    "print(result)"
   ]
  },
  {
   "cell_type": "code",
   "execution_count": null,
   "metadata": {},
   "outputs": [],
   "source": []
  }
 ],
 "metadata": {
  "kernelspec": {
   "display_name": ".venv",
   "language": "python",
   "name": "python3"
  },
  "language_info": {
   "codemirror_mode": {
    "name": "ipython",
    "version": 3
   },
   "file_extension": ".py",
   "mimetype": "text/x-python",
   "name": "python",
   "nbconvert_exporter": "python",
   "pygments_lexer": "ipython3",
   "version": "3.10.11"
  }
 },
 "nbformat": 4,
 "nbformat_minor": 2
}
